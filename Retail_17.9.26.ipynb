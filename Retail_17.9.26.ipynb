{
 "cells": [
  {
   "cell_type": "markdown",
   "metadata": {},
   "source": [
    "## Business Objective"
   ]
  },
  {
   "cell_type": "markdown",
   "metadata": {},
   "source": [
    "1. To understand the impact of markdowns to sales on a per SKU and per transaction/basket level;\n",
    "2. To understand if markdowns would impact overall store sales;\n",
    "3. To understand what products tend to respond to markdowns the most, and which ones don't; \n",
    "4. To understand cross-sell and up-sell opportunities.\n"
   ]
  },
  {
   "cell_type": "markdown",
   "metadata": {},
   "source": [
    "<br>"
   ]
  },
  {
   "cell_type": "markdown",
   "metadata": {},
   "source": [
    "## Process: \n",
    "- <a href='#1'>Look At Data First </a>\n",
    " - <a href='#1_1'>How the entire dateset is organized?</a>\n",
    " - <a href='#3'>Explore cases when Count=0</a>\n",
    " - <a href='#4'>Explore cases when Count=-1</a>\n",
    " - <a href='#1_2'>How many different behaviors we can observe within a transaction?</a>\n",
    "- <a href='#2'>Cleaning Dirty Data and Finding Outliers </a>\n",
    " - <a href='#6'>Create a column indicating whether a SKU is a regular return, orphan return</a> **(Check 'Return Types.ipynb')**\n",
    " - <a href='#7'>Check Missing Values</a>\n",
    " - <a href='#8'>Explore Anomalies</a>\n",
    "  - <a href='#81'>Calculate Discount Rate on a per transaction and per sku basis </a> **(Check 'Discount Rate.ipynb')**\n",
    " - <a href='#82'>Explore Outliers</a>\n",
    "- <a href='#80'>Exploratory Data Analysis</a>  **(Check 'EDA.ipynb')**\n",
    "- <a href='#90'>Actual Analysis </a>\n",
    " - <a href='#9'>1. What is the impact of markdowns to sales on a per transaction level? </a>\n",
    " - <a href='#110'>2. How promotion strategy impacts sales on a per store basis? </a>\n",
    " - <a href='#10'>3. If a product is discounted across different stores, how are you going to evaluate the promotion strategy?</a>\n",
    " - <a href='#11'>4. Can we find any cross-sell and up-sell opportunites?</a>\n",
    " - <a href='#12'>5. How about the time or day of promotion? Would that make a difference?</a>\n",
    " - <a href='#13'>6. Look at low end and high end products separately when evaluating promotion strategy</a>\n",
    " \n",
    " \n",
    "\n",
    "\n"
   ]
  },
  {
   "cell_type": "markdown",
   "metadata": {},
   "source": [
    "<br>"
   ]
  },
  {
   "cell_type": "markdown",
   "metadata": {},
   "source": [
    "## Look At Data First\t<a name='1' />\n"
   ]
  },
  {
   "cell_type": "code",
   "execution_count": 1,
   "metadata": {
    "collapsed": false
   },
   "outputs": [],
   "source": [
    "import pandas as pd\n",
    "from datetime import datetime"
   ]
  },
  {
   "cell_type": "code",
   "execution_count": 12,
   "metadata": {
    "collapsed": false
   },
   "outputs": [
    {
     "name": "stdout",
     "output_type": "stream",
     "text": [
      "0:00:01.360275\n"
     ]
    }
   ],
   "source": [
    "start_time = datetime.now()\n",
    "data = pd.read_csv('RetailerPromotionStrategy_data.csv')\n",
    "print datetime.now()-start_time"
   ]
  },
  {
   "cell_type": "code",
   "execution_count": 74,
   "metadata": {
    "collapsed": false
   },
   "outputs": [
    {
     "data": {
      "text/html": [
       "<div>\n",
       "<style>\n",
       "    .dataframe thead tr:only-child th {\n",
       "        text-align: right;\n",
       "    }\n",
       "\n",
       "    .dataframe thead th {\n",
       "        text-align: left;\n",
       "    }\n",
       "\n",
       "    .dataframe tbody tr th {\n",
       "        vertical-align: top;\n",
       "    }\n",
       "</style>\n",
       "<table border=\"1\" class=\"dataframe\">\n",
       "  <thead>\n",
       "    <tr style=\"text-align: right;\">\n",
       "      <th></th>\n",
       "      <th>StoreID</th>\n",
       "      <th>TransactionID</th>\n",
       "      <th>Line</th>\n",
       "      <th>Sales</th>\n",
       "      <th>Count</th>\n",
       "      <th>Date</th>\n",
       "      <th>SKU</th>\n",
       "    </tr>\n",
       "  </thead>\n",
       "  <tbody>\n",
       "    <tr>\n",
       "      <th>0</th>\n",
       "      <td>A29</td>\n",
       "      <td>11-7270-00007-00057</td>\n",
       "      <td>36</td>\n",
       "      <td>850.0</td>\n",
       "      <td>1.0</td>\n",
       "      <td>3/11/12 00:00</td>\n",
       "      <td>A21773</td>\n",
       "    </tr>\n",
       "    <tr>\n",
       "      <th>1</th>\n",
       "      <td>A29</td>\n",
       "      <td>11-7270-00007-00057</td>\n",
       "      <td>39</td>\n",
       "      <td>1500.0</td>\n",
       "      <td>1.0</td>\n",
       "      <td>3/11/12 00:00</td>\n",
       "      <td>A18009</td>\n",
       "    </tr>\n",
       "    <tr>\n",
       "      <th>2</th>\n",
       "      <td>A29</td>\n",
       "      <td>11-7270-00007-00057</td>\n",
       "      <td>40</td>\n",
       "      <td>1500.0</td>\n",
       "      <td>1.0</td>\n",
       "      <td>3/11/12 00:00</td>\n",
       "      <td>A25592</td>\n",
       "    </tr>\n",
       "    <tr>\n",
       "      <th>3</th>\n",
       "      <td>A29</td>\n",
       "      <td>11-7270-00007-00057</td>\n",
       "      <td>41</td>\n",
       "      <td>1600.0</td>\n",
       "      <td>1.0</td>\n",
       "      <td>3/11/12 00:00</td>\n",
       "      <td>A1449</td>\n",
       "    </tr>\n",
       "    <tr>\n",
       "      <th>4</th>\n",
       "      <td>A29</td>\n",
       "      <td>11-7270-00007-00057</td>\n",
       "      <td>42</td>\n",
       "      <td>1600.0</td>\n",
       "      <td>1.0</td>\n",
       "      <td>3/11/12 00:00</td>\n",
       "      <td>A1449</td>\n",
       "    </tr>\n",
       "  </tbody>\n",
       "</table>\n",
       "</div>"
      ],
      "text/plain": [
       "  StoreID        TransactionID  Line   Sales  Count           Date     SKU\n",
       "0     A29  11-7270-00007-00057    36   850.0    1.0  3/11/12 00:00  A21773\n",
       "1     A29  11-7270-00007-00057    39  1500.0    1.0  3/11/12 00:00  A18009\n",
       "2     A29  11-7270-00007-00057    40  1500.0    1.0  3/11/12 00:00  A25592\n",
       "3     A29  11-7270-00007-00057    41  1600.0    1.0  3/11/12 00:00   A1449\n",
       "4     A29  11-7270-00007-00057    42  1600.0    1.0  3/11/12 00:00   A1449"
      ]
     },
     "execution_count": 74,
     "metadata": {},
     "output_type": "execute_result"
    }
   ],
   "source": [
    "data.head()"
   ]
  },
  {
   "cell_type": "markdown",
   "metadata": {},
   "source": [
    "### How the entire dateset is organized? <a name='1_1' />"
   ]
  },
  {
   "cell_type": "code",
   "execution_count": 14,
   "metadata": {
    "collapsed": false
   },
   "outputs": [
    {
     "name": "stdout",
     "output_type": "stream",
     "text": [
      "Shape of dataset: (1041577, 8)\n",
      "Number of unique stores: 73\n",
      "Number of unique transactions: 192963\n",
      "Number of unique dates: 2\n",
      "Number of unique SKUs: 15179\n"
     ]
    }
   ],
   "source": [
    "print 'Shape of dataset: {0}'.format(data_type.shape)\n",
    "print 'Number of unique stores: {0}'.format(len(data_type.StoreID.unique()))\n",
    "print 'Number of unique transactions: {0}'.format(len(data_type.TransactionID.unique()))\n",
    "print 'Number of unique dates: {0}'.format(len(data_type.Date.unique()))\n",
    "print 'Number of unique SKUs: {0}'.format(len(data_type.SKU.unique()))"
   ]
  },
  {
   "cell_type": "markdown",
   "metadata": {},
   "source": [
    "- There are total 1M rows and 7 features in the dataset. \n",
    "- There are 73 unique stores, 15K unique SKUs, and 200K unique transactions.\n",
    "- The records are organized on a SKU level by each transaction within each store, for each day.\n"
   ]
  },
  {
   "cell_type": "markdown",
   "metadata": {},
   "source": [
    "### Explore cases when Count=0 <a name='3' />"
   ]
  },
  {
   "cell_type": "code",
   "execution_count": 42,
   "metadata": {
    "collapsed": false
   },
   "outputs": [
    {
     "data": {
      "text/html": [
       "<div>\n",
       "<style>\n",
       "    .dataframe thead tr:only-child th {\n",
       "        text-align: right;\n",
       "    }\n",
       "\n",
       "    .dataframe thead th {\n",
       "        text-align: left;\n",
       "    }\n",
       "\n",
       "    .dataframe tbody tr th {\n",
       "        vertical-align: top;\n",
       "    }\n",
       "</style>\n",
       "<table border=\"1\" class=\"dataframe\">\n",
       "  <thead>\n",
       "    <tr style=\"text-align: right;\">\n",
       "      <th></th>\n",
       "      <th>StoreID</th>\n",
       "      <th>TransactionID</th>\n",
       "      <th>Line</th>\n",
       "      <th>Sales</th>\n",
       "      <th>Count</th>\n",
       "      <th>Date</th>\n",
       "      <th>SKU</th>\n",
       "    </tr>\n",
       "  </thead>\n",
       "  <tbody>\n",
       "    <tr>\n",
       "      <th>12</th>\n",
       "      <td>A29</td>\n",
       "      <td>11-7270-00007-00057</td>\n",
       "      <td>63</td>\n",
       "      <td>-786.0</td>\n",
       "      <td>0.0</td>\n",
       "      <td>3/11/12 00:00</td>\n",
       "      <td>A256</td>\n",
       "    </tr>\n",
       "    <tr>\n",
       "      <th>14</th>\n",
       "      <td>A29</td>\n",
       "      <td>11-7270-00007-00057</td>\n",
       "      <td>65</td>\n",
       "      <td>-770.0</td>\n",
       "      <td>0.0</td>\n",
       "      <td>3/11/12 00:00</td>\n",
       "      <td>A8481</td>\n",
       "    </tr>\n",
       "    <tr>\n",
       "      <th>20</th>\n",
       "      <td>A29</td>\n",
       "      <td>11-7270-00007-00057</td>\n",
       "      <td>75</td>\n",
       "      <td>-500.0</td>\n",
       "      <td>0.0</td>\n",
       "      <td>3/11/12 00:00</td>\n",
       "      <td>A2341</td>\n",
       "    </tr>\n",
       "  </tbody>\n",
       "</table>\n",
       "</div>"
      ],
      "text/plain": [
       "   StoreID        TransactionID  Line  Sales  Count           Date    SKU\n",
       "12     A29  11-7270-00007-00057    63 -786.0    0.0  3/11/12 00:00   A256\n",
       "14     A29  11-7270-00007-00057    65 -770.0    0.0  3/11/12 00:00  A8481\n",
       "20     A29  11-7270-00007-00057    75 -500.0    0.0  3/11/12 00:00  A2341"
      ]
     },
     "execution_count": 42,
     "metadata": {},
     "output_type": "execute_result"
    }
   ],
   "source": [
    "data_count0 = data[data['Count']==0]\n",
    "\n",
    "data_count0.head(3)"
   ]
  },
  {
   "cell_type": "code",
   "execution_count": 24,
   "metadata": {
    "collapsed": false
   },
   "outputs": [
    {
     "data": {
      "text/html": [
       "<div>\n",
       "<style>\n",
       "    .dataframe thead tr:only-child th {\n",
       "        text-align: right;\n",
       "    }\n",
       "\n",
       "    .dataframe thead th {\n",
       "        text-align: left;\n",
       "    }\n",
       "\n",
       "    .dataframe tbody tr th {\n",
       "        vertical-align: top;\n",
       "    }\n",
       "</style>\n",
       "<table border=\"1\" class=\"dataframe\">\n",
       "  <thead>\n",
       "    <tr style=\"text-align: right;\">\n",
       "      <th></th>\n",
       "      <th>StoreID</th>\n",
       "      <th>TransactionID</th>\n",
       "      <th>Line</th>\n",
       "      <th>Sales</th>\n",
       "      <th>Count</th>\n",
       "      <th>Date</th>\n",
       "      <th>SKU</th>\n",
       "    </tr>\n",
       "  </thead>\n",
       "  <tbody>\n",
       "    <tr>\n",
       "      <th>11</th>\n",
       "      <td>A29</td>\n",
       "      <td>11-7270-00007-00057</td>\n",
       "      <td>62</td>\n",
       "      <td>2095.0</td>\n",
       "      <td>1.0</td>\n",
       "      <td>3/11/12 00:00</td>\n",
       "      <td>A256</td>\n",
       "    </tr>\n",
       "    <tr>\n",
       "      <th>12</th>\n",
       "      <td>A29</td>\n",
       "      <td>11-7270-00007-00057</td>\n",
       "      <td>63</td>\n",
       "      <td>-786.0</td>\n",
       "      <td>0.0</td>\n",
       "      <td>3/11/12 00:00</td>\n",
       "      <td>A256</td>\n",
       "    </tr>\n",
       "  </tbody>\n",
       "</table>\n",
       "</div>"
      ],
      "text/plain": [
       "   StoreID        TransactionID  Line   Sales  Count           Date   SKU\n",
       "11     A29  11-7270-00007-00057    62  2095.0    1.0  3/11/12 00:00  A256\n",
       "12     A29  11-7270-00007-00057    63  -786.0    0.0  3/11/12 00:00  A256"
      ]
     },
     "execution_count": 24,
     "metadata": {},
     "output_type": "execute_result"
    }
   ],
   "source": [
    "data.loc[(data['SKU']=='A256')&(data['TransactionID']=='11-7270-00007-00057')]"
   ]
  },
  {
   "cell_type": "markdown",
   "metadata": {},
   "source": [
    "When Count=0, it means it's a discount applied to the purchase"
   ]
  },
  {
   "cell_type": "code",
   "execution_count": 23,
   "metadata": {
    "collapsed": false
   },
   "outputs": [
    {
     "data": {
      "text/html": [
       "<div>\n",
       "<style>\n",
       "    .dataframe thead tr:only-child th {\n",
       "        text-align: right;\n",
       "    }\n",
       "\n",
       "    .dataframe thead th {\n",
       "        text-align: left;\n",
       "    }\n",
       "\n",
       "    .dataframe tbody tr th {\n",
       "        vertical-align: top;\n",
       "    }\n",
       "</style>\n",
       "<table border=\"1\" class=\"dataframe\">\n",
       "  <thead>\n",
       "    <tr style=\"text-align: right;\">\n",
       "      <th></th>\n",
       "      <th>StoreID</th>\n",
       "      <th>TransactionID</th>\n",
       "      <th>Line</th>\n",
       "      <th>Sales</th>\n",
       "      <th>Count</th>\n",
       "      <th>Date</th>\n",
       "      <th>SKU</th>\n",
       "    </tr>\n",
       "  </thead>\n",
       "  <tbody>\n",
       "    <tr>\n",
       "      <th>1161</th>\n",
       "      <td>A29</td>\n",
       "      <td>11-7270-00007-00110</td>\n",
       "      <td>29</td>\n",
       "      <td>845.0</td>\n",
       "      <td>0.0</td>\n",
       "      <td>3/11/12 00:00</td>\n",
       "      <td>A6007</td>\n",
       "    </tr>\n",
       "    <tr>\n",
       "      <th>1234</th>\n",
       "      <td>A29</td>\n",
       "      <td>11-7270-00007-00116</td>\n",
       "      <td>20</td>\n",
       "      <td>234.0</td>\n",
       "      <td>0.0</td>\n",
       "      <td>3/11/12 00:00</td>\n",
       "      <td>A2452</td>\n",
       "    </tr>\n",
       "    <tr>\n",
       "      <th>4065</th>\n",
       "      <td>A29</td>\n",
       "      <td>11-7270-00008-00358</td>\n",
       "      <td>6</td>\n",
       "      <td>670.0</td>\n",
       "      <td>0.0</td>\n",
       "      <td>3/11/12 00:00</td>\n",
       "      <td>A13774</td>\n",
       "    </tr>\n",
       "  </tbody>\n",
       "</table>\n",
       "</div>"
      ],
      "text/plain": [
       "     StoreID        TransactionID  Line  Sales  Count           Date     SKU\n",
       "1161     A29  11-7270-00007-00110    29  845.0    0.0  3/11/12 00:00   A6007\n",
       "1234     A29  11-7270-00007-00116    20  234.0    0.0  3/11/12 00:00   A2452\n",
       "4065     A29  11-7270-00008-00358     6  670.0    0.0  3/11/12 00:00  A13774"
      ]
     },
     "execution_count": 23,
     "metadata": {},
     "output_type": "execute_result"
    }
   ],
   "source": [
    "# Why there are rows where Count=0 but Sales>0?\n",
    "data.loc[(data['Count']==0)&(data['Sales']>0)].head(3)"
   ]
  },
  {
   "cell_type": "code",
   "execution_count": 22,
   "metadata": {
    "collapsed": false
   },
   "outputs": [
    {
     "data": {
      "text/html": [
       "<div>\n",
       "<style>\n",
       "    .dataframe thead tr:only-child th {\n",
       "        text-align: right;\n",
       "    }\n",
       "\n",
       "    .dataframe thead th {\n",
       "        text-align: left;\n",
       "    }\n",
       "\n",
       "    .dataframe tbody tr th {\n",
       "        vertical-align: top;\n",
       "    }\n",
       "</style>\n",
       "<table border=\"1\" class=\"dataframe\">\n",
       "  <thead>\n",
       "    <tr style=\"text-align: right;\">\n",
       "      <th></th>\n",
       "      <th>StoreID</th>\n",
       "      <th>TransactionID</th>\n",
       "      <th>Line</th>\n",
       "      <th>Sales</th>\n",
       "      <th>Count</th>\n",
       "      <th>Date</th>\n",
       "      <th>SKU</th>\n",
       "    </tr>\n",
       "  </thead>\n",
       "  <tbody>\n",
       "    <tr>\n",
       "      <th>1158</th>\n",
       "      <td>A29</td>\n",
       "      <td>11-7270-00007-00110</td>\n",
       "      <td>26</td>\n",
       "      <td>2195.0</td>\n",
       "      <td>1.0</td>\n",
       "      <td>3/11/12 00:00</td>\n",
       "      <td>A6007</td>\n",
       "    </tr>\n",
       "    <tr>\n",
       "      <th>1159</th>\n",
       "      <td>A29</td>\n",
       "      <td>11-7270-00007-00110</td>\n",
       "      <td>27</td>\n",
       "      <td>-845.0</td>\n",
       "      <td>0.0</td>\n",
       "      <td>3/11/12 00:00</td>\n",
       "      <td>A6007</td>\n",
       "    </tr>\n",
       "    <tr>\n",
       "      <th>1160</th>\n",
       "      <td>A29</td>\n",
       "      <td>11-7270-00007-00110</td>\n",
       "      <td>28</td>\n",
       "      <td>-2195.0</td>\n",
       "      <td>-1.0</td>\n",
       "      <td>3/11/12 00:00</td>\n",
       "      <td>A6007</td>\n",
       "    </tr>\n",
       "    <tr>\n",
       "      <th>1161</th>\n",
       "      <td>A29</td>\n",
       "      <td>11-7270-00007-00110</td>\n",
       "      <td>29</td>\n",
       "      <td>845.0</td>\n",
       "      <td>0.0</td>\n",
       "      <td>3/11/12 00:00</td>\n",
       "      <td>A6007</td>\n",
       "    </tr>\n",
       "  </tbody>\n",
       "</table>\n",
       "</div>"
      ],
      "text/plain": [
       "     StoreID        TransactionID  Line   Sales  Count           Date    SKU\n",
       "1158     A29  11-7270-00007-00110    26  2195.0    1.0  3/11/12 00:00  A6007\n",
       "1159     A29  11-7270-00007-00110    27  -845.0    0.0  3/11/12 00:00  A6007\n",
       "1160     A29  11-7270-00007-00110    28 -2195.0   -1.0  3/11/12 00:00  A6007\n",
       "1161     A29  11-7270-00007-00110    29   845.0    0.0  3/11/12 00:00  A6007"
      ]
     },
     "execution_count": 22,
     "metadata": {},
     "output_type": "execute_result"
    }
   ],
   "source": [
    "data[(data.TransactionID=='11-7270-00007-00110')&(data.SKU=='A6007')][4:]"
   ]
  },
  {
   "cell_type": "markdown",
   "metadata": {},
   "source": [
    "We know from the above table: The positive sales amount is basically the credit back to the store for the discount extended to the customer earlier."
   ]
  },
  {
   "cell_type": "markdown",
   "metadata": {},
   "source": [
    "### Explore cases when Count=-1 <a href='#4'>"
   ]
  },
  {
   "cell_type": "code",
   "execution_count": 66,
   "metadata": {
    "collapsed": false
   },
   "outputs": [
    {
     "data": {
      "text/html": [
       "<div>\n",
       "<style>\n",
       "    .dataframe thead tr:only-child th {\n",
       "        text-align: right;\n",
       "    }\n",
       "\n",
       "    .dataframe thead th {\n",
       "        text-align: left;\n",
       "    }\n",
       "\n",
       "    .dataframe tbody tr th {\n",
       "        vertical-align: top;\n",
       "    }\n",
       "</style>\n",
       "<table border=\"1\" class=\"dataframe\">\n",
       "  <thead>\n",
       "    <tr style=\"text-align: right;\">\n",
       "      <th></th>\n",
       "      <th>StoreID</th>\n",
       "      <th>TransactionID</th>\n",
       "      <th>Line</th>\n",
       "      <th>Sales</th>\n",
       "      <th>Count</th>\n",
       "      <th>Date</th>\n",
       "      <th>SKU</th>\n",
       "    </tr>\n",
       "  </thead>\n",
       "  <tbody>\n",
       "    <tr>\n",
       "      <th>100</th>\n",
       "      <td>A29</td>\n",
       "      <td>11-7270-00007-00066</td>\n",
       "      <td>5</td>\n",
       "      <td>-2013.000</td>\n",
       "      <td>-1.000</td>\n",
       "      <td>3/11/12 00:00</td>\n",
       "      <td>A2729</td>\n",
       "    </tr>\n",
       "    <tr>\n",
       "      <th>354</th>\n",
       "      <td>A19</td>\n",
       "      <td>11-7287-00025-00075</td>\n",
       "      <td>4</td>\n",
       "      <td>-1721.000</td>\n",
       "      <td>-1.000</td>\n",
       "      <td>3/11/12 00:00</td>\n",
       "      <td>A16911</td>\n",
       "    </tr>\n",
       "    <tr>\n",
       "      <th>446</th>\n",
       "      <td>A27</td>\n",
       "      <td>11-7069-00020-00010</td>\n",
       "      <td>6</td>\n",
       "      <td>-4252.000</td>\n",
       "      <td>-1.000</td>\n",
       "      <td>3/11/12 00:00</td>\n",
       "      <td>A7293</td>\n",
       "    </tr>\n",
       "    <tr>\n",
       "      <th>458</th>\n",
       "      <td>A29</td>\n",
       "      <td>11-7270-00007-00072</td>\n",
       "      <td>37</td>\n",
       "      <td>-2395.000</td>\n",
       "      <td>-1.000</td>\n",
       "      <td>3/11/12 00:00</td>\n",
       "      <td>A19365</td>\n",
       "    </tr>\n",
       "    <tr>\n",
       "      <th>622</th>\n",
       "      <td>A29</td>\n",
       "      <td>11-7270-00007-00089</td>\n",
       "      <td>19</td>\n",
       "      <td>-3995.000</td>\n",
       "      <td>-1.000</td>\n",
       "      <td>3/11/12 00:00</td>\n",
       "      <td>A21166</td>\n",
       "    </tr>\n",
       "  </tbody>\n",
       "</table>\n",
       "</div>"
      ],
      "text/plain": [
       "    StoreID        TransactionID  Line     Sales  Count           Date     SKU\n",
       "100     A29  11-7270-00007-00066     5 -2013.000 -1.000  3/11/12 00:00   A2729\n",
       "354     A19  11-7287-00025-00075     4 -1721.000 -1.000  3/11/12 00:00  A16911\n",
       "446     A27  11-7069-00020-00010     6 -4252.000 -1.000  3/11/12 00:00   A7293\n",
       "458     A29  11-7270-00007-00072    37 -2395.000 -1.000  3/11/12 00:00  A19365\n",
       "622     A29  11-7270-00007-00089    19 -3995.000 -1.000  3/11/12 00:00  A21166"
      ]
     },
     "execution_count": 66,
     "metadata": {},
     "output_type": "execute_result"
    }
   ],
   "source": [
    "# Count=-1\n",
    "data.loc[data['Count']==-1].head()"
   ]
  },
  {
   "cell_type": "code",
   "execution_count": 19,
   "metadata": {
    "collapsed": true
   },
   "outputs": [],
   "source": [
    "from pandasql import sqldf\n",
    "pysqldf = lambda q: sqldf(q, globals())"
   ]
  },
  {
   "cell_type": "code",
   "execution_count": 26,
   "metadata": {
    "collapsed": false
   },
   "outputs": [],
   "source": [
    "q = '''\n",
    "    select\n",
    "        d1.StoreID, d1.TransactionID, d1.Line, d1.Sales, d1.Count, d1.Date, d1.SKU\n",
    "    from \n",
    "        data d1\n",
    "    inner join\n",
    "        (select \n",
    "            TransactionID, SKU\n",
    "        from\n",
    "            data\n",
    "        where Count=-1) as d2\n",
    "    on \n",
    "        d1.TransactionID = d2.TransactionID and\n",
    "        d1.SKU = d2.SKU\n",
    "    '''\n",
    "data2 = pysqldf(q)"
   ]
  },
  {
   "cell_type": "code",
   "execution_count": 27,
   "metadata": {
    "collapsed": false
   },
   "outputs": [
    {
     "data": {
      "text/html": [
       "<div>\n",
       "<style>\n",
       "    .dataframe thead tr:only-child th {\n",
       "        text-align: right;\n",
       "    }\n",
       "\n",
       "    .dataframe thead th {\n",
       "        text-align: left;\n",
       "    }\n",
       "\n",
       "    .dataframe tbody tr th {\n",
       "        vertical-align: top;\n",
       "    }\n",
       "</style>\n",
       "<table border=\"1\" class=\"dataframe\">\n",
       "  <thead>\n",
       "    <tr style=\"text-align: right;\">\n",
       "      <th></th>\n",
       "      <th>StoreID</th>\n",
       "      <th>TransactionID</th>\n",
       "      <th>Line</th>\n",
       "      <th>Sales</th>\n",
       "      <th>Count</th>\n",
       "      <th>Date</th>\n",
       "      <th>SKU</th>\n",
       "    </tr>\n",
       "  </thead>\n",
       "  <tbody>\n",
       "    <tr>\n",
       "      <th>0</th>\n",
       "      <td>A29</td>\n",
       "      <td>11-7270-00007-00066</td>\n",
       "      <td>3</td>\n",
       "      <td>2013.0</td>\n",
       "      <td>1.0</td>\n",
       "      <td>3/11/12 00:00</td>\n",
       "      <td>A2729</td>\n",
       "    </tr>\n",
       "    <tr>\n",
       "      <th>1</th>\n",
       "      <td>A29</td>\n",
       "      <td>11-7270-00007-00066</td>\n",
       "      <td>4</td>\n",
       "      <td>2013.0</td>\n",
       "      <td>1.0</td>\n",
       "      <td>3/11/12 00:00</td>\n",
       "      <td>A2729</td>\n",
       "    </tr>\n",
       "    <tr>\n",
       "      <th>2</th>\n",
       "      <td>A29</td>\n",
       "      <td>11-7270-00007-00066</td>\n",
       "      <td>5</td>\n",
       "      <td>-2013.0</td>\n",
       "      <td>-1.0</td>\n",
       "      <td>3/11/12 00:00</td>\n",
       "      <td>A2729</td>\n",
       "    </tr>\n",
       "    <tr>\n",
       "      <th>3</th>\n",
       "      <td>A19</td>\n",
       "      <td>11-7287-00025-00075</td>\n",
       "      <td>3</td>\n",
       "      <td>1721.0</td>\n",
       "      <td>1.0</td>\n",
       "      <td>3/11/12 00:00</td>\n",
       "      <td>A16911</td>\n",
       "    </tr>\n",
       "    <tr>\n",
       "      <th>4</th>\n",
       "      <td>A19</td>\n",
       "      <td>11-7287-00025-00075</td>\n",
       "      <td>4</td>\n",
       "      <td>-1721.0</td>\n",
       "      <td>-1.0</td>\n",
       "      <td>3/11/12 00:00</td>\n",
       "      <td>A16911</td>\n",
       "    </tr>\n",
       "    <tr>\n",
       "      <th>5</th>\n",
       "      <td>A27</td>\n",
       "      <td>11-7069-00020-00010</td>\n",
       "      <td>1</td>\n",
       "      <td>4252.0</td>\n",
       "      <td>1.0</td>\n",
       "      <td>3/11/12 00:00</td>\n",
       "      <td>A7293</td>\n",
       "    </tr>\n",
       "    <tr>\n",
       "      <th>6</th>\n",
       "      <td>A27</td>\n",
       "      <td>11-7069-00020-00010</td>\n",
       "      <td>6</td>\n",
       "      <td>-4252.0</td>\n",
       "      <td>-1.0</td>\n",
       "      <td>3/11/12 00:00</td>\n",
       "      <td>A7293</td>\n",
       "    </tr>\n",
       "    <tr>\n",
       "      <th>7</th>\n",
       "      <td>A29</td>\n",
       "      <td>11-7270-00007-00072</td>\n",
       "      <td>33</td>\n",
       "      <td>2395.0</td>\n",
       "      <td>1.0</td>\n",
       "      <td>3/11/12 00:00</td>\n",
       "      <td>A19365</td>\n",
       "    </tr>\n",
       "    <tr>\n",
       "      <th>8</th>\n",
       "      <td>A29</td>\n",
       "      <td>11-7270-00007-00072</td>\n",
       "      <td>35</td>\n",
       "      <td>2395.0</td>\n",
       "      <td>1.0</td>\n",
       "      <td>3/11/12 00:00</td>\n",
       "      <td>A19365</td>\n",
       "    </tr>\n",
       "    <tr>\n",
       "      <th>9</th>\n",
       "      <td>A29</td>\n",
       "      <td>11-7270-00007-00072</td>\n",
       "      <td>36</td>\n",
       "      <td>2395.0</td>\n",
       "      <td>1.0</td>\n",
       "      <td>3/11/12 00:00</td>\n",
       "      <td>A19365</td>\n",
       "    </tr>\n",
       "  </tbody>\n",
       "</table>\n",
       "</div>"
      ],
      "text/plain": [
       "  StoreID        TransactionID  Line   Sales  Count           Date     SKU\n",
       "0     A29  11-7270-00007-00066     3  2013.0    1.0  3/11/12 00:00   A2729\n",
       "1     A29  11-7270-00007-00066     4  2013.0    1.0  3/11/12 00:00   A2729\n",
       "2     A29  11-7270-00007-00066     5 -2013.0   -1.0  3/11/12 00:00   A2729\n",
       "3     A19  11-7287-00025-00075     3  1721.0    1.0  3/11/12 00:00  A16911\n",
       "4     A19  11-7287-00025-00075     4 -1721.0   -1.0  3/11/12 00:00  A16911\n",
       "5     A27  11-7069-00020-00010     1  4252.0    1.0  3/11/12 00:00   A7293\n",
       "6     A27  11-7069-00020-00010     6 -4252.0   -1.0  3/11/12 00:00   A7293\n",
       "7     A29  11-7270-00007-00072    33  2395.0    1.0  3/11/12 00:00  A19365\n",
       "8     A29  11-7270-00007-00072    35  2395.0    1.0  3/11/12 00:00  A19365\n",
       "9     A29  11-7270-00007-00072    36  2395.0    1.0  3/11/12 00:00  A19365"
      ]
     },
     "execution_count": 27,
     "metadata": {},
     "output_type": "execute_result"
    }
   ],
   "source": [
    "data2.head(10)"
   ]
  },
  {
   "cell_type": "markdown",
   "metadata": {},
   "source": [
    "We can see from the table, ‘count=-1’ means the customer returned the item just bought or it could be a promotion strategy like buy 1 get 1 free. In this analysis, I treated it as a return.\n"
   ]
  },
  {
   "cell_type": "markdown",
   "metadata": {},
   "source": [
    "### How many different behaviors we can observe within a transaction? <a name='1_2'>"
   ]
  },
  {
   "cell_type": "markdown",
   "metadata": {},
   "source": [
    "There are 4 types of the transaction:\n",
    "1. Purchase item(s) at the regular price;   \n",
    "2. Purchase item(s) at a discount;   \n",
    "3. Return item(s) that were purchased within the same transaction \n",
    "4. Return item(s) that were purchased from a prior transaction.\n",
    "\n",
    "\n"
   ]
  },
  {
   "cell_type": "markdown",
   "metadata": {},
   "source": [
    "<br><br>"
   ]
  },
  {
   "cell_type": "markdown",
   "metadata": {},
   "source": [
    "## Cleaning Dirty Data and Finding Outliers <a name='2'/>"
   ]
  },
  {
   "cell_type": "markdown",
   "metadata": {},
   "source": [
    "### Create a column indicating whether a SKU is a regular return, orphan return<a name='6' />"
   ]
  },
  {
   "cell_type": "markdown",
   "metadata": {},
   "source": [
    "Please **check 'Return Types.ipynb'** to see how I sorted out regular returns and orphan returns. And then I create a new column next to the raw dataset and indicate whether a SKU is a regular return, orphan return, regular return credit back, or orphan return credit back. This will allow us to easily manipulate the records on a row level, SKU level, or transaction level, depending on what our analysis needs are. For example, everytime, when there is an orphan return, we simply exclude them when calculating sales per transaction. If it is a regular return, we leave them be as they will cancel each other out.\n"
   ]
  },
  {
   "cell_type": "markdown",
   "metadata": {},
   "source": [
    "**Description**\n",
    "1. When Sales is negative and Count=0, then it's a discount.\n",
    "2. When Sales is negative, Count is negative, and there are matching purchase within the same transaction, then it's a regular return.\n",
    "3. When Sales is negative, Count is negative, and there are no matching purchase within the same transaction, then it's an orphan return.\n",
    "4. When Sales is positve and Count=0, then it's part of return of a credit back to this store of a discounted item\n"
   ]
  },
  {
   "cell_type": "code",
   "execution_count": 29,
   "metadata": {
    "collapsed": false
   },
   "outputs": [],
   "source": [
    "data_type = pd.read_csv('type.csv')\n",
    "data_type.fillna('',inplace=True)"
   ]
  },
  {
   "cell_type": "code",
   "execution_count": 302,
   "metadata": {
    "collapsed": false
   },
   "outputs": [
    {
     "data": {
      "text/plain": [
       "(1048575, 8)"
      ]
     },
     "execution_count": 302,
     "metadata": {},
     "output_type": "execute_result"
    }
   ],
   "source": [
    "data_type.shape"
   ]
  },
  {
   "cell_type": "code",
   "execution_count": 303,
   "metadata": {
    "collapsed": false
   },
   "outputs": [
    {
     "data": {
      "text/html": [
       "<div>\n",
       "<style>\n",
       "    .dataframe thead tr:only-child th {\n",
       "        text-align: right;\n",
       "    }\n",
       "\n",
       "    .dataframe thead th {\n",
       "        text-align: left;\n",
       "    }\n",
       "\n",
       "    .dataframe tbody tr th {\n",
       "        vertical-align: top;\n",
       "    }\n",
       "</style>\n",
       "<table border=\"1\" class=\"dataframe\">\n",
       "  <thead>\n",
       "    <tr style=\"text-align: right;\">\n",
       "      <th></th>\n",
       "      <th>StoreID</th>\n",
       "      <th>TransactionID</th>\n",
       "      <th>Line</th>\n",
       "      <th>Sales</th>\n",
       "      <th>Count</th>\n",
       "      <th>Date</th>\n",
       "      <th>SKU</th>\n",
       "      <th>Type</th>\n",
       "    </tr>\n",
       "  </thead>\n",
       "  <tbody>\n",
       "    <tr>\n",
       "      <th>97</th>\n",
       "      <td>A29</td>\n",
       "      <td>11-7270-00007-00066</td>\n",
       "      <td>1</td>\n",
       "      <td>300.000</td>\n",
       "      <td>1.000</td>\n",
       "      <td>3/11/12 00:00</td>\n",
       "      <td>A21771</td>\n",
       "      <td></td>\n",
       "    </tr>\n",
       "    <tr>\n",
       "      <th>98</th>\n",
       "      <td>A29</td>\n",
       "      <td>11-7270-00007-00066</td>\n",
       "      <td>3</td>\n",
       "      <td>2013.000</td>\n",
       "      <td>1.000</td>\n",
       "      <td>3/11/12 00:00</td>\n",
       "      <td>A2729</td>\n",
       "      <td></td>\n",
       "    </tr>\n",
       "    <tr>\n",
       "      <th>99</th>\n",
       "      <td>A29</td>\n",
       "      <td>11-7270-00007-00066</td>\n",
       "      <td>4</td>\n",
       "      <td>2013.000</td>\n",
       "      <td>1.000</td>\n",
       "      <td>3/11/12 00:00</td>\n",
       "      <td>A2729</td>\n",
       "      <td></td>\n",
       "    </tr>\n",
       "    <tr>\n",
       "      <th>100</th>\n",
       "      <td>A29</td>\n",
       "      <td>11-7270-00007-00066</td>\n",
       "      <td>5</td>\n",
       "      <td>-2013.000</td>\n",
       "      <td>-1.000</td>\n",
       "      <td>3/11/12 00:00</td>\n",
       "      <td>A2729</td>\n",
       "      <td>Regular_Return</td>\n",
       "    </tr>\n",
       "  </tbody>\n",
       "</table>\n",
       "</div>"
      ],
      "text/plain": [
       "    StoreID        TransactionID  Line     Sales  Count           Date  \\\n",
       "97      A29  11-7270-00007-00066     1   300.000  1.000  3/11/12 00:00   \n",
       "98      A29  11-7270-00007-00066     3  2013.000  1.000  3/11/12 00:00   \n",
       "99      A29  11-7270-00007-00066     4  2013.000  1.000  3/11/12 00:00   \n",
       "100     A29  11-7270-00007-00066     5 -2013.000 -1.000  3/11/12 00:00   \n",
       "\n",
       "        SKU            Type  \n",
       "97   A21771                  \n",
       "98    A2729                  \n",
       "99    A2729                  \n",
       "100   A2729  Regular_Return  "
      ]
     },
     "execution_count": 303,
     "metadata": {},
     "output_type": "execute_result"
    }
   ],
   "source": [
    "data_type[data_type.TransactionID=='11-7270-00007-00066'][:4]"
   ]
  },
  {
   "cell_type": "code",
   "execution_count": 304,
   "metadata": {
    "collapsed": false
   },
   "outputs": [
    {
     "data": {
      "text/html": [
       "<div>\n",
       "<style>\n",
       "    .dataframe thead tr:only-child th {\n",
       "        text-align: right;\n",
       "    }\n",
       "\n",
       "    .dataframe thead th {\n",
       "        text-align: left;\n",
       "    }\n",
       "\n",
       "    .dataframe tbody tr th {\n",
       "        vertical-align: top;\n",
       "    }\n",
       "</style>\n",
       "<table border=\"1\" class=\"dataframe\">\n",
       "  <thead>\n",
       "    <tr style=\"text-align: right;\">\n",
       "      <th></th>\n",
       "      <th>StoreID</th>\n",
       "      <th>TransactionID</th>\n",
       "      <th>Line</th>\n",
       "      <th>Sales</th>\n",
       "      <th>Count</th>\n",
       "      <th>Date</th>\n",
       "      <th>SKU</th>\n",
       "      <th>Type</th>\n",
       "    </tr>\n",
       "  </thead>\n",
       "  <tbody>\n",
       "    <tr>\n",
       "      <th>5035</th>\n",
       "      <td>A29</td>\n",
       "      <td>11-7270-00012-00154</td>\n",
       "      <td>2</td>\n",
       "      <td>-17475.000</td>\n",
       "      <td>-5.000</td>\n",
       "      <td>3/11/12 00:00</td>\n",
       "      <td>A6386</td>\n",
       "      <td>Orphan_Return</td>\n",
       "    </tr>\n",
       "    <tr>\n",
       "      <th>5036</th>\n",
       "      <td>A29</td>\n",
       "      <td>11-7270-00012-00154</td>\n",
       "      <td>3</td>\n",
       "      <td>10000.000</td>\n",
       "      <td>5.000</td>\n",
       "      <td>3/11/12 00:00</td>\n",
       "      <td>A6386</td>\n",
       "      <td></td>\n",
       "    </tr>\n",
       "  </tbody>\n",
       "</table>\n",
       "</div>"
      ],
      "text/plain": [
       "     StoreID        TransactionID  Line      Sales  Count           Date  \\\n",
       "5035     A29  11-7270-00012-00154     2 -17475.000 -5.000  3/11/12 00:00   \n",
       "5036     A29  11-7270-00012-00154     3  10000.000  5.000  3/11/12 00:00   \n",
       "\n",
       "        SKU           Type  \n",
       "5035  A6386  Orphan_Return  \n",
       "5036  A6386                 "
      ]
     },
     "execution_count": 304,
     "metadata": {},
     "output_type": "execute_result"
    }
   ],
   "source": [
    "data_type[data_type.TransactionID=='11-7270-00012-00154']"
   ]
  },
  {
   "cell_type": "code",
   "execution_count": 30,
   "metadata": {
    "collapsed": false
   },
   "outputs": [
    {
     "data": {
      "text/html": [
       "<div>\n",
       "<style>\n",
       "    .dataframe thead tr:only-child th {\n",
       "        text-align: right;\n",
       "    }\n",
       "\n",
       "    .dataframe thead th {\n",
       "        text-align: left;\n",
       "    }\n",
       "\n",
       "    .dataframe tbody tr th {\n",
       "        vertical-align: top;\n",
       "    }\n",
       "</style>\n",
       "<table border=\"1\" class=\"dataframe\">\n",
       "  <thead>\n",
       "    <tr style=\"text-align: right;\">\n",
       "      <th></th>\n",
       "      <th>StoreID</th>\n",
       "      <th>TransactionID</th>\n",
       "      <th>Line</th>\n",
       "      <th>Sales</th>\n",
       "      <th>Count</th>\n",
       "      <th>Date</th>\n",
       "      <th>SKU</th>\n",
       "      <th>Type</th>\n",
       "    </tr>\n",
       "  </thead>\n",
       "  <tbody>\n",
       "    <tr>\n",
       "      <th>485387</th>\n",
       "      <td>A33</td>\n",
       "      <td>12-7081-00015-00118</td>\n",
       "      <td>2</td>\n",
       "      <td>-33990.0</td>\n",
       "      <td>-2.0</td>\n",
       "      <td>3/12/12 00:00</td>\n",
       "      <td>A5483</td>\n",
       "      <td>Orphan_Return</td>\n",
       "    </tr>\n",
       "    <tr>\n",
       "      <th>485388</th>\n",
       "      <td>A33</td>\n",
       "      <td>12-7081-00015-00118</td>\n",
       "      <td>3</td>\n",
       "      <td>21000.0</td>\n",
       "      <td>0.0</td>\n",
       "      <td>3/12/12 00:00</td>\n",
       "      <td>A5483</td>\n",
       "      <td>CreditBack_OrphanReturn</td>\n",
       "    </tr>\n",
       "    <tr>\n",
       "      <th>485390</th>\n",
       "      <td>A33</td>\n",
       "      <td>12-7081-00015-00118</td>\n",
       "      <td>5</td>\n",
       "      <td>-16995.0</td>\n",
       "      <td>-1.0</td>\n",
       "      <td>3/12/12 00:00</td>\n",
       "      <td>A5483</td>\n",
       "      <td>Orphan_Return</td>\n",
       "    </tr>\n",
       "    <tr>\n",
       "      <th>485391</th>\n",
       "      <td>A33</td>\n",
       "      <td>12-7081-00015-00118</td>\n",
       "      <td>6</td>\n",
       "      <td>10500.0</td>\n",
       "      <td>0.0</td>\n",
       "      <td>3/12/12 00:00</td>\n",
       "      <td>A5483</td>\n",
       "      <td>CreditBack_OrphanReturn</td>\n",
       "    </tr>\n",
       "    <tr>\n",
       "      <th>485393</th>\n",
       "      <td>A33</td>\n",
       "      <td>12-7081-00015-00118</td>\n",
       "      <td>9</td>\n",
       "      <td>6495.0</td>\n",
       "      <td>1.0</td>\n",
       "      <td>3/12/12 00:00</td>\n",
       "      <td>A5483</td>\n",
       "      <td></td>\n",
       "    </tr>\n",
       "    <tr>\n",
       "      <th>485394</th>\n",
       "      <td>A33</td>\n",
       "      <td>12-7081-00015-00118</td>\n",
       "      <td>10</td>\n",
       "      <td>-16995.0</td>\n",
       "      <td>-1.0</td>\n",
       "      <td>3/12/12 00:00</td>\n",
       "      <td>A5483</td>\n",
       "      <td>Orphan_Return</td>\n",
       "    </tr>\n",
       "  </tbody>\n",
       "</table>\n",
       "</div>"
      ],
      "text/plain": [
       "       StoreID        TransactionID  Line    Sales  Count           Date  \\\n",
       "485387     A33  12-7081-00015-00118     2 -33990.0   -2.0  3/12/12 00:00   \n",
       "485388     A33  12-7081-00015-00118     3  21000.0    0.0  3/12/12 00:00   \n",
       "485390     A33  12-7081-00015-00118     5 -16995.0   -1.0  3/12/12 00:00   \n",
       "485391     A33  12-7081-00015-00118     6  10500.0    0.0  3/12/12 00:00   \n",
       "485393     A33  12-7081-00015-00118     9   6495.0    1.0  3/12/12 00:00   \n",
       "485394     A33  12-7081-00015-00118    10 -16995.0   -1.0  3/12/12 00:00   \n",
       "\n",
       "          SKU                     Type  \n",
       "485387  A5483            Orphan_Return  \n",
       "485388  A5483  CreditBack_OrphanReturn  \n",
       "485390  A5483            Orphan_Return  \n",
       "485391  A5483  CreditBack_OrphanReturn  \n",
       "485393  A5483                           \n",
       "485394  A5483            Orphan_Return  "
      ]
     },
     "execution_count": 30,
     "metadata": {},
     "output_type": "execute_result"
    }
   ],
   "source": [
    "data_type[(data_type.TransactionID=='12-7081-00015-00118')&(data_type.SKU=='A5483')]"
   ]
  },
  {
   "cell_type": "markdown",
   "metadata": {},
   "source": [
    "<br><br>"
   ]
  },
  {
   "cell_type": "code",
   "execution_count": null,
   "metadata": {
    "collapsed": true
   },
   "outputs": [],
   "source": []
  },
  {
   "cell_type": "markdown",
   "metadata": {},
   "source": [
    "### Check Missing Values <a name='7' />"
   ]
  },
  {
   "cell_type": "code",
   "execution_count": 31,
   "metadata": {
    "collapsed": false
   },
   "outputs": [
    {
     "data": {
      "text/plain": [
       "StoreID          0\n",
       "TransactionID    0\n",
       "Line             0\n",
       "Sales            0\n",
       "Count            0\n",
       "Date             0\n",
       "SKU              0\n",
       "Type             0\n",
       "dtype: int64"
      ]
     },
     "execution_count": 31,
     "metadata": {},
     "output_type": "execute_result"
    }
   ],
   "source": [
    "data_type.isnull().sum()"
   ]
  },
  {
   "cell_type": "markdown",
   "metadata": {},
   "source": [
    "<br><br>"
   ]
  },
  {
   "cell_type": "markdown",
   "metadata": {},
   "source": [
    "### Explore Anomalies <a name='8' />"
   ]
  },
  {
   "cell_type": "code",
   "execution_count": 192,
   "metadata": {
    "collapsed": false
   },
   "outputs": [
    {
     "data": {
      "text/html": [
       "<div>\n",
       "<style>\n",
       "    .dataframe thead tr:only-child th {\n",
       "        text-align: right;\n",
       "    }\n",
       "\n",
       "    .dataframe thead th {\n",
       "        text-align: left;\n",
       "    }\n",
       "\n",
       "    .dataframe tbody tr th {\n",
       "        vertical-align: top;\n",
       "    }\n",
       "</style>\n",
       "<table border=\"1\" class=\"dataframe\">\n",
       "  <thead>\n",
       "    <tr style=\"text-align: right;\">\n",
       "      <th></th>\n",
       "      <th>Line</th>\n",
       "      <th>Sales</th>\n",
       "      <th>Count</th>\n",
       "    </tr>\n",
       "  </thead>\n",
       "  <tbody>\n",
       "    <tr>\n",
       "      <th>count</th>\n",
       "      <td>1048575.000</td>\n",
       "      <td>1048575.000</td>\n",
       "      <td>1048575.000</td>\n",
       "    </tr>\n",
       "    <tr>\n",
       "      <th>mean</th>\n",
       "      <td>10.727</td>\n",
       "      <td>1720.513</td>\n",
       "      <td>0.896</td>\n",
       "    </tr>\n",
       "    <tr>\n",
       "      <th>std</th>\n",
       "      <td>15.550</td>\n",
       "      <td>3646.003</td>\n",
       "      <td>1.129</td>\n",
       "    </tr>\n",
       "    <tr>\n",
       "      <th>min</th>\n",
       "      <td>1.000</td>\n",
       "      <td>-99995.000</td>\n",
       "      <td>-120.000</td>\n",
       "    </tr>\n",
       "    <tr>\n",
       "      <th>25%</th>\n",
       "      <td>3.000</td>\n",
       "      <td>395.000</td>\n",
       "      <td>1.000</td>\n",
       "    </tr>\n",
       "    <tr>\n",
       "      <th>50%</th>\n",
       "      <td>7.000</td>\n",
       "      <td>1295.000</td>\n",
       "      <td>1.000</td>\n",
       "    </tr>\n",
       "    <tr>\n",
       "      <th>75%</th>\n",
       "      <td>14.000</td>\n",
       "      <td>2195.000</td>\n",
       "      <td>1.000</td>\n",
       "    </tr>\n",
       "    <tr>\n",
       "      <th>max</th>\n",
       "      <td>823.000</td>\n",
       "      <td>99995.000</td>\n",
       "      <td>120.000</td>\n",
       "    </tr>\n",
       "  </tbody>\n",
       "</table>\n",
       "</div>"
      ],
      "text/plain": [
       "             Line       Sales       Count\n",
       "count 1048575.000 1048575.000 1048575.000\n",
       "mean       10.727    1720.513       0.896\n",
       "std        15.550    3646.003       1.129\n",
       "min         1.000  -99995.000    -120.000\n",
       "25%         3.000     395.000       1.000\n",
       "50%         7.000    1295.000       1.000\n",
       "75%        14.000    2195.000       1.000\n",
       "max       823.000   99995.000     120.000"
      ]
     },
     "execution_count": 192,
     "metadata": {},
     "output_type": "execute_result"
    }
   ],
   "source": [
    "pd.set_option('display.float_format', lambda x: '%.3f' % x)\n",
    "data_type.describe()"
   ]
  },
  {
   "cell_type": "markdown",
   "metadata": {},
   "source": [
    "#### Scenario 1: When count is a decimal point and sales=0\n"
   ]
  },
  {
   "cell_type": "code",
   "execution_count": 193,
   "metadata": {
    "collapsed": false
   },
   "outputs": [
    {
     "data": {
      "text/html": [
       "<div>\n",
       "<style>\n",
       "    .dataframe thead tr:only-child th {\n",
       "        text-align: right;\n",
       "    }\n",
       "\n",
       "    .dataframe thead th {\n",
       "        text-align: left;\n",
       "    }\n",
       "\n",
       "    .dataframe tbody tr th {\n",
       "        vertical-align: top;\n",
       "    }\n",
       "</style>\n",
       "<table border=\"1\" class=\"dataframe\">\n",
       "  <thead>\n",
       "    <tr style=\"text-align: right;\">\n",
       "      <th></th>\n",
       "      <th>StoreID</th>\n",
       "      <th>TransactionID</th>\n",
       "      <th>Line</th>\n",
       "      <th>Sales</th>\n",
       "      <th>Count</th>\n",
       "      <th>Date</th>\n",
       "      <th>SKU</th>\n",
       "      <th>Type</th>\n",
       "    </tr>\n",
       "  </thead>\n",
       "  <tbody>\n",
       "    <tr>\n",
       "      <th>19710</th>\n",
       "      <td>A65</td>\n",
       "      <td>11-3571-00002-00495</td>\n",
       "      <td>7</td>\n",
       "      <td>0.000</td>\n",
       "      <td>0.020</td>\n",
       "      <td>3/11/12 00:00</td>\n",
       "      <td>A10522</td>\n",
       "      <td></td>\n",
       "    </tr>\n",
       "    <tr>\n",
       "      <th>20406</th>\n",
       "      <td>A65</td>\n",
       "      <td>11-3571-00001-00205</td>\n",
       "      <td>22</td>\n",
       "      <td>0.000</td>\n",
       "      <td>0.020</td>\n",
       "      <td>3/11/12 00:00</td>\n",
       "      <td>A10522</td>\n",
       "      <td></td>\n",
       "    </tr>\n",
       "    <tr>\n",
       "      <th>99018</th>\n",
       "      <td>A06</td>\n",
       "      <td>12-6997-00005-00028</td>\n",
       "      <td>3</td>\n",
       "      <td>0.000</td>\n",
       "      <td>0.010</td>\n",
       "      <td>3/12/12 00:00</td>\n",
       "      <td>A4945</td>\n",
       "      <td></td>\n",
       "    </tr>\n",
       "    <tr>\n",
       "      <th>816024</th>\n",
       "      <td>A65</td>\n",
       "      <td>12-3572-00001-00033</td>\n",
       "      <td>15</td>\n",
       "      <td>0.000</td>\n",
       "      <td>0.020</td>\n",
       "      <td>3/12/12 00:00</td>\n",
       "      <td>A10522</td>\n",
       "      <td></td>\n",
       "    </tr>\n",
       "    <tr>\n",
       "      <th>817574</th>\n",
       "      <td>A65</td>\n",
       "      <td>12-3572-00001-00305</td>\n",
       "      <td>9</td>\n",
       "      <td>0.000</td>\n",
       "      <td>0.020</td>\n",
       "      <td>3/12/12 00:00</td>\n",
       "      <td>A10522</td>\n",
       "      <td></td>\n",
       "    </tr>\n",
       "  </tbody>\n",
       "</table>\n",
       "</div>"
      ],
      "text/plain": [
       "       StoreID        TransactionID  Line  Sales  Count           Date  \\\n",
       "19710      A65  11-3571-00002-00495     7  0.000  0.020  3/11/12 00:00   \n",
       "20406      A65  11-3571-00001-00205    22  0.000  0.020  3/11/12 00:00   \n",
       "99018      A06  12-6997-00005-00028     3  0.000  0.010  3/12/12 00:00   \n",
       "816024     A65  12-3572-00001-00033    15  0.000  0.020  3/12/12 00:00   \n",
       "817574     A65  12-3572-00001-00305     9  0.000  0.020  3/12/12 00:00   \n",
       "\n",
       "           SKU Type  \n",
       "19710   A10522       \n",
       "20406   A10522       \n",
       "99018    A4945       \n",
       "816024  A10522       \n",
       "817574  A10522       "
      ]
     },
     "execution_count": 193,
     "metadata": {},
     "output_type": "execute_result"
    }
   ],
   "source": [
    "data_type[(data_type.Sales==0) & (data_type.Count<1) & (data_type.Count>0)]"
   ]
  },
  {
   "cell_type": "code",
   "execution_count": 305,
   "metadata": {
    "collapsed": true
   },
   "outputs": [],
   "source": [
    "data_type.drop(data_type[(data_type.Sales==0) & (data_type.Count<1) & (data_type.Count>0)].index,inplace=True)"
   ]
  },
  {
   "cell_type": "markdown",
   "metadata": {},
   "source": [
    "There are 5 rows where count is a decimal point and sales=0.    \n",
    "Treatment: We can safely filter these rows out from our analysis."
   ]
  },
  {
   "cell_type": "markdown",
   "metadata": {},
   "source": [
    "#### Scenario 2: When Count=0 and Sales=0"
   ]
  },
  {
   "cell_type": "code",
   "execution_count": 195,
   "metadata": {
    "collapsed": false
   },
   "outputs": [
    {
     "data": {
      "text/html": [
       "<div>\n",
       "<style>\n",
       "    .dataframe thead tr:only-child th {\n",
       "        text-align: right;\n",
       "    }\n",
       "\n",
       "    .dataframe thead th {\n",
       "        text-align: left;\n",
       "    }\n",
       "\n",
       "    .dataframe tbody tr th {\n",
       "        vertical-align: top;\n",
       "    }\n",
       "</style>\n",
       "<table border=\"1\" class=\"dataframe\">\n",
       "  <thead>\n",
       "    <tr style=\"text-align: right;\">\n",
       "      <th></th>\n",
       "      <th>StoreID</th>\n",
       "      <th>TransactionID</th>\n",
       "      <th>Line</th>\n",
       "      <th>Sales</th>\n",
       "      <th>Count</th>\n",
       "      <th>Date</th>\n",
       "      <th>SKU</th>\n",
       "      <th>Type</th>\n",
       "    </tr>\n",
       "  </thead>\n",
       "  <tbody>\n",
       "    <tr>\n",
       "      <th>387</th>\n",
       "      <td>A27</td>\n",
       "      <td>11-7069-00019-00010</td>\n",
       "      <td>3</td>\n",
       "      <td>0.000</td>\n",
       "      <td>0.000</td>\n",
       "      <td>3/11/12 00:00</td>\n",
       "      <td>A25083</td>\n",
       "      <td></td>\n",
       "    </tr>\n",
       "    <tr>\n",
       "      <th>388</th>\n",
       "      <td>A27</td>\n",
       "      <td>11-7069-00019-00010</td>\n",
       "      <td>4</td>\n",
       "      <td>0.000</td>\n",
       "      <td>0.000</td>\n",
       "      <td>3/11/12 00:00</td>\n",
       "      <td>A14671</td>\n",
       "      <td></td>\n",
       "    </tr>\n",
       "  </tbody>\n",
       "</table>\n",
       "</div>"
      ],
      "text/plain": [
       "    StoreID        TransactionID  Line  Sales  Count           Date     SKU  \\\n",
       "387     A27  11-7069-00019-00010     3  0.000  0.000  3/11/12 00:00  A25083   \n",
       "388     A27  11-7069-00019-00010     4  0.000  0.000  3/11/12 00:00  A14671   \n",
       "\n",
       "    Type  \n",
       "387       \n",
       "388       "
      ]
     },
     "execution_count": 195,
     "metadata": {},
     "output_type": "execute_result"
    }
   ],
   "source": [
    "data_type[(data_type.Sales==0) & (data_type.Count==0)].head(2)"
   ]
  },
  {
   "cell_type": "code",
   "execution_count": 196,
   "metadata": {
    "collapsed": false
   },
   "outputs": [
    {
     "data": {
      "text/plain": [
       "(3223, 8)"
      ]
     },
     "execution_count": 196,
     "metadata": {},
     "output_type": "execute_result"
    }
   ],
   "source": [
    "data_type[(data_type.Sales==0) & (data_type.Count==0)].shape"
   ]
  },
  {
   "cell_type": "code",
   "execution_count": 306,
   "metadata": {
    "collapsed": true
   },
   "outputs": [],
   "source": [
    "data_type.drop(data_type[(data_type.Sales==0) & (data_type.Count==0)].index,inplace=True)"
   ]
  },
  {
   "cell_type": "markdown",
   "metadata": {},
   "source": [
    "There are 3223 rows where count=0 and sales=0.    \n",
    "Treatment: We can safely filter these rows out from our analysis."
   ]
  },
  {
   "cell_type": "markdown",
   "metadata": {},
   "source": [
    "#### Scenario 3: Orphan Return - returns with no matching purchase within the same transaction / returned an item purchased earlier at the regular price, AND purchased the same item at discounted price"
   ]
  },
  {
   "cell_type": "code",
   "execution_count": 220,
   "metadata": {
    "collapsed": false,
    "scrolled": true
   },
   "outputs": [
    {
     "data": {
      "text/html": [
       "<div>\n",
       "<style>\n",
       "    .dataframe thead tr:only-child th {\n",
       "        text-align: right;\n",
       "    }\n",
       "\n",
       "    .dataframe thead th {\n",
       "        text-align: left;\n",
       "    }\n",
       "\n",
       "    .dataframe tbody tr th {\n",
       "        vertical-align: top;\n",
       "    }\n",
       "</style>\n",
       "<table border=\"1\" class=\"dataframe\">\n",
       "  <thead>\n",
       "    <tr style=\"text-align: right;\">\n",
       "      <th></th>\n",
       "      <th>StoreID</th>\n",
       "      <th>TransactionID</th>\n",
       "      <th>Line</th>\n",
       "      <th>Sales</th>\n",
       "      <th>Count</th>\n",
       "      <th>Date</th>\n",
       "      <th>SKU</th>\n",
       "      <th>Type</th>\n",
       "    </tr>\n",
       "  </thead>\n",
       "  <tbody>\n",
       "    <tr>\n",
       "      <th>5050</th>\n",
       "      <td>A29</td>\n",
       "      <td>11-7270-00012-00190</td>\n",
       "      <td>1</td>\n",
       "      <td>-18995.000</td>\n",
       "      <td>-1.000</td>\n",
       "      <td>3/11/12 00:00</td>\n",
       "      <td>A10981</td>\n",
       "      <td>Orphan_Return</td>\n",
       "    </tr>\n",
       "    <tr>\n",
       "      <th>5051</th>\n",
       "      <td>A29</td>\n",
       "      <td>11-7270-00012-00190</td>\n",
       "      <td>2</td>\n",
       "      <td>-7995.000</td>\n",
       "      <td>-1.000</td>\n",
       "      <td>3/11/12 00:00</td>\n",
       "      <td>A21473</td>\n",
       "      <td>Orphan_Return</td>\n",
       "    </tr>\n",
       "  </tbody>\n",
       "</table>\n",
       "</div>"
      ],
      "text/plain": [
       "     StoreID        TransactionID  Line      Sales  Count           Date  \\\n",
       "5050     A29  11-7270-00012-00190     1 -18995.000 -1.000  3/11/12 00:00   \n",
       "5051     A29  11-7270-00012-00190     2  -7995.000 -1.000  3/11/12 00:00   \n",
       "\n",
       "         SKU           Type  \n",
       "5050  A10981  Orphan_Return  \n",
       "5051  A21473  Orphan_Return  "
      ]
     },
     "execution_count": 220,
     "metadata": {},
     "output_type": "execute_result"
    }
   ],
   "source": [
    "data_type[(data_type.TransactionID=='11-7270-00012-00190')]"
   ]
  },
  {
   "cell_type": "code",
   "execution_count": 221,
   "metadata": {
    "collapsed": false
   },
   "outputs": [
    {
     "data": {
      "text/html": [
       "<div>\n",
       "<style>\n",
       "    .dataframe thead tr:only-child th {\n",
       "        text-align: right;\n",
       "    }\n",
       "\n",
       "    .dataframe thead th {\n",
       "        text-align: left;\n",
       "    }\n",
       "\n",
       "    .dataframe tbody tr th {\n",
       "        vertical-align: top;\n",
       "    }\n",
       "</style>\n",
       "<table border=\"1\" class=\"dataframe\">\n",
       "  <thead>\n",
       "    <tr style=\"text-align: right;\">\n",
       "      <th></th>\n",
       "      <th>StoreID</th>\n",
       "      <th>TransactionID</th>\n",
       "      <th>Line</th>\n",
       "      <th>Sales</th>\n",
       "      <th>Count</th>\n",
       "      <th>Date</th>\n",
       "      <th>SKU</th>\n",
       "      <th>Type</th>\n",
       "    </tr>\n",
       "  </thead>\n",
       "  <tbody>\n",
       "    <tr>\n",
       "      <th>485387</th>\n",
       "      <td>A33</td>\n",
       "      <td>12-7081-00015-00118</td>\n",
       "      <td>2</td>\n",
       "      <td>-33990.000</td>\n",
       "      <td>-2.000</td>\n",
       "      <td>3/12/12 00:00</td>\n",
       "      <td>A5483</td>\n",
       "      <td>Orphan_Return</td>\n",
       "    </tr>\n",
       "    <tr>\n",
       "      <th>485388</th>\n",
       "      <td>A33</td>\n",
       "      <td>12-7081-00015-00118</td>\n",
       "      <td>3</td>\n",
       "      <td>21000.000</td>\n",
       "      <td>0.000</td>\n",
       "      <td>3/12/12 00:00</td>\n",
       "      <td>A5483</td>\n",
       "      <td>CreditBack_OrphanReturn</td>\n",
       "    </tr>\n",
       "    <tr>\n",
       "      <th>485390</th>\n",
       "      <td>A33</td>\n",
       "      <td>12-7081-00015-00118</td>\n",
       "      <td>5</td>\n",
       "      <td>-16995.000</td>\n",
       "      <td>-1.000</td>\n",
       "      <td>3/12/12 00:00</td>\n",
       "      <td>A5483</td>\n",
       "      <td>Orphan_Return</td>\n",
       "    </tr>\n",
       "    <tr>\n",
       "      <th>485391</th>\n",
       "      <td>A33</td>\n",
       "      <td>12-7081-00015-00118</td>\n",
       "      <td>6</td>\n",
       "      <td>10500.000</td>\n",
       "      <td>0.000</td>\n",
       "      <td>3/12/12 00:00</td>\n",
       "      <td>A5483</td>\n",
       "      <td>CreditBack_OrphanReturn</td>\n",
       "    </tr>\n",
       "    <tr>\n",
       "      <th>485393</th>\n",
       "      <td>A33</td>\n",
       "      <td>12-7081-00015-00118</td>\n",
       "      <td>9</td>\n",
       "      <td>6495.000</td>\n",
       "      <td>1.000</td>\n",
       "      <td>3/12/12 00:00</td>\n",
       "      <td>A5483</td>\n",
       "      <td></td>\n",
       "    </tr>\n",
       "    <tr>\n",
       "      <th>485394</th>\n",
       "      <td>A33</td>\n",
       "      <td>12-7081-00015-00118</td>\n",
       "      <td>10</td>\n",
       "      <td>-16995.000</td>\n",
       "      <td>-1.000</td>\n",
       "      <td>3/12/12 00:00</td>\n",
       "      <td>A5483</td>\n",
       "      <td>Orphan_Return</td>\n",
       "    </tr>\n",
       "  </tbody>\n",
       "</table>\n",
       "</div>"
      ],
      "text/plain": [
       "       StoreID        TransactionID  Line      Sales  Count           Date  \\\n",
       "485387     A33  12-7081-00015-00118     2 -33990.000 -2.000  3/12/12 00:00   \n",
       "485388     A33  12-7081-00015-00118     3  21000.000  0.000  3/12/12 00:00   \n",
       "485390     A33  12-7081-00015-00118     5 -16995.000 -1.000  3/12/12 00:00   \n",
       "485391     A33  12-7081-00015-00118     6  10500.000  0.000  3/12/12 00:00   \n",
       "485393     A33  12-7081-00015-00118     9   6495.000  1.000  3/12/12 00:00   \n",
       "485394     A33  12-7081-00015-00118    10 -16995.000 -1.000  3/12/12 00:00   \n",
       "\n",
       "          SKU                     Type  \n",
       "485387  A5483            Orphan_Return  \n",
       "485388  A5483  CreditBack_OrphanReturn  \n",
       "485390  A5483            Orphan_Return  \n",
       "485391  A5483  CreditBack_OrphanReturn  \n",
       "485393  A5483                           \n",
       "485394  A5483            Orphan_Return  "
      ]
     },
     "execution_count": 221,
     "metadata": {},
     "output_type": "execute_result"
    }
   ],
   "source": [
    "data_type[(data_type.TransactionID=='12-7081-00015-00118')&(data_type.SKU=='A5483')]"
   ]
  },
  {
   "cell_type": "code",
   "execution_count": 307,
   "metadata": {
    "collapsed": false
   },
   "outputs": [],
   "source": [
    "orphan = data_type[(data_type.Type=='Orphan_Return')|(data_type.Type=='CreditBack_OrphanReturn')]"
   ]
  },
  {
   "cell_type": "code",
   "execution_count": 235,
   "metadata": {
    "collapsed": false
   },
   "outputs": [
    {
     "data": {
      "text/html": [
       "<div>\n",
       "<style>\n",
       "    .dataframe thead tr:only-child th {\n",
       "        text-align: right;\n",
       "    }\n",
       "\n",
       "    .dataframe thead th {\n",
       "        text-align: left;\n",
       "    }\n",
       "\n",
       "    .dataframe tbody tr th {\n",
       "        vertical-align: top;\n",
       "    }\n",
       "</style>\n",
       "<table border=\"1\" class=\"dataframe\">\n",
       "  <thead>\n",
       "    <tr style=\"text-align: right;\">\n",
       "      <th></th>\n",
       "      <th>StoreID</th>\n",
       "      <th>TransactionID</th>\n",
       "      <th>Line</th>\n",
       "      <th>Sales</th>\n",
       "      <th>Count</th>\n",
       "      <th>Date</th>\n",
       "      <th>SKU</th>\n",
       "      <th>Type</th>\n",
       "    </tr>\n",
       "  </thead>\n",
       "  <tbody>\n",
       "    <tr>\n",
       "      <th>5003</th>\n",
       "      <td>A29</td>\n",
       "      <td>11-7270-00012-00113</td>\n",
       "      <td>2</td>\n",
       "      <td>-17990.000</td>\n",
       "      <td>-2.000</td>\n",
       "      <td>3/11/12 00:00</td>\n",
       "      <td>A22728</td>\n",
       "      <td>Orphan_Return</td>\n",
       "    </tr>\n",
       "    <tr>\n",
       "      <th>5021</th>\n",
       "      <td>A29</td>\n",
       "      <td>11-7270-00012-00126</td>\n",
       "      <td>1</td>\n",
       "      <td>-3500.000</td>\n",
       "      <td>-1.000</td>\n",
       "      <td>3/11/12 00:00</td>\n",
       "      <td>A24521</td>\n",
       "      <td>Orphan_Return</td>\n",
       "    </tr>\n",
       "    <tr>\n",
       "      <th>5035</th>\n",
       "      <td>A29</td>\n",
       "      <td>11-7270-00012-00154</td>\n",
       "      <td>2</td>\n",
       "      <td>-17475.000</td>\n",
       "      <td>-5.000</td>\n",
       "      <td>3/11/12 00:00</td>\n",
       "      <td>A6386</td>\n",
       "      <td>Orphan_Return</td>\n",
       "    </tr>\n",
       "    <tr>\n",
       "      <th>5040</th>\n",
       "      <td>A29</td>\n",
       "      <td>11-7270-00012-00167</td>\n",
       "      <td>2</td>\n",
       "      <td>-54000.000</td>\n",
       "      <td>-1.000</td>\n",
       "      <td>3/11/12 00:00</td>\n",
       "      <td>A1149</td>\n",
       "      <td>Orphan_Return</td>\n",
       "    </tr>\n",
       "    <tr>\n",
       "      <th>5045</th>\n",
       "      <td>A29</td>\n",
       "      <td>11-7270-00012-00174</td>\n",
       "      <td>2</td>\n",
       "      <td>-11985.000</td>\n",
       "      <td>-3.000</td>\n",
       "      <td>3/11/12 00:00</td>\n",
       "      <td>A25628</td>\n",
       "      <td>Orphan_Return</td>\n",
       "    </tr>\n",
       "  </tbody>\n",
       "</table>\n",
       "</div>"
      ],
      "text/plain": [
       "     StoreID        TransactionID  Line      Sales  Count           Date  \\\n",
       "5003     A29  11-7270-00012-00113     2 -17990.000 -2.000  3/11/12 00:00   \n",
       "5021     A29  11-7270-00012-00126     1  -3500.000 -1.000  3/11/12 00:00   \n",
       "5035     A29  11-7270-00012-00154     2 -17475.000 -5.000  3/11/12 00:00   \n",
       "5040     A29  11-7270-00012-00167     2 -54000.000 -1.000  3/11/12 00:00   \n",
       "5045     A29  11-7270-00012-00174     2 -11985.000 -3.000  3/11/12 00:00   \n",
       "\n",
       "         SKU           Type  \n",
       "5003  A22728  Orphan_Return  \n",
       "5021  A24521  Orphan_Return  \n",
       "5035   A6386  Orphan_Return  \n",
       "5040   A1149  Orphan_Return  \n",
       "5045  A25628  Orphan_Return  "
      ]
     },
     "execution_count": 235,
     "metadata": {},
     "output_type": "execute_result"
    }
   ],
   "source": [
    "orphan.head()"
   ]
  },
  {
   "cell_type": "code",
   "execution_count": 236,
   "metadata": {
    "collapsed": false
   },
   "outputs": [
    {
     "name": "stdout",
     "output_type": "stream",
     "text": [
      "(1045347, 8)\n",
      "(3651, 8)\n",
      "2813\n"
     ]
    }
   ],
   "source": [
    "print data_type.shape\n",
    "print orphan.shape\n",
    "print len(orphan.TransactionID.unique())"
   ]
  },
  {
   "cell_type": "code",
   "execution_count": 308,
   "metadata": {
    "collapsed": false
   },
   "outputs": [],
   "source": [
    "# Drop rows with orphan returns\n",
    "data_type = pd.merge(data_type,orphan,on=['StoreID','TransactionID','Line','Sales','Count','Date','SKU','Type'],how='left',indicator=True)\n",
    "data_type = data_type[data_type['_merge']=='left_only']"
   ]
  },
  {
   "cell_type": "code",
   "execution_count": 309,
   "metadata": {
    "collapsed": true
   },
   "outputs": [],
   "source": [
    "data_type.drop('_merge',1,inplace=True)"
   ]
  },
  {
   "cell_type": "code",
   "execution_count": 264,
   "metadata": {
    "collapsed": false
   },
   "outputs": [
    {
     "data": {
      "text/html": [
       "<div>\n",
       "<style>\n",
       "    .dataframe thead tr:only-child th {\n",
       "        text-align: right;\n",
       "    }\n",
       "\n",
       "    .dataframe thead th {\n",
       "        text-align: left;\n",
       "    }\n",
       "\n",
       "    .dataframe tbody tr th {\n",
       "        vertical-align: top;\n",
       "    }\n",
       "</style>\n",
       "<table border=\"1\" class=\"dataframe\">\n",
       "  <thead>\n",
       "    <tr style=\"text-align: right;\">\n",
       "      <th></th>\n",
       "      <th>StoreID</th>\n",
       "      <th>TransactionID</th>\n",
       "      <th>Line</th>\n",
       "      <th>Sales</th>\n",
       "      <th>Count</th>\n",
       "      <th>Date</th>\n",
       "      <th>SKU</th>\n",
       "      <th>Type</th>\n",
       "    </tr>\n",
       "  </thead>\n",
       "  <tbody>\n",
       "    <tr>\n",
       "      <th>0</th>\n",
       "      <td>A29</td>\n",
       "      <td>11-7270-00007-00057</td>\n",
       "      <td>36</td>\n",
       "      <td>850.000</td>\n",
       "      <td>1.000</td>\n",
       "      <td>3/11/12 00:00</td>\n",
       "      <td>A21773</td>\n",
       "      <td></td>\n",
       "    </tr>\n",
       "    <tr>\n",
       "      <th>1</th>\n",
       "      <td>A29</td>\n",
       "      <td>11-7270-00007-00057</td>\n",
       "      <td>39</td>\n",
       "      <td>1500.000</td>\n",
       "      <td>1.000</td>\n",
       "      <td>3/11/12 00:00</td>\n",
       "      <td>A18009</td>\n",
       "      <td></td>\n",
       "    </tr>\n",
       "    <tr>\n",
       "      <th>2</th>\n",
       "      <td>A29</td>\n",
       "      <td>11-7270-00007-00057</td>\n",
       "      <td>40</td>\n",
       "      <td>1500.000</td>\n",
       "      <td>1.000</td>\n",
       "      <td>3/11/12 00:00</td>\n",
       "      <td>A25592</td>\n",
       "      <td></td>\n",
       "    </tr>\n",
       "  </tbody>\n",
       "</table>\n",
       "</div>"
      ],
      "text/plain": [
       "  StoreID        TransactionID  Line    Sales  Count           Date     SKU  \\\n",
       "0     A29  11-7270-00007-00057    36  850.000  1.000  3/11/12 00:00  A21773   \n",
       "1     A29  11-7270-00007-00057    39 1500.000  1.000  3/11/12 00:00  A18009   \n",
       "2     A29  11-7270-00007-00057    40 1500.000  1.000  3/11/12 00:00  A25592   \n",
       "\n",
       "  Type  \n",
       "0       \n",
       "1       \n",
       "2       "
      ]
     },
     "execution_count": 264,
     "metadata": {},
     "output_type": "execute_result"
    }
   ],
   "source": [
    "data_type.head(3)"
   ]
  },
  {
   "cell_type": "code",
   "execution_count": 265,
   "metadata": {
    "collapsed": false
   },
   "outputs": [
    {
     "data": {
      "text/plain": [
       "(1041696, 8)"
      ]
     },
     "execution_count": 265,
     "metadata": {},
     "output_type": "execute_result"
    }
   ],
   "source": [
    "data_type.shape"
   ]
  },
  {
   "cell_type": "markdown",
   "metadata": {},
   "source": [
    "There are 3651 rows exhibit orphan returns(include credit back for orphan returns) and 2813 transactions exhibit orphan return.  \n",
    "\n",
    "Treatment: Everytime, when there is an orphan return, we simply exclude them when calculating sales per transaction. If it is a regular return, we leave them be as they will cancel each other out."
   ]
  },
  {
   "cell_type": "code",
   "execution_count": 310,
   "metadata": {
    "collapsed": true
   },
   "outputs": [],
   "source": [
    "data_type.to_csv('data_type.csv', sep=',',index=False)"
   ]
  },
  {
   "cell_type": "markdown",
   "metadata": {},
   "source": [
    "<br><br>"
   ]
  },
  {
   "cell_type": "markdown",
   "metadata": {},
   "source": [
    "### Calculate Discount Rate on a per transaction and per sku basis <a name='81' />"
   ]
  },
  {
   "cell_type": "markdown",
   "metadata": {
    "collapsed": true
   },
   "source": [
    "Discount rate is calculated on a per SKU basis for each trasaction. (**Check 'Discount Rate.ipynb'**)  \n",
    "\n",
    "Within each transaction, total sales per SKU can't be negative. With that in mind, we can just filter out those outliers, and the rest, just keep them there as we have no reference as to whether a steep discount rate such as 85% is valid. For now, let's assume they are.\n",
    "\n"
   ]
  },
  {
   "cell_type": "code",
   "execution_count": 2,
   "metadata": {
    "collapsed": true
   },
   "outputs": [],
   "source": [
    "import pandas as pd"
   ]
  },
  {
   "cell_type": "code",
   "execution_count": 2,
   "metadata": {
    "collapsed": false
   },
   "outputs": [],
   "source": [
    "data_type = pd.read_csv('data_type.csv')\n",
    "data_type.fillna('',inplace=True)"
   ]
  },
  {
   "cell_type": "code",
   "execution_count": 3,
   "metadata": {
    "collapsed": false
   },
   "outputs": [
    {
     "data": {
      "text/plain": [
       "(1041577, 8)"
      ]
     },
     "execution_count": 3,
     "metadata": {},
     "output_type": "execute_result"
    }
   ],
   "source": [
    "data_type.shape"
   ]
  },
  {
   "cell_type": "code",
   "execution_count": 4,
   "metadata": {
    "collapsed": false
   },
   "outputs": [
    {
     "data": {
      "text/html": [
       "<div>\n",
       "<style>\n",
       "    .dataframe thead tr:only-child th {\n",
       "        text-align: right;\n",
       "    }\n",
       "\n",
       "    .dataframe thead th {\n",
       "        text-align: left;\n",
       "    }\n",
       "\n",
       "    .dataframe tbody tr th {\n",
       "        vertical-align: top;\n",
       "    }\n",
       "</style>\n",
       "<table border=\"1\" class=\"dataframe\">\n",
       "  <thead>\n",
       "    <tr style=\"text-align: right;\">\n",
       "      <th></th>\n",
       "      <th>StoreID</th>\n",
       "      <th>TransactionID</th>\n",
       "      <th>Line</th>\n",
       "      <th>Sales</th>\n",
       "      <th>Count</th>\n",
       "      <th>Date</th>\n",
       "      <th>SKU</th>\n",
       "      <th>Type</th>\n",
       "    </tr>\n",
       "  </thead>\n",
       "  <tbody>\n",
       "    <tr>\n",
       "      <th>0</th>\n",
       "      <td>A29</td>\n",
       "      <td>11-7270-00007-00057</td>\n",
       "      <td>36</td>\n",
       "      <td>850.0</td>\n",
       "      <td>1.0</td>\n",
       "      <td>3/11/12 00:00</td>\n",
       "      <td>A21773</td>\n",
       "      <td></td>\n",
       "    </tr>\n",
       "    <tr>\n",
       "      <th>1</th>\n",
       "      <td>A29</td>\n",
       "      <td>11-7270-00007-00057</td>\n",
       "      <td>39</td>\n",
       "      <td>1500.0</td>\n",
       "      <td>1.0</td>\n",
       "      <td>3/11/12 00:00</td>\n",
       "      <td>A18009</td>\n",
       "      <td></td>\n",
       "    </tr>\n",
       "    <tr>\n",
       "      <th>2</th>\n",
       "      <td>A29</td>\n",
       "      <td>11-7270-00007-00057</td>\n",
       "      <td>40</td>\n",
       "      <td>1500.0</td>\n",
       "      <td>1.0</td>\n",
       "      <td>3/11/12 00:00</td>\n",
       "      <td>A25592</td>\n",
       "      <td></td>\n",
       "    </tr>\n",
       "  </tbody>\n",
       "</table>\n",
       "</div>"
      ],
      "text/plain": [
       "  StoreID        TransactionID  Line   Sales  Count           Date     SKU  \\\n",
       "0     A29  11-7270-00007-00057    36   850.0    1.0  3/11/12 00:00  A21773   \n",
       "1     A29  11-7270-00007-00057    39  1500.0    1.0  3/11/12 00:00  A18009   \n",
       "2     A29  11-7270-00007-00057    40  1500.0    1.0  3/11/12 00:00  A25592   \n",
       "\n",
       "  Type  \n",
       "0       \n",
       "1       \n",
       "2       "
      ]
     },
     "execution_count": 4,
     "metadata": {},
     "output_type": "execute_result"
    }
   ],
   "source": [
    "data_type.head(3)"
   ]
  },
  {
   "cell_type": "markdown",
   "metadata": {},
   "source": [
    "<br><br>"
   ]
  },
  {
   "cell_type": "markdown",
   "metadata": {},
   "source": [
    "### Explore Outliers <a name='82' />"
   ]
  },
  {
   "cell_type": "code",
   "execution_count": 314,
   "metadata": {
    "collapsed": false
   },
   "outputs": [
    {
     "name": "stderr",
     "output_type": "stream",
     "text": [
      "/Users/Frank/anaconda/lib/python2.7/site-packages/ipykernel/__main__.py:2: SettingWithCopyWarning: \n",
      "A value is trying to be set on a copy of a slice from a DataFrame.\n",
      "Try using .loc[row_indexer,col_indexer] = value instead\n",
      "\n",
      "See the caveats in the documentation: http://pandas.pydata.org/pandas-docs/stable/indexing.html#indexing-view-versus-copy\n",
      "  from ipykernel import kernelapp as app\n"
     ]
    }
   ],
   "source": [
    "df = data_type[data_type.Count>0]\n",
    "df['Unit Price'] = df['Sales'] / df['Count']"
   ]
  },
  {
   "cell_type": "code",
   "execution_count": 315,
   "metadata": {
    "collapsed": false
   },
   "outputs": [
    {
     "data": {
      "text/html": [
       "<div>\n",
       "<style>\n",
       "    .dataframe thead tr:only-child th {\n",
       "        text-align: right;\n",
       "    }\n",
       "\n",
       "    .dataframe thead th {\n",
       "        text-align: left;\n",
       "    }\n",
       "\n",
       "    .dataframe tbody tr th {\n",
       "        vertical-align: top;\n",
       "    }\n",
       "</style>\n",
       "<table border=\"1\" class=\"dataframe\">\n",
       "  <thead>\n",
       "    <tr style=\"text-align: right;\">\n",
       "      <th></th>\n",
       "      <th>Line</th>\n",
       "      <th>Sales</th>\n",
       "      <th>Count</th>\n",
       "      <th>Unit Price</th>\n",
       "    </tr>\n",
       "  </thead>\n",
       "  <tbody>\n",
       "    <tr>\n",
       "      <th>count</th>\n",
       "      <td>867714.000</td>\n",
       "      <td>867714.000</td>\n",
       "      <td>867714.000</td>\n",
       "      <td>867714.000</td>\n",
       "    </tr>\n",
       "    <tr>\n",
       "      <th>mean</th>\n",
       "      <td>10.252</td>\n",
       "      <td>2298.513</td>\n",
       "      <td>1.097</td>\n",
       "      <td>2208.372</td>\n",
       "    </tr>\n",
       "    <tr>\n",
       "      <th>std</th>\n",
       "      <td>14.552</td>\n",
       "      <td>3532.143</td>\n",
       "      <td>1.101</td>\n",
       "      <td>3309.162</td>\n",
       "    </tr>\n",
       "    <tr>\n",
       "      <th>min</th>\n",
       "      <td>1.000</td>\n",
       "      <td>1.000</td>\n",
       "      <td>1.000</td>\n",
       "      <td>0.015</td>\n",
       "    </tr>\n",
       "    <tr>\n",
       "      <th>25%</th>\n",
       "      <td>2.000</td>\n",
       "      <td>895.000</td>\n",
       "      <td>1.000</td>\n",
       "      <td>821.000</td>\n",
       "    </tr>\n",
       "    <tr>\n",
       "      <th>50%</th>\n",
       "      <td>6.000</td>\n",
       "      <td>1595.000</td>\n",
       "      <td>1.000</td>\n",
       "      <td>1502.000</td>\n",
       "    </tr>\n",
       "    <tr>\n",
       "      <th>75%</th>\n",
       "      <td>13.000</td>\n",
       "      <td>2495.000</td>\n",
       "      <td>1.000</td>\n",
       "      <td>2413.000</td>\n",
       "    </tr>\n",
       "    <tr>\n",
       "      <th>max</th>\n",
       "      <td>822.000</td>\n",
       "      <td>99995.000</td>\n",
       "      <td>120.000</td>\n",
       "      <td>99995.000</td>\n",
       "    </tr>\n",
       "  </tbody>\n",
       "</table>\n",
       "</div>"
      ],
      "text/plain": [
       "            Line      Sales      Count  Unit Price\n",
       "count 867714.000 867714.000 867714.000  867714.000\n",
       "mean      10.252   2298.513      1.097    2208.372\n",
       "std       14.552   3532.143      1.101    3309.162\n",
       "min        1.000      1.000      1.000       0.015\n",
       "25%        2.000    895.000      1.000     821.000\n",
       "50%        6.000   1595.000      1.000    1502.000\n",
       "75%       13.000   2495.000      1.000    2413.000\n",
       "max      822.000  99995.000    120.000   99995.000"
      ]
     },
     "execution_count": 315,
     "metadata": {},
     "output_type": "execute_result"
    }
   ],
   "source": [
    "df.describe()"
   ]
  },
  {
   "cell_type": "code",
   "execution_count": 316,
   "metadata": {
    "collapsed": false
   },
   "outputs": [],
   "source": [
    "# Check outliers as a reference\n",
    "import numpy as np\n",
    "def find_outliers_tukey(x):\n",
    "    q1 = np.percentile(x,25)\n",
    "    q3 = np.percentile(x,75)\n",
    "    iqr = q3 - q1\n",
    "    floor = q1 - 1.5*iqr\n",
    "    ceiling = q3 + 1.5*iqr\n",
    "    outlier_indices = list(x.index[(x < floor) | (x > ceiling)])\n",
    "    outlier_values = list(x[outlier_indices])\n",
    "    \n",
    "    return outlier_indices, outlier_values"
   ]
  },
  {
   "cell_type": "code",
   "execution_count": 317,
   "metadata": {
    "collapsed": false
   },
   "outputs": [
    {
     "name": "stdout",
     "output_type": "stream",
     "text": [
      "Feature 'Unit Price' outliers (part)：[4810.00 4813.00 4833.00 4835.00 4845.00 4850.00 4875.00 4895.00 4896.00\n",
      " 4900.00] & [74900.00 79900.00 80000.00 84995.00 85900.00 86900.00 89900.00 94900.00\n",
      " 99900.00 99995.00]\n",
      "\n",
      "Number of outliers: 67154\n",
      "\n"
     ]
    }
   ],
   "source": [
    "# Outliers on SKU level\n",
    "np.set_printoptions(formatter={'float_kind':lambda x: \"%.2f\" % x})\n",
    "outlier_var = ['Unit Price']\n",
    "for x in outlier_var:\n",
    "    tukey_indices, tukey_values = find_outliers_tukey(df[x])\n",
    "    a = np.sort(tukey_values)\n",
    "    print \"Feature '{0}' outliers (part)：{1} & {2}\\n\".format(x,np.unique(a)[:10],np.unique(a)[-10:])\n",
    "    print \"Number of outliers: {0}\\n\".format(len(tukey_values))"
   ]
  },
  {
   "cell_type": "code",
   "execution_count": 318,
   "metadata": {
    "collapsed": false
   },
   "outputs": [
    {
     "data": {
      "text/html": [
       "<div>\n",
       "<style>\n",
       "    .dataframe thead tr:only-child th {\n",
       "        text-align: right;\n",
       "    }\n",
       "\n",
       "    .dataframe thead th {\n",
       "        text-align: left;\n",
       "    }\n",
       "\n",
       "    .dataframe tbody tr th {\n",
       "        vertical-align: top;\n",
       "    }\n",
       "</style>\n",
       "<table border=\"1\" class=\"dataframe\">\n",
       "  <thead>\n",
       "    <tr style=\"text-align: right;\">\n",
       "      <th></th>\n",
       "      <th>StoreID</th>\n",
       "      <th>TransactionID</th>\n",
       "      <th>Line</th>\n",
       "      <th>Sales</th>\n",
       "      <th>Count</th>\n",
       "      <th>Date</th>\n",
       "      <th>SKU</th>\n",
       "      <th>Type</th>\n",
       "    </tr>\n",
       "  </thead>\n",
       "  <tbody>\n",
       "    <tr>\n",
       "      <th>4793</th>\n",
       "      <td>A29</td>\n",
       "      <td>11-7270-00007-00223</td>\n",
       "      <td>1</td>\n",
       "      <td>99900.000</td>\n",
       "      <td>1.000</td>\n",
       "      <td>3/11/12 00:00</td>\n",
       "      <td>A21288</td>\n",
       "      <td></td>\n",
       "    </tr>\n",
       "    <tr>\n",
       "      <th>6491</th>\n",
       "      <td>A29</td>\n",
       "      <td>11-7270-00007-00223</td>\n",
       "      <td>11</td>\n",
       "      <td>6303.000</td>\n",
       "      <td>1.000</td>\n",
       "      <td>3/11/12 00:00</td>\n",
       "      <td>A25455</td>\n",
       "      <td></td>\n",
       "    </tr>\n",
       "    <tr>\n",
       "      <th>6492</th>\n",
       "      <td>A29</td>\n",
       "      <td>11-7270-00007-00223</td>\n",
       "      <td>12</td>\n",
       "      <td>725.000</td>\n",
       "      <td>1.000</td>\n",
       "      <td>3/11/12 00:00</td>\n",
       "      <td>A16206</td>\n",
       "      <td></td>\n",
       "    </tr>\n",
       "  </tbody>\n",
       "</table>\n",
       "</div>"
      ],
      "text/plain": [
       "     StoreID        TransactionID  Line     Sales  Count           Date  \\\n",
       "4793     A29  11-7270-00007-00223     1 99900.000  1.000  3/11/12 00:00   \n",
       "6491     A29  11-7270-00007-00223    11  6303.000  1.000  3/11/12 00:00   \n",
       "6492     A29  11-7270-00007-00223    12   725.000  1.000  3/11/12 00:00   \n",
       "\n",
       "         SKU Type  \n",
       "4793  A21288       \n",
       "6491  A25455       \n",
       "6492  A16206       "
      ]
     },
     "execution_count": 318,
     "metadata": {},
     "output_type": "execute_result"
    }
   ],
   "source": [
    "data_type[data_type.TransactionID=='11-7270-00007-00223']"
   ]
  },
  {
   "cell_type": "markdown",
   "metadata": {
    "collapsed": true
   },
   "source": [
    "**Treatment:** Leave outliers there as there is no reference for us to say they are not valid, so let's just assume they are."
   ]
  },
  {
   "cell_type": "markdown",
   "metadata": {},
   "source": [
    "<br><br>"
   ]
  },
  {
   "cell_type": "markdown",
   "metadata": {},
   "source": [
    "## Exploratory Data Analysis <a name='80'/>"
   ]
  },
  {
   "cell_type": "markdown",
   "metadata": {},
   "source": [
    "Please check **'EDA.ipynb'**"
   ]
  },
  {
   "cell_type": "markdown",
   "metadata": {},
   "source": [
    "<br><br>"
   ]
  },
  {
   "cell_type": "markdown",
   "metadata": {},
   "source": [
    "## Actual Analysis <a name='90'/>"
   ]
  },
  {
   "cell_type": "markdown",
   "metadata": {},
   "source": [
    "### 1. What is the impact of markdowns to sales on a per transaction level? <a name='9' />"
   ]
  },
  {
   "cell_type": "markdown",
   "metadata": {},
   "source": [
    "**Metrics:** Average sales per basket on transactions with discounted items and transactions without discounted items across all stores\n",
    "\n",
    "**Calculation Method:** 'Sum of sales / number of transactions' for  transactions with discounted items, and transactions without discounted items across the stores. And then compare the average sales per basket. (When there is an orphan return, we simply exclude them when calculating sales per transaction)\n",
    " \n"
   ]
  },
  {
   "cell_type": "code",
   "execution_count": 319,
   "metadata": {
    "collapsed": false
   },
   "outputs": [
    {
     "data": {
      "text/html": [
       "<div>\n",
       "<style>\n",
       "    .dataframe thead tr:only-child th {\n",
       "        text-align: right;\n",
       "    }\n",
       "\n",
       "    .dataframe thead th {\n",
       "        text-align: left;\n",
       "    }\n",
       "\n",
       "    .dataframe tbody tr th {\n",
       "        vertical-align: top;\n",
       "    }\n",
       "</style>\n",
       "<table border=\"1\" class=\"dataframe\">\n",
       "  <thead>\n",
       "    <tr style=\"text-align: right;\">\n",
       "      <th></th>\n",
       "      <th>StoreID</th>\n",
       "      <th>TransactionID</th>\n",
       "      <th>Line</th>\n",
       "      <th>Sales</th>\n",
       "      <th>Count</th>\n",
       "      <th>Date</th>\n",
       "      <th>SKU</th>\n",
       "      <th>Type</th>\n",
       "    </tr>\n",
       "  </thead>\n",
       "  <tbody>\n",
       "    <tr>\n",
       "      <th>0</th>\n",
       "      <td>A29</td>\n",
       "      <td>11-7270-00007-00057</td>\n",
       "      <td>36</td>\n",
       "      <td>850.000</td>\n",
       "      <td>1.000</td>\n",
       "      <td>3/11/12 00:00</td>\n",
       "      <td>A21773</td>\n",
       "      <td></td>\n",
       "    </tr>\n",
       "    <tr>\n",
       "      <th>1</th>\n",
       "      <td>A29</td>\n",
       "      <td>11-7270-00007-00057</td>\n",
       "      <td>39</td>\n",
       "      <td>1500.000</td>\n",
       "      <td>1.000</td>\n",
       "      <td>3/11/12 00:00</td>\n",
       "      <td>A18009</td>\n",
       "      <td></td>\n",
       "    </tr>\n",
       "    <tr>\n",
       "      <th>2</th>\n",
       "      <td>A29</td>\n",
       "      <td>11-7270-00007-00057</td>\n",
       "      <td>40</td>\n",
       "      <td>1500.000</td>\n",
       "      <td>1.000</td>\n",
       "      <td>3/11/12 00:00</td>\n",
       "      <td>A25592</td>\n",
       "      <td></td>\n",
       "    </tr>\n",
       "    <tr>\n",
       "      <th>3</th>\n",
       "      <td>A29</td>\n",
       "      <td>11-7270-00007-00057</td>\n",
       "      <td>41</td>\n",
       "      <td>1600.000</td>\n",
       "      <td>1.000</td>\n",
       "      <td>3/11/12 00:00</td>\n",
       "      <td>A1449</td>\n",
       "      <td></td>\n",
       "    </tr>\n",
       "    <tr>\n",
       "      <th>4</th>\n",
       "      <td>A29</td>\n",
       "      <td>11-7270-00007-00057</td>\n",
       "      <td>42</td>\n",
       "      <td>1600.000</td>\n",
       "      <td>1.000</td>\n",
       "      <td>3/11/12 00:00</td>\n",
       "      <td>A1449</td>\n",
       "      <td></td>\n",
       "    </tr>\n",
       "  </tbody>\n",
       "</table>\n",
       "</div>"
      ],
      "text/plain": [
       "  StoreID        TransactionID  Line    Sales  Count           Date     SKU  \\\n",
       "0     A29  11-7270-00007-00057    36  850.000  1.000  3/11/12 00:00  A21773   \n",
       "1     A29  11-7270-00007-00057    39 1500.000  1.000  3/11/12 00:00  A18009   \n",
       "2     A29  11-7270-00007-00057    40 1500.000  1.000  3/11/12 00:00  A25592   \n",
       "3     A29  11-7270-00007-00057    41 1600.000  1.000  3/11/12 00:00   A1449   \n",
       "4     A29  11-7270-00007-00057    42 1600.000  1.000  3/11/12 00:00   A1449   \n",
       "\n",
       "  Type  \n",
       "0       \n",
       "1       \n",
       "2       \n",
       "3       \n",
       "4       "
      ]
     },
     "execution_count": 319,
     "metadata": {},
     "output_type": "execute_result"
    }
   ],
   "source": [
    "data_type.head()"
   ]
  },
  {
   "cell_type": "code",
   "execution_count": 320,
   "metadata": {
    "collapsed": false
   },
   "outputs": [
    {
     "data": {
      "text/plain": [
       "192963"
      ]
     },
     "execution_count": 320,
     "metadata": {},
     "output_type": "execute_result"
    }
   ],
   "source": [
    "len(data_type.TransactionID.unique())"
   ]
  },
  {
   "cell_type": "code",
   "execution_count": 20,
   "metadata": {
    "collapsed": false
   },
   "outputs": [],
   "source": [
    "# Select transactions with discounted items \n",
    "q='''\n",
    "  select\n",
    "      a.*\n",
    "  from\n",
    "      data_type a\n",
    "  inner join\n",
    "      (select distinct TransactionID\n",
    "       from data_type\n",
    "       where Count=0) b\n",
    "  on\n",
    "      a.TransactionID=b.TransactionID \n",
    "  '''\n",
    "data50= pysqldf(q)"
   ]
  },
  {
   "cell_type": "code",
   "execution_count": 37,
   "metadata": {
    "collapsed": false
   },
   "outputs": [
    {
     "data": {
      "text/plain": [
       "73"
      ]
     },
     "execution_count": 37,
     "metadata": {},
     "output_type": "execute_result"
    }
   ],
   "source": [
    "len(data50.StoreID.unique())"
   ]
  },
  {
   "cell_type": "code",
   "execution_count": 21,
   "metadata": {
    "collapsed": false
   },
   "outputs": [],
   "source": [
    "# Select transactions with discounted items \n",
    "q='''\n",
    "  select\n",
    "      a.StoreID,\n",
    "      a.TransactionID,\n",
    "      sum(a.Count) as Counts,\n",
    "      sum(a.Sales) as Total\n",
    "  from\n",
    "      data_type a\n",
    "  inner join\n",
    "      (select distinct TransactionID\n",
    "       from data_type\n",
    "       where Count=0) b\n",
    "  on\n",
    "      a.TransactionID=b.TransactionID\n",
    "  group by\n",
    "      a.TransactionID\n",
    "  order by\n",
    "      a.TransactionID  \n",
    "  '''\n",
    "data51= pysqldf(q)"
   ]
  },
  {
   "cell_type": "code",
   "execution_count": 39,
   "metadata": {
    "collapsed": false
   },
   "outputs": [
    {
     "data": {
      "text/html": [
       "<div>\n",
       "<style>\n",
       "    .dataframe thead tr:only-child th {\n",
       "        text-align: right;\n",
       "    }\n",
       "\n",
       "    .dataframe thead th {\n",
       "        text-align: left;\n",
       "    }\n",
       "\n",
       "    .dataframe tbody tr th {\n",
       "        vertical-align: top;\n",
       "    }\n",
       "</style>\n",
       "<table border=\"1\" class=\"dataframe\">\n",
       "  <thead>\n",
       "    <tr style=\"text-align: right;\">\n",
       "      <th></th>\n",
       "      <th>StoreID</th>\n",
       "      <th>TransactionID</th>\n",
       "      <th>Counts</th>\n",
       "      <th>Total</th>\n",
       "    </tr>\n",
       "  </thead>\n",
       "  <tbody>\n",
       "    <tr>\n",
       "      <th>0</th>\n",
       "      <td>A60</td>\n",
       "      <td>11-0160-00019-00003</td>\n",
       "      <td>10.0</td>\n",
       "      <td>3500.0</td>\n",
       "    </tr>\n",
       "    <tr>\n",
       "      <th>1</th>\n",
       "      <td>A60</td>\n",
       "      <td>11-0160-00019-00007</td>\n",
       "      <td>15.0</td>\n",
       "      <td>5000.0</td>\n",
       "    </tr>\n",
       "    <tr>\n",
       "      <th>2</th>\n",
       "      <td>A60</td>\n",
       "      <td>11-0160-00019-00008</td>\n",
       "      <td>15.0</td>\n",
       "      <td>5000.0</td>\n",
       "    </tr>\n",
       "    <tr>\n",
       "      <th>3</th>\n",
       "      <td>A60</td>\n",
       "      <td>11-0160-00019-00010</td>\n",
       "      <td>11.0</td>\n",
       "      <td>5000.0</td>\n",
       "    </tr>\n",
       "    <tr>\n",
       "      <th>4</th>\n",
       "      <td>A60</td>\n",
       "      <td>11-0160-00019-00011</td>\n",
       "      <td>16.0</td>\n",
       "      <td>7195.0</td>\n",
       "    </tr>\n",
       "  </tbody>\n",
       "</table>\n",
       "</div>"
      ],
      "text/plain": [
       "  StoreID        TransactionID  Counts   Total\n",
       "0     A60  11-0160-00019-00003    10.0  3500.0\n",
       "1     A60  11-0160-00019-00007    15.0  5000.0\n",
       "2     A60  11-0160-00019-00008    15.0  5000.0\n",
       "3     A60  11-0160-00019-00010    11.0  5000.0\n",
       "4     A60  11-0160-00019-00011    16.0  7195.0"
      ]
     },
     "execution_count": 39,
     "metadata": {},
     "output_type": "execute_result"
    }
   ],
   "source": [
    "data51.head()"
   ]
  },
  {
   "cell_type": "code",
   "execution_count": 40,
   "metadata": {
    "collapsed": false
   },
   "outputs": [
    {
     "data": {
      "text/html": [
       "<div>\n",
       "<style>\n",
       "    .dataframe thead tr:only-child th {\n",
       "        text-align: right;\n",
       "    }\n",
       "\n",
       "    .dataframe thead th {\n",
       "        text-align: left;\n",
       "    }\n",
       "\n",
       "    .dataframe tbody tr th {\n",
       "        vertical-align: top;\n",
       "    }\n",
       "</style>\n",
       "<table border=\"1\" class=\"dataframe\">\n",
       "  <thead>\n",
       "    <tr style=\"text-align: right;\">\n",
       "      <th></th>\n",
       "      <th>StoreID</th>\n",
       "      <th>TransactionID</th>\n",
       "      <th>Counts</th>\n",
       "      <th>Total</th>\n",
       "    </tr>\n",
       "  </thead>\n",
       "  <tbody>\n",
       "  </tbody>\n",
       "</table>\n",
       "</div>"
      ],
      "text/plain": [
       "Empty DataFrame\n",
       "Columns: [StoreID, TransactionID, Counts, Total]\n",
       "Index: []"
      ]
     },
     "execution_count": 40,
     "metadata": {},
     "output_type": "execute_result"
    }
   ],
   "source": [
    "data51[data51.Total<=0].head()"
   ]
  },
  {
   "cell_type": "code",
   "execution_count": 326,
   "metadata": {
    "collapsed": false
   },
   "outputs": [
    {
     "data": {
      "text/html": [
       "<div>\n",
       "<style>\n",
       "    .dataframe thead tr:only-child th {\n",
       "        text-align: right;\n",
       "    }\n",
       "\n",
       "    .dataframe thead th {\n",
       "        text-align: left;\n",
       "    }\n",
       "\n",
       "    .dataframe tbody tr th {\n",
       "        vertical-align: top;\n",
       "    }\n",
       "</style>\n",
       "<table border=\"1\" class=\"dataframe\">\n",
       "  <thead>\n",
       "    <tr style=\"text-align: right;\">\n",
       "      <th></th>\n",
       "      <th>StoreID</th>\n",
       "      <th>TransactionID</th>\n",
       "      <th>Line</th>\n",
       "      <th>Sales</th>\n",
       "      <th>Count</th>\n",
       "      <th>Date</th>\n",
       "      <th>SKU</th>\n",
       "      <th>Type</th>\n",
       "    </tr>\n",
       "  </thead>\n",
       "  <tbody>\n",
       "    <tr>\n",
       "      <th>47878</th>\n",
       "      <td>A78</td>\n",
       "      <td>11-5634-00024-00094</td>\n",
       "      <td>5</td>\n",
       "      <td>6995.000</td>\n",
       "      <td>1.000</td>\n",
       "      <td>3/11/12 00:00</td>\n",
       "      <td>A11213</td>\n",
       "      <td></td>\n",
       "    </tr>\n",
       "    <tr>\n",
       "      <th>47879</th>\n",
       "      <td>A78</td>\n",
       "      <td>11-5634-00024-00094</td>\n",
       "      <td>6</td>\n",
       "      <td>-4495.000</td>\n",
       "      <td>0.000</td>\n",
       "      <td>3/11/12 00:00</td>\n",
       "      <td>A11213</td>\n",
       "      <td></td>\n",
       "    </tr>\n",
       "    <tr>\n",
       "      <th>47880</th>\n",
       "      <td>A78</td>\n",
       "      <td>11-5634-00024-00094</td>\n",
       "      <td>7</td>\n",
       "      <td>6995.000</td>\n",
       "      <td>1.000</td>\n",
       "      <td>3/11/12 00:00</td>\n",
       "      <td>A11213</td>\n",
       "      <td></td>\n",
       "    </tr>\n",
       "    <tr>\n",
       "      <th>47881</th>\n",
       "      <td>A78</td>\n",
       "      <td>11-5634-00024-00094</td>\n",
       "      <td>8</td>\n",
       "      <td>-4495.000</td>\n",
       "      <td>0.000</td>\n",
       "      <td>3/11/12 00:00</td>\n",
       "      <td>A11213</td>\n",
       "      <td></td>\n",
       "    </tr>\n",
       "  </tbody>\n",
       "</table>\n",
       "</div>"
      ],
      "text/plain": [
       "      StoreID        TransactionID  Line     Sales  Count           Date  \\\n",
       "47878     A78  11-5634-00024-00094     5  6995.000  1.000  3/11/12 00:00   \n",
       "47879     A78  11-5634-00024-00094     6 -4495.000  0.000  3/11/12 00:00   \n",
       "47880     A78  11-5634-00024-00094     7  6995.000  1.000  3/11/12 00:00   \n",
       "47881     A78  11-5634-00024-00094     8 -4495.000  0.000  3/11/12 00:00   \n",
       "\n",
       "          SKU Type  \n",
       "47878  A11213       \n",
       "47879  A11213       \n",
       "47880  A11213       \n",
       "47881  A11213       "
      ]
     },
     "execution_count": 326,
     "metadata": {},
     "output_type": "execute_result"
    }
   ],
   "source": [
    "data_type[data_type.TransactionID=='11-5634-00024-00094']"
   ]
  },
  {
   "cell_type": "code",
   "execution_count": 328,
   "metadata": {
    "collapsed": false
   },
   "outputs": [
    {
     "name": "stdout",
     "output_type": "stream",
     "text": [
      "Average sales per basket for those transactions include discounted items is 14412.4469103.\n"
     ]
    }
   ],
   "source": [
    "# Average sales per basket (there are discount items in transactions)\n",
    "avg_rev_discount = data51.Total.sum() / data51.TransactionID.size\n",
    "\n",
    "print 'Average sales per basket for those transactions include discounted items is {0}.'.format(avg_rev_discount)"
   ]
  },
  {
   "cell_type": "code",
   "execution_count": 26,
   "metadata": {
    "collapsed": false,
    "scrolled": false
   },
   "outputs": [],
   "source": [
    "# Average sales per basket in different store\n",
    "# avg_rev_discount_store = data50.groupby('StoreID').Total.sum() / data50.groupby('StoreID').TransactionID.size()"
   ]
  },
  {
   "cell_type": "code",
   "execution_count": 332,
   "metadata": {
    "collapsed": false
   },
   "outputs": [
    {
     "data": {
      "text/html": [
       "<div>\n",
       "<style>\n",
       "    .dataframe thead tr:only-child th {\n",
       "        text-align: right;\n",
       "    }\n",
       "\n",
       "    .dataframe thead th {\n",
       "        text-align: left;\n",
       "    }\n",
       "\n",
       "    .dataframe tbody tr th {\n",
       "        vertical-align: top;\n",
       "    }\n",
       "</style>\n",
       "<table border=\"1\" class=\"dataframe\">\n",
       "  <thead>\n",
       "    <tr style=\"text-align: right;\">\n",
       "      <th></th>\n",
       "      <th>StoreID</th>\n",
       "      <th>TransactionID</th>\n",
       "      <th>Line</th>\n",
       "      <th>Sales</th>\n",
       "      <th>Count</th>\n",
       "      <th>Date</th>\n",
       "      <th>SKU</th>\n",
       "      <th>Type</th>\n",
       "    </tr>\n",
       "  </thead>\n",
       "  <tbody>\n",
       "    <tr>\n",
       "      <th>0</th>\n",
       "      <td>A29</td>\n",
       "      <td>11-7270-00007-00057</td>\n",
       "      <td>36</td>\n",
       "      <td>850.000</td>\n",
       "      <td>1.000</td>\n",
       "      <td>3/11/12 00:00</td>\n",
       "      <td>A21773</td>\n",
       "      <td></td>\n",
       "    </tr>\n",
       "    <tr>\n",
       "      <th>1</th>\n",
       "      <td>A29</td>\n",
       "      <td>11-7270-00007-00057</td>\n",
       "      <td>39</td>\n",
       "      <td>1500.000</td>\n",
       "      <td>1.000</td>\n",
       "      <td>3/11/12 00:00</td>\n",
       "      <td>A18009</td>\n",
       "      <td></td>\n",
       "    </tr>\n",
       "    <tr>\n",
       "      <th>2</th>\n",
       "      <td>A29</td>\n",
       "      <td>11-7270-00007-00057</td>\n",
       "      <td>40</td>\n",
       "      <td>1500.000</td>\n",
       "      <td>1.000</td>\n",
       "      <td>3/11/12 00:00</td>\n",
       "      <td>A25592</td>\n",
       "      <td></td>\n",
       "    </tr>\n",
       "    <tr>\n",
       "      <th>3</th>\n",
       "      <td>A29</td>\n",
       "      <td>11-7270-00007-00057</td>\n",
       "      <td>41</td>\n",
       "      <td>1600.000</td>\n",
       "      <td>1.000</td>\n",
       "      <td>3/11/12 00:00</td>\n",
       "      <td>A1449</td>\n",
       "      <td></td>\n",
       "    </tr>\n",
       "    <tr>\n",
       "      <th>4</th>\n",
       "      <td>A29</td>\n",
       "      <td>11-7270-00007-00057</td>\n",
       "      <td>42</td>\n",
       "      <td>1600.000</td>\n",
       "      <td>1.000</td>\n",
       "      <td>3/11/12 00:00</td>\n",
       "      <td>A1449</td>\n",
       "      <td></td>\n",
       "    </tr>\n",
       "  </tbody>\n",
       "</table>\n",
       "</div>"
      ],
      "text/plain": [
       "  StoreID        TransactionID  Line    Sales  Count           Date     SKU  \\\n",
       "0     A29  11-7270-00007-00057    36  850.000  1.000  3/11/12 00:00  A21773   \n",
       "1     A29  11-7270-00007-00057    39 1500.000  1.000  3/11/12 00:00  A18009   \n",
       "2     A29  11-7270-00007-00057    40 1500.000  1.000  3/11/12 00:00  A25592   \n",
       "3     A29  11-7270-00007-00057    41 1600.000  1.000  3/11/12 00:00   A1449   \n",
       "4     A29  11-7270-00007-00057    42 1600.000  1.000  3/11/12 00:00   A1449   \n",
       "\n",
       "  Type  \n",
       "0       \n",
       "1       \n",
       "2       \n",
       "3       \n",
       "4       "
      ]
     },
     "execution_count": 332,
     "metadata": {},
     "output_type": "execute_result"
    }
   ],
   "source": [
    "data50.head()"
   ]
  },
  {
   "cell_type": "code",
   "execution_count": 22,
   "metadata": {
    "collapsed": false
   },
   "outputs": [],
   "source": [
    "#Drop transactions with discounts\n",
    "data52 = pd.merge(data_type,data50,on=['StoreID','TransactionID','Line','Sales','Count','Date','SKU','Type'],how='left',indicator=True)\n",
    "data52 = data52[data52['_merge']=='left_only']\n",
    "data52.drop('_merge',1,inplace=True)"
   ]
  },
  {
   "cell_type": "code",
   "execution_count": 42,
   "metadata": {
    "collapsed": false
   },
   "outputs": [
    {
     "name": "stdout",
     "output_type": "stream",
     "text": [
      "(1041577, 8)\n",
      "(636727, 8)\n",
      "(404850, 8)\n",
      "61078\n",
      "131885\n"
     ]
    }
   ],
   "source": [
    "print data_type.shape\n",
    "print data50.shape\n",
    "print data52.shape\n",
    "print len(data51.TransactionID.unique())\n",
    "print len(data52.TransactionID.unique())"
   ]
  },
  {
   "cell_type": "code",
   "execution_count": 339,
   "metadata": {
    "collapsed": true
   },
   "outputs": [],
   "source": [
    "# Select transactions where there no discounted items \n",
    "q='''\n",
    "  select\n",
    "      StoreID,\n",
    "      TransactionID,\n",
    "      sum(Count) as Counts,\n",
    "      sum(Sales) as Total\n",
    "  from\n",
    "      data52 \n",
    "  group by\n",
    "      TransactionID\n",
    "  order by\n",
    "      TransactionID  \n",
    "  '''\n",
    "data53= pysqldf(q)"
   ]
  },
  {
   "cell_type": "code",
   "execution_count": 340,
   "metadata": {
    "collapsed": false
   },
   "outputs": [
    {
     "data": {
      "text/html": [
       "<div>\n",
       "<style>\n",
       "    .dataframe thead tr:only-child th {\n",
       "        text-align: right;\n",
       "    }\n",
       "\n",
       "    .dataframe thead th {\n",
       "        text-align: left;\n",
       "    }\n",
       "\n",
       "    .dataframe tbody tr th {\n",
       "        vertical-align: top;\n",
       "    }\n",
       "</style>\n",
       "<table border=\"1\" class=\"dataframe\">\n",
       "  <thead>\n",
       "    <tr style=\"text-align: right;\">\n",
       "      <th></th>\n",
       "      <th>StoreID</th>\n",
       "      <th>TransactionID</th>\n",
       "      <th>Counts</th>\n",
       "      <th>Total</th>\n",
       "    </tr>\n",
       "  </thead>\n",
       "  <tbody>\n",
       "    <tr>\n",
       "      <th>0</th>\n",
       "      <td>A60</td>\n",
       "      <td>11-0160-00019-00029</td>\n",
       "      <td>1.000</td>\n",
       "      <td>2000.000</td>\n",
       "    </tr>\n",
       "    <tr>\n",
       "      <th>1</th>\n",
       "      <td>A60</td>\n",
       "      <td>11-0160-00019-00031</td>\n",
       "      <td>1.000</td>\n",
       "      <td>1875.000</td>\n",
       "    </tr>\n",
       "    <tr>\n",
       "      <th>2</th>\n",
       "      <td>A60</td>\n",
       "      <td>11-0160-00021-00008</td>\n",
       "      <td>1.000</td>\n",
       "      <td>2195.000</td>\n",
       "    </tr>\n",
       "  </tbody>\n",
       "</table>\n",
       "</div>"
      ],
      "text/plain": [
       "  StoreID        TransactionID  Counts    Total\n",
       "0     A60  11-0160-00019-00029   1.000 2000.000\n",
       "1     A60  11-0160-00019-00031   1.000 1875.000\n",
       "2     A60  11-0160-00021-00008   1.000 2195.000"
      ]
     },
     "execution_count": 340,
     "metadata": {},
     "output_type": "execute_result"
    }
   ],
   "source": [
    "data53.head(3)"
   ]
  },
  {
   "cell_type": "code",
   "execution_count": 342,
   "metadata": {
    "collapsed": false
   },
   "outputs": [
    {
     "name": "stdout",
     "output_type": "stream",
     "text": [
      "Average sales per basket for those transactions include non-discounted items is 7245.54336692.\n"
     ]
    }
   ],
   "source": [
    "# Average sales per basket (there aren't any discount items in transactions)\n",
    "avg_rev_discount1 = data53.Total.sum() / data53.TransactionID.size\n",
    "\n",
    "print 'Average sales per basket for those transactions include non-discounted items is {0}.'.format(avg_rev_discount1)"
   ]
  },
  {
   "cell_type": "code",
   "execution_count": 22,
   "metadata": {
    "collapsed": true
   },
   "outputs": [],
   "source": [
    "# Average sales per basket without discount items in different store\n",
    "# avg_rev_discount_store1 = data52.groupby('StoreID').Total.sum() / data52.groupby('StoreID').TransactionID.size()"
   ]
  },
  {
   "cell_type": "code",
   "execution_count": 47,
   "metadata": {
    "collapsed": true
   },
   "outputs": [],
   "source": [
    "# Visualization\n",
    "import matplotlib.pyplot as plt\n",
    "import numpy as np\n",
    "%matplotlib inline"
   ]
  },
  {
   "cell_type": "code",
   "execution_count": 347,
   "metadata": {
    "collapsed": false
   },
   "outputs": [
    {
     "data": {
      "image/png": "[encoded data removed]",
      "text/plain": [
       "<matplotlib.figure.Figure at 0x13f256fd0>"
      ]
     },
     "metadata": {},
     "output_type": "display_data"
    }
   ],
   "source": [
    "fig, ax = plt.subplots(figsize=(8,5))\n",
    "x=np.arange(2)\n",
    "width=0.05\n",
    "rects1 = ax.bar(x,[avg_rev_discount1,avg_rev_discount])\n",
    "ax.set_ylabel('Average Revenue Per Basket')\n",
    "ax.set_ylim(0,20000)\n",
    "ax.set_title('Will Promotions Drive Up Average Revenue Per Basket?')\n",
    "ax.set_xticks(x+width/2 )\n",
    "ax.set_xticklabels(('without discount','with discount'))\n",
    "#annotate\n",
    "def autolabel(rects):\n",
    "    for rect in rects:\n",
    "        height=rect.get_height()\n",
    "        ax.text(rect.get_x()+rect.get_width()/2, 1.035*height, '{:.2f}$'.format(height), ha='center', va='bottom')\n",
    "autolabel(rects1)"
   ]
  },
  {
   "cell_type": "markdown",
   "metadata": {},
   "source": [
    "According to the above plot, we can conclude that promotions will drive up average sales per basket."
   ]
  },
  {
   "cell_type": "markdown",
   "metadata": {},
   "source": [
    "<br><br>"
   ]
  },
  {
   "cell_type": "markdown",
   "metadata": {},
   "source": [
    "### 2. How promotion strategy impacts sales on a per store basis? <a name='110' />"
   ]
  },
  {
   "cell_type": "markdown",
   "metadata": {},
   "source": [
    "**Metrics:** Average sales per basket on transactions with discounted items and transactions without discounted items for SPECIFIC STORE\n",
    "\n",
    "**Calculation Method:** For specific store, calculate 'Sum of sales / number of transactions' for transactions with discounted items, and transactions where there are no discounted. (when there is an orphan return, we simply exclude them when calculating sales per transaction)\n"
   ]
  },
  {
   "cell_type": "code",
   "execution_count": 23,
   "metadata": {
    "collapsed": false
   },
   "outputs": [],
   "source": [
    "# Select transactions with discounted items for specific store\n",
    "q='''\n",
    "  select\n",
    "      StoreID,\n",
    "      sum(Sales) as Total,\n",
    "      count(distinct TransactionID) as Number_of_Transactions,\n",
    "      sum(Sales)/count(distinct TransactionID) as 'Average sales per basket (with discounts)'\n",
    "  from\n",
    "      data50\n",
    "  group by\n",
    "      StoreID\n",
    "  \n",
    "  '''\n",
    "data70= pysqldf(q)"
   ]
  },
  {
   "cell_type": "code",
   "execution_count": 24,
   "metadata": {
    "collapsed": false
   },
   "outputs": [],
   "source": [
    "# Select transactions with discounted items for specific store\n",
    "q='''\n",
    "  select\n",
    "      StoreID,\n",
    "      sum(Sales) as Total,\n",
    "      count(distinct TransactionID) as Number_of_Transactions,\n",
    "      sum(Sales)/count(distinct TransactionID) as 'Average sales per basket (without discounts)'\n",
    "  from\n",
    "      data52\n",
    "  group by\n",
    "      StoreID\n",
    "  \n",
    "  '''\n",
    "data71= pysqldf(q)"
   ]
  },
  {
   "cell_type": "code",
   "execution_count": 25,
   "metadata": {
    "collapsed": false
   },
   "outputs": [
    {
     "data": {
      "text/html": [
       "<div>\n",
       "<style>\n",
       "    .dataframe thead tr:only-child th {\n",
       "        text-align: right;\n",
       "    }\n",
       "\n",
       "    .dataframe thead th {\n",
       "        text-align: left;\n",
       "    }\n",
       "\n",
       "    .dataframe tbody tr th {\n",
       "        vertical-align: top;\n",
       "    }\n",
       "</style>\n",
       "<table border=\"1\" class=\"dataframe\">\n",
       "  <thead>\n",
       "    <tr style=\"text-align: right;\">\n",
       "      <th></th>\n",
       "      <th>StoreID</th>\n",
       "      <th>Total</th>\n",
       "      <th>Number_of_Transactions</th>\n",
       "      <th>Average sales per basket (with discounts)</th>\n",
       "    </tr>\n",
       "  </thead>\n",
       "  <tbody>\n",
       "    <tr>\n",
       "      <th>0</th>\n",
       "      <td>A01</td>\n",
       "      <td>11753538.0</td>\n",
       "      <td>1119</td>\n",
       "      <td>10503.608579</td>\n",
       "    </tr>\n",
       "    <tr>\n",
       "      <th>1</th>\n",
       "      <td>A02</td>\n",
       "      <td>8924445.0</td>\n",
       "      <td>515</td>\n",
       "      <td>17329.019417</td>\n",
       "    </tr>\n",
       "    <tr>\n",
       "      <th>2</th>\n",
       "      <td>A03</td>\n",
       "      <td>9940988.0</td>\n",
       "      <td>614</td>\n",
       "      <td>16190.534202</td>\n",
       "    </tr>\n",
       "  </tbody>\n",
       "</table>\n",
       "</div>"
      ],
      "text/plain": [
       "  StoreID       Total  Number_of_Transactions  \\\n",
       "0     A01  11753538.0                    1119   \n",
       "1     A02   8924445.0                     515   \n",
       "2     A03   9940988.0                     614   \n",
       "\n",
       "   Average sales per basket (with discounts)  \n",
       "0                               10503.608579  \n",
       "1                               17329.019417  \n",
       "2                               16190.534202  "
      ]
     },
     "execution_count": 25,
     "metadata": {},
     "output_type": "execute_result"
    }
   ],
   "source": [
    "data70.head(3)"
   ]
  },
  {
   "cell_type": "code",
   "execution_count": 26,
   "metadata": {
    "collapsed": false
   },
   "outputs": [
    {
     "data": {
      "text/html": [
       "<div>\n",
       "<style>\n",
       "    .dataframe thead tr:only-child th {\n",
       "        text-align: right;\n",
       "    }\n",
       "\n",
       "    .dataframe thead th {\n",
       "        text-align: left;\n",
       "    }\n",
       "\n",
       "    .dataframe tbody tr th {\n",
       "        vertical-align: top;\n",
       "    }\n",
       "</style>\n",
       "<table border=\"1\" class=\"dataframe\">\n",
       "  <thead>\n",
       "    <tr style=\"text-align: right;\">\n",
       "      <th></th>\n",
       "      <th>StoreID</th>\n",
       "      <th>Total</th>\n",
       "      <th>Number_of_Transactions</th>\n",
       "      <th>Average sales per basket (without discounts)</th>\n",
       "    </tr>\n",
       "  </thead>\n",
       "  <tbody>\n",
       "    <tr>\n",
       "      <th>0</th>\n",
       "      <td>A01</td>\n",
       "      <td>1.225755e+07</td>\n",
       "      <td>2323</td>\n",
       "      <td>5276.603099</td>\n",
       "    </tr>\n",
       "    <tr>\n",
       "      <th>1</th>\n",
       "      <td>A02</td>\n",
       "      <td>1.086761e+07</td>\n",
       "      <td>1212</td>\n",
       "      <td>8966.671616</td>\n",
       "    </tr>\n",
       "    <tr>\n",
       "      <th>2</th>\n",
       "      <td>A03</td>\n",
       "      <td>8.835739e+06</td>\n",
       "      <td>1145</td>\n",
       "      <td>7716.802270</td>\n",
       "    </tr>\n",
       "  </tbody>\n",
       "</table>\n",
       "</div>"
      ],
      "text/plain": [
       "  StoreID         Total  Number_of_Transactions  \\\n",
       "0     A01  1.225755e+07                    2323   \n",
       "1     A02  1.086761e+07                    1212   \n",
       "2     A03  8.835739e+06                    1145   \n",
       "\n",
       "   Average sales per basket (without discounts)  \n",
       "0                                   5276.603099  \n",
       "1                                   8966.671616  \n",
       "2                                   7716.802270  "
      ]
     },
     "execution_count": 26,
     "metadata": {},
     "output_type": "execute_result"
    }
   ],
   "source": [
    "data71.head(3)"
   ]
  },
  {
   "cell_type": "code",
   "execution_count": 39,
   "metadata": {
    "collapsed": false
   },
   "outputs": [],
   "source": [
    "data72=pd.DataFrame()"
   ]
  },
  {
   "cell_type": "code",
   "execution_count": 40,
   "metadata": {
    "collapsed": false
   },
   "outputs": [],
   "source": [
    "data72['StoreID']=data70['StoreID']\n",
    "data72['Average sales per basket (without discounts)']= data71['Average sales per basket (without discounts)']\n",
    "data72['Average sales per basket (with discounts)']=data70['Average sales per basket (with discounts)']\n",
    "data72['Percent Change in Average Sales Per Basket']=(data70['Average sales per basket (with discounts)']-\n",
    "                                                      data71['Average sales per basket (without discounts)'])/data71['Average sales per basket (without discounts)']"
   ]
  },
  {
   "cell_type": "code",
   "execution_count": 43,
   "metadata": {
    "collapsed": false
   },
   "outputs": [
    {
     "data": {
      "text/html": [
       "<div>\n",
       "<style>\n",
       "    .dataframe thead tr:only-child th {\n",
       "        text-align: right;\n",
       "    }\n",
       "\n",
       "    .dataframe thead th {\n",
       "        text-align: left;\n",
       "    }\n",
       "\n",
       "    .dataframe tbody tr th {\n",
       "        vertical-align: top;\n",
       "    }\n",
       "</style>\n",
       "<table border=\"1\" class=\"dataframe\">\n",
       "  <thead>\n",
       "    <tr style=\"text-align: right;\">\n",
       "      <th></th>\n",
       "      <th>StoreID</th>\n",
       "      <th>Average sales per basket (without discounts)</th>\n",
       "      <th>Average sales per basket (with discounts)</th>\n",
       "      <th>Percent Change in Average Sales Per Basket</th>\n",
       "    </tr>\n",
       "  </thead>\n",
       "  <tbody>\n",
       "    <tr>\n",
       "      <th>0</th>\n",
       "      <td>A01</td>\n",
       "      <td>5276.603</td>\n",
       "      <td>10503.609</td>\n",
       "      <td>0.991</td>\n",
       "    </tr>\n",
       "    <tr>\n",
       "      <th>1</th>\n",
       "      <td>A02</td>\n",
       "      <td>8966.672</td>\n",
       "      <td>17329.019</td>\n",
       "      <td>0.933</td>\n",
       "    </tr>\n",
       "    <tr>\n",
       "      <th>2</th>\n",
       "      <td>A03</td>\n",
       "      <td>7716.802</td>\n",
       "      <td>16190.534</td>\n",
       "      <td>1.098</td>\n",
       "    </tr>\n",
       "  </tbody>\n",
       "</table>\n",
       "</div>"
      ],
      "text/plain": [
       "  StoreID  Average sales per basket (without discounts)  \\\n",
       "0     A01                                      5276.603   \n",
       "1     A02                                      8966.672   \n",
       "2     A03                                      7716.802   \n",
       "\n",
       "   Average sales per basket (with discounts)  \\\n",
       "0                                  10503.609   \n",
       "1                                  17329.019   \n",
       "2                                  16190.534   \n",
       "\n",
       "   Percent Change in Average Sales Per Basket  \n",
       "0                                       0.991  \n",
       "1                                       0.933  \n",
       "2                                       1.098  "
      ]
     },
     "execution_count": 43,
     "metadata": {},
     "output_type": "execute_result"
    }
   ],
   "source": [
    "data72.head(3)"
   ]
  },
  {
   "cell_type": "code",
   "execution_count": 50,
   "metadata": {
    "collapsed": false,
    "scrolled": true
   },
   "outputs": [
    {
     "data": {
      "text/html": [
       "<div>\n",
       "<style>\n",
       "    .dataframe thead tr:only-child th {\n",
       "        text-align: right;\n",
       "    }\n",
       "\n",
       "    .dataframe thead th {\n",
       "        text-align: left;\n",
       "    }\n",
       "\n",
       "    .dataframe tbody tr th {\n",
       "        vertical-align: top;\n",
       "    }\n",
       "</style>\n",
       "<table border=\"1\" class=\"dataframe\">\n",
       "  <thead>\n",
       "    <tr style=\"text-align: right;\">\n",
       "      <th></th>\n",
       "      <th>StoreID</th>\n",
       "      <th>Average sales per basket (without discounts)</th>\n",
       "      <th>Average sales per basket (with discounts)</th>\n",
       "      <th>Percent Change in Average Sales Per Basket</th>\n",
       "    </tr>\n",
       "  </thead>\n",
       "  <tbody>\n",
       "    <tr>\n",
       "      <th>50</th>\n",
       "      <td>A57</td>\n",
       "      <td>5612.848</td>\n",
       "      <td>13587.298</td>\n",
       "      <td>1.421</td>\n",
       "    </tr>\n",
       "    <tr>\n",
       "      <th>43</th>\n",
       "      <td>A49</td>\n",
       "      <td>8622.905</td>\n",
       "      <td>20754.742</td>\n",
       "      <td>1.407</td>\n",
       "    </tr>\n",
       "    <tr>\n",
       "      <th>51</th>\n",
       "      <td>A58</td>\n",
       "      <td>5872.985</td>\n",
       "      <td>13645.712</td>\n",
       "      <td>1.323</td>\n",
       "    </tr>\n",
       "    <tr>\n",
       "      <th>68</th>\n",
       "      <td>A78</td>\n",
       "      <td>7361.795</td>\n",
       "      <td>17091.231</td>\n",
       "      <td>1.322</td>\n",
       "    </tr>\n",
       "    <tr>\n",
       "      <th>70</th>\n",
       "      <td>A85</td>\n",
       "      <td>2374.920</td>\n",
       "      <td>5346.659</td>\n",
       "      <td>1.251</td>\n",
       "    </tr>\n",
       "  </tbody>\n",
       "</table>\n",
       "</div>"
      ],
      "text/plain": [
       "   StoreID  Average sales per basket (without discounts)  \\\n",
       "50     A57                                      5612.848   \n",
       "43     A49                                      8622.905   \n",
       "51     A58                                      5872.985   \n",
       "68     A78                                      7361.795   \n",
       "70     A85                                      2374.920   \n",
       "\n",
       "    Average sales per basket (with discounts)  \\\n",
       "50                                  13587.298   \n",
       "43                                  20754.742   \n",
       "51                                  13645.712   \n",
       "68                                  17091.231   \n",
       "70                                   5346.659   \n",
       "\n",
       "    Percent Change in Average Sales Per Basket  \n",
       "50                                       1.421  \n",
       "43                                       1.407  \n",
       "51                                       1.323  \n",
       "68                                       1.322  \n",
       "70                                       1.251  "
      ]
     },
     "execution_count": 50,
     "metadata": {},
     "output_type": "execute_result"
    }
   ],
   "source": [
    "data73 = data72.sort_values(['Percent Change in Average Sales Per Basket'], ascending=[False]).head(10)\n",
    "\n",
    "data73.head()"
   ]
  },
  {
   "cell_type": "code",
   "execution_count": 52,
   "metadata": {
    "collapsed": false
   },
   "outputs": [
    {
     "data": {
      "text/plain": [
       "<matplotlib.legend.Legend at 0x11cfe01d0>"
      ]
     },
     "execution_count": 52,
     "metadata": {},
     "output_type": "execute_result"
    },
    {
     "data": {
      "image/png": "[encoded data removed]",
      "text/plain": [
       "<matplotlib.figure.Figure at 0x11d063ad0>"
      ]
     },
     "metadata": {},
     "output_type": "display_data"
    }
   ],
   "source": [
    "fig, ax = plt.subplots(figsize=(8,5))\n",
    "x=np.arange(10)\n",
    "width=0.05\n",
    "rects1 = ax.bar(x,data73['Average sales per basket (with discounts)'][:10])\n",
    "rects2 = ax.bar(x,data73['Average sales per basket (without discounts)'][:10])\n",
    "ax.set_ylabel('Average Revenue Per Basket')\n",
    "ax.set_xlabel('StoreID')\n",
    "ax.set_ylim(0,23000)\n",
    "ax.set_title('Pick top 10 Stores which have best performance on markdowns')\n",
    "ax.set_xticks(x+width/2)\n",
    "ax.set_xticklabels(('A57','A49','A58','A78','A85','A28','A40','A39','A56','A05'))\n",
    "ax.legend((rects1[0],rects2[0]),('With Discounts','Without Discounts'))"
   ]
  },
  {
   "cell_type": "markdown",
   "metadata": {},
   "source": [
    "According to the above plot, promotions will drive up average revenue per basket on a per store basis.\n",
    "\n",
    "We pick up top 10 stores which have best performance on markdown strategies, we want to find out why these stores are better than others. What's going on? What might happen?\n",
    "\n",
    "To gain more insights on why these stores have better performance on markdown strategies, we need to gain additional data like customer's income level, demographic information (age,sex, ethnic), and geo-location of the stores. Based on the information gained from the areas where the store are located, we can have a better understanding on how stores give their promotion strategies.\n",
    "\n",
    "\n"
   ]
  },
  {
   "cell_type": "markdown",
   "metadata": {},
   "source": [
    "<br><br>"
   ]
  },
  {
   "cell_type": "markdown",
   "metadata": {},
   "source": [
    "### 3. If a product is discounted across different stores, how are you going to evaluate the promotion strategy?\n",
    " <a name='10' />\n"
   ]
  },
  {
   "cell_type": "markdown",
   "metadata": {},
   "source": [
    "We can calculate discount rate based on sku basis, and compare store by store performance.\n",
    "\n",
    "Our purpose is to drive up demand and make sure the company is profitable. We don't want to give discounts unless it's necessary.  Therefore, additional data points we can collect will be **income level** in a area in each of stores. For example, in certain area, the elasticity of demand is not very high, people don't respond to the price, we don't have to give these people the discounts to drive up the demand since their income level is high.  We can also talk about **demographic information** (do they really need it), like sex, ethnic. For example, in a area where people are mostly Caucasians, the elasticity of demand is pretty low since they don't need it. It will help store manager to understand which product to discount within a neighborhood. Also, **geo-location (zip code)** is important. Since income level and demographic are all related with geo-location.\n"
   ]
  },
  {
   "cell_type": "markdown",
   "metadata": {},
   "source": [
    "**(a)** \n",
    "\n",
    "**Metrics:** Elasticity of Demand on SKU level within each store\n",
    "\n",
    "**Calculation Method:** Percent change in average # items bought for this SKU before and after discount per basket within each store/ Percent change in price for this SKU before and after discount within each store\n",
    "\n"
   ]
  },
  {
   "cell_type": "code",
   "execution_count": 349,
   "metadata": {
    "collapsed": false
   },
   "outputs": [
    {
     "data": {
      "text/html": [
       "<div>\n",
       "<style>\n",
       "    .dataframe thead tr:only-child th {\n",
       "        text-align: right;\n",
       "    }\n",
       "\n",
       "    .dataframe thead th {\n",
       "        text-align: left;\n",
       "    }\n",
       "\n",
       "    .dataframe tbody tr th {\n",
       "        vertical-align: top;\n",
       "    }\n",
       "</style>\n",
       "<table border=\"1\" class=\"dataframe\">\n",
       "  <thead>\n",
       "    <tr style=\"text-align: right;\">\n",
       "      <th></th>\n",
       "      <th>StoreID</th>\n",
       "      <th>TransactionID</th>\n",
       "      <th>Line</th>\n",
       "      <th>Sales</th>\n",
       "      <th>Count</th>\n",
       "      <th>Date</th>\n",
       "      <th>SKU</th>\n",
       "      <th>Type</th>\n",
       "    </tr>\n",
       "  </thead>\n",
       "  <tbody>\n",
       "    <tr>\n",
       "      <th>0</th>\n",
       "      <td>A29</td>\n",
       "      <td>11-7270-00007-00057</td>\n",
       "      <td>36</td>\n",
       "      <td>850.000</td>\n",
       "      <td>1.000</td>\n",
       "      <td>3/11/12 00:00</td>\n",
       "      <td>A21773</td>\n",
       "      <td></td>\n",
       "    </tr>\n",
       "    <tr>\n",
       "      <th>1</th>\n",
       "      <td>A29</td>\n",
       "      <td>11-7270-00007-00057</td>\n",
       "      <td>39</td>\n",
       "      <td>1500.000</td>\n",
       "      <td>1.000</td>\n",
       "      <td>3/11/12 00:00</td>\n",
       "      <td>A18009</td>\n",
       "      <td></td>\n",
       "    </tr>\n",
       "    <tr>\n",
       "      <th>2</th>\n",
       "      <td>A29</td>\n",
       "      <td>11-7270-00007-00057</td>\n",
       "      <td>40</td>\n",
       "      <td>1500.000</td>\n",
       "      <td>1.000</td>\n",
       "      <td>3/11/12 00:00</td>\n",
       "      <td>A25592</td>\n",
       "      <td></td>\n",
       "    </tr>\n",
       "    <tr>\n",
       "      <th>3</th>\n",
       "      <td>A29</td>\n",
       "      <td>11-7270-00007-00057</td>\n",
       "      <td>41</td>\n",
       "      <td>1600.000</td>\n",
       "      <td>1.000</td>\n",
       "      <td>3/11/12 00:00</td>\n",
       "      <td>A1449</td>\n",
       "      <td></td>\n",
       "    </tr>\n",
       "    <tr>\n",
       "      <th>4</th>\n",
       "      <td>A29</td>\n",
       "      <td>11-7270-00007-00057</td>\n",
       "      <td>42</td>\n",
       "      <td>1600.000</td>\n",
       "      <td>1.000</td>\n",
       "      <td>3/11/12 00:00</td>\n",
       "      <td>A1449</td>\n",
       "      <td></td>\n",
       "    </tr>\n",
       "  </tbody>\n",
       "</table>\n",
       "</div>"
      ],
      "text/plain": [
       "  StoreID        TransactionID  Line    Sales  Count           Date     SKU  \\\n",
       "0     A29  11-7270-00007-00057    36  850.000  1.000  3/11/12 00:00  A21773   \n",
       "1     A29  11-7270-00007-00057    39 1500.000  1.000  3/11/12 00:00  A18009   \n",
       "2     A29  11-7270-00007-00057    40 1500.000  1.000  3/11/12 00:00  A25592   \n",
       "3     A29  11-7270-00007-00057    41 1600.000  1.000  3/11/12 00:00   A1449   \n",
       "4     A29  11-7270-00007-00057    42 1600.000  1.000  3/11/12 00:00   A1449   \n",
       "\n",
       "  Type  \n",
       "0       \n",
       "1       \n",
       "2       \n",
       "3       \n",
       "4       "
      ]
     },
     "execution_count": 349,
     "metadata": {},
     "output_type": "execute_result"
    }
   ],
   "source": [
    "data_type.head()"
   ]
  },
  {
   "cell_type": "markdown",
   "metadata": {},
   "source": [
    "#### Calculation for each SKU across stores"
   ]
  },
  {
   "cell_type": "code",
   "execution_count": 4,
   "metadata": {
    "collapsed": true
   },
   "outputs": [],
   "source": [
    "from pandasql import sqldf\n",
    "pysqldf = lambda q: sqldf(q, globals())"
   ]
  },
  {
   "cell_type": "code",
   "execution_count": 230,
   "metadata": {
    "collapsed": false
   },
   "outputs": [],
   "source": [
    "# Select transactions with discounted items for specific SKU\n",
    "q = '''\n",
    "    select\n",
    "        a.*\n",
    "    from\n",
    "        data_type a\n",
    "    join\n",
    "       (select distinct TransactionID, SKU from data_type where Count=0) b\n",
    "    on\n",
    "        a.TransactionID=b.TransactionID and a.SKU=b.SKU\n",
    "    order by \n",
    "        a.StoreID, a.SKU\n",
    "    '''\n",
    "data60 = pysqldf(q)"
   ]
  },
  {
   "cell_type": "code",
   "execution_count": 102,
   "metadata": {
    "collapsed": false
   },
   "outputs": [
    {
     "data": {
      "text/html": [
       "<div>\n",
       "<style>\n",
       "    .dataframe thead tr:only-child th {\n",
       "        text-align: right;\n",
       "    }\n",
       "\n",
       "    .dataframe thead th {\n",
       "        text-align: left;\n",
       "    }\n",
       "\n",
       "    .dataframe tbody tr th {\n",
       "        vertical-align: top;\n",
       "    }\n",
       "</style>\n",
       "<table border=\"1\" class=\"dataframe\">\n",
       "  <thead>\n",
       "    <tr style=\"text-align: right;\">\n",
       "      <th></th>\n",
       "      <th>StoreID</th>\n",
       "      <th>TransactionID</th>\n",
       "      <th>Line</th>\n",
       "      <th>Sales</th>\n",
       "      <th>Count</th>\n",
       "      <th>Date</th>\n",
       "      <th>SKU</th>\n",
       "      <th>Type</th>\n",
       "    </tr>\n",
       "  </thead>\n",
       "  <tbody>\n",
       "    <tr>\n",
       "      <th>0</th>\n",
       "      <td>A01</td>\n",
       "      <td>12-7149-00002-00679</td>\n",
       "      <td>6</td>\n",
       "      <td>2095.000</td>\n",
       "      <td>1.000</td>\n",
       "      <td>3/12/12 00:00</td>\n",
       "      <td>A10074</td>\n",
       "      <td></td>\n",
       "    </tr>\n",
       "    <tr>\n",
       "      <th>1</th>\n",
       "      <td>A01</td>\n",
       "      <td>12-7149-00002-00679</td>\n",
       "      <td>7</td>\n",
       "      <td>-357.000</td>\n",
       "      <td>0.000</td>\n",
       "      <td>3/12/12 00:00</td>\n",
       "      <td>A10074</td>\n",
       "      <td></td>\n",
       "    </tr>\n",
       "    <tr>\n",
       "      <th>2</th>\n",
       "      <td>A01</td>\n",
       "      <td>12-7149-00003-00011</td>\n",
       "      <td>11</td>\n",
       "      <td>2095.000</td>\n",
       "      <td>1.000</td>\n",
       "      <td>3/12/12 00:00</td>\n",
       "      <td>A10074</td>\n",
       "      <td></td>\n",
       "    </tr>\n",
       "    <tr>\n",
       "      <th>3</th>\n",
       "      <td>A01</td>\n",
       "      <td>12-7149-00003-00011</td>\n",
       "      <td>12</td>\n",
       "      <td>-436.000</td>\n",
       "      <td>0.000</td>\n",
       "      <td>3/12/12 00:00</td>\n",
       "      <td>A10074</td>\n",
       "      <td></td>\n",
       "    </tr>\n",
       "    <tr>\n",
       "      <th>4</th>\n",
       "      <td>A01</td>\n",
       "      <td>12-7149-00002-00234</td>\n",
       "      <td>1</td>\n",
       "      <td>2095.000</td>\n",
       "      <td>1.000</td>\n",
       "      <td>3/12/12 00:00</td>\n",
       "      <td>A1009</td>\n",
       "      <td></td>\n",
       "    </tr>\n",
       "  </tbody>\n",
       "</table>\n",
       "</div>"
      ],
      "text/plain": [
       "  StoreID        TransactionID  Line    Sales  Count           Date     SKU  \\\n",
       "0     A01  12-7149-00002-00679     6 2095.000  1.000  3/12/12 00:00  A10074   \n",
       "1     A01  12-7149-00002-00679     7 -357.000  0.000  3/12/12 00:00  A10074   \n",
       "2     A01  12-7149-00003-00011    11 2095.000  1.000  3/12/12 00:00  A10074   \n",
       "3     A01  12-7149-00003-00011    12 -436.000  0.000  3/12/12 00:00  A10074   \n",
       "4     A01  12-7149-00002-00234     1 2095.000  1.000  3/12/12 00:00   A1009   \n",
       "\n",
       "  Type  \n",
       "0       \n",
       "1       \n",
       "2       \n",
       "3       \n",
       "4       "
      ]
     },
     "execution_count": 102,
     "metadata": {},
     "output_type": "execute_result"
    }
   ],
   "source": [
    "data60.head(5)"
   ]
  },
  {
   "cell_type": "code",
   "execution_count": 231,
   "metadata": {
    "collapsed": true
   },
   "outputs": [],
   "source": [
    "# Select transactions with discounted items for specific SKU\n",
    "q = '''\n",
    "    select\n",
    "        a.StoreID, a.SKU, sum(a.Count)/count(distinct a.TransactionID) as 'Average_#_discounted_items_bought_for_this_SKU_per_basket'\n",
    "        , sum(a.Sales)/sum(a.Count) as 'Discount_Price'\n",
    "    from\n",
    "        data_type a\n",
    "    join\n",
    "       (select distinct TransactionID, SKU from data_type where Count=0) b\n",
    "    on\n",
    "        a.TransactionID=b.TransactionID and a.SKU=b.SKU\n",
    "    group by \n",
    "        a.StoreID, a.SKU\n",
    "    '''\n",
    "data61 = pysqldf(q)"
   ]
  },
  {
   "cell_type": "code",
   "execution_count": 136,
   "metadata": {
    "collapsed": false
   },
   "outputs": [
    {
     "data": {
      "text/html": [
       "<div>\n",
       "<style>\n",
       "    .dataframe thead tr:only-child th {\n",
       "        text-align: right;\n",
       "    }\n",
       "\n",
       "    .dataframe thead th {\n",
       "        text-align: left;\n",
       "    }\n",
       "\n",
       "    .dataframe tbody tr th {\n",
       "        vertical-align: top;\n",
       "    }\n",
       "</style>\n",
       "<table border=\"1\" class=\"dataframe\">\n",
       "  <thead>\n",
       "    <tr style=\"text-align: right;\">\n",
       "      <th></th>\n",
       "      <th>StoreID</th>\n",
       "      <th>SKU</th>\n",
       "      <th>Average_#_discounted_items_bought_for_this_SKU_per_basket</th>\n",
       "      <th>Discount_Price</th>\n",
       "    </tr>\n",
       "  </thead>\n",
       "  <tbody>\n",
       "    <tr>\n",
       "      <th>0</th>\n",
       "      <td>A01</td>\n",
       "      <td>A10074</td>\n",
       "      <td>1.000</td>\n",
       "      <td>1698.500</td>\n",
       "    </tr>\n",
       "    <tr>\n",
       "      <th>1</th>\n",
       "      <td>A01</td>\n",
       "      <td>A1009</td>\n",
       "      <td>4.000</td>\n",
       "      <td>1400.000</td>\n",
       "    </tr>\n",
       "    <tr>\n",
       "      <th>2</th>\n",
       "      <td>A01</td>\n",
       "      <td>A10142</td>\n",
       "      <td>2.000</td>\n",
       "      <td>1750.000</td>\n",
       "    </tr>\n",
       "    <tr>\n",
       "      <th>3</th>\n",
       "      <td>A01</td>\n",
       "      <td>A10163</td>\n",
       "      <td>1.000</td>\n",
       "      <td>1400.000</td>\n",
       "    </tr>\n",
       "    <tr>\n",
       "      <th>4</th>\n",
       "      <td>A01</td>\n",
       "      <td>A10191</td>\n",
       "      <td>4.000</td>\n",
       "      <td>2000.000</td>\n",
       "    </tr>\n",
       "  </tbody>\n",
       "</table>\n",
       "</div>"
      ],
      "text/plain": [
       "  StoreID     SKU  Average_#_discounted_items_bought_for_this_SKU_per_basket  \\\n",
       "0     A01  A10074                                              1.000           \n",
       "1     A01   A1009                                              4.000           \n",
       "2     A01  A10142                                              2.000           \n",
       "3     A01  A10163                                              1.000           \n",
       "4     A01  A10191                                              4.000           \n",
       "\n",
       "   Discount_Price  \n",
       "0        1698.500  \n",
       "1        1400.000  \n",
       "2        1750.000  \n",
       "3        1400.000  \n",
       "4        2000.000  "
      ]
     },
     "execution_count": 136,
     "metadata": {},
     "output_type": "execute_result"
    }
   ],
   "source": [
    "data61.head()"
   ]
  },
  {
   "cell_type": "code",
   "execution_count": 232,
   "metadata": {
    "collapsed": false
   },
   "outputs": [],
   "source": [
    "q='''\n",
    "    select\n",
    "        a.*\n",
    "    from \n",
    "        data_type a\n",
    "    left join\n",
    "        data60 b\n",
    "    on \n",
    "        a.TransactionID=b.TransactionID and a.SKU=b.SKU \n",
    "    where \n",
    "        b.TransactionID is null\n",
    "    order by\n",
    "        a.StoreID, a.SKU\n",
    "  '''\n",
    "data62=pysqldf(q)"
   ]
  },
  {
   "cell_type": "code",
   "execution_count": 105,
   "metadata": {
    "collapsed": false
   },
   "outputs": [
    {
     "data": {
      "text/html": [
       "<div>\n",
       "<style>\n",
       "    .dataframe thead tr:only-child th {\n",
       "        text-align: right;\n",
       "    }\n",
       "\n",
       "    .dataframe thead th {\n",
       "        text-align: left;\n",
       "    }\n",
       "\n",
       "    .dataframe tbody tr th {\n",
       "        vertical-align: top;\n",
       "    }\n",
       "</style>\n",
       "<table border=\"1\" class=\"dataframe\">\n",
       "  <thead>\n",
       "    <tr style=\"text-align: right;\">\n",
       "      <th></th>\n",
       "      <th>StoreID</th>\n",
       "      <th>TransactionID</th>\n",
       "      <th>Line</th>\n",
       "      <th>Sales</th>\n",
       "      <th>Count</th>\n",
       "      <th>Date</th>\n",
       "      <th>SKU</th>\n",
       "      <th>Type</th>\n",
       "    </tr>\n",
       "  </thead>\n",
       "  <tbody>\n",
       "    <tr>\n",
       "      <th>0</th>\n",
       "      <td>A01</td>\n",
       "      <td>12-7149-00002-00399</td>\n",
       "      <td>2</td>\n",
       "      <td>2495.000</td>\n",
       "      <td>1.000</td>\n",
       "      <td>3/12/12 00:00</td>\n",
       "      <td>A10004</td>\n",
       "      <td></td>\n",
       "    </tr>\n",
       "    <tr>\n",
       "      <th>1</th>\n",
       "      <td>A01</td>\n",
       "      <td>12-7149-00002-00713</td>\n",
       "      <td>8</td>\n",
       "      <td>870.000</td>\n",
       "      <td>1.000</td>\n",
       "      <td>3/12/12 00:00</td>\n",
       "      <td>A10006</td>\n",
       "      <td></td>\n",
       "    </tr>\n",
       "  </tbody>\n",
       "</table>\n",
       "</div>"
      ],
      "text/plain": [
       "  StoreID        TransactionID  Line    Sales  Count           Date     SKU  \\\n",
       "0     A01  12-7149-00002-00399     2 2495.000  1.000  3/12/12 00:00  A10004   \n",
       "1     A01  12-7149-00002-00713     8  870.000  1.000  3/12/12 00:00  A10006   \n",
       "\n",
       "  Type  \n",
       "0       \n",
       "1       "
      ]
     },
     "execution_count": 105,
     "metadata": {},
     "output_type": "execute_result"
    }
   ],
   "source": [
    "data62.head(2)"
   ]
  },
  {
   "cell_type": "code",
   "execution_count": 233,
   "metadata": {
    "collapsed": true
   },
   "outputs": [],
   "source": [
    "q='''\n",
    "    select \n",
    "        a.StoreID, a.SKU, sum(a.Count)/count(distinct a.TransactionID) as 'Average_#_items_bought_at_regular_price_for_this_SKU_per_basket'\n",
    "        , sum(a.Sales)/sum(a.Count) as 'Regular_Price'\n",
    "    from\n",
    "        data62 a\n",
    "    group by \n",
    "        a.StoreID, a.SKU\n",
    "'''\n",
    "data63=pysqldf(q)"
   ]
  },
  {
   "cell_type": "code",
   "execution_count": 129,
   "metadata": {
    "collapsed": false
   },
   "outputs": [
    {
     "data": {
      "text/html": [
       "<div>\n",
       "<style>\n",
       "    .dataframe thead tr:only-child th {\n",
       "        text-align: right;\n",
       "    }\n",
       "\n",
       "    .dataframe thead th {\n",
       "        text-align: left;\n",
       "    }\n",
       "\n",
       "    .dataframe tbody tr th {\n",
       "        vertical-align: top;\n",
       "    }\n",
       "</style>\n",
       "<table border=\"1\" class=\"dataframe\">\n",
       "  <thead>\n",
       "    <tr style=\"text-align: right;\">\n",
       "      <th></th>\n",
       "      <th>StoreID</th>\n",
       "      <th>SKU</th>\n",
       "      <th>Average_#_items_bought_at_regular_price_for_this_SKU_per_basket</th>\n",
       "      <th>Regular Price</th>\n",
       "    </tr>\n",
       "  </thead>\n",
       "  <tbody>\n",
       "    <tr>\n",
       "      <th>0</th>\n",
       "      <td>A01</td>\n",
       "      <td>A10004</td>\n",
       "      <td>1.000</td>\n",
       "      <td>2495.000</td>\n",
       "    </tr>\n",
       "    <tr>\n",
       "      <th>1</th>\n",
       "      <td>A01</td>\n",
       "      <td>A10006</td>\n",
       "      <td>1.000</td>\n",
       "      <td>870.000</td>\n",
       "    </tr>\n",
       "    <tr>\n",
       "      <th>2</th>\n",
       "      <td>A01</td>\n",
       "      <td>A10023</td>\n",
       "      <td>1.000</td>\n",
       "      <td>695.000</td>\n",
       "    </tr>\n",
       "    <tr>\n",
       "      <th>3</th>\n",
       "      <td>A01</td>\n",
       "      <td>A10024</td>\n",
       "      <td>1.000</td>\n",
       "      <td>4695.000</td>\n",
       "    </tr>\n",
       "    <tr>\n",
       "      <th>4</th>\n",
       "      <td>A01</td>\n",
       "      <td>A10048</td>\n",
       "      <td>3.000</td>\n",
       "      <td>1395.000</td>\n",
       "    </tr>\n",
       "  </tbody>\n",
       "</table>\n",
       "</div>"
      ],
      "text/plain": [
       "  StoreID     SKU  \\\n",
       "0     A01  A10004   \n",
       "1     A01  A10006   \n",
       "2     A01  A10023   \n",
       "3     A01  A10024   \n",
       "4     A01  A10048   \n",
       "\n",
       "   Average_#_items_bought_at_regular_price_for_this_SKU_per_basket  \\\n",
       "0                                              1.000                 \n",
       "1                                              1.000                 \n",
       "2                                              1.000                 \n",
       "3                                              1.000                 \n",
       "4                                              3.000                 \n",
       "\n",
       "   Regular Price  \n",
       "0       2495.000  \n",
       "1        870.000  \n",
       "2        695.000  \n",
       "3       4695.000  \n",
       "4       1395.000  "
      ]
     },
     "execution_count": 129,
     "metadata": {},
     "output_type": "execute_result"
    }
   ],
   "source": [
    "data63.head()"
   ]
  },
  {
   "cell_type": "code",
   "execution_count": 234,
   "metadata": {
    "collapsed": false
   },
   "outputs": [],
   "source": [
    "q='''\n",
    "    select\n",
    "        a.StoreID, a.SKU, \n",
    "        (abs(a.'Average_#_discounted_items_bought_for_this_SKU_per_basket'-b.'Average_#_items_bought_at_regular_price_for_this_SKU_per_basket')/\n",
    "        b.'Average_#_items_bought_at_regular_price_for_this_SKU_per_basket') /\n",
    "        (abs(a.Discount_Price-b.Regular_Price)/b.Regular_Price) as 'Elasticity_of_Demand'\n",
    "    from\n",
    "        data61 a\n",
    "    join\n",
    "        data63 b\n",
    "    on\n",
    "        a.StoreID=b.StoreID and a.SKU=b.SKU\n",
    "'''\n",
    "data64=pysqldf(q)"
   ]
  },
  {
   "cell_type": "code",
   "execution_count": 235,
   "metadata": {
    "collapsed": false
   },
   "outputs": [
    {
     "data": {
      "text/html": [
       "<div>\n",
       "<style>\n",
       "    .dataframe thead tr:only-child th {\n",
       "        text-align: right;\n",
       "    }\n",
       "\n",
       "    .dataframe thead th {\n",
       "        text-align: left;\n",
       "    }\n",
       "\n",
       "    .dataframe tbody tr th {\n",
       "        vertical-align: top;\n",
       "    }\n",
       "</style>\n",
       "<table border=\"1\" class=\"dataframe\">\n",
       "  <thead>\n",
       "    <tr style=\"text-align: right;\">\n",
       "      <th></th>\n",
       "      <th>StoreID</th>\n",
       "      <th>SKU</th>\n",
       "      <th>Elasticity_of_Demand</th>\n",
       "    </tr>\n",
       "  </thead>\n",
       "  <tbody>\n",
       "    <tr>\n",
       "      <th>0</th>\n",
       "      <td>A01</td>\n",
       "      <td>A10191</td>\n",
       "      <td>5.040</td>\n",
       "    </tr>\n",
       "    <tr>\n",
       "      <th>1</th>\n",
       "      <td>A01</td>\n",
       "      <td>A10206</td>\n",
       "      <td>3.937</td>\n",
       "    </tr>\n",
       "    <tr>\n",
       "      <th>2</th>\n",
       "      <td>A01</td>\n",
       "      <td>A10259</td>\n",
       "      <td>4.419</td>\n",
       "    </tr>\n",
       "    <tr>\n",
       "      <th>3</th>\n",
       "      <td>A01</td>\n",
       "      <td>A10415</td>\n",
       "      <td>14.285</td>\n",
       "    </tr>\n",
       "    <tr>\n",
       "      <th>4</th>\n",
       "      <td>A01</td>\n",
       "      <td>A10416</td>\n",
       "      <td>0.000</td>\n",
       "    </tr>\n",
       "    <tr>\n",
       "      <th>5</th>\n",
       "      <td>A01</td>\n",
       "      <td>A10562</td>\n",
       "      <td>0.000</td>\n",
       "    </tr>\n",
       "    <tr>\n",
       "      <th>6</th>\n",
       "      <td>A01</td>\n",
       "      <td>A10599</td>\n",
       "      <td>3.713</td>\n",
       "    </tr>\n",
       "    <tr>\n",
       "      <th>7</th>\n",
       "      <td>A01</td>\n",
       "      <td>A10622</td>\n",
       "      <td>13.115</td>\n",
       "    </tr>\n",
       "    <tr>\n",
       "      <th>8</th>\n",
       "      <td>A01</td>\n",
       "      <td>A10705</td>\n",
       "      <td>6.100</td>\n",
       "    </tr>\n",
       "    <tr>\n",
       "      <th>9</th>\n",
       "      <td>A01</td>\n",
       "      <td>A10761</td>\n",
       "      <td>1.202</td>\n",
       "    </tr>\n",
       "  </tbody>\n",
       "</table>\n",
       "</div>"
      ],
      "text/plain": [
       "  StoreID     SKU  Elasticity_of_Demand\n",
       "0     A01  A10191                 5.040\n",
       "1     A01  A10206                 3.937\n",
       "2     A01  A10259                 4.419\n",
       "3     A01  A10415                14.285\n",
       "4     A01  A10416                 0.000\n",
       "5     A01  A10562                 0.000\n",
       "6     A01  A10599                 3.713\n",
       "7     A01  A10622                13.115\n",
       "8     A01  A10705                 6.100\n",
       "9     A01  A10761                 1.202"
      ]
     },
     "execution_count": 235,
     "metadata": {},
     "output_type": "execute_result"
    }
   ],
   "source": [
    "data64.head(10)"
   ]
  },
  {
   "cell_type": "code",
   "execution_count": 236,
   "metadata": {
    "collapsed": false
   },
   "outputs": [
    {
     "data": {
      "text/html": [
       "<div>\n",
       "<style>\n",
       "    .dataframe thead tr:only-child th {\n",
       "        text-align: right;\n",
       "    }\n",
       "\n",
       "    .dataframe thead th {\n",
       "        text-align: left;\n",
       "    }\n",
       "\n",
       "    .dataframe tbody tr th {\n",
       "        vertical-align: top;\n",
       "    }\n",
       "</style>\n",
       "<table border=\"1\" class=\"dataframe\">\n",
       "  <thead>\n",
       "    <tr style=\"text-align: right;\">\n",
       "      <th></th>\n",
       "      <th>StoreID</th>\n",
       "      <th>SKU</th>\n",
       "      <th>Average_#_discounted_items_bought_for_this_SKU_per_basket</th>\n",
       "      <th>Discount_Price</th>\n",
       "    </tr>\n",
       "  </thead>\n",
       "  <tbody>\n",
       "    <tr>\n",
       "      <th>9</th>\n",
       "      <td>A01</td>\n",
       "      <td>A10416</td>\n",
       "      <td>1.000</td>\n",
       "      <td>1500.000</td>\n",
       "    </tr>\n",
       "  </tbody>\n",
       "</table>\n",
       "</div>"
      ],
      "text/plain": [
       "  StoreID     SKU  Average_#_discounted_items_bought_for_this_SKU_per_basket  \\\n",
       "9     A01  A10416                                              1.000           \n",
       "\n",
       "   Discount_Price  \n",
       "9        1500.000  "
      ]
     },
     "execution_count": 236,
     "metadata": {},
     "output_type": "execute_result"
    }
   ],
   "source": [
    "data61[(data61.StoreID=='A01')&(data61.SKU=='A10416')]"
   ]
  },
  {
   "cell_type": "code",
   "execution_count": 237,
   "metadata": {
    "collapsed": false
   },
   "outputs": [
    {
     "data": {
      "text/html": [
       "<div>\n",
       "<style>\n",
       "    .dataframe thead tr:only-child th {\n",
       "        text-align: right;\n",
       "    }\n",
       "\n",
       "    .dataframe thead th {\n",
       "        text-align: left;\n",
       "    }\n",
       "\n",
       "    .dataframe tbody tr th {\n",
       "        vertical-align: top;\n",
       "    }\n",
       "</style>\n",
       "<table border=\"1\" class=\"dataframe\">\n",
       "  <thead>\n",
       "    <tr style=\"text-align: right;\">\n",
       "      <th></th>\n",
       "      <th>StoreID</th>\n",
       "      <th>SKU</th>\n",
       "      <th>Average_#_items_bought_at_regular_price_for_this_SKU_per_basket</th>\n",
       "      <th>Regular_Price</th>\n",
       "    </tr>\n",
       "  </thead>\n",
       "  <tbody>\n",
       "    <tr>\n",
       "      <th>36</th>\n",
       "      <td>A01</td>\n",
       "      <td>A10416</td>\n",
       "      <td>1.000</td>\n",
       "      <td>1700.000</td>\n",
       "    </tr>\n",
       "  </tbody>\n",
       "</table>\n",
       "</div>"
      ],
      "text/plain": [
       "   StoreID     SKU  \\\n",
       "36     A01  A10416   \n",
       "\n",
       "    Average_#_items_bought_at_regular_price_for_this_SKU_per_basket  \\\n",
       "36                                              1.000                 \n",
       "\n",
       "    Regular_Price  \n",
       "36       1700.000  "
      ]
     },
     "execution_count": 237,
     "metadata": {},
     "output_type": "execute_result"
    }
   ],
   "source": [
    "data63[(data63.StoreID=='A01')&(data63.SKU=='A10416')]"
   ]
  },
  {
   "cell_type": "code",
   "execution_count": null,
   "metadata": {
    "collapsed": true
   },
   "outputs": [],
   "source": []
  },
  {
   "cell_type": "code",
   "execution_count": 238,
   "metadata": {
    "collapsed": false
   },
   "outputs": [
    {
     "data": {
      "text/html": [
       "<div>\n",
       "<style>\n",
       "    .dataframe thead tr:only-child th {\n",
       "        text-align: right;\n",
       "    }\n",
       "\n",
       "    .dataframe thead th {\n",
       "        text-align: left;\n",
       "    }\n",
       "\n",
       "    .dataframe tbody tr th {\n",
       "        vertical-align: top;\n",
       "    }\n",
       "</style>\n",
       "<table border=\"1\" class=\"dataframe\">\n",
       "  <thead>\n",
       "    <tr style=\"text-align: right;\">\n",
       "      <th></th>\n",
       "      <th>StoreID</th>\n",
       "      <th>TransactionID</th>\n",
       "      <th>Line</th>\n",
       "      <th>Sales</th>\n",
       "      <th>Count</th>\n",
       "      <th>Date</th>\n",
       "      <th>SKU</th>\n",
       "      <th>Type</th>\n",
       "    </tr>\n",
       "  </thead>\n",
       "  <tbody>\n",
       "    <tr>\n",
       "      <th>14494</th>\n",
       "      <td>A65</td>\n",
       "      <td>11-3571-00002-00172</td>\n",
       "      <td>4</td>\n",
       "      <td>2499.000</td>\n",
       "      <td>1.000</td>\n",
       "      <td>3/11/12 00:00</td>\n",
       "      <td>A20997</td>\n",
       "      <td></td>\n",
       "    </tr>\n",
       "    <tr>\n",
       "      <th>821957</th>\n",
       "      <td>A65</td>\n",
       "      <td>12-3572-00002-00070</td>\n",
       "      <td>5</td>\n",
       "      <td>2995.000</td>\n",
       "      <td>1.000</td>\n",
       "      <td>3/12/12 00:00</td>\n",
       "      <td>A20997</td>\n",
       "      <td></td>\n",
       "    </tr>\n",
       "    <tr>\n",
       "      <th>821958</th>\n",
       "      <td>A65</td>\n",
       "      <td>12-3572-00002-00070</td>\n",
       "      <td>6</td>\n",
       "      <td>-496.000</td>\n",
       "      <td>0.000</td>\n",
       "      <td>3/12/12 00:00</td>\n",
       "      <td>A20997</td>\n",
       "      <td></td>\n",
       "    </tr>\n",
       "    <tr>\n",
       "      <th>821959</th>\n",
       "      <td>A65</td>\n",
       "      <td>12-3572-00002-00070</td>\n",
       "      <td>7</td>\n",
       "      <td>2995.000</td>\n",
       "      <td>1.000</td>\n",
       "      <td>3/12/12 00:00</td>\n",
       "      <td>A20997</td>\n",
       "      <td></td>\n",
       "    </tr>\n",
       "    <tr>\n",
       "      <th>821960</th>\n",
       "      <td>A65</td>\n",
       "      <td>12-3572-00002-00070</td>\n",
       "      <td>8</td>\n",
       "      <td>-496.000</td>\n",
       "      <td>0.000</td>\n",
       "      <td>3/12/12 00:00</td>\n",
       "      <td>A20997</td>\n",
       "      <td></td>\n",
       "    </tr>\n",
       "  </tbody>\n",
       "</table>\n",
       "</div>"
      ],
      "text/plain": [
       "       StoreID        TransactionID  Line    Sales  Count           Date  \\\n",
       "14494      A65  11-3571-00002-00172     4 2499.000  1.000  3/11/12 00:00   \n",
       "821957     A65  12-3572-00002-00070     5 2995.000  1.000  3/12/12 00:00   \n",
       "821958     A65  12-3572-00002-00070     6 -496.000  0.000  3/12/12 00:00   \n",
       "821959     A65  12-3572-00002-00070     7 2995.000  1.000  3/12/12 00:00   \n",
       "821960     A65  12-3572-00002-00070     8 -496.000  0.000  3/12/12 00:00   \n",
       "\n",
       "           SKU Type  \n",
       "14494   A20997       \n",
       "821957  A20997       \n",
       "821958  A20997       \n",
       "821959  A20997       \n",
       "821960  A20997       "
      ]
     },
     "execution_count": 238,
     "metadata": {},
     "output_type": "execute_result"
    }
   ],
   "source": [
    "# When Regular_Price=Discount_Price, the ekasticity of demand will be huge\n",
    "data_type[(data_type.StoreID=='A65')&(data_type.SKU=='A20997')].head()"
   ]
  },
  {
   "cell_type": "code",
   "execution_count": 239,
   "metadata": {
    "collapsed": true
   },
   "outputs": [],
   "source": [
    "data65 = data64.sort_values(['Elasticity_of_Demand'], ascending=[False])"
   ]
  },
  {
   "cell_type": "code",
   "execution_count": 240,
   "metadata": {
    "collapsed": false
   },
   "outputs": [
    {
     "data": {
      "text/html": [
       "<div>\n",
       "<style>\n",
       "    .dataframe thead tr:only-child th {\n",
       "        text-align: right;\n",
       "    }\n",
       "\n",
       "    .dataframe thead th {\n",
       "        text-align: left;\n",
       "    }\n",
       "\n",
       "    .dataframe tbody tr th {\n",
       "        vertical-align: top;\n",
       "    }\n",
       "</style>\n",
       "<table border=\"1\" class=\"dataframe\">\n",
       "  <thead>\n",
       "    <tr style=\"text-align: right;\">\n",
       "      <th></th>\n",
       "      <th>StoreID</th>\n",
       "      <th>SKU</th>\n",
       "      <th>Elasticity_of_Demand</th>\n",
       "    </tr>\n",
       "  </thead>\n",
       "  <tbody>\n",
       "    <tr>\n",
       "      <th>10376</th>\n",
       "      <td>A65</td>\n",
       "      <td>A20997</td>\n",
       "      <td>29988.000</td>\n",
       "    </tr>\n",
       "    <tr>\n",
       "      <th>6233</th>\n",
       "      <td>A38</td>\n",
       "      <td>A23085</td>\n",
       "      <td>19998.000</td>\n",
       "    </tr>\n",
       "    <tr>\n",
       "      <th>9360</th>\n",
       "      <td>A56</td>\n",
       "      <td>A11941</td>\n",
       "      <td>3600.000</td>\n",
       "    </tr>\n",
       "    <tr>\n",
       "      <th>7019</th>\n",
       "      <td>A42</td>\n",
       "      <td>A13411</td>\n",
       "      <td>3301.500</td>\n",
       "    </tr>\n",
       "    <tr>\n",
       "      <th>12518</th>\n",
       "      <td>A76</td>\n",
       "      <td>A14106</td>\n",
       "      <td>1990.657</td>\n",
       "    </tr>\n",
       "  </tbody>\n",
       "</table>\n",
       "</div>"
      ],
      "text/plain": [
       "      StoreID     SKU  Elasticity_of_Demand\n",
       "10376     A65  A20997             29988.000\n",
       "6233      A38  A23085             19998.000\n",
       "9360      A56  A11941              3600.000\n",
       "7019      A42  A13411              3301.500\n",
       "12518     A76  A14106              1990.657"
      ]
     },
     "execution_count": 240,
     "metadata": {},
     "output_type": "execute_result"
    }
   ],
   "source": [
    "data65.head()"
   ]
  },
  {
   "cell_type": "code",
   "execution_count": 241,
   "metadata": {
    "collapsed": false
   },
   "outputs": [
    {
     "data": {
      "text/html": [
       "<div>\n",
       "<style>\n",
       "    .dataframe thead tr:only-child th {\n",
       "        text-align: right;\n",
       "    }\n",
       "\n",
       "    .dataframe thead th {\n",
       "        text-align: left;\n",
       "    }\n",
       "\n",
       "    .dataframe tbody tr th {\n",
       "        vertical-align: top;\n",
       "    }\n",
       "</style>\n",
       "<table border=\"1\" class=\"dataframe\">\n",
       "  <thead>\n",
       "    <tr style=\"text-align: right;\">\n",
       "      <th></th>\n",
       "      <th>Elasticity_of_Demand</th>\n",
       "    </tr>\n",
       "  </thead>\n",
       "  <tbody>\n",
       "    <tr>\n",
       "      <th>count</th>\n",
       "      <td>13696.000</td>\n",
       "    </tr>\n",
       "    <tr>\n",
       "      <th>mean</th>\n",
       "      <td>10.312</td>\n",
       "    </tr>\n",
       "    <tr>\n",
       "      <th>std</th>\n",
       "      <td>312.437</td>\n",
       "    </tr>\n",
       "    <tr>\n",
       "      <th>min</th>\n",
       "      <td>0.000</td>\n",
       "    </tr>\n",
       "    <tr>\n",
       "      <th>25%</th>\n",
       "      <td>0.000</td>\n",
       "    </tr>\n",
       "    <tr>\n",
       "      <th>50%</th>\n",
       "      <td>2.938</td>\n",
       "    </tr>\n",
       "    <tr>\n",
       "      <th>75%</th>\n",
       "      <td>6.126</td>\n",
       "    </tr>\n",
       "    <tr>\n",
       "      <th>max</th>\n",
       "      <td>29988.000</td>\n",
       "    </tr>\n",
       "  </tbody>\n",
       "</table>\n",
       "</div>"
      ],
      "text/plain": [
       "       Elasticity_of_Demand\n",
       "count             13696.000\n",
       "mean                 10.312\n",
       "std                 312.437\n",
       "min                   0.000\n",
       "25%                   0.000\n",
       "50%                   2.938\n",
       "75%                   6.126\n",
       "max               29988.000"
      ]
     },
     "execution_count": 241,
     "metadata": {},
     "output_type": "execute_result"
    }
   ],
   "source": [
    "data65.describe()"
   ]
  },
  {
   "cell_type": "code",
   "execution_count": 242,
   "metadata": {
    "collapsed": false
   },
   "outputs": [
    {
     "data": {
      "text/plain": [
       "3708"
      ]
     },
     "execution_count": 242,
     "metadata": {},
     "output_type": "execute_result"
    }
   ],
   "source": [
    "len(data65.loc[data65['Elasticity_of_Demand']==0])"
   ]
  },
  {
   "cell_type": "code",
   "execution_count": 243,
   "metadata": {
    "collapsed": false
   },
   "outputs": [],
   "source": [
    "data66 = data65.loc[data65['Elasticity_of_Demand']<50]"
   ]
  },
  {
   "cell_type": "code",
   "execution_count": 244,
   "metadata": {
    "collapsed": false
   },
   "outputs": [
    {
     "data": {
      "text/html": [
       "<div>\n",
       "<style>\n",
       "    .dataframe thead tr:only-child th {\n",
       "        text-align: right;\n",
       "    }\n",
       "\n",
       "    .dataframe thead th {\n",
       "        text-align: left;\n",
       "    }\n",
       "\n",
       "    .dataframe tbody tr th {\n",
       "        vertical-align: top;\n",
       "    }\n",
       "</style>\n",
       "<table border=\"1\" class=\"dataframe\">\n",
       "  <thead>\n",
       "    <tr style=\"text-align: right;\">\n",
       "      <th></th>\n",
       "      <th>StoreID</th>\n",
       "      <th>SKU</th>\n",
       "      <th>Elasticity_of_Demand</th>\n",
       "    </tr>\n",
       "  </thead>\n",
       "  <tbody>\n",
       "    <tr>\n",
       "      <th>7524</th>\n",
       "      <td>A44</td>\n",
       "      <td>A10415</td>\n",
       "      <td>49.978</td>\n",
       "    </tr>\n",
       "    <tr>\n",
       "      <th>8197</th>\n",
       "      <td>A47</td>\n",
       "      <td>A24134</td>\n",
       "      <td>49.494</td>\n",
       "    </tr>\n",
       "    <tr>\n",
       "      <th>8716</th>\n",
       "      <td>A51</td>\n",
       "      <td>A12783</td>\n",
       "      <td>49.000</td>\n",
       "    </tr>\n",
       "    <tr>\n",
       "      <th>9957</th>\n",
       "      <td>A61</td>\n",
       "      <td>A10705</td>\n",
       "      <td>48.800</td>\n",
       "    </tr>\n",
       "    <tr>\n",
       "      <th>2822</th>\n",
       "      <td>A19</td>\n",
       "      <td>A7367</td>\n",
       "      <td>48.800</td>\n",
       "    </tr>\n",
       "  </tbody>\n",
       "</table>\n",
       "</div>"
      ],
      "text/plain": [
       "     StoreID     SKU  Elasticity_of_Demand\n",
       "7524     A44  A10415                49.978\n",
       "8197     A47  A24134                49.494\n",
       "8716     A51  A12783                49.000\n",
       "9957     A61  A10705                48.800\n",
       "2822     A19   A7367                48.800"
      ]
     },
     "execution_count": 244,
     "metadata": {},
     "output_type": "execute_result"
    }
   ],
   "source": [
    "data66.head()"
   ]
  },
  {
   "cell_type": "code",
   "execution_count": 142,
   "metadata": {
    "collapsed": true
   },
   "outputs": [],
   "source": [
    "import seaborn as sns\n",
    "import matplotlib.pyplot as plt\n",
    "%matplotlib inline"
   ]
  },
  {
   "cell_type": "code",
   "execution_count": 187,
   "metadata": {
    "collapsed": false
   },
   "outputs": [],
   "source": [
    "def autolabel(ax):\n",
    "    for rect in ax.patches:\n",
    "        height=rect.get_height()\n",
    "        ax.text(rect.get_x()+rect.get_width()/2, 1.05*height, '{:.2f}'.format(height), ha='center', va='bottom')"
   ]
  },
  {
   "cell_type": "code",
   "execution_count": 245,
   "metadata": {
    "collapsed": false
   },
   "outputs": [
    {
     "data": {
      "image/png": "[encoded data removed]",
      "text/plain": [
       "<matplotlib.figure.Figure at 0x180c8d950>"
      ]
     },
     "metadata": {},
     "output_type": "display_data"
    }
   ],
   "source": [
    "plt.figure(figsize=(10,6))\n",
    "ax = sns.barplot(x='SKU',y='Elasticity_of_Demand',data=data66[:10])\n",
    "plt.ylabel('Elasticity of Demand')\n",
    "plt.ylim(0,70)\n",
    "plt.title('Pick 10 SKUs which tend to respond to the markdowns in different stores')\n",
    "autolabel(ax)"
   ]
  },
  {
   "cell_type": "markdown",
   "metadata": {},
   "source": [
    "<br><br>"
   ]
  },
  {
   "cell_type": "markdown",
   "metadata": {},
   "source": [
    "**(b)** \n",
    "\n",
    "**Metrics:** Proportion of this item bought with discount and without discount on Transaction level \n",
    "\n",
    "**Calculation Method:**  # discounted (regular price) items bought for this SKU within a transaction / total # items bought within this transaction\n",
    "\n"
   ]
  },
  {
   "cell_type": "code",
   "execution_count": 246,
   "metadata": {
    "collapsed": false
   },
   "outputs": [
    {
     "data": {
      "text/html": [
       "<div>\n",
       "<style>\n",
       "    .dataframe thead tr:only-child th {\n",
       "        text-align: right;\n",
       "    }\n",
       "\n",
       "    .dataframe thead th {\n",
       "        text-align: left;\n",
       "    }\n",
       "\n",
       "    .dataframe tbody tr th {\n",
       "        vertical-align: top;\n",
       "    }\n",
       "</style>\n",
       "<table border=\"1\" class=\"dataframe\">\n",
       "  <thead>\n",
       "    <tr style=\"text-align: right;\">\n",
       "      <th></th>\n",
       "      <th>StoreID</th>\n",
       "      <th>TransactionID</th>\n",
       "      <th>Line</th>\n",
       "      <th>Sales</th>\n",
       "      <th>Count</th>\n",
       "      <th>Date</th>\n",
       "      <th>SKU</th>\n",
       "      <th>Type</th>\n",
       "    </tr>\n",
       "  </thead>\n",
       "  <tbody>\n",
       "    <tr>\n",
       "      <th>0</th>\n",
       "      <td>A01</td>\n",
       "      <td>12-7149-00002-00679</td>\n",
       "      <td>6</td>\n",
       "      <td>2095.000</td>\n",
       "      <td>1.000</td>\n",
       "      <td>3/12/12 00:00</td>\n",
       "      <td>A10074</td>\n",
       "      <td></td>\n",
       "    </tr>\n",
       "    <tr>\n",
       "      <th>1</th>\n",
       "      <td>A01</td>\n",
       "      <td>12-7149-00002-00679</td>\n",
       "      <td>7</td>\n",
       "      <td>-357.000</td>\n",
       "      <td>0.000</td>\n",
       "      <td>3/12/12 00:00</td>\n",
       "      <td>A10074</td>\n",
       "      <td></td>\n",
       "    </tr>\n",
       "    <tr>\n",
       "      <th>2</th>\n",
       "      <td>A01</td>\n",
       "      <td>12-7149-00003-00011</td>\n",
       "      <td>11</td>\n",
       "      <td>2095.000</td>\n",
       "      <td>1.000</td>\n",
       "      <td>3/12/12 00:00</td>\n",
       "      <td>A10074</td>\n",
       "      <td></td>\n",
       "    </tr>\n",
       "    <tr>\n",
       "      <th>3</th>\n",
       "      <td>A01</td>\n",
       "      <td>12-7149-00003-00011</td>\n",
       "      <td>12</td>\n",
       "      <td>-436.000</td>\n",
       "      <td>0.000</td>\n",
       "      <td>3/12/12 00:00</td>\n",
       "      <td>A10074</td>\n",
       "      <td></td>\n",
       "    </tr>\n",
       "    <tr>\n",
       "      <th>4</th>\n",
       "      <td>A01</td>\n",
       "      <td>12-7149-00002-00234</td>\n",
       "      <td>1</td>\n",
       "      <td>2095.000</td>\n",
       "      <td>1.000</td>\n",
       "      <td>3/12/12 00:00</td>\n",
       "      <td>A1009</td>\n",
       "      <td></td>\n",
       "    </tr>\n",
       "  </tbody>\n",
       "</table>\n",
       "</div>"
      ],
      "text/plain": [
       "  StoreID        TransactionID  Line    Sales  Count           Date     SKU  \\\n",
       "0     A01  12-7149-00002-00679     6 2095.000  1.000  3/12/12 00:00  A10074   \n",
       "1     A01  12-7149-00002-00679     7 -357.000  0.000  3/12/12 00:00  A10074   \n",
       "2     A01  12-7149-00003-00011    11 2095.000  1.000  3/12/12 00:00  A10074   \n",
       "3     A01  12-7149-00003-00011    12 -436.000  0.000  3/12/12 00:00  A10074   \n",
       "4     A01  12-7149-00002-00234     1 2095.000  1.000  3/12/12 00:00   A1009   \n",
       "\n",
       "  Type  \n",
       "0       \n",
       "1       \n",
       "2       \n",
       "3       \n",
       "4       "
      ]
     },
     "execution_count": 246,
     "metadata": {},
     "output_type": "execute_result"
    }
   ],
   "source": [
    "data60.head()"
   ]
  },
  {
   "cell_type": "code",
   "execution_count": 247,
   "metadata": {
    "collapsed": false
   },
   "outputs": [],
   "source": [
    "q='''\n",
    "    select\n",
    "       a.StoreID, a.TransactionID, sum(a.Count) as 'Total_#_items_bought'\n",
    "    from data_type a\n",
    "    join (select distinct TransactionID from data60) b\n",
    "    on a.TransactionID=b.TransactionID\n",
    "    group by a.TransactionID\n",
    "'''\n",
    "data67=pysqldf(q)"
   ]
  },
  {
   "cell_type": "code",
   "execution_count": 248,
   "metadata": {
    "collapsed": false
   },
   "outputs": [
    {
     "data": {
      "text/html": [
       "<div>\n",
       "<style>\n",
       "    .dataframe thead tr:only-child th {\n",
       "        text-align: right;\n",
       "    }\n",
       "\n",
       "    .dataframe thead th {\n",
       "        text-align: left;\n",
       "    }\n",
       "\n",
       "    .dataframe tbody tr th {\n",
       "        vertical-align: top;\n",
       "    }\n",
       "</style>\n",
       "<table border=\"1\" class=\"dataframe\">\n",
       "  <thead>\n",
       "    <tr style=\"text-align: right;\">\n",
       "      <th></th>\n",
       "      <th>StoreID</th>\n",
       "      <th>TransactionID</th>\n",
       "      <th>Total_#_items_bought</th>\n",
       "    </tr>\n",
       "  </thead>\n",
       "  <tbody>\n",
       "    <tr>\n",
       "      <th>0</th>\n",
       "      <td>A60</td>\n",
       "      <td>11-0160-00019-00003</td>\n",
       "      <td>10.000</td>\n",
       "    </tr>\n",
       "    <tr>\n",
       "      <th>1</th>\n",
       "      <td>A60</td>\n",
       "      <td>11-0160-00019-00007</td>\n",
       "      <td>15.000</td>\n",
       "    </tr>\n",
       "    <tr>\n",
       "      <th>2</th>\n",
       "      <td>A60</td>\n",
       "      <td>11-0160-00019-00008</td>\n",
       "      <td>15.000</td>\n",
       "    </tr>\n",
       "  </tbody>\n",
       "</table>\n",
       "</div>"
      ],
      "text/plain": [
       "  StoreID        TransactionID  Total_#_items_bought\n",
       "0     A60  11-0160-00019-00003                10.000\n",
       "1     A60  11-0160-00019-00007                15.000\n",
       "2     A60  11-0160-00019-00008                15.000"
      ]
     },
     "execution_count": 248,
     "metadata": {},
     "output_type": "execute_result"
    }
   ],
   "source": [
    "data67.head(3)"
   ]
  },
  {
   "cell_type": "code",
   "execution_count": 249,
   "metadata": {
    "collapsed": false
   },
   "outputs": [],
   "source": [
    "q='''\n",
    "    select\n",
    "       StoreID, TransactionID, SKU, sum(Count) as '#_discounted_items_bought_for_this_SKU'\n",
    "    from data60\n",
    "    group by TransactionID, SKU\n",
    "    \n",
    "'''\n",
    "data68=pysqldf(q)"
   ]
  },
  {
   "cell_type": "code",
   "execution_count": 250,
   "metadata": {
    "collapsed": false
   },
   "outputs": [
    {
     "data": {
      "text/html": [
       "<div>\n",
       "<style>\n",
       "    .dataframe thead tr:only-child th {\n",
       "        text-align: right;\n",
       "    }\n",
       "\n",
       "    .dataframe thead th {\n",
       "        text-align: left;\n",
       "    }\n",
       "\n",
       "    .dataframe tbody tr th {\n",
       "        vertical-align: top;\n",
       "    }\n",
       "</style>\n",
       "<table border=\"1\" class=\"dataframe\">\n",
       "  <thead>\n",
       "    <tr style=\"text-align: right;\">\n",
       "      <th></th>\n",
       "      <th>StoreID</th>\n",
       "      <th>TransactionID</th>\n",
       "      <th>SKU</th>\n",
       "      <th>#_discounted_items_bought_for_this_SKU</th>\n",
       "    </tr>\n",
       "  </thead>\n",
       "  <tbody>\n",
       "    <tr>\n",
       "      <th>0</th>\n",
       "      <td>A60</td>\n",
       "      <td>11-0160-00019-00003</td>\n",
       "      <td>A10809</td>\n",
       "      <td>10.000</td>\n",
       "    </tr>\n",
       "    <tr>\n",
       "      <th>1</th>\n",
       "      <td>A60</td>\n",
       "      <td>11-0160-00019-00007</td>\n",
       "      <td>A10809</td>\n",
       "      <td>10.000</td>\n",
       "    </tr>\n",
       "    <tr>\n",
       "      <th>2</th>\n",
       "      <td>A60</td>\n",
       "      <td>11-0160-00019-00007</td>\n",
       "      <td>A15452</td>\n",
       "      <td>5.000</td>\n",
       "    </tr>\n",
       "  </tbody>\n",
       "</table>\n",
       "</div>"
      ],
      "text/plain": [
       "  StoreID        TransactionID     SKU  #_discounted_items_bought_for_this_SKU\n",
       "0     A60  11-0160-00019-00003  A10809                                  10.000\n",
       "1     A60  11-0160-00019-00007  A10809                                  10.000\n",
       "2     A60  11-0160-00019-00007  A15452                                   5.000"
      ]
     },
     "execution_count": 250,
     "metadata": {},
     "output_type": "execute_result"
    }
   ],
   "source": [
    "data68.head(3)"
   ]
  },
  {
   "cell_type": "code",
   "execution_count": 253,
   "metadata": {
    "collapsed": false
   },
   "outputs": [],
   "source": [
    "q='''\n",
    "    select\n",
    "       a.StoreID, a.TransactionID, b.SKU, b.'#_discounted_items_bought_for_this_SKU'/a.'Total_#_items_bought' as 'Proportion_of_discounted_items_for_this_SKU'\n",
    "    from data67 a\n",
    "    join data68 b\n",
    "    on a.TransactionID=b.TransactionID\n",
    "    order by a.StoreID, b.SKU\n",
    "    \n",
    "'''\n",
    "data69=pysqldf(q)"
   ]
  },
  {
   "cell_type": "code",
   "execution_count": 254,
   "metadata": {
    "collapsed": false
   },
   "outputs": [
    {
     "data": {
      "text/html": [
       "<div>\n",
       "<style>\n",
       "    .dataframe thead tr:only-child th {\n",
       "        text-align: right;\n",
       "    }\n",
       "\n",
       "    .dataframe thead th {\n",
       "        text-align: left;\n",
       "    }\n",
       "\n",
       "    .dataframe tbody tr th {\n",
       "        vertical-align: top;\n",
       "    }\n",
       "</style>\n",
       "<table border=\"1\" class=\"dataframe\">\n",
       "  <thead>\n",
       "    <tr style=\"text-align: right;\">\n",
       "      <th></th>\n",
       "      <th>StoreID</th>\n",
       "      <th>TransactionID</th>\n",
       "      <th>SKU</th>\n",
       "      <th>Proportion_of_discounted_items_for_this_SKU</th>\n",
       "    </tr>\n",
       "  </thead>\n",
       "  <tbody>\n",
       "    <tr>\n",
       "      <th>0</th>\n",
       "      <td>A01</td>\n",
       "      <td>12-7149-00002-00679</td>\n",
       "      <td>A10074</td>\n",
       "      <td>0.333</td>\n",
       "    </tr>\n",
       "    <tr>\n",
       "      <th>1</th>\n",
       "      <td>A01</td>\n",
       "      <td>12-7149-00003-00011</td>\n",
       "      <td>A10074</td>\n",
       "      <td>0.200</td>\n",
       "    </tr>\n",
       "    <tr>\n",
       "      <th>2</th>\n",
       "      <td>A01</td>\n",
       "      <td>12-7149-00002-00234</td>\n",
       "      <td>A1009</td>\n",
       "      <td>1.000</td>\n",
       "    </tr>\n",
       "    <tr>\n",
       "      <th>3</th>\n",
       "      <td>A01</td>\n",
       "      <td>12-7149-00002-00053</td>\n",
       "      <td>A10142</td>\n",
       "      <td>0.111</td>\n",
       "    </tr>\n",
       "    <tr>\n",
       "      <th>4</th>\n",
       "      <td>A01</td>\n",
       "      <td>12-7149-00009-00106</td>\n",
       "      <td>A10142</td>\n",
       "      <td>0.333</td>\n",
       "    </tr>\n",
       "    <tr>\n",
       "      <th>5</th>\n",
       "      <td>A01</td>\n",
       "      <td>12-7149-00011-00074</td>\n",
       "      <td>A10142</td>\n",
       "      <td>0.091</td>\n",
       "    </tr>\n",
       "  </tbody>\n",
       "</table>\n",
       "</div>"
      ],
      "text/plain": [
       "  StoreID        TransactionID     SKU  \\\n",
       "0     A01  12-7149-00002-00679  A10074   \n",
       "1     A01  12-7149-00003-00011  A10074   \n",
       "2     A01  12-7149-00002-00234   A1009   \n",
       "3     A01  12-7149-00002-00053  A10142   \n",
       "4     A01  12-7149-00009-00106  A10142   \n",
       "5     A01  12-7149-00011-00074  A10142   \n",
       "\n",
       "   Proportion_of_discounted_items_for_this_SKU  \n",
       "0                                        0.333  \n",
       "1                                        0.200  \n",
       "2                                        1.000  \n",
       "3                                        0.111  \n",
       "4                                        0.333  \n",
       "5                                        0.091  "
      ]
     },
     "execution_count": 254,
     "metadata": {},
     "output_type": "execute_result"
    }
   ],
   "source": [
    "data69.head(6)"
   ]
  },
  {
   "cell_type": "code",
   "execution_count": 255,
   "metadata": {
    "collapsed": false
   },
   "outputs": [
    {
     "data": {
      "text/html": [
       "<div>\n",
       "<style>\n",
       "    .dataframe thead tr:only-child th {\n",
       "        text-align: right;\n",
       "    }\n",
       "\n",
       "    .dataframe thead th {\n",
       "        text-align: left;\n",
       "    }\n",
       "\n",
       "    .dataframe tbody tr th {\n",
       "        vertical-align: top;\n",
       "    }\n",
       "</style>\n",
       "<table border=\"1\" class=\"dataframe\">\n",
       "  <thead>\n",
       "    <tr style=\"text-align: right;\">\n",
       "      <th></th>\n",
       "      <th>StoreID</th>\n",
       "      <th>TransactionID</th>\n",
       "      <th>Line</th>\n",
       "      <th>Sales</th>\n",
       "      <th>Count</th>\n",
       "      <th>Date</th>\n",
       "      <th>SKU</th>\n",
       "      <th>Type</th>\n",
       "    </tr>\n",
       "  </thead>\n",
       "  <tbody>\n",
       "    <tr>\n",
       "      <th>50795</th>\n",
       "      <td>A01</td>\n",
       "      <td>12-7149-00002-00234</td>\n",
       "      <td>1</td>\n",
       "      <td>2095.000</td>\n",
       "      <td>1.000</td>\n",
       "      <td>3/12/12 00:00</td>\n",
       "      <td>A1009</td>\n",
       "      <td></td>\n",
       "    </tr>\n",
       "    <tr>\n",
       "      <th>50796</th>\n",
       "      <td>A01</td>\n",
       "      <td>12-7149-00002-00234</td>\n",
       "      <td>2</td>\n",
       "      <td>-695.000</td>\n",
       "      <td>0.000</td>\n",
       "      <td>3/12/12 00:00</td>\n",
       "      <td>A1009</td>\n",
       "      <td></td>\n",
       "    </tr>\n",
       "    <tr>\n",
       "      <th>50797</th>\n",
       "      <td>A01</td>\n",
       "      <td>12-7149-00002-00234</td>\n",
       "      <td>3</td>\n",
       "      <td>2095.000</td>\n",
       "      <td>1.000</td>\n",
       "      <td>3/12/12 00:00</td>\n",
       "      <td>A1009</td>\n",
       "      <td></td>\n",
       "    </tr>\n",
       "    <tr>\n",
       "      <th>50798</th>\n",
       "      <td>A01</td>\n",
       "      <td>12-7149-00002-00234</td>\n",
       "      <td>4</td>\n",
       "      <td>-695.000</td>\n",
       "      <td>0.000</td>\n",
       "      <td>3/12/12 00:00</td>\n",
       "      <td>A1009</td>\n",
       "      <td></td>\n",
       "    </tr>\n",
       "  </tbody>\n",
       "</table>\n",
       "</div>"
      ],
      "text/plain": [
       "      StoreID        TransactionID  Line    Sales  Count           Date  \\\n",
       "50795     A01  12-7149-00002-00234     1 2095.000  1.000  3/12/12 00:00   \n",
       "50796     A01  12-7149-00002-00234     2 -695.000  0.000  3/12/12 00:00   \n",
       "50797     A01  12-7149-00002-00234     3 2095.000  1.000  3/12/12 00:00   \n",
       "50798     A01  12-7149-00002-00234     4 -695.000  0.000  3/12/12 00:00   \n",
       "\n",
       "         SKU Type  \n",
       "50795  A1009       \n",
       "50796  A1009       \n",
       "50797  A1009       \n",
       "50798  A1009       "
      ]
     },
     "execution_count": 255,
     "metadata": {},
     "output_type": "execute_result"
    }
   ],
   "source": [
    "data_type[(data_type.TransactionID=='12-7149-00002-00234')]"
   ]
  },
  {
   "cell_type": "markdown",
   "metadata": {},
   "source": [
    "<br>"
   ]
  },
  {
   "cell_type": "code",
   "execution_count": null,
   "metadata": {
    "collapsed": true
   },
   "outputs": [],
   "source": []
  },
  {
   "cell_type": "code",
   "execution_count": 261,
   "metadata": {
    "collapsed": false
   },
   "outputs": [
    {
     "data": {
      "text/html": [
       "<div>\n",
       "<style>\n",
       "    .dataframe thead tr:only-child th {\n",
       "        text-align: right;\n",
       "    }\n",
       "\n",
       "    .dataframe thead th {\n",
       "        text-align: left;\n",
       "    }\n",
       "\n",
       "    .dataframe tbody tr th {\n",
       "        vertical-align: top;\n",
       "    }\n",
       "</style>\n",
       "<table border=\"1\" class=\"dataframe\">\n",
       "  <thead>\n",
       "    <tr style=\"text-align: right;\">\n",
       "      <th></th>\n",
       "      <th>StoreID</th>\n",
       "      <th>TransactionID</th>\n",
       "      <th>Line</th>\n",
       "      <th>Sales</th>\n",
       "      <th>Count</th>\n",
       "      <th>Date</th>\n",
       "      <th>SKU</th>\n",
       "      <th>Type</th>\n",
       "    </tr>\n",
       "  </thead>\n",
       "  <tbody>\n",
       "    <tr>\n",
       "      <th>0</th>\n",
       "      <td>A01</td>\n",
       "      <td>12-7149-00002-00399</td>\n",
       "      <td>2</td>\n",
       "      <td>2495.000</td>\n",
       "      <td>1.000</td>\n",
       "      <td>3/12/12 00:00</td>\n",
       "      <td>A10004</td>\n",
       "      <td></td>\n",
       "    </tr>\n",
       "    <tr>\n",
       "      <th>1</th>\n",
       "      <td>A01</td>\n",
       "      <td>12-7149-00002-00713</td>\n",
       "      <td>8</td>\n",
       "      <td>870.000</td>\n",
       "      <td>1.000</td>\n",
       "      <td>3/12/12 00:00</td>\n",
       "      <td>A10006</td>\n",
       "      <td></td>\n",
       "    </tr>\n",
       "    <tr>\n",
       "      <th>2</th>\n",
       "      <td>A01</td>\n",
       "      <td>12-7149-00009-00067</td>\n",
       "      <td>19</td>\n",
       "      <td>870.000</td>\n",
       "      <td>1.000</td>\n",
       "      <td>3/12/12 00:00</td>\n",
       "      <td>A10006</td>\n",
       "      <td></td>\n",
       "    </tr>\n",
       "  </tbody>\n",
       "</table>\n",
       "</div>"
      ],
      "text/plain": [
       "  StoreID        TransactionID  Line    Sales  Count           Date     SKU  \\\n",
       "0     A01  12-7149-00002-00399     2 2495.000  1.000  3/12/12 00:00  A10004   \n",
       "1     A01  12-7149-00002-00713     8  870.000  1.000  3/12/12 00:00  A10006   \n",
       "2     A01  12-7149-00009-00067    19  870.000  1.000  3/12/12 00:00  A10006   \n",
       "\n",
       "  Type  \n",
       "0       \n",
       "1       \n",
       "2       "
      ]
     },
     "execution_count": 261,
     "metadata": {},
     "output_type": "execute_result"
    }
   ],
   "source": [
    "data62.head(3)"
   ]
  },
  {
   "cell_type": "code",
   "execution_count": 262,
   "metadata": {
    "collapsed": true
   },
   "outputs": [],
   "source": [
    "q='''\n",
    "    select\n",
    "     a.StoreID, a.TransactionID, a.SKU, sum(Count) as '#_regular_price_items_bought_for_this_SKU'\n",
    "    from data62 a\n",
    "    join (select distinct StoreID, SKU from data69) b\n",
    "    on a.StoreID=b.StoreID and a.SKU=b.SKU\n",
    "    group by a.StoreID, a.TransactionID, a.SKU\n",
    "    \n",
    "'''\n",
    "data610=pysqldf(q)"
   ]
  },
  {
   "cell_type": "code",
   "execution_count": 263,
   "metadata": {
    "collapsed": false
   },
   "outputs": [
    {
     "data": {
      "text/html": [
       "<div>\n",
       "<style>\n",
       "    .dataframe thead tr:only-child th {\n",
       "        text-align: right;\n",
       "    }\n",
       "\n",
       "    .dataframe thead th {\n",
       "        text-align: left;\n",
       "    }\n",
       "\n",
       "    .dataframe tbody tr th {\n",
       "        vertical-align: top;\n",
       "    }\n",
       "</style>\n",
       "<table border=\"1\" class=\"dataframe\">\n",
       "  <thead>\n",
       "    <tr style=\"text-align: right;\">\n",
       "      <th></th>\n",
       "      <th>StoreID</th>\n",
       "      <th>TransactionID</th>\n",
       "      <th>SKU</th>\n",
       "      <th>#_regular_price_items_bought_for_this_SKU</th>\n",
       "    </tr>\n",
       "  </thead>\n",
       "  <tbody>\n",
       "    <tr>\n",
       "      <th>0</th>\n",
       "      <td>A01</td>\n",
       "      <td>12-7149-00001-00006</td>\n",
       "      <td>A20796</td>\n",
       "      <td>1.000</td>\n",
       "    </tr>\n",
       "    <tr>\n",
       "      <th>1</th>\n",
       "      <td>A01</td>\n",
       "      <td>12-7149-00001-00006</td>\n",
       "      <td>A25676</td>\n",
       "      <td>1.000</td>\n",
       "    </tr>\n",
       "    <tr>\n",
       "      <th>2</th>\n",
       "      <td>A01</td>\n",
       "      <td>12-7149-00001-00012</td>\n",
       "      <td>A15495</td>\n",
       "      <td>1.000</td>\n",
       "    </tr>\n",
       "  </tbody>\n",
       "</table>\n",
       "</div>"
      ],
      "text/plain": [
       "  StoreID        TransactionID     SKU  \\\n",
       "0     A01  12-7149-00001-00006  A20796   \n",
       "1     A01  12-7149-00001-00006  A25676   \n",
       "2     A01  12-7149-00001-00012  A15495   \n",
       "\n",
       "   #_regular_price_items_bought_for_this_SKU  \n",
       "0                                      1.000  \n",
       "1                                      1.000  \n",
       "2                                      1.000  "
      ]
     },
     "execution_count": 263,
     "metadata": {},
     "output_type": "execute_result"
    }
   ],
   "source": [
    "data610.head(3)"
   ]
  },
  {
   "cell_type": "code",
   "execution_count": 264,
   "metadata": {
    "collapsed": true
   },
   "outputs": [],
   "source": [
    "q='''\n",
    "    select\n",
    "       a.StoreID, a.TransactionID, sum(a.Count) as 'Total_#_items_bought'\n",
    "    from data_type a\n",
    "    join (select distinct TransactionID from data610) b\n",
    "    on a.TransactionID=b.TransactionID\n",
    "    group by a.TransactionID\n",
    "'''\n",
    "data611=pysqldf(q)"
   ]
  },
  {
   "cell_type": "code",
   "execution_count": 265,
   "metadata": {
    "collapsed": false
   },
   "outputs": [
    {
     "data": {
      "text/html": [
       "<div>\n",
       "<style>\n",
       "    .dataframe thead tr:only-child th {\n",
       "        text-align: right;\n",
       "    }\n",
       "\n",
       "    .dataframe thead th {\n",
       "        text-align: left;\n",
       "    }\n",
       "\n",
       "    .dataframe tbody tr th {\n",
       "        vertical-align: top;\n",
       "    }\n",
       "</style>\n",
       "<table border=\"1\" class=\"dataframe\">\n",
       "  <thead>\n",
       "    <tr style=\"text-align: right;\">\n",
       "      <th></th>\n",
       "      <th>StoreID</th>\n",
       "      <th>TransactionID</th>\n",
       "      <th>Total_#_items_bought</th>\n",
       "    </tr>\n",
       "  </thead>\n",
       "  <tbody>\n",
       "    <tr>\n",
       "      <th>0</th>\n",
       "      <td>A60</td>\n",
       "      <td>11-0160-00019-00011</td>\n",
       "      <td>16.000</td>\n",
       "    </tr>\n",
       "    <tr>\n",
       "      <th>1</th>\n",
       "      <td>A60</td>\n",
       "      <td>11-0160-00019-00032</td>\n",
       "      <td>6.000</td>\n",
       "    </tr>\n",
       "    <tr>\n",
       "      <th>2</th>\n",
       "      <td>A60</td>\n",
       "      <td>11-0160-00021-00008</td>\n",
       "      <td>1.000</td>\n",
       "    </tr>\n",
       "  </tbody>\n",
       "</table>\n",
       "</div>"
      ],
      "text/plain": [
       "  StoreID        TransactionID  Total_#_items_bought\n",
       "0     A60  11-0160-00019-00011                16.000\n",
       "1     A60  11-0160-00019-00032                 6.000\n",
       "2     A60  11-0160-00021-00008                 1.000"
      ]
     },
     "execution_count": 265,
     "metadata": {},
     "output_type": "execute_result"
    }
   ],
   "source": [
    "data611.head(3)"
   ]
  },
  {
   "cell_type": "code",
   "execution_count": 268,
   "metadata": {
    "collapsed": false
   },
   "outputs": [],
   "source": [
    "q='''\n",
    "    select\n",
    "       a.StoreID, a.TransactionID, a.SKU, a.'#_regular_price_items_bought_for_this_SKU'/b.'Total_#_items_bought' as 'Proportion_of_regular_price_items_for_this_SKU'\n",
    "    from data610 a\n",
    "    join data611 b\n",
    "    on a.TransactionID=b.TransactionID\n",
    "    order by a.StoreID, a.SKU\n",
    "    \n",
    "'''\n",
    "data612=pysqldf(q)"
   ]
  },
  {
   "cell_type": "code",
   "execution_count": 269,
   "metadata": {
    "collapsed": false
   },
   "outputs": [
    {
     "data": {
      "text/html": [
       "<div>\n",
       "<style>\n",
       "    .dataframe thead tr:only-child th {\n",
       "        text-align: right;\n",
       "    }\n",
       "\n",
       "    .dataframe thead th {\n",
       "        text-align: left;\n",
       "    }\n",
       "\n",
       "    .dataframe tbody tr th {\n",
       "        vertical-align: top;\n",
       "    }\n",
       "</style>\n",
       "<table border=\"1\" class=\"dataframe\">\n",
       "  <thead>\n",
       "    <tr style=\"text-align: right;\">\n",
       "      <th></th>\n",
       "      <th>StoreID</th>\n",
       "      <th>TransactionID</th>\n",
       "      <th>SKU</th>\n",
       "      <th>Proportion_of_regular_price_items_for_this_SKU</th>\n",
       "    </tr>\n",
       "  </thead>\n",
       "  <tbody>\n",
       "    <tr>\n",
       "      <th>0</th>\n",
       "      <td>A01</td>\n",
       "      <td>12-7149-00001-00037</td>\n",
       "      <td>A10191</td>\n",
       "      <td>0.111</td>\n",
       "    </tr>\n",
       "    <tr>\n",
       "      <th>1</th>\n",
       "      <td>A01</td>\n",
       "      <td>12-7149-00002-00118</td>\n",
       "      <td>A10191</td>\n",
       "      <td>0.100</td>\n",
       "    </tr>\n",
       "    <tr>\n",
       "      <th>2</th>\n",
       "      <td>A01</td>\n",
       "      <td>12-7149-00013-00081</td>\n",
       "      <td>A10206</td>\n",
       "      <td>1.000</td>\n",
       "    </tr>\n",
       "    <tr>\n",
       "      <th>3</th>\n",
       "      <td>A01</td>\n",
       "      <td>12-7149-00014-00105</td>\n",
       "      <td>A10206</td>\n",
       "      <td>1.000</td>\n",
       "    </tr>\n",
       "    <tr>\n",
       "      <th>4</th>\n",
       "      <td>A01</td>\n",
       "      <td>12-7149-00014-00129</td>\n",
       "      <td>A10206</td>\n",
       "      <td>1.000</td>\n",
       "    </tr>\n",
       "  </tbody>\n",
       "</table>\n",
       "</div>"
      ],
      "text/plain": [
       "  StoreID        TransactionID     SKU  \\\n",
       "0     A01  12-7149-00001-00037  A10191   \n",
       "1     A01  12-7149-00002-00118  A10191   \n",
       "2     A01  12-7149-00013-00081  A10206   \n",
       "3     A01  12-7149-00014-00105  A10206   \n",
       "4     A01  12-7149-00014-00129  A10206   \n",
       "\n",
       "   Proportion_of_regular_price_items_for_this_SKU  \n",
       "0                                           0.111  \n",
       "1                                           0.100  \n",
       "2                                           1.000  \n",
       "3                                           1.000  \n",
       "4                                           1.000  "
      ]
     },
     "execution_count": 269,
     "metadata": {},
     "output_type": "execute_result"
    }
   ],
   "source": [
    "data612.head()"
   ]
  },
  {
   "cell_type": "code",
   "execution_count": 270,
   "metadata": {
    "collapsed": false
   },
   "outputs": [
    {
     "data": {
      "text/html": [
       "<div>\n",
       "<style>\n",
       "    .dataframe thead tr:only-child th {\n",
       "        text-align: right;\n",
       "    }\n",
       "\n",
       "    .dataframe thead th {\n",
       "        text-align: left;\n",
       "    }\n",
       "\n",
       "    .dataframe tbody tr th {\n",
       "        vertical-align: top;\n",
       "    }\n",
       "</style>\n",
       "<table border=\"1\" class=\"dataframe\">\n",
       "  <thead>\n",
       "    <tr style=\"text-align: right;\">\n",
       "      <th></th>\n",
       "      <th>StoreID</th>\n",
       "      <th>TransactionID</th>\n",
       "      <th>SKU</th>\n",
       "      <th>Proportion_of_discounted_items_for_this_SKU</th>\n",
       "    </tr>\n",
       "  </thead>\n",
       "  <tbody>\n",
       "    <tr>\n",
       "      <th>0</th>\n",
       "      <td>A01</td>\n",
       "      <td>12-7149-00002-00679</td>\n",
       "      <td>A10074</td>\n",
       "      <td>0.333</td>\n",
       "    </tr>\n",
       "    <tr>\n",
       "      <th>1</th>\n",
       "      <td>A01</td>\n",
       "      <td>12-7149-00003-00011</td>\n",
       "      <td>A10074</td>\n",
       "      <td>0.200</td>\n",
       "    </tr>\n",
       "    <tr>\n",
       "      <th>2</th>\n",
       "      <td>A01</td>\n",
       "      <td>12-7149-00002-00234</td>\n",
       "      <td>A1009</td>\n",
       "      <td>1.000</td>\n",
       "    </tr>\n",
       "    <tr>\n",
       "      <th>3</th>\n",
       "      <td>A01</td>\n",
       "      <td>12-7149-00002-00053</td>\n",
       "      <td>A10142</td>\n",
       "      <td>0.111</td>\n",
       "    </tr>\n",
       "    <tr>\n",
       "      <th>4</th>\n",
       "      <td>A01</td>\n",
       "      <td>12-7149-00009-00106</td>\n",
       "      <td>A10142</td>\n",
       "      <td>0.333</td>\n",
       "    </tr>\n",
       "  </tbody>\n",
       "</table>\n",
       "</div>"
      ],
      "text/plain": [
       "  StoreID        TransactionID     SKU  \\\n",
       "0     A01  12-7149-00002-00679  A10074   \n",
       "1     A01  12-7149-00003-00011  A10074   \n",
       "2     A01  12-7149-00002-00234   A1009   \n",
       "3     A01  12-7149-00002-00053  A10142   \n",
       "4     A01  12-7149-00009-00106  A10142   \n",
       "\n",
       "   Proportion_of_discounted_items_for_this_SKU  \n",
       "0                                        0.333  \n",
       "1                                        0.200  \n",
       "2                                        1.000  \n",
       "3                                        0.111  \n",
       "4                                        0.333  "
      ]
     },
     "execution_count": 270,
     "metadata": {},
     "output_type": "execute_result"
    }
   ],
   "source": [
    "data69.head()"
   ]
  },
  {
   "cell_type": "code",
   "execution_count": 271,
   "metadata": {
    "collapsed": true
   },
   "outputs": [],
   "source": [
    "q='''\n",
    "    select distinct a.StoreID, a.SKU\n",
    "    from data69 a\n",
    "    join data612 b\n",
    "    on a.StoreID=b.StoreID and a.SKU=b.SKU\n",
    "    order by a.StoreID, a.SKU\n",
    "    \n",
    "'''\n",
    "data613=pysqldf(q)"
   ]
  },
  {
   "cell_type": "code",
   "execution_count": 274,
   "metadata": {
    "collapsed": false
   },
   "outputs": [
    {
     "data": {
      "text/html": [
       "<div>\n",
       "<style>\n",
       "    .dataframe thead tr:only-child th {\n",
       "        text-align: right;\n",
       "    }\n",
       "\n",
       "    .dataframe thead th {\n",
       "        text-align: left;\n",
       "    }\n",
       "\n",
       "    .dataframe tbody tr th {\n",
       "        vertical-align: top;\n",
       "    }\n",
       "</style>\n",
       "<table border=\"1\" class=\"dataframe\">\n",
       "  <thead>\n",
       "    <tr style=\"text-align: right;\">\n",
       "      <th></th>\n",
       "      <th>StoreID</th>\n",
       "      <th>SKU</th>\n",
       "    </tr>\n",
       "  </thead>\n",
       "  <tbody>\n",
       "    <tr>\n",
       "      <th>0</th>\n",
       "      <td>A01</td>\n",
       "      <td>A10191</td>\n",
       "    </tr>\n",
       "    <tr>\n",
       "      <th>1</th>\n",
       "      <td>A01</td>\n",
       "      <td>A10206</td>\n",
       "    </tr>\n",
       "    <tr>\n",
       "      <th>2</th>\n",
       "      <td>A01</td>\n",
       "      <td>A10259</td>\n",
       "    </tr>\n",
       "  </tbody>\n",
       "</table>\n",
       "</div>"
      ],
      "text/plain": [
       "  StoreID     SKU\n",
       "0     A01  A10191\n",
       "1     A01  A10206\n",
       "2     A01  A10259"
      ]
     },
     "execution_count": 274,
     "metadata": {},
     "output_type": "execute_result"
    }
   ],
   "source": [
    "data613.head(3)"
   ]
  },
  {
   "cell_type": "code",
   "execution_count": 275,
   "metadata": {
    "collapsed": false
   },
   "outputs": [
    {
     "data": {
      "text/html": [
       "<div>\n",
       "<style>\n",
       "    .dataframe thead tr:only-child th {\n",
       "        text-align: right;\n",
       "    }\n",
       "\n",
       "    .dataframe thead th {\n",
       "        text-align: left;\n",
       "    }\n",
       "\n",
       "    .dataframe tbody tr th {\n",
       "        vertical-align: top;\n",
       "    }\n",
       "</style>\n",
       "<table border=\"1\" class=\"dataframe\">\n",
       "  <thead>\n",
       "    <tr style=\"text-align: right;\">\n",
       "      <th></th>\n",
       "      <th>StoreID</th>\n",
       "      <th>TransactionID</th>\n",
       "      <th>SKU</th>\n",
       "      <th>Proportion_of_discounted_items_for_this_SKU</th>\n",
       "    </tr>\n",
       "  </thead>\n",
       "  <tbody>\n",
       "    <tr>\n",
       "      <th>7</th>\n",
       "      <td>A01</td>\n",
       "      <td>12-7149-00002-00085</td>\n",
       "      <td>A10191</td>\n",
       "      <td>0.333</td>\n",
       "    </tr>\n",
       "    <tr>\n",
       "      <th>8</th>\n",
       "      <td>A01</td>\n",
       "      <td>12-7149-00002-00147</td>\n",
       "      <td>A10191</td>\n",
       "      <td>0.500</td>\n",
       "    </tr>\n",
       "    <tr>\n",
       "      <th>9</th>\n",
       "      <td>A01</td>\n",
       "      <td>12-7149-00004-00384</td>\n",
       "      <td>A10191</td>\n",
       "      <td>0.222</td>\n",
       "    </tr>\n",
       "    <tr>\n",
       "      <th>10</th>\n",
       "      <td>A01</td>\n",
       "      <td>12-7149-00004-00637</td>\n",
       "      <td>A10191</td>\n",
       "      <td>0.087</td>\n",
       "    </tr>\n",
       "    <tr>\n",
       "      <th>11</th>\n",
       "      <td>A01</td>\n",
       "      <td>12-7149-00005-00005</td>\n",
       "      <td>A10191</td>\n",
       "      <td>0.333</td>\n",
       "    </tr>\n",
       "    <tr>\n",
       "      <th>12</th>\n",
       "      <td>A01</td>\n",
       "      <td>12-7149-00005-00130</td>\n",
       "      <td>A10191</td>\n",
       "      <td>0.222</td>\n",
       "    </tr>\n",
       "    <tr>\n",
       "      <th>13</th>\n",
       "      <td>A01</td>\n",
       "      <td>12-7149-00006-00027</td>\n",
       "      <td>A10191</td>\n",
       "      <td>0.400</td>\n",
       "    </tr>\n",
       "  </tbody>\n",
       "</table>\n",
       "</div>"
      ],
      "text/plain": [
       "   StoreID        TransactionID     SKU  \\\n",
       "7      A01  12-7149-00002-00085  A10191   \n",
       "8      A01  12-7149-00002-00147  A10191   \n",
       "9      A01  12-7149-00004-00384  A10191   \n",
       "10     A01  12-7149-00004-00637  A10191   \n",
       "11     A01  12-7149-00005-00005  A10191   \n",
       "12     A01  12-7149-00005-00130  A10191   \n",
       "13     A01  12-7149-00006-00027  A10191   \n",
       "\n",
       "    Proportion_of_discounted_items_for_this_SKU  \n",
       "7                                         0.333  \n",
       "8                                         0.500  \n",
       "9                                         0.222  \n",
       "10                                        0.087  \n",
       "11                                        0.333  \n",
       "12                                        0.222  \n",
       "13                                        0.400  "
      ]
     },
     "execution_count": 275,
     "metadata": {},
     "output_type": "execute_result"
    }
   ],
   "source": [
    "data69[(data69['StoreID']=='A01')&(data69['SKU']=='A10191')]"
   ]
  },
  {
   "cell_type": "code",
   "execution_count": 276,
   "metadata": {
    "collapsed": false
   },
   "outputs": [
    {
     "data": {
      "text/html": [
       "<div>\n",
       "<style>\n",
       "    .dataframe thead tr:only-child th {\n",
       "        text-align: right;\n",
       "    }\n",
       "\n",
       "    .dataframe thead th {\n",
       "        text-align: left;\n",
       "    }\n",
       "\n",
       "    .dataframe tbody tr th {\n",
       "        vertical-align: top;\n",
       "    }\n",
       "</style>\n",
       "<table border=\"1\" class=\"dataframe\">\n",
       "  <thead>\n",
       "    <tr style=\"text-align: right;\">\n",
       "      <th></th>\n",
       "      <th>StoreID</th>\n",
       "      <th>TransactionID</th>\n",
       "      <th>SKU</th>\n",
       "      <th>Proportion_of_regular_price_items_for_this_SKU</th>\n",
       "    </tr>\n",
       "  </thead>\n",
       "  <tbody>\n",
       "    <tr>\n",
       "      <th>0</th>\n",
       "      <td>A01</td>\n",
       "      <td>12-7149-00001-00037</td>\n",
       "      <td>A10191</td>\n",
       "      <td>0.111</td>\n",
       "    </tr>\n",
       "    <tr>\n",
       "      <th>1</th>\n",
       "      <td>A01</td>\n",
       "      <td>12-7149-00002-00118</td>\n",
       "      <td>A10191</td>\n",
       "      <td>0.100</td>\n",
       "    </tr>\n",
       "  </tbody>\n",
       "</table>\n",
       "</div>"
      ],
      "text/plain": [
       "  StoreID        TransactionID     SKU  \\\n",
       "0     A01  12-7149-00001-00037  A10191   \n",
       "1     A01  12-7149-00002-00118  A10191   \n",
       "\n",
       "   Proportion_of_regular_price_items_for_this_SKU  \n",
       "0                                           0.111  \n",
       "1                                           0.100  "
      ]
     },
     "execution_count": 276,
     "metadata": {},
     "output_type": "execute_result"
    }
   ],
   "source": [
    "data612[(data612['StoreID']=='A01')&(data612['SKU']=='A10191')]"
   ]
  },
  {
   "cell_type": "code",
   "execution_count": null,
   "metadata": {
    "collapsed": true
   },
   "outputs": [],
   "source": []
  },
  {
   "cell_type": "code",
   "execution_count": 277,
   "metadata": {
    "collapsed": false
   },
   "outputs": [
    {
     "data": {
      "text/html": [
       "<div>\n",
       "<style>\n",
       "    .dataframe thead tr:only-child th {\n",
       "        text-align: right;\n",
       "    }\n",
       "\n",
       "    .dataframe thead th {\n",
       "        text-align: left;\n",
       "    }\n",
       "\n",
       "    .dataframe tbody tr th {\n",
       "        vertical-align: top;\n",
       "    }\n",
       "</style>\n",
       "<table border=\"1\" class=\"dataframe\">\n",
       "  <thead>\n",
       "    <tr style=\"text-align: right;\">\n",
       "      <th></th>\n",
       "      <th>StoreID</th>\n",
       "      <th>TransactionID</th>\n",
       "      <th>SKU</th>\n",
       "      <th>Proportion_of_discounted_items_for_this_SKU</th>\n",
       "    </tr>\n",
       "  </thead>\n",
       "  <tbody>\n",
       "    <tr>\n",
       "      <th>14</th>\n",
       "      <td>A01</td>\n",
       "      <td>12-7149-00014-00006</td>\n",
       "      <td>A10206</td>\n",
       "      <td>1.000</td>\n",
       "    </tr>\n",
       "    <tr>\n",
       "      <th>15</th>\n",
       "      <td>A01</td>\n",
       "      <td>12-7149-00014-00008</td>\n",
       "      <td>A10206</td>\n",
       "      <td>0.250</td>\n",
       "    </tr>\n",
       "    <tr>\n",
       "      <th>16</th>\n",
       "      <td>A01</td>\n",
       "      <td>12-7149-00014-00026</td>\n",
       "      <td>A10206</td>\n",
       "      <td>0.333</td>\n",
       "    </tr>\n",
       "  </tbody>\n",
       "</table>\n",
       "</div>"
      ],
      "text/plain": [
       "   StoreID        TransactionID     SKU  \\\n",
       "14     A01  12-7149-00014-00006  A10206   \n",
       "15     A01  12-7149-00014-00008  A10206   \n",
       "16     A01  12-7149-00014-00026  A10206   \n",
       "\n",
       "    Proportion_of_discounted_items_for_this_SKU  \n",
       "14                                        1.000  \n",
       "15                                        0.250  \n",
       "16                                        0.333  "
      ]
     },
     "execution_count": 277,
     "metadata": {},
     "output_type": "execute_result"
    }
   ],
   "source": [
    "data69[(data69['StoreID']=='A01')&(data69['SKU']=='A10206')]"
   ]
  },
  {
   "cell_type": "code",
   "execution_count": 278,
   "metadata": {
    "collapsed": false
   },
   "outputs": [
    {
     "data": {
      "text/html": [
       "<div>\n",
       "<style>\n",
       "    .dataframe thead tr:only-child th {\n",
       "        text-align: right;\n",
       "    }\n",
       "\n",
       "    .dataframe thead th {\n",
       "        text-align: left;\n",
       "    }\n",
       "\n",
       "    .dataframe tbody tr th {\n",
       "        vertical-align: top;\n",
       "    }\n",
       "</style>\n",
       "<table border=\"1\" class=\"dataframe\">\n",
       "  <thead>\n",
       "    <tr style=\"text-align: right;\">\n",
       "      <th></th>\n",
       "      <th>StoreID</th>\n",
       "      <th>TransactionID</th>\n",
       "      <th>SKU</th>\n",
       "      <th>Proportion_of_regular_price_items_for_this_SKU</th>\n",
       "    </tr>\n",
       "  </thead>\n",
       "  <tbody>\n",
       "    <tr>\n",
       "      <th>2</th>\n",
       "      <td>A01</td>\n",
       "      <td>12-7149-00013-00081</td>\n",
       "      <td>A10206</td>\n",
       "      <td>1.000</td>\n",
       "    </tr>\n",
       "    <tr>\n",
       "      <th>3</th>\n",
       "      <td>A01</td>\n",
       "      <td>12-7149-00014-00105</td>\n",
       "      <td>A10206</td>\n",
       "      <td>1.000</td>\n",
       "    </tr>\n",
       "    <tr>\n",
       "      <th>4</th>\n",
       "      <td>A01</td>\n",
       "      <td>12-7149-00014-00129</td>\n",
       "      <td>A10206</td>\n",
       "      <td>1.000</td>\n",
       "    </tr>\n",
       "    <tr>\n",
       "      <th>5</th>\n",
       "      <td>A01</td>\n",
       "      <td>12-7149-00014-00132</td>\n",
       "      <td>A10206</td>\n",
       "      <td>0.500</td>\n",
       "    </tr>\n",
       "    <tr>\n",
       "      <th>6</th>\n",
       "      <td>A01</td>\n",
       "      <td>12-7149-00014-00206</td>\n",
       "      <td>A10206</td>\n",
       "      <td>1.000</td>\n",
       "    </tr>\n",
       "  </tbody>\n",
       "</table>\n",
       "</div>"
      ],
      "text/plain": [
       "  StoreID        TransactionID     SKU  \\\n",
       "2     A01  12-7149-00013-00081  A10206   \n",
       "3     A01  12-7149-00014-00105  A10206   \n",
       "4     A01  12-7149-00014-00129  A10206   \n",
       "5     A01  12-7149-00014-00132  A10206   \n",
       "6     A01  12-7149-00014-00206  A10206   \n",
       "\n",
       "   Proportion_of_regular_price_items_for_this_SKU  \n",
       "2                                           1.000  \n",
       "3                                           1.000  \n",
       "4                                           1.000  \n",
       "5                                           0.500  \n",
       "6                                           1.000  "
      ]
     },
     "execution_count": 278,
     "metadata": {},
     "output_type": "execute_result"
    }
   ],
   "source": [
    "data612[(data612['StoreID']=='A01')&(data612['SKU']=='A10206')]"
   ]
  },
  {
   "cell_type": "markdown",
   "metadata": {},
   "source": [
    "<br><br>"
   ]
  },
  {
   "cell_type": "markdown",
   "metadata": {},
   "source": [
    "### 4. Can we find any cross-sell and up-sell opportunites? <a name='11' />"
   ]
  },
  {
   "cell_type": "markdown",
   "metadata": {},
   "source": [
    "**Metrics:** support, confidence, lift \n",
    "\n",
    "**Calculation Method:** We pick top 5 stores based on markdowns performance calculated from second question, within each store, we can use association anlysis to find some relationships between 2 products or 2 groups, and use support, confidence, lift to know  the degree to which the antecedants' occurences are dependent on consequents' occurences. \n"
   ]
  },
  {
   "cell_type": "code",
   "execution_count": 53,
   "metadata": {
    "collapsed": true
   },
   "outputs": [],
   "source": [
    "import pandas as pd\n",
    "from mlxtend.frequent_patterns import apriori\n",
    "from mlxtend.frequent_patterns import association_rules"
   ]
  },
  {
   "cell_type": "code",
   "execution_count": 433,
   "metadata": {
    "collapsed": false
   },
   "outputs": [],
   "source": [
    "data_type = pd.read_csv('data_type.csv')\n",
    "data_type.fillna('',inplace=True)"
   ]
  },
  {
   "cell_type": "code",
   "execution_count": 443,
   "metadata": {
    "collapsed": false
   },
   "outputs": [
    {
     "data": {
      "text/html": [
       "<div>\n",
       "<style>\n",
       "    .dataframe thead tr:only-child th {\n",
       "        text-align: right;\n",
       "    }\n",
       "\n",
       "    .dataframe thead th {\n",
       "        text-align: left;\n",
       "    }\n",
       "\n",
       "    .dataframe tbody tr th {\n",
       "        vertical-align: top;\n",
       "    }\n",
       "</style>\n",
       "<table border=\"1\" class=\"dataframe\">\n",
       "  <thead>\n",
       "    <tr style=\"text-align: right;\">\n",
       "      <th></th>\n",
       "      <th>StoreID</th>\n",
       "      <th>TransactionID</th>\n",
       "      <th>Line</th>\n",
       "      <th>Sales</th>\n",
       "      <th>Count</th>\n",
       "      <th>Date</th>\n",
       "      <th>SKU</th>\n",
       "      <th>Type</th>\n",
       "    </tr>\n",
       "  </thead>\n",
       "  <tbody>\n",
       "    <tr>\n",
       "      <th>610</th>\n",
       "      <td>A29</td>\n",
       "      <td>11-7270-00007-00089</td>\n",
       "      <td>4</td>\n",
       "      <td>3995.000</td>\n",
       "      <td>1.000</td>\n",
       "      <td>3/11/12 00:00</td>\n",
       "      <td>A21166</td>\n",
       "      <td></td>\n",
       "    </tr>\n",
       "    <tr>\n",
       "      <th>616</th>\n",
       "      <td>A29</td>\n",
       "      <td>11-7270-00007-00089</td>\n",
       "      <td>19</td>\n",
       "      <td>-3995.000</td>\n",
       "      <td>-1.000</td>\n",
       "      <td>3/11/12 00:00</td>\n",
       "      <td>A21166</td>\n",
       "      <td>Regular_Return</td>\n",
       "    </tr>\n",
       "    <tr>\n",
       "      <th>617</th>\n",
       "      <td>A29</td>\n",
       "      <td>11-7270-00007-00089</td>\n",
       "      <td>20</td>\n",
       "      <td>1995.000</td>\n",
       "      <td>1.000</td>\n",
       "      <td>3/11/12 00:00</td>\n",
       "      <td>A21166</td>\n",
       "      <td></td>\n",
       "    </tr>\n",
       "  </tbody>\n",
       "</table>\n",
       "</div>"
      ],
      "text/plain": [
       "    StoreID        TransactionID  Line     Sales  Count           Date  \\\n",
       "610     A29  11-7270-00007-00089     4  3995.000  1.000  3/11/12 00:00   \n",
       "616     A29  11-7270-00007-00089    19 -3995.000 -1.000  3/11/12 00:00   \n",
       "617     A29  11-7270-00007-00089    20  1995.000  1.000  3/11/12 00:00   \n",
       "\n",
       "        SKU            Type  \n",
       "610  A21166                  \n",
       "616  A21166  Regular_Return  \n",
       "617  A21166                  "
      ]
     },
     "execution_count": 443,
     "metadata": {},
     "output_type": "execute_result"
    }
   ],
   "source": [
    "data_type[(data_type.TransactionID=='11-7270-00007-00089')&(data_type.SKU=='A21166')]"
   ]
  },
  {
   "cell_type": "code",
   "execution_count": 62,
   "metadata": {
    "collapsed": true
   },
   "outputs": [],
   "source": [
    "def encode_units(x):\n",
    "    if x <= 0:\n",
    "        return 0\n",
    "    if x >= 1:\n",
    "        return 1"
   ]
  },
  {
   "cell_type": "code",
   "execution_count": 72,
   "metadata": {
    "collapsed": true
   },
   "outputs": [],
   "source": [
    "def associationAnalysis(Store):\n",
    "    basket = data_type[data_type['StoreID']==Store].groupby(['TransactionID','SKU'])['Count'].sum().unstack().reset_index().fillna(0).set_index('TransactionID')\n",
    "    basket_sets = basket.applymap(encode_units)\n",
    "    frequent_itemsets = apriori(basket_sets, min_support=0.005, use_colnames=True)\n",
    "    rules = association_rules(frequent_itemsets, metric=\"lift\", min_threshold=1)\n",
    "    rules = rules.sort_values(['lift'],ascending=[False])\n",
    "    print rules.head(6)"
   ]
  },
  {
   "cell_type": "markdown",
   "metadata": {},
   "source": [
    "<br>"
   ]
  },
  {
   "cell_type": "code",
   "execution_count": 73,
   "metadata": {
    "collapsed": false
   },
   "outputs": [
    {
     "name": "stdout",
     "output_type": "stream",
     "text": [
      "   antecedants consequents  support  confidence   lift\n",
      "0      (A9771)     (A4107)    0.031       0.192 23.214\n",
      "1      (A4107)     (A9771)    0.008       0.714 23.214\n",
      "19     (A1449)     (A2341)    0.012       0.600 22.043\n",
      "18     (A2341)     (A1449)    0.027       0.261 22.043\n",
      "4      (A2341)     (A9771)    0.027       0.304  9.891\n",
      "5      (A9771)     (A2341)    0.031       0.269  9.891\n"
     ]
    }
   ],
   "source": [
    "associationAnalysis('A57')"
   ]
  },
  {
   "cell_type": "markdown",
   "metadata": {},
   "source": [
    "#### In store A57, for example, {A4107}-->{A9771}:\n",
    "- 0.8% support means 0.8% proportion of transactions in the dataset contain both A4107 and A9771;   \n",
    "- 71.4% confidence means 71.4% who buy A4107 will also buy A9771.   \n",
    "- Since lift=23.214 which lets us know it is a large degree that the occurences of A4107 are dependent on A9771.  \n",
    "\n",
    "#### So we conclude that A4107 and A9771, A2341 and A1449, A9771 and A2341 can be cross selled togther in Store A57."
   ]
  },
  {
   "cell_type": "markdown",
   "metadata": {},
   "source": [
    "<br>"
   ]
  },
  {
   "cell_type": "code",
   "execution_count": 74,
   "metadata": {
    "collapsed": false
   },
   "outputs": [
    {
     "name": "stdout",
     "output_type": "stream",
     "text": [
      "   antecedants consequents  support  confidence   lift\n",
      "31    (A20578)     (A3765)    0.013       0.419 20.863\n",
      "30     (A3765)    (A20578)    0.020       0.271 20.863\n",
      "15     (A9946)     (A5821)    0.005       1.000 19.415\n",
      "29    (A24233)     (A5821)    0.006       1.000 19.415\n",
      "28     (A5821)    (A24233)    0.052       0.122 19.415\n",
      "9      (A6041)     (A5821)    0.007       1.000 19.415\n"
     ]
    }
   ],
   "source": [
    "associationAnalysis('A49')"
   ]
  },
  {
   "cell_type": "markdown",
   "metadata": {},
   "source": [
    "#### In Store A49, we conclude that A20578 and A3765, A9946 and A5821, A24233 and A5821 can be cross selled togther."
   ]
  },
  {
   "cell_type": "markdown",
   "metadata": {},
   "source": [
    "<br>"
   ]
  },
  {
   "cell_type": "code",
   "execution_count": 75,
   "metadata": {
    "collapsed": false
   },
   "outputs": [
    {
     "name": "stdout",
     "output_type": "stream",
     "text": [
      "  antecedants consequents  support  confidence  lift\n",
      "4     (A9353)     (A4023)    0.175       0.035 4.083\n",
      "5     (A4023)     (A9353)    0.009       0.714 4.083\n",
      "0     (A9353)    (A25659)    0.175       0.035 3.573\n",
      "1    (A25659)     (A9353)    0.010       0.625 3.573\n",
      "3     (A9353)    (A11124)    0.175       0.035 3.176\n",
      "2    (A11124)     (A9353)    0.011       0.556 3.176\n"
     ]
    }
   ],
   "source": [
    "associationAnalysis('A58')"
   ]
  },
  {
   "cell_type": "markdown",
   "metadata": {},
   "source": [
    "#### In Store A58, we conclude that A9353 and A4023, A9353 and A25659, A9353 and A11124 can be cross selled togther."
   ]
  },
  {
   "cell_type": "markdown",
   "metadata": {},
   "source": [
    "<br>"
   ]
  },
  {
   "cell_type": "code",
   "execution_count": 76,
   "metadata": {
    "collapsed": false
   },
   "outputs": [
    {
     "name": "stdout",
     "output_type": "stream",
     "text": [
      "   antecedants consequents  support  confidence   lift\n",
      "12    (A10644)    (A10809)    0.011       0.985 26.172\n",
      "13    (A10809)    (A10644)    0.038       0.293 26.172\n",
      "6      (A1449)    (A25312)    0.013       0.408  8.294\n",
      "7     (A25312)     (A1449)    0.049       0.105  8.294\n",
      "15    (A25312)     (A2341)    0.049       0.214  6.310\n",
      "14     (A2341)    (A25312)    0.034       0.310  6.310\n"
     ]
    }
   ],
   "source": [
    "associationAnalysis('A78')"
   ]
  },
  {
   "cell_type": "markdown",
   "metadata": {},
   "source": [
    "#### In Store A78, we conclude that A10644 and A10809, A1449 and A25312, A2341 and A25312 can be cross selled togther."
   ]
  },
  {
   "cell_type": "markdown",
   "metadata": {},
   "source": [
    "<br>"
   ]
  },
  {
   "cell_type": "code",
   "execution_count": 78,
   "metadata": {
    "collapsed": false
   },
   "outputs": [
    {
     "name": "stdout",
     "output_type": "stream",
     "text": [
      "                         antecedants       consequents  support  confidence  \\\n",
      "733                  (A10809, A3664)  (A10644, A13046)    0.005       1.000   \n",
      "467                          (A7260)  (A10644, A24233)    0.005       1.000   \n",
      "470   (A5821, A7260, A10644, A10809)          (A24233)    0.005       1.000   \n",
      "473  (A5821, A10644, A10809, A24233)           (A7260)    0.005       1.000   \n",
      "475           (A5821, A7260, A10644)  (A10809, A24233)    0.005       1.000   \n",
      "476           (A5821, A7260, A10809)  (A10644, A24233)    0.005       1.000   \n",
      "\n",
      "       lift  \n",
      "733 182.000  \n",
      "467 182.000  \n",
      "470 182.000  \n",
      "473 182.000  \n",
      "475 182.000  \n",
      "476 182.000  \n"
     ]
    }
   ],
   "source": [
    "associationAnalysis('A85')"
   ]
  },
  {
   "cell_type": "markdown",
   "metadata": {},
   "source": [
    "#### In Store A85, we can cross sell (A10809, A3664) with (A10644, A13046) and (A7260) with (A1064, A24233)."
   ]
  },
  {
   "cell_type": "markdown",
   "metadata": {
    "collapsed": true
   },
   "source": [
    "<br><br>"
   ]
  },
  {
   "cell_type": "markdown",
   "metadata": {},
   "source": [
    "### 5. How about the time or day of promotion? Would that make a difference? <a name='12' />\n"
   ]
  },
  {
   "cell_type": "markdown",
   "metadata": {},
   "source": [
    "**Metrics:** Average sales per basket on transactions with discounted items and transactions without discounted items for SPECIFIC DATE\n",
    "\n",
    "**Calculation Method:** 'Sum of sales / number of transactions' for  transactions with discounted items, and transactions without discounted items for SPECIFIC DATE. And then compare the average sales per basket. Also check whether promotions on different dates would make a difference. (When there is an orphan return, we simply exclude them when calculating sales per transaction)\n"
   ]
  },
  {
   "cell_type": "code",
   "execution_count": 75,
   "metadata": {
    "collapsed": false
   },
   "outputs": [
    {
     "data": {
      "text/html": [
       "<div>\n",
       "<style>\n",
       "    .dataframe thead tr:only-child th {\n",
       "        text-align: right;\n",
       "    }\n",
       "\n",
       "    .dataframe thead th {\n",
       "        text-align: left;\n",
       "    }\n",
       "\n",
       "    .dataframe tbody tr th {\n",
       "        vertical-align: top;\n",
       "    }\n",
       "</style>\n",
       "<table border=\"1\" class=\"dataframe\">\n",
       "  <thead>\n",
       "    <tr style=\"text-align: right;\">\n",
       "      <th></th>\n",
       "      <th>StoreID</th>\n",
       "      <th>TransactionID</th>\n",
       "      <th>Line</th>\n",
       "      <th>Sales</th>\n",
       "      <th>Count</th>\n",
       "      <th>Date</th>\n",
       "      <th>SKU</th>\n",
       "      <th>Type</th>\n",
       "    </tr>\n",
       "  </thead>\n",
       "  <tbody>\n",
       "    <tr>\n",
       "      <th>0</th>\n",
       "      <td>A29</td>\n",
       "      <td>11-7270-00007-00057</td>\n",
       "      <td>36</td>\n",
       "      <td>850.0</td>\n",
       "      <td>1.0</td>\n",
       "      <td>3/11/12 00:00</td>\n",
       "      <td>A21773</td>\n",
       "      <td></td>\n",
       "    </tr>\n",
       "    <tr>\n",
       "      <th>1</th>\n",
       "      <td>A29</td>\n",
       "      <td>11-7270-00007-00057</td>\n",
       "      <td>39</td>\n",
       "      <td>1500.0</td>\n",
       "      <td>1.0</td>\n",
       "      <td>3/11/12 00:00</td>\n",
       "      <td>A18009</td>\n",
       "      <td></td>\n",
       "    </tr>\n",
       "    <tr>\n",
       "      <th>2</th>\n",
       "      <td>A29</td>\n",
       "      <td>11-7270-00007-00057</td>\n",
       "      <td>40</td>\n",
       "      <td>1500.0</td>\n",
       "      <td>1.0</td>\n",
       "      <td>3/11/12 00:00</td>\n",
       "      <td>A25592</td>\n",
       "      <td></td>\n",
       "    </tr>\n",
       "  </tbody>\n",
       "</table>\n",
       "</div>"
      ],
      "text/plain": [
       "  StoreID        TransactionID  Line   Sales  Count           Date     SKU  \\\n",
       "0     A29  11-7270-00007-00057    36   850.0    1.0  3/11/12 00:00  A21773   \n",
       "1     A29  11-7270-00007-00057    39  1500.0    1.0  3/11/12 00:00  A18009   \n",
       "2     A29  11-7270-00007-00057    40  1500.0    1.0  3/11/12 00:00  A25592   \n",
       "\n",
       "  Type  \n",
       "0       \n",
       "1       \n",
       "2       "
      ]
     },
     "execution_count": 75,
     "metadata": {},
     "output_type": "execute_result"
    }
   ],
   "source": [
    "data50.head(3)"
   ]
  },
  {
   "cell_type": "code",
   "execution_count": 76,
   "metadata": {
    "collapsed": true
   },
   "outputs": [],
   "source": [
    "# Select transactions with discounted items for specific store\n",
    "q='''\n",
    "  select\n",
    "      Date,\n",
    "      sum(Sales) as Total,\n",
    "      count(distinct TransactionID) as Number_of_Transactions,\n",
    "      sum(Sales)/count(distinct TransactionID) as 'Average sales per basket (with discounts)'\n",
    "  from\n",
    "      data50\n",
    "  group by\n",
    "      Date\n",
    "  \n",
    "  '''\n",
    "data80= pysqldf(q)"
   ]
  },
  {
   "cell_type": "code",
   "execution_count": 78,
   "metadata": {
    "collapsed": false
   },
   "outputs": [
    {
     "data": {
      "text/html": [
       "<div>\n",
       "<style>\n",
       "    .dataframe thead tr:only-child th {\n",
       "        text-align: right;\n",
       "    }\n",
       "\n",
       "    .dataframe thead th {\n",
       "        text-align: left;\n",
       "    }\n",
       "\n",
       "    .dataframe tbody tr th {\n",
       "        vertical-align: top;\n",
       "    }\n",
       "</style>\n",
       "<table border=\"1\" class=\"dataframe\">\n",
       "  <thead>\n",
       "    <tr style=\"text-align: right;\">\n",
       "      <th></th>\n",
       "      <th>Date</th>\n",
       "      <th>Total</th>\n",
       "      <th>Number_of_Transactions</th>\n",
       "      <th>Average sales per basket (with discounts)</th>\n",
       "    </tr>\n",
       "  </thead>\n",
       "  <tbody>\n",
       "    <tr>\n",
       "      <th>0</th>\n",
       "      <td>3/11/12 00:00</td>\n",
       "      <td>5.129862e+07</td>\n",
       "      <td>4033</td>\n",
       "      <td>12719.717084</td>\n",
       "    </tr>\n",
       "    <tr>\n",
       "      <th>1</th>\n",
       "      <td>3/12/12 00:00</td>\n",
       "      <td>8.289848e+08</td>\n",
       "      <td>57045</td>\n",
       "      <td>14532.120491</td>\n",
       "    </tr>\n",
       "  </tbody>\n",
       "</table>\n",
       "</div>"
      ],
      "text/plain": [
       "            Date         Total  Number_of_Transactions  \\\n",
       "0  3/11/12 00:00  5.129862e+07                    4033   \n",
       "1  3/12/12 00:00  8.289848e+08                   57045   \n",
       "\n",
       "   Average sales per basket (with discounts)  \n",
       "0                               12719.717084  \n",
       "1                               14532.120491  "
      ]
     },
     "execution_count": 78,
     "metadata": {},
     "output_type": "execute_result"
    }
   ],
   "source": [
    "data80"
   ]
  },
  {
   "cell_type": "code",
   "execution_count": 79,
   "metadata": {
    "collapsed": true
   },
   "outputs": [],
   "source": [
    "# Select transactions with discounted items for specific store\n",
    "q='''\n",
    "  select\n",
    "      Date,\n",
    "      sum(Sales) as Total,\n",
    "      count(distinct TransactionID) as Number_of_Transactions,\n",
    "      sum(Sales)/count(distinct TransactionID) as 'Average sales per basket (without discounts)'\n",
    "  from\n",
    "      data52\n",
    "  group by\n",
    "      Date\n",
    "  '''\n",
    "data81= pysqldf(q)"
   ]
  },
  {
   "cell_type": "code",
   "execution_count": 80,
   "metadata": {
    "collapsed": false
   },
   "outputs": [
    {
     "data": {
      "text/html": [
       "<div>\n",
       "<style>\n",
       "    .dataframe thead tr:only-child th {\n",
       "        text-align: right;\n",
       "    }\n",
       "\n",
       "    .dataframe thead th {\n",
       "        text-align: left;\n",
       "    }\n",
       "\n",
       "    .dataframe tbody tr th {\n",
       "        vertical-align: top;\n",
       "    }\n",
       "</style>\n",
       "<table border=\"1\" class=\"dataframe\">\n",
       "  <thead>\n",
       "    <tr style=\"text-align: right;\">\n",
       "      <th></th>\n",
       "      <th>Date</th>\n",
       "      <th>Total</th>\n",
       "      <th>Number_of_Transactions</th>\n",
       "      <th>Average sales per basket (without discounts)</th>\n",
       "    </tr>\n",
       "  </thead>\n",
       "  <tbody>\n",
       "    <tr>\n",
       "      <th>0</th>\n",
       "      <td>3/11/12 00:00</td>\n",
       "      <td>3.453305e+07</td>\n",
       "      <td>4930</td>\n",
       "      <td>7004.674543</td>\n",
       "    </tr>\n",
       "    <tr>\n",
       "      <th>1</th>\n",
       "      <td>3/12/12 00:00</td>\n",
       "      <td>9.210454e+08</td>\n",
       "      <td>126955</td>\n",
       "      <td>7254.896943</td>\n",
       "    </tr>\n",
       "  </tbody>\n",
       "</table>\n",
       "</div>"
      ],
      "text/plain": [
       "            Date         Total  Number_of_Transactions  \\\n",
       "0  3/11/12 00:00  3.453305e+07                    4930   \n",
       "1  3/12/12 00:00  9.210454e+08                  126955   \n",
       "\n",
       "   Average sales per basket (without discounts)  \n",
       "0                                   7004.674543  \n",
       "1                                   7254.896943  "
      ]
     },
     "execution_count": 80,
     "metadata": {},
     "output_type": "execute_result"
    }
   ],
   "source": [
    "data81"
   ]
  },
  {
   "cell_type": "code",
   "execution_count": 93,
   "metadata": {
    "collapsed": false
   },
   "outputs": [
    {
     "data": {
      "text/plain": [
       "array([0, 1])"
      ]
     },
     "execution_count": 93,
     "metadata": {},
     "output_type": "execute_result"
    }
   ],
   "source": [
    "np.arange(2)"
   ]
  },
  {
   "cell_type": "code",
   "execution_count": 113,
   "metadata": {
    "collapsed": false
   },
   "outputs": [],
   "source": [
    "def autolabel(rects):\n",
    "    for rect in rects:\n",
    "        height=rect.get_height()\n",
    "        ax.text(rect.get_x()+rect.get_width()/2, 1.05*height, '{:.2f}'.format(height), ha='center', va='bottom')"
   ]
  },
  {
   "cell_type": "code",
   "execution_count": 119,
   "metadata": {
    "collapsed": false
   },
   "outputs": [
    {
     "data": {
      "image/png": "[encoded data removed]",
      "text/plain": [
       "<matplotlib.figure.Figure at 0x1323c0450>"
      ]
     },
     "metadata": {},
     "output_type": "display_data"
    }
   ],
   "source": [
    "fig, ax = plt.subplots(figsize=(8,5))\n",
    "#x=np.arange(2)\n",
    "x=np.array([0,2])\n",
    "width=0.05\n",
    "rects1 = ax.bar(x,data80['Average sales per basket (with discounts)'])\n",
    "rects2 = ax.bar(x+0.8,data81['Average sales per basket (without discounts)'])\n",
    "ax.set_ylabel('Average Revenue Per Basket')\n",
    "ax.set_xlabel('Date')\n",
    "ax.set_ylim(0,20000)\n",
    "ax.set_title('Would that make a difference for promotions on different date?')\n",
    "ax.set_xticks(x+0.4)\n",
    "ax.set_xticklabels(('3/11/12','3/12/12'))\n",
    "ax.legend((rects1[0],rects2[0]),('With Discounts','Without Discounts'))\n",
    "autolabel(rects1)\n",
    "autolabel(rects2)"
   ]
  },
  {
   "cell_type": "markdown",
   "metadata": {},
   "source": [
    "From the plot, the average revenue per basket for transactions with promotions is 82% higher than transactions without promotions on 3/11/12. And  the average revenue per basket for transactions with promotions is 100% higher than transactions without promotions on 3/12/12."
   ]
  },
  {
   "cell_type": "markdown",
   "metadata": {},
   "source": [
    "<br><br>"
   ]
  },
  {
   "cell_type": "markdown",
   "metadata": {},
   "source": [
    "### 6. Look at low end and high end products separately when evaluating promotion strategy <a name='13' />\n"
   ]
  },
  {
   "cell_type": "markdown",
   "metadata": {},
   "source": [
    "We define high end products are those whose regular unit price is bigger than \\$5000. And low end products are those whose regular unit price is lower than $100.\n",
    "\n",
    "**Metrics:** Elasticity of Demand for specific SKU across stores\n",
    "\n",
    "**Calculation Method:** Percent change in demand for specific SKU before and after discount / Percent change in price for specific SKU before and after discount\n",
    "\n",
    "**Explanation:** I would make my own buckets and define which SKUs are high-end products, and which SKUs are low-end products. Then I would look at low end and high end produtcs separetely by calculating elasticity of demand for each SKU across stores.\n"
   ]
  },
  {
   "cell_type": "code",
   "execution_count": 171,
   "metadata": {
    "collapsed": true
   },
   "outputs": [],
   "source": [
    "# Select high end products\n",
    "q='''\n",
    "  select distinct SKU\n",
    "  from data_type\n",
    "  where Count>0 and Sales/Count>5000\n",
    "  '''\n",
    "data90= pysqldf(q)"
   ]
  },
  {
   "cell_type": "code",
   "execution_count": 132,
   "metadata": {
    "collapsed": false
   },
   "outputs": [
    {
     "data": {
      "text/html": [
       "<div>\n",
       "<style>\n",
       "    .dataframe thead tr:only-child th {\n",
       "        text-align: right;\n",
       "    }\n",
       "\n",
       "    .dataframe thead th {\n",
       "        text-align: left;\n",
       "    }\n",
       "\n",
       "    .dataframe tbody tr th {\n",
       "        vertical-align: top;\n",
       "    }\n",
       "</style>\n",
       "<table border=\"1\" class=\"dataframe\">\n",
       "  <thead>\n",
       "    <tr style=\"text-align: right;\">\n",
       "      <th></th>\n",
       "      <th>StoreID</th>\n",
       "      <th>TransactionID</th>\n",
       "      <th>Line</th>\n",
       "      <th>Sales</th>\n",
       "      <th>Count</th>\n",
       "      <th>Date</th>\n",
       "      <th>SKU</th>\n",
       "      <th>Type</th>\n",
       "    </tr>\n",
       "  </thead>\n",
       "  <tbody>\n",
       "    <tr>\n",
       "      <th>232</th>\n",
       "      <td>A29</td>\n",
       "      <td>11-7270-00008-00386</td>\n",
       "      <td>30</td>\n",
       "      <td>19900.0</td>\n",
       "      <td>1.0</td>\n",
       "      <td>3/11/12 00:00</td>\n",
       "      <td>A22173</td>\n",
       "      <td></td>\n",
       "    </tr>\n",
       "    <tr>\n",
       "      <th>6378</th>\n",
       "      <td>A29</td>\n",
       "      <td>11-7270-00006-00053</td>\n",
       "      <td>1</td>\n",
       "      <td>19900.0</td>\n",
       "      <td>1.0</td>\n",
       "      <td>3/11/12 00:00</td>\n",
       "      <td>A22173</td>\n",
       "      <td></td>\n",
       "    </tr>\n",
       "    <tr>\n",
       "      <th>11728</th>\n",
       "      <td>A29</td>\n",
       "      <td>11-7270-00006-00331</td>\n",
       "      <td>19</td>\n",
       "      <td>19900.0</td>\n",
       "      <td>1.0</td>\n",
       "      <td>3/11/12 00:00</td>\n",
       "      <td>A22173</td>\n",
       "      <td></td>\n",
       "    </tr>\n",
       "  </tbody>\n",
       "</table>\n",
       "</div>"
      ],
      "text/plain": [
       "      StoreID        TransactionID  Line    Sales  Count           Date  \\\n",
       "232       A29  11-7270-00008-00386    30  19900.0    1.0  3/11/12 00:00   \n",
       "6378      A29  11-7270-00006-00053     1  19900.0    1.0  3/11/12 00:00   \n",
       "11728     A29  11-7270-00006-00331    19  19900.0    1.0  3/11/12 00:00   \n",
       "\n",
       "          SKU Type  \n",
       "232    A22173       \n",
       "6378   A22173       \n",
       "11728  A22173       "
      ]
     },
     "execution_count": 132,
     "metadata": {},
     "output_type": "execute_result"
    }
   ],
   "source": [
    "data_type[data_type.SKU=='A22173'].head(3)"
   ]
  },
  {
   "cell_type": "code",
   "execution_count": 161,
   "metadata": {
    "collapsed": false
   },
   "outputs": [
    {
     "data": {
      "text/html": [
       "<div>\n",
       "<style>\n",
       "    .dataframe thead tr:only-child th {\n",
       "        text-align: right;\n",
       "    }\n",
       "\n",
       "    .dataframe thead th {\n",
       "        text-align: left;\n",
       "    }\n",
       "\n",
       "    .dataframe tbody tr th {\n",
       "        vertical-align: top;\n",
       "    }\n",
       "</style>\n",
       "<table border=\"1\" class=\"dataframe\">\n",
       "  <thead>\n",
       "    <tr style=\"text-align: right;\">\n",
       "      <th></th>\n",
       "      <th>SKU</th>\n",
       "      <th>Elasticity</th>\n",
       "    </tr>\n",
       "  </thead>\n",
       "  <tbody>\n",
       "    <tr>\n",
       "      <th>9</th>\n",
       "      <td>A10809</td>\n",
       "      <td>170.873253</td>\n",
       "    </tr>\n",
       "    <tr>\n",
       "      <th>209</th>\n",
       "      <td>A25335</td>\n",
       "      <td>137.281165</td>\n",
       "    </tr>\n",
       "    <tr>\n",
       "      <th>282</th>\n",
       "      <td>A8076</td>\n",
       "      <td>105.097126</td>\n",
       "    </tr>\n",
       "    <tr>\n",
       "      <th>219</th>\n",
       "      <td>A2711</td>\n",
       "      <td>78.205025</td>\n",
       "    </tr>\n",
       "    <tr>\n",
       "      <th>22</th>\n",
       "      <td>A11243</td>\n",
       "      <td>64.816423</td>\n",
       "    </tr>\n",
       "  </tbody>\n",
       "</table>\n",
       "</div>"
      ],
      "text/plain": [
       "        SKU  Elasticity\n",
       "9    A10809  170.873253\n",
       "209  A25335  137.281165\n",
       "282   A8076  105.097126\n",
       "219   A2711   78.205025\n",
       "22   A11243   64.816423"
      ]
     },
     "execution_count": 161,
     "metadata": {},
     "output_type": "execute_result"
    }
   ],
   "source": [
    "#SKUs with elasticity\n",
    "data63.head()"
   ]
  },
  {
   "cell_type": "code",
   "execution_count": 174,
   "metadata": {
    "collapsed": false
   },
   "outputs": [],
   "source": [
    "q='''\n",
    "  select b.*\n",
    "  from data90 a\n",
    "  join data63 b\n",
    "  on a.SKU=b.SKU\n",
    "  '''\n",
    "data91= pysqldf(q)"
   ]
  },
  {
   "cell_type": "code",
   "execution_count": 183,
   "metadata": {
    "collapsed": false
   },
   "outputs": [
    {
     "data": {
      "text/html": [
       "<div>\n",
       "<style>\n",
       "    .dataframe thead tr:only-child th {\n",
       "        text-align: right;\n",
       "    }\n",
       "\n",
       "    .dataframe thead th {\n",
       "        text-align: left;\n",
       "    }\n",
       "\n",
       "    .dataframe tbody tr th {\n",
       "        vertical-align: top;\n",
       "    }\n",
       "</style>\n",
       "<table border=\"1\" class=\"dataframe\">\n",
       "  <thead>\n",
       "    <tr style=\"text-align: right;\">\n",
       "      <th></th>\n",
       "      <th>SKU</th>\n",
       "      <th>Elasticity</th>\n",
       "    </tr>\n",
       "  </thead>\n",
       "  <tbody>\n",
       "    <tr>\n",
       "      <th>0</th>\n",
       "      <td>A7883</td>\n",
       "      <td>38.473403</td>\n",
       "    </tr>\n",
       "    <tr>\n",
       "      <th>1</th>\n",
       "      <td>A8667</td>\n",
       "      <td>7.243721</td>\n",
       "    </tr>\n",
       "    <tr>\n",
       "      <th>2</th>\n",
       "      <td>A22535</td>\n",
       "      <td>5.868180</td>\n",
       "    </tr>\n",
       "  </tbody>\n",
       "</table>\n",
       "</div>"
      ],
      "text/plain": [
       "      SKU  Elasticity\n",
       "0   A7883   38.473403\n",
       "1   A8667    7.243721\n",
       "2  A22535    5.868180"
      ]
     },
     "execution_count": 183,
     "metadata": {},
     "output_type": "execute_result"
    }
   ],
   "source": [
    "data91"
   ]
  },
  {
   "cell_type": "code",
   "execution_count": 192,
   "metadata": {
    "collapsed": true
   },
   "outputs": [],
   "source": [
    "def autolabel(ax):\n",
    "    for rect in ax.patches:\n",
    "        height=rect.get_height()\n",
    "        ax.text(rect.get_x()+rect.get_width()/2, 1.05*height, '{:.2f}'.format(height), ha='center', va='bottom')"
   ]
  },
  {
   "cell_type": "code",
   "execution_count": 196,
   "metadata": {
    "collapsed": false
   },
   "outputs": [
    {
     "data": {
      "image/png": "[encoded data removed]",
      "text/plain": [
       "<matplotlib.figure.Figure at 0x135ded850>"
      ]
     },
     "metadata": {},
     "output_type": "display_data"
    }
   ],
   "source": [
    "import seaborn as sns\n",
    "plt.figure(figsize=(10,6))\n",
    "ax = sns.barplot(x='SKU',y='Elasticity',data=data91)\n",
    "plt.ylabel('Elasticity of Demand')\n",
    "plt.ylim(0,60)\n",
    "plt.title('High-End Products')\n",
    "autolabel(ax)"
   ]
  },
  {
   "cell_type": "markdown",
   "metadata": {},
   "source": [
    "For high-end products, the elasticity of demand ranged from 5.8 to 38.47, which means all of them are elastic."
   ]
  },
  {
   "cell_type": "markdown",
   "metadata": {},
   "source": [
    "<br>"
   ]
  },
  {
   "cell_type": "code",
   "execution_count": 178,
   "metadata": {
    "collapsed": true
   },
   "outputs": [],
   "source": [
    "# Select low end products\n",
    "q='''\n",
    "  select distinct SKU\n",
    "  from data_type\n",
    "  where Count>0 and Sales/Count<1000\n",
    "  '''\n",
    "data92= pysqldf(q)"
   ]
  },
  {
   "cell_type": "code",
   "execution_count": 179,
   "metadata": {
    "collapsed": true
   },
   "outputs": [],
   "source": [
    "q='''\n",
    "  select b.*\n",
    "  from data92 a\n",
    "  join data63 b\n",
    "  on a.SKU=b.SKU\n",
    "  '''\n",
    "data93= pysqldf(q)"
   ]
  },
  {
   "cell_type": "code",
   "execution_count": 185,
   "metadata": {
    "collapsed": false,
    "scrolled": true
   },
   "outputs": [
    {
     "name": "stdout",
     "output_type": "stream",
     "text": [
      "(3, 2)\n",
      "(64, 2)\n"
     ]
    }
   ],
   "source": [
    "print data91.shape #high-end products\n",
    "print data93.shape #low-end products"
   ]
  },
  {
   "cell_type": "code",
   "execution_count": 200,
   "metadata": {
    "collapsed": false
   },
   "outputs": [
    {
     "data": {
      "image/png": "[encoded data removed]",
      "text/plain": [
       "<matplotlib.figure.Figure at 0x13723a090>"
      ]
     },
     "metadata": {},
     "output_type": "display_data"
    }
   ],
   "source": [
    "import seaborn as sns\n",
    "plt.figure(figsize=(10,6))\n",
    "ax = sns.barplot(x='SKU',y='Elasticity',data=data93[:10])\n",
    "plt.ylabel('Elasticity of Demand')\n",
    "plt.ylim(0,200)\n",
    "plt.title('Low-End Products')\n",
    "autolabel(ax)"
   ]
  },
  {
   "cell_type": "code",
   "execution_count": 189,
   "metadata": {
    "collapsed": false
   },
   "outputs": [
    {
     "data": {
      "text/html": [
       "<div>\n",
       "<style>\n",
       "    .dataframe thead tr:only-child th {\n",
       "        text-align: right;\n",
       "    }\n",
       "\n",
       "    .dataframe thead th {\n",
       "        text-align: left;\n",
       "    }\n",
       "\n",
       "    .dataframe tbody tr th {\n",
       "        vertical-align: top;\n",
       "    }\n",
       "</style>\n",
       "<table border=\"1\" class=\"dataframe\">\n",
       "  <thead>\n",
       "    <tr style=\"text-align: right;\">\n",
       "      <th></th>\n",
       "      <th>Elasticity</th>\n",
       "    </tr>\n",
       "  </thead>\n",
       "  <tbody>\n",
       "    <tr>\n",
       "      <th>count</th>\n",
       "      <td>64.000000</td>\n",
       "    </tr>\n",
       "    <tr>\n",
       "      <th>mean</th>\n",
       "      <td>14.667598</td>\n",
       "    </tr>\n",
       "    <tr>\n",
       "      <th>std</th>\n",
       "      <td>28.859059</td>\n",
       "    </tr>\n",
       "    <tr>\n",
       "      <th>min</th>\n",
       "      <td>0.067720</td>\n",
       "    </tr>\n",
       "    <tr>\n",
       "      <th>25%</th>\n",
       "      <td>2.260483</td>\n",
       "    </tr>\n",
       "    <tr>\n",
       "      <th>50%</th>\n",
       "      <td>4.427857</td>\n",
       "    </tr>\n",
       "    <tr>\n",
       "      <th>75%</th>\n",
       "      <td>14.005052</td>\n",
       "    </tr>\n",
       "    <tr>\n",
       "      <th>max</th>\n",
       "      <td>170.873253</td>\n",
       "    </tr>\n",
       "  </tbody>\n",
       "</table>\n",
       "</div>"
      ],
      "text/plain": [
       "       Elasticity\n",
       "count   64.000000\n",
       "mean    14.667598\n",
       "std     28.859059\n",
       "min      0.067720\n",
       "25%      2.260483\n",
       "50%      4.427857\n",
       "75%     14.005052\n",
       "max    170.873253"
      ]
     },
     "execution_count": 189,
     "metadata": {},
     "output_type": "execute_result"
    }
   ],
   "source": [
    "data93.describe()"
   ]
  },
  {
   "cell_type": "markdown",
   "metadata": {},
   "source": [
    "For low-end products, the elasticity of demand ranged from 0.067 to 170.87, which means some products are inelastic and some are elastic."
   ]
  },
  {
   "cell_type": "code",
   "execution_count": null,
   "metadata": {
    "collapsed": true
   },
   "outputs": [],
   "source": []
  }
 ],
 "metadata": {
  "anaconda-cloud": {},
  "kernelspec": {
   "display_name": "Python [conda root]",
   "language": "python",
   "name": "conda-root-py"
  },
  "language_info": {
   "codemirror_mode": {
    "name": "ipython",
    "version": 2
   },
   "file_extension": ".py",
   "mimetype": "text/x-python",
   "name": "python",
   "nbconvert_exporter": "python",
   "pygments_lexer": "ipython2",
   "version": "2.7.13"
  }
 },
 "nbformat": 4,
 "nbformat_minor": 1
}
