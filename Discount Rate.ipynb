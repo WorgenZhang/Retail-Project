{
 "cells": [
  {
   "cell_type": "markdown",
   "metadata": {},
   "source": [
    "#### Given that we calculate discounts on a per transaction and per sku basis, all we need to do is to sum up the sales and discounts to calculate the discount rate. \n",
    "\n",
    "#### Since the total sales per SKU per transaction can not be negative. With that in mind, we can just filter out these rows, and the rest, just keep them there as we have no reference as to whether a steep discount rate such as 85% is valid. For now, let's assume they are.\n"
   ]
  },
  {
   "cell_type": "code",
   "execution_count": 240,
   "metadata": {
    "collapsed": true
   },
   "outputs": [],
   "source": [
    "import pandas as pd\n",
    "data_type = pd.read_csv('data_type.csv')"
   ]
  },
  {
   "cell_type": "code",
   "execution_count": 215,
   "metadata": {
    "collapsed": true
   },
   "outputs": [],
   "source": [
    "from pandasql import sqldf\n",
    "pysqldf = lambda q: sqldf(q, globals())"
   ]
  },
  {
   "cell_type": "code",
   "execution_count": 221,
   "metadata": {
    "collapsed": false
   },
   "outputs": [],
   "source": [
    "data_type.fillna('',inplace=True)"
   ]
  },
  {
   "cell_type": "code",
   "execution_count": 192,
   "metadata": {
    "collapsed": false
   },
   "outputs": [
    {
     "data": {
      "text/html": [
       "<div>\n",
       "<style>\n",
       "    .dataframe thead tr:only-child th {\n",
       "        text-align: right;\n",
       "    }\n",
       "\n",
       "    .dataframe thead th {\n",
       "        text-align: left;\n",
       "    }\n",
       "\n",
       "    .dataframe tbody tr th {\n",
       "        vertical-align: top;\n",
       "    }\n",
       "</style>\n",
       "<table border=\"1\" class=\"dataframe\">\n",
       "  <thead>\n",
       "    <tr style=\"text-align: right;\">\n",
       "      <th></th>\n",
       "      <th>StoreID</th>\n",
       "      <th>TransactionID</th>\n",
       "      <th>Line</th>\n",
       "      <th>Sales</th>\n",
       "      <th>Count</th>\n",
       "      <th>Date</th>\n",
       "      <th>SKU</th>\n",
       "      <th>Type</th>\n",
       "    </tr>\n",
       "  </thead>\n",
       "  <tbody>\n",
       "    <tr>\n",
       "      <th>0</th>\n",
       "      <td>A29</td>\n",
       "      <td>11-7270-00007-00057</td>\n",
       "      <td>36</td>\n",
       "      <td>850.0</td>\n",
       "      <td>1.0</td>\n",
       "      <td>3/11/12 00:00</td>\n",
       "      <td>A21773</td>\n",
       "      <td></td>\n",
       "    </tr>\n",
       "    <tr>\n",
       "      <th>1</th>\n",
       "      <td>A29</td>\n",
       "      <td>11-7270-00007-00057</td>\n",
       "      <td>39</td>\n",
       "      <td>1500.0</td>\n",
       "      <td>1.0</td>\n",
       "      <td>3/11/12 00:00</td>\n",
       "      <td>A18009</td>\n",
       "      <td></td>\n",
       "    </tr>\n",
       "    <tr>\n",
       "      <th>2</th>\n",
       "      <td>A29</td>\n",
       "      <td>11-7270-00007-00057</td>\n",
       "      <td>40</td>\n",
       "      <td>1500.0</td>\n",
       "      <td>1.0</td>\n",
       "      <td>3/11/12 00:00</td>\n",
       "      <td>A25592</td>\n",
       "      <td></td>\n",
       "    </tr>\n",
       "    <tr>\n",
       "      <th>3</th>\n",
       "      <td>A29</td>\n",
       "      <td>11-7270-00007-00057</td>\n",
       "      <td>41</td>\n",
       "      <td>1600.0</td>\n",
       "      <td>1.0</td>\n",
       "      <td>3/11/12 00:00</td>\n",
       "      <td>A1449</td>\n",
       "      <td></td>\n",
       "    </tr>\n",
       "    <tr>\n",
       "      <th>4</th>\n",
       "      <td>A29</td>\n",
       "      <td>11-7270-00007-00057</td>\n",
       "      <td>42</td>\n",
       "      <td>1600.0</td>\n",
       "      <td>1.0</td>\n",
       "      <td>3/11/12 00:00</td>\n",
       "      <td>A1449</td>\n",
       "      <td></td>\n",
       "    </tr>\n",
       "  </tbody>\n",
       "</table>\n",
       "</div>"
      ],
      "text/plain": [
       "  StoreID        TransactionID  Line   Sales  Count           Date     SKU  \\\n",
       "0     A29  11-7270-00007-00057    36   850.0    1.0  3/11/12 00:00  A21773   \n",
       "1     A29  11-7270-00007-00057    39  1500.0    1.0  3/11/12 00:00  A18009   \n",
       "2     A29  11-7270-00007-00057    40  1500.0    1.0  3/11/12 00:00  A25592   \n",
       "3     A29  11-7270-00007-00057    41  1600.0    1.0  3/11/12 00:00   A1449   \n",
       "4     A29  11-7270-00007-00057    42  1600.0    1.0  3/11/12 00:00   A1449   \n",
       "\n",
       "  Type  \n",
       "0       \n",
       "1       \n",
       "2       \n",
       "3       \n",
       "4       "
      ]
     },
     "execution_count": 192,
     "metadata": {},
     "output_type": "execute_result"
    }
   ],
   "source": [
    "data_type.head()"
   ]
  },
  {
   "cell_type": "code",
   "execution_count": 81,
   "metadata": {
    "collapsed": false
   },
   "outputs": [
    {
     "data": {
      "text/html": [
       "<div>\n",
       "<style>\n",
       "    .dataframe thead tr:only-child th {\n",
       "        text-align: right;\n",
       "    }\n",
       "\n",
       "    .dataframe thead th {\n",
       "        text-align: left;\n",
       "    }\n",
       "\n",
       "    .dataframe tbody tr th {\n",
       "        vertical-align: top;\n",
       "    }\n",
       "</style>\n",
       "<table border=\"1\" class=\"dataframe\">\n",
       "  <thead>\n",
       "    <tr style=\"text-align: right;\">\n",
       "      <th></th>\n",
       "      <th>StoreID</th>\n",
       "      <th>TransactionID</th>\n",
       "      <th>Line</th>\n",
       "      <th>Sales</th>\n",
       "      <th>Count</th>\n",
       "      <th>Date</th>\n",
       "      <th>SKU</th>\n",
       "      <th>Type</th>\n",
       "    </tr>\n",
       "  </thead>\n",
       "  <tbody>\n",
       "    <tr>\n",
       "      <th>1152</th>\n",
       "      <td>A29</td>\n",
       "      <td>11-7270-00007-00110</td>\n",
       "      <td>26</td>\n",
       "      <td>2195.0</td>\n",
       "      <td>1.0</td>\n",
       "      <td>3/11/12 00:00</td>\n",
       "      <td>A6007</td>\n",
       "      <td></td>\n",
       "    </tr>\n",
       "    <tr>\n",
       "      <th>1153</th>\n",
       "      <td>A29</td>\n",
       "      <td>11-7270-00007-00110</td>\n",
       "      <td>27</td>\n",
       "      <td>-845.0</td>\n",
       "      <td>0.0</td>\n",
       "      <td>3/11/12 00:00</td>\n",
       "      <td>A6007</td>\n",
       "      <td></td>\n",
       "    </tr>\n",
       "    <tr>\n",
       "      <th>1154</th>\n",
       "      <td>A29</td>\n",
       "      <td>11-7270-00007-00110</td>\n",
       "      <td>28</td>\n",
       "      <td>-2195.0</td>\n",
       "      <td>-1.0</td>\n",
       "      <td>3/11/12 00:00</td>\n",
       "      <td>A6007</td>\n",
       "      <td>Regular_Return</td>\n",
       "    </tr>\n",
       "    <tr>\n",
       "      <th>1155</th>\n",
       "      <td>A29</td>\n",
       "      <td>11-7270-00007-00110</td>\n",
       "      <td>29</td>\n",
       "      <td>845.0</td>\n",
       "      <td>0.0</td>\n",
       "      <td>3/11/12 00:00</td>\n",
       "      <td>A6007</td>\n",
       "      <td>CreditBack_RegularReturn</td>\n",
       "    </tr>\n",
       "  </tbody>\n",
       "</table>\n",
       "</div>"
      ],
      "text/plain": [
       "     StoreID        TransactionID  Line   Sales  Count           Date    SKU  \\\n",
       "1152     A29  11-7270-00007-00110    26  2195.0    1.0  3/11/12 00:00  A6007   \n",
       "1153     A29  11-7270-00007-00110    27  -845.0    0.0  3/11/12 00:00  A6007   \n",
       "1154     A29  11-7270-00007-00110    28 -2195.0   -1.0  3/11/12 00:00  A6007   \n",
       "1155     A29  11-7270-00007-00110    29   845.0    0.0  3/11/12 00:00  A6007   \n",
       "\n",
       "                          Type  \n",
       "1152                            \n",
       "1153                            \n",
       "1154            Regular_Return  \n",
       "1155  CreditBack_RegularReturn  "
      ]
     },
     "execution_count": 81,
     "metadata": {},
     "output_type": "execute_result"
    }
   ],
   "source": [
    "data_type[data_type.TransactionID=='11-7270-00007-00110'][-4:]"
   ]
  },
  {
   "cell_type": "code",
   "execution_count": 82,
   "metadata": {
    "collapsed": false
   },
   "outputs": [
    {
     "data": {
      "text/html": [
       "<div>\n",
       "<style>\n",
       "    .dataframe thead tr:only-child th {\n",
       "        text-align: right;\n",
       "    }\n",
       "\n",
       "    .dataframe thead th {\n",
       "        text-align: left;\n",
       "    }\n",
       "\n",
       "    .dataframe tbody tr th {\n",
       "        vertical-align: top;\n",
       "    }\n",
       "</style>\n",
       "<table border=\"1\" class=\"dataframe\">\n",
       "  <thead>\n",
       "    <tr style=\"text-align: right;\">\n",
       "      <th></th>\n",
       "      <th>StoreID</th>\n",
       "      <th>TransactionID</th>\n",
       "      <th>Line</th>\n",
       "      <th>Sales</th>\n",
       "      <th>Count</th>\n",
       "      <th>Date</th>\n",
       "      <th>SKU</th>\n",
       "      <th>Type</th>\n",
       "    </tr>\n",
       "  </thead>\n",
       "  <tbody>\n",
       "    <tr>\n",
       "      <th>482509</th>\n",
       "      <td>A33</td>\n",
       "      <td>12-7081-00015-00118</td>\n",
       "      <td>9</td>\n",
       "      <td>6495.0</td>\n",
       "      <td>1.0</td>\n",
       "      <td>3/12/12 00:00</td>\n",
       "      <td>A5483</td>\n",
       "      <td></td>\n",
       "    </tr>\n",
       "  </tbody>\n",
       "</table>\n",
       "</div>"
      ],
      "text/plain": [
       "       StoreID        TransactionID  Line   Sales  Count           Date  \\\n",
       "482509     A33  12-7081-00015-00118     9  6495.0    1.0  3/12/12 00:00   \n",
       "\n",
       "          SKU Type  \n",
       "482509  A5483       "
      ]
     },
     "execution_count": 82,
     "metadata": {},
     "output_type": "execute_result"
    }
   ],
   "source": [
    "data_type[(data_type.TransactionID=='12-7081-00015-00118')&(data_type.SKU=='A5483')]"
   ]
  },
  {
   "cell_type": "code",
   "execution_count": 85,
   "metadata": {
    "collapsed": false
   },
   "outputs": [],
   "source": [
    "q = '''\n",
    "    select\n",
    "        a.StoreID, a.TransactionID, a.SKU, abs(b.Total_Sales)/a.Total_Sales as Discount_Rate\n",
    "    from\n",
    "    (select StoreID, TransactionID, SKU, sum(Sales) as Total_Sales from data_type where Count!=0\n",
    "    group by TransactionID, SKU) a\n",
    "    join\n",
    "    (select StoreID, TransactionID, SKU, sum(Sales) as Total_Sales from data_type where Count=0 \n",
    "     group by TransactionID, SKU) b\n",
    "    on\n",
    "    a.TransactionID=b.TransactionID and a.SKU=b.SKU\n",
    "    '''\n",
    "DiscountRate = pysqldf(q)"
   ]
  },
  {
   "cell_type": "code",
   "execution_count": 193,
   "metadata": {
    "collapsed": false
   },
   "outputs": [
    {
     "data": {
      "text/html": [
       "<div>\n",
       "<style>\n",
       "    .dataframe thead tr:only-child th {\n",
       "        text-align: right;\n",
       "    }\n",
       "\n",
       "    .dataframe thead th {\n",
       "        text-align: left;\n",
       "    }\n",
       "\n",
       "    .dataframe tbody tr th {\n",
       "        vertical-align: top;\n",
       "    }\n",
       "</style>\n",
       "<table border=\"1\" class=\"dataframe\">\n",
       "  <thead>\n",
       "    <tr style=\"text-align: right;\">\n",
       "      <th></th>\n",
       "      <th>StoreID</th>\n",
       "      <th>TransactionID</th>\n",
       "      <th>SKU</th>\n",
       "      <th>Discount_Rate</th>\n",
       "    </tr>\n",
       "  </thead>\n",
       "  <tbody>\n",
       "    <tr>\n",
       "      <th>0</th>\n",
       "      <td>A60</td>\n",
       "      <td>11-0160-00019-00003</td>\n",
       "      <td>A10809</td>\n",
       "      <td>0.30</td>\n",
       "    </tr>\n",
       "    <tr>\n",
       "      <th>1</th>\n",
       "      <td>A60</td>\n",
       "      <td>11-0160-00019-00007</td>\n",
       "      <td>A10809</td>\n",
       "      <td>0.30</td>\n",
       "    </tr>\n",
       "    <tr>\n",
       "      <th>2</th>\n",
       "      <td>A60</td>\n",
       "      <td>11-0160-00019-00007</td>\n",
       "      <td>A15452</td>\n",
       "      <td>0.75</td>\n",
       "    </tr>\n",
       "    <tr>\n",
       "      <th>3</th>\n",
       "      <td>A60</td>\n",
       "      <td>11-0160-00019-00008</td>\n",
       "      <td>A10809</td>\n",
       "      <td>0.30</td>\n",
       "    </tr>\n",
       "    <tr>\n",
       "      <th>4</th>\n",
       "      <td>A60</td>\n",
       "      <td>11-0160-00019-00008</td>\n",
       "      <td>A1165</td>\n",
       "      <td>0.70</td>\n",
       "    </tr>\n",
       "  </tbody>\n",
       "</table>\n",
       "</div>"
      ],
      "text/plain": [
       "  StoreID        TransactionID     SKU  Discount_Rate\n",
       "0     A60  11-0160-00019-00003  A10809           0.30\n",
       "1     A60  11-0160-00019-00007  A10809           0.30\n",
       "2     A60  11-0160-00019-00007  A15452           0.75\n",
       "3     A60  11-0160-00019-00008  A10809           0.30\n",
       "4     A60  11-0160-00019-00008   A1165           0.70"
      ]
     },
     "execution_count": 193,
     "metadata": {},
     "output_type": "execute_result"
    }
   ],
   "source": [
    "DiscountRate.head()"
   ]
  },
  {
   "cell_type": "code",
   "execution_count": 252,
   "metadata": {
    "collapsed": false
   },
   "outputs": [
    {
     "data": {
      "text/plain": [
       "3298"
      ]
     },
     "execution_count": 252,
     "metadata": {},
     "output_type": "execute_result"
    }
   ],
   "source": [
    "len(DiscountRate.SKU.unique())"
   ]
  },
  {
   "cell_type": "code",
   "execution_count": 91,
   "metadata": {
    "collapsed": false
   },
   "outputs": [
    {
     "data": {
      "text/html": [
       "<div>\n",
       "<style>\n",
       "    .dataframe thead tr:only-child th {\n",
       "        text-align: right;\n",
       "    }\n",
       "\n",
       "    .dataframe thead th {\n",
       "        text-align: left;\n",
       "    }\n",
       "\n",
       "    .dataframe tbody tr th {\n",
       "        vertical-align: top;\n",
       "    }\n",
       "</style>\n",
       "<table border=\"1\" class=\"dataframe\">\n",
       "  <thead>\n",
       "    <tr style=\"text-align: right;\">\n",
       "      <th></th>\n",
       "      <th>Discount_Rate</th>\n",
       "    </tr>\n",
       "  </thead>\n",
       "  <tbody>\n",
       "    <tr>\n",
       "      <th>count</th>\n",
       "      <td>104259.000000</td>\n",
       "    </tr>\n",
       "    <tr>\n",
       "      <th>mean</th>\n",
       "      <td>2.099115</td>\n",
       "    </tr>\n",
       "    <tr>\n",
       "      <th>std</th>\n",
       "      <td>266.821508</td>\n",
       "    </tr>\n",
       "    <tr>\n",
       "      <th>min</th>\n",
       "      <td>0.000133</td>\n",
       "    </tr>\n",
       "    <tr>\n",
       "      <th>25%</th>\n",
       "      <td>0.168074</td>\n",
       "    </tr>\n",
       "    <tr>\n",
       "      <th>50%</th>\n",
       "      <td>0.275766</td>\n",
       "    </tr>\n",
       "    <tr>\n",
       "      <th>75%</th>\n",
       "      <td>0.350046</td>\n",
       "    </tr>\n",
       "    <tr>\n",
       "      <th>max</th>\n",
       "      <td>44469.149528</td>\n",
       "    </tr>\n",
       "  </tbody>\n",
       "</table>\n",
       "</div>"
      ],
      "text/plain": [
       "       Discount_Rate\n",
       "count  104259.000000\n",
       "mean        2.099115\n",
       "std       266.821508\n",
       "min         0.000133\n",
       "25%         0.168074\n",
       "50%         0.275766\n",
       "75%         0.350046\n",
       "max     44469.149528"
      ]
     },
     "execution_count": 91,
     "metadata": {},
     "output_type": "execute_result"
    }
   ],
   "source": [
    "DiscountRate.describe()"
   ]
  },
  {
   "cell_type": "markdown",
   "metadata": {},
   "source": [
    "#### Tukey IQR"
   ]
  },
  {
   "cell_type": "code",
   "execution_count": 92,
   "metadata": {
    "collapsed": true
   },
   "outputs": [],
   "source": [
    "# Check outliers as a reference\n",
    "import numpy as np\n",
    "def find_outliers_tukey(x):\n",
    "    q1 = np.percentile(x,25)\n",
    "    q3 = np.percentile(x,75)\n",
    "    iqr = q3 - q1\n",
    "    floor = q1 - 1.5*iqr\n",
    "    ceiling = q3 + 1.5*iqr\n",
    "    outlier_indices = list(x.index[(x < floor) | (x > ceiling)])\n",
    "    outlier_values = list(x[outlier_indices])\n",
    "    \n",
    "    return outlier_indices, outlier_values"
   ]
  },
  {
   "cell_type": "code",
   "execution_count": 94,
   "metadata": {
    "collapsed": false
   },
   "outputs": [
    {
     "name": "stdout",
     "output_type": "stream",
     "text": [
      "Feature 'Discount_Rate' first and last 10 outliers：[0.62 0.62 0.62 0.62 0.63 0.63 0.63 0.63 0.64 0.64][0.99 1.06 1.12 1.23 1.27 26923.08 38910.51 39393.94 40677.97 44469.15]\n",
      "\n",
      "Number of outliers: 1710\n",
      "\n"
     ]
    }
   ],
   "source": [
    "np.set_printoptions(formatter={'float_kind':lambda x: \"%.2f\" % x})\n",
    "outlier_var = ['Discount_Rate']\n",
    "for x in outlier_var:\n",
    "    tukey_indices, tukey_values = find_outliers_tukey(DiscountRate[x])\n",
    "    a = np.sort(tukey_values)\n",
    "    print \"Feature '{0}' first and last 10 outliers：{1}{2}\\n\".format(x,np.unique(a)[:10],np.unique(a)[-10:])\n",
    "    print \"Number of outliers: {0}\\n\".format(len(tukey_values))"
   ]
  },
  {
   "cell_type": "code",
   "execution_count": 102,
   "metadata": {
    "collapsed": false
   },
   "outputs": [],
   "source": [
    "df = DiscountRate.iloc[tukey_indices]"
   ]
  },
  {
   "cell_type": "code",
   "execution_count": 154,
   "metadata": {
    "collapsed": false
   },
   "outputs": [
    {
     "data": {
      "text/plain": [
       "(26, 4)"
      ]
     },
     "execution_count": 154,
     "metadata": {},
     "output_type": "execute_result"
    }
   ],
   "source": [
    "df[(df.Discount_Rate>=0.85)].shape"
   ]
  },
  {
   "cell_type": "markdown",
   "metadata": {},
   "source": [
    "#### Discount_Rate>1000%"
   ]
  },
  {
   "cell_type": "code",
   "execution_count": 125,
   "metadata": {
    "collapsed": false
   },
   "outputs": [
    {
     "data": {
      "text/html": [
       "<div>\n",
       "<style>\n",
       "    .dataframe thead tr:only-child th {\n",
       "        text-align: right;\n",
       "    }\n",
       "\n",
       "    .dataframe thead th {\n",
       "        text-align: left;\n",
       "    }\n",
       "\n",
       "    .dataframe tbody tr th {\n",
       "        vertical-align: top;\n",
       "    }\n",
       "</style>\n",
       "<table border=\"1\" class=\"dataframe\">\n",
       "  <thead>\n",
       "    <tr style=\"text-align: right;\">\n",
       "      <th></th>\n",
       "      <th>StoreID</th>\n",
       "      <th>TransactionID</th>\n",
       "      <th>SKU</th>\n",
       "      <th>Discount_Rate</th>\n",
       "    </tr>\n",
       "  </thead>\n",
       "  <tbody>\n",
       "    <tr>\n",
       "      <th>4123</th>\n",
       "      <td>A78</td>\n",
       "      <td>11-5634-00008-00182</td>\n",
       "      <td>A23790</td>\n",
       "      <td>44469.149528</td>\n",
       "    </tr>\n",
       "    <tr>\n",
       "      <th>24226</th>\n",
       "      <td>A35</td>\n",
       "      <td>12-2581-00008-00083</td>\n",
       "      <td>A24995</td>\n",
       "      <td>26923.076923</td>\n",
       "    </tr>\n",
       "    <tr>\n",
       "      <th>46350</th>\n",
       "      <td>A78</td>\n",
       "      <td>12-5635-00018-00060</td>\n",
       "      <td>A23790</td>\n",
       "      <td>38910.505837</td>\n",
       "    </tr>\n",
       "    <tr>\n",
       "      <th>60089</th>\n",
       "      <td>A14</td>\n",
       "      <td>12-7016-00009-00039</td>\n",
       "      <td>A14624</td>\n",
       "      <td>40677.966102</td>\n",
       "    </tr>\n",
       "    <tr>\n",
       "      <th>62664</th>\n",
       "      <td>A13</td>\n",
       "      <td>12-7050-00013-00017</td>\n",
       "      <td>A25852</td>\n",
       "      <td>39393.939394</td>\n",
       "    </tr>\n",
       "  </tbody>\n",
       "</table>\n",
       "</div>"
      ],
      "text/plain": [
       "      StoreID        TransactionID     SKU  Discount_Rate\n",
       "4123      A78  11-5634-00008-00182  A23790   44469.149528\n",
       "24226     A35  12-2581-00008-00083  A24995   26923.076923\n",
       "46350     A78  12-5635-00018-00060  A23790   38910.505837\n",
       "60089     A14  12-7016-00009-00039  A14624   40677.966102\n",
       "62664     A13  12-7050-00013-00017  A25852   39393.939394"
      ]
     },
     "execution_count": 125,
     "metadata": {},
     "output_type": "execute_result"
    }
   ],
   "source": [
    "df[df.Discount_Rate>10]"
   ]
  },
  {
   "cell_type": "code",
   "execution_count": 120,
   "metadata": {
    "collapsed": false
   },
   "outputs": [
    {
     "data": {
      "text/html": [
       "<div>\n",
       "<style>\n",
       "    .dataframe thead tr:only-child th {\n",
       "        text-align: right;\n",
       "    }\n",
       "\n",
       "    .dataframe thead th {\n",
       "        text-align: left;\n",
       "    }\n",
       "\n",
       "    .dataframe tbody tr th {\n",
       "        vertical-align: top;\n",
       "    }\n",
       "</style>\n",
       "<table border=\"1\" class=\"dataframe\">\n",
       "  <thead>\n",
       "    <tr style=\"text-align: right;\">\n",
       "      <th></th>\n",
       "      <th>StoreID</th>\n",
       "      <th>TransactionID</th>\n",
       "      <th>Line</th>\n",
       "      <th>Sales</th>\n",
       "      <th>Count</th>\n",
       "      <th>Date</th>\n",
       "      <th>SKU</th>\n",
       "      <th>Type</th>\n",
       "    </tr>\n",
       "  </thead>\n",
       "  <tbody>\n",
       "    <tr>\n",
       "      <th>30407</th>\n",
       "      <td>A78</td>\n",
       "      <td>11-5634-00008-00182</td>\n",
       "      <td>8</td>\n",
       "      <td>1.799</td>\n",
       "      <td>1.0</td>\n",
       "      <td>3/11/12 00:00</td>\n",
       "      <td>A23790</td>\n",
       "      <td></td>\n",
       "    </tr>\n",
       "    <tr>\n",
       "      <th>30408</th>\n",
       "      <td>A78</td>\n",
       "      <td>11-5634-00008-00182</td>\n",
       "      <td>9</td>\n",
       "      <td>-80000.000</td>\n",
       "      <td>0.0</td>\n",
       "      <td>3/11/12 00:00</td>\n",
       "      <td>A23790</td>\n",
       "      <td></td>\n",
       "    </tr>\n",
       "  </tbody>\n",
       "</table>\n",
       "</div>"
      ],
      "text/plain": [
       "      StoreID        TransactionID  Line      Sales  Count           Date  \\\n",
       "30407     A78  11-5634-00008-00182     8      1.799    1.0  3/11/12 00:00   \n",
       "30408     A78  11-5634-00008-00182     9 -80000.000    0.0  3/11/12 00:00   \n",
       "\n",
       "          SKU Type  \n",
       "30407  A23790       \n",
       "30408  A23790       "
      ]
     },
     "execution_count": 120,
     "metadata": {},
     "output_type": "execute_result"
    }
   ],
   "source": [
    "data_type[(data_type.TransactionID=='11-5634-00008-00182')&(data_type.SKU=='A23790')]"
   ]
  },
  {
   "cell_type": "code",
   "execution_count": 126,
   "metadata": {
    "collapsed": false
   },
   "outputs": [
    {
     "data": {
      "text/html": [
       "<div>\n",
       "<style>\n",
       "    .dataframe thead tr:only-child th {\n",
       "        text-align: right;\n",
       "    }\n",
       "\n",
       "    .dataframe thead th {\n",
       "        text-align: left;\n",
       "    }\n",
       "\n",
       "    .dataframe tbody tr th {\n",
       "        vertical-align: top;\n",
       "    }\n",
       "</style>\n",
       "<table border=\"1\" class=\"dataframe\">\n",
       "  <thead>\n",
       "    <tr style=\"text-align: right;\">\n",
       "      <th></th>\n",
       "      <th>StoreID</th>\n",
       "      <th>TransactionID</th>\n",
       "      <th>Line</th>\n",
       "      <th>Sales</th>\n",
       "      <th>Count</th>\n",
       "      <th>Date</th>\n",
       "      <th>SKU</th>\n",
       "      <th>Type</th>\n",
       "    </tr>\n",
       "  </thead>\n",
       "  <tbody>\n",
       "    <tr>\n",
       "      <th>497375</th>\n",
       "      <td>A35</td>\n",
       "      <td>12-2581-00008-00083</td>\n",
       "      <td>3</td>\n",
       "      <td>1.56</td>\n",
       "      <td>24.0</td>\n",
       "      <td>3/12/12 00:00</td>\n",
       "      <td>A24995</td>\n",
       "      <td></td>\n",
       "    </tr>\n",
       "    <tr>\n",
       "      <th>497376</th>\n",
       "      <td>A35</td>\n",
       "      <td>12-2581-00008-00083</td>\n",
       "      <td>4</td>\n",
       "      <td>-42000.00</td>\n",
       "      <td>0.0</td>\n",
       "      <td>3/12/12 00:00</td>\n",
       "      <td>A24995</td>\n",
       "      <td></td>\n",
       "    </tr>\n",
       "  </tbody>\n",
       "</table>\n",
       "</div>"
      ],
      "text/plain": [
       "       StoreID        TransactionID  Line     Sales  Count           Date  \\\n",
       "497375     A35  12-2581-00008-00083     3      1.56   24.0  3/12/12 00:00   \n",
       "497376     A35  12-2581-00008-00083     4 -42000.00    0.0  3/12/12 00:00   \n",
       "\n",
       "           SKU Type  \n",
       "497375  A24995       \n",
       "497376  A24995       "
      ]
     },
     "execution_count": 126,
     "metadata": {},
     "output_type": "execute_result"
    }
   ],
   "source": [
    "data_type[(data_type.TransactionID=='12-2581-00008-00083')&(data_type.SKU=='A24995')]"
   ]
  },
  {
   "cell_type": "markdown",
   "metadata": {},
   "source": [
    "#### 100% <= Discount_Rate <= 1000%\n"
   ]
  },
  {
   "cell_type": "code",
   "execution_count": 135,
   "metadata": {
    "collapsed": false
   },
   "outputs": [
    {
     "data": {
      "text/html": [
       "<div>\n",
       "<style>\n",
       "    .dataframe thead tr:only-child th {\n",
       "        text-align: right;\n",
       "    }\n",
       "\n",
       "    .dataframe thead th {\n",
       "        text-align: left;\n",
       "    }\n",
       "\n",
       "    .dataframe tbody tr th {\n",
       "        vertical-align: top;\n",
       "    }\n",
       "</style>\n",
       "<table border=\"1\" class=\"dataframe\">\n",
       "  <thead>\n",
       "    <tr style=\"text-align: right;\">\n",
       "      <th></th>\n",
       "      <th>StoreID</th>\n",
       "      <th>TransactionID</th>\n",
       "      <th>SKU</th>\n",
       "      <th>Discount_Rate</th>\n",
       "    </tr>\n",
       "  </thead>\n",
       "  <tbody>\n",
       "    <tr>\n",
       "      <th>52374</th>\n",
       "      <td>A72</td>\n",
       "      <td>12-6643-00005-00370</td>\n",
       "      <td>A12887</td>\n",
       "      <td>1.265442</td>\n",
       "    </tr>\n",
       "    <tr>\n",
       "      <th>55653</th>\n",
       "      <td>A26</td>\n",
       "      <td>12-6861-00012-00649</td>\n",
       "      <td>A21659</td>\n",
       "      <td>1.230473</td>\n",
       "    </tr>\n",
       "    <tr>\n",
       "      <th>58895</th>\n",
       "      <td>A14</td>\n",
       "      <td>12-7016-00001-00350</td>\n",
       "      <td>A22127</td>\n",
       "      <td>1.061914</td>\n",
       "    </tr>\n",
       "    <tr>\n",
       "      <th>66083</th>\n",
       "      <td>A27</td>\n",
       "      <td>12-7070-00007-00002</td>\n",
       "      <td>A13772</td>\n",
       "      <td>1.115240</td>\n",
       "    </tr>\n",
       "  </tbody>\n",
       "</table>\n",
       "</div>"
      ],
      "text/plain": [
       "      StoreID        TransactionID     SKU  Discount_Rate\n",
       "52374     A72  12-6643-00005-00370  A12887       1.265442\n",
       "55653     A26  12-6861-00012-00649  A21659       1.230473\n",
       "58895     A14  12-7016-00001-00350  A22127       1.061914\n",
       "66083     A27  12-7070-00007-00002  A13772       1.115240"
      ]
     },
     "execution_count": 135,
     "metadata": {},
     "output_type": "execute_result"
    }
   ],
   "source": [
    "df[(df.Discount_Rate>=1) &(df.Discount_Rate<=10)]"
   ]
  },
  {
   "cell_type": "code",
   "execution_count": 121,
   "metadata": {
    "collapsed": false
   },
   "outputs": [
    {
     "data": {
      "text/html": [
       "<div>\n",
       "<style>\n",
       "    .dataframe thead tr:only-child th {\n",
       "        text-align: right;\n",
       "    }\n",
       "\n",
       "    .dataframe thead th {\n",
       "        text-align: left;\n",
       "    }\n",
       "\n",
       "    .dataframe tbody tr th {\n",
       "        vertical-align: top;\n",
       "    }\n",
       "</style>\n",
       "<table border=\"1\" class=\"dataframe\">\n",
       "  <thead>\n",
       "    <tr style=\"text-align: right;\">\n",
       "      <th></th>\n",
       "      <th>StoreID</th>\n",
       "      <th>TransactionID</th>\n",
       "      <th>Line</th>\n",
       "      <th>Sales</th>\n",
       "      <th>Count</th>\n",
       "      <th>Date</th>\n",
       "      <th>SKU</th>\n",
       "      <th>Type</th>\n",
       "    </tr>\n",
       "  </thead>\n",
       "  <tbody>\n",
       "    <tr>\n",
       "      <th>889800</th>\n",
       "      <td>A72</td>\n",
       "      <td>12-6643-00005-00370</td>\n",
       "      <td>12</td>\n",
       "      <td>2995.0</td>\n",
       "      <td>1.0</td>\n",
       "      <td>3/12/12 00:00</td>\n",
       "      <td>A12887</td>\n",
       "      <td></td>\n",
       "    </tr>\n",
       "    <tr>\n",
       "      <th>889801</th>\n",
       "      <td>A72</td>\n",
       "      <td>12-6643-00005-00370</td>\n",
       "      <td>13</td>\n",
       "      <td>-3790.0</td>\n",
       "      <td>0.0</td>\n",
       "      <td>3/12/12 00:00</td>\n",
       "      <td>A12887</td>\n",
       "      <td></td>\n",
       "    </tr>\n",
       "  </tbody>\n",
       "</table>\n",
       "</div>"
      ],
      "text/plain": [
       "       StoreID        TransactionID  Line   Sales  Count           Date  \\\n",
       "889800     A72  12-6643-00005-00370    12  2995.0    1.0  3/12/12 00:00   \n",
       "889801     A72  12-6643-00005-00370    13 -3790.0    0.0  3/12/12 00:00   \n",
       "\n",
       "           SKU Type  \n",
       "889800  A12887       \n",
       "889801  A12887       "
      ]
     },
     "execution_count": 121,
     "metadata": {},
     "output_type": "execute_result"
    }
   ],
   "source": [
    "#120.6%\n",
    "data_type[(data_type.TransactionID=='12-6643-00005-00370')&(data_type.SKU=='A12887')]"
   ]
  },
  {
   "cell_type": "code",
   "execution_count": 122,
   "metadata": {
    "collapsed": false
   },
   "outputs": [
    {
     "data": {
      "text/html": [
       "<div>\n",
       "<style>\n",
       "    .dataframe thead tr:only-child th {\n",
       "        text-align: right;\n",
       "    }\n",
       "\n",
       "    .dataframe thead th {\n",
       "        text-align: left;\n",
       "    }\n",
       "\n",
       "    .dataframe tbody tr th {\n",
       "        vertical-align: top;\n",
       "    }\n",
       "</style>\n",
       "<table border=\"1\" class=\"dataframe\">\n",
       "  <thead>\n",
       "    <tr style=\"text-align: right;\">\n",
       "      <th></th>\n",
       "      <th>StoreID</th>\n",
       "      <th>TransactionID</th>\n",
       "      <th>Line</th>\n",
       "      <th>Sales</th>\n",
       "      <th>Count</th>\n",
       "      <th>Date</th>\n",
       "      <th>SKU</th>\n",
       "      <th>Type</th>\n",
       "    </tr>\n",
       "  </thead>\n",
       "  <tbody>\n",
       "    <tr>\n",
       "      <th>365123</th>\n",
       "      <td>A26</td>\n",
       "      <td>12-6861-00012-00649</td>\n",
       "      <td>8</td>\n",
       "      <td>12995.0</td>\n",
       "      <td>1.0</td>\n",
       "      <td>3/12/12 00:00</td>\n",
       "      <td>A21659</td>\n",
       "      <td></td>\n",
       "    </tr>\n",
       "    <tr>\n",
       "      <th>365124</th>\n",
       "      <td>A26</td>\n",
       "      <td>12-6861-00012-00649</td>\n",
       "      <td>9</td>\n",
       "      <td>-7995.0</td>\n",
       "      <td>0.0</td>\n",
       "      <td>3/12/12 00:00</td>\n",
       "      <td>A21659</td>\n",
       "      <td></td>\n",
       "    </tr>\n",
       "    <tr>\n",
       "      <th>365126</th>\n",
       "      <td>A26</td>\n",
       "      <td>12-6861-00012-00649</td>\n",
       "      <td>12</td>\n",
       "      <td>-7995.0</td>\n",
       "      <td>0.0</td>\n",
       "      <td>3/12/12 00:00</td>\n",
       "      <td>A21659</td>\n",
       "      <td></td>\n",
       "    </tr>\n",
       "  </tbody>\n",
       "</table>\n",
       "</div>"
      ],
      "text/plain": [
       "       StoreID        TransactionID  Line    Sales  Count           Date  \\\n",
       "365123     A26  12-6861-00012-00649     8  12995.0    1.0  3/12/12 00:00   \n",
       "365124     A26  12-6861-00012-00649     9  -7995.0    0.0  3/12/12 00:00   \n",
       "365126     A26  12-6861-00012-00649    12  -7995.0    0.0  3/12/12 00:00   \n",
       "\n",
       "           SKU Type  \n",
       "365123  A21659       \n",
       "365124  A21659       \n",
       "365126  A21659       "
      ]
     },
     "execution_count": 122,
     "metadata": {},
     "output_type": "execute_result"
    }
   ],
   "source": [
    "#123%\n",
    "data_type[(data_type.TransactionID=='12-6861-00012-00649')&(data_type.SKU=='A21659')]"
   ]
  },
  {
   "cell_type": "markdown",
   "metadata": {},
   "source": [
    "#### 85% < Discount_Rate < 100%\n"
   ]
  },
  {
   "cell_type": "code",
   "execution_count": 136,
   "metadata": {
    "collapsed": false
   },
   "outputs": [
    {
     "data": {
      "text/html": [
       "<div>\n",
       "<style>\n",
       "    .dataframe thead tr:only-child th {\n",
       "        text-align: right;\n",
       "    }\n",
       "\n",
       "    .dataframe thead th {\n",
       "        text-align: left;\n",
       "    }\n",
       "\n",
       "    .dataframe tbody tr th {\n",
       "        vertical-align: top;\n",
       "    }\n",
       "</style>\n",
       "<table border=\"1\" class=\"dataframe\">\n",
       "  <thead>\n",
       "    <tr style=\"text-align: right;\">\n",
       "      <th></th>\n",
       "      <th>StoreID</th>\n",
       "      <th>TransactionID</th>\n",
       "      <th>SKU</th>\n",
       "      <th>Discount_Rate</th>\n",
       "    </tr>\n",
       "  </thead>\n",
       "  <tbody>\n",
       "    <tr>\n",
       "      <th>18977</th>\n",
       "      <td>A51</td>\n",
       "      <td>12-1803-00009-00330</td>\n",
       "      <td>A23876</td>\n",
       "      <td>0.988467</td>\n",
       "    </tr>\n",
       "    <tr>\n",
       "      <th>19021</th>\n",
       "      <td>A51</td>\n",
       "      <td>12-1803-00013-00363</td>\n",
       "      <td>A21325</td>\n",
       "      <td>0.887387</td>\n",
       "    </tr>\n",
       "    <tr>\n",
       "      <th>19022</th>\n",
       "      <td>A51</td>\n",
       "      <td>12-1803-00013-00364</td>\n",
       "      <td>A21325</td>\n",
       "      <td>0.887383</td>\n",
       "    </tr>\n",
       "    <tr>\n",
       "      <th>19023</th>\n",
       "      <td>A51</td>\n",
       "      <td>12-1803-00013-00364</td>\n",
       "      <td>A25771</td>\n",
       "      <td>0.887387</td>\n",
       "    </tr>\n",
       "    <tr>\n",
       "      <th>34681</th>\n",
       "      <td>A65</td>\n",
       "      <td>12-3572-00001-00398</td>\n",
       "      <td>A6483</td>\n",
       "      <td>0.896104</td>\n",
       "    </tr>\n",
       "  </tbody>\n",
       "</table>\n",
       "</div>"
      ],
      "text/plain": [
       "      StoreID        TransactionID     SKU  Discount_Rate\n",
       "18977     A51  12-1803-00009-00330  A23876       0.988467\n",
       "19021     A51  12-1803-00013-00363  A21325       0.887387\n",
       "19022     A51  12-1803-00013-00364  A21325       0.887383\n",
       "19023     A51  12-1803-00013-00364  A25771       0.887387\n",
       "34681     A65  12-3572-00001-00398   A6483       0.896104"
      ]
     },
     "execution_count": 136,
     "metadata": {},
     "output_type": "execute_result"
    }
   ],
   "source": [
    "df[(df.Discount_Rate>0.85) &(df.Discount_Rate<1)].head()"
   ]
  },
  {
   "cell_type": "code",
   "execution_count": 132,
   "metadata": {
    "collapsed": false
   },
   "outputs": [
    {
     "data": {
      "text/plain": [
       "(17, 4)"
      ]
     },
     "execution_count": 132,
     "metadata": {},
     "output_type": "execute_result"
    }
   ],
   "source": [
    "df[(df.Discount_Rate>0.85) &(df.Discount_Rate<1)].shape"
   ]
  },
  {
   "cell_type": "code",
   "execution_count": 138,
   "metadata": {
    "collapsed": false
   },
   "outputs": [
    {
     "data": {
      "text/html": [
       "<div>\n",
       "<style>\n",
       "    .dataframe thead tr:only-child th {\n",
       "        text-align: right;\n",
       "    }\n",
       "\n",
       "    .dataframe thead th {\n",
       "        text-align: left;\n",
       "    }\n",
       "\n",
       "    .dataframe tbody tr th {\n",
       "        vertical-align: top;\n",
       "    }\n",
       "</style>\n",
       "<table border=\"1\" class=\"dataframe\">\n",
       "  <thead>\n",
       "    <tr style=\"text-align: right;\">\n",
       "      <th></th>\n",
       "      <th>StoreID</th>\n",
       "      <th>TransactionID</th>\n",
       "      <th>Line</th>\n",
       "      <th>Sales</th>\n",
       "      <th>Count</th>\n",
       "      <th>Date</th>\n",
       "      <th>SKU</th>\n",
       "      <th>Type</th>\n",
       "    </tr>\n",
       "  </thead>\n",
       "  <tbody>\n",
       "    <tr>\n",
       "      <th>705367</th>\n",
       "      <td>A51</td>\n",
       "      <td>12-1803-00013-00363</td>\n",
       "      <td>1</td>\n",
       "      <td>1.332</td>\n",
       "      <td>72.0</td>\n",
       "      <td>3/12/12 00:00</td>\n",
       "      <td>A21325</td>\n",
       "      <td></td>\n",
       "    </tr>\n",
       "    <tr>\n",
       "      <th>705368</th>\n",
       "      <td>A51</td>\n",
       "      <td>12-1803-00013-00363</td>\n",
       "      <td>2</td>\n",
       "      <td>-1.182</td>\n",
       "      <td>0.0</td>\n",
       "      <td>3/12/12 00:00</td>\n",
       "      <td>A21325</td>\n",
       "      <td></td>\n",
       "    </tr>\n",
       "  </tbody>\n",
       "</table>\n",
       "</div>"
      ],
      "text/plain": [
       "       StoreID        TransactionID  Line  Sales  Count           Date  \\\n",
       "705367     A51  12-1803-00013-00363     1  1.332   72.0  3/12/12 00:00   \n",
       "705368     A51  12-1803-00013-00363     2 -1.182    0.0  3/12/12 00:00   \n",
       "\n",
       "           SKU Type  \n",
       "705367  A21325       \n",
       "705368  A21325       "
      ]
     },
     "execution_count": 138,
     "metadata": {},
     "output_type": "execute_result"
    }
   ],
   "source": [
    "#88.7%\n",
    "data_type[(data_type.TransactionID=='12-1803-00013-00363')&(data_type.SKU=='A21325')]"
   ]
  },
  {
   "cell_type": "code",
   "execution_count": 140,
   "metadata": {
    "collapsed": false
   },
   "outputs": [
    {
     "data": {
      "text/html": [
       "<div>\n",
       "<style>\n",
       "    .dataframe thead tr:only-child th {\n",
       "        text-align: right;\n",
       "    }\n",
       "\n",
       "    .dataframe thead th {\n",
       "        text-align: left;\n",
       "    }\n",
       "\n",
       "    .dataframe tbody tr th {\n",
       "        vertical-align: top;\n",
       "    }\n",
       "</style>\n",
       "<table border=\"1\" class=\"dataframe\">\n",
       "  <thead>\n",
       "    <tr style=\"text-align: right;\">\n",
       "      <th></th>\n",
       "      <th>StoreID</th>\n",
       "      <th>TransactionID</th>\n",
       "      <th>Line</th>\n",
       "      <th>Sales</th>\n",
       "      <th>Count</th>\n",
       "      <th>Date</th>\n",
       "      <th>SKU</th>\n",
       "      <th>Type</th>\n",
       "    </tr>\n",
       "  </thead>\n",
       "  <tbody>\n",
       "    <tr>\n",
       "      <th>705373</th>\n",
       "      <td>A51</td>\n",
       "      <td>12-1803-00013-00364</td>\n",
       "      <td>7</td>\n",
       "      <td>44400.0</td>\n",
       "      <td>24.0</td>\n",
       "      <td>3/12/12 00:00</td>\n",
       "      <td>A25771</td>\n",
       "      <td></td>\n",
       "    </tr>\n",
       "    <tr>\n",
       "      <th>705374</th>\n",
       "      <td>A51</td>\n",
       "      <td>12-1803-00013-00364</td>\n",
       "      <td>8</td>\n",
       "      <td>-39400.0</td>\n",
       "      <td>0.0</td>\n",
       "      <td>3/12/12 00:00</td>\n",
       "      <td>A25771</td>\n",
       "      <td></td>\n",
       "    </tr>\n",
       "  </tbody>\n",
       "</table>\n",
       "</div>"
      ],
      "text/plain": [
       "       StoreID        TransactionID  Line    Sales  Count           Date  \\\n",
       "705373     A51  12-1803-00013-00364     7  44400.0   24.0  3/12/12 00:00   \n",
       "705374     A51  12-1803-00013-00364     8 -39400.0    0.0  3/12/12 00:00   \n",
       "\n",
       "           SKU Type  \n",
       "705373  A25771       \n",
       "705374  A25771       "
      ]
     },
     "execution_count": 140,
     "metadata": {},
     "output_type": "execute_result"
    }
   ],
   "source": [
    "#88.7%\n",
    "data_type[(data_type.TransactionID=='12-1803-00013-00364')&(data_type.SKU=='A25771')]"
   ]
  },
  {
   "cell_type": "code",
   "execution_count": 139,
   "metadata": {
    "collapsed": false
   },
   "outputs": [
    {
     "data": {
      "text/html": [
       "<div>\n",
       "<style>\n",
       "    .dataframe thead tr:only-child th {\n",
       "        text-align: right;\n",
       "    }\n",
       "\n",
       "    .dataframe thead th {\n",
       "        text-align: left;\n",
       "    }\n",
       "\n",
       "    .dataframe tbody tr th {\n",
       "        vertical-align: top;\n",
       "    }\n",
       "</style>\n",
       "<table border=\"1\" class=\"dataframe\">\n",
       "  <thead>\n",
       "    <tr style=\"text-align: right;\">\n",
       "      <th></th>\n",
       "      <th>StoreID</th>\n",
       "      <th>TransactionID</th>\n",
       "      <th>Line</th>\n",
       "      <th>Sales</th>\n",
       "      <th>Count</th>\n",
       "      <th>Date</th>\n",
       "      <th>SKU</th>\n",
       "      <th>Type</th>\n",
       "    </tr>\n",
       "  </thead>\n",
       "  <tbody>\n",
       "    <tr>\n",
       "      <th>705369</th>\n",
       "      <td>A51</td>\n",
       "      <td>12-1803-00013-00364</td>\n",
       "      <td>1</td>\n",
       "      <td>1.29500</td>\n",
       "      <td>70.0</td>\n",
       "      <td>3/12/12 00:00</td>\n",
       "      <td>A21325</td>\n",
       "      <td></td>\n",
       "    </tr>\n",
       "    <tr>\n",
       "      <th>705370</th>\n",
       "      <td>A51</td>\n",
       "      <td>12-1803-00013-00364</td>\n",
       "      <td>2</td>\n",
       "      <td>-1.14917</td>\n",
       "      <td>0.0</td>\n",
       "      <td>3/12/12 00:00</td>\n",
       "      <td>A21325</td>\n",
       "      <td></td>\n",
       "    </tr>\n",
       "    <tr>\n",
       "      <th>705371</th>\n",
       "      <td>A51</td>\n",
       "      <td>12-1803-00013-00364</td>\n",
       "      <td>4</td>\n",
       "      <td>81400.00000</td>\n",
       "      <td>44.0</td>\n",
       "      <td>3/12/12 00:00</td>\n",
       "      <td>A21325</td>\n",
       "      <td></td>\n",
       "    </tr>\n",
       "    <tr>\n",
       "      <th>705372</th>\n",
       "      <td>A51</td>\n",
       "      <td>12-1803-00013-00364</td>\n",
       "      <td>5</td>\n",
       "      <td>-72233.00000</td>\n",
       "      <td>0.0</td>\n",
       "      <td>3/12/12 00:00</td>\n",
       "      <td>A21325</td>\n",
       "      <td></td>\n",
       "    </tr>\n",
       "  </tbody>\n",
       "</table>\n",
       "</div>"
      ],
      "text/plain": [
       "       StoreID        TransactionID  Line        Sales  Count           Date  \\\n",
       "705369     A51  12-1803-00013-00364     1      1.29500   70.0  3/12/12 00:00   \n",
       "705370     A51  12-1803-00013-00364     2     -1.14917    0.0  3/12/12 00:00   \n",
       "705371     A51  12-1803-00013-00364     4  81400.00000   44.0  3/12/12 00:00   \n",
       "705372     A51  12-1803-00013-00364     5 -72233.00000    0.0  3/12/12 00:00   \n",
       "\n",
       "           SKU Type  \n",
       "705369  A21325       \n",
       "705370  A21325       \n",
       "705371  A21325       \n",
       "705372  A21325       "
      ]
     },
     "execution_count": 139,
     "metadata": {},
     "output_type": "execute_result"
    }
   ],
   "source": [
    "#88.7%\n",
    "data_type[(data_type.TransactionID=='12-1803-00013-00364')&(data_type.SKU=='A21325')]"
   ]
  },
  {
   "cell_type": "code",
   "execution_count": 142,
   "metadata": {
    "collapsed": false
   },
   "outputs": [
    {
     "data": {
      "text/html": [
       "<div>\n",
       "<style>\n",
       "    .dataframe thead tr:only-child th {\n",
       "        text-align: right;\n",
       "    }\n",
       "\n",
       "    .dataframe thead th {\n",
       "        text-align: left;\n",
       "    }\n",
       "\n",
       "    .dataframe tbody tr th {\n",
       "        vertical-align: top;\n",
       "    }\n",
       "</style>\n",
       "<table border=\"1\" class=\"dataframe\">\n",
       "  <thead>\n",
       "    <tr style=\"text-align: right;\">\n",
       "      <th></th>\n",
       "      <th>StoreID</th>\n",
       "      <th>TransactionID</th>\n",
       "      <th>Line</th>\n",
       "      <th>Sales</th>\n",
       "      <th>Count</th>\n",
       "      <th>Date</th>\n",
       "      <th>SKU</th>\n",
       "      <th>Type</th>\n",
       "    </tr>\n",
       "  </thead>\n",
       "  <tbody>\n",
       "    <tr>\n",
       "      <th>815391</th>\n",
       "      <td>A65</td>\n",
       "      <td>12-3572-00001-00398</td>\n",
       "      <td>4</td>\n",
       "      <td>1925.0</td>\n",
       "      <td>1.0</td>\n",
       "      <td>3/12/12 00:00</td>\n",
       "      <td>A6483</td>\n",
       "      <td></td>\n",
       "    </tr>\n",
       "    <tr>\n",
       "      <th>815392</th>\n",
       "      <td>A65</td>\n",
       "      <td>12-3572-00001-00398</td>\n",
       "      <td>5</td>\n",
       "      <td>-1725.0</td>\n",
       "      <td>0.0</td>\n",
       "      <td>3/12/12 00:00</td>\n",
       "      <td>A6483</td>\n",
       "      <td></td>\n",
       "    </tr>\n",
       "    <tr>\n",
       "      <th>815393</th>\n",
       "      <td>A65</td>\n",
       "      <td>12-3572-00001-00398</td>\n",
       "      <td>6</td>\n",
       "      <td>1925.0</td>\n",
       "      <td>1.0</td>\n",
       "      <td>3/12/12 00:00</td>\n",
       "      <td>A6483</td>\n",
       "      <td></td>\n",
       "    </tr>\n",
       "    <tr>\n",
       "      <th>815394</th>\n",
       "      <td>A65</td>\n",
       "      <td>12-3572-00001-00398</td>\n",
       "      <td>7</td>\n",
       "      <td>-1725.0</td>\n",
       "      <td>0.0</td>\n",
       "      <td>3/12/12 00:00</td>\n",
       "      <td>A6483</td>\n",
       "      <td></td>\n",
       "    </tr>\n",
       "  </tbody>\n",
       "</table>\n",
       "</div>"
      ],
      "text/plain": [
       "       StoreID        TransactionID  Line   Sales  Count           Date  \\\n",
       "815391     A65  12-3572-00001-00398     4  1925.0    1.0  3/12/12 00:00   \n",
       "815392     A65  12-3572-00001-00398     5 -1725.0    0.0  3/12/12 00:00   \n",
       "815393     A65  12-3572-00001-00398     6  1925.0    1.0  3/12/12 00:00   \n",
       "815394     A65  12-3572-00001-00398     7 -1725.0    0.0  3/12/12 00:00   \n",
       "\n",
       "          SKU Type  \n",
       "815391  A6483       \n",
       "815392  A6483       \n",
       "815393  A6483       \n",
       "815394  A6483       "
      ]
     },
     "execution_count": 142,
     "metadata": {},
     "output_type": "execute_result"
    }
   ],
   "source": [
    "#89.6%\n",
    "data_type[(data_type.TransactionID=='12-3572-00001-00398')&(data_type.SKU=='A6483')][:4]"
   ]
  },
  {
   "cell_type": "markdown",
   "metadata": {},
   "source": [
    "#### On a per transaction, per SKU basis, drop those rows where discount rate is >100% (Or total sales is negative)"
   ]
  },
  {
   "cell_type": "code",
   "execution_count": 170,
   "metadata": {
    "collapsed": true
   },
   "outputs": [],
   "source": [
    "df1 = df[(df.Discount_Rate>1)]"
   ]
  },
  {
   "cell_type": "code",
   "execution_count": 171,
   "metadata": {
    "collapsed": false
   },
   "outputs": [
    {
     "data": {
      "text/plain": [
       "(9, 4)"
      ]
     },
     "execution_count": 171,
     "metadata": {},
     "output_type": "execute_result"
    }
   ],
   "source": [
    "df1.shape"
   ]
  },
  {
   "cell_type": "code",
   "execution_count": 172,
   "metadata": {
    "collapsed": false
   },
   "outputs": [
    {
     "data": {
      "text/html": [
       "<div>\n",
       "<style>\n",
       "    .dataframe thead tr:only-child th {\n",
       "        text-align: right;\n",
       "    }\n",
       "\n",
       "    .dataframe thead th {\n",
       "        text-align: left;\n",
       "    }\n",
       "\n",
       "    .dataframe tbody tr th {\n",
       "        vertical-align: top;\n",
       "    }\n",
       "</style>\n",
       "<table border=\"1\" class=\"dataframe\">\n",
       "  <thead>\n",
       "    <tr style=\"text-align: right;\">\n",
       "      <th></th>\n",
       "      <th>StoreID</th>\n",
       "      <th>TransactionID</th>\n",
       "      <th>SKU</th>\n",
       "      <th>Discount_Rate</th>\n",
       "    </tr>\n",
       "  </thead>\n",
       "  <tbody>\n",
       "    <tr>\n",
       "      <th>4123</th>\n",
       "      <td>A78</td>\n",
       "      <td>11-5634-00008-00182</td>\n",
       "      <td>A23790</td>\n",
       "      <td>44469.149528</td>\n",
       "    </tr>\n",
       "    <tr>\n",
       "      <th>24226</th>\n",
       "      <td>A35</td>\n",
       "      <td>12-2581-00008-00083</td>\n",
       "      <td>A24995</td>\n",
       "      <td>26923.076923</td>\n",
       "    </tr>\n",
       "    <tr>\n",
       "      <th>46350</th>\n",
       "      <td>A78</td>\n",
       "      <td>12-5635-00018-00060</td>\n",
       "      <td>A23790</td>\n",
       "      <td>38910.505837</td>\n",
       "    </tr>\n",
       "    <tr>\n",
       "      <th>52374</th>\n",
       "      <td>A72</td>\n",
       "      <td>12-6643-00005-00370</td>\n",
       "      <td>A12887</td>\n",
       "      <td>1.265442</td>\n",
       "    </tr>\n",
       "    <tr>\n",
       "      <th>55653</th>\n",
       "      <td>A26</td>\n",
       "      <td>12-6861-00012-00649</td>\n",
       "      <td>A21659</td>\n",
       "      <td>1.230473</td>\n",
       "    </tr>\n",
       "    <tr>\n",
       "      <th>58895</th>\n",
       "      <td>A14</td>\n",
       "      <td>12-7016-00001-00350</td>\n",
       "      <td>A22127</td>\n",
       "      <td>1.061914</td>\n",
       "    </tr>\n",
       "    <tr>\n",
       "      <th>60089</th>\n",
       "      <td>A14</td>\n",
       "      <td>12-7016-00009-00039</td>\n",
       "      <td>A14624</td>\n",
       "      <td>40677.966102</td>\n",
       "    </tr>\n",
       "    <tr>\n",
       "      <th>62664</th>\n",
       "      <td>A13</td>\n",
       "      <td>12-7050-00013-00017</td>\n",
       "      <td>A25852</td>\n",
       "      <td>39393.939394</td>\n",
       "    </tr>\n",
       "    <tr>\n",
       "      <th>66083</th>\n",
       "      <td>A27</td>\n",
       "      <td>12-7070-00007-00002</td>\n",
       "      <td>A13772</td>\n",
       "      <td>1.115240</td>\n",
       "    </tr>\n",
       "  </tbody>\n",
       "</table>\n",
       "</div>"
      ],
      "text/plain": [
       "      StoreID        TransactionID     SKU  Discount_Rate\n",
       "4123      A78  11-5634-00008-00182  A23790   44469.149528\n",
       "24226     A35  12-2581-00008-00083  A24995   26923.076923\n",
       "46350     A78  12-5635-00018-00060  A23790   38910.505837\n",
       "52374     A72  12-6643-00005-00370  A12887       1.265442\n",
       "55653     A26  12-6861-00012-00649  A21659       1.230473\n",
       "58895     A14  12-7016-00001-00350  A22127       1.061914\n",
       "60089     A14  12-7016-00009-00039  A14624   40677.966102\n",
       "62664     A13  12-7050-00013-00017  A25852   39393.939394\n",
       "66083     A27  12-7070-00007-00002  A13772       1.115240"
      ]
     },
     "execution_count": 172,
     "metadata": {},
     "output_type": "execute_result"
    }
   ],
   "source": [
    "df1"
   ]
  },
  {
   "cell_type": "code",
   "execution_count": 241,
   "metadata": {
    "collapsed": true
   },
   "outputs": [],
   "source": [
    "q = '''\n",
    "    select a.*\n",
    "    from data_type a\n",
    "    left join df1 b\n",
    "    on a.TransactionID=b.TransactionID and a.SKU=b.SKU\n",
    "    where b.TransactionID is null\n",
    "    '''\n",
    "data_type = pysqldf(q)"
   ]
  },
  {
   "cell_type": "code",
   "execution_count": 242,
   "metadata": {
    "collapsed": false
   },
   "outputs": [
    {
     "data": {
      "text/plain": [
       "(1041677, 8)"
      ]
     },
     "execution_count": 242,
     "metadata": {},
     "output_type": "execute_result"
    }
   ],
   "source": [
    "data_type.shape"
   ]
  },
  {
   "cell_type": "markdown",
   "metadata": {},
   "source": [
    "<br>"
   ]
  },
  {
   "cell_type": "markdown",
   "metadata": {},
   "source": [
    "#### Drop rows where total sales<0 on a per transaction, per SKU basis"
   ]
  },
  {
   "cell_type": "code",
   "execution_count": 243,
   "metadata": {
    "collapsed": true
   },
   "outputs": [],
   "source": [
    "df2 = data_type.groupby(['TransactionID','SKU']).sum()"
   ]
  },
  {
   "cell_type": "code",
   "execution_count": 244,
   "metadata": {
    "collapsed": true
   },
   "outputs": [],
   "source": [
    "df3 = df2[df2.Sales<0]"
   ]
  },
  {
   "cell_type": "code",
   "execution_count": 245,
   "metadata": {
    "collapsed": false
   },
   "outputs": [
    {
     "data": {
      "text/html": [
       "<div>\n",
       "<style>\n",
       "    .dataframe thead tr:only-child th {\n",
       "        text-align: right;\n",
       "    }\n",
       "\n",
       "    .dataframe thead th {\n",
       "        text-align: left;\n",
       "    }\n",
       "\n",
       "    .dataframe tbody tr th {\n",
       "        vertical-align: top;\n",
       "    }\n",
       "</style>\n",
       "<table border=\"1\" class=\"dataframe\">\n",
       "  <thead>\n",
       "    <tr style=\"text-align: right;\">\n",
       "      <th></th>\n",
       "      <th></th>\n",
       "      <th>Line</th>\n",
       "      <th>Sales</th>\n",
       "      <th>Count</th>\n",
       "    </tr>\n",
       "    <tr>\n",
       "      <th>TransactionID</th>\n",
       "      <th>SKU</th>\n",
       "      <th></th>\n",
       "      <th></th>\n",
       "      <th></th>\n",
       "    </tr>\n",
       "  </thead>\n",
       "  <tbody>\n",
       "    <tr>\n",
       "      <th>11-7270-00008-00100</th>\n",
       "      <th>A17972</th>\n",
       "      <td>164</td>\n",
       "      <td>-1992.0</td>\n",
       "      <td>1.0</td>\n",
       "    </tr>\n",
       "    <tr>\n",
       "      <th>12-0033-00008-00220</th>\n",
       "      <th>A12434</th>\n",
       "      <td>31</td>\n",
       "      <td>-600.0</td>\n",
       "      <td>0.0</td>\n",
       "    </tr>\n",
       "    <tr>\n",
       "      <th>12-0033-00012-00071</th>\n",
       "      <th>A2341</th>\n",
       "      <td>21</td>\n",
       "      <td>-100.0</td>\n",
       "      <td>1.0</td>\n",
       "    </tr>\n",
       "    <tr>\n",
       "      <th>12-0630-00020-00361</th>\n",
       "      <th>A25914</th>\n",
       "      <td>6</td>\n",
       "      <td>-10000.0</td>\n",
       "      <td>-1.0</td>\n",
       "    </tr>\n",
       "    <tr>\n",
       "      <th>12-1755-00003-00078</th>\n",
       "      <th>A2684</th>\n",
       "      <td>34</td>\n",
       "      <td>-8995.0</td>\n",
       "      <td>0.0</td>\n",
       "    </tr>\n",
       "  </tbody>\n",
       "</table>\n",
       "</div>"
      ],
      "text/plain": [
       "                            Line    Sales  Count\n",
       "TransactionID       SKU                         \n",
       "11-7270-00008-00100 A17972   164  -1992.0    1.0\n",
       "12-0033-00008-00220 A12434    31   -600.0    0.0\n",
       "12-0033-00012-00071 A2341     21   -100.0    1.0\n",
       "12-0630-00020-00361 A25914     6 -10000.0   -1.0\n",
       "12-1755-00003-00078 A2684     34  -8995.0    0.0"
      ]
     },
     "execution_count": 245,
     "metadata": {},
     "output_type": "execute_result"
    }
   ],
   "source": [
    "df3.head()"
   ]
  },
  {
   "cell_type": "code",
   "execution_count": 246,
   "metadata": {
    "collapsed": false
   },
   "outputs": [
    {
     "data": {
      "text/plain": [
       "(19, 3)"
      ]
     },
     "execution_count": 246,
     "metadata": {},
     "output_type": "execute_result"
    }
   ],
   "source": [
    "df3.shape"
   ]
  },
  {
   "cell_type": "code",
   "execution_count": 247,
   "metadata": {
    "collapsed": false
   },
   "outputs": [
    {
     "data": {
      "text/html": [
       "<div>\n",
       "<style>\n",
       "    .dataframe thead tr:only-child th {\n",
       "        text-align: right;\n",
       "    }\n",
       "\n",
       "    .dataframe thead th {\n",
       "        text-align: left;\n",
       "    }\n",
       "\n",
       "    .dataframe tbody tr th {\n",
       "        vertical-align: top;\n",
       "    }\n",
       "</style>\n",
       "<table border=\"1\" class=\"dataframe\">\n",
       "  <thead>\n",
       "    <tr style=\"text-align: right;\">\n",
       "      <th></th>\n",
       "      <th>StoreID</th>\n",
       "      <th>TransactionID</th>\n",
       "      <th>Line</th>\n",
       "      <th>Sales</th>\n",
       "      <th>Count</th>\n",
       "      <th>Date</th>\n",
       "      <th>SKU</th>\n",
       "      <th>Type</th>\n",
       "    </tr>\n",
       "  </thead>\n",
       "  <tbody>\n",
       "    <tr>\n",
       "      <th>730466</th>\n",
       "      <td>A53</td>\n",
       "      <td>12-1755-00003-00078</td>\n",
       "      <td>5</td>\n",
       "      <td>9995.0</td>\n",
       "      <td>1.0</td>\n",
       "      <td>3/12/12 00:00</td>\n",
       "      <td>A2684</td>\n",
       "      <td>None</td>\n",
       "    </tr>\n",
       "    <tr>\n",
       "      <th>730467</th>\n",
       "      <td>A53</td>\n",
       "      <td>12-1755-00003-00078</td>\n",
       "      <td>6</td>\n",
       "      <td>-9995.0</td>\n",
       "      <td>-1.0</td>\n",
       "      <td>3/12/12 00:00</td>\n",
       "      <td>A2684</td>\n",
       "      <td>Regular_Return</td>\n",
       "    </tr>\n",
       "    <tr>\n",
       "      <th>730471</th>\n",
       "      <td>A53</td>\n",
       "      <td>12-1755-00003-00078</td>\n",
       "      <td>11</td>\n",
       "      <td>-9995.0</td>\n",
       "      <td>-1.0</td>\n",
       "      <td>3/12/12 00:00</td>\n",
       "      <td>A2684</td>\n",
       "      <td>Regular_Return</td>\n",
       "    </tr>\n",
       "    <tr>\n",
       "      <th>730472</th>\n",
       "      <td>A53</td>\n",
       "      <td>12-1755-00003-00078</td>\n",
       "      <td>12</td>\n",
       "      <td>1000.0</td>\n",
       "      <td>1.0</td>\n",
       "      <td>3/12/12 00:00</td>\n",
       "      <td>A2684</td>\n",
       "      <td>None</td>\n",
       "    </tr>\n",
       "  </tbody>\n",
       "</table>\n",
       "</div>"
      ],
      "text/plain": [
       "       StoreID        TransactionID  Line   Sales  Count           Date  \\\n",
       "730466     A53  12-1755-00003-00078     5  9995.0    1.0  3/12/12 00:00   \n",
       "730467     A53  12-1755-00003-00078     6 -9995.0   -1.0  3/12/12 00:00   \n",
       "730471     A53  12-1755-00003-00078    11 -9995.0   -1.0  3/12/12 00:00   \n",
       "730472     A53  12-1755-00003-00078    12  1000.0    1.0  3/12/12 00:00   \n",
       "\n",
       "          SKU            Type  \n",
       "730466  A2684            None  \n",
       "730467  A2684  Regular_Return  \n",
       "730471  A2684  Regular_Return  \n",
       "730472  A2684            None  "
      ]
     },
     "execution_count": 247,
     "metadata": {},
     "output_type": "execute_result"
    }
   ],
   "source": [
    "#Number of returns is larger than number of sales on a per transaction and per SKU basis\n",
    "data_type[(data_type.TransactionID=='12-1755-00003-00078')&(data_type.SKU=='A2684')]"
   ]
  },
  {
   "cell_type": "code",
   "execution_count": 248,
   "metadata": {
    "collapsed": false
   },
   "outputs": [
    {
     "data": {
      "text/html": [
       "<div>\n",
       "<style>\n",
       "    .dataframe thead tr:only-child th {\n",
       "        text-align: right;\n",
       "    }\n",
       "\n",
       "    .dataframe thead th {\n",
       "        text-align: left;\n",
       "    }\n",
       "\n",
       "    .dataframe tbody tr th {\n",
       "        vertical-align: top;\n",
       "    }\n",
       "</style>\n",
       "<table border=\"1\" class=\"dataframe\">\n",
       "  <thead>\n",
       "    <tr style=\"text-align: right;\">\n",
       "      <th></th>\n",
       "      <th>StoreID</th>\n",
       "      <th>TransactionID</th>\n",
       "      <th>Line</th>\n",
       "      <th>Sales</th>\n",
       "      <th>Count</th>\n",
       "      <th>Date</th>\n",
       "      <th>SKU</th>\n",
       "      <th>Type</th>\n",
       "    </tr>\n",
       "  </thead>\n",
       "  <tbody>\n",
       "    <tr>\n",
       "      <th>499732</th>\n",
       "      <td>A35</td>\n",
       "      <td>12-2581-00009-00066</td>\n",
       "      <td>12</td>\n",
       "      <td>3295.0</td>\n",
       "      <td>1.0</td>\n",
       "      <td>3/12/12 00:00</td>\n",
       "      <td>A21452</td>\n",
       "      <td>None</td>\n",
       "    </tr>\n",
       "    <tr>\n",
       "      <th>499738</th>\n",
       "      <td>A35</td>\n",
       "      <td>12-2581-00009-00066</td>\n",
       "      <td>21</td>\n",
       "      <td>-3295.0</td>\n",
       "      <td>-1.0</td>\n",
       "      <td>3/12/12 00:00</td>\n",
       "      <td>A21452</td>\n",
       "      <td>Regular_Return</td>\n",
       "    </tr>\n",
       "    <tr>\n",
       "      <th>499739</th>\n",
       "      <td>A35</td>\n",
       "      <td>12-2581-00009-00066</td>\n",
       "      <td>22</td>\n",
       "      <td>1666.0</td>\n",
       "      <td>1.0</td>\n",
       "      <td>3/12/12 00:00</td>\n",
       "      <td>A21452</td>\n",
       "      <td>None</td>\n",
       "    </tr>\n",
       "    <tr>\n",
       "      <th>499740</th>\n",
       "      <td>A35</td>\n",
       "      <td>12-2581-00009-00066</td>\n",
       "      <td>24</td>\n",
       "      <td>-3295.0</td>\n",
       "      <td>-1.0</td>\n",
       "      <td>3/12/12 00:00</td>\n",
       "      <td>A21452</td>\n",
       "      <td>Regular_Return</td>\n",
       "    </tr>\n",
       "    <tr>\n",
       "      <th>499741</th>\n",
       "      <td>A35</td>\n",
       "      <td>12-2581-00009-00066</td>\n",
       "      <td>25</td>\n",
       "      <td>1666.0</td>\n",
       "      <td>1.0</td>\n",
       "      <td>3/12/12 00:00</td>\n",
       "      <td>A21452</td>\n",
       "      <td>None</td>\n",
       "    </tr>\n",
       "    <tr>\n",
       "      <th>499742</th>\n",
       "      <td>A35</td>\n",
       "      <td>12-2581-00009-00066</td>\n",
       "      <td>27</td>\n",
       "      <td>-3295.0</td>\n",
       "      <td>-1.0</td>\n",
       "      <td>3/12/12 00:00</td>\n",
       "      <td>A21452</td>\n",
       "      <td>Regular_Return</td>\n",
       "    </tr>\n",
       "    <tr>\n",
       "      <th>499743</th>\n",
       "      <td>A35</td>\n",
       "      <td>12-2581-00009-00066</td>\n",
       "      <td>28</td>\n",
       "      <td>1666.0</td>\n",
       "      <td>1.0</td>\n",
       "      <td>3/12/12 00:00</td>\n",
       "      <td>A21452</td>\n",
       "      <td>None</td>\n",
       "    </tr>\n",
       "  </tbody>\n",
       "</table>\n",
       "</div>"
      ],
      "text/plain": [
       "       StoreID        TransactionID  Line   Sales  Count           Date  \\\n",
       "499732     A35  12-2581-00009-00066    12  3295.0    1.0  3/12/12 00:00   \n",
       "499738     A35  12-2581-00009-00066    21 -3295.0   -1.0  3/12/12 00:00   \n",
       "499739     A35  12-2581-00009-00066    22  1666.0    1.0  3/12/12 00:00   \n",
       "499740     A35  12-2581-00009-00066    24 -3295.0   -1.0  3/12/12 00:00   \n",
       "499741     A35  12-2581-00009-00066    25  1666.0    1.0  3/12/12 00:00   \n",
       "499742     A35  12-2581-00009-00066    27 -3295.0   -1.0  3/12/12 00:00   \n",
       "499743     A35  12-2581-00009-00066    28  1666.0    1.0  3/12/12 00:00   \n",
       "\n",
       "           SKU            Type  \n",
       "499732  A21452            None  \n",
       "499738  A21452  Regular_Return  \n",
       "499739  A21452            None  \n",
       "499740  A21452  Regular_Return  \n",
       "499741  A21452            None  \n",
       "499742  A21452  Regular_Return  \n",
       "499743  A21452            None  "
      ]
     },
     "execution_count": 248,
     "metadata": {},
     "output_type": "execute_result"
    }
   ],
   "source": [
    "data_type[(data_type.TransactionID=='12-2581-00009-00066')&(data_type.SKU=='A21452')]"
   ]
  },
  {
   "cell_type": "markdown",
   "metadata": {},
   "source": [
    "**Treatment:** It's not wise to change those regular returns to orphan returns manually in this case, so I decide to drop those rows when total sales$<0$ on a per transaction and per SKU basis.\n"
   ]
  },
  {
   "cell_type": "code",
   "execution_count": 249,
   "metadata": {
    "collapsed": true
   },
   "outputs": [],
   "source": [
    "q = '''\n",
    "    select a.*\n",
    "    from data_type a\n",
    "    left join df3 b\n",
    "    on a.TransactionID=b.TransactionID and a.SKU=b.SKU\n",
    "    where b.TransactionID is null\n",
    "    '''\n",
    "data_type = pysqldf(q)"
   ]
  },
  {
   "cell_type": "code",
   "execution_count": 250,
   "metadata": {
    "collapsed": false
   },
   "outputs": [
    {
     "data": {
      "text/plain": [
       "(1041577, 8)"
      ]
     },
     "execution_count": 250,
     "metadata": {},
     "output_type": "execute_result"
    }
   ],
   "source": [
    "data_type.shape"
   ]
  },
  {
   "cell_type": "code",
   "execution_count": 251,
   "metadata": {
    "collapsed": true
   },
   "outputs": [],
   "source": [
    "data_type.to_csv('data_type.csv', sep=',',index=False)"
   ]
  },
  {
   "cell_type": "markdown",
   "metadata": {},
   "source": [
    "<br><br>"
   ]
  }
 ],
 "metadata": {
  "anaconda-cloud": {},
  "kernelspec": {
   "display_name": "Python [conda root]",
   "language": "python",
   "name": "conda-root-py"
  },
  "language_info": {
   "codemirror_mode": {
    "name": "ipython",
    "version": 2
   },
   "file_extension": ".py",
   "mimetype": "text/x-python",
   "name": "python",
   "nbconvert_exporter": "python",
   "pygments_lexer": "ipython2",
   "version": "2.7.13"
  }
 },
 "nbformat": 4,
 "nbformat_minor": 1
}
