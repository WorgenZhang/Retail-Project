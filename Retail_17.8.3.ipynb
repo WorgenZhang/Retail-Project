{
 "cells": [
  {
   "cell_type": "markdown",
   "metadata": {},
   "source": [
    "## Business Objective"
   ]
  },
  {
   "cell_type": "markdown",
   "metadata": {},
   "source": [
    "- I am a store manager, what can I do to enhance my revenue across 100 stores?  \n",
    "\n",
    "- When I discount some items, will that drive up average sales per basket？\n",
    "\n",
    "- Some product may have **elasticity of demand**, other product may not (Once I step into the store, I am going to start browsing and I am gonna buying more stuff I probably won't need. So that's what they want, they want to change people's behavior. If you markdown the price of merchandise, it's going to drive up sales of products.) (Percent change in demand is more than percent change in price) \n",
    "\n",
    "- Cross-selling: what are the prodcuts that people tend to buy together. Association Rule.  \n",
    "- Upselling: Salesperson tries to persuade customers to buy a higher-end product, an upgrade or the newest version of an item.\n",
    "\n",
    "- Shall we markdown? How much shall we markdown? Does it make sense to markdown? Product Category?"
   ]
  },
  {
   "cell_type": "markdown",
   "metadata": {},
   "source": [
    "<br>"
   ]
  },
  {
   "cell_type": "markdown",
   "metadata": {},
   "source": [
    "## Process: \n",
    "- <a href='#1'>Look At Data First </a>\n",
    "- <a href='#2'>Exploratory Data Analysis </a>\n",
    " - <a href='#3'>Explore cases when Count=0</a>\n",
    " - <a href='#4'>Explore cases when Count=-1</a>\n",
    " - <a href='#5'>Explore cases when Count=-2</a>\n",
    " - <a href='#6'>Delete rows where count$<$0 and don't have corresponded positive sales in the same store</a>\n",
    " - <a href='#7'>Check Missing Values</a>\n",
    " - <a href='#8'>Explore Outliers</a>\n",
    " - <a href='#9'>Average Revenue per Basket</a>\n",
    " - <a href='#10'>Price Elasticity of Demand</a>\n",
    " - <a href='#11'>Association Analysis</a>\n",
    " \n",
    " \n",
    "\n",
    "\n"
   ]
  },
  {
   "cell_type": "markdown",
   "metadata": {},
   "source": [
    "<br>"
   ]
  },
  {
   "cell_type": "markdown",
   "metadata": {},
   "source": [
    "## Look at Data First \t<a name='1' />\n"
   ]
  },
  {
   "cell_type": "code",
   "execution_count": 168,
   "metadata": {
    "collapsed": false
   },
   "outputs": [],
   "source": [
    "import pandas as pd\n",
    "from datetime import datetime"
   ]
  },
  {
   "cell_type": "code",
   "execution_count": 169,
   "metadata": {
    "collapsed": false
   },
   "outputs": [
    {
     "name": "stdout",
     "output_type": "stream",
     "text": [
      "0:00:01.314451\n"
     ]
    }
   ],
   "source": [
    "start_time = datetime.now()\n",
    "data = pd.read_csv('RetailerPromotionStrategy_data.csv')\n",
    "print datetime.now()-start_time"
   ]
  },
  {
   "cell_type": "code",
   "execution_count": 13,
   "metadata": {
    "collapsed": false
   },
   "outputs": [
    {
     "data": {
      "text/plain": [
       "(1048575, 7)"
      ]
     },
     "execution_count": 13,
     "metadata": {},
     "output_type": "execute_result"
    }
   ],
   "source": [
    "data.shape"
   ]
  },
  {
   "cell_type": "code",
   "execution_count": 14,
   "metadata": {
    "collapsed": false
   },
   "outputs": [
    {
     "data": {
      "text/html": [
       "<div>\n",
       "<style>\n",
       "    .dataframe thead tr:only-child th {\n",
       "        text-align: right;\n",
       "    }\n",
       "\n",
       "    .dataframe thead th {\n",
       "        text-align: left;\n",
       "    }\n",
       "\n",
       "    .dataframe tbody tr th {\n",
       "        vertical-align: top;\n",
       "    }\n",
       "</style>\n",
       "<table border=\"1\" class=\"dataframe\">\n",
       "  <thead>\n",
       "    <tr style=\"text-align: right;\">\n",
       "      <th></th>\n",
       "      <th>StoreID</th>\n",
       "      <th>TransactionID</th>\n",
       "      <th>Line</th>\n",
       "      <th>Sales</th>\n",
       "      <th>Count</th>\n",
       "      <th>Date</th>\n",
       "      <th>SKU</th>\n",
       "    </tr>\n",
       "  </thead>\n",
       "  <tbody>\n",
       "    <tr>\n",
       "      <th>0</th>\n",
       "      <td>A29</td>\n",
       "      <td>11-7270-00007-00057</td>\n",
       "      <td>36</td>\n",
       "      <td>850.0</td>\n",
       "      <td>1.0</td>\n",
       "      <td>3/11/12 00:00</td>\n",
       "      <td>A21773</td>\n",
       "    </tr>\n",
       "    <tr>\n",
       "      <th>1</th>\n",
       "      <td>A29</td>\n",
       "      <td>11-7270-00007-00057</td>\n",
       "      <td>39</td>\n",
       "      <td>1500.0</td>\n",
       "      <td>1.0</td>\n",
       "      <td>3/11/12 00:00</td>\n",
       "      <td>A18009</td>\n",
       "    </tr>\n",
       "    <tr>\n",
       "      <th>2</th>\n",
       "      <td>A29</td>\n",
       "      <td>11-7270-00007-00057</td>\n",
       "      <td>40</td>\n",
       "      <td>1500.0</td>\n",
       "      <td>1.0</td>\n",
       "      <td>3/11/12 00:00</td>\n",
       "      <td>A25592</td>\n",
       "    </tr>\n",
       "    <tr>\n",
       "      <th>3</th>\n",
       "      <td>A29</td>\n",
       "      <td>11-7270-00007-00057</td>\n",
       "      <td>41</td>\n",
       "      <td>1600.0</td>\n",
       "      <td>1.0</td>\n",
       "      <td>3/11/12 00:00</td>\n",
       "      <td>A1449</td>\n",
       "    </tr>\n",
       "    <tr>\n",
       "      <th>4</th>\n",
       "      <td>A29</td>\n",
       "      <td>11-7270-00007-00057</td>\n",
       "      <td>42</td>\n",
       "      <td>1600.0</td>\n",
       "      <td>1.0</td>\n",
       "      <td>3/11/12 00:00</td>\n",
       "      <td>A1449</td>\n",
       "    </tr>\n",
       "    <tr>\n",
       "      <th>5</th>\n",
       "      <td>A29</td>\n",
       "      <td>11-7270-00007-00057</td>\n",
       "      <td>52</td>\n",
       "      <td>1700.0</td>\n",
       "      <td>1.0</td>\n",
       "      <td>3/11/12 00:00</td>\n",
       "      <td>A12434</td>\n",
       "    </tr>\n",
       "    <tr>\n",
       "      <th>6</th>\n",
       "      <td>A29</td>\n",
       "      <td>11-7270-00007-00057</td>\n",
       "      <td>57</td>\n",
       "      <td>1695.0</td>\n",
       "      <td>1.0</td>\n",
       "      <td>3/11/12 00:00</td>\n",
       "      <td>A13081</td>\n",
       "    </tr>\n",
       "    <tr>\n",
       "      <th>7</th>\n",
       "      <td>A29</td>\n",
       "      <td>11-7270-00007-00057</td>\n",
       "      <td>58</td>\n",
       "      <td>2095.0</td>\n",
       "      <td>1.0</td>\n",
       "      <td>3/11/12 00:00</td>\n",
       "      <td>A5985</td>\n",
       "    </tr>\n",
       "    <tr>\n",
       "      <th>8</th>\n",
       "      <td>A29</td>\n",
       "      <td>11-7270-00007-00057</td>\n",
       "      <td>59</td>\n",
       "      <td>1650.0</td>\n",
       "      <td>1.0</td>\n",
       "      <td>3/11/12 00:00</td>\n",
       "      <td>A21387</td>\n",
       "    </tr>\n",
       "    <tr>\n",
       "      <th>9</th>\n",
       "      <td>A29</td>\n",
       "      <td>11-7270-00007-00057</td>\n",
       "      <td>60</td>\n",
       "      <td>1795.0</td>\n",
       "      <td>1.0</td>\n",
       "      <td>3/11/12 00:00</td>\n",
       "      <td>A5987</td>\n",
       "    </tr>\n",
       "  </tbody>\n",
       "</table>\n",
       "</div>"
      ],
      "text/plain": [
       "  StoreID        TransactionID  Line   Sales  Count           Date     SKU\n",
       "0     A29  11-7270-00007-00057    36   850.0    1.0  3/11/12 00:00  A21773\n",
       "1     A29  11-7270-00007-00057    39  1500.0    1.0  3/11/12 00:00  A18009\n",
       "2     A29  11-7270-00007-00057    40  1500.0    1.0  3/11/12 00:00  A25592\n",
       "3     A29  11-7270-00007-00057    41  1600.0    1.0  3/11/12 00:00   A1449\n",
       "4     A29  11-7270-00007-00057    42  1600.0    1.0  3/11/12 00:00   A1449\n",
       "5     A29  11-7270-00007-00057    52  1700.0    1.0  3/11/12 00:00  A12434\n",
       "6     A29  11-7270-00007-00057    57  1695.0    1.0  3/11/12 00:00  A13081\n",
       "7     A29  11-7270-00007-00057    58  2095.0    1.0  3/11/12 00:00   A5985\n",
       "8     A29  11-7270-00007-00057    59  1650.0    1.0  3/11/12 00:00  A21387\n",
       "9     A29  11-7270-00007-00057    60  1795.0    1.0  3/11/12 00:00   A5987"
      ]
     },
     "execution_count": 14,
     "metadata": {},
     "output_type": "execute_result"
    }
   ],
   "source": [
    "data.head(10)"
   ]
  },
  {
   "cell_type": "code",
   "execution_count": 28,
   "metadata": {
    "collapsed": false
   },
   "outputs": [
    {
     "data": {
      "text/html": [
       "<div>\n",
       "<style>\n",
       "    .dataframe thead tr:only-child th {\n",
       "        text-align: right;\n",
       "    }\n",
       "\n",
       "    .dataframe thead th {\n",
       "        text-align: left;\n",
       "    }\n",
       "\n",
       "    .dataframe tbody tr th {\n",
       "        vertical-align: top;\n",
       "    }\n",
       "</style>\n",
       "<table border=\"1\" class=\"dataframe\">\n",
       "  <thead>\n",
       "    <tr style=\"text-align: right;\">\n",
       "      <th></th>\n",
       "      <th>Line</th>\n",
       "      <th>Sales</th>\n",
       "      <th>Count</th>\n",
       "    </tr>\n",
       "  </thead>\n",
       "  <tbody>\n",
       "    <tr>\n",
       "      <th>count</th>\n",
       "      <td>1048575.000</td>\n",
       "      <td>1048575.000</td>\n",
       "      <td>1048575.000</td>\n",
       "    </tr>\n",
       "    <tr>\n",
       "      <th>mean</th>\n",
       "      <td>10.727</td>\n",
       "      <td>1720.513</td>\n",
       "      <td>0.896</td>\n",
       "    </tr>\n",
       "    <tr>\n",
       "      <th>std</th>\n",
       "      <td>15.550</td>\n",
       "      <td>3646.003</td>\n",
       "      <td>1.129</td>\n",
       "    </tr>\n",
       "    <tr>\n",
       "      <th>min</th>\n",
       "      <td>1.000</td>\n",
       "      <td>-99995.000</td>\n",
       "      <td>-120.000</td>\n",
       "    </tr>\n",
       "    <tr>\n",
       "      <th>25%</th>\n",
       "      <td>3.000</td>\n",
       "      <td>395.000</td>\n",
       "      <td>1.000</td>\n",
       "    </tr>\n",
       "    <tr>\n",
       "      <th>50%</th>\n",
       "      <td>7.000</td>\n",
       "      <td>1295.000</td>\n",
       "      <td>1.000</td>\n",
       "    </tr>\n",
       "    <tr>\n",
       "      <th>75%</th>\n",
       "      <td>14.000</td>\n",
       "      <td>2195.000</td>\n",
       "      <td>1.000</td>\n",
       "    </tr>\n",
       "    <tr>\n",
       "      <th>max</th>\n",
       "      <td>823.000</td>\n",
       "      <td>99995.000</td>\n",
       "      <td>120.000</td>\n",
       "    </tr>\n",
       "  </tbody>\n",
       "</table>\n",
       "</div>"
      ],
      "text/plain": [
       "             Line       Sales       Count\n",
       "count 1048575.000 1048575.000 1048575.000\n",
       "mean       10.727    1720.513       0.896\n",
       "std        15.550    3646.003       1.129\n",
       "min         1.000  -99995.000    -120.000\n",
       "25%         3.000     395.000       1.000\n",
       "50%         7.000    1295.000       1.000\n",
       "75%        14.000    2195.000       1.000\n",
       "max       823.000   99995.000     120.000"
      ]
     },
     "execution_count": 28,
     "metadata": {},
     "output_type": "execute_result"
    }
   ],
   "source": [
    "pd.set_option('display.float_format', lambda x: '%.3f' % x)\n",
    "data.describe()"
   ]
  },
  {
   "cell_type": "code",
   "execution_count": 37,
   "metadata": {
    "collapsed": false,
    "scrolled": true
   },
   "outputs": [
    {
     "data": {
      "text/plain": [
       "1      138198\n",
       "2      103886\n",
       "3       84615\n",
       "4       72704\n",
       "5       63255\n",
       "6       56578\n",
       "7       50227\n",
       "8       45197\n",
       "9       40427\n",
       "10      36305\n",
       "11      32797\n",
       "12      29470\n",
       "13      26529\n",
       "14      23595\n",
       "15      21240\n",
       "16      19211\n",
       "17      17401\n",
       "18      15649\n",
       "19      14274\n",
       "20      12758\n",
       "21      11479\n",
       "22      10460\n",
       "23       9544\n",
       "24       8744\n",
       "25       7832\n",
       "26       7065\n",
       "27       6486\n",
       "28       6029\n",
       "29       5405\n",
       "30       4995\n",
       "        ...  \n",
       "285         1\n",
       "796         1\n",
       "236         1\n",
       "748         1\n",
       "750         1\n",
       "239         1\n",
       "240         1\n",
       "754         1\n",
       "755         1\n",
       "756         1\n",
       "246         1\n",
       "758         1\n",
       "760         1\n",
       "763         1\n",
       "764         1\n",
       "765         1\n",
       "256         1\n",
       "265         1\n",
       "267         1\n",
       "268         1\n",
       "269         1\n",
       "270         1\n",
       "272         1\n",
       "277         1\n",
       "278         1\n",
       "279         1\n",
       "280         1\n",
       "281         1\n",
       "282         1\n",
       "182         1\n",
       "Name: Line, Length: 604, dtype: int64"
      ]
     },
     "execution_count": 37,
     "metadata": {},
     "output_type": "execute_result"
    }
   ],
   "source": [
    "# How many observations in each Line\n",
    "data['Line'].value_counts()"
   ]
  },
  {
   "cell_type": "code",
   "execution_count": 171,
   "metadata": {
    "collapsed": false,
    "scrolled": false
   },
   "outputs": [
    {
     "data": {
      "text/plain": [
       "1.000     850239\n",
       "0.000     171448\n",
       "-1.000      8577\n",
       "2.000       5810\n",
       "10.000      2943\n",
       "4.000       2471\n",
       "3.000       1687\n",
       "6.000       1624\n",
       "5.000       1271\n",
       "8.000        356\n",
       "Name: Count, dtype: int64"
      ]
     },
     "execution_count": 171,
     "metadata": {},
     "output_type": "execute_result"
    }
   ],
   "source": [
    "# How many oberservations in each Count category\n",
    "data['Count'].value_counts().head(10)"
   ]
  },
  {
   "cell_type": "code",
   "execution_count": 176,
   "metadata": {
    "collapsed": false
   },
   "outputs": [
    {
     "data": {
      "text/plain": [
       "(9349, 7)"
      ]
     },
     "execution_count": 176,
     "metadata": {},
     "output_type": "execute_result"
    }
   ],
   "source": [
    "data[data['Count']<0].shape"
   ]
  },
  {
   "cell_type": "markdown",
   "metadata": {},
   "source": [
    "<br>"
   ]
  },
  {
   "cell_type": "markdown",
   "metadata": {},
   "source": [
    "## Exploratory Data Analysis <a name='2'/>"
   ]
  },
  {
   "cell_type": "markdown",
   "metadata": {},
   "source": [
    "### Explore cases when Count=0 <a name='3' />"
   ]
  },
  {
   "cell_type": "code",
   "execution_count": 190,
   "metadata": {
    "collapsed": false
   },
   "outputs": [
    {
     "data": {
      "text/html": [
       "<div>\n",
       "<style>\n",
       "    .dataframe thead tr:only-child th {\n",
       "        text-align: right;\n",
       "    }\n",
       "\n",
       "    .dataframe thead th {\n",
       "        text-align: left;\n",
       "    }\n",
       "\n",
       "    .dataframe tbody tr th {\n",
       "        vertical-align: top;\n",
       "    }\n",
       "</style>\n",
       "<table border=\"1\" class=\"dataframe\">\n",
       "  <thead>\n",
       "    <tr style=\"text-align: right;\">\n",
       "      <th></th>\n",
       "      <th>StoreID</th>\n",
       "      <th>TransactionID</th>\n",
       "      <th>Line</th>\n",
       "      <th>Sales</th>\n",
       "      <th>Count</th>\n",
       "      <th>Date</th>\n",
       "      <th>SKU</th>\n",
       "    </tr>\n",
       "  </thead>\n",
       "  <tbody>\n",
       "    <tr>\n",
       "      <th>12</th>\n",
       "      <td>A29</td>\n",
       "      <td>11-7270-00007-00057</td>\n",
       "      <td>63</td>\n",
       "      <td>-786.000</td>\n",
       "      <td>0.000</td>\n",
       "      <td>3/11/12 00:00</td>\n",
       "      <td>A256</td>\n",
       "    </tr>\n",
       "    <tr>\n",
       "      <th>14</th>\n",
       "      <td>A29</td>\n",
       "      <td>11-7270-00007-00057</td>\n",
       "      <td>65</td>\n",
       "      <td>-770.000</td>\n",
       "      <td>0.000</td>\n",
       "      <td>3/11/12 00:00</td>\n",
       "      <td>A8481</td>\n",
       "    </tr>\n",
       "    <tr>\n",
       "      <th>20</th>\n",
       "      <td>A29</td>\n",
       "      <td>11-7270-00007-00057</td>\n",
       "      <td>75</td>\n",
       "      <td>-500.000</td>\n",
       "      <td>0.000</td>\n",
       "      <td>3/11/12 00:00</td>\n",
       "      <td>A2341</td>\n",
       "    </tr>\n",
       "  </tbody>\n",
       "</table>\n",
       "</div>"
      ],
      "text/plain": [
       "   StoreID        TransactionID  Line    Sales  Count           Date    SKU\n",
       "12     A29  11-7270-00007-00057    63 -786.000  0.000  3/11/12 00:00   A256\n",
       "14     A29  11-7270-00007-00057    65 -770.000  0.000  3/11/12 00:00  A8481\n",
       "20     A29  11-7270-00007-00057    75 -500.000  0.000  3/11/12 00:00  A2341"
      ]
     },
     "execution_count": 190,
     "metadata": {},
     "output_type": "execute_result"
    }
   ],
   "source": [
    "data_count0 = data[data['Count']==0]\n",
    "\n",
    "data_count0.head(3)"
   ]
  },
  {
   "cell_type": "code",
   "execution_count": 192,
   "metadata": {
    "collapsed": false
   },
   "outputs": [
    {
     "data": {
      "text/plain": [
       "3/12/12 00:00    161257\n",
       "3/11/12 00:00     10191\n",
       "Name: Date, dtype: int64"
      ]
     },
     "execution_count": 192,
     "metadata": {},
     "output_type": "execute_result"
    }
   ],
   "source": [
    "data_count0.Date.value_counts()"
   ]
  },
  {
   "cell_type": "code",
   "execution_count": 52,
   "metadata": {
    "collapsed": false
   },
   "outputs": [
    {
     "data": {
      "text/html": [
       "<div>\n",
       "<style>\n",
       "    .dataframe thead tr:only-child th {\n",
       "        text-align: right;\n",
       "    }\n",
       "\n",
       "    .dataframe thead th {\n",
       "        text-align: left;\n",
       "    }\n",
       "\n",
       "    .dataframe tbody tr th {\n",
       "        vertical-align: top;\n",
       "    }\n",
       "</style>\n",
       "<table border=\"1\" class=\"dataframe\">\n",
       "  <thead>\n",
       "    <tr style=\"text-align: right;\">\n",
       "      <th></th>\n",
       "      <th>StoreID</th>\n",
       "      <th>TransactionID</th>\n",
       "      <th>Line</th>\n",
       "      <th>Sales</th>\n",
       "      <th>Count</th>\n",
       "      <th>Date</th>\n",
       "      <th>SKU</th>\n",
       "    </tr>\n",
       "  </thead>\n",
       "  <tbody>\n",
       "    <tr>\n",
       "      <th>11</th>\n",
       "      <td>A29</td>\n",
       "      <td>11-7270-00007-00057</td>\n",
       "      <td>62</td>\n",
       "      <td>2095.000</td>\n",
       "      <td>1.000</td>\n",
       "      <td>3/11/12 00:00</td>\n",
       "      <td>A256</td>\n",
       "    </tr>\n",
       "    <tr>\n",
       "      <th>12</th>\n",
       "      <td>A29</td>\n",
       "      <td>11-7270-00007-00057</td>\n",
       "      <td>63</td>\n",
       "      <td>-786.000</td>\n",
       "      <td>0.000</td>\n",
       "      <td>3/11/12 00:00</td>\n",
       "      <td>A256</td>\n",
       "    </tr>\n",
       "  </tbody>\n",
       "</table>\n",
       "</div>"
      ],
      "text/plain": [
       "   StoreID        TransactionID  Line    Sales  Count           Date   SKU\n",
       "11     A29  11-7270-00007-00057    62 2095.000  1.000  3/11/12 00:00  A256\n",
       "12     A29  11-7270-00007-00057    63 -786.000  0.000  3/11/12 00:00  A256"
      ]
     },
     "execution_count": 52,
     "metadata": {},
     "output_type": "execute_result"
    }
   ],
   "source": [
    "# When Count=0, it means it's a discount applied to the purchase\n",
    "data.loc[(data['SKU']=='A256')&(data['TransactionID']=='11-7270-00007-00057')]"
   ]
  },
  {
   "cell_type": "code",
   "execution_count": 108,
   "metadata": {
    "collapsed": false
   },
   "outputs": [
    {
     "data": {
      "text/html": [
       "<div>\n",
       "<style>\n",
       "    .dataframe thead tr:only-child th {\n",
       "        text-align: right;\n",
       "    }\n",
       "\n",
       "    .dataframe thead th {\n",
       "        text-align: left;\n",
       "    }\n",
       "\n",
       "    .dataframe tbody tr th {\n",
       "        vertical-align: top;\n",
       "    }\n",
       "</style>\n",
       "<table border=\"1\" class=\"dataframe\">\n",
       "  <thead>\n",
       "    <tr style=\"text-align: right;\">\n",
       "      <th></th>\n",
       "      <th>StoreID</th>\n",
       "      <th>TransactionID</th>\n",
       "      <th>Line</th>\n",
       "      <th>Sales</th>\n",
       "      <th>Count</th>\n",
       "      <th>Date</th>\n",
       "      <th>SKU</th>\n",
       "    </tr>\n",
       "  </thead>\n",
       "  <tbody>\n",
       "    <tr>\n",
       "      <th>1161</th>\n",
       "      <td>A29</td>\n",
       "      <td>11-7270-00007-00110</td>\n",
       "      <td>29</td>\n",
       "      <td>845.000</td>\n",
       "      <td>0.000</td>\n",
       "      <td>3/11/12 00:00</td>\n",
       "      <td>A6007</td>\n",
       "    </tr>\n",
       "    <tr>\n",
       "      <th>1234</th>\n",
       "      <td>A29</td>\n",
       "      <td>11-7270-00007-00116</td>\n",
       "      <td>20</td>\n",
       "      <td>234.000</td>\n",
       "      <td>0.000</td>\n",
       "      <td>3/11/12 00:00</td>\n",
       "      <td>A2452</td>\n",
       "    </tr>\n",
       "    <tr>\n",
       "      <th>4065</th>\n",
       "      <td>A29</td>\n",
       "      <td>11-7270-00008-00358</td>\n",
       "      <td>6</td>\n",
       "      <td>670.000</td>\n",
       "      <td>0.000</td>\n",
       "      <td>3/11/12 00:00</td>\n",
       "      <td>A13774</td>\n",
       "    </tr>\n",
       "    <tr>\n",
       "      <th>5634</th>\n",
       "      <td>A29</td>\n",
       "      <td>11-7270-00014-00241</td>\n",
       "      <td>10</td>\n",
       "      <td>333.000</td>\n",
       "      <td>0.000</td>\n",
       "      <td>3/11/12 00:00</td>\n",
       "      <td>A21307</td>\n",
       "    </tr>\n",
       "    <tr>\n",
       "      <th>9361</th>\n",
       "      <td>A29</td>\n",
       "      <td>11-7270-00006-00209</td>\n",
       "      <td>33</td>\n",
       "      <td>475.000</td>\n",
       "      <td>0.000</td>\n",
       "      <td>3/11/12 00:00</td>\n",
       "      <td>A15257</td>\n",
       "    </tr>\n",
       "  </tbody>\n",
       "</table>\n",
       "</div>"
      ],
      "text/plain": [
       "     StoreID        TransactionID  Line   Sales  Count           Date     SKU\n",
       "1161     A29  11-7270-00007-00110    29 845.000  0.000  3/11/12 00:00   A6007\n",
       "1234     A29  11-7270-00007-00116    20 234.000  0.000  3/11/12 00:00   A2452\n",
       "4065     A29  11-7270-00008-00358     6 670.000  0.000  3/11/12 00:00  A13774\n",
       "5634     A29  11-7270-00014-00241    10 333.000  0.000  3/11/12 00:00  A21307\n",
       "9361     A29  11-7270-00006-00209    33 475.000  0.000  3/11/12 00:00  A15257"
      ]
     },
     "execution_count": 108,
     "metadata": {},
     "output_type": "execute_result"
    }
   ],
   "source": [
    "# Why there are rows where Count=0 but Sales>0?\n",
    "data.loc[(data['Count']==0)&(data['Sales']>0)].head()"
   ]
  },
  {
   "cell_type": "code",
   "execution_count": 113,
   "metadata": {
    "collapsed": true
   },
   "outputs": [],
   "source": [
    "# Select rows where transactionID and SKU match transactionID and SKU when Count=0 but Sales>0\n",
    "q = '''\n",
    "    select\n",
    "        d1.StoreID, d1.TransactionID, d1.Line, d1.Sales, d1.Count, d1.Date, d1.SKU\n",
    "    from \n",
    "        data d1\n",
    "    inner join\n",
    "        (select \n",
    "            TransactionID, SKU\n",
    "        from\n",
    "            data\n",
    "        where Sales>0 and Count=0) as d2\n",
    "    on \n",
    "        d1.TransactionID = d2.TransactionID and\n",
    "        d1.SKU = d2.SKU\n",
    "    '''\n",
    "data1 = pysqldf(q)"
   ]
  },
  {
   "cell_type": "code",
   "execution_count": 116,
   "metadata": {
    "collapsed": false,
    "scrolled": true
   },
   "outputs": [
    {
     "data": {
      "text/html": [
       "<div>\n",
       "<style>\n",
       "    .dataframe thead tr:only-child th {\n",
       "        text-align: right;\n",
       "    }\n",
       "\n",
       "    .dataframe thead th {\n",
       "        text-align: left;\n",
       "    }\n",
       "\n",
       "    .dataframe tbody tr th {\n",
       "        vertical-align: top;\n",
       "    }\n",
       "</style>\n",
       "<table border=\"1\" class=\"dataframe\">\n",
       "  <thead>\n",
       "    <tr style=\"text-align: right;\">\n",
       "      <th></th>\n",
       "      <th>StoreID</th>\n",
       "      <th>TransactionID</th>\n",
       "      <th>Line</th>\n",
       "      <th>Sales</th>\n",
       "      <th>Count</th>\n",
       "      <th>Date</th>\n",
       "      <th>SKU</th>\n",
       "    </tr>\n",
       "  </thead>\n",
       "  <tbody>\n",
       "    <tr>\n",
       "      <th>0</th>\n",
       "      <td>A29</td>\n",
       "      <td>11-7270-00007-00110</td>\n",
       "      <td>22</td>\n",
       "      <td>2195.000</td>\n",
       "      <td>1.000</td>\n",
       "      <td>3/11/12 00:00</td>\n",
       "      <td>A6007</td>\n",
       "    </tr>\n",
       "    <tr>\n",
       "      <th>1</th>\n",
       "      <td>A29</td>\n",
       "      <td>11-7270-00007-00110</td>\n",
       "      <td>23</td>\n",
       "      <td>-845.000</td>\n",
       "      <td>0.000</td>\n",
       "      <td>3/11/12 00:00</td>\n",
       "      <td>A6007</td>\n",
       "    </tr>\n",
       "    <tr>\n",
       "      <th>2</th>\n",
       "      <td>A29</td>\n",
       "      <td>11-7270-00007-00110</td>\n",
       "      <td>24</td>\n",
       "      <td>2195.000</td>\n",
       "      <td>1.000</td>\n",
       "      <td>3/11/12 00:00</td>\n",
       "      <td>A6007</td>\n",
       "    </tr>\n",
       "    <tr>\n",
       "      <th>3</th>\n",
       "      <td>A29</td>\n",
       "      <td>11-7270-00007-00110</td>\n",
       "      <td>25</td>\n",
       "      <td>-845.000</td>\n",
       "      <td>0.000</td>\n",
       "      <td>3/11/12 00:00</td>\n",
       "      <td>A6007</td>\n",
       "    </tr>\n",
       "    <tr>\n",
       "      <th>4</th>\n",
       "      <td>A29</td>\n",
       "      <td>11-7270-00007-00110</td>\n",
       "      <td>26</td>\n",
       "      <td>2195.000</td>\n",
       "      <td>1.000</td>\n",
       "      <td>3/11/12 00:00</td>\n",
       "      <td>A6007</td>\n",
       "    </tr>\n",
       "    <tr>\n",
       "      <th>5</th>\n",
       "      <td>A29</td>\n",
       "      <td>11-7270-00007-00110</td>\n",
       "      <td>27</td>\n",
       "      <td>-845.000</td>\n",
       "      <td>0.000</td>\n",
       "      <td>3/11/12 00:00</td>\n",
       "      <td>A6007</td>\n",
       "    </tr>\n",
       "    <tr>\n",
       "      <th>6</th>\n",
       "      <td>A29</td>\n",
       "      <td>11-7270-00007-00110</td>\n",
       "      <td>28</td>\n",
       "      <td>-2195.000</td>\n",
       "      <td>-1.000</td>\n",
       "      <td>3/11/12 00:00</td>\n",
       "      <td>A6007</td>\n",
       "    </tr>\n",
       "    <tr>\n",
       "      <th>7</th>\n",
       "      <td>A29</td>\n",
       "      <td>11-7270-00007-00110</td>\n",
       "      <td>29</td>\n",
       "      <td>845.000</td>\n",
       "      <td>0.000</td>\n",
       "      <td>3/11/12 00:00</td>\n",
       "      <td>A6007</td>\n",
       "    </tr>\n",
       "    <tr>\n",
       "      <th>8</th>\n",
       "      <td>A29</td>\n",
       "      <td>11-7270-00007-00116</td>\n",
       "      <td>15</td>\n",
       "      <td>1423.000</td>\n",
       "      <td>1.000</td>\n",
       "      <td>3/11/12 00:00</td>\n",
       "      <td>A2452</td>\n",
       "    </tr>\n",
       "    <tr>\n",
       "      <th>9</th>\n",
       "      <td>A29</td>\n",
       "      <td>11-7270-00007-00116</td>\n",
       "      <td>16</td>\n",
       "      <td>-234.000</td>\n",
       "      <td>0.000</td>\n",
       "      <td>3/11/12 00:00</td>\n",
       "      <td>A2452</td>\n",
       "    </tr>\n",
       "  </tbody>\n",
       "</table>\n",
       "</div>"
      ],
      "text/plain": [
       "  StoreID        TransactionID  Line     Sales  Count           Date    SKU\n",
       "0     A29  11-7270-00007-00110    22  2195.000  1.000  3/11/12 00:00  A6007\n",
       "1     A29  11-7270-00007-00110    23  -845.000  0.000  3/11/12 00:00  A6007\n",
       "2     A29  11-7270-00007-00110    24  2195.000  1.000  3/11/12 00:00  A6007\n",
       "3     A29  11-7270-00007-00110    25  -845.000  0.000  3/11/12 00:00  A6007\n",
       "4     A29  11-7270-00007-00110    26  2195.000  1.000  3/11/12 00:00  A6007\n",
       "5     A29  11-7270-00007-00110    27  -845.000  0.000  3/11/12 00:00  A6007\n",
       "6     A29  11-7270-00007-00110    28 -2195.000 -1.000  3/11/12 00:00  A6007\n",
       "7     A29  11-7270-00007-00110    29   845.000  0.000  3/11/12 00:00  A6007\n",
       "8     A29  11-7270-00007-00116    15  1423.000  1.000  3/11/12 00:00  A2452\n",
       "9     A29  11-7270-00007-00116    16  -234.000  0.000  3/11/12 00:00  A2452"
      ]
     },
     "execution_count": 116,
     "metadata": {},
     "output_type": "execute_result"
    }
   ],
   "source": [
    "data1.head(10)"
   ]
  },
  {
   "cell_type": "markdown",
   "metadata": {},
   "source": [
    "### We know from the above table: some customers have bought the discounted items but he told the counter cashier that he didn't want this item anymore. In order to not include the discount from that item, we have to add that discount back. "
   ]
  },
  {
   "cell_type": "markdown",
   "metadata": {},
   "source": [
    "<br><br>"
   ]
  },
  {
   "cell_type": "markdown",
   "metadata": {},
   "source": [
    "### Explore cases when Count=-1  <a name='4' />"
   ]
  },
  {
   "cell_type": "code",
   "execution_count": 66,
   "metadata": {
    "collapsed": false
   },
   "outputs": [
    {
     "data": {
      "text/html": [
       "<div>\n",
       "<style>\n",
       "    .dataframe thead tr:only-child th {\n",
       "        text-align: right;\n",
       "    }\n",
       "\n",
       "    .dataframe thead th {\n",
       "        text-align: left;\n",
       "    }\n",
       "\n",
       "    .dataframe tbody tr th {\n",
       "        vertical-align: top;\n",
       "    }\n",
       "</style>\n",
       "<table border=\"1\" class=\"dataframe\">\n",
       "  <thead>\n",
       "    <tr style=\"text-align: right;\">\n",
       "      <th></th>\n",
       "      <th>StoreID</th>\n",
       "      <th>TransactionID</th>\n",
       "      <th>Line</th>\n",
       "      <th>Sales</th>\n",
       "      <th>Count</th>\n",
       "      <th>Date</th>\n",
       "      <th>SKU</th>\n",
       "    </tr>\n",
       "  </thead>\n",
       "  <tbody>\n",
       "    <tr>\n",
       "      <th>100</th>\n",
       "      <td>A29</td>\n",
       "      <td>11-7270-00007-00066</td>\n",
       "      <td>5</td>\n",
       "      <td>-2013.000</td>\n",
       "      <td>-1.000</td>\n",
       "      <td>3/11/12 00:00</td>\n",
       "      <td>A2729</td>\n",
       "    </tr>\n",
       "    <tr>\n",
       "      <th>354</th>\n",
       "      <td>A19</td>\n",
       "      <td>11-7287-00025-00075</td>\n",
       "      <td>4</td>\n",
       "      <td>-1721.000</td>\n",
       "      <td>-1.000</td>\n",
       "      <td>3/11/12 00:00</td>\n",
       "      <td>A16911</td>\n",
       "    </tr>\n",
       "    <tr>\n",
       "      <th>446</th>\n",
       "      <td>A27</td>\n",
       "      <td>11-7069-00020-00010</td>\n",
       "      <td>6</td>\n",
       "      <td>-4252.000</td>\n",
       "      <td>-1.000</td>\n",
       "      <td>3/11/12 00:00</td>\n",
       "      <td>A7293</td>\n",
       "    </tr>\n",
       "    <tr>\n",
       "      <th>458</th>\n",
       "      <td>A29</td>\n",
       "      <td>11-7270-00007-00072</td>\n",
       "      <td>37</td>\n",
       "      <td>-2395.000</td>\n",
       "      <td>-1.000</td>\n",
       "      <td>3/11/12 00:00</td>\n",
       "      <td>A19365</td>\n",
       "    </tr>\n",
       "    <tr>\n",
       "      <th>622</th>\n",
       "      <td>A29</td>\n",
       "      <td>11-7270-00007-00089</td>\n",
       "      <td>19</td>\n",
       "      <td>-3995.000</td>\n",
       "      <td>-1.000</td>\n",
       "      <td>3/11/12 00:00</td>\n",
       "      <td>A21166</td>\n",
       "    </tr>\n",
       "  </tbody>\n",
       "</table>\n",
       "</div>"
      ],
      "text/plain": [
       "    StoreID        TransactionID  Line     Sales  Count           Date     SKU\n",
       "100     A29  11-7270-00007-00066     5 -2013.000 -1.000  3/11/12 00:00   A2729\n",
       "354     A19  11-7287-00025-00075     4 -1721.000 -1.000  3/11/12 00:00  A16911\n",
       "446     A27  11-7069-00020-00010     6 -4252.000 -1.000  3/11/12 00:00   A7293\n",
       "458     A29  11-7270-00007-00072    37 -2395.000 -1.000  3/11/12 00:00  A19365\n",
       "622     A29  11-7270-00007-00089    19 -3995.000 -1.000  3/11/12 00:00  A21166"
      ]
     },
     "execution_count": 66,
     "metadata": {},
     "output_type": "execute_result"
    }
   ],
   "source": [
    "# Count=-1\n",
    "data.loc[data['Count']==-1].head()"
   ]
  },
  {
   "cell_type": "code",
   "execution_count": 87,
   "metadata": {
    "collapsed": true
   },
   "outputs": [],
   "source": [
    "from pandasql import sqldf\n",
    "pysqldf = lambda q: sqldf(q, globals())"
   ]
  },
  {
   "cell_type": "code",
   "execution_count": 119,
   "metadata": {
    "collapsed": false
   },
   "outputs": [],
   "source": [
    "q = '''\n",
    "    select\n",
    "        d1.StoreID, d1.TransactionID, d1.Line, d1.Sales, d1.Count, d1.Date, d1.SKU\n",
    "    from \n",
    "        data d1\n",
    "    inner join\n",
    "        (select \n",
    "            TransactionID, SKU\n",
    "        from\n",
    "            data\n",
    "        where Count=-1) as d2\n",
    "    on \n",
    "        d1.TransactionID = d2.TransactionID and\n",
    "        d1.SKU = d2.SKU\n",
    "    '''\n",
    "data2 = pysqldf(q)"
   ]
  },
  {
   "cell_type": "code",
   "execution_count": 120,
   "metadata": {
    "collapsed": false
   },
   "outputs": [
    {
     "data": {
      "text/html": [
       "<div>\n",
       "<style>\n",
       "    .dataframe thead tr:only-child th {\n",
       "        text-align: right;\n",
       "    }\n",
       "\n",
       "    .dataframe thead th {\n",
       "        text-align: left;\n",
       "    }\n",
       "\n",
       "    .dataframe tbody tr th {\n",
       "        vertical-align: top;\n",
       "    }\n",
       "</style>\n",
       "<table border=\"1\" class=\"dataframe\">\n",
       "  <thead>\n",
       "    <tr style=\"text-align: right;\">\n",
       "      <th></th>\n",
       "      <th>StoreID</th>\n",
       "      <th>TransactionID</th>\n",
       "      <th>Line</th>\n",
       "      <th>Sales</th>\n",
       "      <th>Count</th>\n",
       "      <th>Date</th>\n",
       "      <th>SKU</th>\n",
       "    </tr>\n",
       "  </thead>\n",
       "  <tbody>\n",
       "    <tr>\n",
       "      <th>0</th>\n",
       "      <td>A29</td>\n",
       "      <td>11-7270-00007-00066</td>\n",
       "      <td>3</td>\n",
       "      <td>2013.000</td>\n",
       "      <td>1.000</td>\n",
       "      <td>3/11/12 00:00</td>\n",
       "      <td>A2729</td>\n",
       "    </tr>\n",
       "    <tr>\n",
       "      <th>1</th>\n",
       "      <td>A29</td>\n",
       "      <td>11-7270-00007-00066</td>\n",
       "      <td>4</td>\n",
       "      <td>2013.000</td>\n",
       "      <td>1.000</td>\n",
       "      <td>3/11/12 00:00</td>\n",
       "      <td>A2729</td>\n",
       "    </tr>\n",
       "    <tr>\n",
       "      <th>2</th>\n",
       "      <td>A29</td>\n",
       "      <td>11-7270-00007-00066</td>\n",
       "      <td>5</td>\n",
       "      <td>-2013.000</td>\n",
       "      <td>-1.000</td>\n",
       "      <td>3/11/12 00:00</td>\n",
       "      <td>A2729</td>\n",
       "    </tr>\n",
       "    <tr>\n",
       "      <th>3</th>\n",
       "      <td>A19</td>\n",
       "      <td>11-7287-00025-00075</td>\n",
       "      <td>3</td>\n",
       "      <td>1721.000</td>\n",
       "      <td>1.000</td>\n",
       "      <td>3/11/12 00:00</td>\n",
       "      <td>A16911</td>\n",
       "    </tr>\n",
       "    <tr>\n",
       "      <th>4</th>\n",
       "      <td>A19</td>\n",
       "      <td>11-7287-00025-00075</td>\n",
       "      <td>4</td>\n",
       "      <td>-1721.000</td>\n",
       "      <td>-1.000</td>\n",
       "      <td>3/11/12 00:00</td>\n",
       "      <td>A16911</td>\n",
       "    </tr>\n",
       "    <tr>\n",
       "      <th>5</th>\n",
       "      <td>A27</td>\n",
       "      <td>11-7069-00020-00010</td>\n",
       "      <td>1</td>\n",
       "      <td>4252.000</td>\n",
       "      <td>1.000</td>\n",
       "      <td>3/11/12 00:00</td>\n",
       "      <td>A7293</td>\n",
       "    </tr>\n",
       "    <tr>\n",
       "      <th>6</th>\n",
       "      <td>A27</td>\n",
       "      <td>11-7069-00020-00010</td>\n",
       "      <td>6</td>\n",
       "      <td>-4252.000</td>\n",
       "      <td>-1.000</td>\n",
       "      <td>3/11/12 00:00</td>\n",
       "      <td>A7293</td>\n",
       "    </tr>\n",
       "    <tr>\n",
       "      <th>7</th>\n",
       "      <td>A29</td>\n",
       "      <td>11-7270-00007-00072</td>\n",
       "      <td>33</td>\n",
       "      <td>2395.000</td>\n",
       "      <td>1.000</td>\n",
       "      <td>3/11/12 00:00</td>\n",
       "      <td>A19365</td>\n",
       "    </tr>\n",
       "    <tr>\n",
       "      <th>8</th>\n",
       "      <td>A29</td>\n",
       "      <td>11-7270-00007-00072</td>\n",
       "      <td>35</td>\n",
       "      <td>2395.000</td>\n",
       "      <td>1.000</td>\n",
       "      <td>3/11/12 00:00</td>\n",
       "      <td>A19365</td>\n",
       "    </tr>\n",
       "    <tr>\n",
       "      <th>9</th>\n",
       "      <td>A29</td>\n",
       "      <td>11-7270-00007-00072</td>\n",
       "      <td>36</td>\n",
       "      <td>2395.000</td>\n",
       "      <td>1.000</td>\n",
       "      <td>3/11/12 00:00</td>\n",
       "      <td>A19365</td>\n",
       "    </tr>\n",
       "    <tr>\n",
       "      <th>10</th>\n",
       "      <td>A29</td>\n",
       "      <td>11-7270-00007-00072</td>\n",
       "      <td>37</td>\n",
       "      <td>-2395.000</td>\n",
       "      <td>-1.000</td>\n",
       "      <td>3/11/12 00:00</td>\n",
       "      <td>A19365</td>\n",
       "    </tr>\n",
       "    <tr>\n",
       "      <th>11</th>\n",
       "      <td>A29</td>\n",
       "      <td>11-7270-00007-00089</td>\n",
       "      <td>4</td>\n",
       "      <td>3995.000</td>\n",
       "      <td>1.000</td>\n",
       "      <td>3/11/12 00:00</td>\n",
       "      <td>A21166</td>\n",
       "    </tr>\n",
       "    <tr>\n",
       "      <th>12</th>\n",
       "      <td>A29</td>\n",
       "      <td>11-7270-00007-00089</td>\n",
       "      <td>19</td>\n",
       "      <td>-3995.000</td>\n",
       "      <td>-1.000</td>\n",
       "      <td>3/11/12 00:00</td>\n",
       "      <td>A21166</td>\n",
       "    </tr>\n",
       "    <tr>\n",
       "      <th>13</th>\n",
       "      <td>A29</td>\n",
       "      <td>11-7270-00007-00089</td>\n",
       "      <td>20</td>\n",
       "      <td>1995.000</td>\n",
       "      <td>1.000</td>\n",
       "      <td>3/11/12 00:00</td>\n",
       "      <td>A21166</td>\n",
       "    </tr>\n",
       "    <tr>\n",
       "      <th>14</th>\n",
       "      <td>A29</td>\n",
       "      <td>11-7270-00009-00038</td>\n",
       "      <td>4</td>\n",
       "      <td>2695.000</td>\n",
       "      <td>1.000</td>\n",
       "      <td>3/11/12 00:00</td>\n",
       "      <td>A24548</td>\n",
       "    </tr>\n",
       "    <tr>\n",
       "      <th>15</th>\n",
       "      <td>A29</td>\n",
       "      <td>11-7270-00009-00038</td>\n",
       "      <td>5</td>\n",
       "      <td>2695.000</td>\n",
       "      <td>1.000</td>\n",
       "      <td>3/11/12 00:00</td>\n",
       "      <td>A24548</td>\n",
       "    </tr>\n",
       "    <tr>\n",
       "      <th>16</th>\n",
       "      <td>A29</td>\n",
       "      <td>11-7270-00009-00038</td>\n",
       "      <td>6</td>\n",
       "      <td>-2695.000</td>\n",
       "      <td>-1.000</td>\n",
       "      <td>3/11/12 00:00</td>\n",
       "      <td>A24548</td>\n",
       "    </tr>\n",
       "    <tr>\n",
       "      <th>17</th>\n",
       "      <td>A29</td>\n",
       "      <td>11-7270-00007-00105</td>\n",
       "      <td>16</td>\n",
       "      <td>250.000</td>\n",
       "      <td>1.000</td>\n",
       "      <td>3/11/12 00:00</td>\n",
       "      <td>A3664</td>\n",
       "    </tr>\n",
       "    <tr>\n",
       "      <th>18</th>\n",
       "      <td>A29</td>\n",
       "      <td>11-7270-00007-00105</td>\n",
       "      <td>17</td>\n",
       "      <td>250.000</td>\n",
       "      <td>1.000</td>\n",
       "      <td>3/11/12 00:00</td>\n",
       "      <td>A3664</td>\n",
       "    </tr>\n",
       "    <tr>\n",
       "      <th>19</th>\n",
       "      <td>A29</td>\n",
       "      <td>11-7270-00007-00105</td>\n",
       "      <td>18</td>\n",
       "      <td>-250.000</td>\n",
       "      <td>-1.000</td>\n",
       "      <td>3/11/12 00:00</td>\n",
       "      <td>A3664</td>\n",
       "    </tr>\n",
       "  </tbody>\n",
       "</table>\n",
       "</div>"
      ],
      "text/plain": [
       "   StoreID        TransactionID  Line     Sales  Count           Date     SKU\n",
       "0      A29  11-7270-00007-00066     3  2013.000  1.000  3/11/12 00:00   A2729\n",
       "1      A29  11-7270-00007-00066     4  2013.000  1.000  3/11/12 00:00   A2729\n",
       "2      A29  11-7270-00007-00066     5 -2013.000 -1.000  3/11/12 00:00   A2729\n",
       "3      A19  11-7287-00025-00075     3  1721.000  1.000  3/11/12 00:00  A16911\n",
       "4      A19  11-7287-00025-00075     4 -1721.000 -1.000  3/11/12 00:00  A16911\n",
       "5      A27  11-7069-00020-00010     1  4252.000  1.000  3/11/12 00:00   A7293\n",
       "6      A27  11-7069-00020-00010     6 -4252.000 -1.000  3/11/12 00:00   A7293\n",
       "7      A29  11-7270-00007-00072    33  2395.000  1.000  3/11/12 00:00  A19365\n",
       "8      A29  11-7270-00007-00072    35  2395.000  1.000  3/11/12 00:00  A19365\n",
       "9      A29  11-7270-00007-00072    36  2395.000  1.000  3/11/12 00:00  A19365\n",
       "10     A29  11-7270-00007-00072    37 -2395.000 -1.000  3/11/12 00:00  A19365\n",
       "11     A29  11-7270-00007-00089     4  3995.000  1.000  3/11/12 00:00  A21166\n",
       "12     A29  11-7270-00007-00089    19 -3995.000 -1.000  3/11/12 00:00  A21166\n",
       "13     A29  11-7270-00007-00089    20  1995.000  1.000  3/11/12 00:00  A21166\n",
       "14     A29  11-7270-00009-00038     4  2695.000  1.000  3/11/12 00:00  A24548\n",
       "15     A29  11-7270-00009-00038     5  2695.000  1.000  3/11/12 00:00  A24548\n",
       "16     A29  11-7270-00009-00038     6 -2695.000 -1.000  3/11/12 00:00  A24548\n",
       "17     A29  11-7270-00007-00105    16   250.000  1.000  3/11/12 00:00   A3664\n",
       "18     A29  11-7270-00007-00105    17   250.000  1.000  3/11/12 00:00   A3664\n",
       "19     A29  11-7270-00007-00105    18  -250.000 -1.000  3/11/12 00:00   A3664"
      ]
     },
     "execution_count": 120,
     "metadata": {},
     "output_type": "execute_result"
    }
   ],
   "source": [
    "data2.head(20)"
   ]
  },
  {
   "cell_type": "markdown",
   "metadata": {},
   "source": [
    "### We can see from the table, what count=-1 means that this customer didn't want this item at all. \n",
    "### There are several cases:\n",
    "###  1. The customer bought just 1 item and he didn't want this item during the  transaction; \n",
    "### 2. The customer bought a discouted item and he didn't want this item during the same transaction;\n",
    "### 3. The customer bought 2 or over 2 items of this product and he didn't want one of this item during the same transaction.\n",
    "### 4. The customer bought 1 item and he didn't want this item during the transaction, since he found the same item in a cheaper price.\n",
    "### 5. Cashier wrongly scanned one item twice."
   ]
  },
  {
   "cell_type": "markdown",
   "metadata": {},
   "source": [
    "<br><br>"
   ]
  },
  {
   "cell_type": "markdown",
   "metadata": {},
   "source": [
    "### Explore cases when count=-2  <a name='5' />"
   ]
  },
  {
   "cell_type": "code",
   "execution_count": 82,
   "metadata": {
    "collapsed": true
   },
   "outputs": [],
   "source": [
    "# Count=-2\n",
    "q = '''\n",
    "    select\n",
    "        d1.StoreID, d1.TransactionID, d1.Line, d1.Sales, d1.Count, d1.Date, d1.SKU\n",
    "    from \n",
    "        data d1\n",
    "    inner join\n",
    "        (select \n",
    "            TransactionID, SKU\n",
    "        from\n",
    "            data\n",
    "        where Count=-2) as d2\n",
    "    on \n",
    "        d1.TransactionID = d2.TransactionID and\n",
    "        d1.SKU = d2.SKU\n",
    "    '''\n",
    "data3 = pysqldf(q)"
   ]
  },
  {
   "cell_type": "code",
   "execution_count": 87,
   "metadata": {
    "collapsed": false
   },
   "outputs": [
    {
     "data": {
      "text/html": [
       "<div>\n",
       "<style>\n",
       "    .dataframe thead tr:only-child th {\n",
       "        text-align: right;\n",
       "    }\n",
       "\n",
       "    .dataframe thead th {\n",
       "        text-align: left;\n",
       "    }\n",
       "\n",
       "    .dataframe tbody tr th {\n",
       "        vertical-align: top;\n",
       "    }\n",
       "</style>\n",
       "<table border=\"1\" class=\"dataframe\">\n",
       "  <thead>\n",
       "    <tr style=\"text-align: right;\">\n",
       "      <th></th>\n",
       "      <th>StoreID</th>\n",
       "      <th>TransactionID</th>\n",
       "      <th>Line</th>\n",
       "      <th>Sales</th>\n",
       "      <th>Count</th>\n",
       "      <th>Date</th>\n",
       "      <th>SKU</th>\n",
       "    </tr>\n",
       "  </thead>\n",
       "  <tbody>\n",
       "    <tr>\n",
       "      <th>0</th>\n",
       "      <td>A17</td>\n",
       "      <td>11-7720-00017-00144</td>\n",
       "      <td>6</td>\n",
       "      <td>1600.000</td>\n",
       "      <td>2.000</td>\n",
       "      <td>3/11/12 00:00</td>\n",
       "      <td>A5678</td>\n",
       "    </tr>\n",
       "    <tr>\n",
       "      <th>1</th>\n",
       "      <td>A17</td>\n",
       "      <td>11-7720-00017-00144</td>\n",
       "      <td>7</td>\n",
       "      <td>-1600.000</td>\n",
       "      <td>-2.000</td>\n",
       "      <td>3/11/12 00:00</td>\n",
       "      <td>A5678</td>\n",
       "    </tr>\n",
       "    <tr>\n",
       "      <th>2</th>\n",
       "      <td>A19</td>\n",
       "      <td>11-7287-00024-00014</td>\n",
       "      <td>9</td>\n",
       "      <td>1400.000</td>\n",
       "      <td>2.000</td>\n",
       "      <td>3/11/12 00:00</td>\n",
       "      <td>A6653</td>\n",
       "    </tr>\n",
       "    <tr>\n",
       "      <th>3</th>\n",
       "      <td>A19</td>\n",
       "      <td>11-7287-00024-00014</td>\n",
       "      <td>10</td>\n",
       "      <td>-1400.000</td>\n",
       "      <td>-2.000</td>\n",
       "      <td>3/11/12 00:00</td>\n",
       "      <td>A6653</td>\n",
       "    </tr>\n",
       "    <tr>\n",
       "      <th>4</th>\n",
       "      <td>A29</td>\n",
       "      <td>11-7270-00012-00113</td>\n",
       "      <td>2</td>\n",
       "      <td>-17990.000</td>\n",
       "      <td>-2.000</td>\n",
       "      <td>3/11/12 00:00</td>\n",
       "      <td>A22728</td>\n",
       "    </tr>\n",
       "    <tr>\n",
       "      <th>5</th>\n",
       "      <td>A29</td>\n",
       "      <td>11-7270-00012-00113</td>\n",
       "      <td>3</td>\n",
       "      <td>11495.000</td>\n",
       "      <td>1.000</td>\n",
       "      <td>3/11/12 00:00</td>\n",
       "      <td>A22882</td>\n",
       "    </tr>\n",
       "    <tr>\n",
       "      <th>6</th>\n",
       "      <td>A29</td>\n",
       "      <td>11-7270-00012-00113</td>\n",
       "      <td>4</td>\n",
       "      <td>11495.000</td>\n",
       "      <td>1.000</td>\n",
       "      <td>3/11/12 00:00</td>\n",
       "      <td>A22882</td>\n",
       "    </tr>\n",
       "    <tr>\n",
       "      <th>7</th>\n",
       "      <td>A29</td>\n",
       "      <td>11-7270-00012-00113</td>\n",
       "      <td>6</td>\n",
       "      <td>-22990.000</td>\n",
       "      <td>-2.000</td>\n",
       "      <td>3/11/12 00:00</td>\n",
       "      <td>A22882</td>\n",
       "    </tr>\n",
       "    <tr>\n",
       "      <th>8</th>\n",
       "      <td>A29</td>\n",
       "      <td>11-7270-00012-00113</td>\n",
       "      <td>7</td>\n",
       "      <td>17990.000</td>\n",
       "      <td>2.000</td>\n",
       "      <td>3/11/12 00:00</td>\n",
       "      <td>A22882</td>\n",
       "    </tr>\n",
       "    <tr>\n",
       "      <th>9</th>\n",
       "      <td>A29</td>\n",
       "      <td>11-7270-00018-00076</td>\n",
       "      <td>1</td>\n",
       "      <td>2800.000</td>\n",
       "      <td>2.000</td>\n",
       "      <td>3/11/12 00:00</td>\n",
       "      <td>A1891</td>\n",
       "    </tr>\n",
       "    <tr>\n",
       "      <th>10</th>\n",
       "      <td>A29</td>\n",
       "      <td>11-7270-00018-00076</td>\n",
       "      <td>3</td>\n",
       "      <td>-2800.000</td>\n",
       "      <td>-2.000</td>\n",
       "      <td>3/11/12 00:00</td>\n",
       "      <td>A1891</td>\n",
       "    </tr>\n",
       "    <tr>\n",
       "      <th>11</th>\n",
       "      <td>A55</td>\n",
       "      <td>11-1105-00010-00112</td>\n",
       "      <td>1</td>\n",
       "      <td>8504.000</td>\n",
       "      <td>2.000</td>\n",
       "      <td>3/11/12 00:00</td>\n",
       "      <td>A7293</td>\n",
       "    </tr>\n",
       "    <tr>\n",
       "      <th>12</th>\n",
       "      <td>A55</td>\n",
       "      <td>11-1105-00010-00112</td>\n",
       "      <td>3</td>\n",
       "      <td>-8504.000</td>\n",
       "      <td>-2.000</td>\n",
       "      <td>3/11/12 00:00</td>\n",
       "      <td>A7293</td>\n",
       "    </tr>\n",
       "    <tr>\n",
       "      <th>13</th>\n",
       "      <td>A60</td>\n",
       "      <td>11-0160-00021-00086</td>\n",
       "      <td>5</td>\n",
       "      <td>2624.000</td>\n",
       "      <td>2.000</td>\n",
       "      <td>3/11/12 00:00</td>\n",
       "      <td>A1092</td>\n",
       "    </tr>\n",
       "    <tr>\n",
       "      <th>14</th>\n",
       "      <td>A60</td>\n",
       "      <td>11-0160-00021-00086</td>\n",
       "      <td>6</td>\n",
       "      <td>-2624.000</td>\n",
       "      <td>-2.000</td>\n",
       "      <td>3/11/12 00:00</td>\n",
       "      <td>A1092</td>\n",
       "    </tr>\n",
       "    <tr>\n",
       "      <th>15</th>\n",
       "      <td>A60</td>\n",
       "      <td>11-0160-00021-00182</td>\n",
       "      <td>1</td>\n",
       "      <td>3400.000</td>\n",
       "      <td>2.000</td>\n",
       "      <td>3/11/12 00:00</td>\n",
       "      <td>A12968</td>\n",
       "    </tr>\n",
       "    <tr>\n",
       "      <th>16</th>\n",
       "      <td>A60</td>\n",
       "      <td>11-0160-00021-00182</td>\n",
       "      <td>3</td>\n",
       "      <td>-3400.000</td>\n",
       "      <td>-2.000</td>\n",
       "      <td>3/11/12 00:00</td>\n",
       "      <td>A12968</td>\n",
       "    </tr>\n",
       "    <tr>\n",
       "      <th>17</th>\n",
       "      <td>A65</td>\n",
       "      <td>11-3571-00008-00008</td>\n",
       "      <td>2</td>\n",
       "      <td>-19990.000</td>\n",
       "      <td>-2.000</td>\n",
       "      <td>3/11/12 00:00</td>\n",
       "      <td>A11920</td>\n",
       "    </tr>\n",
       "    <tr>\n",
       "      <th>18</th>\n",
       "      <td>A65</td>\n",
       "      <td>11-3571-00008-00048</td>\n",
       "      <td>1</td>\n",
       "      <td>-9000.000</td>\n",
       "      <td>-2.000</td>\n",
       "      <td>3/11/12 00:00</td>\n",
       "      <td>A25153</td>\n",
       "    </tr>\n",
       "    <tr>\n",
       "      <th>19</th>\n",
       "      <td>A65</td>\n",
       "      <td>11-3571-00012-00215</td>\n",
       "      <td>1</td>\n",
       "      <td>2622.000</td>\n",
       "      <td>2.000</td>\n",
       "      <td>3/11/12 00:00</td>\n",
       "      <td>A2401</td>\n",
       "    </tr>\n",
       "  </tbody>\n",
       "</table>\n",
       "</div>"
      ],
      "text/plain": [
       "   StoreID        TransactionID  Line      Sales  Count           Date     SKU\n",
       "0      A17  11-7720-00017-00144     6   1600.000  2.000  3/11/12 00:00   A5678\n",
       "1      A17  11-7720-00017-00144     7  -1600.000 -2.000  3/11/12 00:00   A5678\n",
       "2      A19  11-7287-00024-00014     9   1400.000  2.000  3/11/12 00:00   A6653\n",
       "3      A19  11-7287-00024-00014    10  -1400.000 -2.000  3/11/12 00:00   A6653\n",
       "4      A29  11-7270-00012-00113     2 -17990.000 -2.000  3/11/12 00:00  A22728\n",
       "5      A29  11-7270-00012-00113     3  11495.000  1.000  3/11/12 00:00  A22882\n",
       "6      A29  11-7270-00012-00113     4  11495.000  1.000  3/11/12 00:00  A22882\n",
       "7      A29  11-7270-00012-00113     6 -22990.000 -2.000  3/11/12 00:00  A22882\n",
       "8      A29  11-7270-00012-00113     7  17990.000  2.000  3/11/12 00:00  A22882\n",
       "9      A29  11-7270-00018-00076     1   2800.000  2.000  3/11/12 00:00   A1891\n",
       "10     A29  11-7270-00018-00076     3  -2800.000 -2.000  3/11/12 00:00   A1891\n",
       "11     A55  11-1105-00010-00112     1   8504.000  2.000  3/11/12 00:00   A7293\n",
       "12     A55  11-1105-00010-00112     3  -8504.000 -2.000  3/11/12 00:00   A7293\n",
       "13     A60  11-0160-00021-00086     5   2624.000  2.000  3/11/12 00:00   A1092\n",
       "14     A60  11-0160-00021-00086     6  -2624.000 -2.000  3/11/12 00:00   A1092\n",
       "15     A60  11-0160-00021-00182     1   3400.000  2.000  3/11/12 00:00  A12968\n",
       "16     A60  11-0160-00021-00182     3  -3400.000 -2.000  3/11/12 00:00  A12968\n",
       "17     A65  11-3571-00008-00008     2 -19990.000 -2.000  3/11/12 00:00  A11920\n",
       "18     A65  11-3571-00008-00048     1  -9000.000 -2.000  3/11/12 00:00  A25153\n",
       "19     A65  11-3571-00012-00215     1   2622.000  2.000  3/11/12 00:00   A2401"
      ]
     },
     "execution_count": 87,
     "metadata": {},
     "output_type": "execute_result"
    }
   ],
   "source": [
    "data3.head(20)"
   ]
  },
  {
   "cell_type": "code",
   "execution_count": 101,
   "metadata": {
    "collapsed": false
   },
   "outputs": [
    {
     "data": {
      "text/html": [
       "<div>\n",
       "<style>\n",
       "    .dataframe thead tr:only-child th {\n",
       "        text-align: right;\n",
       "    }\n",
       "\n",
       "    .dataframe thead th {\n",
       "        text-align: left;\n",
       "    }\n",
       "\n",
       "    .dataframe tbody tr th {\n",
       "        vertical-align: top;\n",
       "    }\n",
       "</style>\n",
       "<table border=\"1\" class=\"dataframe\">\n",
       "  <thead>\n",
       "    <tr style=\"text-align: right;\">\n",
       "      <th></th>\n",
       "      <th>StoreID</th>\n",
       "      <th>TransactionID</th>\n",
       "      <th>Line</th>\n",
       "      <th>Sales</th>\n",
       "      <th>Count</th>\n",
       "      <th>Date</th>\n",
       "      <th>SKU</th>\n",
       "    </tr>\n",
       "  </thead>\n",
       "  <tbody>\n",
       "    <tr>\n",
       "      <th>5003</th>\n",
       "      <td>A29</td>\n",
       "      <td>11-7270-00012-00113</td>\n",
       "      <td>2</td>\n",
       "      <td>-17990.000</td>\n",
       "      <td>-2.000</td>\n",
       "      <td>3/11/12 00:00</td>\n",
       "      <td>A22728</td>\n",
       "    </tr>\n",
       "    <tr>\n",
       "      <th>223347</th>\n",
       "      <td>A15</td>\n",
       "      <td>12-7054-00006-00199</td>\n",
       "      <td>7</td>\n",
       "      <td>11495.000</td>\n",
       "      <td>1.000</td>\n",
       "      <td>3/12/12 00:00</td>\n",
       "      <td>A22728</td>\n",
       "    </tr>\n",
       "    <tr>\n",
       "      <th>604225</th>\n",
       "      <td>A43</td>\n",
       "      <td>12-7285-00006-00058</td>\n",
       "      <td>5</td>\n",
       "      <td>11495.000</td>\n",
       "      <td>1.000</td>\n",
       "      <td>3/12/12 00:00</td>\n",
       "      <td>A22728</td>\n",
       "    </tr>\n",
       "  </tbody>\n",
       "</table>\n",
       "</div>"
      ],
      "text/plain": [
       "       StoreID        TransactionID  Line      Sales  Count           Date  \\\n",
       "5003       A29  11-7270-00012-00113     2 -17990.000 -2.000  3/11/12 00:00   \n",
       "223347     A15  12-7054-00006-00199     7  11495.000  1.000  3/12/12 00:00   \n",
       "604225     A43  12-7285-00006-00058     5  11495.000  1.000  3/12/12 00:00   \n",
       "\n",
       "           SKU  \n",
       "5003    A22728  \n",
       "223347  A22728  \n",
       "604225  A22728  "
      ]
     },
     "execution_count": 101,
     "metadata": {},
     "output_type": "execute_result"
    }
   ],
   "source": [
    "# Missing corresponded positive sales\n",
    "data.loc[(data['SKU']=='A22728')]"
   ]
  },
  {
   "cell_type": "code",
   "execution_count": 99,
   "metadata": {
    "collapsed": false
   },
   "outputs": [
    {
     "data": {
      "text/html": [
       "<div>\n",
       "<style>\n",
       "    .dataframe thead tr:only-child th {\n",
       "        text-align: right;\n",
       "    }\n",
       "\n",
       "    .dataframe thead th {\n",
       "        text-align: left;\n",
       "    }\n",
       "\n",
       "    .dataframe tbody tr th {\n",
       "        vertical-align: top;\n",
       "    }\n",
       "</style>\n",
       "<table border=\"1\" class=\"dataframe\">\n",
       "  <thead>\n",
       "    <tr style=\"text-align: right;\">\n",
       "      <th></th>\n",
       "      <th>StoreID</th>\n",
       "      <th>TransactionID</th>\n",
       "      <th>Line</th>\n",
       "      <th>Sales</th>\n",
       "      <th>Count</th>\n",
       "      <th>Date</th>\n",
       "      <th>SKU</th>\n",
       "    </tr>\n",
       "  </thead>\n",
       "  <tbody>\n",
       "    <tr>\n",
       "      <th>17859</th>\n",
       "      <td>A65</td>\n",
       "      <td>11-3571-00002-00340</td>\n",
       "      <td>1</td>\n",
       "      <td>9995.000</td>\n",
       "      <td>1.000</td>\n",
       "      <td>3/11/12 00:00</td>\n",
       "      <td>A11920</td>\n",
       "    </tr>\n",
       "    <tr>\n",
       "      <th>20424</th>\n",
       "      <td>A65</td>\n",
       "      <td>11-3571-00001-00209</td>\n",
       "      <td>1</td>\n",
       "      <td>9995.000</td>\n",
       "      <td>1.000</td>\n",
       "      <td>3/11/12 00:00</td>\n",
       "      <td>A11920</td>\n",
       "    </tr>\n",
       "    <tr>\n",
       "      <th>20425</th>\n",
       "      <td>A65</td>\n",
       "      <td>11-3571-00001-00209</td>\n",
       "      <td>2</td>\n",
       "      <td>9995.000</td>\n",
       "      <td>1.000</td>\n",
       "      <td>3/11/12 00:00</td>\n",
       "      <td>A11920</td>\n",
       "    </tr>\n",
       "    <tr>\n",
       "      <th>23312</th>\n",
       "      <td>A65</td>\n",
       "      <td>11-3571-00008-00008</td>\n",
       "      <td>2</td>\n",
       "      <td>-19990.000</td>\n",
       "      <td>-2.000</td>\n",
       "      <td>3/11/12 00:00</td>\n",
       "      <td>A11920</td>\n",
       "    </tr>\n",
       "    <tr>\n",
       "      <th>814110</th>\n",
       "      <td>A65</td>\n",
       "      <td>12-3572-00001-00226</td>\n",
       "      <td>1</td>\n",
       "      <td>9995.000</td>\n",
       "      <td>1.000</td>\n",
       "      <td>3/12/12 00:00</td>\n",
       "      <td>A11920</td>\n",
       "    </tr>\n",
       "  </tbody>\n",
       "</table>\n",
       "</div>"
      ],
      "text/plain": [
       "       StoreID        TransactionID  Line      Sales  Count           Date  \\\n",
       "17859      A65  11-3571-00002-00340     1   9995.000  1.000  3/11/12 00:00   \n",
       "20424      A65  11-3571-00001-00209     1   9995.000  1.000  3/11/12 00:00   \n",
       "20425      A65  11-3571-00001-00209     2   9995.000  1.000  3/11/12 00:00   \n",
       "23312      A65  11-3571-00008-00008     2 -19990.000 -2.000  3/11/12 00:00   \n",
       "814110     A65  12-3572-00001-00226     1   9995.000  1.000  3/12/12 00:00   \n",
       "\n",
       "           SKU  \n",
       "17859   A11920  \n",
       "20424   A11920  \n",
       "20425   A11920  \n",
       "23312   A11920  \n",
       "814110  A11920  "
      ]
     },
     "execution_count": 99,
     "metadata": {},
     "output_type": "execute_result"
    }
   ],
   "source": [
    "# The cutomer returned the items in another transaction\n",
    "data.loc[(data['SKU']=='A11920')&(data['StoreID']=='A65')]"
   ]
  },
  {
   "cell_type": "markdown",
   "metadata": {},
   "source": [
    "### Several Cases:\n",
    "### 1. Customers bought 2 or over 2 items of a product and didn't want 2 of them immediately.\n",
    "### 2. Customers bought 2 or over 2 items of a product and decided to return items after the transaction.\n",
    "### 3. Missing Records: There are some obervations only indicate they didn't want to buy them, but no observations indicate they already have bought them (when count is positive)"
   ]
  },
  {
   "cell_type": "markdown",
   "metadata": {},
   "source": [
    "<br><br>"
   ]
  },
  {
   "cell_type": "markdown",
   "metadata": {},
   "source": [
    "### Delete rows where count$<$0 and don't have corresponded positive sales in the same store  <a name='6' />"
   ]
  },
  {
   "cell_type": "code",
   "execution_count": 221,
   "metadata": {
    "collapsed": true
   },
   "outputs": [],
   "source": [
    "data = pd.read_csv('RetailerPromotionStrategy_data.csv')"
   ]
  },
  {
   "cell_type": "code",
   "execution_count": 222,
   "metadata": {
    "collapsed": true
   },
   "outputs": [],
   "source": [
    "data_count_less0 = data[data['Count']<0]"
   ]
  },
  {
   "cell_type": "code",
   "execution_count": 223,
   "metadata": {
    "collapsed": true
   },
   "outputs": [],
   "source": [
    "q = '''\n",
    "    select\n",
    "        a.StoreID, a.TransactionID, a.Line, a.Sales, a.Count, a.Date, a.SKU\n",
    "    from\n",
    "        data a \n",
    "    join\n",
    "        data_count_less0 b\n",
    "    on a.StoreID=b.StoreID and a.SKU=b.SKU\n",
    "    where\n",
    "        a.Count>0\n",
    "    '''\n",
    "data4 = pysqldf(q)"
   ]
  },
  {
   "cell_type": "code",
   "execution_count": 224,
   "metadata": {
    "collapsed": false
   },
   "outputs": [
    {
     "data": {
      "text/html": [
       "<div>\n",
       "<style>\n",
       "    .dataframe thead tr:only-child th {\n",
       "        text-align: right;\n",
       "    }\n",
       "\n",
       "    .dataframe thead th {\n",
       "        text-align: left;\n",
       "    }\n",
       "\n",
       "    .dataframe tbody tr th {\n",
       "        vertical-align: top;\n",
       "    }\n",
       "</style>\n",
       "<table border=\"1\" class=\"dataframe\">\n",
       "  <thead>\n",
       "    <tr style=\"text-align: right;\">\n",
       "      <th></th>\n",
       "      <th>StoreID</th>\n",
       "      <th>TransactionID</th>\n",
       "      <th>Line</th>\n",
       "      <th>Sales</th>\n",
       "      <th>Count</th>\n",
       "      <th>Date</th>\n",
       "      <th>SKU</th>\n",
       "    </tr>\n",
       "  </thead>\n",
       "  <tbody>\n",
       "    <tr>\n",
       "      <th>0</th>\n",
       "      <td>A29</td>\n",
       "      <td>11-7270-00007-00057</td>\n",
       "      <td>76</td>\n",
       "      <td>1600.000</td>\n",
       "      <td>1.000</td>\n",
       "      <td>3/11/12 00:00</td>\n",
       "      <td>A18872</td>\n",
       "    </tr>\n",
       "    <tr>\n",
       "      <th>1</th>\n",
       "      <td>A29</td>\n",
       "      <td>11-7270-00007-00060</td>\n",
       "      <td>8</td>\n",
       "      <td>1875.000</td>\n",
       "      <td>1.000</td>\n",
       "      <td>3/11/12 00:00</td>\n",
       "      <td>A15257</td>\n",
       "    </tr>\n",
       "    <tr>\n",
       "      <th>2</th>\n",
       "      <td>A29</td>\n",
       "      <td>11-7270-00007-00060</td>\n",
       "      <td>8</td>\n",
       "      <td>1875.000</td>\n",
       "      <td>1.000</td>\n",
       "      <td>3/11/12 00:00</td>\n",
       "      <td>A15257</td>\n",
       "    </tr>\n",
       "    <tr>\n",
       "      <th>3</th>\n",
       "      <td>A29</td>\n",
       "      <td>11-7270-00007-00060</td>\n",
       "      <td>10</td>\n",
       "      <td>1875.000</td>\n",
       "      <td>1.000</td>\n",
       "      <td>3/11/12 00:00</td>\n",
       "      <td>A15257</td>\n",
       "    </tr>\n",
       "    <tr>\n",
       "      <th>4</th>\n",
       "      <td>A29</td>\n",
       "      <td>11-7270-00007-00060</td>\n",
       "      <td>10</td>\n",
       "      <td>1875.000</td>\n",
       "      <td>1.000</td>\n",
       "      <td>3/11/12 00:00</td>\n",
       "      <td>A15257</td>\n",
       "    </tr>\n",
       "  </tbody>\n",
       "</table>\n",
       "</div>"
      ],
      "text/plain": [
       "  StoreID        TransactionID  Line    Sales  Count           Date     SKU\n",
       "0     A29  11-7270-00007-00057    76 1600.000  1.000  3/11/12 00:00  A18872\n",
       "1     A29  11-7270-00007-00060     8 1875.000  1.000  3/11/12 00:00  A15257\n",
       "2     A29  11-7270-00007-00060     8 1875.000  1.000  3/11/12 00:00  A15257\n",
       "3     A29  11-7270-00007-00060    10 1875.000  1.000  3/11/12 00:00  A15257\n",
       "4     A29  11-7270-00007-00060    10 1875.000  1.000  3/11/12 00:00  A15257"
      ]
     },
     "execution_count": 224,
     "metadata": {},
     "output_type": "execute_result"
    }
   ],
   "source": [
    "data4.head()"
   ]
  },
  {
   "cell_type": "code",
   "execution_count": 225,
   "metadata": {
    "collapsed": true
   },
   "outputs": [],
   "source": [
    "q = '''\n",
    "    select\n",
    "        a.StoreID, a.TransactionID, a.Line, a.Sales, a.Count, a.Date, a.SKU\n",
    "    from\n",
    "        data_count_less0 a \n",
    "    left join\n",
    "        data4 b\n",
    "    on a.StoreID=b.StoreID and a.SKU=b.SKU\n",
    "    where\n",
    "        b.StoreID is null\n",
    "    '''\n",
    "data41 = pysqldf(q)"
   ]
  },
  {
   "cell_type": "code",
   "execution_count": 231,
   "metadata": {
    "collapsed": false
   },
   "outputs": [
    {
     "data": {
      "text/html": [
       "<div>\n",
       "<style>\n",
       "    .dataframe thead tr:only-child th {\n",
       "        text-align: right;\n",
       "    }\n",
       "\n",
       "    .dataframe thead th {\n",
       "        text-align: left;\n",
       "    }\n",
       "\n",
       "    .dataframe tbody tr th {\n",
       "        vertical-align: top;\n",
       "    }\n",
       "</style>\n",
       "<table border=\"1\" class=\"dataframe\">\n",
       "  <thead>\n",
       "    <tr style=\"text-align: right;\">\n",
       "      <th></th>\n",
       "      <th>StoreID</th>\n",
       "      <th>TransactionID</th>\n",
       "      <th>Line</th>\n",
       "      <th>Sales</th>\n",
       "      <th>Count</th>\n",
       "      <th>Date</th>\n",
       "      <th>SKU</th>\n",
       "    </tr>\n",
       "  </thead>\n",
       "  <tbody>\n",
       "    <tr>\n",
       "      <th>0</th>\n",
       "      <td>A29</td>\n",
       "      <td>11-7270-00012-00113</td>\n",
       "      <td>2</td>\n",
       "      <td>-17990.000</td>\n",
       "      <td>-2.000</td>\n",
       "      <td>3/11/12 00:00</td>\n",
       "      <td>A22728</td>\n",
       "    </tr>\n",
       "    <tr>\n",
       "      <th>1</th>\n",
       "      <td>A29</td>\n",
       "      <td>11-7270-00012-00206</td>\n",
       "      <td>1</td>\n",
       "      <td>-59900.000</td>\n",
       "      <td>-1.000</td>\n",
       "      <td>3/11/12 00:00</td>\n",
       "      <td>A23383</td>\n",
       "    </tr>\n",
       "    <tr>\n",
       "      <th>2</th>\n",
       "      <td>A29</td>\n",
       "      <td>11-7270-00012-00217</td>\n",
       "      <td>1</td>\n",
       "      <td>-19995.000</td>\n",
       "      <td>-1.000</td>\n",
       "      <td>3/11/12 00:00</td>\n",
       "      <td>A11142</td>\n",
       "    </tr>\n",
       "    <tr>\n",
       "      <th>3</th>\n",
       "      <td>A29</td>\n",
       "      <td>11-7270-00012-00223</td>\n",
       "      <td>1</td>\n",
       "      <td>-9995.000</td>\n",
       "      <td>-1.000</td>\n",
       "      <td>3/11/12 00:00</td>\n",
       "      <td>A6708</td>\n",
       "    </tr>\n",
       "    <tr>\n",
       "      <th>4</th>\n",
       "      <td>A29</td>\n",
       "      <td>11-7270-00012-00031</td>\n",
       "      <td>2</td>\n",
       "      <td>-19995.000</td>\n",
       "      <td>-1.000</td>\n",
       "      <td>3/11/12 00:00</td>\n",
       "      <td>A15824</td>\n",
       "    </tr>\n",
       "    <tr>\n",
       "      <th>5</th>\n",
       "      <td>A29</td>\n",
       "      <td>11-7270-00012-00036</td>\n",
       "      <td>1</td>\n",
       "      <td>-29995.000</td>\n",
       "      <td>-1.000</td>\n",
       "      <td>3/11/12 00:00</td>\n",
       "      <td>A3472</td>\n",
       "    </tr>\n",
       "    <tr>\n",
       "      <th>6</th>\n",
       "      <td>A29</td>\n",
       "      <td>11-7270-00012-00056</td>\n",
       "      <td>2</td>\n",
       "      <td>-17995.000</td>\n",
       "      <td>-1.000</td>\n",
       "      <td>3/11/12 00:00</td>\n",
       "      <td>A7086</td>\n",
       "    </tr>\n",
       "    <tr>\n",
       "      <th>7</th>\n",
       "      <td>A29</td>\n",
       "      <td>11-7270-00012-00103</td>\n",
       "      <td>1</td>\n",
       "      <td>-5000.000</td>\n",
       "      <td>-1.000</td>\n",
       "      <td>3/11/12 00:00</td>\n",
       "      <td>A23875</td>\n",
       "    </tr>\n",
       "    <tr>\n",
       "      <th>8</th>\n",
       "      <td>A29</td>\n",
       "      <td>11-7270-00012-00107</td>\n",
       "      <td>1</td>\n",
       "      <td>-6900.000</td>\n",
       "      <td>-1.000</td>\n",
       "      <td>3/11/12 00:00</td>\n",
       "      <td>A13793</td>\n",
       "    </tr>\n",
       "    <tr>\n",
       "      <th>9</th>\n",
       "      <td>A65</td>\n",
       "      <td>11-3571-00008-00016</td>\n",
       "      <td>1</td>\n",
       "      <td>-1.499</td>\n",
       "      <td>-1.000</td>\n",
       "      <td>3/11/12 00:00</td>\n",
       "      <td>A20450</td>\n",
       "    </tr>\n",
       "  </tbody>\n",
       "</table>\n",
       "</div>"
      ],
      "text/plain": [
       "  StoreID        TransactionID  Line      Sales  Count           Date     SKU\n",
       "0     A29  11-7270-00012-00113     2 -17990.000 -2.000  3/11/12 00:00  A22728\n",
       "1     A29  11-7270-00012-00206     1 -59900.000 -1.000  3/11/12 00:00  A23383\n",
       "2     A29  11-7270-00012-00217     1 -19995.000 -1.000  3/11/12 00:00  A11142\n",
       "3     A29  11-7270-00012-00223     1  -9995.000 -1.000  3/11/12 00:00   A6708\n",
       "4     A29  11-7270-00012-00031     2 -19995.000 -1.000  3/11/12 00:00  A15824\n",
       "5     A29  11-7270-00012-00036     1 -29995.000 -1.000  3/11/12 00:00   A3472\n",
       "6     A29  11-7270-00012-00056     2 -17995.000 -1.000  3/11/12 00:00   A7086\n",
       "7     A29  11-7270-00012-00103     1  -5000.000 -1.000  3/11/12 00:00  A23875\n",
       "8     A29  11-7270-00012-00107     1  -6900.000 -1.000  3/11/12 00:00  A13793\n",
       "9     A65  11-3571-00008-00016     1     -1.499 -1.000  3/11/12 00:00  A20450"
      ]
     },
     "execution_count": 231,
     "metadata": {},
     "output_type": "execute_result"
    }
   ],
   "source": [
    "data41.head(10)"
   ]
  },
  {
   "cell_type": "code",
   "execution_count": 227,
   "metadata": {
    "collapsed": false
   },
   "outputs": [
    {
     "data": {
      "text/plain": [
       "(1101, 7)"
      ]
     },
     "execution_count": 227,
     "metadata": {},
     "output_type": "execute_result"
    }
   ],
   "source": [
    "data41.shape"
   ]
  },
  {
   "cell_type": "code",
   "execution_count": 239,
   "metadata": {
    "collapsed": false
   },
   "outputs": [],
   "source": [
    "# Select StoreID and SKU where only have Count=0 or Count<0\n",
    "q= '''\n",
    "    select\n",
    "        a.StoreID, a.SKU\n",
    "    from\n",
    "        data a\n",
    "    inner join\n",
    "        data41 b\n",
    "    on \n",
    "        a.StoreID=b.StoreID and a.SKU=b.SKU\n",
    "    where a.Count=0\n",
    "    '''\n",
    "data42 = pysqldf(q)"
   ]
  },
  {
   "cell_type": "code",
   "execution_count": 241,
   "metadata": {
    "collapsed": false
   },
   "outputs": [
    {
     "data": {
      "text/html": [
       "<div>\n",
       "<style>\n",
       "    .dataframe thead tr:only-child th {\n",
       "        text-align: right;\n",
       "    }\n",
       "\n",
       "    .dataframe thead th {\n",
       "        text-align: left;\n",
       "    }\n",
       "\n",
       "    .dataframe tbody tr th {\n",
       "        vertical-align: top;\n",
       "    }\n",
       "</style>\n",
       "<table border=\"1\" class=\"dataframe\">\n",
       "  <thead>\n",
       "    <tr style=\"text-align: right;\">\n",
       "      <th></th>\n",
       "      <th>StoreID</th>\n",
       "      <th>SKU</th>\n",
       "    </tr>\n",
       "  </thead>\n",
       "  <tbody>\n",
       "    <tr>\n",
       "      <th>0</th>\n",
       "      <td>A65</td>\n",
       "      <td>A23424</td>\n",
       "    </tr>\n",
       "    <tr>\n",
       "      <th>1</th>\n",
       "      <td>A02</td>\n",
       "      <td>A25059</td>\n",
       "    </tr>\n",
       "    <tr>\n",
       "      <th>2</th>\n",
       "      <td>A07</td>\n",
       "      <td>A16430</td>\n",
       "    </tr>\n",
       "    <tr>\n",
       "      <th>3</th>\n",
       "      <td>A08</td>\n",
       "      <td>A14828</td>\n",
       "    </tr>\n",
       "    <tr>\n",
       "      <th>4</th>\n",
       "      <td>A09</td>\n",
       "      <td>A15118</td>\n",
       "    </tr>\n",
       "  </tbody>\n",
       "</table>\n",
       "</div>"
      ],
      "text/plain": [
       "  StoreID     SKU\n",
       "0     A65  A23424\n",
       "1     A02  A25059\n",
       "2     A07  A16430\n",
       "3     A08  A14828\n",
       "4     A09  A15118"
      ]
     },
     "execution_count": 241,
     "metadata": {},
     "output_type": "execute_result"
    }
   ],
   "source": [
    "data42.head()"
   ]
  },
  {
   "cell_type": "code",
   "execution_count": 242,
   "metadata": {
    "collapsed": false
   },
   "outputs": [
    {
     "data": {
      "text/html": [
       "<div>\n",
       "<style>\n",
       "    .dataframe thead tr:only-child th {\n",
       "        text-align: right;\n",
       "    }\n",
       "\n",
       "    .dataframe thead th {\n",
       "        text-align: left;\n",
       "    }\n",
       "\n",
       "    .dataframe tbody tr th {\n",
       "        vertical-align: top;\n",
       "    }\n",
       "</style>\n",
       "<table border=\"1\" class=\"dataframe\">\n",
       "  <thead>\n",
       "    <tr style=\"text-align: right;\">\n",
       "      <th></th>\n",
       "      <th>StoreID</th>\n",
       "      <th>TransactionID</th>\n",
       "      <th>Line</th>\n",
       "      <th>Sales</th>\n",
       "      <th>Count</th>\n",
       "      <th>Date</th>\n",
       "      <th>SKU</th>\n",
       "    </tr>\n",
       "  </thead>\n",
       "  <tbody>\n",
       "    <tr>\n",
       "      <th>23364</th>\n",
       "      <td>A65</td>\n",
       "      <td>11-3571-00008-00103</td>\n",
       "      <td>1</td>\n",
       "      <td>0.000</td>\n",
       "      <td>0.000</td>\n",
       "      <td>3/11/12 00:00</td>\n",
       "      <td>A23424</td>\n",
       "    </tr>\n",
       "    <tr>\n",
       "      <th>23365</th>\n",
       "      <td>A65</td>\n",
       "      <td>11-3571-00008-00104</td>\n",
       "      <td>1</td>\n",
       "      <td>-6995.000</td>\n",
       "      <td>-1.000</td>\n",
       "      <td>3/11/12 00:00</td>\n",
       "      <td>A23424</td>\n",
       "    </tr>\n",
       "  </tbody>\n",
       "</table>\n",
       "</div>"
      ],
      "text/plain": [
       "      StoreID        TransactionID  Line     Sales  Count           Date  \\\n",
       "23364     A65  11-3571-00008-00103     1     0.000  0.000  3/11/12 00:00   \n",
       "23365     A65  11-3571-00008-00104     1 -6995.000 -1.000  3/11/12 00:00   \n",
       "\n",
       "          SKU  \n",
       "23364  A23424  \n",
       "23365  A23424  "
      ]
     },
     "execution_count": 242,
     "metadata": {},
     "output_type": "execute_result"
    }
   ],
   "source": [
    "data[(data['SKU']=='A23424')&(data['StoreID']=='A65')]"
   ]
  },
  {
   "cell_type": "code",
   "execution_count": 243,
   "metadata": {
    "collapsed": true
   },
   "outputs": [],
   "source": [
    "q = '''\n",
    "    select\n",
    "        a.StoreID, a.TransactionID, a.Line, a.Sales, a.Count, a.Date, a.SKU\n",
    "    from\n",
    "        data a \n",
    "    left join\n",
    "        data41 b\n",
    "    on a.StoreID=b.StoreID and a.SKU=b.SKU\n",
    "    where\n",
    "        b.StoreID is null\n",
    "    '''\n",
    "data = pysqldf(q)"
   ]
  },
  {
   "cell_type": "code",
   "execution_count": 244,
   "metadata": {
    "collapsed": false
   },
   "outputs": [
    {
     "data": {
      "text/plain": [
       "(1047429, 7)"
      ]
     },
     "execution_count": 244,
     "metadata": {},
     "output_type": "execute_result"
    }
   ],
   "source": [
    "data.shape"
   ]
  },
  {
   "cell_type": "code",
   "execution_count": 307,
   "metadata": {
    "collapsed": true
   },
   "outputs": [],
   "source": [
    "data.to_csv('data.csv', sep=',',index=False)  "
   ]
  },
  {
   "cell_type": "markdown",
   "metadata": {},
   "source": [
    "<br><br>"
   ]
  },
  {
   "cell_type": "markdown",
   "metadata": {},
   "source": [
    "### Check Missing Values <a name='7' />"
   ]
  },
  {
   "cell_type": "code",
   "execution_count": 245,
   "metadata": {
    "collapsed": false
   },
   "outputs": [
    {
     "data": {
      "text/plain": [
       "StoreID          0\n",
       "TransactionID    0\n",
       "Line             0\n",
       "Sales            0\n",
       "Count            0\n",
       "Date             0\n",
       "SKU              0\n",
       "dtype: int64"
      ]
     },
     "execution_count": 245,
     "metadata": {},
     "output_type": "execute_result"
    }
   ],
   "source": [
    "data.isnull().sum()"
   ]
  },
  {
   "cell_type": "markdown",
   "metadata": {},
   "source": [
    "<br><br>"
   ]
  },
  {
   "cell_type": "markdown",
   "metadata": {},
   "source": [
    "### Explore Outliers <a name='8' />"
   ]
  },
  {
   "cell_type": "code",
   "execution_count": 246,
   "metadata": {
    "collapsed": false
   },
   "outputs": [
    {
     "data": {
      "text/html": [
       "<div>\n",
       "<style>\n",
       "    .dataframe thead tr:only-child th {\n",
       "        text-align: right;\n",
       "    }\n",
       "\n",
       "    .dataframe thead th {\n",
       "        text-align: left;\n",
       "    }\n",
       "\n",
       "    .dataframe tbody tr th {\n",
       "        vertical-align: top;\n",
       "    }\n",
       "</style>\n",
       "<table border=\"1\" class=\"dataframe\">\n",
       "  <thead>\n",
       "    <tr style=\"text-align: right;\">\n",
       "      <th></th>\n",
       "      <th>Line</th>\n",
       "      <th>Sales</th>\n",
       "      <th>Count</th>\n",
       "    </tr>\n",
       "  </thead>\n",
       "  <tbody>\n",
       "    <tr>\n",
       "      <th>count</th>\n",
       "      <td>1047429.000</td>\n",
       "      <td>1047429.000</td>\n",
       "      <td>1047429.000</td>\n",
       "    </tr>\n",
       "    <tr>\n",
       "      <th>mean</th>\n",
       "      <td>10.737</td>\n",
       "      <td>1735.041</td>\n",
       "      <td>0.898</td>\n",
       "    </tr>\n",
       "    <tr>\n",
       "      <th>std</th>\n",
       "      <td>15.556</td>\n",
       "      <td>3600.765</td>\n",
       "      <td>1.128</td>\n",
       "    </tr>\n",
       "    <tr>\n",
       "      <th>min</th>\n",
       "      <td>1.000</td>\n",
       "      <td>-99995.000</td>\n",
       "      <td>-120.000</td>\n",
       "    </tr>\n",
       "    <tr>\n",
       "      <th>25%</th>\n",
       "      <td>3.000</td>\n",
       "      <td>395.000</td>\n",
       "      <td>1.000</td>\n",
       "    </tr>\n",
       "    <tr>\n",
       "      <th>50%</th>\n",
       "      <td>7.000</td>\n",
       "      <td>1295.000</td>\n",
       "      <td>1.000</td>\n",
       "    </tr>\n",
       "    <tr>\n",
       "      <th>75%</th>\n",
       "      <td>14.000</td>\n",
       "      <td>2195.000</td>\n",
       "      <td>1.000</td>\n",
       "    </tr>\n",
       "    <tr>\n",
       "      <th>max</th>\n",
       "      <td>823.000</td>\n",
       "      <td>99995.000</td>\n",
       "      <td>120.000</td>\n",
       "    </tr>\n",
       "  </tbody>\n",
       "</table>\n",
       "</div>"
      ],
      "text/plain": [
       "             Line       Sales       Count\n",
       "count 1047429.000 1047429.000 1047429.000\n",
       "mean       10.737    1735.041       0.898\n",
       "std        15.556    3600.765       1.128\n",
       "min         1.000  -99995.000    -120.000\n",
       "25%         3.000     395.000       1.000\n",
       "50%         7.000    1295.000       1.000\n",
       "75%        14.000    2195.000       1.000\n",
       "max       823.000   99995.000     120.000"
      ]
     },
     "execution_count": 246,
     "metadata": {},
     "output_type": "execute_result"
    }
   ],
   "source": [
    "data.describe()"
   ]
  },
  {
   "cell_type": "code",
   "execution_count": 247,
   "metadata": {
    "collapsed": true
   },
   "outputs": [],
   "source": [
    "import numpy as np\n",
    "def find_outliers_tukey(x):\n",
    "    q1 = np.percentile(x,25)\n",
    "    q3 = np.percentile(x,75)\n",
    "    iqr = q3 - q1\n",
    "    floor = q1 - 1.5*iqr\n",
    "    ceiling = q3 + 1.5*iqr\n",
    "    outlier_indices = list(x.index[(x < floor) | (x > ceiling)])\n",
    "    outlier_values = list(x[outlier_indices])\n",
    "    \n",
    "    return outlier_indices, outlier_values"
   ]
  },
  {
   "cell_type": "code",
   "execution_count": 248,
   "metadata": {
    "collapsed": false
   },
   "outputs": [
    {
     "name": "stdout",
     "output_type": "stream",
     "text": [
      "Feature 'Line' first and last 10 outliers：[31 32 33 34 35 36 37 38 39 40][796 797 805 806 808 809 811 812 822 823]\n",
      "\n",
      "Number of outliers: 66220\n",
      "\n",
      "Feature 'Sales' first and last 10 outliers：[-99995.00 -99900.00 -89900.00 -88800.00 -86400.00 -84995.00 -80000.00\n",
      " -79950.00 -79900.00 -77970.00][86900.00 88000.00 89900.00 90000.00 92120.00 94900.00 96000.00 99000.00\n",
      " 99900.00 99995.00]\n",
      "\n",
      "Number of outliers: 84577\n",
      "\n",
      "Feature 'Count' first and last 10 outliers：[-120.00 -91.00 -60.00 -54.00 -48.00 -40.00 -39.00 -36.00 -33.00 -32.00][58.00 60.00 65.00 70.00 72.00 80.00 90.00 91.00 99.00 120.00]\n",
      "\n",
      "Number of outliers: 197190\n",
      "\n"
     ]
    }
   ],
   "source": [
    "np.set_printoptions(formatter={'float_kind':lambda x: \"%.2f\" % x})\n",
    "outlier_var = ['Line','Sales','Count']\n",
    "for x in outlier_var:\n",
    "    tukey_indices, tukey_values = find_outliers_tukey(data[x])\n",
    "    a = np.sort(tukey_values)\n",
    "    print \"Feature '{0}' first and last 10 outliers：{1}{2}\\n\".format(x,np.unique(a)[:10],np.unique(a)[-10:])\n",
    "    print \"Number of outliers: {0}\\n\".format(len(tukey_values))"
   ]
  },
  {
   "cell_type": "code",
   "execution_count": 177,
   "metadata": {
    "collapsed": false
   },
   "outputs": [
    {
     "data": {
      "text/plain": [
       "14995.0"
      ]
     },
     "execution_count": 177,
     "metadata": {},
     "output_type": "execute_result"
    }
   ],
   "source": [
    "np.percentile(data['Sales'],99)"
   ]
  },
  {
   "cell_type": "code",
   "execution_count": 258,
   "metadata": {
    "collapsed": false
   },
   "outputs": [
    {
     "data": {
      "text/html": [
       "<div>\n",
       "<style>\n",
       "    .dataframe thead tr:only-child th {\n",
       "        text-align: right;\n",
       "    }\n",
       "\n",
       "    .dataframe thead th {\n",
       "        text-align: left;\n",
       "    }\n",
       "\n",
       "    .dataframe tbody tr th {\n",
       "        vertical-align: top;\n",
       "    }\n",
       "</style>\n",
       "<table border=\"1\" class=\"dataframe\">\n",
       "  <thead>\n",
       "    <tr style=\"text-align: right;\">\n",
       "      <th></th>\n",
       "      <th>StoreID</th>\n",
       "      <th>TransactionID</th>\n",
       "      <th>Line</th>\n",
       "      <th>Sales</th>\n",
       "      <th>Count</th>\n",
       "      <th>Date</th>\n",
       "      <th>SKU</th>\n",
       "    </tr>\n",
       "  </thead>\n",
       "  <tbody>\n",
       "    <tr>\n",
       "      <th>284804</th>\n",
       "      <td>A21</td>\n",
       "      <td>12-7067-00003-00194</td>\n",
       "      <td>9</td>\n",
       "      <td>84995.000</td>\n",
       "      <td>1.000</td>\n",
       "      <td>3/12/12 00:00</td>\n",
       "      <td>A54</td>\n",
       "    </tr>\n",
       "    <tr>\n",
       "      <th>284814</th>\n",
       "      <td>A21</td>\n",
       "      <td>12-7067-00003-00194</td>\n",
       "      <td>20</td>\n",
       "      <td>-84995.000</td>\n",
       "      <td>-1.000</td>\n",
       "      <td>3/12/12 00:00</td>\n",
       "      <td>A54</td>\n",
       "    </tr>\n",
       "  </tbody>\n",
       "</table>\n",
       "</div>"
      ],
      "text/plain": [
       "       StoreID        TransactionID  Line      Sales  Count           Date  \\\n",
       "284804     A21  12-7067-00003-00194     9  84995.000  1.000  3/12/12 00:00   \n",
       "284814     A21  12-7067-00003-00194    20 -84995.000 -1.000  3/12/12 00:00   \n",
       "\n",
       "        SKU  \n",
       "284804  A54  \n",
       "284814  A54  "
      ]
     },
     "execution_count": 258,
     "metadata": {},
     "output_type": "execute_result"
    }
   ],
   "source": [
    "# Buy 1 and return 1\n",
    "data[(data['SKU']=='A54') & (data['StoreID']=='A21')]"
   ]
  },
  {
   "cell_type": "code",
   "execution_count": 262,
   "metadata": {
    "collapsed": false
   },
   "outputs": [
    {
     "data": {
      "text/html": [
       "<div>\n",
       "<style>\n",
       "    .dataframe thead tr:only-child th {\n",
       "        text-align: right;\n",
       "    }\n",
       "\n",
       "    .dataframe thead th {\n",
       "        text-align: left;\n",
       "    }\n",
       "\n",
       "    .dataframe tbody tr th {\n",
       "        vertical-align: top;\n",
       "    }\n",
       "</style>\n",
       "<table border=\"1\" class=\"dataframe\">\n",
       "  <thead>\n",
       "    <tr style=\"text-align: right;\">\n",
       "      <th></th>\n",
       "      <th>StoreID</th>\n",
       "      <th>TransactionID</th>\n",
       "      <th>Line</th>\n",
       "      <th>Sales</th>\n",
       "      <th>Count</th>\n",
       "      <th>Date</th>\n",
       "      <th>SKU</th>\n",
       "    </tr>\n",
       "  </thead>\n",
       "  <tbody>\n",
       "    <tr>\n",
       "      <th>30542</th>\n",
       "      <td>A78</td>\n",
       "      <td>11-5634-00008-00182</td>\n",
       "      <td>8</td>\n",
       "      <td>1.799</td>\n",
       "      <td>1.000</td>\n",
       "      <td>3/11/12 00:00</td>\n",
       "      <td>A23790</td>\n",
       "    </tr>\n",
       "    <tr>\n",
       "      <th>30543</th>\n",
       "      <td>A78</td>\n",
       "      <td>11-5634-00008-00182</td>\n",
       "      <td>9</td>\n",
       "      <td>-80000.000</td>\n",
       "      <td>0.000</td>\n",
       "      <td>3/11/12 00:00</td>\n",
       "      <td>A23790</td>\n",
       "    </tr>\n",
       "    <tr>\n",
       "      <th>1047271</th>\n",
       "      <td>A78</td>\n",
       "      <td>12-5635-00018-00060</td>\n",
       "      <td>1</td>\n",
       "      <td>1.799</td>\n",
       "      <td>1.000</td>\n",
       "      <td>3/12/12 00:00</td>\n",
       "      <td>A23790</td>\n",
       "    </tr>\n",
       "    <tr>\n",
       "      <th>1047272</th>\n",
       "      <td>A78</td>\n",
       "      <td>12-5635-00018-00060</td>\n",
       "      <td>2</td>\n",
       "      <td>-70000.000</td>\n",
       "      <td>0.000</td>\n",
       "      <td>3/12/12 00:00</td>\n",
       "      <td>A23790</td>\n",
       "    </tr>\n",
       "  </tbody>\n",
       "</table>\n",
       "</div>"
      ],
      "text/plain": [
       "        StoreID        TransactionID  Line      Sales  Count           Date  \\\n",
       "30542       A78  11-5634-00008-00182     8      1.799  1.000  3/11/12 00:00   \n",
       "30543       A78  11-5634-00008-00182     9 -80000.000  0.000  3/11/12 00:00   \n",
       "1047271     A78  12-5635-00018-00060     1      1.799  1.000  3/12/12 00:00   \n",
       "1047272     A78  12-5635-00018-00060     2 -70000.000  0.000  3/12/12 00:00   \n",
       "\n",
       "            SKU  \n",
       "30542    A23790  \n",
       "30543    A23790  \n",
       "1047271  A23790  \n",
       "1047272  A23790  "
      ]
     },
     "execution_count": 262,
     "metadata": {},
     "output_type": "execute_result"
    }
   ],
   "source": [
    "# Abnormal sales\n",
    "data[(data['SKU']=='A23790') & (data['StoreID']=='A78')]"
   ]
  },
  {
   "cell_type": "code",
   "execution_count": 256,
   "metadata": {
    "collapsed": false
   },
   "outputs": [
    {
     "data": {
      "text/html": [
       "<div>\n",
       "<style>\n",
       "    .dataframe thead tr:only-child th {\n",
       "        text-align: right;\n",
       "    }\n",
       "\n",
       "    .dataframe thead th {\n",
       "        text-align: left;\n",
       "    }\n",
       "\n",
       "    .dataframe tbody tr th {\n",
       "        vertical-align: top;\n",
       "    }\n",
       "</style>\n",
       "<table border=\"1\" class=\"dataframe\">\n",
       "  <thead>\n",
       "    <tr style=\"text-align: right;\">\n",
       "      <th></th>\n",
       "      <th>StoreID</th>\n",
       "      <th>TransactionID</th>\n",
       "      <th>Line</th>\n",
       "      <th>Sales</th>\n",
       "      <th>Count</th>\n",
       "      <th>Date</th>\n",
       "      <th>SKU</th>\n",
       "    </tr>\n",
       "  </thead>\n",
       "  <tbody>\n",
       "    <tr>\n",
       "      <th>206137</th>\n",
       "      <td>A14</td>\n",
       "      <td>12-7016-00002-00461</td>\n",
       "      <td>3</td>\n",
       "      <td>5900.000</td>\n",
       "      <td>1.000</td>\n",
       "      <td>3/12/12 00:00</td>\n",
       "      <td>A14624</td>\n",
       "    </tr>\n",
       "    <tr>\n",
       "      <th>206138</th>\n",
       "      <td>A14</td>\n",
       "      <td>12-7016-00002-00461</td>\n",
       "      <td>4</td>\n",
       "      <td>-2400.000</td>\n",
       "      <td>0.000</td>\n",
       "      <td>3/12/12 00:00</td>\n",
       "      <td>A14624</td>\n",
       "    </tr>\n",
       "    <tr>\n",
       "      <th>211937</th>\n",
       "      <td>A14</td>\n",
       "      <td>12-7016-00001-00577</td>\n",
       "      <td>1</td>\n",
       "      <td>5900.000</td>\n",
       "      <td>1.000</td>\n",
       "      <td>3/12/12 00:00</td>\n",
       "      <td>A14624</td>\n",
       "    </tr>\n",
       "    <tr>\n",
       "      <th>211938</th>\n",
       "      <td>A14</td>\n",
       "      <td>12-7016-00001-00577</td>\n",
       "      <td>2</td>\n",
       "      <td>-2400.000</td>\n",
       "      <td>0.000</td>\n",
       "      <td>3/12/12 00:00</td>\n",
       "      <td>A14624</td>\n",
       "    </tr>\n",
       "    <tr>\n",
       "      <th>211939</th>\n",
       "      <td>A14</td>\n",
       "      <td>12-7016-00001-00577</td>\n",
       "      <td>3</td>\n",
       "      <td>5900.000</td>\n",
       "      <td>1.000</td>\n",
       "      <td>3/12/12 00:00</td>\n",
       "      <td>A14624</td>\n",
       "    </tr>\n",
       "    <tr>\n",
       "      <th>211940</th>\n",
       "      <td>A14</td>\n",
       "      <td>12-7016-00001-00577</td>\n",
       "      <td>4</td>\n",
       "      <td>-2400.000</td>\n",
       "      <td>0.000</td>\n",
       "      <td>3/12/12 00:00</td>\n",
       "      <td>A14624</td>\n",
       "    </tr>\n",
       "    <tr>\n",
       "      <th>212374</th>\n",
       "      <td>A14</td>\n",
       "      <td>12-7016-00007-00121</td>\n",
       "      <td>2</td>\n",
       "      <td>5900.000</td>\n",
       "      <td>1.000</td>\n",
       "      <td>3/12/12 00:00</td>\n",
       "      <td>A14624</td>\n",
       "    </tr>\n",
       "    <tr>\n",
       "      <th>212375</th>\n",
       "      <td>A14</td>\n",
       "      <td>12-7016-00007-00121</td>\n",
       "      <td>3</td>\n",
       "      <td>-2400.000</td>\n",
       "      <td>0.000</td>\n",
       "      <td>3/12/12 00:00</td>\n",
       "      <td>A14624</td>\n",
       "    </tr>\n",
       "    <tr>\n",
       "      <th>215494</th>\n",
       "      <td>A14</td>\n",
       "      <td>12-7016-00009-00039</td>\n",
       "      <td>1</td>\n",
       "      <td>2.124</td>\n",
       "      <td>36.000</td>\n",
       "      <td>3/12/12 00:00</td>\n",
       "      <td>A14624</td>\n",
       "    </tr>\n",
       "    <tr>\n",
       "      <th>215495</th>\n",
       "      <td>A14</td>\n",
       "      <td>12-7016-00009-00039</td>\n",
       "      <td>2</td>\n",
       "      <td>-86400.000</td>\n",
       "      <td>0.000</td>\n",
       "      <td>3/12/12 00:00</td>\n",
       "      <td>A14624</td>\n",
       "    </tr>\n",
       "  </tbody>\n",
       "</table>\n",
       "</div>"
      ],
      "text/plain": [
       "       StoreID        TransactionID  Line      Sales  Count           Date  \\\n",
       "206137     A14  12-7016-00002-00461     3   5900.000  1.000  3/12/12 00:00   \n",
       "206138     A14  12-7016-00002-00461     4  -2400.000  0.000  3/12/12 00:00   \n",
       "211937     A14  12-7016-00001-00577     1   5900.000  1.000  3/12/12 00:00   \n",
       "211938     A14  12-7016-00001-00577     2  -2400.000  0.000  3/12/12 00:00   \n",
       "211939     A14  12-7016-00001-00577     3   5900.000  1.000  3/12/12 00:00   \n",
       "211940     A14  12-7016-00001-00577     4  -2400.000  0.000  3/12/12 00:00   \n",
       "212374     A14  12-7016-00007-00121     2   5900.000  1.000  3/12/12 00:00   \n",
       "212375     A14  12-7016-00007-00121     3  -2400.000  0.000  3/12/12 00:00   \n",
       "215494     A14  12-7016-00009-00039     1      2.124 36.000  3/12/12 00:00   \n",
       "215495     A14  12-7016-00009-00039     2 -86400.000  0.000  3/12/12 00:00   \n",
       "\n",
       "           SKU  \n",
       "206137  A14624  \n",
       "206138  A14624  \n",
       "211937  A14624  \n",
       "211938  A14624  \n",
       "211939  A14624  \n",
       "211940  A14624  \n",
       "212374  A14624  \n",
       "212375  A14624  \n",
       "215494  A14624  \n",
       "215495  A14624  "
      ]
     },
     "execution_count": 256,
     "metadata": {},
     "output_type": "execute_result"
    }
   ],
   "source": [
    "# Abnormal sales (2.124 & -86400)\n",
    "data[(data['SKU']=='A14624') & (data['StoreID']=='A14')]"
   ]
  },
  {
   "cell_type": "code",
   "execution_count": 185,
   "metadata": {
    "collapsed": false
   },
   "outputs": [
    {
     "data": {
      "text/html": [
       "<div>\n",
       "<style>\n",
       "    .dataframe thead tr:only-child th {\n",
       "        text-align: right;\n",
       "    }\n",
       "\n",
       "    .dataframe thead th {\n",
       "        text-align: left;\n",
       "    }\n",
       "\n",
       "    .dataframe tbody tr th {\n",
       "        vertical-align: top;\n",
       "    }\n",
       "</style>\n",
       "<table border=\"1\" class=\"dataframe\">\n",
       "  <thead>\n",
       "    <tr style=\"text-align: right;\">\n",
       "      <th></th>\n",
       "      <th>StoreID</th>\n",
       "      <th>TransactionID</th>\n",
       "      <th>Line</th>\n",
       "      <th>Sales</th>\n",
       "      <th>Count</th>\n",
       "      <th>Date</th>\n",
       "      <th>SKU</th>\n",
       "    </tr>\n",
       "  </thead>\n",
       "  <tbody>\n",
       "    <tr>\n",
       "      <th>653883</th>\n",
       "      <td>A46</td>\n",
       "      <td>12-7027-00013-00092</td>\n",
       "      <td>3</td>\n",
       "      <td>60000.000</td>\n",
       "      <td>120.000</td>\n",
       "      <td>3/12/12 00:00</td>\n",
       "      <td>A10809</td>\n",
       "    </tr>\n",
       "    <tr>\n",
       "      <th>653884</th>\n",
       "      <td>A46</td>\n",
       "      <td>12-7027-00013-00092</td>\n",
       "      <td>4</td>\n",
       "      <td>-18000.000</td>\n",
       "      <td>0.000</td>\n",
       "      <td>3/12/12 00:00</td>\n",
       "      <td>A10809</td>\n",
       "    </tr>\n",
       "    <tr>\n",
       "      <th>653885</th>\n",
       "      <td>A46</td>\n",
       "      <td>12-7027-00013-00092</td>\n",
       "      <td>6</td>\n",
       "      <td>-60000.000</td>\n",
       "      <td>-120.000</td>\n",
       "      <td>3/12/12 00:00</td>\n",
       "      <td>A10809</td>\n",
       "    </tr>\n",
       "    <tr>\n",
       "      <th>653886</th>\n",
       "      <td>A46</td>\n",
       "      <td>12-7027-00013-00092</td>\n",
       "      <td>7</td>\n",
       "      <td>18000.000</td>\n",
       "      <td>0.000</td>\n",
       "      <td>3/12/12 00:00</td>\n",
       "      <td>A10809</td>\n",
       "    </tr>\n",
       "    <tr>\n",
       "      <th>653887</th>\n",
       "      <td>A46</td>\n",
       "      <td>12-7027-00013-00092</td>\n",
       "      <td>8</td>\n",
       "      <td>5000.000</td>\n",
       "      <td>10.000</td>\n",
       "      <td>3/12/12 00:00</td>\n",
       "      <td>A10809</td>\n",
       "    </tr>\n",
       "    <tr>\n",
       "      <th>653888</th>\n",
       "      <td>A46</td>\n",
       "      <td>12-7027-00013-00092</td>\n",
       "      <td>9</td>\n",
       "      <td>-1500.000</td>\n",
       "      <td>0.000</td>\n",
       "      <td>3/12/12 00:00</td>\n",
       "      <td>A10809</td>\n",
       "    </tr>\n",
       "  </tbody>\n",
       "</table>\n",
       "</div>"
      ],
      "text/plain": [
       "       StoreID        TransactionID  Line      Sales    Count           Date  \\\n",
       "653883     A46  12-7027-00013-00092     3  60000.000  120.000  3/12/12 00:00   \n",
       "653884     A46  12-7027-00013-00092     4 -18000.000    0.000  3/12/12 00:00   \n",
       "653885     A46  12-7027-00013-00092     6 -60000.000 -120.000  3/12/12 00:00   \n",
       "653886     A46  12-7027-00013-00092     7  18000.000    0.000  3/12/12 00:00   \n",
       "653887     A46  12-7027-00013-00092     8   5000.000   10.000  3/12/12 00:00   \n",
       "653888     A46  12-7027-00013-00092     9  -1500.000    0.000  3/12/12 00:00   \n",
       "\n",
       "           SKU  \n",
       "653883  A10809  \n",
       "653884  A10809  \n",
       "653885  A10809  \n",
       "653886  A10809  \n",
       "653887  A10809  \n",
       "653888  A10809  "
      ]
     },
     "execution_count": 185,
     "metadata": {},
     "output_type": "execute_result"
    }
   ],
   "source": [
    "# Buy discount items and return it and buy fewer discount items in the same transaction\n",
    "data[(data['SKU']=='A10809') & (data['TransactionID']=='12-7027-00013-00092')]"
   ]
  },
  {
   "cell_type": "code",
   "execution_count": 66,
   "metadata": {
    "collapsed": false
   },
   "outputs": [
    {
     "data": {
      "text/html": [
       "<div>\n",
       "<style>\n",
       "    .dataframe thead tr:only-child th {\n",
       "        text-align: right;\n",
       "    }\n",
       "\n",
       "    .dataframe thead th {\n",
       "        text-align: left;\n",
       "    }\n",
       "\n",
       "    .dataframe tbody tr th {\n",
       "        vertical-align: top;\n",
       "    }\n",
       "</style>\n",
       "<table border=\"1\" class=\"dataframe\">\n",
       "  <thead>\n",
       "    <tr style=\"text-align: right;\">\n",
       "      <th></th>\n",
       "      <th>StoreID</th>\n",
       "      <th>TransactionID</th>\n",
       "      <th>Line</th>\n",
       "      <th>Sales</th>\n",
       "      <th>Count</th>\n",
       "      <th>Date</th>\n",
       "      <th>SKU</th>\n",
       "    </tr>\n",
       "  </thead>\n",
       "  <tbody>\n",
       "    <tr>\n",
       "      <th>655356</th>\n",
       "      <td>A47</td>\n",
       "      <td>12-7304-00002-00016</td>\n",
       "      <td>10</td>\n",
       "      <td>89900.000</td>\n",
       "      <td>1.000</td>\n",
       "      <td>3/12/12 00:00</td>\n",
       "      <td>A17041</td>\n",
       "    </tr>\n",
       "    <tr>\n",
       "      <th>655357</th>\n",
       "      <td>A47</td>\n",
       "      <td>12-7304-00002-00016</td>\n",
       "      <td>11</td>\n",
       "      <td>89900.000</td>\n",
       "      <td>1.000</td>\n",
       "      <td>3/12/12 00:00</td>\n",
       "      <td>A17041</td>\n",
       "    </tr>\n",
       "    <tr>\n",
       "      <th>655358</th>\n",
       "      <td>A47</td>\n",
       "      <td>12-7304-00002-00016</td>\n",
       "      <td>12</td>\n",
       "      <td>-89900.000</td>\n",
       "      <td>-1.000</td>\n",
       "      <td>3/12/12 00:00</td>\n",
       "      <td>A17041</td>\n",
       "    </tr>\n",
       "  </tbody>\n",
       "</table>\n",
       "</div>"
      ],
      "text/plain": [
       "       StoreID        TransactionID  Line      Sales  Count           Date  \\\n",
       "655356     A47  12-7304-00002-00016    10  89900.000  1.000  3/12/12 00:00   \n",
       "655357     A47  12-7304-00002-00016    11  89900.000  1.000  3/12/12 00:00   \n",
       "655358     A47  12-7304-00002-00016    12 -89900.000 -1.000  3/12/12 00:00   \n",
       "\n",
       "           SKU  \n",
       "655356  A17041  \n",
       "655357  A17041  \n",
       "655358  A17041  "
      ]
     },
     "execution_count": 66,
     "metadata": {},
     "output_type": "execute_result"
    }
   ],
   "source": [
    "# Buy two items and return one of it\n",
    "data.loc[(data['SKU']=='A17041')&(data['TransactionID']=='12-7304-00002-00016')]"
   ]
  },
  {
   "cell_type": "code",
   "execution_count": 179,
   "metadata": {
    "collapsed": false
   },
   "outputs": [
    {
     "data": {
      "text/html": [
       "<div>\n",
       "<style>\n",
       "    .dataframe thead tr:only-child th {\n",
       "        text-align: right;\n",
       "    }\n",
       "\n",
       "    .dataframe thead th {\n",
       "        text-align: left;\n",
       "    }\n",
       "\n",
       "    .dataframe tbody tr th {\n",
       "        vertical-align: top;\n",
       "    }\n",
       "</style>\n",
       "<table border=\"1\" class=\"dataframe\">\n",
       "  <thead>\n",
       "    <tr style=\"text-align: right;\">\n",
       "      <th></th>\n",
       "      <th>StoreID</th>\n",
       "      <th>TransactionID</th>\n",
       "      <th>Line</th>\n",
       "      <th>Sales</th>\n",
       "      <th>Count</th>\n",
       "      <th>Date</th>\n",
       "      <th>SKU</th>\n",
       "    </tr>\n",
       "  </thead>\n",
       "  <tbody>\n",
       "    <tr>\n",
       "      <th>835966</th>\n",
       "      <td>A67</td>\n",
       "      <td>12-3097-00003-00143</td>\n",
       "      <td>1</td>\n",
       "      <td>44400.000</td>\n",
       "      <td>1.000</td>\n",
       "      <td>3/12/12 00:00</td>\n",
       "      <td>A24153</td>\n",
       "    </tr>\n",
       "    <tr>\n",
       "      <th>842579</th>\n",
       "      <td>A67</td>\n",
       "      <td>12-3097-00005-00019</td>\n",
       "      <td>1</td>\n",
       "      <td>44400.000</td>\n",
       "      <td>1.000</td>\n",
       "      <td>3/12/12 00:00</td>\n",
       "      <td>A24153</td>\n",
       "    </tr>\n",
       "    <tr>\n",
       "      <th>842580</th>\n",
       "      <td>A67</td>\n",
       "      <td>12-3097-00005-00019</td>\n",
       "      <td>2</td>\n",
       "      <td>44400.000</td>\n",
       "      <td>1.000</td>\n",
       "      <td>3/12/12 00:00</td>\n",
       "      <td>A24153</td>\n",
       "    </tr>\n",
       "    <tr>\n",
       "      <th>842581</th>\n",
       "      <td>A67</td>\n",
       "      <td>12-3097-00005-00019</td>\n",
       "      <td>3</td>\n",
       "      <td>0.000</td>\n",
       "      <td>0.000</td>\n",
       "      <td>3/12/12 00:00</td>\n",
       "      <td>A24153</td>\n",
       "    </tr>\n",
       "    <tr>\n",
       "      <th>844638</th>\n",
       "      <td>A67</td>\n",
       "      <td>12-3097-00008-00087</td>\n",
       "      <td>2</td>\n",
       "      <td>-88800.000</td>\n",
       "      <td>-2.000</td>\n",
       "      <td>3/12/12 00:00</td>\n",
       "      <td>A24153</td>\n",
       "    </tr>\n",
       "  </tbody>\n",
       "</table>\n",
       "</div>"
      ],
      "text/plain": [
       "       StoreID        TransactionID  Line      Sales  Count           Date  \\\n",
       "835966     A67  12-3097-00003-00143     1  44400.000  1.000  3/12/12 00:00   \n",
       "842579     A67  12-3097-00005-00019     1  44400.000  1.000  3/12/12 00:00   \n",
       "842580     A67  12-3097-00005-00019     2  44400.000  1.000  3/12/12 00:00   \n",
       "842581     A67  12-3097-00005-00019     3      0.000  0.000  3/12/12 00:00   \n",
       "844638     A67  12-3097-00008-00087     2 -88800.000 -2.000  3/12/12 00:00   \n",
       "\n",
       "           SKU  \n",
       "835966  A24153  \n",
       "842579  A24153  \n",
       "842580  A24153  \n",
       "842581  A24153  \n",
       "844638  A24153  "
      ]
     },
     "execution_count": 179,
     "metadata": {},
     "output_type": "execute_result"
    }
   ],
   "source": [
    "# Return the items in another transaction\n",
    "data.loc[(data['SKU']=='A24153')&(data['StoreID']=='A67')]"
   ]
  },
  {
   "cell_type": "code",
   "execution_count": 185,
   "metadata": {
    "collapsed": false,
    "scrolled": false
   },
   "outputs": [
    {
     "data": {
      "text/plain": [
       "1720.5125972246444"
      ]
     },
     "execution_count": 185,
     "metadata": {},
     "output_type": "execute_result"
    }
   ],
   "source": [
    "# Check how much the mean changes after we drop the outliers in 'Sales'\n",
    "data['Sales'].mean()"
   ]
  },
  {
   "cell_type": "code",
   "execution_count": 191,
   "metadata": {
    "collapsed": false
   },
   "outputs": [],
   "source": [
    "tukey_indices, tukey_values = find_outliers_tukey(data['Sales'])\n",
    "data.drop(tukey_indices,inplace=True)"
   ]
  },
  {
   "cell_type": "code",
   "execution_count": 193,
   "metadata": {
    "collapsed": false
   },
   "outputs": [
    {
     "data": {
      "text/plain": [
       "1208.8544643218809"
      ]
     },
     "execution_count": 193,
     "metadata": {},
     "output_type": "execute_result"
    }
   ],
   "source": [
    "# After Drop\n",
    "data['Sales'].mean()"
   ]
  },
  {
   "cell_type": "markdown",
   "metadata": {},
   "source": [
    "### The mean of sales appears to change a lot if we drop those outliers, so we can't treat them as negligible.\n",
    "### We can't also replace those outliers with 99 percentile value of that feature. Since there are both positive and negative outliers and some absolute value are same, which means it doesn't infulence average revenue.\n",
    "### And there are near 90K outliers in Sales, it's unrealistic to impute them."
   ]
  },
  {
   "cell_type": "markdown",
   "metadata": {},
   "source": [
    "<br><br>"
   ]
  },
  {
   "cell_type": "markdown",
   "metadata": {},
   "source": [
    "### Average Revenue per Basket <a name='9' />"
   ]
  },
  {
   "cell_type": "code",
   "execution_count": null,
   "metadata": {
    "collapsed": true
   },
   "outputs": [],
   "source": [
    "data = pd.read_csv('data.csv')"
   ]
  },
  {
   "cell_type": "code",
   "execution_count": 301,
   "metadata": {
    "collapsed": false
   },
   "outputs": [
    {
     "data": {
      "text/html": [
       "<div>\n",
       "<style>\n",
       "    .dataframe thead tr:only-child th {\n",
       "        text-align: right;\n",
       "    }\n",
       "\n",
       "    .dataframe thead th {\n",
       "        text-align: left;\n",
       "    }\n",
       "\n",
       "    .dataframe tbody tr th {\n",
       "        vertical-align: top;\n",
       "    }\n",
       "</style>\n",
       "<table border=\"1\" class=\"dataframe\">\n",
       "  <thead>\n",
       "    <tr style=\"text-align: right;\">\n",
       "      <th></th>\n",
       "      <th>StoreID</th>\n",
       "      <th>TransactionID</th>\n",
       "      <th>Line</th>\n",
       "      <th>Sales</th>\n",
       "      <th>Count</th>\n",
       "      <th>Date</th>\n",
       "      <th>SKU</th>\n",
       "    </tr>\n",
       "  </thead>\n",
       "  <tbody>\n",
       "    <tr>\n",
       "      <th>0</th>\n",
       "      <td>A29</td>\n",
       "      <td>11-7270-00007-00057</td>\n",
       "      <td>36</td>\n",
       "      <td>850.000</td>\n",
       "      <td>1.000</td>\n",
       "      <td>3/11/12 00:00</td>\n",
       "      <td>A21773</td>\n",
       "    </tr>\n",
       "    <tr>\n",
       "      <th>1</th>\n",
       "      <td>A29</td>\n",
       "      <td>11-7270-00007-00057</td>\n",
       "      <td>39</td>\n",
       "      <td>1500.000</td>\n",
       "      <td>1.000</td>\n",
       "      <td>3/11/12 00:00</td>\n",
       "      <td>A18009</td>\n",
       "    </tr>\n",
       "    <tr>\n",
       "      <th>2</th>\n",
       "      <td>A29</td>\n",
       "      <td>11-7270-00007-00057</td>\n",
       "      <td>40</td>\n",
       "      <td>1500.000</td>\n",
       "      <td>1.000</td>\n",
       "      <td>3/11/12 00:00</td>\n",
       "      <td>A25592</td>\n",
       "    </tr>\n",
       "    <tr>\n",
       "      <th>3</th>\n",
       "      <td>A29</td>\n",
       "      <td>11-7270-00007-00057</td>\n",
       "      <td>41</td>\n",
       "      <td>1600.000</td>\n",
       "      <td>1.000</td>\n",
       "      <td>3/11/12 00:00</td>\n",
       "      <td>A1449</td>\n",
       "    </tr>\n",
       "    <tr>\n",
       "      <th>4</th>\n",
       "      <td>A29</td>\n",
       "      <td>11-7270-00007-00057</td>\n",
       "      <td>42</td>\n",
       "      <td>1600.000</td>\n",
       "      <td>1.000</td>\n",
       "      <td>3/11/12 00:00</td>\n",
       "      <td>A1449</td>\n",
       "    </tr>\n",
       "  </tbody>\n",
       "</table>\n",
       "</div>"
      ],
      "text/plain": [
       "  StoreID        TransactionID  Line    Sales  Count           Date     SKU\n",
       "0     A29  11-7270-00007-00057    36  850.000  1.000  3/11/12 00:00  A21773\n",
       "1     A29  11-7270-00007-00057    39 1500.000  1.000  3/11/12 00:00  A18009\n",
       "2     A29  11-7270-00007-00057    40 1500.000  1.000  3/11/12 00:00  A25592\n",
       "3     A29  11-7270-00007-00057    41 1600.000  1.000  3/11/12 00:00   A1449\n",
       "4     A29  11-7270-00007-00057    42 1600.000  1.000  3/11/12 00:00   A1449"
      ]
     },
     "execution_count": 301,
     "metadata": {},
     "output_type": "execute_result"
    }
   ],
   "source": [
    "data.head()"
   ]
  },
  {
   "cell_type": "code",
   "execution_count": 269,
   "metadata": {
    "collapsed": false
   },
   "outputs": [
    {
     "data": {
      "text/plain": [
       "196856"
      ]
     },
     "execution_count": 269,
     "metadata": {},
     "output_type": "execute_result"
    }
   ],
   "source": [
    "len(data.TransactionID.unique())"
   ]
  },
  {
   "cell_type": "code",
   "execution_count": 270,
   "metadata": {
    "collapsed": false
   },
   "outputs": [],
   "source": [
    "# Select transactions who have discount items and total sales>0\n",
    "q='''\n",
    "  select\n",
    "      a.StoreID,\n",
    "      a.TransactionID,\n",
    "      sum(a.Count) as Counts,\n",
    "      sum(a.Sales) as Total\n",
    "  from\n",
    "      data a\n",
    "  inner join\n",
    "      (select StoreID, TransactionID\n",
    "       from data\n",
    "       where Count=0) b\n",
    "  on\n",
    "      a.StoreID=b.StoreID and a.TransactionID=b.TransactionID\n",
    "  group by\n",
    "      a.StoreID, \n",
    "      a.TransactionID\n",
    "  having\n",
    "      Total>0\n",
    "  '''\n",
    "data50= pysqldf(q)"
   ]
  },
  {
   "cell_type": "code",
   "execution_count": 271,
   "metadata": {
    "collapsed": false
   },
   "outputs": [
    {
     "data": {
      "text/html": [
       "<div>\n",
       "<style>\n",
       "    .dataframe thead tr:only-child th {\n",
       "        text-align: right;\n",
       "    }\n",
       "\n",
       "    .dataframe thead th {\n",
       "        text-align: left;\n",
       "    }\n",
       "\n",
       "    .dataframe tbody tr th {\n",
       "        vertical-align: top;\n",
       "    }\n",
       "</style>\n",
       "<table border=\"1\" class=\"dataframe\">\n",
       "  <thead>\n",
       "    <tr style=\"text-align: right;\">\n",
       "      <th></th>\n",
       "      <th>StoreID</th>\n",
       "      <th>TransactionID</th>\n",
       "      <th>Counts</th>\n",
       "      <th>Total</th>\n",
       "    </tr>\n",
       "  </thead>\n",
       "  <tbody>\n",
       "    <tr>\n",
       "      <th>0</th>\n",
       "      <td>A01</td>\n",
       "      <td>12-7149-00001-00004</td>\n",
       "      <td>12.000</td>\n",
       "      <td>6960.000</td>\n",
       "    </tr>\n",
       "    <tr>\n",
       "      <th>1</th>\n",
       "      <td>A01</td>\n",
       "      <td>12-7149-00001-00005</td>\n",
       "      <td>144.000</td>\n",
       "      <td>331200.000</td>\n",
       "    </tr>\n",
       "    <tr>\n",
       "      <th>2</th>\n",
       "      <td>A01</td>\n",
       "      <td>12-7149-00001-00006</td>\n",
       "      <td>24.000</td>\n",
       "      <td>33420.000</td>\n",
       "    </tr>\n",
       "    <tr>\n",
       "      <th>3</th>\n",
       "      <td>A01</td>\n",
       "      <td>12-7149-00001-00013</td>\n",
       "      <td>20.000</td>\n",
       "      <td>39960.000</td>\n",
       "    </tr>\n",
       "    <tr>\n",
       "      <th>4</th>\n",
       "      <td>A01</td>\n",
       "      <td>12-7149-00001-00016</td>\n",
       "      <td>4.000</td>\n",
       "      <td>6648.000</td>\n",
       "    </tr>\n",
       "  </tbody>\n",
       "</table>\n",
       "</div>"
      ],
      "text/plain": [
       "  StoreID        TransactionID  Counts      Total\n",
       "0     A01  12-7149-00001-00004  12.000   6960.000\n",
       "1     A01  12-7149-00001-00005 144.000 331200.000\n",
       "2     A01  12-7149-00001-00006  24.000  33420.000\n",
       "3     A01  12-7149-00001-00013  20.000  39960.000\n",
       "4     A01  12-7149-00001-00016   4.000   6648.000"
      ]
     },
     "execution_count": 271,
     "metadata": {},
     "output_type": "execute_result"
    }
   ],
   "source": [
    "data50.head()"
   ]
  },
  {
   "cell_type": "code",
   "execution_count": 272,
   "metadata": {
    "collapsed": false
   },
   "outputs": [
    {
     "name": "stdout",
     "output_type": "stream",
     "text": [
      "Average sales per basket for those transactions include discount items is 57989.8061771.\n"
     ]
    }
   ],
   "source": [
    "# Average sales per basket (there are discount items in transactions)\n",
    "avg_rev_discount = data50.Total.sum() / data50.TransactionID.size\n",
    "\n",
    "print 'Average sales per basket for those transactions include discount items is {0}.'.format(avg_rev_discount)"
   ]
  },
  {
   "cell_type": "code",
   "execution_count": 273,
   "metadata": {
    "collapsed": false,
    "scrolled": false
   },
   "outputs": [],
   "source": [
    "# Average sales per basket in different store\n",
    "avg_rev_discount_store = data50.groupby('StoreID').Total.sum() / data50.groupby('StoreID').TransactionID.size()"
   ]
  },
  {
   "cell_type": "code",
   "execution_count": 274,
   "metadata": {
    "collapsed": false
   },
   "outputs": [],
   "source": [
    "# Select transactions which don't have any discount items\n",
    "\n",
    "q = '''\n",
    "    select\n",
    "      t1.StoreID,\n",
    "      t1.TransactionID,\n",
    "      sum(t1.Count) as Counts,\n",
    "      sum(t1.Sales) as Total\n",
    "    from\n",
    "    (select\n",
    "        a.StoreID, a. TransactionID, a.Line, a.Sales, a.Count, a.Date, a.SKU\n",
    "    from \n",
    "        data a\n",
    "    left join\n",
    "        data1 b\n",
    "    on \n",
    "        a.StoreID=b.StoreID and a.TransactionID=b.TransactionID\n",
    "    where\n",
    "        b.StoreID is null) t1\n",
    "    group by\n",
    "      t1.StoreID, \n",
    "      t1.TransactionID\n",
    "    having\n",
    "      Total>0    \n",
    "    '''\n",
    "data51 = pysqldf(q)"
   ]
  },
  {
   "cell_type": "code",
   "execution_count": 275,
   "metadata": {
    "collapsed": false
   },
   "outputs": [
    {
     "data": {
      "text/html": [
       "<div>\n",
       "<style>\n",
       "    .dataframe thead tr:only-child th {\n",
       "        text-align: right;\n",
       "    }\n",
       "\n",
       "    .dataframe thead th {\n",
       "        text-align: left;\n",
       "    }\n",
       "\n",
       "    .dataframe tbody tr th {\n",
       "        vertical-align: top;\n",
       "    }\n",
       "</style>\n",
       "<table border=\"1\" class=\"dataframe\">\n",
       "  <thead>\n",
       "    <tr style=\"text-align: right;\">\n",
       "      <th></th>\n",
       "      <th>StoreID</th>\n",
       "      <th>TransactionID</th>\n",
       "      <th>Counts</th>\n",
       "      <th>Total</th>\n",
       "    </tr>\n",
       "  </thead>\n",
       "  <tbody>\n",
       "    <tr>\n",
       "      <th>0</th>\n",
       "      <td>A01</td>\n",
       "      <td>12-7149-00001-00002</td>\n",
       "      <td>4.000</td>\n",
       "      <td>6645.000</td>\n",
       "    </tr>\n",
       "    <tr>\n",
       "      <th>1</th>\n",
       "      <td>A01</td>\n",
       "      <td>12-7149-00001-00003</td>\n",
       "      <td>1.000</td>\n",
       "      <td>1000.000</td>\n",
       "    </tr>\n",
       "    <tr>\n",
       "      <th>2</th>\n",
       "      <td>A01</td>\n",
       "      <td>12-7149-00001-00007</td>\n",
       "      <td>1.000</td>\n",
       "      <td>3300.000</td>\n",
       "    </tr>\n",
       "    <tr>\n",
       "      <th>3</th>\n",
       "      <td>A01</td>\n",
       "      <td>12-7149-00001-00008</td>\n",
       "      <td>4.000</td>\n",
       "      <td>3871.000</td>\n",
       "    </tr>\n",
       "    <tr>\n",
       "      <th>4</th>\n",
       "      <td>A01</td>\n",
       "      <td>12-7149-00001-00009</td>\n",
       "      <td>7.000</td>\n",
       "      <td>6864.000</td>\n",
       "    </tr>\n",
       "  </tbody>\n",
       "</table>\n",
       "</div>"
      ],
      "text/plain": [
       "  StoreID        TransactionID  Counts    Total\n",
       "0     A01  12-7149-00001-00002   4.000 6645.000\n",
       "1     A01  12-7149-00001-00003   1.000 1000.000\n",
       "2     A01  12-7149-00001-00007   1.000 3300.000\n",
       "3     A01  12-7149-00001-00008   4.000 3871.000\n",
       "4     A01  12-7149-00001-00009   7.000 6864.000"
      ]
     },
     "execution_count": 275,
     "metadata": {},
     "output_type": "execute_result"
    }
   ],
   "source": [
    "data51.head()"
   ]
  },
  {
   "cell_type": "code",
   "execution_count": 276,
   "metadata": {
    "collapsed": false
   },
   "outputs": [
    {
     "data": {
      "text/plain": [
       "61256"
      ]
     },
     "execution_count": 276,
     "metadata": {},
     "output_type": "execute_result"
    }
   ],
   "source": [
    "len(data50.TransactionID.unique())"
   ]
  },
  {
   "cell_type": "code",
   "execution_count": 277,
   "metadata": {
    "collapsed": false
   },
   "outputs": [
    {
     "data": {
      "text/plain": [
       "130606"
      ]
     },
     "execution_count": 277,
     "metadata": {},
     "output_type": "execute_result"
    }
   ],
   "source": [
    "len(data51.TransactionID.unique())"
   ]
  },
  {
   "cell_type": "code",
   "execution_count": 278,
   "metadata": {
    "collapsed": false
   },
   "outputs": [
    {
     "name": "stdout",
     "output_type": "stream",
     "text": [
      "Average sales per basket for those transactions include discount items is 7273.80711912.\n"
     ]
    }
   ],
   "source": [
    "# Average sales per basket (there aren't any discount items in transactions)\n",
    "avg_rev_discount1 = data51.Total.sum() / data51.TransactionID.size\n",
    "\n",
    "print 'Average sales per basket for those transactions include discount items is {0}.'.format(avg_rev_discount1)"
   ]
  },
  {
   "cell_type": "code",
   "execution_count": 279,
   "metadata": {
    "collapsed": true
   },
   "outputs": [],
   "source": [
    "# Average sales per basket without discount items in different store\n",
    "avg_rev_discount_store1 = data51.groupby('StoreID').Total.sum() / data51.groupby('StoreID').TransactionID.size()"
   ]
  },
  {
   "cell_type": "code",
   "execution_count": 280,
   "metadata": {
    "collapsed": true
   },
   "outputs": [],
   "source": [
    "# Visualization\n",
    "import matplotlib.pyplot as plt\n",
    "import numpy as np\n",
    "%matplotlib inline"
   ]
  },
  {
   "cell_type": "code",
   "execution_count": 286,
   "metadata": {
    "collapsed": false
   },
   "outputs": [
    {
     "data": {
      "image/png": "[encoded data removed]",
      "text/plain": [
       "<matplotlib.figure.Figure at 0x17f836810>"
      ]
     },
     "metadata": {},
     "output_type": "display_data"
    }
   ],
   "source": [
    "fig, ax = plt.subplots(figsize=(8,5))\n",
    "x=np.arange(2)\n",
    "width=0.1\n",
    "rects1 = ax.bar(x,[avg_rev_discount1,avg_rev_discount])\n",
    "ax.set_ylabel('Average Revenue Per Basket')\n",
    "ax.set_ylim(0,70000)\n",
    "ax.set_title('Will Discount Items Drive Up Average Revenue?')\n",
    "ax.set_xticks(x+width/2 )\n",
    "ax.set_xticklabels(('without discount','with discount'))\n",
    "#annotate\n",
    "def autolabel(rects):\n",
    "    for rect in rects:\n",
    "        height=rect.get_height()\n",
    "        ax.text(rect.get_x()+rect.get_width()/2, 1.035*height, '{:.2f}$'.format(height), ha='center', va='bottom')\n",
    "autolabel(rects1)"
   ]
  },
  {
   "cell_type": "code",
   "execution_count": 287,
   "metadata": {
    "collapsed": false
   },
   "outputs": [
    {
     "data": {
      "text/plain": [
       "<matplotlib.legend.Legend at 0x1350caa50>"
      ]
     },
     "execution_count": 287,
     "metadata": {},
     "output_type": "execute_result"
    },
    {
     "data": {
      "image/png": "[encoded data removed]",
      "text/plain": [
       "<matplotlib.figure.Figure at 0x13d524050>"
      ]
     },
     "metadata": {},
     "output_type": "display_data"
    }
   ],
   "source": [
    "# Visualize average sales per basket in different store\n",
    "fig, ax = plt.subplots(figsize=(20,10))\n",
    "x = np.arange(len(avg_rev_discount_store))\n",
    "width=0.5\n",
    "rects1 = ax.bar(x,avg_rev_discount_store,width=(x[1]-x[0])*0.8)\n",
    "ax.set_ylabel('Average Revenue Per Basket')\n",
    "ax.set_ylim(0,175000)\n",
    "ax.set_xlabel('Store')\n",
    "ax.set_title('Will Discount Items Drive Up Average Revenue in Each Store?')\n",
    "\n",
    "rects2 = ax.bar(x,avg_rev_discount_store1)\n",
    "\n",
    "ax.legend((rects1[0],rects2[0]),('With Discount','Without Discount'))"
   ]
  },
  {
   "cell_type": "markdown",
   "metadata": {},
   "source": [
    "### According to above plots, we can conclude that discount items will drive up average sales per basket."
   ]
  },
  {
   "cell_type": "markdown",
   "metadata": {},
   "source": [
    "<br><br>"
   ]
  },
  {
   "cell_type": "markdown",
   "metadata": {},
   "source": [
    "### Price Elasticity of Demand <a name='10' />\n",
    "#### Percent change in demand / Percnet change in price"
   ]
  },
  {
   "cell_type": "code",
   "execution_count": 308,
   "metadata": {
    "collapsed": false
   },
   "outputs": [
    {
     "data": {
      "text/html": [
       "<div>\n",
       "<style>\n",
       "    .dataframe thead tr:only-child th {\n",
       "        text-align: right;\n",
       "    }\n",
       "\n",
       "    .dataframe thead th {\n",
       "        text-align: left;\n",
       "    }\n",
       "\n",
       "    .dataframe tbody tr th {\n",
       "        vertical-align: top;\n",
       "    }\n",
       "</style>\n",
       "<table border=\"1\" class=\"dataframe\">\n",
       "  <thead>\n",
       "    <tr style=\"text-align: right;\">\n",
       "      <th></th>\n",
       "      <th>StoreID</th>\n",
       "      <th>TransactionID</th>\n",
       "      <th>Line</th>\n",
       "      <th>Sales</th>\n",
       "      <th>Count</th>\n",
       "      <th>Date</th>\n",
       "      <th>SKU</th>\n",
       "    </tr>\n",
       "  </thead>\n",
       "  <tbody>\n",
       "    <tr>\n",
       "      <th>0</th>\n",
       "      <td>A29</td>\n",
       "      <td>11-7270-00007-00057</td>\n",
       "      <td>36</td>\n",
       "      <td>850.000</td>\n",
       "      <td>1.000</td>\n",
       "      <td>3/11/12 00:00</td>\n",
       "      <td>A21773</td>\n",
       "    </tr>\n",
       "    <tr>\n",
       "      <th>1</th>\n",
       "      <td>A29</td>\n",
       "      <td>11-7270-00007-00057</td>\n",
       "      <td>39</td>\n",
       "      <td>1500.000</td>\n",
       "      <td>1.000</td>\n",
       "      <td>3/11/12 00:00</td>\n",
       "      <td>A18009</td>\n",
       "    </tr>\n",
       "    <tr>\n",
       "      <th>2</th>\n",
       "      <td>A29</td>\n",
       "      <td>11-7270-00007-00057</td>\n",
       "      <td>40</td>\n",
       "      <td>1500.000</td>\n",
       "      <td>1.000</td>\n",
       "      <td>3/11/12 00:00</td>\n",
       "      <td>A25592</td>\n",
       "    </tr>\n",
       "    <tr>\n",
       "      <th>3</th>\n",
       "      <td>A29</td>\n",
       "      <td>11-7270-00007-00057</td>\n",
       "      <td>41</td>\n",
       "      <td>1600.000</td>\n",
       "      <td>1.000</td>\n",
       "      <td>3/11/12 00:00</td>\n",
       "      <td>A1449</td>\n",
       "    </tr>\n",
       "    <tr>\n",
       "      <th>4</th>\n",
       "      <td>A29</td>\n",
       "      <td>11-7270-00007-00057</td>\n",
       "      <td>42</td>\n",
       "      <td>1600.000</td>\n",
       "      <td>1.000</td>\n",
       "      <td>3/11/12 00:00</td>\n",
       "      <td>A1449</td>\n",
       "    </tr>\n",
       "  </tbody>\n",
       "</table>\n",
       "</div>"
      ],
      "text/plain": [
       "  StoreID        TransactionID  Line    Sales  Count           Date     SKU\n",
       "0     A29  11-7270-00007-00057    36  850.000  1.000  3/11/12 00:00  A21773\n",
       "1     A29  11-7270-00007-00057    39 1500.000  1.000  3/11/12 00:00  A18009\n",
       "2     A29  11-7270-00007-00057    40 1500.000  1.000  3/11/12 00:00  A25592\n",
       "3     A29  11-7270-00007-00057    41 1600.000  1.000  3/11/12 00:00   A1449\n",
       "4     A29  11-7270-00007-00057    42 1600.000  1.000  3/11/12 00:00   A1449"
      ]
     },
     "execution_count": 308,
     "metadata": {},
     "output_type": "execute_result"
    }
   ],
   "source": [
    "data.head()"
   ]
  },
  {
   "cell_type": "code",
   "execution_count": 288,
   "metadata": {
    "collapsed": false
   },
   "outputs": [
    {
     "data": {
      "text/plain": [
       "3/12/12 00:00    161257\n",
       "3/11/12 00:00     10191\n",
       "Name: Date, dtype: int64"
      ]
     },
     "execution_count": 288,
     "metadata": {},
     "output_type": "execute_result"
    }
   ],
   "source": [
    "data_count0.Date.value_counts()"
   ]
  },
  {
   "cell_type": "code",
   "execution_count": 289,
   "metadata": {
    "collapsed": false
   },
   "outputs": [
    {
     "data": {
      "text/html": [
       "<div>\n",
       "<style>\n",
       "    .dataframe thead tr:only-child th {\n",
       "        text-align: right;\n",
       "    }\n",
       "\n",
       "    .dataframe thead th {\n",
       "        text-align: left;\n",
       "    }\n",
       "\n",
       "    .dataframe tbody tr th {\n",
       "        vertical-align: top;\n",
       "    }\n",
       "</style>\n",
       "<table border=\"1\" class=\"dataframe\">\n",
       "  <thead>\n",
       "    <tr style=\"text-align: right;\">\n",
       "      <th></th>\n",
       "      <th>StoreID</th>\n",
       "      <th>TransactionID</th>\n",
       "      <th>Line</th>\n",
       "      <th>Sales</th>\n",
       "      <th>Count</th>\n",
       "      <th>Date</th>\n",
       "      <th>SKU</th>\n",
       "    </tr>\n",
       "  </thead>\n",
       "  <tbody>\n",
       "    <tr>\n",
       "      <th>12</th>\n",
       "      <td>A29</td>\n",
       "      <td>11-7270-00007-00057</td>\n",
       "      <td>63</td>\n",
       "      <td>-786.000</td>\n",
       "      <td>0.000</td>\n",
       "      <td>3/11/12 00:00</td>\n",
       "      <td>A256</td>\n",
       "    </tr>\n",
       "    <tr>\n",
       "      <th>14</th>\n",
       "      <td>A29</td>\n",
       "      <td>11-7270-00007-00057</td>\n",
       "      <td>65</td>\n",
       "      <td>-770.000</td>\n",
       "      <td>0.000</td>\n",
       "      <td>3/11/12 00:00</td>\n",
       "      <td>A8481</td>\n",
       "    </tr>\n",
       "    <tr>\n",
       "      <th>20</th>\n",
       "      <td>A29</td>\n",
       "      <td>11-7270-00007-00057</td>\n",
       "      <td>75</td>\n",
       "      <td>-500.000</td>\n",
       "      <td>0.000</td>\n",
       "      <td>3/11/12 00:00</td>\n",
       "      <td>A2341</td>\n",
       "    </tr>\n",
       "    <tr>\n",
       "      <th>34</th>\n",
       "      <td>A29</td>\n",
       "      <td>11-7270-00007-00059</td>\n",
       "      <td>3</td>\n",
       "      <td>-800.000</td>\n",
       "      <td>0.000</td>\n",
       "      <td>3/11/12 00:00</td>\n",
       "      <td>A24593</td>\n",
       "    </tr>\n",
       "    <tr>\n",
       "      <th>39</th>\n",
       "      <td>A29</td>\n",
       "      <td>11-7270-00007-00060</td>\n",
       "      <td>9</td>\n",
       "      <td>-475.000</td>\n",
       "      <td>0.000</td>\n",
       "      <td>3/11/12 00:00</td>\n",
       "      <td>A15257</td>\n",
       "    </tr>\n",
       "  </tbody>\n",
       "</table>\n",
       "</div>"
      ],
      "text/plain": [
       "   StoreID        TransactionID  Line    Sales  Count           Date     SKU\n",
       "12     A29  11-7270-00007-00057    63 -786.000  0.000  3/11/12 00:00    A256\n",
       "14     A29  11-7270-00007-00057    65 -770.000  0.000  3/11/12 00:00   A8481\n",
       "20     A29  11-7270-00007-00057    75 -500.000  0.000  3/11/12 00:00   A2341\n",
       "34     A29  11-7270-00007-00059     3 -800.000  0.000  3/11/12 00:00  A24593\n",
       "39     A29  11-7270-00007-00060     9 -475.000  0.000  3/11/12 00:00  A15257"
      ]
     },
     "execution_count": 289,
     "metadata": {},
     "output_type": "execute_result"
    }
   ],
   "source": [
    "data_count0.head()"
   ]
  },
  {
   "cell_type": "code",
   "execution_count": 349,
   "metadata": {
    "collapsed": false
   },
   "outputs": [
    {
     "data": {
      "text/html": [
       "<div>\n",
       "<style>\n",
       "    .dataframe thead tr:only-child th {\n",
       "        text-align: right;\n",
       "    }\n",
       "\n",
       "    .dataframe thead th {\n",
       "        text-align: left;\n",
       "    }\n",
       "\n",
       "    .dataframe tbody tr th {\n",
       "        vertical-align: top;\n",
       "    }\n",
       "</style>\n",
       "<table border=\"1\" class=\"dataframe\">\n",
       "  <thead>\n",
       "    <tr style=\"text-align: right;\">\n",
       "      <th></th>\n",
       "      <th>StoreID</th>\n",
       "      <th>TransactionID</th>\n",
       "      <th>Line</th>\n",
       "      <th>Sales</th>\n",
       "      <th>Count</th>\n",
       "      <th>Date</th>\n",
       "      <th>SKU</th>\n",
       "    </tr>\n",
       "  </thead>\n",
       "  <tbody>\n",
       "    <tr>\n",
       "      <th>19</th>\n",
       "      <td>A29</td>\n",
       "      <td>11-7270-00007-00057</td>\n",
       "      <td>74</td>\n",
       "      <td>1000.000</td>\n",
       "      <td>1.000</td>\n",
       "      <td>3/11/12 00:00</td>\n",
       "      <td>A2341</td>\n",
       "    </tr>\n",
       "    <tr>\n",
       "      <th>20</th>\n",
       "      <td>A29</td>\n",
       "      <td>11-7270-00007-00057</td>\n",
       "      <td>75</td>\n",
       "      <td>-500.000</td>\n",
       "      <td>0.000</td>\n",
       "      <td>3/11/12 00:00</td>\n",
       "      <td>A2341</td>\n",
       "    </tr>\n",
       "    <tr>\n",
       "      <th>191</th>\n",
       "      <td>A29</td>\n",
       "      <td>11-7270-00008-00378</td>\n",
       "      <td>17</td>\n",
       "      <td>1000.000</td>\n",
       "      <td>1.000</td>\n",
       "      <td>3/11/12 00:00</td>\n",
       "      <td>A2341</td>\n",
       "    </tr>\n",
       "    <tr>\n",
       "      <th>192</th>\n",
       "      <td>A29</td>\n",
       "      <td>11-7270-00008-00378</td>\n",
       "      <td>18</td>\n",
       "      <td>-500.000</td>\n",
       "      <td>0.000</td>\n",
       "      <td>3/11/12 00:00</td>\n",
       "      <td>A2341</td>\n",
       "    </tr>\n",
       "    <tr>\n",
       "      <th>635</th>\n",
       "      <td>A29</td>\n",
       "      <td>11-7270-00007-00090</td>\n",
       "      <td>20</td>\n",
       "      <td>1000.000</td>\n",
       "      <td>1.000</td>\n",
       "      <td>3/11/12 00:00</td>\n",
       "      <td>A2341</td>\n",
       "    </tr>\n",
       "  </tbody>\n",
       "</table>\n",
       "</div>"
      ],
      "text/plain": [
       "    StoreID        TransactionID  Line    Sales  Count           Date    SKU\n",
       "19      A29  11-7270-00007-00057    74 1000.000  1.000  3/11/12 00:00  A2341\n",
       "20      A29  11-7270-00007-00057    75 -500.000  0.000  3/11/12 00:00  A2341\n",
       "191     A29  11-7270-00008-00378    17 1000.000  1.000  3/11/12 00:00  A2341\n",
       "192     A29  11-7270-00008-00378    18 -500.000  0.000  3/11/12 00:00  A2341\n",
       "635     A29  11-7270-00007-00090    20 1000.000  1.000  3/11/12 00:00  A2341"
      ]
     },
     "execution_count": 349,
     "metadata": {},
     "output_type": "execute_result"
    }
   ],
   "source": [
    "# There are discounts only on 3/11/12 for the item A2341 \n",
    "data[(data['StoreID']=='A29')&(data['SKU']=='A2341')].head()"
   ]
  },
  {
   "cell_type": "code",
   "execution_count": 304,
   "metadata": {
    "collapsed": false
   },
   "outputs": [
    {
     "name": "stdout",
     "output_type": "stream",
     "text": [
      "81\n",
      "39\n",
      "0\n"
     ]
    }
   ],
   "source": [
    "print len(data[(data['StoreID']=='A29')&(data['SKU']=='A2341')&(data['Date']=='3/11/12 00:00')&(data['Count']==0)])\n",
    "print len(data[(data['StoreID']=='A29')&(data['SKU']=='A2341')&(data['Date']=='3/12/12 00:00')&(data['Count']==1)])\n",
    "print len(data[(data['StoreID']=='A29')&(data['SKU']=='A2341')&(data['Date']=='3/12/12 00:00')&(data['Count']==0)])"
   ]
  },
  {
   "cell_type": "markdown",
   "metadata": {},
   "source": [
    "### For Store A29 and SKU A2341:\n",
    "### Price on 3/11/12 is 600\\$/item, price on 3/12/12 is 1100\\$/item, percent change in price: 500/600=83.3%\n",
    "### Demand on 3/11/12 is 81 items, demand on 3/12/12 is 39 items, percent change in demand: 42/81=51.85%\n",
    "### Elasticity of Demand is: 51/85% / 83.3% = 0.62, which means that item A2341 in store A29 is inelastic."
   ]
  },
  {
   "cell_type": "code",
   "execution_count": 299,
   "metadata": {
    "collapsed": false
   },
   "outputs": [
    {
     "data": {
      "text/html": [
       "<div>\n",
       "<style>\n",
       "    .dataframe thead tr:only-child th {\n",
       "        text-align: right;\n",
       "    }\n",
       "\n",
       "    .dataframe thead th {\n",
       "        text-align: left;\n",
       "    }\n",
       "\n",
       "    .dataframe tbody tr th {\n",
       "        vertical-align: top;\n",
       "    }\n",
       "</style>\n",
       "<table border=\"1\" class=\"dataframe\">\n",
       "  <thead>\n",
       "    <tr style=\"text-align: right;\">\n",
       "      <th></th>\n",
       "      <th>StoreID</th>\n",
       "      <th>TransactionID</th>\n",
       "      <th>Line</th>\n",
       "      <th>Sales</th>\n",
       "      <th>Count</th>\n",
       "      <th>Date</th>\n",
       "      <th>SKU</th>\n",
       "    </tr>\n",
       "  </thead>\n",
       "  <tbody>\n",
       "    <tr>\n",
       "      <th>33</th>\n",
       "      <td>A29</td>\n",
       "      <td>11-7270-00007-00059</td>\n",
       "      <td>2</td>\n",
       "      <td>2095.000</td>\n",
       "      <td>1.000</td>\n",
       "      <td>3/11/12 00:00</td>\n",
       "      <td>A24593</td>\n",
       "    </tr>\n",
       "    <tr>\n",
       "      <th>34</th>\n",
       "      <td>A29</td>\n",
       "      <td>11-7270-00007-00059</td>\n",
       "      <td>3</td>\n",
       "      <td>-800.000</td>\n",
       "      <td>0.000</td>\n",
       "      <td>3/11/12 00:00</td>\n",
       "      <td>A24593</td>\n",
       "    </tr>\n",
       "    <tr>\n",
       "      <th>2998</th>\n",
       "      <td>A29</td>\n",
       "      <td>11-7270-00007-00197</td>\n",
       "      <td>52</td>\n",
       "      <td>2095.000</td>\n",
       "      <td>1.000</td>\n",
       "      <td>3/11/12 00:00</td>\n",
       "      <td>A24593</td>\n",
       "    </tr>\n",
       "    <tr>\n",
       "      <th>2999</th>\n",
       "      <td>A29</td>\n",
       "      <td>11-7270-00007-00197</td>\n",
       "      <td>53</td>\n",
       "      <td>-800.000</td>\n",
       "      <td>0.000</td>\n",
       "      <td>3/11/12 00:00</td>\n",
       "      <td>A24593</td>\n",
       "    </tr>\n",
       "    <tr>\n",
       "      <th>400255</th>\n",
       "      <td>A29</td>\n",
       "      <td>12-7271-00006-00221</td>\n",
       "      <td>22</td>\n",
       "      <td>2095.000</td>\n",
       "      <td>1.000</td>\n",
       "      <td>3/12/12 00:00</td>\n",
       "      <td>A24593</td>\n",
       "    </tr>\n",
       "    <tr>\n",
       "      <th>400256</th>\n",
       "      <td>A29</td>\n",
       "      <td>12-7271-00006-00221</td>\n",
       "      <td>23</td>\n",
       "      <td>-800.000</td>\n",
       "      <td>0.000</td>\n",
       "      <td>3/12/12 00:00</td>\n",
       "      <td>A24593</td>\n",
       "    </tr>\n",
       "    <tr>\n",
       "      <th>405593</th>\n",
       "      <td>A29</td>\n",
       "      <td>12-7271-00007-00159</td>\n",
       "      <td>32</td>\n",
       "      <td>2095.000</td>\n",
       "      <td>1.000</td>\n",
       "      <td>3/12/12 00:00</td>\n",
       "      <td>A24593</td>\n",
       "    </tr>\n",
       "    <tr>\n",
       "      <th>405594</th>\n",
       "      <td>A29</td>\n",
       "      <td>12-7271-00007-00159</td>\n",
       "      <td>33</td>\n",
       "      <td>-800.000</td>\n",
       "      <td>0.000</td>\n",
       "      <td>3/12/12 00:00</td>\n",
       "      <td>A24593</td>\n",
       "    </tr>\n",
       "    <tr>\n",
       "      <th>406359</th>\n",
       "      <td>A29</td>\n",
       "      <td>12-7271-00005-00199</td>\n",
       "      <td>12</td>\n",
       "      <td>2095.000</td>\n",
       "      <td>1.000</td>\n",
       "      <td>3/12/12 00:00</td>\n",
       "      <td>A24593</td>\n",
       "    </tr>\n",
       "    <tr>\n",
       "      <th>406360</th>\n",
       "      <td>A29</td>\n",
       "      <td>12-7271-00005-00199</td>\n",
       "      <td>13</td>\n",
       "      <td>-791.000</td>\n",
       "      <td>0.000</td>\n",
       "      <td>3/12/12 00:00</td>\n",
       "      <td>A24593</td>\n",
       "    </tr>\n",
       "  </tbody>\n",
       "</table>\n",
       "</div>"
      ],
      "text/plain": [
       "       StoreID        TransactionID  Line    Sales  Count           Date  \\\n",
       "33         A29  11-7270-00007-00059     2 2095.000  1.000  3/11/12 00:00   \n",
       "34         A29  11-7270-00007-00059     3 -800.000  0.000  3/11/12 00:00   \n",
       "2998       A29  11-7270-00007-00197    52 2095.000  1.000  3/11/12 00:00   \n",
       "2999       A29  11-7270-00007-00197    53 -800.000  0.000  3/11/12 00:00   \n",
       "400255     A29  12-7271-00006-00221    22 2095.000  1.000  3/12/12 00:00   \n",
       "400256     A29  12-7271-00006-00221    23 -800.000  0.000  3/12/12 00:00   \n",
       "405593     A29  12-7271-00007-00159    32 2095.000  1.000  3/12/12 00:00   \n",
       "405594     A29  12-7271-00007-00159    33 -800.000  0.000  3/12/12 00:00   \n",
       "406359     A29  12-7271-00005-00199    12 2095.000  1.000  3/12/12 00:00   \n",
       "406360     A29  12-7271-00005-00199    13 -791.000  0.000  3/12/12 00:00   \n",
       "\n",
       "           SKU  \n",
       "33      A24593  \n",
       "34      A24593  \n",
       "2998    A24593  \n",
       "2999    A24593  \n",
       "400255  A24593  \n",
       "400256  A24593  \n",
       "405593  A24593  \n",
       "405594  A24593  \n",
       "406359  A24593  \n",
       "406360  A24593  "
      ]
     },
     "execution_count": 299,
     "metadata": {},
     "output_type": "execute_result"
    }
   ],
   "source": [
    "# There are discounts on 3/11/12 and 3/12/12 for the item A24593 \n",
    "data[(data['StoreID']=='A29')&(data['SKU']=='A24593')]"
   ]
  },
  {
   "cell_type": "code",
   "execution_count": 300,
   "metadata": {
    "collapsed": false
   },
   "outputs": [
    {
     "name": "stdout",
     "output_type": "stream",
     "text": [
      "2\n",
      "3\n"
     ]
    }
   ],
   "source": [
    "print len(data[(data['StoreID']=='A29')&(data['SKU']=='A24593')&(data['Date']=='3/11/12 00:00')&(data['Count']==0)])\n",
    "print len(data[(data['StoreID']=='A29')&(data['SKU']=='A24593')&(data['Date']=='3/12/12 00:00')&(data['Count']==0)])"
   ]
  },
  {
   "cell_type": "code",
   "execution_count": 385,
   "metadata": {
    "collapsed": false
   },
   "outputs": [],
   "source": [
    "# Select StoreID and SKU where it have discount on both date\n",
    "q='''\n",
    "  select\n",
    "       a.StoreID, a.TransactionID, a.Line, a.Sales, a.Count, a.Date, a.SKU\n",
    "  from\n",
    "      (select * from data_count0 where Date='3/11/12 00:00') a\n",
    "  join\n",
    "      (select * from data_count0 where Date='3/12/12 00:00') b\n",
    "  on \n",
    "      a.StoreID=b.StoreID and a.SKU=b.SKU\n",
    "      \n",
    "  '''\n",
    "data60= pysqldf(q)"
   ]
  },
  {
   "cell_type": "code",
   "execution_count": null,
   "metadata": {
    "collapsed": true
   },
   "outputs": [],
   "source": []
  },
  {
   "cell_type": "code",
   "execution_count": 386,
   "metadata": {
    "collapsed": false
   },
   "outputs": [],
   "source": [
    "# Select storeID and SKU which have discount only on 1 date\n",
    "q = '''\n",
    "    select\n",
    "       a.StoreID, a.TransactionID, a.Line, a.Sales, a.Count, a.Date, a.SKU\n",
    "  from\n",
    "      data_count0 a\n",
    "  left join\n",
    "      data60 b\n",
    "  on \n",
    "      a.StoreID=b.StoreID and a.SKU=b.SKU\n",
    "  where \n",
    "      b.StoreID is null\n",
    "    '''\n",
    "data61= pysqldf(q)"
   ]
  },
  {
   "cell_type": "code",
   "execution_count": 356,
   "metadata": {
    "collapsed": false
   },
   "outputs": [
    {
     "data": {
      "text/html": [
       "<div>\n",
       "<style>\n",
       "    .dataframe thead tr:only-child th {\n",
       "        text-align: right;\n",
       "    }\n",
       "\n",
       "    .dataframe thead th {\n",
       "        text-align: left;\n",
       "    }\n",
       "\n",
       "    .dataframe tbody tr th {\n",
       "        vertical-align: top;\n",
       "    }\n",
       "</style>\n",
       "<table border=\"1\" class=\"dataframe\">\n",
       "  <thead>\n",
       "    <tr style=\"text-align: right;\">\n",
       "      <th></th>\n",
       "      <th>StoreID</th>\n",
       "      <th>TransactionID</th>\n",
       "      <th>Line</th>\n",
       "      <th>Sales</th>\n",
       "      <th>Count</th>\n",
       "      <th>Date</th>\n",
       "      <th>SKU</th>\n",
       "    </tr>\n",
       "  </thead>\n",
       "  <tbody>\n",
       "    <tr>\n",
       "      <th>0</th>\n",
       "      <td>A29</td>\n",
       "      <td>11-7270-00007-00057</td>\n",
       "      <td>75</td>\n",
       "      <td>-500.000</td>\n",
       "      <td>0.000</td>\n",
       "      <td>3/11/12 00:00</td>\n",
       "      <td>A2341</td>\n",
       "    </tr>\n",
       "    <tr>\n",
       "      <th>1</th>\n",
       "      <td>A29</td>\n",
       "      <td>11-7270-00007-00060</td>\n",
       "      <td>9</td>\n",
       "      <td>-475.000</td>\n",
       "      <td>0.000</td>\n",
       "      <td>3/11/12 00:00</td>\n",
       "      <td>A15257</td>\n",
       "    </tr>\n",
       "    <tr>\n",
       "      <th>2</th>\n",
       "      <td>A29</td>\n",
       "      <td>11-7270-00007-00060</td>\n",
       "      <td>11</td>\n",
       "      <td>-475.000</td>\n",
       "      <td>0.000</td>\n",
       "      <td>3/11/12 00:00</td>\n",
       "      <td>A15257</td>\n",
       "    </tr>\n",
       "    <tr>\n",
       "      <th>3</th>\n",
       "      <td>A29</td>\n",
       "      <td>11-7270-00007-00060</td>\n",
       "      <td>13</td>\n",
       "      <td>-655.000</td>\n",
       "      <td>0.000</td>\n",
       "      <td>3/11/12 00:00</td>\n",
       "      <td>A7098</td>\n",
       "    </tr>\n",
       "    <tr>\n",
       "      <th>4</th>\n",
       "      <td>A29</td>\n",
       "      <td>11-7270-00007-00060</td>\n",
       "      <td>15</td>\n",
       "      <td>-535.000</td>\n",
       "      <td>0.000</td>\n",
       "      <td>3/11/12 00:00</td>\n",
       "      <td>A6920</td>\n",
       "    </tr>\n",
       "  </tbody>\n",
       "</table>\n",
       "</div>"
      ],
      "text/plain": [
       "  StoreID        TransactionID  Line    Sales  Count           Date     SKU\n",
       "0     A29  11-7270-00007-00057    75 -500.000  0.000  3/11/12 00:00   A2341\n",
       "1     A29  11-7270-00007-00060     9 -475.000  0.000  3/11/12 00:00  A15257\n",
       "2     A29  11-7270-00007-00060    11 -475.000  0.000  3/11/12 00:00  A15257\n",
       "3     A29  11-7270-00007-00060    13 -655.000  0.000  3/11/12 00:00   A7098\n",
       "4     A29  11-7270-00007-00060    15 -535.000  0.000  3/11/12 00:00   A6920"
      ]
     },
     "execution_count": 356,
     "metadata": {},
     "output_type": "execute_result"
    }
   ],
   "source": [
    "data61.head()"
   ]
  },
  {
   "cell_type": "code",
   "execution_count": 388,
   "metadata": {
    "collapsed": false
   },
   "outputs": [],
   "source": [
    "# Select storeID and SKU which have discount only on 1 date\n",
    "q = '''\n",
    "    select\n",
    "       a.StoreID, a.TransactionID, a.Line, a.Sales, a.Count, a.Date, a.SKU\n",
    "  from\n",
    "      data a\n",
    "  join\n",
    "     (select distinct StoreID, SKU from data61) b\n",
    "  on \n",
    "      a.StoreID=b.StoreID and a.SKU=b.SKU\n",
    "  order by\n",
    "      a.StoreID, a.SKU\n",
    "    '''\n",
    "data62= pysqldf(q)"
   ]
  },
  {
   "cell_type": "code",
   "execution_count": 389,
   "metadata": {
    "collapsed": false
   },
   "outputs": [
    {
     "data": {
      "text/html": [
       "<div>\n",
       "<style>\n",
       "    .dataframe thead tr:only-child th {\n",
       "        text-align: right;\n",
       "    }\n",
       "\n",
       "    .dataframe thead th {\n",
       "        text-align: left;\n",
       "    }\n",
       "\n",
       "    .dataframe tbody tr th {\n",
       "        vertical-align: top;\n",
       "    }\n",
       "</style>\n",
       "<table border=\"1\" class=\"dataframe\">\n",
       "  <thead>\n",
       "    <tr style=\"text-align: right;\">\n",
       "      <th></th>\n",
       "      <th>StoreID</th>\n",
       "      <th>TransactionID</th>\n",
       "      <th>Line</th>\n",
       "      <th>Sales</th>\n",
       "      <th>Count</th>\n",
       "      <th>Date</th>\n",
       "      <th>SKU</th>\n",
       "    </tr>\n",
       "  </thead>\n",
       "  <tbody>\n",
       "    <tr>\n",
       "      <th>0</th>\n",
       "      <td>A01</td>\n",
       "      <td>12-7149-00002-00679</td>\n",
       "      <td>6</td>\n",
       "      <td>2095.000</td>\n",
       "      <td>1.000</td>\n",
       "      <td>3/12/12 00:00</td>\n",
       "      <td>A10074</td>\n",
       "    </tr>\n",
       "    <tr>\n",
       "      <th>1</th>\n",
       "      <td>A01</td>\n",
       "      <td>12-7149-00002-00679</td>\n",
       "      <td>7</td>\n",
       "      <td>-357.000</td>\n",
       "      <td>0.000</td>\n",
       "      <td>3/12/12 00:00</td>\n",
       "      <td>A10074</td>\n",
       "    </tr>\n",
       "    <tr>\n",
       "      <th>2</th>\n",
       "      <td>A01</td>\n",
       "      <td>12-7149-00003-00011</td>\n",
       "      <td>11</td>\n",
       "      <td>2095.000</td>\n",
       "      <td>1.000</td>\n",
       "      <td>3/12/12 00:00</td>\n",
       "      <td>A10074</td>\n",
       "    </tr>\n",
       "    <tr>\n",
       "      <th>3</th>\n",
       "      <td>A01</td>\n",
       "      <td>12-7149-00003-00011</td>\n",
       "      <td>12</td>\n",
       "      <td>-436.000</td>\n",
       "      <td>0.000</td>\n",
       "      <td>3/12/12 00:00</td>\n",
       "      <td>A10074</td>\n",
       "    </tr>\n",
       "    <tr>\n",
       "      <th>4</th>\n",
       "      <td>A01</td>\n",
       "      <td>12-7149-00002-00234</td>\n",
       "      <td>1</td>\n",
       "      <td>2095.000</td>\n",
       "      <td>1.000</td>\n",
       "      <td>3/12/12 00:00</td>\n",
       "      <td>A1009</td>\n",
       "    </tr>\n",
       "    <tr>\n",
       "      <th>5</th>\n",
       "      <td>A01</td>\n",
       "      <td>12-7149-00002-00234</td>\n",
       "      <td>2</td>\n",
       "      <td>-695.000</td>\n",
       "      <td>0.000</td>\n",
       "      <td>3/12/12 00:00</td>\n",
       "      <td>A1009</td>\n",
       "    </tr>\n",
       "    <tr>\n",
       "      <th>6</th>\n",
       "      <td>A01</td>\n",
       "      <td>12-7149-00002-00234</td>\n",
       "      <td>3</td>\n",
       "      <td>2095.000</td>\n",
       "      <td>1.000</td>\n",
       "      <td>3/12/12 00:00</td>\n",
       "      <td>A1009</td>\n",
       "    </tr>\n",
       "    <tr>\n",
       "      <th>7</th>\n",
       "      <td>A01</td>\n",
       "      <td>12-7149-00002-00234</td>\n",
       "      <td>4</td>\n",
       "      <td>-695.000</td>\n",
       "      <td>0.000</td>\n",
       "      <td>3/12/12 00:00</td>\n",
       "      <td>A1009</td>\n",
       "    </tr>\n",
       "    <tr>\n",
       "      <th>8</th>\n",
       "      <td>A01</td>\n",
       "      <td>12-7149-00009-00106</td>\n",
       "      <td>3</td>\n",
       "      <td>2243.000</td>\n",
       "      <td>1.000</td>\n",
       "      <td>3/12/12 00:00</td>\n",
       "      <td>A10142</td>\n",
       "    </tr>\n",
       "    <tr>\n",
       "      <th>9</th>\n",
       "      <td>A01</td>\n",
       "      <td>12-7149-00009-00106</td>\n",
       "      <td>4</td>\n",
       "      <td>-493.000</td>\n",
       "      <td>0.000</td>\n",
       "      <td>3/12/12 00:00</td>\n",
       "      <td>A10142</td>\n",
       "    </tr>\n",
       "    <tr>\n",
       "      <th>10</th>\n",
       "      <td>A01</td>\n",
       "      <td>12-7149-00002-00053</td>\n",
       "      <td>39</td>\n",
       "      <td>2243.000</td>\n",
       "      <td>1.000</td>\n",
       "      <td>3/12/12 00:00</td>\n",
       "      <td>A10142</td>\n",
       "    </tr>\n",
       "    <tr>\n",
       "      <th>11</th>\n",
       "      <td>A01</td>\n",
       "      <td>12-7149-00002-00053</td>\n",
       "      <td>40</td>\n",
       "      <td>-493.000</td>\n",
       "      <td>0.000</td>\n",
       "      <td>3/12/12 00:00</td>\n",
       "      <td>A10142</td>\n",
       "    </tr>\n",
       "    <tr>\n",
       "      <th>12</th>\n",
       "      <td>A01</td>\n",
       "      <td>12-7149-00002-00053</td>\n",
       "      <td>41</td>\n",
       "      <td>2243.000</td>\n",
       "      <td>1.000</td>\n",
       "      <td>3/12/12 00:00</td>\n",
       "      <td>A10142</td>\n",
       "    </tr>\n",
       "    <tr>\n",
       "      <th>13</th>\n",
       "      <td>A01</td>\n",
       "      <td>12-7149-00002-00053</td>\n",
       "      <td>42</td>\n",
       "      <td>-493.000</td>\n",
       "      <td>0.000</td>\n",
       "      <td>3/12/12 00:00</td>\n",
       "      <td>A10142</td>\n",
       "    </tr>\n",
       "    <tr>\n",
       "      <th>14</th>\n",
       "      <td>A01</td>\n",
       "      <td>12-7149-00011-00074</td>\n",
       "      <td>4</td>\n",
       "      <td>2243.000</td>\n",
       "      <td>1.000</td>\n",
       "      <td>3/12/12 00:00</td>\n",
       "      <td>A10142</td>\n",
       "    </tr>\n",
       "  </tbody>\n",
       "</table>\n",
       "</div>"
      ],
      "text/plain": [
       "   StoreID        TransactionID  Line    Sales  Count           Date     SKU\n",
       "0      A01  12-7149-00002-00679     6 2095.000  1.000  3/12/12 00:00  A10074\n",
       "1      A01  12-7149-00002-00679     7 -357.000  0.000  3/12/12 00:00  A10074\n",
       "2      A01  12-7149-00003-00011    11 2095.000  1.000  3/12/12 00:00  A10074\n",
       "3      A01  12-7149-00003-00011    12 -436.000  0.000  3/12/12 00:00  A10074\n",
       "4      A01  12-7149-00002-00234     1 2095.000  1.000  3/12/12 00:00   A1009\n",
       "5      A01  12-7149-00002-00234     2 -695.000  0.000  3/12/12 00:00   A1009\n",
       "6      A01  12-7149-00002-00234     3 2095.000  1.000  3/12/12 00:00   A1009\n",
       "7      A01  12-7149-00002-00234     4 -695.000  0.000  3/12/12 00:00   A1009\n",
       "8      A01  12-7149-00009-00106     3 2243.000  1.000  3/12/12 00:00  A10142\n",
       "9      A01  12-7149-00009-00106     4 -493.000  0.000  3/12/12 00:00  A10142\n",
       "10     A01  12-7149-00002-00053    39 2243.000  1.000  3/12/12 00:00  A10142\n",
       "11     A01  12-7149-00002-00053    40 -493.000  0.000  3/12/12 00:00  A10142\n",
       "12     A01  12-7149-00002-00053    41 2243.000  1.000  3/12/12 00:00  A10142\n",
       "13     A01  12-7149-00002-00053    42 -493.000  0.000  3/12/12 00:00  A10142\n",
       "14     A01  12-7149-00011-00074     4 2243.000  1.000  3/12/12 00:00  A10142"
      ]
     },
     "execution_count": 389,
     "metadata": {},
     "output_type": "execute_result"
    }
   ],
   "source": [
    "data62.head(15)"
   ]
  },
  {
   "cell_type": "code",
   "execution_count": 392,
   "metadata": {
    "collapsed": true
   },
   "outputs": [],
   "source": [
    "# Select Store and SKU which have discount in 3/12 and also have non-discount in 3/11\n",
    "q = '''\n",
    "    select\n",
    "       a.StoreID, a.TransactionID, a.Line, a.Sales, a.Count, a.Date, a.SKU\n",
    "  from\n",
    "      data62 a\n",
    "  join\n",
    "     (select distinct StoreID, SKU from data62 where Date='3/12/12 00:00' ) b\n",
    "  on \n",
    "      a.StoreID=b.StoreID and a.SKU=b.SKU\n",
    "  where \n",
    "      Date='3/11/12 00:00'\n",
    "  order by\n",
    "      a.StoreID, a.SKU\n",
    "    '''\n",
    "data63= pysqldf(q)"
   ]
  },
  {
   "cell_type": "code",
   "execution_count": 393,
   "metadata": {
    "collapsed": false
   },
   "outputs": [
    {
     "data": {
      "text/html": [
       "<div>\n",
       "<style>\n",
       "    .dataframe thead tr:only-child th {\n",
       "        text-align: right;\n",
       "    }\n",
       "\n",
       "    .dataframe thead th {\n",
       "        text-align: left;\n",
       "    }\n",
       "\n",
       "    .dataframe tbody tr th {\n",
       "        vertical-align: top;\n",
       "    }\n",
       "</style>\n",
       "<table border=\"1\" class=\"dataframe\">\n",
       "  <thead>\n",
       "    <tr style=\"text-align: right;\">\n",
       "      <th></th>\n",
       "      <th>StoreID</th>\n",
       "      <th>TransactionID</th>\n",
       "      <th>Line</th>\n",
       "      <th>Sales</th>\n",
       "      <th>Count</th>\n",
       "      <th>Date</th>\n",
       "      <th>SKU</th>\n",
       "    </tr>\n",
       "  </thead>\n",
       "  <tbody>\n",
       "    <tr>\n",
       "      <th>0</th>\n",
       "      <td>A17</td>\n",
       "      <td>11-7720-00017-00036</td>\n",
       "      <td>1</td>\n",
       "      <td>1495.000</td>\n",
       "      <td>1.000</td>\n",
       "      <td>3/11/12 00:00</td>\n",
       "      <td>A12125</td>\n",
       "    </tr>\n",
       "    <tr>\n",
       "      <th>1</th>\n",
       "      <td>A17</td>\n",
       "      <td>11-7720-00016-00003</td>\n",
       "      <td>4</td>\n",
       "      <td>1314.000</td>\n",
       "      <td>1.000</td>\n",
       "      <td>3/11/12 00:00</td>\n",
       "      <td>A16830</td>\n",
       "    </tr>\n",
       "    <tr>\n",
       "      <th>2</th>\n",
       "      <td>A17</td>\n",
       "      <td>11-7720-00017-00120</td>\n",
       "      <td>2</td>\n",
       "      <td>1695.000</td>\n",
       "      <td>1.000</td>\n",
       "      <td>3/11/12 00:00</td>\n",
       "      <td>A18258</td>\n",
       "    </tr>\n",
       "    <tr>\n",
       "      <th>3</th>\n",
       "      <td>A17</td>\n",
       "      <td>11-7720-00017-00097</td>\n",
       "      <td>1</td>\n",
       "      <td>2195.000</td>\n",
       "      <td>1.000</td>\n",
       "      <td>3/11/12 00:00</td>\n",
       "      <td>A19292</td>\n",
       "    </tr>\n",
       "    <tr>\n",
       "      <th>4</th>\n",
       "      <td>A17</td>\n",
       "      <td>11-7720-00017-00104</td>\n",
       "      <td>5</td>\n",
       "      <td>2195.000</td>\n",
       "      <td>1.000</td>\n",
       "      <td>3/11/12 00:00</td>\n",
       "      <td>A19292</td>\n",
       "    </tr>\n",
       "  </tbody>\n",
       "</table>\n",
       "</div>"
      ],
      "text/plain": [
       "  StoreID        TransactionID  Line    Sales  Count           Date     SKU\n",
       "0     A17  11-7720-00017-00036     1 1495.000  1.000  3/11/12 00:00  A12125\n",
       "1     A17  11-7720-00016-00003     4 1314.000  1.000  3/11/12 00:00  A16830\n",
       "2     A17  11-7720-00017-00120     2 1695.000  1.000  3/11/12 00:00  A18258\n",
       "3     A17  11-7720-00017-00097     1 2195.000  1.000  3/11/12 00:00  A19292\n",
       "4     A17  11-7720-00017-00104     5 2195.000  1.000  3/11/12 00:00  A19292"
      ]
     },
     "execution_count": 393,
     "metadata": {},
     "output_type": "execute_result"
    }
   ],
   "source": [
    "data63.head()"
   ]
  },
  {
   "cell_type": "code",
   "execution_count": 394,
   "metadata": {
    "collapsed": true
   },
   "outputs": [],
   "source": [
    "# Select Store and SKU which have discount in 3/12 and also have non-discount in 3/11\n",
    "q = '''\n",
    "    select\n",
    "       a.StoreID, a.TransactionID, a.Line, a.Sales, a.Count, a.Date, a.SKU\n",
    "  from\n",
    "      data62 a\n",
    "  join\n",
    "     (select distinct StoreID, SKU from data63) b\n",
    "  on \n",
    "      a.StoreID=b.StoreID and a.SKU=b.SKU\n",
    "  order by\n",
    "      a.StoreID, a.SKU\n",
    "    '''\n",
    "data64= pysqldf(q)"
   ]
  },
  {
   "cell_type": "code",
   "execution_count": 419,
   "metadata": {
    "collapsed": false
   },
   "outputs": [
    {
     "data": {
      "text/html": [
       "<div>\n",
       "<style>\n",
       "    .dataframe thead tr:only-child th {\n",
       "        text-align: right;\n",
       "    }\n",
       "\n",
       "    .dataframe thead th {\n",
       "        text-align: left;\n",
       "    }\n",
       "\n",
       "    .dataframe tbody tr th {\n",
       "        vertical-align: top;\n",
       "    }\n",
       "</style>\n",
       "<table border=\"1\" class=\"dataframe\">\n",
       "  <thead>\n",
       "    <tr style=\"text-align: right;\">\n",
       "      <th></th>\n",
       "      <th>StoreID</th>\n",
       "      <th>TransactionID</th>\n",
       "      <th>Line</th>\n",
       "      <th>Sales</th>\n",
       "      <th>Count</th>\n",
       "      <th>Date</th>\n",
       "      <th>SKU</th>\n",
       "    </tr>\n",
       "  </thead>\n",
       "  <tbody>\n",
       "    <tr>\n",
       "      <th>0</th>\n",
       "      <td>A17</td>\n",
       "      <td>11-7720-00017-00036</td>\n",
       "      <td>1</td>\n",
       "      <td>1495.000</td>\n",
       "      <td>1.000</td>\n",
       "      <td>3/11/12 00:00</td>\n",
       "      <td>A12125</td>\n",
       "    </tr>\n",
       "    <tr>\n",
       "      <th>1</th>\n",
       "      <td>A17</td>\n",
       "      <td>12-7721-00002-00029</td>\n",
       "      <td>1</td>\n",
       "      <td>5980.000</td>\n",
       "      <td>4.000</td>\n",
       "      <td>3/12/12 00:00</td>\n",
       "      <td>A12125</td>\n",
       "    </tr>\n",
       "    <tr>\n",
       "      <th>2</th>\n",
       "      <td>A17</td>\n",
       "      <td>12-7721-00002-00029</td>\n",
       "      <td>2</td>\n",
       "      <td>-1580.000</td>\n",
       "      <td>0.000</td>\n",
       "      <td>3/12/12 00:00</td>\n",
       "      <td>A12125</td>\n",
       "    </tr>\n",
       "    <tr>\n",
       "      <th>3</th>\n",
       "      <td>A17</td>\n",
       "      <td>12-7721-00001-00125</td>\n",
       "      <td>46</td>\n",
       "      <td>1495.000</td>\n",
       "      <td>1.000</td>\n",
       "      <td>3/12/12 00:00</td>\n",
       "      <td>A12125</td>\n",
       "    </tr>\n",
       "    <tr>\n",
       "      <th>4</th>\n",
       "      <td>A17</td>\n",
       "      <td>12-7721-00001-00125</td>\n",
       "      <td>47</td>\n",
       "      <td>-395.000</td>\n",
       "      <td>0.000</td>\n",
       "      <td>3/12/12 00:00</td>\n",
       "      <td>A12125</td>\n",
       "    </tr>\n",
       "  </tbody>\n",
       "</table>\n",
       "</div>"
      ],
      "text/plain": [
       "  StoreID        TransactionID  Line     Sales  Count           Date     SKU\n",
       "0     A17  11-7720-00017-00036     1  1495.000  1.000  3/11/12 00:00  A12125\n",
       "1     A17  12-7721-00002-00029     1  5980.000  4.000  3/12/12 00:00  A12125\n",
       "2     A17  12-7721-00002-00029     2 -1580.000  0.000  3/12/12 00:00  A12125\n",
       "3     A17  12-7721-00001-00125    46  1495.000  1.000  3/12/12 00:00  A12125\n",
       "4     A17  12-7721-00001-00125    47  -395.000  0.000  3/12/12 00:00  A12125"
      ]
     },
     "execution_count": 419,
     "metadata": {},
     "output_type": "execute_result"
    }
   ],
   "source": [
    "data64.head()"
   ]
  },
  {
   "cell_type": "code",
   "execution_count": 412,
   "metadata": {
    "collapsed": false
   },
   "outputs": [],
   "source": [
    "# Calculate Price and Demand in each date\n",
    "q = '''\n",
    "    select\n",
    "        StoreID,\n",
    "        SKU,\n",
    "        Date,\n",
    "        sum(Sales)/sum(Count) as Price,\n",
    "        sum(Count) as Demand\n",
    "    from \n",
    "        data64\n",
    "    group by\n",
    "        StoreID,\n",
    "        SKU,\n",
    "        Date\n",
    "    '''\n",
    "data65 = pysqldf(q)"
   ]
  },
  {
   "cell_type": "code",
   "execution_count": 413,
   "metadata": {
    "collapsed": false
   },
   "outputs": [
    {
     "data": {
      "text/html": [
       "<div>\n",
       "<style>\n",
       "    .dataframe thead tr:only-child th {\n",
       "        text-align: right;\n",
       "    }\n",
       "\n",
       "    .dataframe thead th {\n",
       "        text-align: left;\n",
       "    }\n",
       "\n",
       "    .dataframe tbody tr th {\n",
       "        vertical-align: top;\n",
       "    }\n",
       "</style>\n",
       "<table border=\"1\" class=\"dataframe\">\n",
       "  <thead>\n",
       "    <tr style=\"text-align: right;\">\n",
       "      <th></th>\n",
       "      <th>StoreID</th>\n",
       "      <th>SKU</th>\n",
       "      <th>Date</th>\n",
       "      <th>Price</th>\n",
       "      <th>Demand</th>\n",
       "    </tr>\n",
       "  </thead>\n",
       "  <tbody>\n",
       "    <tr>\n",
       "      <th>0</th>\n",
       "      <td>A17</td>\n",
       "      <td>A12125</td>\n",
       "      <td>3/11/12 00:00</td>\n",
       "      <td>1495.000</td>\n",
       "      <td>1.000</td>\n",
       "    </tr>\n",
       "    <tr>\n",
       "      <th>1</th>\n",
       "      <td>A17</td>\n",
       "      <td>A12125</td>\n",
       "      <td>3/12/12 00:00</td>\n",
       "      <td>1130.385</td>\n",
       "      <td>13.000</td>\n",
       "    </tr>\n",
       "    <tr>\n",
       "      <th>2</th>\n",
       "      <td>A17</td>\n",
       "      <td>A16830</td>\n",
       "      <td>3/11/12 00:00</td>\n",
       "      <td>1314.000</td>\n",
       "      <td>1.000</td>\n",
       "    </tr>\n",
       "    <tr>\n",
       "      <th>3</th>\n",
       "      <td>A17</td>\n",
       "      <td>A16830</td>\n",
       "      <td>3/12/12 00:00</td>\n",
       "      <td>1200.000</td>\n",
       "      <td>2.000</td>\n",
       "    </tr>\n",
       "    <tr>\n",
       "      <th>4</th>\n",
       "      <td>A17</td>\n",
       "      <td>A18258</td>\n",
       "      <td>3/11/12 00:00</td>\n",
       "      <td>1695.000</td>\n",
       "      <td>1.000</td>\n",
       "    </tr>\n",
       "    <tr>\n",
       "      <th>5</th>\n",
       "      <td>A17</td>\n",
       "      <td>A18258</td>\n",
       "      <td>3/12/12 00:00</td>\n",
       "      <td>1250.000</td>\n",
       "      <td>19.000</td>\n",
       "    </tr>\n",
       "    <tr>\n",
       "      <th>6</th>\n",
       "      <td>A17</td>\n",
       "      <td>A19292</td>\n",
       "      <td>3/11/12 00:00</td>\n",
       "      <td>2195.000</td>\n",
       "      <td>2.000</td>\n",
       "    </tr>\n",
       "    <tr>\n",
       "      <th>7</th>\n",
       "      <td>A17</td>\n",
       "      <td>A19292</td>\n",
       "      <td>3/12/12 00:00</td>\n",
       "      <td>2195.000</td>\n",
       "      <td>9.000</td>\n",
       "    </tr>\n",
       "    <tr>\n",
       "      <th>8</th>\n",
       "      <td>A17</td>\n",
       "      <td>A21577</td>\n",
       "      <td>3/11/12 00:00</td>\n",
       "      <td>3375.000</td>\n",
       "      <td>3.000</td>\n",
       "    </tr>\n",
       "    <tr>\n",
       "      <th>9</th>\n",
       "      <td>A17</td>\n",
       "      <td>A21577</td>\n",
       "      <td>3/12/12 00:00</td>\n",
       "      <td>2921.500</td>\n",
       "      <td>10.000</td>\n",
       "    </tr>\n",
       "  </tbody>\n",
       "</table>\n",
       "</div>"
      ],
      "text/plain": [
       "  StoreID     SKU           Date    Price  Demand\n",
       "0     A17  A12125  3/11/12 00:00 1495.000   1.000\n",
       "1     A17  A12125  3/12/12 00:00 1130.385  13.000\n",
       "2     A17  A16830  3/11/12 00:00 1314.000   1.000\n",
       "3     A17  A16830  3/12/12 00:00 1200.000   2.000\n",
       "4     A17  A18258  3/11/12 00:00 1695.000   1.000\n",
       "5     A17  A18258  3/12/12 00:00 1250.000  19.000\n",
       "6     A17  A19292  3/11/12 00:00 2195.000   2.000\n",
       "7     A17  A19292  3/12/12 00:00 2195.000   9.000\n",
       "8     A17  A21577  3/11/12 00:00 3375.000   3.000\n",
       "9     A17  A21577  3/12/12 00:00 2921.500  10.000"
      ]
     },
     "execution_count": 413,
     "metadata": {},
     "output_type": "execute_result"
    }
   ],
   "source": [
    "data65.head(10)"
   ]
  },
  {
   "cell_type": "code",
   "execution_count": 416,
   "metadata": {
    "collapsed": false
   },
   "outputs": [],
   "source": [
    "# Elasticity for Each Product in Each Store\n",
    "q = '''\n",
    "    select\n",
    "        a.StoreID,\n",
    "        a.SKU,\n",
    "       (abs(a.Demand-b.Demand)/a.Demand) /(abs(a.Price-b.Price)/a.Price) as Elasticty\n",
    "    from \n",
    "        data65 a\n",
    "    join\n",
    "        (select * from data65 where Date='3/12/12 00:00' ) b\n",
    "    on\n",
    "        a.StoreID=b.StoreID and a.SKU=b.SKU\n",
    "    where \n",
    "        a.Date='3/11/12 00:00'\n",
    "    '''\n",
    "data66 = pysqldf(q)"
   ]
  },
  {
   "cell_type": "code",
   "execution_count": 429,
   "metadata": {
    "collapsed": false
   },
   "outputs": [
    {
     "data": {
      "text/html": [
       "<div>\n",
       "<style>\n",
       "    .dataframe thead tr:only-child th {\n",
       "        text-align: right;\n",
       "    }\n",
       "\n",
       "    .dataframe thead th {\n",
       "        text-align: left;\n",
       "    }\n",
       "\n",
       "    .dataframe tbody tr th {\n",
       "        vertical-align: top;\n",
       "    }\n",
       "</style>\n",
       "<table border=\"1\" class=\"dataframe\">\n",
       "  <thead>\n",
       "    <tr style=\"text-align: right;\">\n",
       "      <th></th>\n",
       "      <th>StoreID</th>\n",
       "      <th>SKU</th>\n",
       "      <th>Elasticty</th>\n",
       "    </tr>\n",
       "  </thead>\n",
       "  <tbody>\n",
       "    <tr>\n",
       "      <th>0</th>\n",
       "      <td>A17</td>\n",
       "      <td>A12125</td>\n",
       "      <td>49.203</td>\n",
       "    </tr>\n",
       "    <tr>\n",
       "      <th>1</th>\n",
       "      <td>A17</td>\n",
       "      <td>A16830</td>\n",
       "      <td>11.526</td>\n",
       "    </tr>\n",
       "    <tr>\n",
       "      <th>2</th>\n",
       "      <td>A17</td>\n",
       "      <td>A18258</td>\n",
       "      <td>68.562</td>\n",
       "    </tr>\n",
       "    <tr>\n",
       "      <th>4</th>\n",
       "      <td>A17</td>\n",
       "      <td>A21577</td>\n",
       "      <td>17.365</td>\n",
       "    </tr>\n",
       "    <tr>\n",
       "      <th>5</th>\n",
       "      <td>A17</td>\n",
       "      <td>A2215</td>\n",
       "      <td>20.545</td>\n",
       "    </tr>\n",
       "    <tr>\n",
       "      <th>6</th>\n",
       "      <td>A17</td>\n",
       "      <td>A3573</td>\n",
       "      <td>5.167</td>\n",
       "    </tr>\n",
       "    <tr>\n",
       "      <th>7</th>\n",
       "      <td>A17</td>\n",
       "      <td>A569</td>\n",
       "      <td>10.273</td>\n",
       "    </tr>\n",
       "    <tr>\n",
       "      <th>8</th>\n",
       "      <td>A17</td>\n",
       "      <td>A7880</td>\n",
       "      <td>46.763</td>\n",
       "    </tr>\n",
       "    <tr>\n",
       "      <th>9</th>\n",
       "      <td>A19</td>\n",
       "      <td>A1092</td>\n",
       "      <td>123.000</td>\n",
       "    </tr>\n",
       "    <tr>\n",
       "      <th>10</th>\n",
       "      <td>A19</td>\n",
       "      <td>A14671</td>\n",
       "      <td>2348.936</td>\n",
       "    </tr>\n",
       "  </tbody>\n",
       "</table>\n",
       "</div>"
      ],
      "text/plain": [
       "   StoreID     SKU  Elasticty\n",
       "0      A17  A12125     49.203\n",
       "1      A17  A16830     11.526\n",
       "2      A17  A18258     68.562\n",
       "4      A17  A21577     17.365\n",
       "5      A17   A2215     20.545\n",
       "6      A17   A3573      5.167\n",
       "7      A17    A569     10.273\n",
       "8      A17   A7880     46.763\n",
       "9      A19   A1092    123.000\n",
       "10     A19  A14671   2348.936"
      ]
     },
     "execution_count": 429,
     "metadata": {},
     "output_type": "execute_result"
    }
   ],
   "source": [
    "data66.head(10)"
   ]
  },
  {
   "cell_type": "markdown",
   "metadata": {},
   "source": [
    "### Why Elasticty is Null: there are some cases when count=0, sales also equal to 0, which mean the price doesn't change between two date."
   ]
  },
  {
   "cell_type": "code",
   "execution_count": 424,
   "metadata": {
    "collapsed": false
   },
   "outputs": [],
   "source": [
    "data66 = data66.dropna()"
   ]
  },
  {
   "cell_type": "code",
   "execution_count": 425,
   "metadata": {
    "collapsed": true
   },
   "outputs": [],
   "source": [
    "import seaborn as sns"
   ]
  },
  {
   "cell_type": "code",
   "execution_count": 435,
   "metadata": {
    "collapsed": false
   },
   "outputs": [
    {
     "data": {
      "text/plain": [
       "<matplotlib.text.Text at 0x1cf69b950>"
      ]
     },
     "execution_count": 435,
     "metadata": {},
     "output_type": "execute_result"
    },
    {
     "data": {
      "image/png": "[encoded data removed]",
      "text/plain": [
       "<matplotlib.figure.Figure at 0x1cf536ed0>"
      ]
     },
     "metadata": {},
     "output_type": "display_data"
    }
   ],
   "source": [
    "plt.figure(figsize=(10,6))\n",
    "sns.barplot(x='SKU',y='Elasticty',data=data66[:9])\n",
    "plt.ylabel('Elasticity')\n",
    "plt.title('Price Elasticity of Demand for Each Product in Store A17')"
   ]
  },
  {
   "cell_type": "markdown",
   "metadata": {},
   "source": [
    "<br><br>"
   ]
  },
  {
   "cell_type": "markdown",
   "metadata": {},
   "source": [
    "### Association Analysis <a name='11' />"
   ]
  },
  {
   "cell_type": "code",
   "execution_count": 439,
   "metadata": {
    "collapsed": true
   },
   "outputs": [],
   "source": [
    "import pandas as pd\n",
    "from mlxtend.frequent_patterns import apriori\n",
    "from mlxtend.frequent_patterns import association_rules"
   ]
  },
  {
   "cell_type": "code",
   "execution_count": 440,
   "metadata": {
    "collapsed": false
   },
   "outputs": [],
   "source": [
    "data = pd.read_csv('data.csv')"
   ]
  },
  {
   "cell_type": "code",
   "execution_count": 441,
   "metadata": {
    "collapsed": false
   },
   "outputs": [
    {
     "data": {
      "text/html": [
       "<div>\n",
       "<style>\n",
       "    .dataframe thead tr:only-child th {\n",
       "        text-align: right;\n",
       "    }\n",
       "\n",
       "    .dataframe thead th {\n",
       "        text-align: left;\n",
       "    }\n",
       "\n",
       "    .dataframe tbody tr th {\n",
       "        vertical-align: top;\n",
       "    }\n",
       "</style>\n",
       "<table border=\"1\" class=\"dataframe\">\n",
       "  <thead>\n",
       "    <tr style=\"text-align: right;\">\n",
       "      <th></th>\n",
       "      <th>StoreID</th>\n",
       "      <th>TransactionID</th>\n",
       "      <th>Line</th>\n",
       "      <th>Sales</th>\n",
       "      <th>Count</th>\n",
       "      <th>Date</th>\n",
       "      <th>SKU</th>\n",
       "    </tr>\n",
       "  </thead>\n",
       "  <tbody>\n",
       "    <tr>\n",
       "      <th>0</th>\n",
       "      <td>A29</td>\n",
       "      <td>11-7270-00007-00057</td>\n",
       "      <td>36</td>\n",
       "      <td>850.000</td>\n",
       "      <td>1.000</td>\n",
       "      <td>3/11/12 00:00</td>\n",
       "      <td>A21773</td>\n",
       "    </tr>\n",
       "    <tr>\n",
       "      <th>1</th>\n",
       "      <td>A29</td>\n",
       "      <td>11-7270-00007-00057</td>\n",
       "      <td>39</td>\n",
       "      <td>1500.000</td>\n",
       "      <td>1.000</td>\n",
       "      <td>3/11/12 00:00</td>\n",
       "      <td>A18009</td>\n",
       "    </tr>\n",
       "    <tr>\n",
       "      <th>2</th>\n",
       "      <td>A29</td>\n",
       "      <td>11-7270-00007-00057</td>\n",
       "      <td>40</td>\n",
       "      <td>1500.000</td>\n",
       "      <td>1.000</td>\n",
       "      <td>3/11/12 00:00</td>\n",
       "      <td>A25592</td>\n",
       "    </tr>\n",
       "    <tr>\n",
       "      <th>3</th>\n",
       "      <td>A29</td>\n",
       "      <td>11-7270-00007-00057</td>\n",
       "      <td>41</td>\n",
       "      <td>1600.000</td>\n",
       "      <td>1.000</td>\n",
       "      <td>3/11/12 00:00</td>\n",
       "      <td>A1449</td>\n",
       "    </tr>\n",
       "    <tr>\n",
       "      <th>4</th>\n",
       "      <td>A29</td>\n",
       "      <td>11-7270-00007-00057</td>\n",
       "      <td>42</td>\n",
       "      <td>1600.000</td>\n",
       "      <td>1.000</td>\n",
       "      <td>3/11/12 00:00</td>\n",
       "      <td>A1449</td>\n",
       "    </tr>\n",
       "  </tbody>\n",
       "</table>\n",
       "</div>"
      ],
      "text/plain": [
       "  StoreID        TransactionID  Line    Sales  Count           Date     SKU\n",
       "0     A29  11-7270-00007-00057    36  850.000  1.000  3/11/12 00:00  A21773\n",
       "1     A29  11-7270-00007-00057    39 1500.000  1.000  3/11/12 00:00  A18009\n",
       "2     A29  11-7270-00007-00057    40 1500.000  1.000  3/11/12 00:00  A25592\n",
       "3     A29  11-7270-00007-00057    41 1600.000  1.000  3/11/12 00:00   A1449\n",
       "4     A29  11-7270-00007-00057    42 1600.000  1.000  3/11/12 00:00   A1449"
      ]
     },
     "execution_count": 441,
     "metadata": {},
     "output_type": "execute_result"
    }
   ],
   "source": [
    "data.head()"
   ]
  },
  {
   "cell_type": "code",
   "execution_count": 442,
   "metadata": {
    "collapsed": false
   },
   "outputs": [],
   "source": [
    "# Explore StoreID = A29\n",
    "basket = data[data['StoreID']=='A29'].groupby(['TransactionID','SKU'])['Count'].sum().unstack().reset_index().fillna(0).set_index('TransactionID')"
   ]
  },
  {
   "cell_type": "code",
   "execution_count": 443,
   "metadata": {
    "collapsed": false
   },
   "outputs": [
    {
     "data": {
      "text/plain": [
       "TransactionID        SKU   \n",
       "11-7270-00005-00002  A5451    1.000\n",
       "11-7270-00005-00003  A11687   1.000\n",
       "                     A4654    1.000\n",
       "11-7270-00005-00004  A13644   1.000\n",
       "                     A21939   1.000\n",
       "                     A25955   1.000\n",
       "                     A43      1.000\n",
       "                     A4595    1.000\n",
       "                     A6499    1.000\n",
       "                     A9562    1.000\n",
       "11-7270-00005-00005  A2075    1.000\n",
       "11-7270-00005-00006  A10580   1.000\n",
       "                     A15652   1.000\n",
       "11-7270-00005-00007  A11970   1.000\n",
       "                     A12394   1.000\n",
       "Name: Count, dtype: float64"
      ]
     },
     "execution_count": 443,
     "metadata": {},
     "output_type": "execute_result"
    }
   ],
   "source": [
    "data[data['StoreID']=='A29'].groupby(['TransactionID','SKU'])['Count'].sum().head(15)"
   ]
  },
  {
   "cell_type": "code",
   "execution_count": 444,
   "metadata": {
    "collapsed": false
   },
   "outputs": [
    {
     "data": {
      "text/html": [
       "<div>\n",
       "<style>\n",
       "    .dataframe thead tr:only-child th {\n",
       "        text-align: right;\n",
       "    }\n",
       "\n",
       "    .dataframe thead th {\n",
       "        text-align: left;\n",
       "    }\n",
       "\n",
       "    .dataframe tbody tr th {\n",
       "        vertical-align: top;\n",
       "    }\n",
       "</style>\n",
       "<table border=\"1\" class=\"dataframe\">\n",
       "  <thead>\n",
       "    <tr style=\"text-align: right;\">\n",
       "      <th>SKU</th>\n",
       "      <th>A1</th>\n",
       "      <th>A10004</th>\n",
       "      <th>A10006</th>\n",
       "      <th>A10007</th>\n",
       "      <th>A10008</th>\n",
       "      <th>A10016</th>\n",
       "      <th>A10023</th>\n",
       "      <th>A10024</th>\n",
       "      <th>A10025</th>\n",
       "      <th>A10045</th>\n",
       "      <th>...</th>\n",
       "      <th>A9933</th>\n",
       "      <th>A9938</th>\n",
       "      <th>A9941</th>\n",
       "      <th>A9942</th>\n",
       "      <th>A9946</th>\n",
       "      <th>A9947</th>\n",
       "      <th>A9963</th>\n",
       "      <th>A9964</th>\n",
       "      <th>A9981</th>\n",
       "      <th>A9982</th>\n",
       "    </tr>\n",
       "    <tr>\n",
       "      <th>TransactionID</th>\n",
       "      <th></th>\n",
       "      <th></th>\n",
       "      <th></th>\n",
       "      <th></th>\n",
       "      <th></th>\n",
       "      <th></th>\n",
       "      <th></th>\n",
       "      <th></th>\n",
       "      <th></th>\n",
       "      <th></th>\n",
       "      <th></th>\n",
       "      <th></th>\n",
       "      <th></th>\n",
       "      <th></th>\n",
       "      <th></th>\n",
       "      <th></th>\n",
       "      <th></th>\n",
       "      <th></th>\n",
       "      <th></th>\n",
       "      <th></th>\n",
       "      <th></th>\n",
       "    </tr>\n",
       "  </thead>\n",
       "  <tbody>\n",
       "    <tr>\n",
       "      <th>11-7270-00005-00002</th>\n",
       "      <td>0.000</td>\n",
       "      <td>0.000</td>\n",
       "      <td>0.000</td>\n",
       "      <td>0.000</td>\n",
       "      <td>0.000</td>\n",
       "      <td>0.000</td>\n",
       "      <td>0.000</td>\n",
       "      <td>0.000</td>\n",
       "      <td>0.000</td>\n",
       "      <td>0.000</td>\n",
       "      <td>...</td>\n",
       "      <td>0.000</td>\n",
       "      <td>0.000</td>\n",
       "      <td>0.000</td>\n",
       "      <td>0.000</td>\n",
       "      <td>0.000</td>\n",
       "      <td>0.000</td>\n",
       "      <td>0.000</td>\n",
       "      <td>0.000</td>\n",
       "      <td>0.000</td>\n",
       "      <td>0.000</td>\n",
       "    </tr>\n",
       "    <tr>\n",
       "      <th>11-7270-00005-00003</th>\n",
       "      <td>0.000</td>\n",
       "      <td>0.000</td>\n",
       "      <td>0.000</td>\n",
       "      <td>0.000</td>\n",
       "      <td>0.000</td>\n",
       "      <td>0.000</td>\n",
       "      <td>0.000</td>\n",
       "      <td>0.000</td>\n",
       "      <td>0.000</td>\n",
       "      <td>0.000</td>\n",
       "      <td>...</td>\n",
       "      <td>0.000</td>\n",
       "      <td>0.000</td>\n",
       "      <td>0.000</td>\n",
       "      <td>0.000</td>\n",
       "      <td>0.000</td>\n",
       "      <td>0.000</td>\n",
       "      <td>0.000</td>\n",
       "      <td>0.000</td>\n",
       "      <td>0.000</td>\n",
       "      <td>0.000</td>\n",
       "    </tr>\n",
       "    <tr>\n",
       "      <th>11-7270-00005-00004</th>\n",
       "      <td>0.000</td>\n",
       "      <td>0.000</td>\n",
       "      <td>0.000</td>\n",
       "      <td>0.000</td>\n",
       "      <td>0.000</td>\n",
       "      <td>0.000</td>\n",
       "      <td>0.000</td>\n",
       "      <td>0.000</td>\n",
       "      <td>0.000</td>\n",
       "      <td>0.000</td>\n",
       "      <td>...</td>\n",
       "      <td>0.000</td>\n",
       "      <td>0.000</td>\n",
       "      <td>0.000</td>\n",
       "      <td>0.000</td>\n",
       "      <td>0.000</td>\n",
       "      <td>0.000</td>\n",
       "      <td>0.000</td>\n",
       "      <td>0.000</td>\n",
       "      <td>0.000</td>\n",
       "      <td>0.000</td>\n",
       "    </tr>\n",
       "    <tr>\n",
       "      <th>11-7270-00005-00005</th>\n",
       "      <td>0.000</td>\n",
       "      <td>0.000</td>\n",
       "      <td>0.000</td>\n",
       "      <td>0.000</td>\n",
       "      <td>0.000</td>\n",
       "      <td>0.000</td>\n",
       "      <td>0.000</td>\n",
       "      <td>0.000</td>\n",
       "      <td>0.000</td>\n",
       "      <td>0.000</td>\n",
       "      <td>...</td>\n",
       "      <td>0.000</td>\n",
       "      <td>0.000</td>\n",
       "      <td>0.000</td>\n",
       "      <td>0.000</td>\n",
       "      <td>0.000</td>\n",
       "      <td>0.000</td>\n",
       "      <td>0.000</td>\n",
       "      <td>0.000</td>\n",
       "      <td>0.000</td>\n",
       "      <td>0.000</td>\n",
       "    </tr>\n",
       "    <tr>\n",
       "      <th>11-7270-00005-00006</th>\n",
       "      <td>0.000</td>\n",
       "      <td>0.000</td>\n",
       "      <td>0.000</td>\n",
       "      <td>0.000</td>\n",
       "      <td>0.000</td>\n",
       "      <td>0.000</td>\n",
       "      <td>0.000</td>\n",
       "      <td>0.000</td>\n",
       "      <td>0.000</td>\n",
       "      <td>0.000</td>\n",
       "      <td>...</td>\n",
       "      <td>0.000</td>\n",
       "      <td>0.000</td>\n",
       "      <td>0.000</td>\n",
       "      <td>0.000</td>\n",
       "      <td>0.000</td>\n",
       "      <td>0.000</td>\n",
       "      <td>0.000</td>\n",
       "      <td>0.000</td>\n",
       "      <td>0.000</td>\n",
       "      <td>0.000</td>\n",
       "    </tr>\n",
       "  </tbody>\n",
       "</table>\n",
       "<p>5 rows × 4297 columns</p>\n",
       "</div>"
      ],
      "text/plain": [
       "SKU                    A1  A10004  A10006  A10007  A10008  A10016  A10023  \\\n",
       "TransactionID                                                               \n",
       "11-7270-00005-00002 0.000   0.000   0.000   0.000   0.000   0.000   0.000   \n",
       "11-7270-00005-00003 0.000   0.000   0.000   0.000   0.000   0.000   0.000   \n",
       "11-7270-00005-00004 0.000   0.000   0.000   0.000   0.000   0.000   0.000   \n",
       "11-7270-00005-00005 0.000   0.000   0.000   0.000   0.000   0.000   0.000   \n",
       "11-7270-00005-00006 0.000   0.000   0.000   0.000   0.000   0.000   0.000   \n",
       "\n",
       "SKU                  A10024  A10025  A10045  ...    A9933  A9938  A9941  \\\n",
       "TransactionID                                ...                          \n",
       "11-7270-00005-00002   0.000   0.000   0.000  ...    0.000  0.000  0.000   \n",
       "11-7270-00005-00003   0.000   0.000   0.000  ...    0.000  0.000  0.000   \n",
       "11-7270-00005-00004   0.000   0.000   0.000  ...    0.000  0.000  0.000   \n",
       "11-7270-00005-00005   0.000   0.000   0.000  ...    0.000  0.000  0.000   \n",
       "11-7270-00005-00006   0.000   0.000   0.000  ...    0.000  0.000  0.000   \n",
       "\n",
       "SKU                  A9942  A9946  A9947  A9963  A9964  A9981  A9982  \n",
       "TransactionID                                                         \n",
       "11-7270-00005-00002  0.000  0.000  0.000  0.000  0.000  0.000  0.000  \n",
       "11-7270-00005-00003  0.000  0.000  0.000  0.000  0.000  0.000  0.000  \n",
       "11-7270-00005-00004  0.000  0.000  0.000  0.000  0.000  0.000  0.000  \n",
       "11-7270-00005-00005  0.000  0.000  0.000  0.000  0.000  0.000  0.000  \n",
       "11-7270-00005-00006  0.000  0.000  0.000  0.000  0.000  0.000  0.000  \n",
       "\n",
       "[5 rows x 4297 columns]"
      ]
     },
     "execution_count": 444,
     "metadata": {},
     "output_type": "execute_result"
    }
   ],
   "source": [
    "basket.head()"
   ]
  },
  {
   "cell_type": "code",
   "execution_count": 445,
   "metadata": {
    "collapsed": false
   },
   "outputs": [
    {
     "data": {
      "text/plain": [
       "(4436, 4297)"
      ]
     },
     "execution_count": 445,
     "metadata": {},
     "output_type": "execute_result"
    }
   ],
   "source": [
    "# Number of Transactions and Products\n",
    "basket.shape"
   ]
  },
  {
   "cell_type": "code",
   "execution_count": 446,
   "metadata": {
    "collapsed": true
   },
   "outputs": [],
   "source": [
    "def encode_units(x):\n",
    "    if x <= 0:\n",
    "        return 0\n",
    "    if x >= 1:\n",
    "        return 1\n",
    "\n",
    "basket_sets = basket.applymap(encode_units)"
   ]
  },
  {
   "cell_type": "code",
   "execution_count": 447,
   "metadata": {
    "collapsed": false
   },
   "outputs": [
    {
     "data": {
      "text/html": [
       "<div>\n",
       "<style>\n",
       "    .dataframe thead tr:only-child th {\n",
       "        text-align: right;\n",
       "    }\n",
       "\n",
       "    .dataframe thead th {\n",
       "        text-align: left;\n",
       "    }\n",
       "\n",
       "    .dataframe tbody tr th {\n",
       "        vertical-align: top;\n",
       "    }\n",
       "</style>\n",
       "<table border=\"1\" class=\"dataframe\">\n",
       "  <thead>\n",
       "    <tr style=\"text-align: right;\">\n",
       "      <th></th>\n",
       "      <th>antecedants</th>\n",
       "      <th>consequents</th>\n",
       "      <th>support</th>\n",
       "      <th>confidence</th>\n",
       "      <th>lift</th>\n",
       "    </tr>\n",
       "  </thead>\n",
       "  <tbody>\n",
       "    <tr>\n",
       "      <th>0</th>\n",
       "      <td>(A3664)</td>\n",
       "      <td>(A20874)</td>\n",
       "      <td>0.158</td>\n",
       "      <td>0.054</td>\n",
       "      <td>1.961</td>\n",
       "    </tr>\n",
       "    <tr>\n",
       "      <th>1</th>\n",
       "      <td>(A20874)</td>\n",
       "      <td>(A3664)</td>\n",
       "      <td>0.028</td>\n",
       "      <td>0.309</td>\n",
       "      <td>1.961</td>\n",
       "    </tr>\n",
       "    <tr>\n",
       "      <th>2</th>\n",
       "      <td>(A25185)</td>\n",
       "      <td>(A2052)</td>\n",
       "      <td>0.019</td>\n",
       "      <td>0.314</td>\n",
       "      <td>26.783</td>\n",
       "    </tr>\n",
       "    <tr>\n",
       "      <th>3</th>\n",
       "      <td>(A2052)</td>\n",
       "      <td>(A25185)</td>\n",
       "      <td>0.012</td>\n",
       "      <td>0.519</td>\n",
       "      <td>26.783</td>\n",
       "    </tr>\n",
       "    <tr>\n",
       "      <th>4</th>\n",
       "      <td>(A2341)</td>\n",
       "      <td>(A3664)</td>\n",
       "      <td>0.025</td>\n",
       "      <td>0.277</td>\n",
       "      <td>1.757</td>\n",
       "    </tr>\n",
       "  </tbody>\n",
       "</table>\n",
       "</div>"
      ],
      "text/plain": [
       "  antecedants consequents  support  confidence   lift\n",
       "0     (A3664)    (A20874)    0.158       0.054  1.961\n",
       "1    (A20874)     (A3664)    0.028       0.309  1.961\n",
       "2    (A25185)     (A2052)    0.019       0.314 26.783\n",
       "3     (A2052)    (A25185)    0.012       0.519 26.783\n",
       "4     (A2341)     (A3664)    0.025       0.277  1.757"
      ]
     },
     "execution_count": 447,
     "metadata": {},
     "output_type": "execute_result"
    }
   ],
   "source": [
    "frequent_itemsets = apriori(basket_sets, min_support=0.005, use_colnames=True)\n",
    "rules = association_rules(frequent_itemsets, metric=\"lift\", min_threshold=1)\n",
    "rules.head()"
   ]
  },
  {
   "cell_type": "code",
   "execution_count": 448,
   "metadata": {
    "collapsed": false
   },
   "outputs": [
    {
     "data": {
      "text/plain": [
       "280.0"
      ]
     },
     "execution_count": 448,
     "metadata": {},
     "output_type": "execute_result"
    }
   ],
   "source": [
    "basket['A25312'].sum()"
   ]
  },
  {
   "cell_type": "code",
   "execution_count": 449,
   "metadata": {
    "collapsed": false,
    "scrolled": true
   },
   "outputs": [
    {
     "data": {
      "text/plain": [
       "811.0"
      ]
     },
     "execution_count": 449,
     "metadata": {},
     "output_type": "execute_result"
    }
   ],
   "source": [
    "basket['A3664'].sum()"
   ]
  },
  {
   "cell_type": "markdown",
   "metadata": {},
   "source": [
    "### For store=A29, rule: A2052-->A25185, 1.2% support means 1.2% proportion of transactions in the dataset contain item A2052 and A25815; 51.9% confidence means 51.9% who buy A2052 will also buy A25185. If the lift is bigger than 1, that lets us know the degree to which the antecedants' occurences are dependent on consequents' occurences. Since lift=26.783, it's pretty big in this case."
   ]
  },
  {
   "cell_type": "markdown",
   "metadata": {},
   "source": [
    "### So we conclude item A25185 and A2052 have strong relationship."
   ]
  },
  {
   "cell_type": "markdown",
   "metadata": {},
   "source": [
    "<br><br>"
   ]
  },
  {
   "cell_type": "code",
   "execution_count": 450,
   "metadata": {
    "collapsed": false
   },
   "outputs": [
    {
     "data": {
      "text/html": [
       "<div>\n",
       "<style>\n",
       "    .dataframe thead tr:only-child th {\n",
       "        text-align: right;\n",
       "    }\n",
       "\n",
       "    .dataframe thead th {\n",
       "        text-align: left;\n",
       "    }\n",
       "\n",
       "    .dataframe tbody tr th {\n",
       "        vertical-align: top;\n",
       "    }\n",
       "</style>\n",
       "<table border=\"1\" class=\"dataframe\">\n",
       "  <thead>\n",
       "    <tr style=\"text-align: right;\">\n",
       "      <th></th>\n",
       "      <th>antecedants</th>\n",
       "      <th>consequents</th>\n",
       "      <th>support</th>\n",
       "      <th>confidence</th>\n",
       "      <th>lift</th>\n",
       "    </tr>\n",
       "  </thead>\n",
       "  <tbody>\n",
       "    <tr>\n",
       "      <th>0</th>\n",
       "      <td>(A5483)</td>\n",
       "      <td>(A13675)</td>\n",
       "      <td>0.011</td>\n",
       "      <td>1.000</td>\n",
       "      <td>51.500</td>\n",
       "    </tr>\n",
       "    <tr>\n",
       "      <th>1</th>\n",
       "      <td>(A13675)</td>\n",
       "      <td>(A5483)</td>\n",
       "      <td>0.019</td>\n",
       "      <td>0.563</td>\n",
       "      <td>51.500</td>\n",
       "    </tr>\n",
       "    <tr>\n",
       "      <th>2</th>\n",
       "      <td>(A25312)</td>\n",
       "      <td>(A8397)</td>\n",
       "      <td>0.064</td>\n",
       "      <td>0.189</td>\n",
       "      <td>6.478</td>\n",
       "    </tr>\n",
       "    <tr>\n",
       "      <th>3</th>\n",
       "      <td>(A8397)</td>\n",
       "      <td>(A25312)</td>\n",
       "      <td>0.029</td>\n",
       "      <td>0.417</td>\n",
       "      <td>6.478</td>\n",
       "    </tr>\n",
       "    <tr>\n",
       "      <th>4</th>\n",
       "      <td>(A2854)</td>\n",
       "      <td>(A3664)</td>\n",
       "      <td>0.058</td>\n",
       "      <td>0.229</td>\n",
       "      <td>1.073</td>\n",
       "    </tr>\n",
       "  </tbody>\n",
       "</table>\n",
       "</div>"
      ],
      "text/plain": [
       "  antecedants consequents  support  confidence   lift\n",
       "0     (A5483)    (A13675)    0.011       1.000 51.500\n",
       "1    (A13675)     (A5483)    0.019       0.563 51.500\n",
       "2    (A25312)     (A8397)    0.064       0.189  6.478\n",
       "3     (A8397)    (A25312)    0.029       0.417  6.478\n",
       "4     (A2854)     (A3664)    0.058       0.229  1.073"
      ]
     },
     "execution_count": 450,
     "metadata": {},
     "output_type": "execute_result"
    }
   ],
   "source": [
    "# Explore StoreID = A79\n",
    "basket = data[data['StoreID']=='A79'].groupby(['TransactionID','SKU'])['Count'].sum().unstack().reset_index().fillna(0).set_index('TransactionID')\n",
    "def encode_units(x):\n",
    "    if x <= 0:\n",
    "        return 0\n",
    "    if x >= 1:\n",
    "        return 1\n",
    "\n",
    "basket_sets = basket.applymap(encode_units)\n",
    "\n",
    "frequent_itemsets = apriori(basket_sets, min_support=0.01, use_colnames=True)\n",
    "rules = association_rules(frequent_itemsets, metric=\"lift\", min_threshold=1)\n",
    "rules.head()"
   ]
  },
  {
   "cell_type": "code",
   "execution_count": 451,
   "metadata": {
    "collapsed": false
   },
   "outputs": [
    {
     "data": {
      "text/plain": [
       "(824, 1628)"
      ]
     },
     "execution_count": 451,
     "metadata": {},
     "output_type": "execute_result"
    }
   ],
   "source": [
    "# Number of Transactions and Products\n",
    "basket.shape"
   ]
  },
  {
   "cell_type": "code",
   "execution_count": 452,
   "metadata": {
    "collapsed": false
   },
   "outputs": [
    {
     "name": "stdout",
     "output_type": "stream",
     "text": [
      "14.0\n",
      "25.0\n"
     ]
    }
   ],
   "source": [
    "print basket['A5483'].sum()\n",
    "\n",
    "print basket['A13675'].sum()"
   ]
  },
  {
   "cell_type": "markdown",
   "metadata": {},
   "source": [
    "### We can see in Store A79, there are a quite few rules with a high lift value which means that it occurs more frequently than would be expected given the number of transactions and product combinatons. \n",
    "### We can see several where the confidence is high as well.\n",
    "### In looking at above rules, it seems that product A5483 and A13675 are purchased together, product A8397 and A25312 are purchased together.\n",
    "### We can drive up sales through recommendation from their antecendants.\n"
   ]
  },
  {
   "cell_type": "code",
   "execution_count": null,
   "metadata": {
    "collapsed": true
   },
   "outputs": [],
   "source": [
    "\n",
    "\n"
   ]
  },
  {
   "cell_type": "code",
   "execution_count": null,
   "metadata": {
    "collapsed": true
   },
   "outputs": [],
   "source": []
  }
 ],
 "metadata": {
  "anaconda-cloud": {},
  "kernelspec": {
   "display_name": "Python [conda root]",
   "language": "python",
   "name": "conda-root-py"
  },
  "language_info": {
   "codemirror_mode": {
    "name": "ipython",
    "version": 2
   },
   "file_extension": ".py",
   "mimetype": "text/x-python",
   "name": "python",
   "nbconvert_exporter": "python",
   "pygments_lexer": "ipython2",
   "version": "2.7.13"
  }
 },
 "nbformat": 4,
 "nbformat_minor": 1
}
