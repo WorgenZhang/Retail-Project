{
 "cells": [
  {
   "cell_type": "markdown",
   "metadata": {},
   "source": [
    "## Business Objective"
   ]
  },
  {
   "cell_type": "markdown",
   "metadata": {},
   "source": [
    "**I am a store manager, what can I do to enhance my revenue across 100 stores?**  \n",
    "\n",
    "**When I discount some items, will that drive up average sales per basket？** \n",
    "\n",
    "** Some product may have elasticity of demand, other product may not (Once I step into the store, I am going to start browsing and I am gonna buying more stuff I probably won't need. So that's what they want, they want to change people's behavior. If you markdown the price of merchandise, it's going to drive up sales of products.) (Percent change in demand is more than percent change in price)**  \n",
    "\n",
    "**Cross-selling: what are the prodcuts that people tend to buy together. Association Rule.**  \n",
    "**Upselling: Salesperson tries to persuade customers to buy a higher-end product, an upgrade or the newest version of an item.**  \n",
    "\n",
    "** Shall we markdown? How much shall we markdown? Does it make sense to markdown? Product Category?**"
   ]
  },
  {
   "cell_type": "markdown",
   "metadata": {},
   "source": [
    "<br>"
   ]
  },
  {
   "cell_type": "markdown",
   "metadata": {},
   "source": [
    "## Look at Data First"
   ]
  },
  {
   "cell_type": "code",
   "execution_count": 1,
   "metadata": {
    "collapsed": false
   },
   "outputs": [],
   "source": [
    "import pandas as pd\n",
    "from datetime import datetime"
   ]
  },
  {
   "cell_type": "code",
   "execution_count": 2,
   "metadata": {
    "collapsed": false
   },
   "outputs": [
    {
     "name": "stdout",
     "output_type": "stream",
     "text": [
      "0:00:01.052109\n"
     ]
    }
   ],
   "source": [
    "start_time = datetime.now()\n",
    "data = pd.read_csv('RetailerPromotionStrategy_data.csv')\n",
    "print datetime.now()-start_time"
   ]
  },
  {
   "cell_type": "code",
   "execution_count": 13,
   "metadata": {
    "collapsed": false
   },
   "outputs": [
    {
     "data": {
      "text/plain": [
       "(1048575, 7)"
      ]
     },
     "execution_count": 13,
     "metadata": {},
     "output_type": "execute_result"
    }
   ],
   "source": [
    "data.shape"
   ]
  },
  {
   "cell_type": "code",
   "execution_count": 14,
   "metadata": {
    "collapsed": false
   },
   "outputs": [
    {
     "data": {
      "text/html": [
       "<div>\n",
       "<style>\n",
       "    .dataframe thead tr:only-child th {\n",
       "        text-align: right;\n",
       "    }\n",
       "\n",
       "    .dataframe thead th {\n",
       "        text-align: left;\n",
       "    }\n",
       "\n",
       "    .dataframe tbody tr th {\n",
       "        vertical-align: top;\n",
       "    }\n",
       "</style>\n",
       "<table border=\"1\" class=\"dataframe\">\n",
       "  <thead>\n",
       "    <tr style=\"text-align: right;\">\n",
       "      <th></th>\n",
       "      <th>StoreID</th>\n",
       "      <th>TransactionID</th>\n",
       "      <th>Line</th>\n",
       "      <th>Sales</th>\n",
       "      <th>Count</th>\n",
       "      <th>Date</th>\n",
       "      <th>SKU</th>\n",
       "    </tr>\n",
       "  </thead>\n",
       "  <tbody>\n",
       "    <tr>\n",
       "      <th>0</th>\n",
       "      <td>A29</td>\n",
       "      <td>11-7270-00007-00057</td>\n",
       "      <td>36</td>\n",
       "      <td>850.0</td>\n",
       "      <td>1.0</td>\n",
       "      <td>3/11/12 00:00</td>\n",
       "      <td>A21773</td>\n",
       "    </tr>\n",
       "    <tr>\n",
       "      <th>1</th>\n",
       "      <td>A29</td>\n",
       "      <td>11-7270-00007-00057</td>\n",
       "      <td>39</td>\n",
       "      <td>1500.0</td>\n",
       "      <td>1.0</td>\n",
       "      <td>3/11/12 00:00</td>\n",
       "      <td>A18009</td>\n",
       "    </tr>\n",
       "    <tr>\n",
       "      <th>2</th>\n",
       "      <td>A29</td>\n",
       "      <td>11-7270-00007-00057</td>\n",
       "      <td>40</td>\n",
       "      <td>1500.0</td>\n",
       "      <td>1.0</td>\n",
       "      <td>3/11/12 00:00</td>\n",
       "      <td>A25592</td>\n",
       "    </tr>\n",
       "    <tr>\n",
       "      <th>3</th>\n",
       "      <td>A29</td>\n",
       "      <td>11-7270-00007-00057</td>\n",
       "      <td>41</td>\n",
       "      <td>1600.0</td>\n",
       "      <td>1.0</td>\n",
       "      <td>3/11/12 00:00</td>\n",
       "      <td>A1449</td>\n",
       "    </tr>\n",
       "    <tr>\n",
       "      <th>4</th>\n",
       "      <td>A29</td>\n",
       "      <td>11-7270-00007-00057</td>\n",
       "      <td>42</td>\n",
       "      <td>1600.0</td>\n",
       "      <td>1.0</td>\n",
       "      <td>3/11/12 00:00</td>\n",
       "      <td>A1449</td>\n",
       "    </tr>\n",
       "    <tr>\n",
       "      <th>5</th>\n",
       "      <td>A29</td>\n",
       "      <td>11-7270-00007-00057</td>\n",
       "      <td>52</td>\n",
       "      <td>1700.0</td>\n",
       "      <td>1.0</td>\n",
       "      <td>3/11/12 00:00</td>\n",
       "      <td>A12434</td>\n",
       "    </tr>\n",
       "    <tr>\n",
       "      <th>6</th>\n",
       "      <td>A29</td>\n",
       "      <td>11-7270-00007-00057</td>\n",
       "      <td>57</td>\n",
       "      <td>1695.0</td>\n",
       "      <td>1.0</td>\n",
       "      <td>3/11/12 00:00</td>\n",
       "      <td>A13081</td>\n",
       "    </tr>\n",
       "    <tr>\n",
       "      <th>7</th>\n",
       "      <td>A29</td>\n",
       "      <td>11-7270-00007-00057</td>\n",
       "      <td>58</td>\n",
       "      <td>2095.0</td>\n",
       "      <td>1.0</td>\n",
       "      <td>3/11/12 00:00</td>\n",
       "      <td>A5985</td>\n",
       "    </tr>\n",
       "    <tr>\n",
       "      <th>8</th>\n",
       "      <td>A29</td>\n",
       "      <td>11-7270-00007-00057</td>\n",
       "      <td>59</td>\n",
       "      <td>1650.0</td>\n",
       "      <td>1.0</td>\n",
       "      <td>3/11/12 00:00</td>\n",
       "      <td>A21387</td>\n",
       "    </tr>\n",
       "    <tr>\n",
       "      <th>9</th>\n",
       "      <td>A29</td>\n",
       "      <td>11-7270-00007-00057</td>\n",
       "      <td>60</td>\n",
       "      <td>1795.0</td>\n",
       "      <td>1.0</td>\n",
       "      <td>3/11/12 00:00</td>\n",
       "      <td>A5987</td>\n",
       "    </tr>\n",
       "  </tbody>\n",
       "</table>\n",
       "</div>"
      ],
      "text/plain": [
       "  StoreID        TransactionID  Line   Sales  Count           Date     SKU\n",
       "0     A29  11-7270-00007-00057    36   850.0    1.0  3/11/12 00:00  A21773\n",
       "1     A29  11-7270-00007-00057    39  1500.0    1.0  3/11/12 00:00  A18009\n",
       "2     A29  11-7270-00007-00057    40  1500.0    1.0  3/11/12 00:00  A25592\n",
       "3     A29  11-7270-00007-00057    41  1600.0    1.0  3/11/12 00:00   A1449\n",
       "4     A29  11-7270-00007-00057    42  1600.0    1.0  3/11/12 00:00   A1449\n",
       "5     A29  11-7270-00007-00057    52  1700.0    1.0  3/11/12 00:00  A12434\n",
       "6     A29  11-7270-00007-00057    57  1695.0    1.0  3/11/12 00:00  A13081\n",
       "7     A29  11-7270-00007-00057    58  2095.0    1.0  3/11/12 00:00   A5985\n",
       "8     A29  11-7270-00007-00057    59  1650.0    1.0  3/11/12 00:00  A21387\n",
       "9     A29  11-7270-00007-00057    60  1795.0    1.0  3/11/12 00:00   A5987"
      ]
     },
     "execution_count": 14,
     "metadata": {},
     "output_type": "execute_result"
    }
   ],
   "source": [
    "data.head(10)"
   ]
  },
  {
   "cell_type": "code",
   "execution_count": 28,
   "metadata": {
    "collapsed": false
   },
   "outputs": [
    {
     "data": {
      "text/html": [
       "<div>\n",
       "<style>\n",
       "    .dataframe thead tr:only-child th {\n",
       "        text-align: right;\n",
       "    }\n",
       "\n",
       "    .dataframe thead th {\n",
       "        text-align: left;\n",
       "    }\n",
       "\n",
       "    .dataframe tbody tr th {\n",
       "        vertical-align: top;\n",
       "    }\n",
       "</style>\n",
       "<table border=\"1\" class=\"dataframe\">\n",
       "  <thead>\n",
       "    <tr style=\"text-align: right;\">\n",
       "      <th></th>\n",
       "      <th>Line</th>\n",
       "      <th>Sales</th>\n",
       "      <th>Count</th>\n",
       "    </tr>\n",
       "  </thead>\n",
       "  <tbody>\n",
       "    <tr>\n",
       "      <th>count</th>\n",
       "      <td>1048575.000</td>\n",
       "      <td>1048575.000</td>\n",
       "      <td>1048575.000</td>\n",
       "    </tr>\n",
       "    <tr>\n",
       "      <th>mean</th>\n",
       "      <td>10.727</td>\n",
       "      <td>1720.513</td>\n",
       "      <td>0.896</td>\n",
       "    </tr>\n",
       "    <tr>\n",
       "      <th>std</th>\n",
       "      <td>15.550</td>\n",
       "      <td>3646.003</td>\n",
       "      <td>1.129</td>\n",
       "    </tr>\n",
       "    <tr>\n",
       "      <th>min</th>\n",
       "      <td>1.000</td>\n",
       "      <td>-99995.000</td>\n",
       "      <td>-120.000</td>\n",
       "    </tr>\n",
       "    <tr>\n",
       "      <th>25%</th>\n",
       "      <td>3.000</td>\n",
       "      <td>395.000</td>\n",
       "      <td>1.000</td>\n",
       "    </tr>\n",
       "    <tr>\n",
       "      <th>50%</th>\n",
       "      <td>7.000</td>\n",
       "      <td>1295.000</td>\n",
       "      <td>1.000</td>\n",
       "    </tr>\n",
       "    <tr>\n",
       "      <th>75%</th>\n",
       "      <td>14.000</td>\n",
       "      <td>2195.000</td>\n",
       "      <td>1.000</td>\n",
       "    </tr>\n",
       "    <tr>\n",
       "      <th>max</th>\n",
       "      <td>823.000</td>\n",
       "      <td>99995.000</td>\n",
       "      <td>120.000</td>\n",
       "    </tr>\n",
       "  </tbody>\n",
       "</table>\n",
       "</div>"
      ],
      "text/plain": [
       "             Line       Sales       Count\n",
       "count 1048575.000 1048575.000 1048575.000\n",
       "mean       10.727    1720.513       0.896\n",
       "std        15.550    3646.003       1.129\n",
       "min         1.000  -99995.000    -120.000\n",
       "25%         3.000     395.000       1.000\n",
       "50%         7.000    1295.000       1.000\n",
       "75%        14.000    2195.000       1.000\n",
       "max       823.000   99995.000     120.000"
      ]
     },
     "execution_count": 28,
     "metadata": {},
     "output_type": "execute_result"
    }
   ],
   "source": [
    "pd.set_option('display.float_format', lambda x: '%.3f' % x)\n",
    "data.describe()"
   ]
  },
  {
   "cell_type": "code",
   "execution_count": 37,
   "metadata": {
    "collapsed": false,
    "scrolled": true
   },
   "outputs": [
    {
     "data": {
      "text/plain": [
       "1      138198\n",
       "2      103886\n",
       "3       84615\n",
       "4       72704\n",
       "5       63255\n",
       "6       56578\n",
       "7       50227\n",
       "8       45197\n",
       "9       40427\n",
       "10      36305\n",
       "11      32797\n",
       "12      29470\n",
       "13      26529\n",
       "14      23595\n",
       "15      21240\n",
       "16      19211\n",
       "17      17401\n",
       "18      15649\n",
       "19      14274\n",
       "20      12758\n",
       "21      11479\n",
       "22      10460\n",
       "23       9544\n",
       "24       8744\n",
       "25       7832\n",
       "26       7065\n",
       "27       6486\n",
       "28       6029\n",
       "29       5405\n",
       "30       4995\n",
       "        ...  \n",
       "285         1\n",
       "796         1\n",
       "236         1\n",
       "748         1\n",
       "750         1\n",
       "239         1\n",
       "240         1\n",
       "754         1\n",
       "755         1\n",
       "756         1\n",
       "246         1\n",
       "758         1\n",
       "760         1\n",
       "763         1\n",
       "764         1\n",
       "765         1\n",
       "256         1\n",
       "265         1\n",
       "267         1\n",
       "268         1\n",
       "269         1\n",
       "270         1\n",
       "272         1\n",
       "277         1\n",
       "278         1\n",
       "279         1\n",
       "280         1\n",
       "281         1\n",
       "282         1\n",
       "182         1\n",
       "Name: Line, Length: 604, dtype: int64"
      ]
     },
     "execution_count": 37,
     "metadata": {},
     "output_type": "execute_result"
    }
   ],
   "source": [
    "# How many observations in each Line\n",
    "data['Line'].value_counts()"
   ]
  },
  {
   "cell_type": "code",
   "execution_count": 64,
   "metadata": {
    "collapsed": false,
    "scrolled": true
   },
   "outputs": [
    {
     "data": {
      "text/plain": [
       "1.000       850239\n",
       "0.000       171448\n",
       "-1.000        8577\n",
       "2.000         5810\n",
       "10.000        2943\n",
       "4.000         2471\n",
       "3.000         1687\n",
       "6.000         1624\n",
       "5.000         1271\n",
       "8.000          356\n",
       "-2.000         345\n",
       "20.000         283\n",
       "9.000          222\n",
       "12.000         175\n",
       "-3.000         150\n",
       "30.000         117\n",
       "7.000          104\n",
       "15.000          78\n",
       "-4.000          76\n",
       "18.000          56\n",
       "-10.000         52\n",
       "-5.000          46\n",
       "-6.000          46\n",
       "16.000          44\n",
       "40.000          42\n",
       "24.000          35\n",
       "11.000          26\n",
       "14.000          23\n",
       "13.000          23\n",
       "50.000          22\n",
       "             ...  \n",
       "-16.000          2\n",
       "80.000           2\n",
       "29.000           2\n",
       "54.000           2\n",
       "-25.000          2\n",
       "-18.000          2\n",
       "72.000           2\n",
       "-54.000          2\n",
       "-48.000          1\n",
       "39.000           1\n",
       "91.000           1\n",
       "-9.000           1\n",
       "-120.000         1\n",
       "-40.000          1\n",
       "-91.000          1\n",
       "-36.000          1\n",
       "-11.000          1\n",
       "-14.000          1\n",
       "26.000           1\n",
       "65.000           1\n",
       "-33.000          1\n",
       "-7.000           1\n",
       "120.000          1\n",
       "33.000           1\n",
       "-31.000          1\n",
       "52.000           1\n",
       "-39.000          1\n",
       "44.000           1\n",
       "42.000           1\n",
       "0.010            1\n",
       "Name: Count, Length: 87, dtype: int64"
      ]
     },
     "execution_count": 64,
     "metadata": {},
     "output_type": "execute_result"
    }
   ],
   "source": [
    "# How many oberservations in each Count category\n",
    "data['Count'].value_counts().sort_values(ascending=False)"
   ]
  },
  {
   "cell_type": "code",
   "execution_count": 40,
   "metadata": {
    "collapsed": false
   },
   "outputs": [
    {
     "data": {
      "text/html": [
       "<div>\n",
       "<style>\n",
       "    .dataframe thead tr:only-child th {\n",
       "        text-align: right;\n",
       "    }\n",
       "\n",
       "    .dataframe thead th {\n",
       "        text-align: left;\n",
       "    }\n",
       "\n",
       "    .dataframe tbody tr th {\n",
       "        vertical-align: top;\n",
       "    }\n",
       "</style>\n",
       "<table border=\"1\" class=\"dataframe\">\n",
       "  <thead>\n",
       "    <tr style=\"text-align: right;\">\n",
       "      <th></th>\n",
       "      <th>StoreID</th>\n",
       "      <th>TransactionID</th>\n",
       "      <th>Line</th>\n",
       "      <th>Sales</th>\n",
       "      <th>Count</th>\n",
       "      <th>Date</th>\n",
       "      <th>SKU</th>\n",
       "    </tr>\n",
       "  </thead>\n",
       "  <tbody>\n",
       "    <tr>\n",
       "      <th>304917</th>\n",
       "      <td>A22</td>\n",
       "      <td>12-7234-00007-00457</td>\n",
       "      <td>1</td>\n",
       "      <td>99995.000</td>\n",
       "      <td>1.000</td>\n",
       "      <td>3/12/12 00:00</td>\n",
       "      <td>A19551</td>\n",
       "    </tr>\n",
       "    <tr>\n",
       "      <th>304918</th>\n",
       "      <td>A22</td>\n",
       "      <td>12-7234-00007-00457</td>\n",
       "      <td>2</td>\n",
       "      <td>-99995.000</td>\n",
       "      <td>-1.000</td>\n",
       "      <td>3/12/12 00:00</td>\n",
       "      <td>A19551</td>\n",
       "    </tr>\n",
       "    <tr>\n",
       "      <th>378017</th>\n",
       "      <td>A27</td>\n",
       "      <td>12-7070-00007-00002</td>\n",
       "      <td>763</td>\n",
       "      <td>3195.000</td>\n",
       "      <td>1.000</td>\n",
       "      <td>3/12/12 00:00</td>\n",
       "      <td>A3503</td>\n",
       "    </tr>\n",
       "    <tr>\n",
       "      <th>378029</th>\n",
       "      <td>A27</td>\n",
       "      <td>12-7070-00007-00002</td>\n",
       "      <td>823</td>\n",
       "      <td>-646.000</td>\n",
       "      <td>0.000</td>\n",
       "      <td>3/12/12 00:00</td>\n",
       "      <td>A25525</td>\n",
       "    </tr>\n",
       "    <tr>\n",
       "      <th>653883</th>\n",
       "      <td>A46</td>\n",
       "      <td>12-7027-00013-00092</td>\n",
       "      <td>3</td>\n",
       "      <td>60000.000</td>\n",
       "      <td>120.000</td>\n",
       "      <td>3/12/12 00:00</td>\n",
       "      <td>A10809</td>\n",
       "    </tr>\n",
       "    <tr>\n",
       "      <th>653885</th>\n",
       "      <td>A46</td>\n",
       "      <td>12-7027-00013-00092</td>\n",
       "      <td>6</td>\n",
       "      <td>-60000.000</td>\n",
       "      <td>-120.000</td>\n",
       "      <td>3/12/12 00:00</td>\n",
       "      <td>A10809</td>\n",
       "    </tr>\n",
       "  </tbody>\n",
       "</table>\n",
       "</div>"
      ],
      "text/plain": [
       "       StoreID        TransactionID  Line      Sales    Count           Date  \\\n",
       "304917     A22  12-7234-00007-00457     1  99995.000    1.000  3/12/12 00:00   \n",
       "304918     A22  12-7234-00007-00457     2 -99995.000   -1.000  3/12/12 00:00   \n",
       "378017     A27  12-7070-00007-00002   763   3195.000    1.000  3/12/12 00:00   \n",
       "378029     A27  12-7070-00007-00002   823   -646.000    0.000  3/12/12 00:00   \n",
       "653883     A46  12-7027-00013-00092     3  60000.000  120.000  3/12/12 00:00   \n",
       "653885     A46  12-7027-00013-00092     6 -60000.000 -120.000  3/12/12 00:00   \n",
       "\n",
       "           SKU  \n",
       "304917  A19551  \n",
       "304918  A19551  \n",
       "378017   A3503  \n",
       "378029  A25525  \n",
       "653883  A10809  \n",
       "653885  A10809  "
      ]
     },
     "execution_count": 40,
     "metadata": {},
     "output_type": "execute_result"
    }
   ],
   "source": [
    "data.loc[(data['Count']==-120)|(data['Count']==120)| (data['Sales']==-99995)|(data['Sales']==99995)|\n",
    "        (data['Line']==823)|(data['Line']==763)]"
   ]
  },
  {
   "cell_type": "markdown",
   "metadata": {},
   "source": [
    "<br><br>"
   ]
  },
  {
   "cell_type": "markdown",
   "metadata": {},
   "source": [
    "## Exploratory Data Analysis"
   ]
  },
  {
   "cell_type": "markdown",
   "metadata": {},
   "source": [
    "### Explore cases when Count=0"
   ]
  },
  {
   "cell_type": "code",
   "execution_count": 85,
   "metadata": {
    "collapsed": false
   },
   "outputs": [
    {
     "data": {
      "text/html": [
       "<div>\n",
       "<style>\n",
       "    .dataframe thead tr:only-child th {\n",
       "        text-align: right;\n",
       "    }\n",
       "\n",
       "    .dataframe thead th {\n",
       "        text-align: left;\n",
       "    }\n",
       "\n",
       "    .dataframe tbody tr th {\n",
       "        vertical-align: top;\n",
       "    }\n",
       "</style>\n",
       "<table border=\"1\" class=\"dataframe\">\n",
       "  <thead>\n",
       "    <tr style=\"text-align: right;\">\n",
       "      <th></th>\n",
       "      <th>StoreID</th>\n",
       "      <th>TransactionID</th>\n",
       "      <th>Line</th>\n",
       "      <th>Sales</th>\n",
       "      <th>Count</th>\n",
       "      <th>Date</th>\n",
       "      <th>SKU</th>\n",
       "    </tr>\n",
       "  </thead>\n",
       "  <tbody>\n",
       "    <tr>\n",
       "      <th>12</th>\n",
       "      <td>A29</td>\n",
       "      <td>11-7270-00007-00057</td>\n",
       "      <td>63</td>\n",
       "      <td>-786.000</td>\n",
       "      <td>0.000</td>\n",
       "      <td>3/11/12 00:00</td>\n",
       "      <td>A256</td>\n",
       "    </tr>\n",
       "    <tr>\n",
       "      <th>14</th>\n",
       "      <td>A29</td>\n",
       "      <td>11-7270-00007-00057</td>\n",
       "      <td>65</td>\n",
       "      <td>-770.000</td>\n",
       "      <td>0.000</td>\n",
       "      <td>3/11/12 00:00</td>\n",
       "      <td>A8481</td>\n",
       "    </tr>\n",
       "    <tr>\n",
       "      <th>20</th>\n",
       "      <td>A29</td>\n",
       "      <td>11-7270-00007-00057</td>\n",
       "      <td>75</td>\n",
       "      <td>-500.000</td>\n",
       "      <td>0.000</td>\n",
       "      <td>3/11/12 00:00</td>\n",
       "      <td>A2341</td>\n",
       "    </tr>\n",
       "    <tr>\n",
       "      <th>34</th>\n",
       "      <td>A29</td>\n",
       "      <td>11-7270-00007-00059</td>\n",
       "      <td>3</td>\n",
       "      <td>-800.000</td>\n",
       "      <td>0.000</td>\n",
       "      <td>3/11/12 00:00</td>\n",
       "      <td>A24593</td>\n",
       "    </tr>\n",
       "    <tr>\n",
       "      <th>39</th>\n",
       "      <td>A29</td>\n",
       "      <td>11-7270-00007-00060</td>\n",
       "      <td>9</td>\n",
       "      <td>-475.000</td>\n",
       "      <td>0.000</td>\n",
       "      <td>3/11/12 00:00</td>\n",
       "      <td>A15257</td>\n",
       "    </tr>\n",
       "  </tbody>\n",
       "</table>\n",
       "</div>"
      ],
      "text/plain": [
       "   StoreID        TransactionID  Line    Sales  Count           Date     SKU\n",
       "12     A29  11-7270-00007-00057    63 -786.000  0.000  3/11/12 00:00    A256\n",
       "14     A29  11-7270-00007-00057    65 -770.000  0.000  3/11/12 00:00   A8481\n",
       "20     A29  11-7270-00007-00057    75 -500.000  0.000  3/11/12 00:00   A2341\n",
       "34     A29  11-7270-00007-00059     3 -800.000  0.000  3/11/12 00:00  A24593\n",
       "39     A29  11-7270-00007-00060     9 -475.000  0.000  3/11/12 00:00  A15257"
      ]
     },
     "execution_count": 85,
     "metadata": {},
     "output_type": "execute_result"
    }
   ],
   "source": [
    "data.loc[data['Count']==0].head()"
   ]
  },
  {
   "cell_type": "code",
   "execution_count": 52,
   "metadata": {
    "collapsed": false
   },
   "outputs": [
    {
     "data": {
      "text/html": [
       "<div>\n",
       "<style>\n",
       "    .dataframe thead tr:only-child th {\n",
       "        text-align: right;\n",
       "    }\n",
       "\n",
       "    .dataframe thead th {\n",
       "        text-align: left;\n",
       "    }\n",
       "\n",
       "    .dataframe tbody tr th {\n",
       "        vertical-align: top;\n",
       "    }\n",
       "</style>\n",
       "<table border=\"1\" class=\"dataframe\">\n",
       "  <thead>\n",
       "    <tr style=\"text-align: right;\">\n",
       "      <th></th>\n",
       "      <th>StoreID</th>\n",
       "      <th>TransactionID</th>\n",
       "      <th>Line</th>\n",
       "      <th>Sales</th>\n",
       "      <th>Count</th>\n",
       "      <th>Date</th>\n",
       "      <th>SKU</th>\n",
       "    </tr>\n",
       "  </thead>\n",
       "  <tbody>\n",
       "    <tr>\n",
       "      <th>11</th>\n",
       "      <td>A29</td>\n",
       "      <td>11-7270-00007-00057</td>\n",
       "      <td>62</td>\n",
       "      <td>2095.000</td>\n",
       "      <td>1.000</td>\n",
       "      <td>3/11/12 00:00</td>\n",
       "      <td>A256</td>\n",
       "    </tr>\n",
       "    <tr>\n",
       "      <th>12</th>\n",
       "      <td>A29</td>\n",
       "      <td>11-7270-00007-00057</td>\n",
       "      <td>63</td>\n",
       "      <td>-786.000</td>\n",
       "      <td>0.000</td>\n",
       "      <td>3/11/12 00:00</td>\n",
       "      <td>A256</td>\n",
       "    </tr>\n",
       "  </tbody>\n",
       "</table>\n",
       "</div>"
      ],
      "text/plain": [
       "   StoreID        TransactionID  Line    Sales  Count           Date   SKU\n",
       "11     A29  11-7270-00007-00057    62 2095.000  1.000  3/11/12 00:00  A256\n",
       "12     A29  11-7270-00007-00057    63 -786.000  0.000  3/11/12 00:00  A256"
      ]
     },
     "execution_count": 52,
     "metadata": {},
     "output_type": "execute_result"
    }
   ],
   "source": [
    "# When Count=0, it means it's a discount applied to the purchase\n",
    "data.loc[(data['SKU']=='A256')&(data['TransactionID']=='11-7270-00007-00057')]"
   ]
  },
  {
   "cell_type": "code",
   "execution_count": 108,
   "metadata": {
    "collapsed": false
   },
   "outputs": [
    {
     "data": {
      "text/html": [
       "<div>\n",
       "<style>\n",
       "    .dataframe thead tr:only-child th {\n",
       "        text-align: right;\n",
       "    }\n",
       "\n",
       "    .dataframe thead th {\n",
       "        text-align: left;\n",
       "    }\n",
       "\n",
       "    .dataframe tbody tr th {\n",
       "        vertical-align: top;\n",
       "    }\n",
       "</style>\n",
       "<table border=\"1\" class=\"dataframe\">\n",
       "  <thead>\n",
       "    <tr style=\"text-align: right;\">\n",
       "      <th></th>\n",
       "      <th>StoreID</th>\n",
       "      <th>TransactionID</th>\n",
       "      <th>Line</th>\n",
       "      <th>Sales</th>\n",
       "      <th>Count</th>\n",
       "      <th>Date</th>\n",
       "      <th>SKU</th>\n",
       "    </tr>\n",
       "  </thead>\n",
       "  <tbody>\n",
       "    <tr>\n",
       "      <th>1161</th>\n",
       "      <td>A29</td>\n",
       "      <td>11-7270-00007-00110</td>\n",
       "      <td>29</td>\n",
       "      <td>845.000</td>\n",
       "      <td>0.000</td>\n",
       "      <td>3/11/12 00:00</td>\n",
       "      <td>A6007</td>\n",
       "    </tr>\n",
       "    <tr>\n",
       "      <th>1234</th>\n",
       "      <td>A29</td>\n",
       "      <td>11-7270-00007-00116</td>\n",
       "      <td>20</td>\n",
       "      <td>234.000</td>\n",
       "      <td>0.000</td>\n",
       "      <td>3/11/12 00:00</td>\n",
       "      <td>A2452</td>\n",
       "    </tr>\n",
       "    <tr>\n",
       "      <th>4065</th>\n",
       "      <td>A29</td>\n",
       "      <td>11-7270-00008-00358</td>\n",
       "      <td>6</td>\n",
       "      <td>670.000</td>\n",
       "      <td>0.000</td>\n",
       "      <td>3/11/12 00:00</td>\n",
       "      <td>A13774</td>\n",
       "    </tr>\n",
       "    <tr>\n",
       "      <th>5634</th>\n",
       "      <td>A29</td>\n",
       "      <td>11-7270-00014-00241</td>\n",
       "      <td>10</td>\n",
       "      <td>333.000</td>\n",
       "      <td>0.000</td>\n",
       "      <td>3/11/12 00:00</td>\n",
       "      <td>A21307</td>\n",
       "    </tr>\n",
       "    <tr>\n",
       "      <th>9361</th>\n",
       "      <td>A29</td>\n",
       "      <td>11-7270-00006-00209</td>\n",
       "      <td>33</td>\n",
       "      <td>475.000</td>\n",
       "      <td>0.000</td>\n",
       "      <td>3/11/12 00:00</td>\n",
       "      <td>A15257</td>\n",
       "    </tr>\n",
       "  </tbody>\n",
       "</table>\n",
       "</div>"
      ],
      "text/plain": [
       "     StoreID        TransactionID  Line   Sales  Count           Date     SKU\n",
       "1161     A29  11-7270-00007-00110    29 845.000  0.000  3/11/12 00:00   A6007\n",
       "1234     A29  11-7270-00007-00116    20 234.000  0.000  3/11/12 00:00   A2452\n",
       "4065     A29  11-7270-00008-00358     6 670.000  0.000  3/11/12 00:00  A13774\n",
       "5634     A29  11-7270-00014-00241    10 333.000  0.000  3/11/12 00:00  A21307\n",
       "9361     A29  11-7270-00006-00209    33 475.000  0.000  3/11/12 00:00  A15257"
      ]
     },
     "execution_count": 108,
     "metadata": {},
     "output_type": "execute_result"
    }
   ],
   "source": [
    "# Why there are rows where Count=0 but Sales>0?\n",
    "data.loc[(data['Count']==0)&(data['Sales']>0)].head()"
   ]
  },
  {
   "cell_type": "code",
   "execution_count": 113,
   "metadata": {
    "collapsed": true
   },
   "outputs": [],
   "source": [
    "# Select rows where transactionID and SKU match transactionID and SKU when Count=0 but Sales>0\n",
    "q = '''\n",
    "    select\n",
    "        d1.StoreID, d1.TransactionID, d1.Line, d1.Sales, d1.Count, d1.Date, d1.SKU\n",
    "    from \n",
    "        data d1\n",
    "    inner join\n",
    "        (select \n",
    "            TransactionID, SKU\n",
    "        from\n",
    "            data\n",
    "        where Sales>0 and Count=0) as d2\n",
    "    on \n",
    "        d1.TransactionID = d2.TransactionID and\n",
    "        d1.SKU = d2.SKU\n",
    "    '''\n",
    "data1 = pysqldf(q)"
   ]
  },
  {
   "cell_type": "code",
   "execution_count": 116,
   "metadata": {
    "collapsed": false,
    "scrolled": true
   },
   "outputs": [
    {
     "data": {
      "text/html": [
       "<div>\n",
       "<style>\n",
       "    .dataframe thead tr:only-child th {\n",
       "        text-align: right;\n",
       "    }\n",
       "\n",
       "    .dataframe thead th {\n",
       "        text-align: left;\n",
       "    }\n",
       "\n",
       "    .dataframe tbody tr th {\n",
       "        vertical-align: top;\n",
       "    }\n",
       "</style>\n",
       "<table border=\"1\" class=\"dataframe\">\n",
       "  <thead>\n",
       "    <tr style=\"text-align: right;\">\n",
       "      <th></th>\n",
       "      <th>StoreID</th>\n",
       "      <th>TransactionID</th>\n",
       "      <th>Line</th>\n",
       "      <th>Sales</th>\n",
       "      <th>Count</th>\n",
       "      <th>Date</th>\n",
       "      <th>SKU</th>\n",
       "    </tr>\n",
       "  </thead>\n",
       "  <tbody>\n",
       "    <tr>\n",
       "      <th>0</th>\n",
       "      <td>A29</td>\n",
       "      <td>11-7270-00007-00110</td>\n",
       "      <td>22</td>\n",
       "      <td>2195.000</td>\n",
       "      <td>1.000</td>\n",
       "      <td>3/11/12 00:00</td>\n",
       "      <td>A6007</td>\n",
       "    </tr>\n",
       "    <tr>\n",
       "      <th>1</th>\n",
       "      <td>A29</td>\n",
       "      <td>11-7270-00007-00110</td>\n",
       "      <td>23</td>\n",
       "      <td>-845.000</td>\n",
       "      <td>0.000</td>\n",
       "      <td>3/11/12 00:00</td>\n",
       "      <td>A6007</td>\n",
       "    </tr>\n",
       "    <tr>\n",
       "      <th>2</th>\n",
       "      <td>A29</td>\n",
       "      <td>11-7270-00007-00110</td>\n",
       "      <td>24</td>\n",
       "      <td>2195.000</td>\n",
       "      <td>1.000</td>\n",
       "      <td>3/11/12 00:00</td>\n",
       "      <td>A6007</td>\n",
       "    </tr>\n",
       "    <tr>\n",
       "      <th>3</th>\n",
       "      <td>A29</td>\n",
       "      <td>11-7270-00007-00110</td>\n",
       "      <td>25</td>\n",
       "      <td>-845.000</td>\n",
       "      <td>0.000</td>\n",
       "      <td>3/11/12 00:00</td>\n",
       "      <td>A6007</td>\n",
       "    </tr>\n",
       "    <tr>\n",
       "      <th>4</th>\n",
       "      <td>A29</td>\n",
       "      <td>11-7270-00007-00110</td>\n",
       "      <td>26</td>\n",
       "      <td>2195.000</td>\n",
       "      <td>1.000</td>\n",
       "      <td>3/11/12 00:00</td>\n",
       "      <td>A6007</td>\n",
       "    </tr>\n",
       "    <tr>\n",
       "      <th>5</th>\n",
       "      <td>A29</td>\n",
       "      <td>11-7270-00007-00110</td>\n",
       "      <td>27</td>\n",
       "      <td>-845.000</td>\n",
       "      <td>0.000</td>\n",
       "      <td>3/11/12 00:00</td>\n",
       "      <td>A6007</td>\n",
       "    </tr>\n",
       "    <tr>\n",
       "      <th>6</th>\n",
       "      <td>A29</td>\n",
       "      <td>11-7270-00007-00110</td>\n",
       "      <td>28</td>\n",
       "      <td>-2195.000</td>\n",
       "      <td>-1.000</td>\n",
       "      <td>3/11/12 00:00</td>\n",
       "      <td>A6007</td>\n",
       "    </tr>\n",
       "    <tr>\n",
       "      <th>7</th>\n",
       "      <td>A29</td>\n",
       "      <td>11-7270-00007-00110</td>\n",
       "      <td>29</td>\n",
       "      <td>845.000</td>\n",
       "      <td>0.000</td>\n",
       "      <td>3/11/12 00:00</td>\n",
       "      <td>A6007</td>\n",
       "    </tr>\n",
       "    <tr>\n",
       "      <th>8</th>\n",
       "      <td>A29</td>\n",
       "      <td>11-7270-00007-00116</td>\n",
       "      <td>15</td>\n",
       "      <td>1423.000</td>\n",
       "      <td>1.000</td>\n",
       "      <td>3/11/12 00:00</td>\n",
       "      <td>A2452</td>\n",
       "    </tr>\n",
       "    <tr>\n",
       "      <th>9</th>\n",
       "      <td>A29</td>\n",
       "      <td>11-7270-00007-00116</td>\n",
       "      <td>16</td>\n",
       "      <td>-234.000</td>\n",
       "      <td>0.000</td>\n",
       "      <td>3/11/12 00:00</td>\n",
       "      <td>A2452</td>\n",
       "    </tr>\n",
       "  </tbody>\n",
       "</table>\n",
       "</div>"
      ],
      "text/plain": [
       "  StoreID        TransactionID  Line     Sales  Count           Date    SKU\n",
       "0     A29  11-7270-00007-00110    22  2195.000  1.000  3/11/12 00:00  A6007\n",
       "1     A29  11-7270-00007-00110    23  -845.000  0.000  3/11/12 00:00  A6007\n",
       "2     A29  11-7270-00007-00110    24  2195.000  1.000  3/11/12 00:00  A6007\n",
       "3     A29  11-7270-00007-00110    25  -845.000  0.000  3/11/12 00:00  A6007\n",
       "4     A29  11-7270-00007-00110    26  2195.000  1.000  3/11/12 00:00  A6007\n",
       "5     A29  11-7270-00007-00110    27  -845.000  0.000  3/11/12 00:00  A6007\n",
       "6     A29  11-7270-00007-00110    28 -2195.000 -1.000  3/11/12 00:00  A6007\n",
       "7     A29  11-7270-00007-00110    29   845.000  0.000  3/11/12 00:00  A6007\n",
       "8     A29  11-7270-00007-00116    15  1423.000  1.000  3/11/12 00:00  A2452\n",
       "9     A29  11-7270-00007-00116    16  -234.000  0.000  3/11/12 00:00  A2452"
      ]
     },
     "execution_count": 116,
     "metadata": {},
     "output_type": "execute_result"
    }
   ],
   "source": [
    "data1.head(10)"
   ]
  },
  {
   "cell_type": "markdown",
   "metadata": {},
   "source": [
    "### We know from the above table: some customers have bought the discounted items but he told the counter cashier that he didn't want this item anymore. In order to not include the discount from that item, we have to add that discount back. "
   ]
  },
  {
   "cell_type": "markdown",
   "metadata": {},
   "source": [
    "<br><br>"
   ]
  },
  {
   "cell_type": "markdown",
   "metadata": {},
   "source": [
    "### Explore cases when Count=-1"
   ]
  },
  {
   "cell_type": "code",
   "execution_count": 66,
   "metadata": {
    "collapsed": false
   },
   "outputs": [
    {
     "data": {
      "text/html": [
       "<div>\n",
       "<style>\n",
       "    .dataframe thead tr:only-child th {\n",
       "        text-align: right;\n",
       "    }\n",
       "\n",
       "    .dataframe thead th {\n",
       "        text-align: left;\n",
       "    }\n",
       "\n",
       "    .dataframe tbody tr th {\n",
       "        vertical-align: top;\n",
       "    }\n",
       "</style>\n",
       "<table border=\"1\" class=\"dataframe\">\n",
       "  <thead>\n",
       "    <tr style=\"text-align: right;\">\n",
       "      <th></th>\n",
       "      <th>StoreID</th>\n",
       "      <th>TransactionID</th>\n",
       "      <th>Line</th>\n",
       "      <th>Sales</th>\n",
       "      <th>Count</th>\n",
       "      <th>Date</th>\n",
       "      <th>SKU</th>\n",
       "    </tr>\n",
       "  </thead>\n",
       "  <tbody>\n",
       "    <tr>\n",
       "      <th>100</th>\n",
       "      <td>A29</td>\n",
       "      <td>11-7270-00007-00066</td>\n",
       "      <td>5</td>\n",
       "      <td>-2013.000</td>\n",
       "      <td>-1.000</td>\n",
       "      <td>3/11/12 00:00</td>\n",
       "      <td>A2729</td>\n",
       "    </tr>\n",
       "    <tr>\n",
       "      <th>354</th>\n",
       "      <td>A19</td>\n",
       "      <td>11-7287-00025-00075</td>\n",
       "      <td>4</td>\n",
       "      <td>-1721.000</td>\n",
       "      <td>-1.000</td>\n",
       "      <td>3/11/12 00:00</td>\n",
       "      <td>A16911</td>\n",
       "    </tr>\n",
       "    <tr>\n",
       "      <th>446</th>\n",
       "      <td>A27</td>\n",
       "      <td>11-7069-00020-00010</td>\n",
       "      <td>6</td>\n",
       "      <td>-4252.000</td>\n",
       "      <td>-1.000</td>\n",
       "      <td>3/11/12 00:00</td>\n",
       "      <td>A7293</td>\n",
       "    </tr>\n",
       "    <tr>\n",
       "      <th>458</th>\n",
       "      <td>A29</td>\n",
       "      <td>11-7270-00007-00072</td>\n",
       "      <td>37</td>\n",
       "      <td>-2395.000</td>\n",
       "      <td>-1.000</td>\n",
       "      <td>3/11/12 00:00</td>\n",
       "      <td>A19365</td>\n",
       "    </tr>\n",
       "    <tr>\n",
       "      <th>622</th>\n",
       "      <td>A29</td>\n",
       "      <td>11-7270-00007-00089</td>\n",
       "      <td>19</td>\n",
       "      <td>-3995.000</td>\n",
       "      <td>-1.000</td>\n",
       "      <td>3/11/12 00:00</td>\n",
       "      <td>A21166</td>\n",
       "    </tr>\n",
       "  </tbody>\n",
       "</table>\n",
       "</div>"
      ],
      "text/plain": [
       "    StoreID        TransactionID  Line     Sales  Count           Date     SKU\n",
       "100     A29  11-7270-00007-00066     5 -2013.000 -1.000  3/11/12 00:00   A2729\n",
       "354     A19  11-7287-00025-00075     4 -1721.000 -1.000  3/11/12 00:00  A16911\n",
       "446     A27  11-7069-00020-00010     6 -4252.000 -1.000  3/11/12 00:00   A7293\n",
       "458     A29  11-7270-00007-00072    37 -2395.000 -1.000  3/11/12 00:00  A19365\n",
       "622     A29  11-7270-00007-00089    19 -3995.000 -1.000  3/11/12 00:00  A21166"
      ]
     },
     "execution_count": 66,
     "metadata": {},
     "output_type": "execute_result"
    }
   ],
   "source": [
    "# Count=-1\n",
    "data.loc[data['Count']==-1].head()"
   ]
  },
  {
   "cell_type": "code",
   "execution_count": 87,
   "metadata": {
    "collapsed": true
   },
   "outputs": [],
   "source": [
    "from pandasql import sqldf\n",
    "pysqldf = lambda q: sqldf(q, globals())"
   ]
  },
  {
   "cell_type": "code",
   "execution_count": 119,
   "metadata": {
    "collapsed": false
   },
   "outputs": [],
   "source": [
    "q = '''\n",
    "    select\n",
    "        d1.StoreID, d1.TransactionID, d1.Line, d1.Sales, d1.Count, d1.Date, d1.SKU\n",
    "    from \n",
    "        data d1\n",
    "    inner join\n",
    "        (select \n",
    "            TransactionID, SKU\n",
    "        from\n",
    "            data\n",
    "        where Count=-1) as d2\n",
    "    on \n",
    "        d1.TransactionID = d2.TransactionID and\n",
    "        d1.SKU = d2.SKU\n",
    "    '''\n",
    "data1 = pysqldf(q)"
   ]
  },
  {
   "cell_type": "code",
   "execution_count": 120,
   "metadata": {
    "collapsed": false
   },
   "outputs": [
    {
     "data": {
      "text/html": [
       "<div>\n",
       "<style>\n",
       "    .dataframe thead tr:only-child th {\n",
       "        text-align: right;\n",
       "    }\n",
       "\n",
       "    .dataframe thead th {\n",
       "        text-align: left;\n",
       "    }\n",
       "\n",
       "    .dataframe tbody tr th {\n",
       "        vertical-align: top;\n",
       "    }\n",
       "</style>\n",
       "<table border=\"1\" class=\"dataframe\">\n",
       "  <thead>\n",
       "    <tr style=\"text-align: right;\">\n",
       "      <th></th>\n",
       "      <th>StoreID</th>\n",
       "      <th>TransactionID</th>\n",
       "      <th>Line</th>\n",
       "      <th>Sales</th>\n",
       "      <th>Count</th>\n",
       "      <th>Date</th>\n",
       "      <th>SKU</th>\n",
       "    </tr>\n",
       "  </thead>\n",
       "  <tbody>\n",
       "    <tr>\n",
       "      <th>0</th>\n",
       "      <td>A29</td>\n",
       "      <td>11-7270-00007-00066</td>\n",
       "      <td>3</td>\n",
       "      <td>2013.000</td>\n",
       "      <td>1.000</td>\n",
       "      <td>3/11/12 00:00</td>\n",
       "      <td>A2729</td>\n",
       "    </tr>\n",
       "    <tr>\n",
       "      <th>1</th>\n",
       "      <td>A29</td>\n",
       "      <td>11-7270-00007-00066</td>\n",
       "      <td>4</td>\n",
       "      <td>2013.000</td>\n",
       "      <td>1.000</td>\n",
       "      <td>3/11/12 00:00</td>\n",
       "      <td>A2729</td>\n",
       "    </tr>\n",
       "    <tr>\n",
       "      <th>2</th>\n",
       "      <td>A29</td>\n",
       "      <td>11-7270-00007-00066</td>\n",
       "      <td>5</td>\n",
       "      <td>-2013.000</td>\n",
       "      <td>-1.000</td>\n",
       "      <td>3/11/12 00:00</td>\n",
       "      <td>A2729</td>\n",
       "    </tr>\n",
       "    <tr>\n",
       "      <th>3</th>\n",
       "      <td>A19</td>\n",
       "      <td>11-7287-00025-00075</td>\n",
       "      <td>3</td>\n",
       "      <td>1721.000</td>\n",
       "      <td>1.000</td>\n",
       "      <td>3/11/12 00:00</td>\n",
       "      <td>A16911</td>\n",
       "    </tr>\n",
       "    <tr>\n",
       "      <th>4</th>\n",
       "      <td>A19</td>\n",
       "      <td>11-7287-00025-00075</td>\n",
       "      <td>4</td>\n",
       "      <td>-1721.000</td>\n",
       "      <td>-1.000</td>\n",
       "      <td>3/11/12 00:00</td>\n",
       "      <td>A16911</td>\n",
       "    </tr>\n",
       "    <tr>\n",
       "      <th>5</th>\n",
       "      <td>A27</td>\n",
       "      <td>11-7069-00020-00010</td>\n",
       "      <td>1</td>\n",
       "      <td>4252.000</td>\n",
       "      <td>1.000</td>\n",
       "      <td>3/11/12 00:00</td>\n",
       "      <td>A7293</td>\n",
       "    </tr>\n",
       "    <tr>\n",
       "      <th>6</th>\n",
       "      <td>A27</td>\n",
       "      <td>11-7069-00020-00010</td>\n",
       "      <td>6</td>\n",
       "      <td>-4252.000</td>\n",
       "      <td>-1.000</td>\n",
       "      <td>3/11/12 00:00</td>\n",
       "      <td>A7293</td>\n",
       "    </tr>\n",
       "    <tr>\n",
       "      <th>7</th>\n",
       "      <td>A29</td>\n",
       "      <td>11-7270-00007-00072</td>\n",
       "      <td>33</td>\n",
       "      <td>2395.000</td>\n",
       "      <td>1.000</td>\n",
       "      <td>3/11/12 00:00</td>\n",
       "      <td>A19365</td>\n",
       "    </tr>\n",
       "    <tr>\n",
       "      <th>8</th>\n",
       "      <td>A29</td>\n",
       "      <td>11-7270-00007-00072</td>\n",
       "      <td>35</td>\n",
       "      <td>2395.000</td>\n",
       "      <td>1.000</td>\n",
       "      <td>3/11/12 00:00</td>\n",
       "      <td>A19365</td>\n",
       "    </tr>\n",
       "    <tr>\n",
       "      <th>9</th>\n",
       "      <td>A29</td>\n",
       "      <td>11-7270-00007-00072</td>\n",
       "      <td>36</td>\n",
       "      <td>2395.000</td>\n",
       "      <td>1.000</td>\n",
       "      <td>3/11/12 00:00</td>\n",
       "      <td>A19365</td>\n",
       "    </tr>\n",
       "    <tr>\n",
       "      <th>10</th>\n",
       "      <td>A29</td>\n",
       "      <td>11-7270-00007-00072</td>\n",
       "      <td>37</td>\n",
       "      <td>-2395.000</td>\n",
       "      <td>-1.000</td>\n",
       "      <td>3/11/12 00:00</td>\n",
       "      <td>A19365</td>\n",
       "    </tr>\n",
       "    <tr>\n",
       "      <th>11</th>\n",
       "      <td>A29</td>\n",
       "      <td>11-7270-00007-00089</td>\n",
       "      <td>4</td>\n",
       "      <td>3995.000</td>\n",
       "      <td>1.000</td>\n",
       "      <td>3/11/12 00:00</td>\n",
       "      <td>A21166</td>\n",
       "    </tr>\n",
       "    <tr>\n",
       "      <th>12</th>\n",
       "      <td>A29</td>\n",
       "      <td>11-7270-00007-00089</td>\n",
       "      <td>19</td>\n",
       "      <td>-3995.000</td>\n",
       "      <td>-1.000</td>\n",
       "      <td>3/11/12 00:00</td>\n",
       "      <td>A21166</td>\n",
       "    </tr>\n",
       "    <tr>\n",
       "      <th>13</th>\n",
       "      <td>A29</td>\n",
       "      <td>11-7270-00007-00089</td>\n",
       "      <td>20</td>\n",
       "      <td>1995.000</td>\n",
       "      <td>1.000</td>\n",
       "      <td>3/11/12 00:00</td>\n",
       "      <td>A21166</td>\n",
       "    </tr>\n",
       "    <tr>\n",
       "      <th>14</th>\n",
       "      <td>A29</td>\n",
       "      <td>11-7270-00009-00038</td>\n",
       "      <td>4</td>\n",
       "      <td>2695.000</td>\n",
       "      <td>1.000</td>\n",
       "      <td>3/11/12 00:00</td>\n",
       "      <td>A24548</td>\n",
       "    </tr>\n",
       "    <tr>\n",
       "      <th>15</th>\n",
       "      <td>A29</td>\n",
       "      <td>11-7270-00009-00038</td>\n",
       "      <td>5</td>\n",
       "      <td>2695.000</td>\n",
       "      <td>1.000</td>\n",
       "      <td>3/11/12 00:00</td>\n",
       "      <td>A24548</td>\n",
       "    </tr>\n",
       "    <tr>\n",
       "      <th>16</th>\n",
       "      <td>A29</td>\n",
       "      <td>11-7270-00009-00038</td>\n",
       "      <td>6</td>\n",
       "      <td>-2695.000</td>\n",
       "      <td>-1.000</td>\n",
       "      <td>3/11/12 00:00</td>\n",
       "      <td>A24548</td>\n",
       "    </tr>\n",
       "    <tr>\n",
       "      <th>17</th>\n",
       "      <td>A29</td>\n",
       "      <td>11-7270-00007-00105</td>\n",
       "      <td>16</td>\n",
       "      <td>250.000</td>\n",
       "      <td>1.000</td>\n",
       "      <td>3/11/12 00:00</td>\n",
       "      <td>A3664</td>\n",
       "    </tr>\n",
       "    <tr>\n",
       "      <th>18</th>\n",
       "      <td>A29</td>\n",
       "      <td>11-7270-00007-00105</td>\n",
       "      <td>17</td>\n",
       "      <td>250.000</td>\n",
       "      <td>1.000</td>\n",
       "      <td>3/11/12 00:00</td>\n",
       "      <td>A3664</td>\n",
       "    </tr>\n",
       "    <tr>\n",
       "      <th>19</th>\n",
       "      <td>A29</td>\n",
       "      <td>11-7270-00007-00105</td>\n",
       "      <td>18</td>\n",
       "      <td>-250.000</td>\n",
       "      <td>-1.000</td>\n",
       "      <td>3/11/12 00:00</td>\n",
       "      <td>A3664</td>\n",
       "    </tr>\n",
       "  </tbody>\n",
       "</table>\n",
       "</div>"
      ],
      "text/plain": [
       "   StoreID        TransactionID  Line     Sales  Count           Date     SKU\n",
       "0      A29  11-7270-00007-00066     3  2013.000  1.000  3/11/12 00:00   A2729\n",
       "1      A29  11-7270-00007-00066     4  2013.000  1.000  3/11/12 00:00   A2729\n",
       "2      A29  11-7270-00007-00066     5 -2013.000 -1.000  3/11/12 00:00   A2729\n",
       "3      A19  11-7287-00025-00075     3  1721.000  1.000  3/11/12 00:00  A16911\n",
       "4      A19  11-7287-00025-00075     4 -1721.000 -1.000  3/11/12 00:00  A16911\n",
       "5      A27  11-7069-00020-00010     1  4252.000  1.000  3/11/12 00:00   A7293\n",
       "6      A27  11-7069-00020-00010     6 -4252.000 -1.000  3/11/12 00:00   A7293\n",
       "7      A29  11-7270-00007-00072    33  2395.000  1.000  3/11/12 00:00  A19365\n",
       "8      A29  11-7270-00007-00072    35  2395.000  1.000  3/11/12 00:00  A19365\n",
       "9      A29  11-7270-00007-00072    36  2395.000  1.000  3/11/12 00:00  A19365\n",
       "10     A29  11-7270-00007-00072    37 -2395.000 -1.000  3/11/12 00:00  A19365\n",
       "11     A29  11-7270-00007-00089     4  3995.000  1.000  3/11/12 00:00  A21166\n",
       "12     A29  11-7270-00007-00089    19 -3995.000 -1.000  3/11/12 00:00  A21166\n",
       "13     A29  11-7270-00007-00089    20  1995.000  1.000  3/11/12 00:00  A21166\n",
       "14     A29  11-7270-00009-00038     4  2695.000  1.000  3/11/12 00:00  A24548\n",
       "15     A29  11-7270-00009-00038     5  2695.000  1.000  3/11/12 00:00  A24548\n",
       "16     A29  11-7270-00009-00038     6 -2695.000 -1.000  3/11/12 00:00  A24548\n",
       "17     A29  11-7270-00007-00105    16   250.000  1.000  3/11/12 00:00   A3664\n",
       "18     A29  11-7270-00007-00105    17   250.000  1.000  3/11/12 00:00   A3664\n",
       "19     A29  11-7270-00007-00105    18  -250.000 -1.000  3/11/12 00:00   A3664"
      ]
     },
     "execution_count": 120,
     "metadata": {},
     "output_type": "execute_result"
    }
   ],
   "source": [
    "data1.head(20)"
   ]
  },
  {
   "cell_type": "markdown",
   "metadata": {},
   "source": [
    "### We can see from the table, what count=-1 means that this customer didn't want this item at all. \n",
    "### There are several cases:\n",
    "###  1. The customer bought just 1 item and he didn't want this item during the  transaction; \n",
    "### 2. The customer bought a discouted item and he didn't want this item during the same transaction;\n",
    "### 3. The customer bought 2 or over 2 items of this product and he didn't want one of this item during the same transaction.\n",
    "### 4. The customer bought 1 item and he didn't want this item during the transaction, since he found the same item in a cheaper price.\n",
    "### 5. Cashier wrongly scanned one item twice."
   ]
  },
  {
   "cell_type": "markdown",
   "metadata": {},
   "source": [
    "<br><br>"
   ]
  },
  {
   "cell_type": "markdown",
   "metadata": {},
   "source": [
    "### Explore cases when count=-2"
   ]
  },
  {
   "cell_type": "code",
   "execution_count": 82,
   "metadata": {
    "collapsed": true
   },
   "outputs": [],
   "source": [
    "# Count=-2\n",
    "q = '''\n",
    "    select\n",
    "        d1.StoreID, d1.TransactionID, d1.Line, d1.Sales, d1.Count, d1.Date, d1.SKU\n",
    "    from \n",
    "        data d1\n",
    "    inner join\n",
    "        (select \n",
    "            TransactionID, SKU\n",
    "        from\n",
    "            data\n",
    "        where Count=-2) as d2\n",
    "    on \n",
    "        d1.TransactionID = d2.TransactionID and\n",
    "        d1.SKU = d2.SKU\n",
    "    '''\n",
    "data2 = pysqldf(q)"
   ]
  },
  {
   "cell_type": "code",
   "execution_count": 87,
   "metadata": {
    "collapsed": false
   },
   "outputs": [
    {
     "data": {
      "text/html": [
       "<div>\n",
       "<style>\n",
       "    .dataframe thead tr:only-child th {\n",
       "        text-align: right;\n",
       "    }\n",
       "\n",
       "    .dataframe thead th {\n",
       "        text-align: left;\n",
       "    }\n",
       "\n",
       "    .dataframe tbody tr th {\n",
       "        vertical-align: top;\n",
       "    }\n",
       "</style>\n",
       "<table border=\"1\" class=\"dataframe\">\n",
       "  <thead>\n",
       "    <tr style=\"text-align: right;\">\n",
       "      <th></th>\n",
       "      <th>StoreID</th>\n",
       "      <th>TransactionID</th>\n",
       "      <th>Line</th>\n",
       "      <th>Sales</th>\n",
       "      <th>Count</th>\n",
       "      <th>Date</th>\n",
       "      <th>SKU</th>\n",
       "    </tr>\n",
       "  </thead>\n",
       "  <tbody>\n",
       "    <tr>\n",
       "      <th>0</th>\n",
       "      <td>A17</td>\n",
       "      <td>11-7720-00017-00144</td>\n",
       "      <td>6</td>\n",
       "      <td>1600.000</td>\n",
       "      <td>2.000</td>\n",
       "      <td>3/11/12 00:00</td>\n",
       "      <td>A5678</td>\n",
       "    </tr>\n",
       "    <tr>\n",
       "      <th>1</th>\n",
       "      <td>A17</td>\n",
       "      <td>11-7720-00017-00144</td>\n",
       "      <td>7</td>\n",
       "      <td>-1600.000</td>\n",
       "      <td>-2.000</td>\n",
       "      <td>3/11/12 00:00</td>\n",
       "      <td>A5678</td>\n",
       "    </tr>\n",
       "    <tr>\n",
       "      <th>2</th>\n",
       "      <td>A19</td>\n",
       "      <td>11-7287-00024-00014</td>\n",
       "      <td>9</td>\n",
       "      <td>1400.000</td>\n",
       "      <td>2.000</td>\n",
       "      <td>3/11/12 00:00</td>\n",
       "      <td>A6653</td>\n",
       "    </tr>\n",
       "    <tr>\n",
       "      <th>3</th>\n",
       "      <td>A19</td>\n",
       "      <td>11-7287-00024-00014</td>\n",
       "      <td>10</td>\n",
       "      <td>-1400.000</td>\n",
       "      <td>-2.000</td>\n",
       "      <td>3/11/12 00:00</td>\n",
       "      <td>A6653</td>\n",
       "    </tr>\n",
       "    <tr>\n",
       "      <th>4</th>\n",
       "      <td>A29</td>\n",
       "      <td>11-7270-00012-00113</td>\n",
       "      <td>2</td>\n",
       "      <td>-17990.000</td>\n",
       "      <td>-2.000</td>\n",
       "      <td>3/11/12 00:00</td>\n",
       "      <td>A22728</td>\n",
       "    </tr>\n",
       "    <tr>\n",
       "      <th>5</th>\n",
       "      <td>A29</td>\n",
       "      <td>11-7270-00012-00113</td>\n",
       "      <td>3</td>\n",
       "      <td>11495.000</td>\n",
       "      <td>1.000</td>\n",
       "      <td>3/11/12 00:00</td>\n",
       "      <td>A22882</td>\n",
       "    </tr>\n",
       "    <tr>\n",
       "      <th>6</th>\n",
       "      <td>A29</td>\n",
       "      <td>11-7270-00012-00113</td>\n",
       "      <td>4</td>\n",
       "      <td>11495.000</td>\n",
       "      <td>1.000</td>\n",
       "      <td>3/11/12 00:00</td>\n",
       "      <td>A22882</td>\n",
       "    </tr>\n",
       "    <tr>\n",
       "      <th>7</th>\n",
       "      <td>A29</td>\n",
       "      <td>11-7270-00012-00113</td>\n",
       "      <td>6</td>\n",
       "      <td>-22990.000</td>\n",
       "      <td>-2.000</td>\n",
       "      <td>3/11/12 00:00</td>\n",
       "      <td>A22882</td>\n",
       "    </tr>\n",
       "    <tr>\n",
       "      <th>8</th>\n",
       "      <td>A29</td>\n",
       "      <td>11-7270-00012-00113</td>\n",
       "      <td>7</td>\n",
       "      <td>17990.000</td>\n",
       "      <td>2.000</td>\n",
       "      <td>3/11/12 00:00</td>\n",
       "      <td>A22882</td>\n",
       "    </tr>\n",
       "    <tr>\n",
       "      <th>9</th>\n",
       "      <td>A29</td>\n",
       "      <td>11-7270-00018-00076</td>\n",
       "      <td>1</td>\n",
       "      <td>2800.000</td>\n",
       "      <td>2.000</td>\n",
       "      <td>3/11/12 00:00</td>\n",
       "      <td>A1891</td>\n",
       "    </tr>\n",
       "    <tr>\n",
       "      <th>10</th>\n",
       "      <td>A29</td>\n",
       "      <td>11-7270-00018-00076</td>\n",
       "      <td>3</td>\n",
       "      <td>-2800.000</td>\n",
       "      <td>-2.000</td>\n",
       "      <td>3/11/12 00:00</td>\n",
       "      <td>A1891</td>\n",
       "    </tr>\n",
       "    <tr>\n",
       "      <th>11</th>\n",
       "      <td>A55</td>\n",
       "      <td>11-1105-00010-00112</td>\n",
       "      <td>1</td>\n",
       "      <td>8504.000</td>\n",
       "      <td>2.000</td>\n",
       "      <td>3/11/12 00:00</td>\n",
       "      <td>A7293</td>\n",
       "    </tr>\n",
       "    <tr>\n",
       "      <th>12</th>\n",
       "      <td>A55</td>\n",
       "      <td>11-1105-00010-00112</td>\n",
       "      <td>3</td>\n",
       "      <td>-8504.000</td>\n",
       "      <td>-2.000</td>\n",
       "      <td>3/11/12 00:00</td>\n",
       "      <td>A7293</td>\n",
       "    </tr>\n",
       "    <tr>\n",
       "      <th>13</th>\n",
       "      <td>A60</td>\n",
       "      <td>11-0160-00021-00086</td>\n",
       "      <td>5</td>\n",
       "      <td>2624.000</td>\n",
       "      <td>2.000</td>\n",
       "      <td>3/11/12 00:00</td>\n",
       "      <td>A1092</td>\n",
       "    </tr>\n",
       "    <tr>\n",
       "      <th>14</th>\n",
       "      <td>A60</td>\n",
       "      <td>11-0160-00021-00086</td>\n",
       "      <td>6</td>\n",
       "      <td>-2624.000</td>\n",
       "      <td>-2.000</td>\n",
       "      <td>3/11/12 00:00</td>\n",
       "      <td>A1092</td>\n",
       "    </tr>\n",
       "    <tr>\n",
       "      <th>15</th>\n",
       "      <td>A60</td>\n",
       "      <td>11-0160-00021-00182</td>\n",
       "      <td>1</td>\n",
       "      <td>3400.000</td>\n",
       "      <td>2.000</td>\n",
       "      <td>3/11/12 00:00</td>\n",
       "      <td>A12968</td>\n",
       "    </tr>\n",
       "    <tr>\n",
       "      <th>16</th>\n",
       "      <td>A60</td>\n",
       "      <td>11-0160-00021-00182</td>\n",
       "      <td>3</td>\n",
       "      <td>-3400.000</td>\n",
       "      <td>-2.000</td>\n",
       "      <td>3/11/12 00:00</td>\n",
       "      <td>A12968</td>\n",
       "    </tr>\n",
       "    <tr>\n",
       "      <th>17</th>\n",
       "      <td>A65</td>\n",
       "      <td>11-3571-00008-00008</td>\n",
       "      <td>2</td>\n",
       "      <td>-19990.000</td>\n",
       "      <td>-2.000</td>\n",
       "      <td>3/11/12 00:00</td>\n",
       "      <td>A11920</td>\n",
       "    </tr>\n",
       "    <tr>\n",
       "      <th>18</th>\n",
       "      <td>A65</td>\n",
       "      <td>11-3571-00008-00048</td>\n",
       "      <td>1</td>\n",
       "      <td>-9000.000</td>\n",
       "      <td>-2.000</td>\n",
       "      <td>3/11/12 00:00</td>\n",
       "      <td>A25153</td>\n",
       "    </tr>\n",
       "    <tr>\n",
       "      <th>19</th>\n",
       "      <td>A65</td>\n",
       "      <td>11-3571-00012-00215</td>\n",
       "      <td>1</td>\n",
       "      <td>2622.000</td>\n",
       "      <td>2.000</td>\n",
       "      <td>3/11/12 00:00</td>\n",
       "      <td>A2401</td>\n",
       "    </tr>\n",
       "  </tbody>\n",
       "</table>\n",
       "</div>"
      ],
      "text/plain": [
       "   StoreID        TransactionID  Line      Sales  Count           Date     SKU\n",
       "0      A17  11-7720-00017-00144     6   1600.000  2.000  3/11/12 00:00   A5678\n",
       "1      A17  11-7720-00017-00144     7  -1600.000 -2.000  3/11/12 00:00   A5678\n",
       "2      A19  11-7287-00024-00014     9   1400.000  2.000  3/11/12 00:00   A6653\n",
       "3      A19  11-7287-00024-00014    10  -1400.000 -2.000  3/11/12 00:00   A6653\n",
       "4      A29  11-7270-00012-00113     2 -17990.000 -2.000  3/11/12 00:00  A22728\n",
       "5      A29  11-7270-00012-00113     3  11495.000  1.000  3/11/12 00:00  A22882\n",
       "6      A29  11-7270-00012-00113     4  11495.000  1.000  3/11/12 00:00  A22882\n",
       "7      A29  11-7270-00012-00113     6 -22990.000 -2.000  3/11/12 00:00  A22882\n",
       "8      A29  11-7270-00012-00113     7  17990.000  2.000  3/11/12 00:00  A22882\n",
       "9      A29  11-7270-00018-00076     1   2800.000  2.000  3/11/12 00:00   A1891\n",
       "10     A29  11-7270-00018-00076     3  -2800.000 -2.000  3/11/12 00:00   A1891\n",
       "11     A55  11-1105-00010-00112     1   8504.000  2.000  3/11/12 00:00   A7293\n",
       "12     A55  11-1105-00010-00112     3  -8504.000 -2.000  3/11/12 00:00   A7293\n",
       "13     A60  11-0160-00021-00086     5   2624.000  2.000  3/11/12 00:00   A1092\n",
       "14     A60  11-0160-00021-00086     6  -2624.000 -2.000  3/11/12 00:00   A1092\n",
       "15     A60  11-0160-00021-00182     1   3400.000  2.000  3/11/12 00:00  A12968\n",
       "16     A60  11-0160-00021-00182     3  -3400.000 -2.000  3/11/12 00:00  A12968\n",
       "17     A65  11-3571-00008-00008     2 -19990.000 -2.000  3/11/12 00:00  A11920\n",
       "18     A65  11-3571-00008-00048     1  -9000.000 -2.000  3/11/12 00:00  A25153\n",
       "19     A65  11-3571-00012-00215     1   2622.000  2.000  3/11/12 00:00   A2401"
      ]
     },
     "execution_count": 87,
     "metadata": {},
     "output_type": "execute_result"
    }
   ],
   "source": [
    "data2.head(20)"
   ]
  },
  {
   "cell_type": "code",
   "execution_count": 92,
   "metadata": {
    "collapsed": false
   },
   "outputs": [
    {
     "data": {
      "text/html": [
       "<div>\n",
       "<style>\n",
       "    .dataframe thead tr:only-child th {\n",
       "        text-align: right;\n",
       "    }\n",
       "\n",
       "    .dataframe thead th {\n",
       "        text-align: left;\n",
       "    }\n",
       "\n",
       "    .dataframe tbody tr th {\n",
       "        vertical-align: top;\n",
       "    }\n",
       "</style>\n",
       "<table border=\"1\" class=\"dataframe\">\n",
       "  <thead>\n",
       "    <tr style=\"text-align: right;\">\n",
       "      <th></th>\n",
       "      <th>StoreID</th>\n",
       "      <th>TransactionID</th>\n",
       "      <th>Line</th>\n",
       "      <th>Sales</th>\n",
       "      <th>Count</th>\n",
       "      <th>Date</th>\n",
       "      <th>SKU</th>\n",
       "    </tr>\n",
       "  </thead>\n",
       "  <tbody>\n",
       "    <tr>\n",
       "      <th>5003</th>\n",
       "      <td>A29</td>\n",
       "      <td>11-7270-00012-00113</td>\n",
       "      <td>2</td>\n",
       "      <td>-17990.000</td>\n",
       "      <td>-2.000</td>\n",
       "      <td>3/11/12 00:00</td>\n",
       "      <td>A22728</td>\n",
       "    </tr>\n",
       "  </tbody>\n",
       "</table>\n",
       "</div>"
      ],
      "text/plain": [
       "     StoreID        TransactionID  Line      Sales  Count           Date  \\\n",
       "5003     A29  11-7270-00012-00113     2 -17990.000 -2.000  3/11/12 00:00   \n",
       "\n",
       "         SKU  \n",
       "5003  A22728  "
      ]
     },
     "execution_count": 92,
     "metadata": {},
     "output_type": "execute_result"
    }
   ],
   "source": [
    "data.loc[(data['SKU']=='A22728')&(data['TransactionID']=='11-7270-00012-00113')]"
   ]
  },
  {
   "cell_type": "code",
   "execution_count": 101,
   "metadata": {
    "collapsed": false
   },
   "outputs": [
    {
     "data": {
      "text/html": [
       "<div>\n",
       "<style>\n",
       "    .dataframe thead tr:only-child th {\n",
       "        text-align: right;\n",
       "    }\n",
       "\n",
       "    .dataframe thead th {\n",
       "        text-align: left;\n",
       "    }\n",
       "\n",
       "    .dataframe tbody tr th {\n",
       "        vertical-align: top;\n",
       "    }\n",
       "</style>\n",
       "<table border=\"1\" class=\"dataframe\">\n",
       "  <thead>\n",
       "    <tr style=\"text-align: right;\">\n",
       "      <th></th>\n",
       "      <th>StoreID</th>\n",
       "      <th>TransactionID</th>\n",
       "      <th>Line</th>\n",
       "      <th>Sales</th>\n",
       "      <th>Count</th>\n",
       "      <th>Date</th>\n",
       "      <th>SKU</th>\n",
       "    </tr>\n",
       "  </thead>\n",
       "  <tbody>\n",
       "    <tr>\n",
       "      <th>5003</th>\n",
       "      <td>A29</td>\n",
       "      <td>11-7270-00012-00113</td>\n",
       "      <td>2</td>\n",
       "      <td>-17990.000</td>\n",
       "      <td>-2.000</td>\n",
       "      <td>3/11/12 00:00</td>\n",
       "      <td>A22728</td>\n",
       "    </tr>\n",
       "    <tr>\n",
       "      <th>223347</th>\n",
       "      <td>A15</td>\n",
       "      <td>12-7054-00006-00199</td>\n",
       "      <td>7</td>\n",
       "      <td>11495.000</td>\n",
       "      <td>1.000</td>\n",
       "      <td>3/12/12 00:00</td>\n",
       "      <td>A22728</td>\n",
       "    </tr>\n",
       "    <tr>\n",
       "      <th>604225</th>\n",
       "      <td>A43</td>\n",
       "      <td>12-7285-00006-00058</td>\n",
       "      <td>5</td>\n",
       "      <td>11495.000</td>\n",
       "      <td>1.000</td>\n",
       "      <td>3/12/12 00:00</td>\n",
       "      <td>A22728</td>\n",
       "    </tr>\n",
       "  </tbody>\n",
       "</table>\n",
       "</div>"
      ],
      "text/plain": [
       "       StoreID        TransactionID  Line      Sales  Count           Date  \\\n",
       "5003       A29  11-7270-00012-00113     2 -17990.000 -2.000  3/11/12 00:00   \n",
       "223347     A15  12-7054-00006-00199     7  11495.000  1.000  3/12/12 00:00   \n",
       "604225     A43  12-7285-00006-00058     5  11495.000  1.000  3/12/12 00:00   \n",
       "\n",
       "           SKU  \n",
       "5003    A22728  \n",
       "223347  A22728  \n",
       "604225  A22728  "
      ]
     },
     "execution_count": 101,
     "metadata": {},
     "output_type": "execute_result"
    }
   ],
   "source": [
    "data.loc[(data['SKU']=='A22728')]"
   ]
  },
  {
   "cell_type": "code",
   "execution_count": 95,
   "metadata": {
    "collapsed": false
   },
   "outputs": [
    {
     "data": {
      "text/html": [
       "<div>\n",
       "<style>\n",
       "    .dataframe thead tr:only-child th {\n",
       "        text-align: right;\n",
       "    }\n",
       "\n",
       "    .dataframe thead th {\n",
       "        text-align: left;\n",
       "    }\n",
       "\n",
       "    .dataframe tbody tr th {\n",
       "        vertical-align: top;\n",
       "    }\n",
       "</style>\n",
       "<table border=\"1\" class=\"dataframe\">\n",
       "  <thead>\n",
       "    <tr style=\"text-align: right;\">\n",
       "      <th></th>\n",
       "      <th>StoreID</th>\n",
       "      <th>TransactionID</th>\n",
       "      <th>Line</th>\n",
       "      <th>Sales</th>\n",
       "      <th>Count</th>\n",
       "      <th>Date</th>\n",
       "      <th>SKU</th>\n",
       "    </tr>\n",
       "  </thead>\n",
       "  <tbody>\n",
       "    <tr>\n",
       "      <th>23312</th>\n",
       "      <td>A65</td>\n",
       "      <td>11-3571-00008-00008</td>\n",
       "      <td>2</td>\n",
       "      <td>-19990.000</td>\n",
       "      <td>-2.000</td>\n",
       "      <td>3/11/12 00:00</td>\n",
       "      <td>A11920</td>\n",
       "    </tr>\n",
       "  </tbody>\n",
       "</table>\n",
       "</div>"
      ],
      "text/plain": [
       "      StoreID        TransactionID  Line      Sales  Count           Date  \\\n",
       "23312     A65  11-3571-00008-00008     2 -19990.000 -2.000  3/11/12 00:00   \n",
       "\n",
       "          SKU  \n",
       "23312  A11920  "
      ]
     },
     "execution_count": 95,
     "metadata": {},
     "output_type": "execute_result"
    }
   ],
   "source": [
    "data.loc[(data['SKU']=='A11920')&(data['TransactionID']=='11-3571-00008-00008')]"
   ]
  },
  {
   "cell_type": "code",
   "execution_count": 99,
   "metadata": {
    "collapsed": false
   },
   "outputs": [
    {
     "data": {
      "text/html": [
       "<div>\n",
       "<style>\n",
       "    .dataframe thead tr:only-child th {\n",
       "        text-align: right;\n",
       "    }\n",
       "\n",
       "    .dataframe thead th {\n",
       "        text-align: left;\n",
       "    }\n",
       "\n",
       "    .dataframe tbody tr th {\n",
       "        vertical-align: top;\n",
       "    }\n",
       "</style>\n",
       "<table border=\"1\" class=\"dataframe\">\n",
       "  <thead>\n",
       "    <tr style=\"text-align: right;\">\n",
       "      <th></th>\n",
       "      <th>StoreID</th>\n",
       "      <th>TransactionID</th>\n",
       "      <th>Line</th>\n",
       "      <th>Sales</th>\n",
       "      <th>Count</th>\n",
       "      <th>Date</th>\n",
       "      <th>SKU</th>\n",
       "    </tr>\n",
       "  </thead>\n",
       "  <tbody>\n",
       "    <tr>\n",
       "      <th>17859</th>\n",
       "      <td>A65</td>\n",
       "      <td>11-3571-00002-00340</td>\n",
       "      <td>1</td>\n",
       "      <td>9995.000</td>\n",
       "      <td>1.000</td>\n",
       "      <td>3/11/12 00:00</td>\n",
       "      <td>A11920</td>\n",
       "    </tr>\n",
       "    <tr>\n",
       "      <th>20424</th>\n",
       "      <td>A65</td>\n",
       "      <td>11-3571-00001-00209</td>\n",
       "      <td>1</td>\n",
       "      <td>9995.000</td>\n",
       "      <td>1.000</td>\n",
       "      <td>3/11/12 00:00</td>\n",
       "      <td>A11920</td>\n",
       "    </tr>\n",
       "    <tr>\n",
       "      <th>20425</th>\n",
       "      <td>A65</td>\n",
       "      <td>11-3571-00001-00209</td>\n",
       "      <td>2</td>\n",
       "      <td>9995.000</td>\n",
       "      <td>1.000</td>\n",
       "      <td>3/11/12 00:00</td>\n",
       "      <td>A11920</td>\n",
       "    </tr>\n",
       "    <tr>\n",
       "      <th>23312</th>\n",
       "      <td>A65</td>\n",
       "      <td>11-3571-00008-00008</td>\n",
       "      <td>2</td>\n",
       "      <td>-19990.000</td>\n",
       "      <td>-2.000</td>\n",
       "      <td>3/11/12 00:00</td>\n",
       "      <td>A11920</td>\n",
       "    </tr>\n",
       "    <tr>\n",
       "      <th>814110</th>\n",
       "      <td>A65</td>\n",
       "      <td>12-3572-00001-00226</td>\n",
       "      <td>1</td>\n",
       "      <td>9995.000</td>\n",
       "      <td>1.000</td>\n",
       "      <td>3/12/12 00:00</td>\n",
       "      <td>A11920</td>\n",
       "    </tr>\n",
       "  </tbody>\n",
       "</table>\n",
       "</div>"
      ],
      "text/plain": [
       "       StoreID        TransactionID  Line      Sales  Count           Date  \\\n",
       "17859      A65  11-3571-00002-00340     1   9995.000  1.000  3/11/12 00:00   \n",
       "20424      A65  11-3571-00001-00209     1   9995.000  1.000  3/11/12 00:00   \n",
       "20425      A65  11-3571-00001-00209     2   9995.000  1.000  3/11/12 00:00   \n",
       "23312      A65  11-3571-00008-00008     2 -19990.000 -2.000  3/11/12 00:00   \n",
       "814110     A65  12-3572-00001-00226     1   9995.000  1.000  3/12/12 00:00   \n",
       "\n",
       "           SKU  \n",
       "17859   A11920  \n",
       "20424   A11920  \n",
       "20425   A11920  \n",
       "23312   A11920  \n",
       "814110  A11920  "
      ]
     },
     "execution_count": 99,
     "metadata": {},
     "output_type": "execute_result"
    }
   ],
   "source": [
    "data.loc[(data['SKU']=='A11920')&(data['StoreID']=='A65')]"
   ]
  },
  {
   "cell_type": "markdown",
   "metadata": {},
   "source": [
    "### Several Cases:\n",
    "### 1. Customers bought 2 or over 2 items of a product and didn't want 2 of them immediately.\n",
    "### 2. Customers bought 2 or over 2 items of a product and decided to return items after the transaction.\n",
    "### 3. Missing Records: There are some obervations only indicate they didn't want to buy them, but no observations indicate they already have bought them (when count is positive)"
   ]
  },
  {
   "cell_type": "markdown",
   "metadata": {},
   "source": [
    "<br><br>"
   ]
  },
  {
   "cell_type": "markdown",
   "metadata": {},
   "source": [
    "### Check Missing Values"
   ]
  },
  {
   "cell_type": "code",
   "execution_count": 123,
   "metadata": {
    "collapsed": false
   },
   "outputs": [
    {
     "data": {
      "text/plain": [
       "StoreID          0\n",
       "TransactionID    0\n",
       "Line             0\n",
       "Sales            0\n",
       "Count            0\n",
       "Date             0\n",
       "SKU              0\n",
       "dtype: int64"
      ]
     },
     "execution_count": 123,
     "metadata": {},
     "output_type": "execute_result"
    }
   ],
   "source": [
    "data.isnull().sum()"
   ]
  },
  {
   "cell_type": "markdown",
   "metadata": {},
   "source": [
    "<br><br>"
   ]
  },
  {
   "cell_type": "markdown",
   "metadata": {},
   "source": [
    "### Explore Outliers"
   ]
  },
  {
   "cell_type": "code",
   "execution_count": 29,
   "metadata": {
    "collapsed": false
   },
   "outputs": [
    {
     "data": {
      "text/html": [
       "<div>\n",
       "<style>\n",
       "    .dataframe thead tr:only-child th {\n",
       "        text-align: right;\n",
       "    }\n",
       "\n",
       "    .dataframe thead th {\n",
       "        text-align: left;\n",
       "    }\n",
       "\n",
       "    .dataframe tbody tr th {\n",
       "        vertical-align: top;\n",
       "    }\n",
       "</style>\n",
       "<table border=\"1\" class=\"dataframe\">\n",
       "  <thead>\n",
       "    <tr style=\"text-align: right;\">\n",
       "      <th></th>\n",
       "      <th>Line</th>\n",
       "      <th>Sales</th>\n",
       "      <th>Count</th>\n",
       "    </tr>\n",
       "  </thead>\n",
       "  <tbody>\n",
       "    <tr>\n",
       "      <th>count</th>\n",
       "      <td>1048575.000</td>\n",
       "      <td>1048575.000</td>\n",
       "      <td>1048575.000</td>\n",
       "    </tr>\n",
       "    <tr>\n",
       "      <th>mean</th>\n",
       "      <td>10.727</td>\n",
       "      <td>1720.513</td>\n",
       "      <td>0.896</td>\n",
       "    </tr>\n",
       "    <tr>\n",
       "      <th>std</th>\n",
       "      <td>15.550</td>\n",
       "      <td>3646.003</td>\n",
       "      <td>1.129</td>\n",
       "    </tr>\n",
       "    <tr>\n",
       "      <th>min</th>\n",
       "      <td>1.000</td>\n",
       "      <td>-99995.000</td>\n",
       "      <td>-120.000</td>\n",
       "    </tr>\n",
       "    <tr>\n",
       "      <th>25%</th>\n",
       "      <td>3.000</td>\n",
       "      <td>395.000</td>\n",
       "      <td>1.000</td>\n",
       "    </tr>\n",
       "    <tr>\n",
       "      <th>50%</th>\n",
       "      <td>7.000</td>\n",
       "      <td>1295.000</td>\n",
       "      <td>1.000</td>\n",
       "    </tr>\n",
       "    <tr>\n",
       "      <th>75%</th>\n",
       "      <td>14.000</td>\n",
       "      <td>2195.000</td>\n",
       "      <td>1.000</td>\n",
       "    </tr>\n",
       "    <tr>\n",
       "      <th>max</th>\n",
       "      <td>823.000</td>\n",
       "      <td>99995.000</td>\n",
       "      <td>120.000</td>\n",
       "    </tr>\n",
       "  </tbody>\n",
       "</table>\n",
       "</div>"
      ],
      "text/plain": [
       "             Line       Sales       Count\n",
       "count 1048575.000 1048575.000 1048575.000\n",
       "mean       10.727    1720.513       0.896\n",
       "std        15.550    3646.003       1.129\n",
       "min         1.000  -99995.000    -120.000\n",
       "25%         3.000     395.000       1.000\n",
       "50%         7.000    1295.000       1.000\n",
       "75%        14.000    2195.000       1.000\n",
       "max       823.000   99995.000     120.000"
      ]
     },
     "execution_count": 29,
     "metadata": {},
     "output_type": "execute_result"
    }
   ],
   "source": [
    "data.describe()"
   ]
  },
  {
   "cell_type": "code",
   "execution_count": 30,
   "metadata": {
    "collapsed": true
   },
   "outputs": [],
   "source": [
    "import numpy as np\n",
    "def find_outliers_tukey(x):\n",
    "    q1 = np.percentile(x,25)\n",
    "    q3 = np.percentile(x,75)\n",
    "    iqr = q3 - q1\n",
    "    floor = q1 - 1.5*iqr\n",
    "    ceiling = q3 + 1.5*iqr\n",
    "    outlier_indices = list(x.index[(x < floor) | (x > ceiling)])\n",
    "    outlier_values = list(x[outlier_indices])\n",
    "    \n",
    "    return outlier_indices, outlier_values"
   ]
  },
  {
   "cell_type": "code",
   "execution_count": 58,
   "metadata": {
    "collapsed": false
   },
   "outputs": [
    {
     "name": "stdout",
     "output_type": "stream",
     "text": [
      "Feature 'Line' first and last 10 outliers：[31 32 33 34 35 36 37 38 39 40][796 797 805 806 808 809 811 812 822 823]\n",
      "\n",
      "Number of outliers: 66220\n",
      "\n",
      "Feature 'Sales' first and last 10 outliers：[-99995.00 -99900.00 -89900.00 -88800.00 -86400.00 -84995.00 -84900.00\n",
      " -80000.00 -79995.00 -79950.00][86900.00 88000.00 89900.00 90000.00 92120.00 94900.00 96000.00 99000.00\n",
      " 99900.00 99995.00]\n",
      "\n",
      "Number of outliers: 85599\n",
      "\n",
      "Feature 'Count' first and last 10 outliers：[-120.00 -91.00 -60.00 -54.00 -48.00 -40.00 -39.00 -36.00 -33.00 -32.00][58.00 60.00 65.00 70.00 72.00 80.00 90.00 91.00 99.00 120.00]\n",
      "\n",
      "Number of outliers: 198336\n",
      "\n"
     ]
    }
   ],
   "source": [
    "np.set_printoptions(formatter={'float_kind':lambda x: \"%.2f\" % x})\n",
    "outlier_var = ['Line','Sales','Count']\n",
    "for x in outlier_var:\n",
    "    tukey_indices, tukey_values = find_outliers_tukey(data[x])\n",
    "    a = np.sort(tukey_values)\n",
    "    print \"Feature '{0}' first and last 10 outliers：{1}{2}\\n\".format(x,np.unique(a)[:10],np.unique(a)[-10:])\n",
    "    print \"Number of outliers: {0}\\n\".format(len(tukey_values))"
   ]
  },
  {
   "cell_type": "code",
   "execution_count": 151,
   "metadata": {
    "collapsed": false
   },
   "outputs": [
    {
     "data": {
      "text/plain": [
       "5500.0"
      ]
     },
     "execution_count": 151,
     "metadata": {},
     "output_type": "execute_result"
    }
   ],
   "source": [
    "np.percentile(data['Sales'],95)"
   ]
  },
  {
   "cell_type": "code",
   "execution_count": 59,
   "metadata": {
    "collapsed": false
   },
   "outputs": [
    {
     "data": {
      "text/plain": [
       "-825.0"
      ]
     },
     "execution_count": 59,
     "metadata": {},
     "output_type": "execute_result"
    }
   ],
   "source": [
    "np.percentile(data['Sales'],5)"
   ]
  },
  {
   "cell_type": "code",
   "execution_count": 154,
   "metadata": {
    "collapsed": false
   },
   "outputs": [
    {
     "data": {
      "text/html": [
       "<div>\n",
       "<style>\n",
       "    .dataframe thead tr:only-child th {\n",
       "        text-align: right;\n",
       "    }\n",
       "\n",
       "    .dataframe thead th {\n",
       "        text-align: left;\n",
       "    }\n",
       "\n",
       "    .dataframe tbody tr th {\n",
       "        vertical-align: top;\n",
       "    }\n",
       "</style>\n",
       "<table border=\"1\" class=\"dataframe\">\n",
       "  <thead>\n",
       "    <tr style=\"text-align: right;\">\n",
       "      <th></th>\n",
       "      <th>StoreID</th>\n",
       "      <th>TransactionID</th>\n",
       "      <th>Line</th>\n",
       "      <th>Sales</th>\n",
       "      <th>Count</th>\n",
       "      <th>Date</th>\n",
       "      <th>SKU</th>\n",
       "    </tr>\n",
       "  </thead>\n",
       "  <tbody>\n",
       "    <tr>\n",
       "      <th>653883</th>\n",
       "      <td>A46</td>\n",
       "      <td>12-7027-00013-00092</td>\n",
       "      <td>3</td>\n",
       "      <td>60000.000</td>\n",
       "      <td>120.000</td>\n",
       "      <td>3/12/12 00:00</td>\n",
       "      <td>A10809</td>\n",
       "    </tr>\n",
       "    <tr>\n",
       "      <th>653885</th>\n",
       "      <td>A46</td>\n",
       "      <td>12-7027-00013-00092</td>\n",
       "      <td>6</td>\n",
       "      <td>-60000.000</td>\n",
       "      <td>-120.000</td>\n",
       "      <td>3/12/12 00:00</td>\n",
       "      <td>A10809</td>\n",
       "    </tr>\n",
       "  </tbody>\n",
       "</table>\n",
       "</div>"
      ],
      "text/plain": [
       "       StoreID        TransactionID  Line      Sales    Count           Date  \\\n",
       "653883     A46  12-7027-00013-00092     3  60000.000  120.000  3/12/12 00:00   \n",
       "653885     A46  12-7027-00013-00092     6 -60000.000 -120.000  3/12/12 00:00   \n",
       "\n",
       "           SKU  \n",
       "653883  A10809  \n",
       "653885  A10809  "
      ]
     },
     "execution_count": 154,
     "metadata": {},
     "output_type": "execute_result"
    }
   ],
   "source": [
    "data.loc[(data['Count']==120)|(data['Count']==-120)]"
   ]
  },
  {
   "cell_type": "code",
   "execution_count": 66,
   "metadata": {
    "collapsed": false
   },
   "outputs": [
    {
     "data": {
      "text/html": [
       "<div>\n",
       "<style>\n",
       "    .dataframe thead tr:only-child th {\n",
       "        text-align: right;\n",
       "    }\n",
       "\n",
       "    .dataframe thead th {\n",
       "        text-align: left;\n",
       "    }\n",
       "\n",
       "    .dataframe tbody tr th {\n",
       "        vertical-align: top;\n",
       "    }\n",
       "</style>\n",
       "<table border=\"1\" class=\"dataframe\">\n",
       "  <thead>\n",
       "    <tr style=\"text-align: right;\">\n",
       "      <th></th>\n",
       "      <th>StoreID</th>\n",
       "      <th>TransactionID</th>\n",
       "      <th>Line</th>\n",
       "      <th>Sales</th>\n",
       "      <th>Count</th>\n",
       "      <th>Date</th>\n",
       "      <th>SKU</th>\n",
       "    </tr>\n",
       "  </thead>\n",
       "  <tbody>\n",
       "    <tr>\n",
       "      <th>655356</th>\n",
       "      <td>A47</td>\n",
       "      <td>12-7304-00002-00016</td>\n",
       "      <td>10</td>\n",
       "      <td>89900.000</td>\n",
       "      <td>1.000</td>\n",
       "      <td>3/12/12 00:00</td>\n",
       "      <td>A17041</td>\n",
       "    </tr>\n",
       "    <tr>\n",
       "      <th>655357</th>\n",
       "      <td>A47</td>\n",
       "      <td>12-7304-00002-00016</td>\n",
       "      <td>11</td>\n",
       "      <td>89900.000</td>\n",
       "      <td>1.000</td>\n",
       "      <td>3/12/12 00:00</td>\n",
       "      <td>A17041</td>\n",
       "    </tr>\n",
       "    <tr>\n",
       "      <th>655358</th>\n",
       "      <td>A47</td>\n",
       "      <td>12-7304-00002-00016</td>\n",
       "      <td>12</td>\n",
       "      <td>-89900.000</td>\n",
       "      <td>-1.000</td>\n",
       "      <td>3/12/12 00:00</td>\n",
       "      <td>A17041</td>\n",
       "    </tr>\n",
       "  </tbody>\n",
       "</table>\n",
       "</div>"
      ],
      "text/plain": [
       "       StoreID        TransactionID  Line      Sales  Count           Date  \\\n",
       "655356     A47  12-7304-00002-00016    10  89900.000  1.000  3/12/12 00:00   \n",
       "655357     A47  12-7304-00002-00016    11  89900.000  1.000  3/12/12 00:00   \n",
       "655358     A47  12-7304-00002-00016    12 -89900.000 -1.000  3/12/12 00:00   \n",
       "\n",
       "           SKU  \n",
       "655356  A17041  \n",
       "655357  A17041  \n",
       "655358  A17041  "
      ]
     },
     "execution_count": 66,
     "metadata": {},
     "output_type": "execute_result"
    }
   ],
   "source": [
    "data.loc[(data['SKU']=='A17041')&(data['TransactionID']=='12-7304-00002-00016')]"
   ]
  },
  {
   "cell_type": "code",
   "execution_count": 67,
   "metadata": {
    "collapsed": false
   },
   "outputs": [
    {
     "data": {
      "text/html": [
       "<div>\n",
       "<style>\n",
       "    .dataframe thead tr:only-child th {\n",
       "        text-align: right;\n",
       "    }\n",
       "\n",
       "    .dataframe thead th {\n",
       "        text-align: left;\n",
       "    }\n",
       "\n",
       "    .dataframe tbody tr th {\n",
       "        vertical-align: top;\n",
       "    }\n",
       "</style>\n",
       "<table border=\"1\" class=\"dataframe\">\n",
       "  <thead>\n",
       "    <tr style=\"text-align: right;\">\n",
       "      <th></th>\n",
       "      <th>StoreID</th>\n",
       "      <th>TransactionID</th>\n",
       "      <th>Line</th>\n",
       "      <th>Sales</th>\n",
       "      <th>Count</th>\n",
       "      <th>Date</th>\n",
       "      <th>SKU</th>\n",
       "    </tr>\n",
       "  </thead>\n",
       "  <tbody>\n",
       "    <tr>\n",
       "      <th>844638</th>\n",
       "      <td>A67</td>\n",
       "      <td>12-3097-00008-00087</td>\n",
       "      <td>2</td>\n",
       "      <td>-88800.000</td>\n",
       "      <td>-2.000</td>\n",
       "      <td>3/12/12 00:00</td>\n",
       "      <td>A24153</td>\n",
       "    </tr>\n",
       "  </tbody>\n",
       "</table>\n",
       "</div>"
      ],
      "text/plain": [
       "       StoreID        TransactionID  Line      Sales  Count           Date  \\\n",
       "844638     A67  12-3097-00008-00087     2 -88800.000 -2.000  3/12/12 00:00   \n",
       "\n",
       "           SKU  \n",
       "844638  A24153  "
      ]
     },
     "execution_count": 67,
     "metadata": {},
     "output_type": "execute_result"
    }
   ],
   "source": [
    "# There are some cases where only have negative sales but no corresponding positive sales with the same transactionID and SKU\n",
    "data.loc[(data['SKU']=='A24153')&(data['TransactionID']=='12-3097-00008-00087')]"
   ]
  },
  {
   "cell_type": "code",
   "execution_count": 185,
   "metadata": {
    "collapsed": false,
    "scrolled": false
   },
   "outputs": [
    {
     "data": {
      "text/plain": [
       "1720.5125972246444"
      ]
     },
     "execution_count": 185,
     "metadata": {},
     "output_type": "execute_result"
    }
   ],
   "source": [
    "# Check how much the mean changes after we drop the outliers in 'Sales'\n",
    "data['Sales'].mean()"
   ]
  },
  {
   "cell_type": "code",
   "execution_count": 191,
   "metadata": {
    "collapsed": false
   },
   "outputs": [],
   "source": [
    "tukey_indices, tukey_values = find_outliers_tukey(data['Sales'])\n",
    "data.drop(tukey_indices,inplace=True)"
   ]
  },
  {
   "cell_type": "code",
   "execution_count": 193,
   "metadata": {
    "collapsed": false
   },
   "outputs": [
    {
     "data": {
      "text/plain": [
       "1208.8544643218809"
      ]
     },
     "execution_count": 193,
     "metadata": {},
     "output_type": "execute_result"
    }
   ],
   "source": [
    "# After Drop\n",
    "data['Sales'].mean()"
   ]
  },
  {
   "cell_type": "markdown",
   "metadata": {},
   "source": [
    "### The mean of sales appears to change a lot if we drop those outliers, so we can't treat them as negligible.\n",
    "### We can't also replace those outliers with 99 percentile value of that feature. Since there are both positive and negative outliers and some absolute value are same, which means it doesn't infulence average revenue."
   ]
  },
  {
   "cell_type": "markdown",
   "metadata": {},
   "source": [
    "<br><br>"
   ]
  },
  {
   "cell_type": "markdown",
   "metadata": {},
   "source": [
    "### Average Revenue per Basket"
   ]
  },
  {
   "cell_type": "code",
   "execution_count": 68,
   "metadata": {
    "collapsed": true
   },
   "outputs": [],
   "source": [
    "data = pd.read_csv('RetailerPromotionStrategy_data.csv')"
   ]
  },
  {
   "cell_type": "code",
   "execution_count": 301,
   "metadata": {
    "collapsed": false
   },
   "outputs": [
    {
     "data": {
      "text/html": [
       "<div>\n",
       "<style>\n",
       "    .dataframe thead tr:only-child th {\n",
       "        text-align: right;\n",
       "    }\n",
       "\n",
       "    .dataframe thead th {\n",
       "        text-align: left;\n",
       "    }\n",
       "\n",
       "    .dataframe tbody tr th {\n",
       "        vertical-align: top;\n",
       "    }\n",
       "</style>\n",
       "<table border=\"1\" class=\"dataframe\">\n",
       "  <thead>\n",
       "    <tr style=\"text-align: right;\">\n",
       "      <th></th>\n",
       "      <th>StoreID</th>\n",
       "      <th>TransactionID</th>\n",
       "      <th>Line</th>\n",
       "      <th>Sales</th>\n",
       "      <th>Count</th>\n",
       "      <th>Date</th>\n",
       "      <th>SKU</th>\n",
       "    </tr>\n",
       "  </thead>\n",
       "  <tbody>\n",
       "    <tr>\n",
       "      <th>0</th>\n",
       "      <td>A29</td>\n",
       "      <td>11-7270-00007-00057</td>\n",
       "      <td>36</td>\n",
       "      <td>850.000</td>\n",
       "      <td>1.000</td>\n",
       "      <td>3/11/12 00:00</td>\n",
       "      <td>A21773</td>\n",
       "    </tr>\n",
       "    <tr>\n",
       "      <th>1</th>\n",
       "      <td>A29</td>\n",
       "      <td>11-7270-00007-00057</td>\n",
       "      <td>39</td>\n",
       "      <td>1500.000</td>\n",
       "      <td>1.000</td>\n",
       "      <td>3/11/12 00:00</td>\n",
       "      <td>A18009</td>\n",
       "    </tr>\n",
       "    <tr>\n",
       "      <th>2</th>\n",
       "      <td>A29</td>\n",
       "      <td>11-7270-00007-00057</td>\n",
       "      <td>40</td>\n",
       "      <td>1500.000</td>\n",
       "      <td>1.000</td>\n",
       "      <td>3/11/12 00:00</td>\n",
       "      <td>A25592</td>\n",
       "    </tr>\n",
       "    <tr>\n",
       "      <th>3</th>\n",
       "      <td>A29</td>\n",
       "      <td>11-7270-00007-00057</td>\n",
       "      <td>41</td>\n",
       "      <td>1600.000</td>\n",
       "      <td>1.000</td>\n",
       "      <td>3/11/12 00:00</td>\n",
       "      <td>A1449</td>\n",
       "    </tr>\n",
       "    <tr>\n",
       "      <th>4</th>\n",
       "      <td>A29</td>\n",
       "      <td>11-7270-00007-00057</td>\n",
       "      <td>42</td>\n",
       "      <td>1600.000</td>\n",
       "      <td>1.000</td>\n",
       "      <td>3/11/12 00:00</td>\n",
       "      <td>A1449</td>\n",
       "    </tr>\n",
       "  </tbody>\n",
       "</table>\n",
       "</div>"
      ],
      "text/plain": [
       "  StoreID        TransactionID  Line    Sales  Count           Date     SKU\n",
       "0     A29  11-7270-00007-00057    36  850.000  1.000  3/11/12 00:00  A21773\n",
       "1     A29  11-7270-00007-00057    39 1500.000  1.000  3/11/12 00:00  A18009\n",
       "2     A29  11-7270-00007-00057    40 1500.000  1.000  3/11/12 00:00  A25592\n",
       "3     A29  11-7270-00007-00057    41 1600.000  1.000  3/11/12 00:00   A1449\n",
       "4     A29  11-7270-00007-00057    42 1600.000  1.000  3/11/12 00:00   A1449"
      ]
     },
     "execution_count": 301,
     "metadata": {},
     "output_type": "execute_result"
    }
   ],
   "source": [
    "data.head()"
   ]
  },
  {
   "cell_type": "code",
   "execution_count": 162,
   "metadata": {
    "collapsed": false
   },
   "outputs": [
    {
     "data": {
      "text/plain": [
       "197714"
      ]
     },
     "execution_count": 162,
     "metadata": {},
     "output_type": "execute_result"
    }
   ],
   "source": [
    "len(data.TransactionID.unique())"
   ]
  },
  {
   "cell_type": "code",
   "execution_count": 222,
   "metadata": {
    "collapsed": false
   },
   "outputs": [],
   "source": [
    "# Select transactions who have discount items and total sales>0\n",
    "q='''\n",
    "  select\n",
    "      a.StoreID,\n",
    "      a.TransactionID,\n",
    "      sum(a.Count) as Counts,\n",
    "      sum(a.Sales) as Total\n",
    "  from\n",
    "      data a\n",
    "  inner join\n",
    "      (select StoreID, TransactionID\n",
    "       from data\n",
    "       where Count=0) b\n",
    "  on\n",
    "      a.StoreID=b.StoreID and a.TransactionID=b.TransactionID\n",
    "  group by\n",
    "      a.StoreID, \n",
    "      a.TransactionID\n",
    "  having\n",
    "      Total>0\n",
    "  '''\n",
    "data1= pysqldf(q)"
   ]
  },
  {
   "cell_type": "code",
   "execution_count": 274,
   "metadata": {
    "collapsed": false
   },
   "outputs": [
    {
     "data": {
      "text/html": [
       "<div>\n",
       "<style>\n",
       "    .dataframe thead tr:only-child th {\n",
       "        text-align: right;\n",
       "    }\n",
       "\n",
       "    .dataframe thead th {\n",
       "        text-align: left;\n",
       "    }\n",
       "\n",
       "    .dataframe tbody tr th {\n",
       "        vertical-align: top;\n",
       "    }\n",
       "</style>\n",
       "<table border=\"1\" class=\"dataframe\">\n",
       "  <thead>\n",
       "    <tr style=\"text-align: right;\">\n",
       "      <th></th>\n",
       "      <th>StoreID</th>\n",
       "      <th>TransactionID</th>\n",
       "      <th>Counts</th>\n",
       "      <th>Total</th>\n",
       "    </tr>\n",
       "  </thead>\n",
       "  <tbody>\n",
       "    <tr>\n",
       "      <th>0</th>\n",
       "      <td>A01</td>\n",
       "      <td>12-7149-00001-00004</td>\n",
       "      <td>12.000</td>\n",
       "      <td>6960.000</td>\n",
       "    </tr>\n",
       "    <tr>\n",
       "      <th>1</th>\n",
       "      <td>A01</td>\n",
       "      <td>12-7149-00001-00005</td>\n",
       "      <td>144.000</td>\n",
       "      <td>331200.000</td>\n",
       "    </tr>\n",
       "    <tr>\n",
       "      <th>2</th>\n",
       "      <td>A01</td>\n",
       "      <td>12-7149-00001-00006</td>\n",
       "      <td>24.000</td>\n",
       "      <td>33420.000</td>\n",
       "    </tr>\n",
       "    <tr>\n",
       "      <th>3</th>\n",
       "      <td>A01</td>\n",
       "      <td>12-7149-00001-00013</td>\n",
       "      <td>20.000</td>\n",
       "      <td>39960.000</td>\n",
       "    </tr>\n",
       "    <tr>\n",
       "      <th>4</th>\n",
       "      <td>A01</td>\n",
       "      <td>12-7149-00001-00016</td>\n",
       "      <td>4.000</td>\n",
       "      <td>6648.000</td>\n",
       "    </tr>\n",
       "  </tbody>\n",
       "</table>\n",
       "</div>"
      ],
      "text/plain": [
       "  StoreID        TransactionID  Counts      Total\n",
       "0     A01  12-7149-00001-00004  12.000   6960.000\n",
       "1     A01  12-7149-00001-00005 144.000 331200.000\n",
       "2     A01  12-7149-00001-00006  24.000  33420.000\n",
       "3     A01  12-7149-00001-00013  20.000  39960.000\n",
       "4     A01  12-7149-00001-00016   4.000   6648.000"
      ]
     },
     "execution_count": 274,
     "metadata": {},
     "output_type": "execute_result"
    }
   ],
   "source": [
    "data1.head()"
   ]
  },
  {
   "cell_type": "code",
   "execution_count": 327,
   "metadata": {
    "collapsed": false
   },
   "outputs": [
    {
     "name": "stdout",
     "output_type": "stream",
     "text": [
      "Average sales per basket for those transactions include discount items is 45388.6339343.\n"
     ]
    }
   ],
   "source": [
    "# Average sales per basket (there are discount items in transactions)\n",
    "avg_rev_discount = data1.Total.sum() / data1.TransactionID.size\n",
    "\n",
    "print 'Average sales per basket for those transactions include discount items is {0}.'.format(avg_rev_discount)"
   ]
  },
  {
   "cell_type": "code",
   "execution_count": 352,
   "metadata": {
    "collapsed": false,
    "scrolled": false
   },
   "outputs": [],
   "source": [
    "# Average sales per basket in different store\n",
    "avg_rev_discount_store = data1.groupby('StoreID').Total.sum() / data1.groupby('StoreID').TransactionID.size()"
   ]
  },
  {
   "cell_type": "code",
   "execution_count": 319,
   "metadata": {
    "collapsed": false
   },
   "outputs": [],
   "source": [
    "# Select transactions which don't have any discount items\n",
    "\n",
    "q = '''\n",
    "    select\n",
    "      t1.StoreID,\n",
    "      t1.TransactionID,\n",
    "      sum(t1.Count) as Counts,\n",
    "      sum(t1.Sales) as Total\n",
    "    from\n",
    "    (select\n",
    "        a.StoreID, a. TransactionID, a.Line, a.Sales, a.Count, a.Date, a.SKU\n",
    "    from \n",
    "        data a\n",
    "    left join\n",
    "        data1 b\n",
    "    on \n",
    "        a.StoreID=b.StoreID and a.TransactionID=b.TransactionID\n",
    "    where\n",
    "        b.StoreID is null) t1\n",
    "    group by\n",
    "      t1.StoreID, \n",
    "      t1.TransactionID\n",
    "    having\n",
    "      Total>0    \n",
    "    '''\n",
    "data2 = pysqldf(q)"
   ]
  },
  {
   "cell_type": "code",
   "execution_count": 320,
   "metadata": {
    "collapsed": false
   },
   "outputs": [
    {
     "data": {
      "text/html": [
       "<div>\n",
       "<style>\n",
       "    .dataframe thead tr:only-child th {\n",
       "        text-align: right;\n",
       "    }\n",
       "\n",
       "    .dataframe thead th {\n",
       "        text-align: left;\n",
       "    }\n",
       "\n",
       "    .dataframe tbody tr th {\n",
       "        vertical-align: top;\n",
       "    }\n",
       "</style>\n",
       "<table border=\"1\" class=\"dataframe\">\n",
       "  <thead>\n",
       "    <tr style=\"text-align: right;\">\n",
       "      <th></th>\n",
       "      <th>StoreID</th>\n",
       "      <th>TransactionID</th>\n",
       "      <th>Counts</th>\n",
       "      <th>Total</th>\n",
       "    </tr>\n",
       "  </thead>\n",
       "  <tbody>\n",
       "    <tr>\n",
       "      <th>0</th>\n",
       "      <td>A01</td>\n",
       "      <td>12-7149-00001-00002</td>\n",
       "      <td>4.000</td>\n",
       "      <td>6645.000</td>\n",
       "    </tr>\n",
       "    <tr>\n",
       "      <th>1</th>\n",
       "      <td>A01</td>\n",
       "      <td>12-7149-00001-00003</td>\n",
       "      <td>1.000</td>\n",
       "      <td>1000.000</td>\n",
       "    </tr>\n",
       "    <tr>\n",
       "      <th>2</th>\n",
       "      <td>A01</td>\n",
       "      <td>12-7149-00001-00007</td>\n",
       "      <td>1.000</td>\n",
       "      <td>3300.000</td>\n",
       "    </tr>\n",
       "    <tr>\n",
       "      <th>3</th>\n",
       "      <td>A01</td>\n",
       "      <td>12-7149-00001-00008</td>\n",
       "      <td>4.000</td>\n",
       "      <td>3871.000</td>\n",
       "    </tr>\n",
       "    <tr>\n",
       "      <th>4</th>\n",
       "      <td>A01</td>\n",
       "      <td>12-7149-00001-00009</td>\n",
       "      <td>7.000</td>\n",
       "      <td>6864.000</td>\n",
       "    </tr>\n",
       "  </tbody>\n",
       "</table>\n",
       "</div>"
      ],
      "text/plain": [
       "  StoreID        TransactionID  Counts    Total\n",
       "0     A01  12-7149-00001-00002   4.000 6645.000\n",
       "1     A01  12-7149-00001-00003   1.000 1000.000\n",
       "2     A01  12-7149-00001-00007   1.000 3300.000\n",
       "3     A01  12-7149-00001-00008   4.000 3871.000\n",
       "4     A01  12-7149-00001-00009   7.000 6864.000"
      ]
     },
     "execution_count": 320,
     "metadata": {},
     "output_type": "execute_result"
    }
   ],
   "source": [
    "data2.head()"
   ]
  },
  {
   "cell_type": "code",
   "execution_count": 409,
   "metadata": {
    "collapsed": false
   },
   "outputs": [
    {
     "data": {
      "text/plain": [
       "55631"
      ]
     },
     "execution_count": 409,
     "metadata": {},
     "output_type": "execute_result"
    }
   ],
   "source": [
    "len(data1.TransactionID.unique())"
   ]
  },
  {
   "cell_type": "code",
   "execution_count": 321,
   "metadata": {
    "collapsed": false
   },
   "outputs": [
    {
     "data": {
      "text/plain": [
       "136226"
      ]
     },
     "execution_count": 321,
     "metadata": {},
     "output_type": "execute_result"
    }
   ],
   "source": [
    "len(data2.TransactionID.unique())"
   ]
  },
  {
   "cell_type": "code",
   "execution_count": 326,
   "metadata": {
    "collapsed": false
   },
   "outputs": [
    {
     "name": "stdout",
     "output_type": "stream",
     "text": [
      "Average sales per basket for those transactions include discount items is 7490.94903763.\n"
     ]
    }
   ],
   "source": [
    "# Average sales per basket (there aren't any discount items in transactions)\n",
    "avg_rev_discount1 = data2.Total.sum() / data2.TransactionID.size\n",
    "\n",
    "print 'Average sales per basket for those transactions include discount items is {0}.'.format(avg_rev_discount1)"
   ]
  },
  {
   "cell_type": "code",
   "execution_count": 353,
   "metadata": {
    "collapsed": true
   },
   "outputs": [],
   "source": [
    "# Average sales per basket without discount items in different store\n",
    "avg_rev_discount_store1 = data2.groupby('StoreID').Total.sum() / data2.groupby('StoreID').TransactionID.size()"
   ]
  },
  {
   "cell_type": "code",
   "execution_count": 101,
   "metadata": {
    "collapsed": true
   },
   "outputs": [],
   "source": [
    "# Visualization\n",
    "import matplotlib.pyplot as plt\n",
    "import numpy as np\n",
    "%matplotlib inline"
   ]
  },
  {
   "cell_type": "code",
   "execution_count": 345,
   "metadata": {
    "collapsed": false
   },
   "outputs": [
    {
     "data": {
      "image/png": "[encoded data removed]",
      "text/plain": [
       "<matplotlib.figure.Figure at 0x15889a450>"
      ]
     },
     "metadata": {},
     "output_type": "display_data"
    }
   ],
   "source": [
    "fig, ax = plt.subplots()\n",
    "x=np.arange(2)\n",
    "width=0.1\n",
    "rects1 = ax.bar(x,[avg_rev_discount1,avg_rev_discount])\n",
    "ax.set_ylabel('Average Revenue Per Basket')\n",
    "ax.set_ylim(0,50000)\n",
    "ax.set_title('Will Discount Items Drive Up Average Revenue?')\n",
    "ax.set_xticks(x+width/2 )\n",
    "ax.set_xticklabels(('without discount','with discount'))\n",
    "#annotate\n",
    "def autolabel(rects):\n",
    "    for rect in rects:\n",
    "        height=rect.get_height()\n",
    "        ax.text(rect.get_x()+rect.get_width()/2, 1.035*height, '{:.2f}$'.format(height), ha='center', va='bottom')\n",
    "autolabel(rects1)"
   ]
  },
  {
   "cell_type": "code",
   "execution_count": 410,
   "metadata": {
    "collapsed": false
   },
   "outputs": [
    {
     "data": {
      "text/plain": [
       "<matplotlib.legend.Legend at 0x17876cb10>"
      ]
     },
     "execution_count": 410,
     "metadata": {},
     "output_type": "execute_result"
    },
    {
     "data": {
      "image/png": "[encoded data removed]",
      "text/plain": [
       "<matplotlib.figure.Figure at 0x1764a6d90>"
      ]
     },
     "metadata": {},
     "output_type": "display_data"
    }
   ],
   "source": [
    "# Visualize average sales per basket in different store\n",
    "fig, ax = plt.subplots(figsize=(20,10))\n",
    "x = np.arange(len(avg_rev_discount_store))\n",
    "width=0.5\n",
    "rects1 = ax.bar(x,avg_rev_discount_store,width=(x[1]-x[0])*0.8)\n",
    "ax.set_ylabel('Average Revenue Per Basket')\n",
    "ax.set_ylim(0,175000)\n",
    "ax.set_xlabel('Store')\n",
    "ax.set_title('Will Discount Items Drive Up Average Revenue in Each Store?')\n",
    "\n",
    "rects2 = ax.bar(x,avg_rev_discount_store1)\n",
    "\n",
    "ax.legend((rects1[0],rects2[0]),('With Discount','Without Discount'))"
   ]
  },
  {
   "cell_type": "markdown",
   "metadata": {},
   "source": [
    "### According to above plots, we can conclude that discount items will drive up average sales per basket."
   ]
  },
  {
   "cell_type": "markdown",
   "metadata": {},
   "source": [
    "<br><br>"
   ]
  },
  {
   "cell_type": "markdown",
   "metadata": {},
   "source": [
    "### Average Sales Per Item for Each Product"
   ]
  },
  {
   "cell_type": "code",
   "execution_count": 92,
   "metadata": {
    "collapsed": false
   },
   "outputs": [
    {
     "data": {
      "text/html": [
       "<div>\n",
       "<style>\n",
       "    .dataframe thead tr:only-child th {\n",
       "        text-align: right;\n",
       "    }\n",
       "\n",
       "    .dataframe thead th {\n",
       "        text-align: left;\n",
       "    }\n",
       "\n",
       "    .dataframe tbody tr th {\n",
       "        vertical-align: top;\n",
       "    }\n",
       "</style>\n",
       "<table border=\"1\" class=\"dataframe\">\n",
       "  <thead>\n",
       "    <tr style=\"text-align: right;\">\n",
       "      <th></th>\n",
       "      <th>StoreID</th>\n",
       "      <th>TransactionID</th>\n",
       "      <th>Line</th>\n",
       "      <th>Sales</th>\n",
       "      <th>Count</th>\n",
       "      <th>Date</th>\n",
       "      <th>SKU</th>\n",
       "    </tr>\n",
       "  </thead>\n",
       "  <tbody>\n",
       "    <tr>\n",
       "      <th>0</th>\n",
       "      <td>A29</td>\n",
       "      <td>11-7270-00007-00057</td>\n",
       "      <td>36</td>\n",
       "      <td>850.000</td>\n",
       "      <td>1.000</td>\n",
       "      <td>3/11/12 00:00</td>\n",
       "      <td>A21773</td>\n",
       "    </tr>\n",
       "    <tr>\n",
       "      <th>1</th>\n",
       "      <td>A29</td>\n",
       "      <td>11-7270-00007-00057</td>\n",
       "      <td>39</td>\n",
       "      <td>1500.000</td>\n",
       "      <td>1.000</td>\n",
       "      <td>3/11/12 00:00</td>\n",
       "      <td>A18009</td>\n",
       "    </tr>\n",
       "    <tr>\n",
       "      <th>2</th>\n",
       "      <td>A29</td>\n",
       "      <td>11-7270-00007-00057</td>\n",
       "      <td>40</td>\n",
       "      <td>1500.000</td>\n",
       "      <td>1.000</td>\n",
       "      <td>3/11/12 00:00</td>\n",
       "      <td>A25592</td>\n",
       "    </tr>\n",
       "    <tr>\n",
       "      <th>3</th>\n",
       "      <td>A29</td>\n",
       "      <td>11-7270-00007-00057</td>\n",
       "      <td>41</td>\n",
       "      <td>1600.000</td>\n",
       "      <td>1.000</td>\n",
       "      <td>3/11/12 00:00</td>\n",
       "      <td>A1449</td>\n",
       "    </tr>\n",
       "    <tr>\n",
       "      <th>4</th>\n",
       "      <td>A29</td>\n",
       "      <td>11-7270-00007-00057</td>\n",
       "      <td>42</td>\n",
       "      <td>1600.000</td>\n",
       "      <td>1.000</td>\n",
       "      <td>3/11/12 00:00</td>\n",
       "      <td>A1449</td>\n",
       "    </tr>\n",
       "  </tbody>\n",
       "</table>\n",
       "</div>"
      ],
      "text/plain": [
       "  StoreID        TransactionID  Line    Sales  Count           Date     SKU\n",
       "0     A29  11-7270-00007-00057    36  850.000  1.000  3/11/12 00:00  A21773\n",
       "1     A29  11-7270-00007-00057    39 1500.000  1.000  3/11/12 00:00  A18009\n",
       "2     A29  11-7270-00007-00057    40 1500.000  1.000  3/11/12 00:00  A25592\n",
       "3     A29  11-7270-00007-00057    41 1600.000  1.000  3/11/12 00:00   A1449\n",
       "4     A29  11-7270-00007-00057    42 1600.000  1.000  3/11/12 00:00   A1449"
      ]
     },
     "execution_count": 92,
     "metadata": {},
     "output_type": "execute_result"
    }
   ],
   "source": [
    "data.head()"
   ]
  },
  {
   "cell_type": "code",
   "execution_count": 94,
   "metadata": {
    "collapsed": false
   },
   "outputs": [],
   "source": [
    "# Select discount items and group by SKU\n",
    "q='''\n",
    "  select\n",
    "      a.SKU,\n",
    "      sum(a.Count) as Counts,\n",
    "      sum(a.Sales) as Total\n",
    "  from\n",
    "      data a\n",
    "  inner join\n",
    "      (select SKU, TransactionID\n",
    "       from data\n",
    "       where Count=0) b\n",
    "  on\n",
    "      a.SKU=b.SKU and a.TransactionID=b.TransactionID\n",
    "  group by\n",
    "      a.SKU\n",
    "  having\n",
    "      Total>0\n",
    "  '''\n",
    "data1= pysqldf(q)"
   ]
  },
  {
   "cell_type": "code",
   "execution_count": 95,
   "metadata": {
    "collapsed": false
   },
   "outputs": [
    {
     "data": {
      "text/html": [
       "<div>\n",
       "<style>\n",
       "    .dataframe thead tr:only-child th {\n",
       "        text-align: right;\n",
       "    }\n",
       "\n",
       "    .dataframe thead th {\n",
       "        text-align: left;\n",
       "    }\n",
       "\n",
       "    .dataframe tbody tr th {\n",
       "        vertical-align: top;\n",
       "    }\n",
       "</style>\n",
       "<table border=\"1\" class=\"dataframe\">\n",
       "  <thead>\n",
       "    <tr style=\"text-align: right;\">\n",
       "      <th></th>\n",
       "      <th>SKU</th>\n",
       "      <th>Counts</th>\n",
       "      <th>Total</th>\n",
       "    </tr>\n",
       "  </thead>\n",
       "  <tbody>\n",
       "    <tr>\n",
       "      <th>0</th>\n",
       "      <td>A1</td>\n",
       "      <td>26.000</td>\n",
       "      <td>30392.000</td>\n",
       "    </tr>\n",
       "    <tr>\n",
       "      <th>1</th>\n",
       "      <td>A10004</td>\n",
       "      <td>36.000</td>\n",
       "      <td>54334.000</td>\n",
       "    </tr>\n",
       "    <tr>\n",
       "      <th>2</th>\n",
       "      <td>A10022</td>\n",
       "      <td>3.000</td>\n",
       "      <td>5000.000</td>\n",
       "    </tr>\n",
       "    <tr>\n",
       "      <th>3</th>\n",
       "      <td>A10045</td>\n",
       "      <td>14.000</td>\n",
       "      <td>18708.000</td>\n",
       "    </tr>\n",
       "    <tr>\n",
       "      <th>4</th>\n",
       "      <td>A10048</td>\n",
       "      <td>90.000</td>\n",
       "      <td>112500.000</td>\n",
       "    </tr>\n",
       "  </tbody>\n",
       "</table>\n",
       "</div>"
      ],
      "text/plain": [
       "      SKU  Counts      Total\n",
       "0      A1  26.000  30392.000\n",
       "1  A10004  36.000  54334.000\n",
       "2  A10022   3.000   5000.000\n",
       "3  A10045  14.000  18708.000\n",
       "4  A10048  90.000 112500.000"
      ]
     },
     "execution_count": 95,
     "metadata": {},
     "output_type": "execute_result"
    }
   ],
   "source": [
    "data1.head()"
   ]
  },
  {
   "cell_type": "code",
   "execution_count": 97,
   "metadata": {
    "collapsed": false
   },
   "outputs": [
    {
     "data": {
      "text/html": [
       "<div>\n",
       "<style>\n",
       "    .dataframe thead tr:only-child th {\n",
       "        text-align: right;\n",
       "    }\n",
       "\n",
       "    .dataframe thead th {\n",
       "        text-align: left;\n",
       "    }\n",
       "\n",
       "    .dataframe tbody tr th {\n",
       "        vertical-align: top;\n",
       "    }\n",
       "</style>\n",
       "<table border=\"1\" class=\"dataframe\">\n",
       "  <thead>\n",
       "    <tr style=\"text-align: right;\">\n",
       "      <th></th>\n",
       "      <th>SKU</th>\n",
       "      <th>Counts</th>\n",
       "      <th>Total</th>\n",
       "      <th>Average_sales</th>\n",
       "    </tr>\n",
       "  </thead>\n",
       "  <tbody>\n",
       "    <tr>\n",
       "      <th>0</th>\n",
       "      <td>A1</td>\n",
       "      <td>26.000</td>\n",
       "      <td>30392.000</td>\n",
       "      <td>1168.923</td>\n",
       "    </tr>\n",
       "    <tr>\n",
       "      <th>1</th>\n",
       "      <td>A10004</td>\n",
       "      <td>36.000</td>\n",
       "      <td>54334.000</td>\n",
       "      <td>1509.278</td>\n",
       "    </tr>\n",
       "    <tr>\n",
       "      <th>2</th>\n",
       "      <td>A10022</td>\n",
       "      <td>3.000</td>\n",
       "      <td>5000.000</td>\n",
       "      <td>1666.667</td>\n",
       "    </tr>\n",
       "    <tr>\n",
       "      <th>3</th>\n",
       "      <td>A10045</td>\n",
       "      <td>14.000</td>\n",
       "      <td>18708.000</td>\n",
       "      <td>1336.286</td>\n",
       "    </tr>\n",
       "    <tr>\n",
       "      <th>4</th>\n",
       "      <td>A10048</td>\n",
       "      <td>90.000</td>\n",
       "      <td>112500.000</td>\n",
       "      <td>1250.000</td>\n",
       "    </tr>\n",
       "  </tbody>\n",
       "</table>\n",
       "</div>"
      ],
      "text/plain": [
       "      SKU  Counts      Total  Average_sales\n",
       "0      A1  26.000  30392.000       1168.923\n",
       "1  A10004  36.000  54334.000       1509.278\n",
       "2  A10022   3.000   5000.000       1666.667\n",
       "3  A10045  14.000  18708.000       1336.286\n",
       "4  A10048  90.000 112500.000       1250.000"
      ]
     },
     "execution_count": 97,
     "metadata": {},
     "output_type": "execute_result"
    }
   ],
   "source": [
    "# average sales per item\n",
    "data1['Average_sales'] = data1.Total / data1.Counts\n",
    "data1.head()"
   ]
  },
  {
   "cell_type": "code",
   "execution_count": 98,
   "metadata": {
    "collapsed": true
   },
   "outputs": [],
   "source": [
    "# Select same items in data1 that are not discounted\n",
    "q='''\n",
    "  select\n",
    "      a.SKU,\n",
    "      sum(a.Count) as Counts,\n",
    "      sum(a.Sales) as Total\n",
    "  from\n",
    "      data a\n",
    "  inner join\n",
    "      (select SKU, TransactionID\n",
    "       from data\n",
    "       where Count=0) b\n",
    "  on\n",
    "      a.SKU = b.SKU and a.TransactionID != b.TransactionID\n",
    "  group by\n",
    "      a.SKU\n",
    "  having\n",
    "      Total>0\n",
    "  '''\n",
    "data2= pysqldf(q)"
   ]
  },
  {
   "cell_type": "code",
   "execution_count": 99,
   "metadata": {
    "collapsed": false
   },
   "outputs": [
    {
     "data": {
      "text/html": [
       "<div>\n",
       "<style>\n",
       "    .dataframe thead tr:only-child th {\n",
       "        text-align: right;\n",
       "    }\n",
       "\n",
       "    .dataframe thead th {\n",
       "        text-align: left;\n",
       "    }\n",
       "\n",
       "    .dataframe tbody tr th {\n",
       "        vertical-align: top;\n",
       "    }\n",
       "</style>\n",
       "<table border=\"1\" class=\"dataframe\">\n",
       "  <thead>\n",
       "    <tr style=\"text-align: right;\">\n",
       "      <th></th>\n",
       "      <th>SKU</th>\n",
       "      <th>Counts</th>\n",
       "      <th>Total</th>\n",
       "    </tr>\n",
       "  </thead>\n",
       "  <tbody>\n",
       "    <tr>\n",
       "      <th>0</th>\n",
       "      <td>A1</td>\n",
       "      <td>1534.000</td>\n",
       "      <td>1863248.000</td>\n",
       "    </tr>\n",
       "    <tr>\n",
       "      <th>1</th>\n",
       "      <td>A10004</td>\n",
       "      <td>3744.000</td>\n",
       "      <td>8491286.000</td>\n",
       "    </tr>\n",
       "    <tr>\n",
       "      <th>2</th>\n",
       "      <td>A10022</td>\n",
       "      <td>30.000</td>\n",
       "      <td>42955.000</td>\n",
       "    </tr>\n",
       "    <tr>\n",
       "      <th>3</th>\n",
       "      <td>A10023</td>\n",
       "      <td>297.000</td>\n",
       "      <td>206415.000</td>\n",
       "    </tr>\n",
       "    <tr>\n",
       "      <th>4</th>\n",
       "      <td>A10025</td>\n",
       "      <td>3.000</td>\n",
       "      <td>75000.000</td>\n",
       "    </tr>\n",
       "  </tbody>\n",
       "</table>\n",
       "</div>"
      ],
      "text/plain": [
       "      SKU   Counts       Total\n",
       "0      A1 1534.000 1863248.000\n",
       "1  A10004 3744.000 8491286.000\n",
       "2  A10022   30.000   42955.000\n",
       "3  A10023  297.000  206415.000\n",
       "4  A10025    3.000   75000.000"
      ]
     },
     "execution_count": 99,
     "metadata": {},
     "output_type": "execute_result"
    }
   ],
   "source": [
    "data2.head()"
   ]
  },
  {
   "cell_type": "code",
   "execution_count": 111,
   "metadata": {
    "collapsed": false
   },
   "outputs": [
    {
     "data": {
      "text/html": [
       "<div>\n",
       "<style>\n",
       "    .dataframe thead tr:only-child th {\n",
       "        text-align: right;\n",
       "    }\n",
       "\n",
       "    .dataframe thead th {\n",
       "        text-align: left;\n",
       "    }\n",
       "\n",
       "    .dataframe tbody tr th {\n",
       "        vertical-align: top;\n",
       "    }\n",
       "</style>\n",
       "<table border=\"1\" class=\"dataframe\">\n",
       "  <thead>\n",
       "    <tr style=\"text-align: right;\">\n",
       "      <th></th>\n",
       "      <th>StoreID</th>\n",
       "      <th>TransactionID</th>\n",
       "      <th>Line</th>\n",
       "      <th>Sales</th>\n",
       "      <th>Count</th>\n",
       "      <th>Date</th>\n",
       "      <th>SKU</th>\n",
       "    </tr>\n",
       "  </thead>\n",
       "  <tbody>\n",
       "    <tr>\n",
       "      <th>611272</th>\n",
       "      <td>A43</td>\n",
       "      <td>12-7285-00011-00011</td>\n",
       "      <td>1</td>\n",
       "      <td>0.000</td>\n",
       "      <td>0.000</td>\n",
       "      <td>3/12/12 00:00</td>\n",
       "      <td>A10023</td>\n",
       "    </tr>\n",
       "  </tbody>\n",
       "</table>\n",
       "</div>"
      ],
      "text/plain": [
       "       StoreID        TransactionID  Line  Sales  Count           Date     SKU\n",
       "611272     A43  12-7285-00011-00011     1  0.000  0.000  3/12/12 00:00  A10023"
      ]
     },
     "execution_count": 111,
     "metadata": {},
     "output_type": "execute_result"
    }
   ],
   "source": [
    "data[(data['SKU']=='A10023')& (data['Count']==0)]"
   ]
  },
  {
   "cell_type": "code",
   "execution_count": 113,
   "metadata": {
    "collapsed": false
   },
   "outputs": [
    {
     "data": {
      "text/html": [
       "<div>\n",
       "<style>\n",
       "    .dataframe thead tr:only-child th {\n",
       "        text-align: right;\n",
       "    }\n",
       "\n",
       "    .dataframe thead th {\n",
       "        text-align: left;\n",
       "    }\n",
       "\n",
       "    .dataframe tbody tr th {\n",
       "        vertical-align: top;\n",
       "    }\n",
       "</style>\n",
       "<table border=\"1\" class=\"dataframe\">\n",
       "  <thead>\n",
       "    <tr style=\"text-align: right;\">\n",
       "      <th></th>\n",
       "      <th>StoreID</th>\n",
       "      <th>TransactionID</th>\n",
       "      <th>Line</th>\n",
       "      <th>Sales</th>\n",
       "      <th>Count</th>\n",
       "      <th>Date</th>\n",
       "      <th>SKU</th>\n",
       "    </tr>\n",
       "  </thead>\n",
       "  <tbody>\n",
       "    <tr>\n",
       "      <th>611272</th>\n",
       "      <td>A43</td>\n",
       "      <td>12-7285-00011-00011</td>\n",
       "      <td>1</td>\n",
       "      <td>0.000</td>\n",
       "      <td>0.000</td>\n",
       "      <td>3/12/12 00:00</td>\n",
       "      <td>A10023</td>\n",
       "    </tr>\n",
       "  </tbody>\n",
       "</table>\n",
       "</div>"
      ],
      "text/plain": [
       "       StoreID        TransactionID  Line  Sales  Count           Date     SKU\n",
       "611272     A43  12-7285-00011-00011     1  0.000  0.000  3/12/12 00:00  A10023"
      ]
     },
     "execution_count": 113,
     "metadata": {},
     "output_type": "execute_result"
    }
   ],
   "source": [
    "# Some cases will have Sales=0 when Count=0, we shoulde exclude these SKUs\n",
    "data[(data['TransactionID']=='12-7285-00011-00011')& (data['SKU']=='A10023')]"
   ]
  },
  {
   "cell_type": "code",
   "execution_count": 107,
   "metadata": {
    "collapsed": false
   },
   "outputs": [
    {
     "data": {
      "text/plain": [
       "(4141, 4)"
      ]
     },
     "execution_count": 107,
     "metadata": {},
     "output_type": "execute_result"
    }
   ],
   "source": [
    "data2.shape"
   ]
  },
  {
   "cell_type": "code",
   "execution_count": 104,
   "metadata": {
    "collapsed": false
   },
   "outputs": [
    {
     "data": {
      "text/html": [
       "<div>\n",
       "<style>\n",
       "    .dataframe thead tr:only-child th {\n",
       "        text-align: right;\n",
       "    }\n",
       "\n",
       "    .dataframe thead th {\n",
       "        text-align: left;\n",
       "    }\n",
       "\n",
       "    .dataframe tbody tr th {\n",
       "        vertical-align: top;\n",
       "    }\n",
       "</style>\n",
       "<table border=\"1\" class=\"dataframe\">\n",
       "  <thead>\n",
       "    <tr style=\"text-align: right;\">\n",
       "      <th></th>\n",
       "      <th>SKU</th>\n",
       "      <th>Counts</th>\n",
       "      <th>Total</th>\n",
       "      <th>Average_sales</th>\n",
       "    </tr>\n",
       "  </thead>\n",
       "  <tbody>\n",
       "    <tr>\n",
       "      <th>0</th>\n",
       "      <td>A1</td>\n",
       "      <td>1534.000</td>\n",
       "      <td>1863248.000</td>\n",
       "      <td>1214.634</td>\n",
       "    </tr>\n",
       "    <tr>\n",
       "      <th>1</th>\n",
       "      <td>A10004</td>\n",
       "      <td>3744.000</td>\n",
       "      <td>8491286.000</td>\n",
       "      <td>2267.972</td>\n",
       "    </tr>\n",
       "    <tr>\n",
       "      <th>2</th>\n",
       "      <td>A10022</td>\n",
       "      <td>30.000</td>\n",
       "      <td>42955.000</td>\n",
       "      <td>1431.833</td>\n",
       "    </tr>\n",
       "    <tr>\n",
       "      <th>3</th>\n",
       "      <td>A10023</td>\n",
       "      <td>297.000</td>\n",
       "      <td>206415.000</td>\n",
       "      <td>695.000</td>\n",
       "    </tr>\n",
       "    <tr>\n",
       "      <th>4</th>\n",
       "      <td>A10025</td>\n",
       "      <td>3.000</td>\n",
       "      <td>75000.000</td>\n",
       "      <td>25000.000</td>\n",
       "    </tr>\n",
       "  </tbody>\n",
       "</table>\n",
       "</div>"
      ],
      "text/plain": [
       "      SKU   Counts       Total  Average_sales\n",
       "0      A1 1534.000 1863248.000       1214.634\n",
       "1  A10004 3744.000 8491286.000       2267.972\n",
       "2  A10022   30.000   42955.000       1431.833\n",
       "3  A10023  297.000  206415.000        695.000\n",
       "4  A10025    3.000   75000.000      25000.000"
      ]
     },
     "execution_count": 104,
     "metadata": {},
     "output_type": "execute_result"
    }
   ],
   "source": [
    "# average sales per item\n",
    "data2['Average_sales'] = data2.Total / data2.Counts\n",
    "data2.head()"
   ]
  },
  {
   "cell_type": "code",
   "execution_count": 128,
   "metadata": {
    "collapsed": false
   },
   "outputs": [],
   "source": [
    "# Inner Join data1 and data2 with same SKU\n",
    "q='''\n",
    "  select\n",
    "    a.SKU, a.Average_sales as Discount_Average_Sales , b.Average_sales as Non_Discount_Average_Sales\n",
    "  from\n",
    "      data1 a\n",
    "  inner join\n",
    "      data2 b\n",
    "  on\n",
    "      a.SKU = b.SKU\n",
    "  '''\n",
    "data3= pysqldf(q)"
   ]
  },
  {
   "cell_type": "code",
   "execution_count": 129,
   "metadata": {
    "collapsed": false
   },
   "outputs": [
    {
     "data": {
      "text/html": [
       "<div>\n",
       "<style>\n",
       "    .dataframe thead tr:only-child th {\n",
       "        text-align: right;\n",
       "    }\n",
       "\n",
       "    .dataframe thead th {\n",
       "        text-align: left;\n",
       "    }\n",
       "\n",
       "    .dataframe tbody tr th {\n",
       "        vertical-align: top;\n",
       "    }\n",
       "</style>\n",
       "<table border=\"1\" class=\"dataframe\">\n",
       "  <thead>\n",
       "    <tr style=\"text-align: right;\">\n",
       "      <th></th>\n",
       "      <th>SKU</th>\n",
       "      <th>Discount_Average_Sales</th>\n",
       "      <th>Non_Discount_Average_Sales</th>\n",
       "    </tr>\n",
       "  </thead>\n",
       "  <tbody>\n",
       "    <tr>\n",
       "      <th>0</th>\n",
       "      <td>A1</td>\n",
       "      <td>1168.923</td>\n",
       "      <td>1214.634</td>\n",
       "    </tr>\n",
       "    <tr>\n",
       "      <th>1</th>\n",
       "      <td>A10004</td>\n",
       "      <td>1509.278</td>\n",
       "      <td>2267.972</td>\n",
       "    </tr>\n",
       "    <tr>\n",
       "      <th>2</th>\n",
       "      <td>A10022</td>\n",
       "      <td>1666.667</td>\n",
       "      <td>1431.833</td>\n",
       "    </tr>\n",
       "    <tr>\n",
       "      <th>3</th>\n",
       "      <td>A10045</td>\n",
       "      <td>1336.286</td>\n",
       "      <td>1602.636</td>\n",
       "    </tr>\n",
       "    <tr>\n",
       "      <th>4</th>\n",
       "      <td>A10048</td>\n",
       "      <td>1250.000</td>\n",
       "      <td>1376.146</td>\n",
       "    </tr>\n",
       "  </tbody>\n",
       "</table>\n",
       "</div>"
      ],
      "text/plain": [
       "      SKU  Discount_Average_Sales  Non_Discount_Average_Sales\n",
       "0      A1                1168.923                    1214.634\n",
       "1  A10004                1509.278                    2267.972\n",
       "2  A10022                1666.667                    1431.833\n",
       "3  A10045                1336.286                    1602.636\n",
       "4  A10048                1250.000                    1376.146"
      ]
     },
     "execution_count": 129,
     "metadata": {},
     "output_type": "execute_result"
    }
   ],
   "source": [
    "data3.head()"
   ]
  },
  {
   "cell_type": "code",
   "execution_count": 143,
   "metadata": {
    "collapsed": false
   },
   "outputs": [
    {
     "data": {
      "image/png": "[encoded data removed]",
      "text/plain": [
       "<matplotlib.figure.Figure at 0x135006450>"
      ]
     },
     "metadata": {},
     "output_type": "display_data"
    }
   ],
   "source": [
    "# Visualize total sales for each product \n",
    "fig, ax = plt.subplots(figsize=(20,10))\n",
    "x = np.arange(20)\n",
    "rects1 = ax.bar(x,data3.Discount_Average_Sales[:20],width=(x[1]-x[0])*0.3)\n",
    "ax.set_ylabel('Average Sales Per Item')\n",
    "ax.set_xlabel('First 20 SKU')\n",
    "ax.set_xticks(x+0.3/2)\n",
    "rects2 = ax.bar(x+0.3,data3.Non_Discount_Average_Sales[:20],width=(x[1]-x[0])*0.3) #another bar\n",
    "ax.legend((rects1[0],rects2[0]),('With Discount','Without Discount')) #legend\n",
    "\n",
    "plt.tick_params(axis='x',bottom='off',labelbottom='off')"
   ]
  },
  {
   "cell_type": "markdown",
   "metadata": {},
   "source": [
    "### It appears some SKU has higher average sales per item for product who are discounted than for the same product who are not discounted. So we may not to implement markdown stategies in those products."
   ]
  },
  {
   "cell_type": "markdown",
   "metadata": {},
   "source": [
    "<br><br>"
   ]
  },
  {
   "cell_type": "markdown",
   "metadata": {},
   "source": [
    "### Elasticity of Demand\n",
    "#### Percent change in demand / Percnet change in price"
   ]
  },
  {
   "cell_type": "code",
   "execution_count": 69,
   "metadata": {
    "collapsed": false
   },
   "outputs": [
    {
     "data": {
      "text/html": [
       "<div>\n",
       "<style>\n",
       "    .dataframe thead tr:only-child th {\n",
       "        text-align: right;\n",
       "    }\n",
       "\n",
       "    .dataframe thead th {\n",
       "        text-align: left;\n",
       "    }\n",
       "\n",
       "    .dataframe tbody tr th {\n",
       "        vertical-align: top;\n",
       "    }\n",
       "</style>\n",
       "<table border=\"1\" class=\"dataframe\">\n",
       "  <thead>\n",
       "    <tr style=\"text-align: right;\">\n",
       "      <th></th>\n",
       "      <th>StoreID</th>\n",
       "      <th>TransactionID</th>\n",
       "      <th>Line</th>\n",
       "      <th>Sales</th>\n",
       "      <th>Count</th>\n",
       "      <th>Date</th>\n",
       "      <th>SKU</th>\n",
       "    </tr>\n",
       "  </thead>\n",
       "  <tbody>\n",
       "    <tr>\n",
       "      <th>0</th>\n",
       "      <td>A29</td>\n",
       "      <td>11-7270-00007-00057</td>\n",
       "      <td>36</td>\n",
       "      <td>850.000</td>\n",
       "      <td>1.000</td>\n",
       "      <td>3/11/12 00:00</td>\n",
       "      <td>A21773</td>\n",
       "    </tr>\n",
       "    <tr>\n",
       "      <th>1</th>\n",
       "      <td>A29</td>\n",
       "      <td>11-7270-00007-00057</td>\n",
       "      <td>39</td>\n",
       "      <td>1500.000</td>\n",
       "      <td>1.000</td>\n",
       "      <td>3/11/12 00:00</td>\n",
       "      <td>A18009</td>\n",
       "    </tr>\n",
       "    <tr>\n",
       "      <th>2</th>\n",
       "      <td>A29</td>\n",
       "      <td>11-7270-00007-00057</td>\n",
       "      <td>40</td>\n",
       "      <td>1500.000</td>\n",
       "      <td>1.000</td>\n",
       "      <td>3/11/12 00:00</td>\n",
       "      <td>A25592</td>\n",
       "    </tr>\n",
       "    <tr>\n",
       "      <th>3</th>\n",
       "      <td>A29</td>\n",
       "      <td>11-7270-00007-00057</td>\n",
       "      <td>41</td>\n",
       "      <td>1600.000</td>\n",
       "      <td>1.000</td>\n",
       "      <td>3/11/12 00:00</td>\n",
       "      <td>A1449</td>\n",
       "    </tr>\n",
       "    <tr>\n",
       "      <th>4</th>\n",
       "      <td>A29</td>\n",
       "      <td>11-7270-00007-00057</td>\n",
       "      <td>42</td>\n",
       "      <td>1600.000</td>\n",
       "      <td>1.000</td>\n",
       "      <td>3/11/12 00:00</td>\n",
       "      <td>A1449</td>\n",
       "    </tr>\n",
       "  </tbody>\n",
       "</table>\n",
       "</div>"
      ],
      "text/plain": [
       "  StoreID        TransactionID  Line    Sales  Count           Date     SKU\n",
       "0     A29  11-7270-00007-00057    36  850.000  1.000  3/11/12 00:00  A21773\n",
       "1     A29  11-7270-00007-00057    39 1500.000  1.000  3/11/12 00:00  A18009\n",
       "2     A29  11-7270-00007-00057    40 1500.000  1.000  3/11/12 00:00  A25592\n",
       "3     A29  11-7270-00007-00057    41 1600.000  1.000  3/11/12 00:00   A1449\n",
       "4     A29  11-7270-00007-00057    42 1600.000  1.000  3/11/12 00:00   A1449"
      ]
     },
     "execution_count": 69,
     "metadata": {},
     "output_type": "execute_result"
    }
   ],
   "source": [
    "data.head()"
   ]
  },
  {
   "cell_type": "code",
   "execution_count": 84,
   "metadata": {
    "collapsed": false
   },
   "outputs": [
    {
     "data": {
      "text/html": [
       "<div>\n",
       "<style>\n",
       "    .dataframe thead tr:only-child th {\n",
       "        text-align: right;\n",
       "    }\n",
       "\n",
       "    .dataframe thead th {\n",
       "        text-align: left;\n",
       "    }\n",
       "\n",
       "    .dataframe tbody tr th {\n",
       "        vertical-align: top;\n",
       "    }\n",
       "</style>\n",
       "<table border=\"1\" class=\"dataframe\">\n",
       "  <thead>\n",
       "    <tr style=\"text-align: right;\">\n",
       "      <th></th>\n",
       "      <th>StoreID</th>\n",
       "      <th>TransactionID</th>\n",
       "      <th>Line</th>\n",
       "      <th>Sales</th>\n",
       "      <th>Count</th>\n",
       "      <th>Date</th>\n",
       "      <th>SKU</th>\n",
       "    </tr>\n",
       "  </thead>\n",
       "  <tbody>\n",
       "    <tr>\n",
       "      <th>13</th>\n",
       "      <td>A29</td>\n",
       "      <td>11-7270-00007-00057</td>\n",
       "      <td>64</td>\n",
       "      <td>2051.000</td>\n",
       "      <td>1.000</td>\n",
       "      <td>3/11/12 00:00</td>\n",
       "      <td>A8481</td>\n",
       "    </tr>\n",
       "    <tr>\n",
       "      <th>14</th>\n",
       "      <td>A29</td>\n",
       "      <td>11-7270-00007-00057</td>\n",
       "      <td>65</td>\n",
       "      <td>-770.000</td>\n",
       "      <td>0.000</td>\n",
       "      <td>3/11/12 00:00</td>\n",
       "      <td>A8481</td>\n",
       "    </tr>\n",
       "    <tr>\n",
       "      <th>8227</th>\n",
       "      <td>A29</td>\n",
       "      <td>11-7270-00006-00161</td>\n",
       "      <td>13</td>\n",
       "      <td>2051.000</td>\n",
       "      <td>1.000</td>\n",
       "      <td>3/11/12 00:00</td>\n",
       "      <td>A8481</td>\n",
       "    </tr>\n",
       "    <tr>\n",
       "      <th>8228</th>\n",
       "      <td>A29</td>\n",
       "      <td>11-7270-00006-00161</td>\n",
       "      <td>14</td>\n",
       "      <td>-770.000</td>\n",
       "      <td>0.000</td>\n",
       "      <td>3/11/12 00:00</td>\n",
       "      <td>A8481</td>\n",
       "    </tr>\n",
       "    <tr>\n",
       "      <th>11696</th>\n",
       "      <td>A29</td>\n",
       "      <td>11-7270-00006-00312</td>\n",
       "      <td>11</td>\n",
       "      <td>2051.000</td>\n",
       "      <td>1.000</td>\n",
       "      <td>3/11/12 00:00</td>\n",
       "      <td>A8481</td>\n",
       "    </tr>\n",
       "    <tr>\n",
       "      <th>11697</th>\n",
       "      <td>A29</td>\n",
       "      <td>11-7270-00006-00312</td>\n",
       "      <td>12</td>\n",
       "      <td>-770.000</td>\n",
       "      <td>0.000</td>\n",
       "      <td>3/11/12 00:00</td>\n",
       "      <td>A8481</td>\n",
       "    </tr>\n",
       "    <tr>\n",
       "      <th>12444</th>\n",
       "      <td>A29</td>\n",
       "      <td>11-7270-00008-00235</td>\n",
       "      <td>7</td>\n",
       "      <td>2051.000</td>\n",
       "      <td>1.000</td>\n",
       "      <td>3/11/12 00:00</td>\n",
       "      <td>A8481</td>\n",
       "    </tr>\n",
       "    <tr>\n",
       "      <th>12445</th>\n",
       "      <td>A29</td>\n",
       "      <td>11-7270-00008-00235</td>\n",
       "      <td>8</td>\n",
       "      <td>-774.000</td>\n",
       "      <td>0.000</td>\n",
       "      <td>3/11/12 00:00</td>\n",
       "      <td>A8481</td>\n",
       "    </tr>\n",
       "    <tr>\n",
       "      <th>19516</th>\n",
       "      <td>A78</td>\n",
       "      <td>11-5634-00003-00090</td>\n",
       "      <td>10</td>\n",
       "      <td>2051.000</td>\n",
       "      <td>1.000</td>\n",
       "      <td>3/11/12 00:00</td>\n",
       "      <td>A8481</td>\n",
       "    </tr>\n",
       "    <tr>\n",
       "      <th>19517</th>\n",
       "      <td>A78</td>\n",
       "      <td>11-5634-00003-00090</td>\n",
       "      <td>11</td>\n",
       "      <td>-814.000</td>\n",
       "      <td>0.000</td>\n",
       "      <td>3/11/12 00:00</td>\n",
       "      <td>A8481</td>\n",
       "    </tr>\n",
       "  </tbody>\n",
       "</table>\n",
       "</div>"
      ],
      "text/plain": [
       "      StoreID        TransactionID  Line    Sales  Count           Date    SKU\n",
       "13        A29  11-7270-00007-00057    64 2051.000  1.000  3/11/12 00:00  A8481\n",
       "14        A29  11-7270-00007-00057    65 -770.000  0.000  3/11/12 00:00  A8481\n",
       "8227      A29  11-7270-00006-00161    13 2051.000  1.000  3/11/12 00:00  A8481\n",
       "8228      A29  11-7270-00006-00161    14 -770.000  0.000  3/11/12 00:00  A8481\n",
       "11696     A29  11-7270-00006-00312    11 2051.000  1.000  3/11/12 00:00  A8481\n",
       "11697     A29  11-7270-00006-00312    12 -770.000  0.000  3/11/12 00:00  A8481\n",
       "12444     A29  11-7270-00008-00235     7 2051.000  1.000  3/11/12 00:00  A8481\n",
       "12445     A29  11-7270-00008-00235     8 -774.000  0.000  3/11/12 00:00  A8481\n",
       "19516     A78  11-5634-00003-00090    10 2051.000  1.000  3/11/12 00:00  A8481\n",
       "19517     A78  11-5634-00003-00090    11 -814.000  0.000  3/11/12 00:00  A8481"
      ]
     },
     "execution_count": 84,
     "metadata": {},
     "output_type": "execute_result"
    }
   ],
   "source": [
    "data[data['SKU']=='A8481'].head(10)"
   ]
  },
  {
   "cell_type": "code",
   "execution_count": null,
   "metadata": {
    "collapsed": true
   },
   "outputs": [],
   "source": []
  },
  {
   "cell_type": "code",
   "execution_count": null,
   "metadata": {
    "collapsed": true
   },
   "outputs": [],
   "source": []
  },
  {
   "cell_type": "code",
   "execution_count": null,
   "metadata": {
    "collapsed": true
   },
   "outputs": [],
   "source": []
  },
  {
   "cell_type": "markdown",
   "metadata": {},
   "source": [
    "### Association Analysis"
   ]
  },
  {
   "cell_type": "code",
   "execution_count": 1,
   "metadata": {
    "collapsed": true
   },
   "outputs": [],
   "source": [
    "import pandas as pd\n",
    "from mlxtend.frequent_patterns import apriori\n",
    "from mlxtend.frequent_patterns import association_rules"
   ]
  },
  {
   "cell_type": "code",
   "execution_count": 2,
   "metadata": {
    "collapsed": false
   },
   "outputs": [],
   "source": [
    "data = pd.read_csv('RetailerPromotionStrategy_data.csv')"
   ]
  },
  {
   "cell_type": "code",
   "execution_count": 412,
   "metadata": {
    "collapsed": false
   },
   "outputs": [
    {
     "data": {
      "text/html": [
       "<div>\n",
       "<style>\n",
       "    .dataframe thead tr:only-child th {\n",
       "        text-align: right;\n",
       "    }\n",
       "\n",
       "    .dataframe thead th {\n",
       "        text-align: left;\n",
       "    }\n",
       "\n",
       "    .dataframe tbody tr th {\n",
       "        vertical-align: top;\n",
       "    }\n",
       "</style>\n",
       "<table border=\"1\" class=\"dataframe\">\n",
       "  <thead>\n",
       "    <tr style=\"text-align: right;\">\n",
       "      <th></th>\n",
       "      <th>InvoiceNo</th>\n",
       "      <th>StockCode</th>\n",
       "      <th>Description</th>\n",
       "      <th>Quantity</th>\n",
       "      <th>InvoiceDate</th>\n",
       "      <th>UnitPrice</th>\n",
       "      <th>CustomerID</th>\n",
       "      <th>Country</th>\n",
       "    </tr>\n",
       "  </thead>\n",
       "  <tbody>\n",
       "    <tr>\n",
       "      <th>0</th>\n",
       "      <td>536365</td>\n",
       "      <td>85123A</td>\n",
       "      <td>WHITE HANGING HEART T-LIGHT HOLDER</td>\n",
       "      <td>6</td>\n",
       "      <td>2010-12-01 08:26:00</td>\n",
       "      <td>2.550</td>\n",
       "      <td>17850.000</td>\n",
       "      <td>United Kingdom</td>\n",
       "    </tr>\n",
       "    <tr>\n",
       "      <th>1</th>\n",
       "      <td>536365</td>\n",
       "      <td>71053</td>\n",
       "      <td>WHITE METAL LANTERN</td>\n",
       "      <td>6</td>\n",
       "      <td>2010-12-01 08:26:00</td>\n",
       "      <td>3.390</td>\n",
       "      <td>17850.000</td>\n",
       "      <td>United Kingdom</td>\n",
       "    </tr>\n",
       "    <tr>\n",
       "      <th>2</th>\n",
       "      <td>536365</td>\n",
       "      <td>84406B</td>\n",
       "      <td>CREAM CUPID HEARTS COAT HANGER</td>\n",
       "      <td>8</td>\n",
       "      <td>2010-12-01 08:26:00</td>\n",
       "      <td>2.750</td>\n",
       "      <td>17850.000</td>\n",
       "      <td>United Kingdom</td>\n",
       "    </tr>\n",
       "    <tr>\n",
       "      <th>3</th>\n",
       "      <td>536365</td>\n",
       "      <td>84029G</td>\n",
       "      <td>KNITTED UNION FLAG HOT WATER BOTTLE</td>\n",
       "      <td>6</td>\n",
       "      <td>2010-12-01 08:26:00</td>\n",
       "      <td>3.390</td>\n",
       "      <td>17850.000</td>\n",
       "      <td>United Kingdom</td>\n",
       "    </tr>\n",
       "    <tr>\n",
       "      <th>4</th>\n",
       "      <td>536365</td>\n",
       "      <td>84029E</td>\n",
       "      <td>RED WOOLLY HOTTIE WHITE HEART.</td>\n",
       "      <td>6</td>\n",
       "      <td>2010-12-01 08:26:00</td>\n",
       "      <td>3.390</td>\n",
       "      <td>17850.000</td>\n",
       "      <td>United Kingdom</td>\n",
       "    </tr>\n",
       "  </tbody>\n",
       "</table>\n",
       "</div>"
      ],
      "text/plain": [
       "  InvoiceNo StockCode                          Description  Quantity  \\\n",
       "0    536365    85123A   WHITE HANGING HEART T-LIGHT HOLDER         6   \n",
       "1    536365     71053                  WHITE METAL LANTERN         6   \n",
       "2    536365    84406B       CREAM CUPID HEARTS COAT HANGER         8   \n",
       "3    536365    84029G  KNITTED UNION FLAG HOT WATER BOTTLE         6   \n",
       "4    536365    84029E       RED WOOLLY HOTTIE WHITE HEART.         6   \n",
       "\n",
       "          InvoiceDate  UnitPrice  CustomerID         Country  \n",
       "0 2010-12-01 08:26:00      2.550   17850.000  United Kingdom  \n",
       "1 2010-12-01 08:26:00      3.390   17850.000  United Kingdom  \n",
       "2 2010-12-01 08:26:00      2.750   17850.000  United Kingdom  \n",
       "3 2010-12-01 08:26:00      3.390   17850.000  United Kingdom  \n",
       "4 2010-12-01 08:26:00      3.390   17850.000  United Kingdom  "
      ]
     },
     "execution_count": 412,
     "metadata": {},
     "output_type": "execute_result"
    }
   ],
   "source": [
    "df = pd.read_excel('http://archive.ics.uci.edu/ml/machine-learning-databases/00352/Online%20Retail.xlsx')\n",
    "df.head()"
   ]
  },
  {
   "cell_type": "code",
   "execution_count": 3,
   "metadata": {
    "collapsed": false
   },
   "outputs": [
    {
     "data": {
      "text/html": [
       "<div>\n",
       "<style>\n",
       "    .dataframe thead tr:only-child th {\n",
       "        text-align: right;\n",
       "    }\n",
       "\n",
       "    .dataframe thead th {\n",
       "        text-align: left;\n",
       "    }\n",
       "\n",
       "    .dataframe tbody tr th {\n",
       "        vertical-align: top;\n",
       "    }\n",
       "</style>\n",
       "<table border=\"1\" class=\"dataframe\">\n",
       "  <thead>\n",
       "    <tr style=\"text-align: right;\">\n",
       "      <th></th>\n",
       "      <th>StoreID</th>\n",
       "      <th>TransactionID</th>\n",
       "      <th>Line</th>\n",
       "      <th>Sales</th>\n",
       "      <th>Count</th>\n",
       "      <th>Date</th>\n",
       "      <th>SKU</th>\n",
       "    </tr>\n",
       "  </thead>\n",
       "  <tbody>\n",
       "    <tr>\n",
       "      <th>0</th>\n",
       "      <td>A29</td>\n",
       "      <td>11-7270-00007-00057</td>\n",
       "      <td>36</td>\n",
       "      <td>850.0</td>\n",
       "      <td>1.0</td>\n",
       "      <td>3/11/12 00:00</td>\n",
       "      <td>A21773</td>\n",
       "    </tr>\n",
       "    <tr>\n",
       "      <th>1</th>\n",
       "      <td>A29</td>\n",
       "      <td>11-7270-00007-00057</td>\n",
       "      <td>39</td>\n",
       "      <td>1500.0</td>\n",
       "      <td>1.0</td>\n",
       "      <td>3/11/12 00:00</td>\n",
       "      <td>A18009</td>\n",
       "    </tr>\n",
       "    <tr>\n",
       "      <th>2</th>\n",
       "      <td>A29</td>\n",
       "      <td>11-7270-00007-00057</td>\n",
       "      <td>40</td>\n",
       "      <td>1500.0</td>\n",
       "      <td>1.0</td>\n",
       "      <td>3/11/12 00:00</td>\n",
       "      <td>A25592</td>\n",
       "    </tr>\n",
       "    <tr>\n",
       "      <th>3</th>\n",
       "      <td>A29</td>\n",
       "      <td>11-7270-00007-00057</td>\n",
       "      <td>41</td>\n",
       "      <td>1600.0</td>\n",
       "      <td>1.0</td>\n",
       "      <td>3/11/12 00:00</td>\n",
       "      <td>A1449</td>\n",
       "    </tr>\n",
       "    <tr>\n",
       "      <th>4</th>\n",
       "      <td>A29</td>\n",
       "      <td>11-7270-00007-00057</td>\n",
       "      <td>42</td>\n",
       "      <td>1600.0</td>\n",
       "      <td>1.0</td>\n",
       "      <td>3/11/12 00:00</td>\n",
       "      <td>A1449</td>\n",
       "    </tr>\n",
       "  </tbody>\n",
       "</table>\n",
       "</div>"
      ],
      "text/plain": [
       "  StoreID        TransactionID  Line   Sales  Count           Date     SKU\n",
       "0     A29  11-7270-00007-00057    36   850.0    1.0  3/11/12 00:00  A21773\n",
       "1     A29  11-7270-00007-00057    39  1500.0    1.0  3/11/12 00:00  A18009\n",
       "2     A29  11-7270-00007-00057    40  1500.0    1.0  3/11/12 00:00  A25592\n",
       "3     A29  11-7270-00007-00057    41  1600.0    1.0  3/11/12 00:00   A1449\n",
       "4     A29  11-7270-00007-00057    42  1600.0    1.0  3/11/12 00:00   A1449"
      ]
     },
     "execution_count": 3,
     "metadata": {},
     "output_type": "execute_result"
    }
   ],
   "source": [
    "data.head()"
   ]
  },
  {
   "cell_type": "code",
   "execution_count": 4,
   "metadata": {
    "collapsed": false
   },
   "outputs": [],
   "source": [
    "# Explore StoreID = A29\n",
    "basket = data[data['StoreID']=='A29'].groupby(['TransactionID','SKU'])['Count'].sum().unstack().reset_index().fillna(0).set_index('TransactionID')"
   ]
  },
  {
   "cell_type": "code",
   "execution_count": 5,
   "metadata": {
    "collapsed": false
   },
   "outputs": [
    {
     "data": {
      "text/html": [
       "<div>\n",
       "<style>\n",
       "    .dataframe thead tr:only-child th {\n",
       "        text-align: right;\n",
       "    }\n",
       "\n",
       "    .dataframe thead th {\n",
       "        text-align: left;\n",
       "    }\n",
       "\n",
       "    .dataframe tbody tr th {\n",
       "        vertical-align: top;\n",
       "    }\n",
       "</style>\n",
       "<table border=\"1\" class=\"dataframe\">\n",
       "  <thead>\n",
       "    <tr style=\"text-align: right;\">\n",
       "      <th>SKU</th>\n",
       "      <th>A1</th>\n",
       "      <th>A10004</th>\n",
       "      <th>A10006</th>\n",
       "      <th>A10007</th>\n",
       "      <th>A10008</th>\n",
       "      <th>A10016</th>\n",
       "      <th>A10023</th>\n",
       "      <th>A10024</th>\n",
       "      <th>A10025</th>\n",
       "      <th>A10045</th>\n",
       "      <th>...</th>\n",
       "      <th>A9933</th>\n",
       "      <th>A9938</th>\n",
       "      <th>A9941</th>\n",
       "      <th>A9942</th>\n",
       "      <th>A9946</th>\n",
       "      <th>A9947</th>\n",
       "      <th>A9963</th>\n",
       "      <th>A9964</th>\n",
       "      <th>A9981</th>\n",
       "      <th>A9982</th>\n",
       "    </tr>\n",
       "    <tr>\n",
       "      <th>TransactionID</th>\n",
       "      <th></th>\n",
       "      <th></th>\n",
       "      <th></th>\n",
       "      <th></th>\n",
       "      <th></th>\n",
       "      <th></th>\n",
       "      <th></th>\n",
       "      <th></th>\n",
       "      <th></th>\n",
       "      <th></th>\n",
       "      <th></th>\n",
       "      <th></th>\n",
       "      <th></th>\n",
       "      <th></th>\n",
       "      <th></th>\n",
       "      <th></th>\n",
       "      <th></th>\n",
       "      <th></th>\n",
       "      <th></th>\n",
       "      <th></th>\n",
       "      <th></th>\n",
       "    </tr>\n",
       "  </thead>\n",
       "  <tbody>\n",
       "    <tr>\n",
       "      <th>11-7270-00005-00002</th>\n",
       "      <td>0.0</td>\n",
       "      <td>0.0</td>\n",
       "      <td>0.0</td>\n",
       "      <td>0.0</td>\n",
       "      <td>0.0</td>\n",
       "      <td>0.0</td>\n",
       "      <td>0.0</td>\n",
       "      <td>0.0</td>\n",
       "      <td>0.0</td>\n",
       "      <td>0.0</td>\n",
       "      <td>...</td>\n",
       "      <td>0.0</td>\n",
       "      <td>0.0</td>\n",
       "      <td>0.0</td>\n",
       "      <td>0.0</td>\n",
       "      <td>0.0</td>\n",
       "      <td>0.0</td>\n",
       "      <td>0.0</td>\n",
       "      <td>0.0</td>\n",
       "      <td>0.0</td>\n",
       "      <td>0.0</td>\n",
       "    </tr>\n",
       "    <tr>\n",
       "      <th>11-7270-00005-00003</th>\n",
       "      <td>0.0</td>\n",
       "      <td>0.0</td>\n",
       "      <td>0.0</td>\n",
       "      <td>0.0</td>\n",
       "      <td>0.0</td>\n",
       "      <td>0.0</td>\n",
       "      <td>0.0</td>\n",
       "      <td>0.0</td>\n",
       "      <td>0.0</td>\n",
       "      <td>0.0</td>\n",
       "      <td>...</td>\n",
       "      <td>0.0</td>\n",
       "      <td>0.0</td>\n",
       "      <td>0.0</td>\n",
       "      <td>0.0</td>\n",
       "      <td>0.0</td>\n",
       "      <td>0.0</td>\n",
       "      <td>0.0</td>\n",
       "      <td>0.0</td>\n",
       "      <td>0.0</td>\n",
       "      <td>0.0</td>\n",
       "    </tr>\n",
       "    <tr>\n",
       "      <th>11-7270-00005-00004</th>\n",
       "      <td>0.0</td>\n",
       "      <td>0.0</td>\n",
       "      <td>0.0</td>\n",
       "      <td>0.0</td>\n",
       "      <td>0.0</td>\n",
       "      <td>0.0</td>\n",
       "      <td>0.0</td>\n",
       "      <td>0.0</td>\n",
       "      <td>0.0</td>\n",
       "      <td>0.0</td>\n",
       "      <td>...</td>\n",
       "      <td>0.0</td>\n",
       "      <td>0.0</td>\n",
       "      <td>0.0</td>\n",
       "      <td>0.0</td>\n",
       "      <td>0.0</td>\n",
       "      <td>0.0</td>\n",
       "      <td>0.0</td>\n",
       "      <td>0.0</td>\n",
       "      <td>0.0</td>\n",
       "      <td>0.0</td>\n",
       "    </tr>\n",
       "    <tr>\n",
       "      <th>11-7270-00005-00005</th>\n",
       "      <td>0.0</td>\n",
       "      <td>0.0</td>\n",
       "      <td>0.0</td>\n",
       "      <td>0.0</td>\n",
       "      <td>0.0</td>\n",
       "      <td>0.0</td>\n",
       "      <td>0.0</td>\n",
       "      <td>0.0</td>\n",
       "      <td>0.0</td>\n",
       "      <td>0.0</td>\n",
       "      <td>...</td>\n",
       "      <td>0.0</td>\n",
       "      <td>0.0</td>\n",
       "      <td>0.0</td>\n",
       "      <td>0.0</td>\n",
       "      <td>0.0</td>\n",
       "      <td>0.0</td>\n",
       "      <td>0.0</td>\n",
       "      <td>0.0</td>\n",
       "      <td>0.0</td>\n",
       "      <td>0.0</td>\n",
       "    </tr>\n",
       "    <tr>\n",
       "      <th>11-7270-00005-00006</th>\n",
       "      <td>0.0</td>\n",
       "      <td>0.0</td>\n",
       "      <td>0.0</td>\n",
       "      <td>0.0</td>\n",
       "      <td>0.0</td>\n",
       "      <td>0.0</td>\n",
       "      <td>0.0</td>\n",
       "      <td>0.0</td>\n",
       "      <td>0.0</td>\n",
       "      <td>0.0</td>\n",
       "      <td>...</td>\n",
       "      <td>0.0</td>\n",
       "      <td>0.0</td>\n",
       "      <td>0.0</td>\n",
       "      <td>0.0</td>\n",
       "      <td>0.0</td>\n",
       "      <td>0.0</td>\n",
       "      <td>0.0</td>\n",
       "      <td>0.0</td>\n",
       "      <td>0.0</td>\n",
       "      <td>0.0</td>\n",
       "    </tr>\n",
       "  </tbody>\n",
       "</table>\n",
       "<p>5 rows × 4325 columns</p>\n",
       "</div>"
      ],
      "text/plain": [
       "SKU                   A1  A10004  A10006  A10007  A10008  A10016  A10023  \\\n",
       "TransactionID                                                              \n",
       "11-7270-00005-00002  0.0     0.0     0.0     0.0     0.0     0.0     0.0   \n",
       "11-7270-00005-00003  0.0     0.0     0.0     0.0     0.0     0.0     0.0   \n",
       "11-7270-00005-00004  0.0     0.0     0.0     0.0     0.0     0.0     0.0   \n",
       "11-7270-00005-00005  0.0     0.0     0.0     0.0     0.0     0.0     0.0   \n",
       "11-7270-00005-00006  0.0     0.0     0.0     0.0     0.0     0.0     0.0   \n",
       "\n",
       "SKU                  A10024  A10025  A10045  ...    A9933  A9938  A9941  \\\n",
       "TransactionID                                ...                          \n",
       "11-7270-00005-00002     0.0     0.0     0.0  ...      0.0    0.0    0.0   \n",
       "11-7270-00005-00003     0.0     0.0     0.0  ...      0.0    0.0    0.0   \n",
       "11-7270-00005-00004     0.0     0.0     0.0  ...      0.0    0.0    0.0   \n",
       "11-7270-00005-00005     0.0     0.0     0.0  ...      0.0    0.0    0.0   \n",
       "11-7270-00005-00006     0.0     0.0     0.0  ...      0.0    0.0    0.0   \n",
       "\n",
       "SKU                  A9942  A9946  A9947  A9963  A9964  A9981  A9982  \n",
       "TransactionID                                                         \n",
       "11-7270-00005-00002    0.0    0.0    0.0    0.0    0.0    0.0    0.0  \n",
       "11-7270-00005-00003    0.0    0.0    0.0    0.0    0.0    0.0    0.0  \n",
       "11-7270-00005-00004    0.0    0.0    0.0    0.0    0.0    0.0    0.0  \n",
       "11-7270-00005-00005    0.0    0.0    0.0    0.0    0.0    0.0    0.0  \n",
       "11-7270-00005-00006    0.0    0.0    0.0    0.0    0.0    0.0    0.0  \n",
       "\n",
       "[5 rows x 4325 columns]"
      ]
     },
     "execution_count": 5,
     "metadata": {},
     "output_type": "execute_result"
    }
   ],
   "source": [
    "basket.head()"
   ]
  },
  {
   "cell_type": "code",
   "execution_count": 6,
   "metadata": {
    "collapsed": true
   },
   "outputs": [],
   "source": [
    "def encode_units(x):\n",
    "    if x <= 0:\n",
    "        return 0\n",
    "    if x >= 1:\n",
    "        return 1\n",
    "\n",
    "basket_sets = basket.applymap(encode_units)"
   ]
  },
  {
   "cell_type": "code",
   "execution_count": 16,
   "metadata": {
    "collapsed": false
   },
   "outputs": [
    {
     "data": {
      "text/html": [
       "<div>\n",
       "<style>\n",
       "    .dataframe thead tr:only-child th {\n",
       "        text-align: right;\n",
       "    }\n",
       "\n",
       "    .dataframe thead th {\n",
       "        text-align: left;\n",
       "    }\n",
       "\n",
       "    .dataframe tbody tr th {\n",
       "        vertical-align: top;\n",
       "    }\n",
       "</style>\n",
       "<table border=\"1\" class=\"dataframe\">\n",
       "  <thead>\n",
       "    <tr style=\"text-align: right;\">\n",
       "      <th></th>\n",
       "      <th>antecedants</th>\n",
       "      <th>consequents</th>\n",
       "      <th>support</th>\n",
       "      <th>confidence</th>\n",
       "      <th>lift</th>\n",
       "    </tr>\n",
       "  </thead>\n",
       "  <tbody>\n",
       "    <tr>\n",
       "      <th>0</th>\n",
       "      <td>(A2854)</td>\n",
       "      <td>(A3664)</td>\n",
       "      <td>0.045802</td>\n",
       "      <td>0.254902</td>\n",
       "      <td>1.624225</td>\n",
       "    </tr>\n",
       "    <tr>\n",
       "      <th>1</th>\n",
       "      <td>(A3664)</td>\n",
       "      <td>(A2854)</td>\n",
       "      <td>0.156938</td>\n",
       "      <td>0.074392</td>\n",
       "      <td>1.624225</td>\n",
       "    </tr>\n",
       "    <tr>\n",
       "      <th>2</th>\n",
       "      <td>(A25312)</td>\n",
       "      <td>(A3664)</td>\n",
       "      <td>0.039291</td>\n",
       "      <td>0.325714</td>\n",
       "      <td>2.075438</td>\n",
       "    </tr>\n",
       "    <tr>\n",
       "      <th>3</th>\n",
       "      <td>(A3664)</td>\n",
       "      <td>(A25312)</td>\n",
       "      <td>0.156938</td>\n",
       "      <td>0.081545</td>\n",
       "      <td>2.075438</td>\n",
       "    </tr>\n",
       "  </tbody>\n",
       "</table>\n",
       "</div>"
      ],
      "text/plain": [
       "  antecedants consequents   support  confidence      lift\n",
       "0     (A2854)     (A3664)  0.045802    0.254902  1.624225\n",
       "1     (A3664)     (A2854)  0.156938    0.074392  1.624225\n",
       "2    (A25312)     (A3664)  0.039291    0.325714  2.075438\n",
       "3     (A3664)    (A25312)  0.156938    0.081545  2.075438"
      ]
     },
     "execution_count": 16,
     "metadata": {},
     "output_type": "execute_result"
    }
   ],
   "source": [
    "frequent_itemsets = apriori(basket_sets, min_support=0.01, use_colnames=True)\n",
    "rules = association_rules(frequent_itemsets, metric=\"lift\", min_threshold=1)\n",
    "rules.head()"
   ]
  },
  {
   "cell_type": "code",
   "execution_count": 17,
   "metadata": {
    "collapsed": false
   },
   "outputs": [
    {
     "data": {
      "text/plain": [
       "280.0"
      ]
     },
     "execution_count": 17,
     "metadata": {},
     "output_type": "execute_result"
    }
   ],
   "source": [
    "basket['A25312'].sum()"
   ]
  },
  {
   "cell_type": "code",
   "execution_count": 18,
   "metadata": {
    "collapsed": false,
    "scrolled": true
   },
   "outputs": [
    {
     "data": {
      "text/plain": [
       "811.0"
      ]
     },
     "execution_count": 18,
     "metadata": {},
     "output_type": "execute_result"
    }
   ],
   "source": [
    "basket['A3664'].sum()"
   ]
  },
  {
   "cell_type": "markdown",
   "metadata": {},
   "source": [
    "### In store A29, since the confidence and lift are not high in each rule, we conclude there is no strong relationship between two items."
   ]
  },
  {
   "cell_type": "markdown",
   "metadata": {},
   "source": [
    "<br><br>"
   ]
  },
  {
   "cell_type": "code",
   "execution_count": 22,
   "metadata": {
    "collapsed": false
   },
   "outputs": [
    {
     "data": {
      "text/html": [
       "<div>\n",
       "<style>\n",
       "    .dataframe thead tr:only-child th {\n",
       "        text-align: right;\n",
       "    }\n",
       "\n",
       "    .dataframe thead th {\n",
       "        text-align: left;\n",
       "    }\n",
       "\n",
       "    .dataframe tbody tr th {\n",
       "        vertical-align: top;\n",
       "    }\n",
       "</style>\n",
       "<table border=\"1\" class=\"dataframe\">\n",
       "  <thead>\n",
       "    <tr style=\"text-align: right;\">\n",
       "      <th></th>\n",
       "      <th>antecedants</th>\n",
       "      <th>consequents</th>\n",
       "      <th>support</th>\n",
       "      <th>confidence</th>\n",
       "      <th>lift</th>\n",
       "    </tr>\n",
       "  </thead>\n",
       "  <tbody>\n",
       "    <tr>\n",
       "      <th>0</th>\n",
       "      <td>(A5483)</td>\n",
       "      <td>(A13675)</td>\n",
       "      <td>0.010922</td>\n",
       "      <td>1.000000</td>\n",
       "      <td>51.500000</td>\n",
       "    </tr>\n",
       "    <tr>\n",
       "      <th>1</th>\n",
       "      <td>(A13675)</td>\n",
       "      <td>(A5483)</td>\n",
       "      <td>0.019417</td>\n",
       "      <td>0.562500</td>\n",
       "      <td>51.500000</td>\n",
       "    </tr>\n",
       "    <tr>\n",
       "      <th>2</th>\n",
       "      <td>(A25312)</td>\n",
       "      <td>(A8397)</td>\n",
       "      <td>0.064320</td>\n",
       "      <td>0.188679</td>\n",
       "      <td>6.477987</td>\n",
       "    </tr>\n",
       "    <tr>\n",
       "      <th>3</th>\n",
       "      <td>(A8397)</td>\n",
       "      <td>(A25312)</td>\n",
       "      <td>0.029126</td>\n",
       "      <td>0.416667</td>\n",
       "      <td>6.477987</td>\n",
       "    </tr>\n",
       "    <tr>\n",
       "      <th>4</th>\n",
       "      <td>(A2854)</td>\n",
       "      <td>(A3664)</td>\n",
       "      <td>0.058252</td>\n",
       "      <td>0.229167</td>\n",
       "      <td>1.072917</td>\n",
       "    </tr>\n",
       "  </tbody>\n",
       "</table>\n",
       "</div>"
      ],
      "text/plain": [
       "  antecedants consequents   support  confidence       lift\n",
       "0     (A5483)    (A13675)  0.010922    1.000000  51.500000\n",
       "1    (A13675)     (A5483)  0.019417    0.562500  51.500000\n",
       "2    (A25312)     (A8397)  0.064320    0.188679   6.477987\n",
       "3     (A8397)    (A25312)  0.029126    0.416667   6.477987\n",
       "4     (A2854)     (A3664)  0.058252    0.229167   1.072917"
      ]
     },
     "execution_count": 22,
     "metadata": {},
     "output_type": "execute_result"
    }
   ],
   "source": [
    "# Explore StoreID = A79\n",
    "basket = data[data['StoreID']=='A79'].groupby(['TransactionID','SKU'])['Count'].sum().unstack().reset_index().fillna(0).set_index('TransactionID')\n",
    "def encode_units(x):\n",
    "    if x <= 0:\n",
    "        return 0\n",
    "    if x >= 1:\n",
    "        return 1\n",
    "\n",
    "basket_sets = basket.applymap(encode_units)\n",
    "\n",
    "frequent_itemsets = apriori(basket_sets, min_support=0.01, use_colnames=True)\n",
    "rules = association_rules(frequent_itemsets, metric=\"lift\", min_threshold=1)\n",
    "rules.head()"
   ]
  },
  {
   "cell_type": "code",
   "execution_count": 26,
   "metadata": {
    "collapsed": false
   },
   "outputs": [
    {
     "name": "stdout",
     "output_type": "stream",
     "text": [
      "14.0\n",
      "25.0\n"
     ]
    }
   ],
   "source": [
    "print basket['A5483'].sum()\n",
    "\n",
    "print basket['A13675'].sum()"
   ]
  },
  {
   "cell_type": "markdown",
   "metadata": {},
   "source": [
    "### We can see in Store A79, there are a quite few rules with a high lift value which means that it occurs more frequently than would be expected given the number of transactions and product combinatons. \n",
    "### We can see several where the confidence is high as well.\n",
    "### In looking at above rules, it seems that product A5483 and A13675 are purchased together, product A13675 and A5483 are purchased together, product A8397 and A25312 are purchased together.\n",
    "### We can drive up sales through recommendation from their antecendants.\n"
   ]
  },
  {
   "cell_type": "code",
   "execution_count": null,
   "metadata": {
    "collapsed": true
   },
   "outputs": [],
   "source": [
    "\n",
    "\n"
   ]
  },
  {
   "cell_type": "code",
   "execution_count": null,
   "metadata": {
    "collapsed": true
   },
   "outputs": [],
   "source": []
  }
 ],
 "metadata": {
  "anaconda-cloud": {},
  "kernelspec": {
   "display_name": "Python [conda root]",
   "language": "python",
   "name": "conda-root-py"
  },
  "language_info": {
   "codemirror_mode": {
    "name": "ipython",
    "version": 2
   },
   "file_extension": ".py",
   "mimetype": "text/x-python",
   "name": "python",
   "nbconvert_exporter": "python",
   "pygments_lexer": "ipython2",
   "version": "2.7.13"
  }
 },
 "nbformat": 4,
 "nbformat_minor": 1
}
