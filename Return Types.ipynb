{
 "cells": [
  {
   "cell_type": "code",
   "execution_count": 80,
   "metadata": {
    "collapsed": true
   },
   "outputs": [],
   "source": [
    "import pandas as pd\n",
    "data = pd.read_csv('RetailerPromotionStrategy_data.csv')"
   ]
  },
  {
   "cell_type": "code",
   "execution_count": 81,
   "metadata": {
    "collapsed": true
   },
   "outputs": [],
   "source": [
    "from pandasql import sqldf\n",
    "pysqldf = lambda q: sqldf(q, globals())"
   ]
  },
  {
   "cell_type": "markdown",
   "metadata": {},
   "source": [
    "<br><br>"
   ]
  },
  {
   "cell_type": "markdown",
   "metadata": {
    "collapsed": true
   },
   "source": [
    "### Orphan Return and Regular Return"
   ]
  },
  {
   "cell_type": "markdown",
   "metadata": {},
   "source": [
    "Based on our observation, there are 4 behaviors of a returned item in a transaction:  \n",
    "\n",
    "**1) returns with matching purchase**  \n",
    "If we can find an exact match for the sales amount for a returned item, and if the count is a negative number, then we can flag this SKU as a returned item.\n",
    " \n",
    "**2) orphan returns, i.e. returns with no matching purchase within the same transaction**  \n",
    "If the count is negative, and the returns does not equal to a prior sale within the same transaction, then it is an orphan return. \n",
    "\n",
    "Treatment: We flag them and filter them out from the analysis as we don't know anything about them. Once again, if there are purchases in the same transaction when these orphan returns occur, do preserve the other purchases, whether they are discounts or regular.\n",
    "\n",
    "**3) both returns and discounts in the same transaction**\n",
    " \n",
    "**4) returns and regular priced item purchases in the same transaction**\n",
    "\n",
    "Scenario 1 and 2 talks about whether we can find a matching purchase for the returned item, scenario 3 and 4 talks about what other kinds of purchases might appear along with a returned item.\n"
   ]
  },
  {
   "cell_type": "code",
   "execution_count": 82,
   "metadata": {
    "collapsed": true
   },
   "outputs": [],
   "source": [
    "d2 = data[data.Count<0]"
   ]
  },
  {
   "cell_type": "code",
   "execution_count": 119,
   "metadata": {
    "collapsed": false
   },
   "outputs": [],
   "source": [
    "d_credit = data[(data.Count==0)&(data.Sales>0)].head()"
   ]
  },
  {
   "cell_type": "code",
   "execution_count": 7,
   "metadata": {
    "collapsed": true
   },
   "outputs": [],
   "source": [
    "#Returns with matching purchase\n",
    "#If the count is negative, and the returns equal to a prior sale within the same transaction, then it is an regular return\n",
    "q = '''\n",
    "    select\n",
    "        a.*\n",
    "    from\n",
    "    (select * from data where Count<0) a\n",
    "    join\n",
    "    (select distinct TransactionID, SKU, Sales/Count as Unit from data where Count>0) b\n",
    "    on \n",
    "    a.TransactionID=b.TransactionID and a.SKU=b.SKU and a.Sales/a.Count = b.Unit\n",
    "    \n",
    "    '''\n",
    "d3 = pysqldf(q)"
   ]
  },
  {
   "cell_type": "code",
   "execution_count": 105,
   "metadata": {
    "collapsed": false
   },
   "outputs": [
    {
     "data": {
      "text/html": [
       "<div>\n",
       "<style>\n",
       "    .dataframe thead tr:only-child th {\n",
       "        text-align: right;\n",
       "    }\n",
       "\n",
       "    .dataframe thead th {\n",
       "        text-align: left;\n",
       "    }\n",
       "\n",
       "    .dataframe tbody tr th {\n",
       "        vertical-align: top;\n",
       "    }\n",
       "</style>\n",
       "<table border=\"1\" class=\"dataframe\">\n",
       "  <thead>\n",
       "    <tr style=\"text-align: right;\">\n",
       "      <th></th>\n",
       "      <th>StoreID</th>\n",
       "      <th>TransactionID</th>\n",
       "      <th>Line</th>\n",
       "      <th>Sales</th>\n",
       "      <th>Count</th>\n",
       "      <th>Date</th>\n",
       "      <th>SKU</th>\n",
       "    </tr>\n",
       "  </thead>\n",
       "  <tbody>\n",
       "    <tr>\n",
       "      <th>0</th>\n",
       "      <td>A29</td>\n",
       "      <td>11-7270-00007-00066</td>\n",
       "      <td>5</td>\n",
       "      <td>-2013.0</td>\n",
       "      <td>-1.0</td>\n",
       "      <td>3/11/12 00:00</td>\n",
       "      <td>A2729</td>\n",
       "    </tr>\n",
       "    <tr>\n",
       "      <th>1</th>\n",
       "      <td>A19</td>\n",
       "      <td>11-7287-00025-00075</td>\n",
       "      <td>4</td>\n",
       "      <td>-1721.0</td>\n",
       "      <td>-1.0</td>\n",
       "      <td>3/11/12 00:00</td>\n",
       "      <td>A16911</td>\n",
       "    </tr>\n",
       "    <tr>\n",
       "      <th>2</th>\n",
       "      <td>A27</td>\n",
       "      <td>11-7069-00020-00010</td>\n",
       "      <td>6</td>\n",
       "      <td>-4252.0</td>\n",
       "      <td>-1.0</td>\n",
       "      <td>3/11/12 00:00</td>\n",
       "      <td>A7293</td>\n",
       "    </tr>\n",
       "  </tbody>\n",
       "</table>\n",
       "</div>"
      ],
      "text/plain": [
       "  StoreID        TransactionID  Line   Sales  Count           Date     SKU\n",
       "0     A29  11-7270-00007-00066     5 -2013.0   -1.0  3/11/12 00:00   A2729\n",
       "1     A19  11-7287-00025-00075     4 -1721.0   -1.0  3/11/12 00:00  A16911\n",
       "2     A27  11-7069-00020-00010     6 -4252.0   -1.0  3/11/12 00:00   A7293"
      ]
     },
     "execution_count": 105,
     "metadata": {},
     "output_type": "execute_result"
    }
   ],
   "source": [
    "d3.head(3)"
   ]
  },
  {
   "cell_type": "code",
   "execution_count": 84,
   "metadata": {
    "collapsed": false
   },
   "outputs": [
    {
     "data": {
      "text/html": [
       "<div>\n",
       "<style>\n",
       "    .dataframe thead tr:only-child th {\n",
       "        text-align: right;\n",
       "    }\n",
       "\n",
       "    .dataframe thead th {\n",
       "        text-align: left;\n",
       "    }\n",
       "\n",
       "    .dataframe tbody tr th {\n",
       "        vertical-align: top;\n",
       "    }\n",
       "</style>\n",
       "<table border=\"1\" class=\"dataframe\">\n",
       "  <thead>\n",
       "    <tr style=\"text-align: right;\">\n",
       "      <th></th>\n",
       "      <th>StoreID</th>\n",
       "      <th>TransactionID</th>\n",
       "      <th>Line</th>\n",
       "      <th>Sales</th>\n",
       "      <th>Count</th>\n",
       "      <th>Date</th>\n",
       "      <th>SKU</th>\n",
       "    </tr>\n",
       "  </thead>\n",
       "  <tbody>\n",
       "    <tr>\n",
       "      <th>16410</th>\n",
       "      <td>A78</td>\n",
       "      <td>11-5634-00002-00092</td>\n",
       "      <td>8</td>\n",
       "      <td>695.0</td>\n",
       "      <td>1.0</td>\n",
       "      <td>3/11/12 00:00</td>\n",
       "      <td>A15554</td>\n",
       "    </tr>\n",
       "    <tr>\n",
       "      <th>16411</th>\n",
       "      <td>A78</td>\n",
       "      <td>11-5634-00002-00092</td>\n",
       "      <td>9</td>\n",
       "      <td>695.0</td>\n",
       "      <td>1.0</td>\n",
       "      <td>3/11/12 00:00</td>\n",
       "      <td>A15554</td>\n",
       "    </tr>\n",
       "    <tr>\n",
       "      <th>16412</th>\n",
       "      <td>A78</td>\n",
       "      <td>11-5634-00002-00092</td>\n",
       "      <td>11</td>\n",
       "      <td>-695.0</td>\n",
       "      <td>-1.0</td>\n",
       "      <td>3/11/12 00:00</td>\n",
       "      <td>A15554</td>\n",
       "    </tr>\n",
       "    <tr>\n",
       "      <th>16413</th>\n",
       "      <td>A78</td>\n",
       "      <td>11-5634-00002-00092</td>\n",
       "      <td>13</td>\n",
       "      <td>-695.0</td>\n",
       "      <td>-1.0</td>\n",
       "      <td>3/11/12 00:00</td>\n",
       "      <td>A15554</td>\n",
       "    </tr>\n",
       "  </tbody>\n",
       "</table>\n",
       "</div>"
      ],
      "text/plain": [
       "      StoreID        TransactionID  Line  Sales  Count           Date     SKU\n",
       "16410     A78  11-5634-00002-00092     8  695.0    1.0  3/11/12 00:00  A15554\n",
       "16411     A78  11-5634-00002-00092     9  695.0    1.0  3/11/12 00:00  A15554\n",
       "16412     A78  11-5634-00002-00092    11 -695.0   -1.0  3/11/12 00:00  A15554\n",
       "16413     A78  11-5634-00002-00092    13 -695.0   -1.0  3/11/12 00:00  A15554"
      ]
     },
     "execution_count": 84,
     "metadata": {},
     "output_type": "execute_result"
    }
   ],
   "source": [
    "data[(data.TransactionID=='11-5634-00002-00092')&(data.SKU=='A15554')]"
   ]
  },
  {
   "cell_type": "markdown",
   "metadata": {},
   "source": [
    "#### Find rows when a customer returned an item purchased earlier at the regular price, AND purchased the same item at discounted price.\n"
   ]
  },
  {
   "cell_type": "code",
   "execution_count": 141,
   "metadata": {
    "collapsed": false
   },
   "outputs": [],
   "source": [
    "q = '''\n",
    "    select\n",
    "        a.*\n",
    "    from data a\n",
    "    join (select distinct TransactionID, SKU from d3) b\n",
    "    on \n",
    "    a.TransactionID=b.TransactionID and a.SKU=b.SKU \n",
    "    where \n",
    "        a.Count=0 and a.Sales>0\n",
    "    '''\n",
    "d31 = pysqldf(q)"
   ]
  },
  {
   "cell_type": "code",
   "execution_count": 142,
   "metadata": {
    "collapsed": true
   },
   "outputs": [],
   "source": [
    "q = '''\n",
    "    select\n",
    "        a.*\n",
    "    from data a\n",
    "    join (select distinct TransactionID, SKU from d3) b\n",
    "    on \n",
    "    a.TransactionID=b.TransactionID and a.SKU=b.SKU \n",
    "    where \n",
    "        a.Count=0 and a.Sales<0\n",
    "    '''\n",
    "d32 = pysqldf(q)"
   ]
  },
  {
   "cell_type": "code",
   "execution_count": 147,
   "metadata": {
    "collapsed": true
   },
   "outputs": [],
   "source": [
    "q = '''\n",
    "    select\n",
    "        distinct a.TransactionID, a.SKU\n",
    "    from d32 a\n",
    "    left join d31 b\n",
    "    on a.TransactionID=b.TransactionID and a.SKU=b.SKU\n",
    "    where b.TransactionID is null\n",
    "    '''\n",
    "d33 = pysqldf(q)"
   ]
  },
  {
   "cell_type": "code",
   "execution_count": 148,
   "metadata": {
    "collapsed": false
   },
   "outputs": [
    {
     "data": {
      "text/html": [
       "<div>\n",
       "<style>\n",
       "    .dataframe thead tr:only-child th {\n",
       "        text-align: right;\n",
       "    }\n",
       "\n",
       "    .dataframe thead th {\n",
       "        text-align: left;\n",
       "    }\n",
       "\n",
       "    .dataframe tbody tr th {\n",
       "        vertical-align: top;\n",
       "    }\n",
       "</style>\n",
       "<table border=\"1\" class=\"dataframe\">\n",
       "  <thead>\n",
       "    <tr style=\"text-align: right;\">\n",
       "      <th></th>\n",
       "      <th>TransactionID</th>\n",
       "      <th>SKU</th>\n",
       "    </tr>\n",
       "  </thead>\n",
       "  <tbody>\n",
       "    <tr>\n",
       "      <th>0</th>\n",
       "      <td>11-5634-00009-00336</td>\n",
       "      <td>A2341</td>\n",
       "    </tr>\n",
       "    <tr>\n",
       "      <th>1</th>\n",
       "      <td>11-5634-00024-00094</td>\n",
       "      <td>A11213</td>\n",
       "    </tr>\n",
       "    <tr>\n",
       "      <th>2</th>\n",
       "      <td>11-5634-00024-00177</td>\n",
       "      <td>A21268</td>\n",
       "    </tr>\n",
       "    <tr>\n",
       "      <th>3</th>\n",
       "      <td>11-5634-00024-00199</td>\n",
       "      <td>A7184</td>\n",
       "    </tr>\n",
       "    <tr>\n",
       "      <th>4</th>\n",
       "      <td>12-0856-00009-00096</td>\n",
       "      <td>A20909</td>\n",
       "    </tr>\n",
       "  </tbody>\n",
       "</table>\n",
       "</div>"
      ],
      "text/plain": [
       "         TransactionID     SKU\n",
       "0  11-5634-00009-00336   A2341\n",
       "1  11-5634-00024-00094  A11213\n",
       "2  11-5634-00024-00177  A21268\n",
       "3  11-5634-00024-00199   A7184\n",
       "4  12-0856-00009-00096  A20909"
      ]
     },
     "execution_count": 148,
     "metadata": {},
     "output_type": "execute_result"
    }
   ],
   "source": [
    "d33.head()"
   ]
  },
  {
   "cell_type": "code",
   "execution_count": 179,
   "metadata": {
    "collapsed": false
   },
   "outputs": [
    {
     "name": "stdout",
     "output_type": "stream",
     "text": [
      "(82, 2)\n",
      "78\n"
     ]
    }
   ],
   "source": [
    "print d33.shape\n",
    "print len(d33.TransactionID.unique())"
   ]
  },
  {
   "cell_type": "code",
   "execution_count": 138,
   "metadata": {
    "collapsed": false
   },
   "outputs": [
    {
     "data": {
      "text/html": [
       "<div>\n",
       "<style>\n",
       "    .dataframe thead tr:only-child th {\n",
       "        text-align: right;\n",
       "    }\n",
       "\n",
       "    .dataframe thead th {\n",
       "        text-align: left;\n",
       "    }\n",
       "\n",
       "    .dataframe tbody tr th {\n",
       "        vertical-align: top;\n",
       "    }\n",
       "</style>\n",
       "<table border=\"1\" class=\"dataframe\">\n",
       "  <thead>\n",
       "    <tr style=\"text-align: right;\">\n",
       "      <th></th>\n",
       "      <th>StoreID</th>\n",
       "      <th>TransactionID</th>\n",
       "      <th>Line</th>\n",
       "      <th>Sales</th>\n",
       "      <th>Count</th>\n",
       "      <th>Date</th>\n",
       "      <th>SKU</th>\n",
       "    </tr>\n",
       "  </thead>\n",
       "  <tbody>\n",
       "    <tr>\n",
       "      <th>48134</th>\n",
       "      <td>A78</td>\n",
       "      <td>11-5634-00024-00094</td>\n",
       "      <td>2</td>\n",
       "      <td>-6995.0</td>\n",
       "      <td>-1.0</td>\n",
       "      <td>3/11/12 00:00</td>\n",
       "      <td>A11213</td>\n",
       "    </tr>\n",
       "    <tr>\n",
       "      <th>48135</th>\n",
       "      <td>A78</td>\n",
       "      <td>11-5634-00024-00094</td>\n",
       "      <td>4</td>\n",
       "      <td>-2500.0</td>\n",
       "      <td>-1.0</td>\n",
       "      <td>3/11/12 00:00</td>\n",
       "      <td>A11213</td>\n",
       "    </tr>\n",
       "    <tr>\n",
       "      <th>48136</th>\n",
       "      <td>A78</td>\n",
       "      <td>11-5634-00024-00094</td>\n",
       "      <td>5</td>\n",
       "      <td>6995.0</td>\n",
       "      <td>1.0</td>\n",
       "      <td>3/11/12 00:00</td>\n",
       "      <td>A11213</td>\n",
       "    </tr>\n",
       "    <tr>\n",
       "      <th>48137</th>\n",
       "      <td>A78</td>\n",
       "      <td>11-5634-00024-00094</td>\n",
       "      <td>6</td>\n",
       "      <td>-4495.0</td>\n",
       "      <td>0.0</td>\n",
       "      <td>3/11/12 00:00</td>\n",
       "      <td>A11213</td>\n",
       "    </tr>\n",
       "    <tr>\n",
       "      <th>48138</th>\n",
       "      <td>A78</td>\n",
       "      <td>11-5634-00024-00094</td>\n",
       "      <td>7</td>\n",
       "      <td>6995.0</td>\n",
       "      <td>1.0</td>\n",
       "      <td>3/11/12 00:00</td>\n",
       "      <td>A11213</td>\n",
       "    </tr>\n",
       "    <tr>\n",
       "      <th>48139</th>\n",
       "      <td>A78</td>\n",
       "      <td>11-5634-00024-00094</td>\n",
       "      <td>8</td>\n",
       "      <td>-4495.0</td>\n",
       "      <td>0.0</td>\n",
       "      <td>3/11/12 00:00</td>\n",
       "      <td>A11213</td>\n",
       "    </tr>\n",
       "  </tbody>\n",
       "</table>\n",
       "</div>"
      ],
      "text/plain": [
       "      StoreID        TransactionID  Line   Sales  Count           Date     SKU\n",
       "48134     A78  11-5634-00024-00094     2 -6995.0   -1.0  3/11/12 00:00  A11213\n",
       "48135     A78  11-5634-00024-00094     4 -2500.0   -1.0  3/11/12 00:00  A11213\n",
       "48136     A78  11-5634-00024-00094     5  6995.0    1.0  3/11/12 00:00  A11213\n",
       "48137     A78  11-5634-00024-00094     6 -4495.0    0.0  3/11/12 00:00  A11213\n",
       "48138     A78  11-5634-00024-00094     7  6995.0    1.0  3/11/12 00:00  A11213\n",
       "48139     A78  11-5634-00024-00094     8 -4495.0    0.0  3/11/12 00:00  A11213"
      ]
     },
     "execution_count": 138,
     "metadata": {},
     "output_type": "execute_result"
    }
   ],
   "source": [
    "data[(data.TransactionID=='11-5634-00024-00094')&(data.SKU=='A11213')]"
   ]
  },
  {
   "cell_type": "code",
   "execution_count": 151,
   "metadata": {
    "collapsed": true
   },
   "outputs": [],
   "source": [
    "q = '''\n",
    "    select\n",
    "        a.*\n",
    "    from d3 a\n",
    "    left join d33 b\n",
    "    on a.TransactionID=b.TransactionID and a.SKU=b.SKU\n",
    "    where b.TransactionID is null\n",
    "    '''\n",
    "d34 = pysqldf(q)"
   ]
  },
  {
   "cell_type": "code",
   "execution_count": 270,
   "metadata": {
    "collapsed": false
   },
   "outputs": [
    {
     "name": "stdout",
     "output_type": "stream",
     "text": [
      "(5803, 7)\n",
      "(5708, 7)\n",
      "4781\n"
     ]
    }
   ],
   "source": [
    "print d3.shape\n",
    "print d34.shape\n",
    "print len(d34.TransactionID.unique())"
   ]
  },
  {
   "cell_type": "code",
   "execution_count": 269,
   "metadata": {
    "collapsed": false
   },
   "outputs": [
    {
     "data": {
      "text/html": [
       "<div>\n",
       "<style>\n",
       "    .dataframe thead tr:only-child th {\n",
       "        text-align: right;\n",
       "    }\n",
       "\n",
       "    .dataframe thead th {\n",
       "        text-align: left;\n",
       "    }\n",
       "\n",
       "    .dataframe tbody tr th {\n",
       "        vertical-align: top;\n",
       "    }\n",
       "</style>\n",
       "<table border=\"1\" class=\"dataframe\">\n",
       "  <thead>\n",
       "    <tr style=\"text-align: right;\">\n",
       "      <th></th>\n",
       "      <th>StoreID</th>\n",
       "      <th>TransactionID</th>\n",
       "      <th>Line</th>\n",
       "      <th>Sales</th>\n",
       "      <th>Count</th>\n",
       "      <th>Date</th>\n",
       "      <th>SKU</th>\n",
       "    </tr>\n",
       "  </thead>\n",
       "  <tbody>\n",
       "    <tr>\n",
       "      <th>0</th>\n",
       "      <td>A29</td>\n",
       "      <td>11-7270-00007-00066</td>\n",
       "      <td>5</td>\n",
       "      <td>-2013.0</td>\n",
       "      <td>-1.0</td>\n",
       "      <td>3/11/12 00:00</td>\n",
       "      <td>A2729</td>\n",
       "    </tr>\n",
       "    <tr>\n",
       "      <th>1</th>\n",
       "      <td>A19</td>\n",
       "      <td>11-7287-00025-00075</td>\n",
       "      <td>4</td>\n",
       "      <td>-1721.0</td>\n",
       "      <td>-1.0</td>\n",
       "      <td>3/11/12 00:00</td>\n",
       "      <td>A16911</td>\n",
       "    </tr>\n",
       "    <tr>\n",
       "      <th>2</th>\n",
       "      <td>A27</td>\n",
       "      <td>11-7069-00020-00010</td>\n",
       "      <td>6</td>\n",
       "      <td>-4252.0</td>\n",
       "      <td>-1.0</td>\n",
       "      <td>3/11/12 00:00</td>\n",
       "      <td>A7293</td>\n",
       "    </tr>\n",
       "    <tr>\n",
       "      <th>3</th>\n",
       "      <td>A29</td>\n",
       "      <td>11-7270-00007-00072</td>\n",
       "      <td>37</td>\n",
       "      <td>-2395.0</td>\n",
       "      <td>-1.0</td>\n",
       "      <td>3/11/12 00:00</td>\n",
       "      <td>A19365</td>\n",
       "    </tr>\n",
       "    <tr>\n",
       "      <th>4</th>\n",
       "      <td>A29</td>\n",
       "      <td>11-7270-00007-00089</td>\n",
       "      <td>19</td>\n",
       "      <td>-3995.0</td>\n",
       "      <td>-1.0</td>\n",
       "      <td>3/11/12 00:00</td>\n",
       "      <td>A21166</td>\n",
       "    </tr>\n",
       "  </tbody>\n",
       "</table>\n",
       "</div>"
      ],
      "text/plain": [
       "  StoreID        TransactionID  Line   Sales  Count           Date     SKU\n",
       "0     A29  11-7270-00007-00066     5 -2013.0   -1.0  3/11/12 00:00   A2729\n",
       "1     A19  11-7287-00025-00075     4 -1721.0   -1.0  3/11/12 00:00  A16911\n",
       "2     A27  11-7069-00020-00010     6 -4252.0   -1.0  3/11/12 00:00   A7293\n",
       "3     A29  11-7270-00007-00072    37 -2395.0   -1.0  3/11/12 00:00  A19365\n",
       "4     A29  11-7270-00007-00089    19 -3995.0   -1.0  3/11/12 00:00  A21166"
      ]
     },
     "execution_count": 269,
     "metadata": {},
     "output_type": "execute_result"
    }
   ],
   "source": [
    "d34.head()"
   ]
  },
  {
   "cell_type": "code",
   "execution_count": 271,
   "metadata": {
    "collapsed": false
   },
   "outputs": [
    {
     "data": {
      "text/html": [
       "<div>\n",
       "<style>\n",
       "    .dataframe thead tr:only-child th {\n",
       "        text-align: right;\n",
       "    }\n",
       "\n",
       "    .dataframe thead th {\n",
       "        text-align: left;\n",
       "    }\n",
       "\n",
       "    .dataframe tbody tr th {\n",
       "        vertical-align: top;\n",
       "    }\n",
       "</style>\n",
       "<table border=\"1\" class=\"dataframe\">\n",
       "  <thead>\n",
       "    <tr style=\"text-align: right;\">\n",
       "      <th></th>\n",
       "      <th>StoreID</th>\n",
       "      <th>TransactionID</th>\n",
       "      <th>Line</th>\n",
       "      <th>Sales</th>\n",
       "      <th>Count</th>\n",
       "      <th>Date</th>\n",
       "      <th>SKU</th>\n",
       "    </tr>\n",
       "  </thead>\n",
       "  <tbody>\n",
       "    <tr>\n",
       "      <th>98</th>\n",
       "      <td>A29</td>\n",
       "      <td>11-7270-00007-00066</td>\n",
       "      <td>3</td>\n",
       "      <td>2013.0</td>\n",
       "      <td>1.0</td>\n",
       "      <td>3/11/12 00:00</td>\n",
       "      <td>A2729</td>\n",
       "    </tr>\n",
       "    <tr>\n",
       "      <th>99</th>\n",
       "      <td>A29</td>\n",
       "      <td>11-7270-00007-00066</td>\n",
       "      <td>4</td>\n",
       "      <td>2013.0</td>\n",
       "      <td>1.0</td>\n",
       "      <td>3/11/12 00:00</td>\n",
       "      <td>A2729</td>\n",
       "    </tr>\n",
       "    <tr>\n",
       "      <th>100</th>\n",
       "      <td>A29</td>\n",
       "      <td>11-7270-00007-00066</td>\n",
       "      <td>5</td>\n",
       "      <td>-2013.0</td>\n",
       "      <td>-1.0</td>\n",
       "      <td>3/11/12 00:00</td>\n",
       "      <td>A2729</td>\n",
       "    </tr>\n",
       "  </tbody>\n",
       "</table>\n",
       "</div>"
      ],
      "text/plain": [
       "    StoreID        TransactionID  Line   Sales  Count           Date    SKU\n",
       "98      A29  11-7270-00007-00066     3  2013.0    1.0  3/11/12 00:00  A2729\n",
       "99      A29  11-7270-00007-00066     4  2013.0    1.0  3/11/12 00:00  A2729\n",
       "100     A29  11-7270-00007-00066     5 -2013.0   -1.0  3/11/12 00:00  A2729"
      ]
     },
     "execution_count": 271,
     "metadata": {},
     "output_type": "execute_result"
    }
   ],
   "source": [
    "data[(data.TransactionID=='11-7270-00007-00066')&(data.SKU=='A2729')][-4:]"
   ]
  },
  {
   "cell_type": "code",
   "execution_count": 226,
   "metadata": {
    "collapsed": true
   },
   "outputs": [],
   "source": [
    "# Regular return credit back (Sales>0 and Count=0)\n",
    "q = '''\n",
    "    select\n",
    "        a.*\n",
    "    from data a\n",
    "    join (select distinct TransactionID, SKU from d34) b\n",
    "    on a.TransactionID=b.TransactionID and a.SKU=b.SKU\n",
    "    where a.Sales>0 and a.Count=0\n",
    "    '''\n",
    "d34_1 = pysqldf(q)"
   ]
  },
  {
   "cell_type": "code",
   "execution_count": 236,
   "metadata": {
    "collapsed": false
   },
   "outputs": [
    {
     "data": {
      "text/html": [
       "<div>\n",
       "<style>\n",
       "    .dataframe thead tr:only-child th {\n",
       "        text-align: right;\n",
       "    }\n",
       "\n",
       "    .dataframe thead th {\n",
       "        text-align: left;\n",
       "    }\n",
       "\n",
       "    .dataframe tbody tr th {\n",
       "        vertical-align: top;\n",
       "    }\n",
       "</style>\n",
       "<table border=\"1\" class=\"dataframe\">\n",
       "  <thead>\n",
       "    <tr style=\"text-align: right;\">\n",
       "      <th></th>\n",
       "      <th>StoreID</th>\n",
       "      <th>TransactionID</th>\n",
       "      <th>Line</th>\n",
       "      <th>Sales</th>\n",
       "      <th>Count</th>\n",
       "      <th>Date</th>\n",
       "      <th>SKU</th>\n",
       "    </tr>\n",
       "  </thead>\n",
       "  <tbody>\n",
       "    <tr>\n",
       "      <th>0</th>\n",
       "      <td>A29</td>\n",
       "      <td>11-7270-00007-00110</td>\n",
       "      <td>29</td>\n",
       "      <td>845.0</td>\n",
       "      <td>0.0</td>\n",
       "      <td>3/11/12 00:00</td>\n",
       "      <td>A6007</td>\n",
       "    </tr>\n",
       "    <tr>\n",
       "      <th>1</th>\n",
       "      <td>A29</td>\n",
       "      <td>11-7270-00007-00116</td>\n",
       "      <td>20</td>\n",
       "      <td>234.0</td>\n",
       "      <td>0.0</td>\n",
       "      <td>3/11/12 00:00</td>\n",
       "      <td>A2452</td>\n",
       "    </tr>\n",
       "    <tr>\n",
       "      <th>2</th>\n",
       "      <td>A29</td>\n",
       "      <td>11-7270-00008-00358</td>\n",
       "      <td>6</td>\n",
       "      <td>670.0</td>\n",
       "      <td>0.0</td>\n",
       "      <td>3/11/12 00:00</td>\n",
       "      <td>A13774</td>\n",
       "    </tr>\n",
       "    <tr>\n",
       "      <th>3</th>\n",
       "      <td>A29</td>\n",
       "      <td>11-7270-00014-00241</td>\n",
       "      <td>10</td>\n",
       "      <td>333.0</td>\n",
       "      <td>0.0</td>\n",
       "      <td>3/11/12 00:00</td>\n",
       "      <td>A21307</td>\n",
       "    </tr>\n",
       "    <tr>\n",
       "      <th>4</th>\n",
       "      <td>A29</td>\n",
       "      <td>11-7270-00006-00209</td>\n",
       "      <td>33</td>\n",
       "      <td>475.0</td>\n",
       "      <td>0.0</td>\n",
       "      <td>3/11/12 00:00</td>\n",
       "      <td>A15257</td>\n",
       "    </tr>\n",
       "  </tbody>\n",
       "</table>\n",
       "</div>"
      ],
      "text/plain": [
       "  StoreID        TransactionID  Line  Sales  Count           Date     SKU\n",
       "0     A29  11-7270-00007-00110    29  845.0    0.0  3/11/12 00:00   A6007\n",
       "1     A29  11-7270-00007-00116    20  234.0    0.0  3/11/12 00:00   A2452\n",
       "2     A29  11-7270-00008-00358     6  670.0    0.0  3/11/12 00:00  A13774\n",
       "3     A29  11-7270-00014-00241    10  333.0    0.0  3/11/12 00:00  A21307\n",
       "4     A29  11-7270-00006-00209    33  475.0    0.0  3/11/12 00:00  A15257"
      ]
     },
     "execution_count": 236,
     "metadata": {},
     "output_type": "execute_result"
    }
   ],
   "source": [
    "d34_1.head()"
   ]
  },
  {
   "cell_type": "code",
   "execution_count": 228,
   "metadata": {
    "collapsed": false
   },
   "outputs": [
    {
     "data": {
      "text/plain": [
       "(356, 7)"
      ]
     },
     "execution_count": 228,
     "metadata": {},
     "output_type": "execute_result"
    }
   ],
   "source": [
    "d34_1.shape"
   ]
  },
  {
   "cell_type": "code",
   "execution_count": 235,
   "metadata": {
    "collapsed": false
   },
   "outputs": [
    {
     "data": {
      "text/html": [
       "<div>\n",
       "<style>\n",
       "    .dataframe thead tr:only-child th {\n",
       "        text-align: right;\n",
       "    }\n",
       "\n",
       "    .dataframe thead th {\n",
       "        text-align: left;\n",
       "    }\n",
       "\n",
       "    .dataframe tbody tr th {\n",
       "        vertical-align: top;\n",
       "    }\n",
       "</style>\n",
       "<table border=\"1\" class=\"dataframe\">\n",
       "  <thead>\n",
       "    <tr style=\"text-align: right;\">\n",
       "      <th></th>\n",
       "      <th>StoreID</th>\n",
       "      <th>TransactionID</th>\n",
       "      <th>Line</th>\n",
       "      <th>Sales</th>\n",
       "      <th>Count</th>\n",
       "      <th>Date</th>\n",
       "      <th>SKU</th>\n",
       "    </tr>\n",
       "  </thead>\n",
       "  <tbody>\n",
       "    <tr>\n",
       "      <th>1158</th>\n",
       "      <td>A29</td>\n",
       "      <td>11-7270-00007-00110</td>\n",
       "      <td>26</td>\n",
       "      <td>2195.0</td>\n",
       "      <td>1.0</td>\n",
       "      <td>3/11/12 00:00</td>\n",
       "      <td>A6007</td>\n",
       "    </tr>\n",
       "    <tr>\n",
       "      <th>1159</th>\n",
       "      <td>A29</td>\n",
       "      <td>11-7270-00007-00110</td>\n",
       "      <td>27</td>\n",
       "      <td>-845.0</td>\n",
       "      <td>0.0</td>\n",
       "      <td>3/11/12 00:00</td>\n",
       "      <td>A6007</td>\n",
       "    </tr>\n",
       "    <tr>\n",
       "      <th>1160</th>\n",
       "      <td>A29</td>\n",
       "      <td>11-7270-00007-00110</td>\n",
       "      <td>28</td>\n",
       "      <td>-2195.0</td>\n",
       "      <td>-1.0</td>\n",
       "      <td>3/11/12 00:00</td>\n",
       "      <td>A6007</td>\n",
       "    </tr>\n",
       "    <tr>\n",
       "      <th>1161</th>\n",
       "      <td>A29</td>\n",
       "      <td>11-7270-00007-00110</td>\n",
       "      <td>29</td>\n",
       "      <td>845.0</td>\n",
       "      <td>0.0</td>\n",
       "      <td>3/11/12 00:00</td>\n",
       "      <td>A6007</td>\n",
       "    </tr>\n",
       "  </tbody>\n",
       "</table>\n",
       "</div>"
      ],
      "text/plain": [
       "     StoreID        TransactionID  Line   Sales  Count           Date    SKU\n",
       "1158     A29  11-7270-00007-00110    26  2195.0    1.0  3/11/12 00:00  A6007\n",
       "1159     A29  11-7270-00007-00110    27  -845.0    0.0  3/11/12 00:00  A6007\n",
       "1160     A29  11-7270-00007-00110    28 -2195.0   -1.0  3/11/12 00:00  A6007\n",
       "1161     A29  11-7270-00007-00110    29   845.0    0.0  3/11/12 00:00  A6007"
      ]
     },
     "execution_count": 235,
     "metadata": {},
     "output_type": "execute_result"
    }
   ],
   "source": [
    "data[(data.TransactionID=='11-7270-00007-00110')&(data.SKU=='A6007')][-4:]"
   ]
  },
  {
   "cell_type": "code",
   "execution_count": null,
   "metadata": {
    "collapsed": true
   },
   "outputs": [],
   "source": []
  },
  {
   "cell_type": "markdown",
   "metadata": {},
   "source": [
    "<br>"
   ]
  },
  {
   "cell_type": "code",
   "execution_count": null,
   "metadata": {
    "collapsed": true
   },
   "outputs": [],
   "source": [
    "# Drop regular returns from all returns, the left are orphan returns"
   ]
  },
  {
   "cell_type": "code",
   "execution_count": 156,
   "metadata": {
    "collapsed": false
   },
   "outputs": [
    {
     "name": "stdout",
     "output_type": "stream",
     "text": [
      "(9349, 7)\n",
      "(5708, 7)\n",
      "4781\n"
     ]
    }
   ],
   "source": [
    "print d2.shape\n",
    "print d34.shape\n",
    "print len(d34.TransactionID.unique())"
   ]
  },
  {
   "cell_type": "code",
   "execution_count": 157,
   "metadata": {
    "collapsed": true
   },
   "outputs": [],
   "source": [
    "d_orphan = pd.merge(d2,d34,on=['StoreID','TransactionID','Line','Sales','Count','Date','SKU'],how='left',indicator=True)\n",
    "d_orphan = d_orphan[d_orphan['_merge']=='left_only']\n",
    "d_orphan.drop('_merge',1,inplace=True)"
   ]
  },
  {
   "cell_type": "code",
   "execution_count": 159,
   "metadata": {
    "collapsed": false
   },
   "outputs": [
    {
     "name": "stdout",
     "output_type": "stream",
     "text": [
      "(9349, 7)\n",
      "(5708, 7)\n",
      "(3641, 7)\n",
      "4818\n",
      "2813\n"
     ]
    }
   ],
   "source": [
    "print d2.shape\n",
    "print d34.shape\n",
    "print d_orphan.shape\n",
    "print len(d3.TransactionID.unique())\n",
    "print len(d_orphan.TransactionID.unique())"
   ]
  },
  {
   "cell_type": "code",
   "execution_count": 160,
   "metadata": {
    "collapsed": false
   },
   "outputs": [
    {
     "data": {
      "text/html": [
       "<div>\n",
       "<style>\n",
       "    .dataframe thead tr:only-child th {\n",
       "        text-align: right;\n",
       "    }\n",
       "\n",
       "    .dataframe thead th {\n",
       "        text-align: left;\n",
       "    }\n",
       "\n",
       "    .dataframe tbody tr th {\n",
       "        vertical-align: top;\n",
       "    }\n",
       "</style>\n",
       "<table border=\"1\" class=\"dataframe\">\n",
       "  <thead>\n",
       "    <tr style=\"text-align: right;\">\n",
       "      <th></th>\n",
       "      <th>StoreID</th>\n",
       "      <th>TransactionID</th>\n",
       "      <th>Line</th>\n",
       "      <th>Sales</th>\n",
       "      <th>Count</th>\n",
       "      <th>Date</th>\n",
       "      <th>SKU</th>\n",
       "    </tr>\n",
       "  </thead>\n",
       "  <tbody>\n",
       "    <tr>\n",
       "      <th>33</th>\n",
       "      <td>A29</td>\n",
       "      <td>11-7270-00012-00113</td>\n",
       "      <td>2</td>\n",
       "      <td>-17990.0</td>\n",
       "      <td>-2.0</td>\n",
       "      <td>3/11/12 00:00</td>\n",
       "      <td>A22728</td>\n",
       "    </tr>\n",
       "    <tr>\n",
       "      <th>35</th>\n",
       "      <td>A29</td>\n",
       "      <td>11-7270-00012-00126</td>\n",
       "      <td>1</td>\n",
       "      <td>-3500.0</td>\n",
       "      <td>-1.0</td>\n",
       "      <td>3/11/12 00:00</td>\n",
       "      <td>A24521</td>\n",
       "    </tr>\n",
       "    <tr>\n",
       "      <th>36</th>\n",
       "      <td>A29</td>\n",
       "      <td>11-7270-00012-00154</td>\n",
       "      <td>2</td>\n",
       "      <td>-17475.0</td>\n",
       "      <td>-5.0</td>\n",
       "      <td>3/11/12 00:00</td>\n",
       "      <td>A6386</td>\n",
       "    </tr>\n",
       "    <tr>\n",
       "      <th>37</th>\n",
       "      <td>A29</td>\n",
       "      <td>11-7270-00012-00167</td>\n",
       "      <td>2</td>\n",
       "      <td>-54000.0</td>\n",
       "      <td>-1.0</td>\n",
       "      <td>3/11/12 00:00</td>\n",
       "      <td>A1149</td>\n",
       "    </tr>\n",
       "    <tr>\n",
       "      <th>38</th>\n",
       "      <td>A29</td>\n",
       "      <td>11-7270-00012-00174</td>\n",
       "      <td>2</td>\n",
       "      <td>-11985.0</td>\n",
       "      <td>-3.0</td>\n",
       "      <td>3/11/12 00:00</td>\n",
       "      <td>A25628</td>\n",
       "    </tr>\n",
       "  </tbody>\n",
       "</table>\n",
       "</div>"
      ],
      "text/plain": [
       "   StoreID        TransactionID  Line    Sales  Count           Date     SKU\n",
       "33     A29  11-7270-00012-00113     2 -17990.0   -2.0  3/11/12 00:00  A22728\n",
       "35     A29  11-7270-00012-00126     1  -3500.0   -1.0  3/11/12 00:00  A24521\n",
       "36     A29  11-7270-00012-00154     2 -17475.0   -5.0  3/11/12 00:00   A6386\n",
       "37     A29  11-7270-00012-00167     2 -54000.0   -1.0  3/11/12 00:00   A1149\n",
       "38     A29  11-7270-00012-00174     2 -11985.0   -3.0  3/11/12 00:00  A25628"
      ]
     },
     "execution_count": 160,
     "metadata": {},
     "output_type": "execute_result"
    }
   ],
   "source": [
    "d_orphan.head()"
   ]
  },
  {
   "cell_type": "code",
   "execution_count": 161,
   "metadata": {
    "collapsed": false
   },
   "outputs": [
    {
     "data": {
      "text/html": [
       "<div>\n",
       "<style>\n",
       "    .dataframe thead tr:only-child th {\n",
       "        text-align: right;\n",
       "    }\n",
       "\n",
       "    .dataframe thead th {\n",
       "        text-align: left;\n",
       "    }\n",
       "\n",
       "    .dataframe tbody tr th {\n",
       "        vertical-align: top;\n",
       "    }\n",
       "</style>\n",
       "<table border=\"1\" class=\"dataframe\">\n",
       "  <thead>\n",
       "    <tr style=\"text-align: right;\">\n",
       "      <th></th>\n",
       "      <th>StoreID</th>\n",
       "      <th>TransactionID</th>\n",
       "      <th>Line</th>\n",
       "      <th>Sales</th>\n",
       "      <th>Count</th>\n",
       "      <th>Date</th>\n",
       "      <th>SKU</th>\n",
       "    </tr>\n",
       "  </thead>\n",
       "  <tbody>\n",
       "    <tr>\n",
       "      <th>5050</th>\n",
       "      <td>A29</td>\n",
       "      <td>11-7270-00012-00190</td>\n",
       "      <td>1</td>\n",
       "      <td>-18995.0</td>\n",
       "      <td>-1.0</td>\n",
       "      <td>3/11/12 00:00</td>\n",
       "      <td>A10981</td>\n",
       "    </tr>\n",
       "    <tr>\n",
       "      <th>5051</th>\n",
       "      <td>A29</td>\n",
       "      <td>11-7270-00012-00190</td>\n",
       "      <td>2</td>\n",
       "      <td>-7995.0</td>\n",
       "      <td>-1.0</td>\n",
       "      <td>3/11/12 00:00</td>\n",
       "      <td>A21473</td>\n",
       "    </tr>\n",
       "  </tbody>\n",
       "</table>\n",
       "</div>"
      ],
      "text/plain": [
       "     StoreID        TransactionID  Line    Sales  Count           Date     SKU\n",
       "5050     A29  11-7270-00012-00190     1 -18995.0   -1.0  3/11/12 00:00  A10981\n",
       "5051     A29  11-7270-00012-00190     2  -7995.0   -1.0  3/11/12 00:00  A21473"
      ]
     },
     "execution_count": 161,
     "metadata": {},
     "output_type": "execute_result"
    }
   ],
   "source": [
    "data[(data.TransactionID=='11-7270-00012-00190')]"
   ]
  },
  {
   "cell_type": "code",
   "execution_count": 162,
   "metadata": {
    "collapsed": false
   },
   "outputs": [
    {
     "data": {
      "text/html": [
       "<div>\n",
       "<style>\n",
       "    .dataframe thead tr:only-child th {\n",
       "        text-align: right;\n",
       "    }\n",
       "\n",
       "    .dataframe thead th {\n",
       "        text-align: left;\n",
       "    }\n",
       "\n",
       "    .dataframe tbody tr th {\n",
       "        vertical-align: top;\n",
       "    }\n",
       "</style>\n",
       "<table border=\"1\" class=\"dataframe\">\n",
       "  <thead>\n",
       "    <tr style=\"text-align: right;\">\n",
       "      <th></th>\n",
       "      <th>StoreID</th>\n",
       "      <th>TransactionID</th>\n",
       "      <th>Line</th>\n",
       "      <th>Sales</th>\n",
       "      <th>Count</th>\n",
       "      <th>Date</th>\n",
       "      <th>SKU</th>\n",
       "    </tr>\n",
       "  </thead>\n",
       "  <tbody>\n",
       "    <tr>\n",
       "      <th>796499</th>\n",
       "      <td>A61</td>\n",
       "      <td>12-0033-00009-00040</td>\n",
       "      <td>7</td>\n",
       "      <td>1095.0</td>\n",
       "      <td>1.0</td>\n",
       "      <td>3/12/12 00:00</td>\n",
       "      <td>A10982</td>\n",
       "    </tr>\n",
       "    <tr>\n",
       "      <th>796500</th>\n",
       "      <td>A61</td>\n",
       "      <td>12-0033-00009-00040</td>\n",
       "      <td>8</td>\n",
       "      <td>1095.0</td>\n",
       "      <td>1.0</td>\n",
       "      <td>3/12/12 00:00</td>\n",
       "      <td>A10982</td>\n",
       "    </tr>\n",
       "    <tr>\n",
       "      <th>796501</th>\n",
       "      <td>A61</td>\n",
       "      <td>12-0033-00009-00040</td>\n",
       "      <td>10</td>\n",
       "      <td>-750.0</td>\n",
       "      <td>-1.0</td>\n",
       "      <td>3/12/12 00:00</td>\n",
       "      <td>A10982</td>\n",
       "    </tr>\n",
       "    <tr>\n",
       "      <th>796502</th>\n",
       "      <td>A61</td>\n",
       "      <td>12-0033-00009-00040</td>\n",
       "      <td>12</td>\n",
       "      <td>-1095.0</td>\n",
       "      <td>-1.0</td>\n",
       "      <td>3/12/12 00:00</td>\n",
       "      <td>A10982</td>\n",
       "    </tr>\n",
       "    <tr>\n",
       "      <th>796503</th>\n",
       "      <td>A61</td>\n",
       "      <td>12-0033-00009-00040</td>\n",
       "      <td>14</td>\n",
       "      <td>-345.0</td>\n",
       "      <td>-1.0</td>\n",
       "      <td>3/12/12 00:00</td>\n",
       "      <td>A10982</td>\n",
       "    </tr>\n",
       "  </tbody>\n",
       "</table>\n",
       "</div>"
      ],
      "text/plain": [
       "       StoreID        TransactionID  Line   Sales  Count           Date  \\\n",
       "796499     A61  12-0033-00009-00040     7  1095.0    1.0  3/12/12 00:00   \n",
       "796500     A61  12-0033-00009-00040     8  1095.0    1.0  3/12/12 00:00   \n",
       "796501     A61  12-0033-00009-00040    10  -750.0   -1.0  3/12/12 00:00   \n",
       "796502     A61  12-0033-00009-00040    12 -1095.0   -1.0  3/12/12 00:00   \n",
       "796503     A61  12-0033-00009-00040    14  -345.0   -1.0  3/12/12 00:00   \n",
       "\n",
       "           SKU  \n",
       "796499  A10982  \n",
       "796500  A10982  \n",
       "796501  A10982  \n",
       "796502  A10982  \n",
       "796503  A10982  "
      ]
     },
     "execution_count": 162,
     "metadata": {},
     "output_type": "execute_result"
    }
   ],
   "source": [
    "data[(data.TransactionID=='12-0033-00009-00040')&(data.SKU=='A10982')]"
   ]
  },
  {
   "cell_type": "code",
   "execution_count": 180,
   "metadata": {
    "collapsed": true
   },
   "outputs": [],
   "source": [
    "d_orphan.to_csv('orphan.csv', sep=',',index=False)"
   ]
  },
  {
   "cell_type": "code",
   "execution_count": 237,
   "metadata": {
    "collapsed": true
   },
   "outputs": [],
   "source": [
    "# Orphan return credit back (Sales>0 and Count=0)\n",
    "q = '''\n",
    "    select\n",
    "        a.*\n",
    "    from data a\n",
    "    join (select distinct TransactionID, SKU from d_orphan) b\n",
    "    on a.TransactionID=b.TransactionID and a.SKU=b.SKU\n",
    "    where a.Sales>0 and a.Count=0\n",
    "    '''\n",
    "d_orphan_credit = pysqldf(q)"
   ]
  },
  {
   "cell_type": "code",
   "execution_count": 243,
   "metadata": {
    "collapsed": false
   },
   "outputs": [
    {
     "data": {
      "text/html": [
       "<div>\n",
       "<style>\n",
       "    .dataframe thead tr:only-child th {\n",
       "        text-align: right;\n",
       "    }\n",
       "\n",
       "    .dataframe thead th {\n",
       "        text-align: left;\n",
       "    }\n",
       "\n",
       "    .dataframe tbody tr th {\n",
       "        vertical-align: top;\n",
       "    }\n",
       "</style>\n",
       "<table border=\"1\" class=\"dataframe\">\n",
       "  <thead>\n",
       "    <tr style=\"text-align: right;\">\n",
       "      <th></th>\n",
       "      <th>StoreID</th>\n",
       "      <th>TransactionID</th>\n",
       "      <th>Line</th>\n",
       "      <th>Sales</th>\n",
       "      <th>Count</th>\n",
       "      <th>Date</th>\n",
       "      <th>SKU</th>\n",
       "    </tr>\n",
       "  </thead>\n",
       "  <tbody>\n",
       "    <tr>\n",
       "      <th>0</th>\n",
       "      <td>A12</td>\n",
       "      <td>12-7333-00008-00217</td>\n",
       "      <td>3</td>\n",
       "      <td>1836.0</td>\n",
       "      <td>0.0</td>\n",
       "      <td>3/12/12 00:00</td>\n",
       "      <td>A25555</td>\n",
       "    </tr>\n",
       "    <tr>\n",
       "      <th>1</th>\n",
       "      <td>A12</td>\n",
       "      <td>12-7333-00008-00217</td>\n",
       "      <td>5</td>\n",
       "      <td>1084.0</td>\n",
       "      <td>0.0</td>\n",
       "      <td>3/12/12 00:00</td>\n",
       "      <td>A17662</td>\n",
       "    </tr>\n",
       "    <tr>\n",
       "      <th>2</th>\n",
       "      <td>A12</td>\n",
       "      <td>12-7333-00008-00217</td>\n",
       "      <td>7</td>\n",
       "      <td>1083.0</td>\n",
       "      <td>0.0</td>\n",
       "      <td>3/12/12 00:00</td>\n",
       "      <td>A17662</td>\n",
       "    </tr>\n",
       "    <tr>\n",
       "      <th>3</th>\n",
       "      <td>A14</td>\n",
       "      <td>12-7016-00016-00142</td>\n",
       "      <td>4</td>\n",
       "      <td>1500.0</td>\n",
       "      <td>0.0</td>\n",
       "      <td>3/12/12 00:00</td>\n",
       "      <td>A10809</td>\n",
       "    </tr>\n",
       "    <tr>\n",
       "      <th>4</th>\n",
       "      <td>A14</td>\n",
       "      <td>12-7016-00016-00281</td>\n",
       "      <td>3</td>\n",
       "      <td>3750.0</td>\n",
       "      <td>0.0</td>\n",
       "      <td>3/12/12 00:00</td>\n",
       "      <td>A10809</td>\n",
       "    </tr>\n",
       "  </tbody>\n",
       "</table>\n",
       "</div>"
      ],
      "text/plain": [
       "  StoreID        TransactionID  Line   Sales  Count           Date     SKU\n",
       "0     A12  12-7333-00008-00217     3  1836.0    0.0  3/12/12 00:00  A25555\n",
       "1     A12  12-7333-00008-00217     5  1084.0    0.0  3/12/12 00:00  A17662\n",
       "2     A12  12-7333-00008-00217     7  1083.0    0.0  3/12/12 00:00  A17662\n",
       "3     A14  12-7016-00016-00142     4  1500.0    0.0  3/12/12 00:00  A10809\n",
       "4     A14  12-7016-00016-00281     3  3750.0    0.0  3/12/12 00:00  A10809"
      ]
     },
     "execution_count": 243,
     "metadata": {},
     "output_type": "execute_result"
    }
   ],
   "source": [
    "d_orphan_credit.head()"
   ]
  },
  {
   "cell_type": "code",
   "execution_count": 239,
   "metadata": {
    "collapsed": false
   },
   "outputs": [
    {
     "data": {
      "text/plain": [
       "(10, 7)"
      ]
     },
     "execution_count": 239,
     "metadata": {},
     "output_type": "execute_result"
    }
   ],
   "source": [
    "d_orphan_credit.shape"
   ]
  },
  {
   "cell_type": "code",
   "execution_count": 240,
   "metadata": {
    "collapsed": false
   },
   "outputs": [
    {
     "data": {
      "text/html": [
       "<div>\n",
       "<style>\n",
       "    .dataframe thead tr:only-child th {\n",
       "        text-align: right;\n",
       "    }\n",
       "\n",
       "    .dataframe thead th {\n",
       "        text-align: left;\n",
       "    }\n",
       "\n",
       "    .dataframe tbody tr th {\n",
       "        vertical-align: top;\n",
       "    }\n",
       "</style>\n",
       "<table border=\"1\" class=\"dataframe\">\n",
       "  <thead>\n",
       "    <tr style=\"text-align: right;\">\n",
       "      <th></th>\n",
       "      <th>StoreID</th>\n",
       "      <th>TransactionID</th>\n",
       "      <th>Line</th>\n",
       "      <th>Sales</th>\n",
       "      <th>Count</th>\n",
       "      <th>Date</th>\n",
       "      <th>SKU</th>\n",
       "    </tr>\n",
       "  </thead>\n",
       "  <tbody>\n",
       "    <tr>\n",
       "      <th>184611</th>\n",
       "      <td>A12</td>\n",
       "      <td>12-7333-00008-00217</td>\n",
       "      <td>4</td>\n",
       "      <td>-3581.0</td>\n",
       "      <td>-1.0</td>\n",
       "      <td>3/12/12 00:00</td>\n",
       "      <td>A17662</td>\n",
       "    </tr>\n",
       "    <tr>\n",
       "      <th>184612</th>\n",
       "      <td>A12</td>\n",
       "      <td>12-7333-00008-00217</td>\n",
       "      <td>5</td>\n",
       "      <td>1084.0</td>\n",
       "      <td>0.0</td>\n",
       "      <td>3/12/12 00:00</td>\n",
       "      <td>A17662</td>\n",
       "    </tr>\n",
       "    <tr>\n",
       "      <th>184613</th>\n",
       "      <td>A12</td>\n",
       "      <td>12-7333-00008-00217</td>\n",
       "      <td>6</td>\n",
       "      <td>-3581.0</td>\n",
       "      <td>-1.0</td>\n",
       "      <td>3/12/12 00:00</td>\n",
       "      <td>A17662</td>\n",
       "    </tr>\n",
       "    <tr>\n",
       "      <th>184614</th>\n",
       "      <td>A12</td>\n",
       "      <td>12-7333-00008-00217</td>\n",
       "      <td>7</td>\n",
       "      <td>1083.0</td>\n",
       "      <td>0.0</td>\n",
       "      <td>3/12/12 00:00</td>\n",
       "      <td>A17662</td>\n",
       "    </tr>\n",
       "  </tbody>\n",
       "</table>\n",
       "</div>"
      ],
      "text/plain": [
       "       StoreID        TransactionID  Line   Sales  Count           Date  \\\n",
       "184611     A12  12-7333-00008-00217     4 -3581.0   -1.0  3/12/12 00:00   \n",
       "184612     A12  12-7333-00008-00217     5  1084.0    0.0  3/12/12 00:00   \n",
       "184613     A12  12-7333-00008-00217     6 -3581.0   -1.0  3/12/12 00:00   \n",
       "184614     A12  12-7333-00008-00217     7  1083.0    0.0  3/12/12 00:00   \n",
       "\n",
       "           SKU  \n",
       "184611  A17662  \n",
       "184612  A17662  \n",
       "184613  A17662  \n",
       "184614  A17662  "
      ]
     },
     "execution_count": 240,
     "metadata": {},
     "output_type": "execute_result"
    }
   ],
   "source": [
    "data[(data.TransactionID=='12-7333-00008-00217')&(data.SKU=='A17662')]"
   ]
  },
  {
   "cell_type": "markdown",
   "metadata": {},
   "source": [
    "<br><br>"
   ]
  },
  {
   "cell_type": "markdown",
   "metadata": {},
   "source": [
    "#### Create a column next to the raw dataset, and indicate whether a SKU is a regular return, orphan return, or discounted,"
   ]
  },
  {
   "cell_type": "code",
   "execution_count": 164,
   "metadata": {
    "collapsed": false
   },
   "outputs": [
    {
     "data": {
      "text/html": [
       "<div>\n",
       "<style>\n",
       "    .dataframe thead tr:only-child th {\n",
       "        text-align: right;\n",
       "    }\n",
       "\n",
       "    .dataframe thead th {\n",
       "        text-align: left;\n",
       "    }\n",
       "\n",
       "    .dataframe tbody tr th {\n",
       "        vertical-align: top;\n",
       "    }\n",
       "</style>\n",
       "<table border=\"1\" class=\"dataframe\">\n",
       "  <thead>\n",
       "    <tr style=\"text-align: right;\">\n",
       "      <th></th>\n",
       "      <th>StoreID</th>\n",
       "      <th>TransactionID</th>\n",
       "      <th>Line</th>\n",
       "      <th>Sales</th>\n",
       "      <th>Count</th>\n",
       "      <th>Date</th>\n",
       "      <th>SKU</th>\n",
       "    </tr>\n",
       "  </thead>\n",
       "  <tbody>\n",
       "    <tr>\n",
       "      <th>0</th>\n",
       "      <td>A29</td>\n",
       "      <td>11-7270-00007-00057</td>\n",
       "      <td>36</td>\n",
       "      <td>850.0</td>\n",
       "      <td>1.0</td>\n",
       "      <td>3/11/12 00:00</td>\n",
       "      <td>A21773</td>\n",
       "    </tr>\n",
       "    <tr>\n",
       "      <th>1</th>\n",
       "      <td>A29</td>\n",
       "      <td>11-7270-00007-00057</td>\n",
       "      <td>39</td>\n",
       "      <td>1500.0</td>\n",
       "      <td>1.0</td>\n",
       "      <td>3/11/12 00:00</td>\n",
       "      <td>A18009</td>\n",
       "    </tr>\n",
       "  </tbody>\n",
       "</table>\n",
       "</div>"
      ],
      "text/plain": [
       "  StoreID        TransactionID  Line   Sales  Count           Date     SKU\n",
       "0     A29  11-7270-00007-00057    36   850.0    1.0  3/11/12 00:00  A21773\n",
       "1     A29  11-7270-00007-00057    39  1500.0    1.0  3/11/12 00:00  A18009"
      ]
     },
     "execution_count": 164,
     "metadata": {},
     "output_type": "execute_result"
    }
   ],
   "source": [
    "data.head(2)"
   ]
  },
  {
   "cell_type": "code",
   "execution_count": 244,
   "metadata": {
    "collapsed": true
   },
   "outputs": [],
   "source": [
    "df = pd.merge(data,d34,on=['StoreID','TransactionID','Line','Sales','Count','Date','SKU'],how='left',indicator='Type1')"
   ]
  },
  {
   "cell_type": "code",
   "execution_count": 245,
   "metadata": {
    "collapsed": false
   },
   "outputs": [],
   "source": [
    "import numpy as np\n",
    "df['Type1'] = np.where(df.Type1 == 'both', 'Regular_Return','Others')"
   ]
  },
  {
   "cell_type": "code",
   "execution_count": 246,
   "metadata": {
    "collapsed": true
   },
   "outputs": [],
   "source": [
    "df = pd.merge(df,d_orphan,on=['StoreID','TransactionID','Line','Sales','Count','Date','SKU'],how='left',indicator='Type2')\n",
    "df['Type2'] = np.where(df.Type2 == 'both', 'Orphan_Return','Others')\n",
    "\n",
    "df = pd.merge(df,d34_1,on=['StoreID','TransactionID','Line','Sales','Count','Date','SKU'],how='left',indicator='Type3')\n",
    "df['Type3'] = np.where(df.Type3 == 'both', 'CreditBack_RegularReturn','Others')\n",
    "\n",
    "df = pd.merge(df,d_orphan_credit,on=['StoreID','TransactionID','Line','Sales','Count','Date','SKU'],how='left',indicator='Type4')\n",
    "df['Type4'] = np.where(df.Type4 == 'both', 'CreditBack_OrphanReturn','Others')"
   ]
  },
  {
   "cell_type": "code",
   "execution_count": 251,
   "metadata": {
    "collapsed": false
   },
   "outputs": [],
   "source": [
    "def new_column(choice):\n",
    "    x,y,z,w=choice\n",
    "    if  x=='Regular_Return':\n",
    "        return 'Regular_Return'\n",
    "    elif y=='Orphan_Return':\n",
    "        return 'Orphan_Return'\n",
    "    elif z=='CreditBack_RegularReturn':\n",
    "        return 'CreditBack_RegularReturn'\n",
    "    elif w=='CreditBack_OrphanReturn':\n",
    "        return 'CreditBack_OrphanReturn'\n",
    "    else:\n",
    "        return ''"
   ]
  },
  {
   "cell_type": "code",
   "execution_count": 252,
   "metadata": {
    "collapsed": false
   },
   "outputs": [],
   "source": [
    "df['Type'] = df[['Type1','Type2','Type3','Type4']].apply(new_column,axis=1)"
   ]
  },
  {
   "cell_type": "code",
   "execution_count": 255,
   "metadata": {
    "collapsed": true
   },
   "outputs": [],
   "source": [
    "df.drop(['Type1','Type2','Type3','Type4'],1,inplace=True)"
   ]
  },
  {
   "cell_type": "code",
   "execution_count": 258,
   "metadata": {
    "collapsed": true
   },
   "outputs": [],
   "source": [
    "df.to_csv('type.csv', sep=',',index=False)"
   ]
  },
  {
   "cell_type": "code",
   "execution_count": 259,
   "metadata": {
    "collapsed": false
   },
   "outputs": [
    {
     "data": {
      "text/plain": [
       "(1048575, 8)"
      ]
     },
     "execution_count": 259,
     "metadata": {},
     "output_type": "execute_result"
    }
   ],
   "source": [
    "df.shape"
   ]
  },
  {
   "cell_type": "code",
   "execution_count": 256,
   "metadata": {
    "collapsed": false
   },
   "outputs": [
    {
     "data": {
      "text/html": [
       "<div>\n",
       "<style>\n",
       "    .dataframe thead tr:only-child th {\n",
       "        text-align: right;\n",
       "    }\n",
       "\n",
       "    .dataframe thead th {\n",
       "        text-align: left;\n",
       "    }\n",
       "\n",
       "    .dataframe tbody tr th {\n",
       "        vertical-align: top;\n",
       "    }\n",
       "</style>\n",
       "<table border=\"1\" class=\"dataframe\">\n",
       "  <thead>\n",
       "    <tr style=\"text-align: right;\">\n",
       "      <th></th>\n",
       "      <th>StoreID</th>\n",
       "      <th>TransactionID</th>\n",
       "      <th>Line</th>\n",
       "      <th>Sales</th>\n",
       "      <th>Count</th>\n",
       "      <th>Date</th>\n",
       "      <th>SKU</th>\n",
       "      <th>Type</th>\n",
       "    </tr>\n",
       "  </thead>\n",
       "  <tbody>\n",
       "    <tr>\n",
       "      <th>485387</th>\n",
       "      <td>A33</td>\n",
       "      <td>12-7081-00015-00118</td>\n",
       "      <td>2</td>\n",
       "      <td>-33990.0</td>\n",
       "      <td>-2.0</td>\n",
       "      <td>3/12/12 00:00</td>\n",
       "      <td>A5483</td>\n",
       "      <td>Orphan_Return</td>\n",
       "    </tr>\n",
       "    <tr>\n",
       "      <th>485388</th>\n",
       "      <td>A33</td>\n",
       "      <td>12-7081-00015-00118</td>\n",
       "      <td>3</td>\n",
       "      <td>21000.0</td>\n",
       "      <td>0.0</td>\n",
       "      <td>3/12/12 00:00</td>\n",
       "      <td>A5483</td>\n",
       "      <td>CreditBack_OrphanReturn</td>\n",
       "    </tr>\n",
       "    <tr>\n",
       "      <th>485390</th>\n",
       "      <td>A33</td>\n",
       "      <td>12-7081-00015-00118</td>\n",
       "      <td>5</td>\n",
       "      <td>-16995.0</td>\n",
       "      <td>-1.0</td>\n",
       "      <td>3/12/12 00:00</td>\n",
       "      <td>A5483</td>\n",
       "      <td>Orphan_Return</td>\n",
       "    </tr>\n",
       "    <tr>\n",
       "      <th>485391</th>\n",
       "      <td>A33</td>\n",
       "      <td>12-7081-00015-00118</td>\n",
       "      <td>6</td>\n",
       "      <td>10500.0</td>\n",
       "      <td>0.0</td>\n",
       "      <td>3/12/12 00:00</td>\n",
       "      <td>A5483</td>\n",
       "      <td>CreditBack_OrphanReturn</td>\n",
       "    </tr>\n",
       "    <tr>\n",
       "      <th>485393</th>\n",
       "      <td>A33</td>\n",
       "      <td>12-7081-00015-00118</td>\n",
       "      <td>9</td>\n",
       "      <td>6495.0</td>\n",
       "      <td>1.0</td>\n",
       "      <td>3/12/12 00:00</td>\n",
       "      <td>A5483</td>\n",
       "      <td></td>\n",
       "    </tr>\n",
       "    <tr>\n",
       "      <th>485394</th>\n",
       "      <td>A33</td>\n",
       "      <td>12-7081-00015-00118</td>\n",
       "      <td>10</td>\n",
       "      <td>-16995.0</td>\n",
       "      <td>-1.0</td>\n",
       "      <td>3/12/12 00:00</td>\n",
       "      <td>A5483</td>\n",
       "      <td>Orphan_Return</td>\n",
       "    </tr>\n",
       "  </tbody>\n",
       "</table>\n",
       "</div>"
      ],
      "text/plain": [
       "       StoreID        TransactionID  Line    Sales  Count           Date  \\\n",
       "485387     A33  12-7081-00015-00118     2 -33990.0   -2.0  3/12/12 00:00   \n",
       "485388     A33  12-7081-00015-00118     3  21000.0    0.0  3/12/12 00:00   \n",
       "485390     A33  12-7081-00015-00118     5 -16995.0   -1.0  3/12/12 00:00   \n",
       "485391     A33  12-7081-00015-00118     6  10500.0    0.0  3/12/12 00:00   \n",
       "485393     A33  12-7081-00015-00118     9   6495.0    1.0  3/12/12 00:00   \n",
       "485394     A33  12-7081-00015-00118    10 -16995.0   -1.0  3/12/12 00:00   \n",
       "\n",
       "          SKU                     Type  \n",
       "485387  A5483            Orphan_Return  \n",
       "485388  A5483  CreditBack_OrphanReturn  \n",
       "485390  A5483            Orphan_Return  \n",
       "485391  A5483  CreditBack_OrphanReturn  \n",
       "485393  A5483                           \n",
       "485394  A5483            Orphan_Return  "
      ]
     },
     "execution_count": 256,
     "metadata": {},
     "output_type": "execute_result"
    }
   ],
   "source": [
    "df[(df.TransactionID=='12-7081-00015-00118')&(df.SKU=='A5483')]"
   ]
  },
  {
   "cell_type": "code",
   "execution_count": 268,
   "metadata": {
    "collapsed": false
   },
   "outputs": [
    {
     "data": {
      "text/html": [
       "<div>\n",
       "<style>\n",
       "    .dataframe thead tr:only-child th {\n",
       "        text-align: right;\n",
       "    }\n",
       "\n",
       "    .dataframe thead th {\n",
       "        text-align: left;\n",
       "    }\n",
       "\n",
       "    .dataframe tbody tr th {\n",
       "        vertical-align: top;\n",
       "    }\n",
       "</style>\n",
       "<table border=\"1\" class=\"dataframe\">\n",
       "  <thead>\n",
       "    <tr style=\"text-align: right;\">\n",
       "      <th></th>\n",
       "      <th>StoreID</th>\n",
       "      <th>TransactionID</th>\n",
       "      <th>Line</th>\n",
       "      <th>Sales</th>\n",
       "      <th>Count</th>\n",
       "      <th>Date</th>\n",
       "      <th>SKU</th>\n",
       "      <th>Type</th>\n",
       "    </tr>\n",
       "  </thead>\n",
       "  <tbody>\n",
       "    <tr>\n",
       "      <th>1158</th>\n",
       "      <td>A29</td>\n",
       "      <td>11-7270-00007-00110</td>\n",
       "      <td>26</td>\n",
       "      <td>2195.0</td>\n",
       "      <td>1.0</td>\n",
       "      <td>3/11/12 00:00</td>\n",
       "      <td>A6007</td>\n",
       "      <td></td>\n",
       "    </tr>\n",
       "    <tr>\n",
       "      <th>1159</th>\n",
       "      <td>A29</td>\n",
       "      <td>11-7270-00007-00110</td>\n",
       "      <td>27</td>\n",
       "      <td>-845.0</td>\n",
       "      <td>0.0</td>\n",
       "      <td>3/11/12 00:00</td>\n",
       "      <td>A6007</td>\n",
       "      <td></td>\n",
       "    </tr>\n",
       "    <tr>\n",
       "      <th>1160</th>\n",
       "      <td>A29</td>\n",
       "      <td>11-7270-00007-00110</td>\n",
       "      <td>28</td>\n",
       "      <td>-2195.0</td>\n",
       "      <td>-1.0</td>\n",
       "      <td>3/11/12 00:00</td>\n",
       "      <td>A6007</td>\n",
       "      <td>Regular_Return</td>\n",
       "    </tr>\n",
       "    <tr>\n",
       "      <th>1161</th>\n",
       "      <td>A29</td>\n",
       "      <td>11-7270-00007-00110</td>\n",
       "      <td>29</td>\n",
       "      <td>845.0</td>\n",
       "      <td>0.0</td>\n",
       "      <td>3/11/12 00:00</td>\n",
       "      <td>A6007</td>\n",
       "      <td>CreditBack_RegularReturn</td>\n",
       "    </tr>\n",
       "  </tbody>\n",
       "</table>\n",
       "</div>"
      ],
      "text/plain": [
       "     StoreID        TransactionID  Line   Sales  Count           Date    SKU  \\\n",
       "1158     A29  11-7270-00007-00110    26  2195.0    1.0  3/11/12 00:00  A6007   \n",
       "1159     A29  11-7270-00007-00110    27  -845.0    0.0  3/11/12 00:00  A6007   \n",
       "1160     A29  11-7270-00007-00110    28 -2195.0   -1.0  3/11/12 00:00  A6007   \n",
       "1161     A29  11-7270-00007-00110    29   845.0    0.0  3/11/12 00:00  A6007   \n",
       "\n",
       "                          Type  \n",
       "1158                            \n",
       "1159                            \n",
       "1160            Regular_Return  \n",
       "1161  CreditBack_RegularReturn  "
      ]
     },
     "execution_count": 268,
     "metadata": {},
     "output_type": "execute_result"
    }
   ],
   "source": [
    "df[df.TransactionID=='11-7270-00007-00110'][-4:]"
   ]
  },
  {
   "cell_type": "code",
   "execution_count": 257,
   "metadata": {
    "collapsed": false
   },
   "outputs": [
    {
     "data": {
      "text/html": [
       "<div>\n",
       "<style>\n",
       "    .dataframe thead tr:only-child th {\n",
       "        text-align: right;\n",
       "    }\n",
       "\n",
       "    .dataframe thead th {\n",
       "        text-align: left;\n",
       "    }\n",
       "\n",
       "    .dataframe tbody tr th {\n",
       "        vertical-align: top;\n",
       "    }\n",
       "</style>\n",
       "<table border=\"1\" class=\"dataframe\">\n",
       "  <thead>\n",
       "    <tr style=\"text-align: right;\">\n",
       "      <th></th>\n",
       "      <th>StoreID</th>\n",
       "      <th>TransactionID</th>\n",
       "      <th>Line</th>\n",
       "      <th>Sales</th>\n",
       "      <th>Count</th>\n",
       "      <th>Date</th>\n",
       "      <th>SKU</th>\n",
       "      <th>Type</th>\n",
       "    </tr>\n",
       "  </thead>\n",
       "  <tbody>\n",
       "    <tr>\n",
       "      <th>710011</th>\n",
       "      <td>A51</td>\n",
       "      <td>12-1803-00013-00364</td>\n",
       "      <td>1</td>\n",
       "      <td>1.29500</td>\n",
       "      <td>70.0</td>\n",
       "      <td>3/12/12 00:00</td>\n",
       "      <td>A21325</td>\n",
       "      <td></td>\n",
       "    </tr>\n",
       "    <tr>\n",
       "      <th>710012</th>\n",
       "      <td>A51</td>\n",
       "      <td>12-1803-00013-00364</td>\n",
       "      <td>2</td>\n",
       "      <td>-1.14917</td>\n",
       "      <td>0.0</td>\n",
       "      <td>3/12/12 00:00</td>\n",
       "      <td>A21325</td>\n",
       "      <td></td>\n",
       "    </tr>\n",
       "    <tr>\n",
       "      <th>710013</th>\n",
       "      <td>A51</td>\n",
       "      <td>12-1803-00013-00364</td>\n",
       "      <td>4</td>\n",
       "      <td>81400.00000</td>\n",
       "      <td>44.0</td>\n",
       "      <td>3/12/12 00:00</td>\n",
       "      <td>A21325</td>\n",
       "      <td></td>\n",
       "    </tr>\n",
       "    <tr>\n",
       "      <th>710014</th>\n",
       "      <td>A51</td>\n",
       "      <td>12-1803-00013-00364</td>\n",
       "      <td>5</td>\n",
       "      <td>-72233.00000</td>\n",
       "      <td>0.0</td>\n",
       "      <td>3/12/12 00:00</td>\n",
       "      <td>A21325</td>\n",
       "      <td></td>\n",
       "    </tr>\n",
       "  </tbody>\n",
       "</table>\n",
       "</div>"
      ],
      "text/plain": [
       "       StoreID        TransactionID  Line        Sales  Count           Date  \\\n",
       "710011     A51  12-1803-00013-00364     1      1.29500   70.0  3/12/12 00:00   \n",
       "710012     A51  12-1803-00013-00364     2     -1.14917    0.0  3/12/12 00:00   \n",
       "710013     A51  12-1803-00013-00364     4  81400.00000   44.0  3/12/12 00:00   \n",
       "710014     A51  12-1803-00013-00364     5 -72233.00000    0.0  3/12/12 00:00   \n",
       "\n",
       "           SKU Type  \n",
       "710011  A21325       \n",
       "710012  A21325       \n",
       "710013  A21325       \n",
       "710014  A21325       "
      ]
     },
     "execution_count": 257,
     "metadata": {},
     "output_type": "execute_result"
    }
   ],
   "source": [
    "df[(df.TransactionID=='12-1803-00013-00364')&(df.SKU=='A21325')]"
   ]
  },
  {
   "cell_type": "code",
   "execution_count": 261,
   "metadata": {
    "collapsed": false
   },
   "outputs": [
    {
     "data": {
      "text/html": [
       "<div>\n",
       "<style>\n",
       "    .dataframe thead tr:only-child th {\n",
       "        text-align: right;\n",
       "    }\n",
       "\n",
       "    .dataframe thead th {\n",
       "        text-align: left;\n",
       "    }\n",
       "\n",
       "    .dataframe tbody tr th {\n",
       "        vertical-align: top;\n",
       "    }\n",
       "</style>\n",
       "<table border=\"1\" class=\"dataframe\">\n",
       "  <thead>\n",
       "    <tr style=\"text-align: right;\">\n",
       "      <th></th>\n",
       "      <th>StoreID</th>\n",
       "      <th>TransactionID</th>\n",
       "      <th>Line</th>\n",
       "      <th>Sales</th>\n",
       "      <th>Count</th>\n",
       "      <th>Date</th>\n",
       "      <th>SKU</th>\n",
       "      <th>Type</th>\n",
       "    </tr>\n",
       "  </thead>\n",
       "  <tbody>\n",
       "    <tr>\n",
       "      <th>97</th>\n",
       "      <td>A29</td>\n",
       "      <td>11-7270-00007-00066</td>\n",
       "      <td>1</td>\n",
       "      <td>300.0</td>\n",
       "      <td>1.0</td>\n",
       "      <td>3/11/12 00:00</td>\n",
       "      <td>A21771</td>\n",
       "      <td></td>\n",
       "    </tr>\n",
       "    <tr>\n",
       "      <th>98</th>\n",
       "      <td>A29</td>\n",
       "      <td>11-7270-00007-00066</td>\n",
       "      <td>3</td>\n",
       "      <td>2013.0</td>\n",
       "      <td>1.0</td>\n",
       "      <td>3/11/12 00:00</td>\n",
       "      <td>A2729</td>\n",
       "      <td></td>\n",
       "    </tr>\n",
       "    <tr>\n",
       "      <th>99</th>\n",
       "      <td>A29</td>\n",
       "      <td>11-7270-00007-00066</td>\n",
       "      <td>4</td>\n",
       "      <td>2013.0</td>\n",
       "      <td>1.0</td>\n",
       "      <td>3/11/12 00:00</td>\n",
       "      <td>A2729</td>\n",
       "      <td></td>\n",
       "    </tr>\n",
       "    <tr>\n",
       "      <th>100</th>\n",
       "      <td>A29</td>\n",
       "      <td>11-7270-00007-00066</td>\n",
       "      <td>5</td>\n",
       "      <td>-2013.0</td>\n",
       "      <td>-1.0</td>\n",
       "      <td>3/11/12 00:00</td>\n",
       "      <td>A2729</td>\n",
       "      <td>Regular_Return</td>\n",
       "    </tr>\n",
       "    <tr>\n",
       "      <th>101</th>\n",
       "      <td>A29</td>\n",
       "      <td>11-7270-00007-00066</td>\n",
       "      <td>6</td>\n",
       "      <td>3395.0</td>\n",
       "      <td>1.0</td>\n",
       "      <td>3/11/12 00:00</td>\n",
       "      <td>A20</td>\n",
       "      <td></td>\n",
       "    </tr>\n",
       "    <tr>\n",
       "      <th>102</th>\n",
       "      <td>A29</td>\n",
       "      <td>11-7270-00007-00066</td>\n",
       "      <td>7</td>\n",
       "      <td>2195.0</td>\n",
       "      <td>1.0</td>\n",
       "      <td>3/11/12 00:00</td>\n",
       "      <td>A25185</td>\n",
       "      <td></td>\n",
       "    </tr>\n",
       "    <tr>\n",
       "      <th>103</th>\n",
       "      <td>A29</td>\n",
       "      <td>11-7270-00007-00066</td>\n",
       "      <td>12</td>\n",
       "      <td>10000.0</td>\n",
       "      <td>1.0</td>\n",
       "      <td>3/11/12 00:00</td>\n",
       "      <td>A12810</td>\n",
       "      <td></td>\n",
       "    </tr>\n",
       "    <tr>\n",
       "      <th>104</th>\n",
       "      <td>A29</td>\n",
       "      <td>11-7270-00007-00066</td>\n",
       "      <td>15</td>\n",
       "      <td>600.0</td>\n",
       "      <td>1.0</td>\n",
       "      <td>3/11/12 00:00</td>\n",
       "      <td>A17264</td>\n",
       "      <td></td>\n",
       "    </tr>\n",
       "    <tr>\n",
       "      <th>105</th>\n",
       "      <td>A29</td>\n",
       "      <td>11-7270-00007-00066</td>\n",
       "      <td>16</td>\n",
       "      <td>2000.0</td>\n",
       "      <td>1.0</td>\n",
       "      <td>3/11/12 00:00</td>\n",
       "      <td>A13646</td>\n",
       "      <td></td>\n",
       "    </tr>\n",
       "  </tbody>\n",
       "</table>\n",
       "</div>"
      ],
      "text/plain": [
       "    StoreID        TransactionID  Line    Sales  Count           Date     SKU  \\\n",
       "97      A29  11-7270-00007-00066     1    300.0    1.0  3/11/12 00:00  A21771   \n",
       "98      A29  11-7270-00007-00066     3   2013.0    1.0  3/11/12 00:00   A2729   \n",
       "99      A29  11-7270-00007-00066     4   2013.0    1.0  3/11/12 00:00   A2729   \n",
       "100     A29  11-7270-00007-00066     5  -2013.0   -1.0  3/11/12 00:00   A2729   \n",
       "101     A29  11-7270-00007-00066     6   3395.0    1.0  3/11/12 00:00     A20   \n",
       "102     A29  11-7270-00007-00066     7   2195.0    1.0  3/11/12 00:00  A25185   \n",
       "103     A29  11-7270-00007-00066    12  10000.0    1.0  3/11/12 00:00  A12810   \n",
       "104     A29  11-7270-00007-00066    15    600.0    1.0  3/11/12 00:00  A17264   \n",
       "105     A29  11-7270-00007-00066    16   2000.0    1.0  3/11/12 00:00  A13646   \n",
       "\n",
       "               Type  \n",
       "97                   \n",
       "98                   \n",
       "99                   \n",
       "100  Regular_Return  \n",
       "101                  \n",
       "102                  \n",
       "103                  \n",
       "104                  \n",
       "105                  "
      ]
     },
     "execution_count": 261,
     "metadata": {},
     "output_type": "execute_result"
    }
   ],
   "source": [
    "df[df.TransactionID=='11-7270-00007-00066']"
   ]
  },
  {
   "cell_type": "code",
   "execution_count": 260,
   "metadata": {
    "collapsed": false
   },
   "outputs": [
    {
     "data": {
      "text/html": [
       "<div>\n",
       "<style>\n",
       "    .dataframe thead tr:only-child th {\n",
       "        text-align: right;\n",
       "    }\n",
       "\n",
       "    .dataframe thead th {\n",
       "        text-align: left;\n",
       "    }\n",
       "\n",
       "    .dataframe tbody tr th {\n",
       "        vertical-align: top;\n",
       "    }\n",
       "</style>\n",
       "<table border=\"1\" class=\"dataframe\">\n",
       "  <thead>\n",
       "    <tr style=\"text-align: right;\">\n",
       "      <th></th>\n",
       "      <th>StoreID</th>\n",
       "      <th>TransactionID</th>\n",
       "      <th>Line</th>\n",
       "      <th>Sales</th>\n",
       "      <th>Count</th>\n",
       "      <th>Date</th>\n",
       "      <th>SKU</th>\n",
       "      <th>Type</th>\n",
       "    </tr>\n",
       "  </thead>\n",
       "  <tbody>\n",
       "    <tr>\n",
       "      <th>5050</th>\n",
       "      <td>A29</td>\n",
       "      <td>11-7270-00012-00190</td>\n",
       "      <td>1</td>\n",
       "      <td>-18995.0</td>\n",
       "      <td>-1.0</td>\n",
       "      <td>3/11/12 00:00</td>\n",
       "      <td>A10981</td>\n",
       "      <td>Orphan_Return</td>\n",
       "    </tr>\n",
       "    <tr>\n",
       "      <th>5051</th>\n",
       "      <td>A29</td>\n",
       "      <td>11-7270-00012-00190</td>\n",
       "      <td>2</td>\n",
       "      <td>-7995.0</td>\n",
       "      <td>-1.0</td>\n",
       "      <td>3/11/12 00:00</td>\n",
       "      <td>A21473</td>\n",
       "      <td>Orphan_Return</td>\n",
       "    </tr>\n",
       "  </tbody>\n",
       "</table>\n",
       "</div>"
      ],
      "text/plain": [
       "     StoreID        TransactionID  Line    Sales  Count           Date  \\\n",
       "5050     A29  11-7270-00012-00190     1 -18995.0   -1.0  3/11/12 00:00   \n",
       "5051     A29  11-7270-00012-00190     2  -7995.0   -1.0  3/11/12 00:00   \n",
       "\n",
       "         SKU           Type  \n",
       "5050  A10981  Orphan_Return  \n",
       "5051  A21473  Orphan_Return  "
      ]
     },
     "execution_count": 260,
     "metadata": {},
     "output_type": "execute_result"
    }
   ],
   "source": [
    "df[df.TransactionID=='11-7270-00012-00190']"
   ]
  },
  {
   "cell_type": "code",
   "execution_count": 262,
   "metadata": {
    "collapsed": false
   },
   "outputs": [
    {
     "data": {
      "text/html": [
       "<div>\n",
       "<style>\n",
       "    .dataframe thead tr:only-child th {\n",
       "        text-align: right;\n",
       "    }\n",
       "\n",
       "    .dataframe thead th {\n",
       "        text-align: left;\n",
       "    }\n",
       "\n",
       "    .dataframe tbody tr th {\n",
       "        vertical-align: top;\n",
       "    }\n",
       "</style>\n",
       "<table border=\"1\" class=\"dataframe\">\n",
       "  <thead>\n",
       "    <tr style=\"text-align: right;\">\n",
       "      <th></th>\n",
       "      <th>StoreID</th>\n",
       "      <th>TransactionID</th>\n",
       "      <th>Line</th>\n",
       "      <th>Sales</th>\n",
       "      <th>Count</th>\n",
       "      <th>Date</th>\n",
       "      <th>SKU</th>\n",
       "      <th>Type</th>\n",
       "    </tr>\n",
       "  </thead>\n",
       "  <tbody>\n",
       "    <tr>\n",
       "      <th>5035</th>\n",
       "      <td>A29</td>\n",
       "      <td>11-7270-00012-00154</td>\n",
       "      <td>2</td>\n",
       "      <td>-17475.0</td>\n",
       "      <td>-5.0</td>\n",
       "      <td>3/11/12 00:00</td>\n",
       "      <td>A6386</td>\n",
       "      <td>Orphan_Return</td>\n",
       "    </tr>\n",
       "    <tr>\n",
       "      <th>5036</th>\n",
       "      <td>A29</td>\n",
       "      <td>11-7270-00012-00154</td>\n",
       "      <td>3</td>\n",
       "      <td>10000.0</td>\n",
       "      <td>5.0</td>\n",
       "      <td>3/11/12 00:00</td>\n",
       "      <td>A6386</td>\n",
       "      <td></td>\n",
       "    </tr>\n",
       "  </tbody>\n",
       "</table>\n",
       "</div>"
      ],
      "text/plain": [
       "     StoreID        TransactionID  Line    Sales  Count           Date    SKU  \\\n",
       "5035     A29  11-7270-00012-00154     2 -17475.0   -5.0  3/11/12 00:00  A6386   \n",
       "5036     A29  11-7270-00012-00154     3  10000.0    5.0  3/11/12 00:00  A6386   \n",
       "\n",
       "               Type  \n",
       "5035  Orphan_Return  \n",
       "5036                 "
      ]
     },
     "execution_count": 262,
     "metadata": {},
     "output_type": "execute_result"
    }
   ],
   "source": [
    "df[df.TransactionID=='11-7270-00012-00154']"
   ]
  },
  {
   "cell_type": "code",
   "execution_count": 263,
   "metadata": {
    "collapsed": false
   },
   "outputs": [
    {
     "data": {
      "text/html": [
       "<div>\n",
       "<style>\n",
       "    .dataframe thead tr:only-child th {\n",
       "        text-align: right;\n",
       "    }\n",
       "\n",
       "    .dataframe thead th {\n",
       "        text-align: left;\n",
       "    }\n",
       "\n",
       "    .dataframe tbody tr th {\n",
       "        vertical-align: top;\n",
       "    }\n",
       "</style>\n",
       "<table border=\"1\" class=\"dataframe\">\n",
       "  <thead>\n",
       "    <tr style=\"text-align: right;\">\n",
       "      <th></th>\n",
       "      <th>StoreID</th>\n",
       "      <th>TransactionID</th>\n",
       "      <th>Line</th>\n",
       "      <th>Sales</th>\n",
       "      <th>Count</th>\n",
       "      <th>Date</th>\n",
       "      <th>SKU</th>\n",
       "      <th>Type</th>\n",
       "    </tr>\n",
       "  </thead>\n",
       "  <tbody>\n",
       "    <tr>\n",
       "      <th>48134</th>\n",
       "      <td>A78</td>\n",
       "      <td>11-5634-00024-00094</td>\n",
       "      <td>2</td>\n",
       "      <td>-6995.0</td>\n",
       "      <td>-1.0</td>\n",
       "      <td>3/11/12 00:00</td>\n",
       "      <td>A11213</td>\n",
       "      <td>Orphan_Return</td>\n",
       "    </tr>\n",
       "    <tr>\n",
       "      <th>48135</th>\n",
       "      <td>A78</td>\n",
       "      <td>11-5634-00024-00094</td>\n",
       "      <td>4</td>\n",
       "      <td>-2500.0</td>\n",
       "      <td>-1.0</td>\n",
       "      <td>3/11/12 00:00</td>\n",
       "      <td>A11213</td>\n",
       "      <td>Orphan_Return</td>\n",
       "    </tr>\n",
       "    <tr>\n",
       "      <th>48136</th>\n",
       "      <td>A78</td>\n",
       "      <td>11-5634-00024-00094</td>\n",
       "      <td>5</td>\n",
       "      <td>6995.0</td>\n",
       "      <td>1.0</td>\n",
       "      <td>3/11/12 00:00</td>\n",
       "      <td>A11213</td>\n",
       "      <td></td>\n",
       "    </tr>\n",
       "    <tr>\n",
       "      <th>48137</th>\n",
       "      <td>A78</td>\n",
       "      <td>11-5634-00024-00094</td>\n",
       "      <td>6</td>\n",
       "      <td>-4495.0</td>\n",
       "      <td>0.0</td>\n",
       "      <td>3/11/12 00:00</td>\n",
       "      <td>A11213</td>\n",
       "      <td></td>\n",
       "    </tr>\n",
       "    <tr>\n",
       "      <th>48138</th>\n",
       "      <td>A78</td>\n",
       "      <td>11-5634-00024-00094</td>\n",
       "      <td>7</td>\n",
       "      <td>6995.0</td>\n",
       "      <td>1.0</td>\n",
       "      <td>3/11/12 00:00</td>\n",
       "      <td>A11213</td>\n",
       "      <td></td>\n",
       "    </tr>\n",
       "    <tr>\n",
       "      <th>48139</th>\n",
       "      <td>A78</td>\n",
       "      <td>11-5634-00024-00094</td>\n",
       "      <td>8</td>\n",
       "      <td>-4495.0</td>\n",
       "      <td>0.0</td>\n",
       "      <td>3/11/12 00:00</td>\n",
       "      <td>A11213</td>\n",
       "      <td></td>\n",
       "    </tr>\n",
       "  </tbody>\n",
       "</table>\n",
       "</div>"
      ],
      "text/plain": [
       "      StoreID        TransactionID  Line   Sales  Count           Date  \\\n",
       "48134     A78  11-5634-00024-00094     2 -6995.0   -1.0  3/11/12 00:00   \n",
       "48135     A78  11-5634-00024-00094     4 -2500.0   -1.0  3/11/12 00:00   \n",
       "48136     A78  11-5634-00024-00094     5  6995.0    1.0  3/11/12 00:00   \n",
       "48137     A78  11-5634-00024-00094     6 -4495.0    0.0  3/11/12 00:00   \n",
       "48138     A78  11-5634-00024-00094     7  6995.0    1.0  3/11/12 00:00   \n",
       "48139     A78  11-5634-00024-00094     8 -4495.0    0.0  3/11/12 00:00   \n",
       "\n",
       "          SKU           Type  \n",
       "48134  A11213  Orphan_Return  \n",
       "48135  A11213  Orphan_Return  \n",
       "48136  A11213                 \n",
       "48137  A11213                 \n",
       "48138  A11213                 \n",
       "48139  A11213                 "
      ]
     },
     "execution_count": 263,
     "metadata": {},
     "output_type": "execute_result"
    }
   ],
   "source": [
    "df[df.TransactionID=='11-5634-00024-00094']"
   ]
  },
  {
   "cell_type": "code",
   "execution_count": 264,
   "metadata": {
    "collapsed": false
   },
   "outputs": [
    {
     "data": {
      "text/html": [
       "<div>\n",
       "<style>\n",
       "    .dataframe thead tr:only-child th {\n",
       "        text-align: right;\n",
       "    }\n",
       "\n",
       "    .dataframe thead th {\n",
       "        text-align: left;\n",
       "    }\n",
       "\n",
       "    .dataframe tbody tr th {\n",
       "        vertical-align: top;\n",
       "    }\n",
       "</style>\n",
       "<table border=\"1\" class=\"dataframe\">\n",
       "  <thead>\n",
       "    <tr style=\"text-align: right;\">\n",
       "      <th></th>\n",
       "      <th>StoreID</th>\n",
       "      <th>TransactionID</th>\n",
       "      <th>Line</th>\n",
       "      <th>Sales</th>\n",
       "      <th>Count</th>\n",
       "      <th>Date</th>\n",
       "      <th>SKU</th>\n",
       "      <th>Type</th>\n",
       "    </tr>\n",
       "  </thead>\n",
       "  <tbody>\n",
       "    <tr>\n",
       "      <th>809584</th>\n",
       "      <td>A63</td>\n",
       "      <td>12-0537-00011-00108</td>\n",
       "      <td>1</td>\n",
       "      <td>600.0</td>\n",
       "      <td>2.0</td>\n",
       "      <td>3/12/12 00:00</td>\n",
       "      <td>A8078</td>\n",
       "      <td></td>\n",
       "    </tr>\n",
       "    <tr>\n",
       "      <th>809585</th>\n",
       "      <td>A63</td>\n",
       "      <td>12-0537-00011-00108</td>\n",
       "      <td>2</td>\n",
       "      <td>-240.0</td>\n",
       "      <td>0.0</td>\n",
       "      <td>3/12/12 00:00</td>\n",
       "      <td>A8078</td>\n",
       "      <td></td>\n",
       "    </tr>\n",
       "    <tr>\n",
       "      <th>809963</th>\n",
       "      <td>A63</td>\n",
       "      <td>12-0537-00011-00108</td>\n",
       "      <td>10</td>\n",
       "      <td>-600.0</td>\n",
       "      <td>-2.0</td>\n",
       "      <td>3/12/12 00:00</td>\n",
       "      <td>A8078</td>\n",
       "      <td>Orphan_Return</td>\n",
       "    </tr>\n",
       "  </tbody>\n",
       "</table>\n",
       "</div>"
      ],
      "text/plain": [
       "       StoreID        TransactionID  Line  Sales  Count           Date    SKU  \\\n",
       "809584     A63  12-0537-00011-00108     1  600.0    2.0  3/12/12 00:00  A8078   \n",
       "809585     A63  12-0537-00011-00108     2 -240.0    0.0  3/12/12 00:00  A8078   \n",
       "809963     A63  12-0537-00011-00108    10 -600.0   -2.0  3/12/12 00:00  A8078   \n",
       "\n",
       "                 Type  \n",
       "809584                 \n",
       "809585                 \n",
       "809963  Orphan_Return  "
      ]
     },
     "execution_count": 264,
     "metadata": {},
     "output_type": "execute_result"
    }
   ],
   "source": [
    "df[df.TransactionID=='12-0537-00011-00108']"
   ]
  },
  {
   "cell_type": "code",
   "execution_count": null,
   "metadata": {
    "collapsed": true
   },
   "outputs": [],
   "source": []
  }
 ],
 "metadata": {
  "anaconda-cloud": {},
  "kernelspec": {
   "display_name": "Python [conda root]",
   "language": "python",
   "name": "conda-root-py"
  },
  "language_info": {
   "codemirror_mode": {
    "name": "ipython",
    "version": 2
   },
   "file_extension": ".py",
   "mimetype": "text/x-python",
   "name": "python",
   "nbconvert_exporter": "python",
   "pygments_lexer": "ipython2",
   "version": "2.7.13"
  }
 },
 "nbformat": 4,
 "nbformat_minor": 1
}
