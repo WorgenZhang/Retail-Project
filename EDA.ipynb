{
 "cells": [
  {
   "cell_type": "code",
   "execution_count": 1,
   "metadata": {
    "collapsed": true
   },
   "outputs": [],
   "source": [
    "import pandas as pd\n",
    "data_type = pd.read_csv('data_type.csv')"
   ]
  },
  {
   "cell_type": "code",
   "execution_count": 2,
   "metadata": {
    "collapsed": true
   },
   "outputs": [],
   "source": [
    "data_type.fillna('',inplace=True)"
   ]
  },
  {
   "cell_type": "code",
   "execution_count": 3,
   "metadata": {
    "collapsed": true
   },
   "outputs": [],
   "source": [
    "from pandasql import sqldf\n",
    "pysqldf = lambda q: sqldf(q, globals())"
   ]
  },
  {
   "cell_type": "code",
   "execution_count": 4,
   "metadata": {
    "collapsed": false
   },
   "outputs": [
    {
     "data": {
      "text/html": [
       "<div>\n",
       "<style>\n",
       "    .dataframe thead tr:only-child th {\n",
       "        text-align: right;\n",
       "    }\n",
       "\n",
       "    .dataframe thead th {\n",
       "        text-align: left;\n",
       "    }\n",
       "\n",
       "    .dataframe tbody tr th {\n",
       "        vertical-align: top;\n",
       "    }\n",
       "</style>\n",
       "<table border=\"1\" class=\"dataframe\">\n",
       "  <thead>\n",
       "    <tr style=\"text-align: right;\">\n",
       "      <th></th>\n",
       "      <th>StoreID</th>\n",
       "      <th>TransactionID</th>\n",
       "      <th>Line</th>\n",
       "      <th>Sales</th>\n",
       "      <th>Count</th>\n",
       "      <th>Date</th>\n",
       "      <th>SKU</th>\n",
       "      <th>Type</th>\n",
       "    </tr>\n",
       "  </thead>\n",
       "  <tbody>\n",
       "    <tr>\n",
       "      <th>0</th>\n",
       "      <td>A29</td>\n",
       "      <td>11-7270-00007-00057</td>\n",
       "      <td>36</td>\n",
       "      <td>850.0</td>\n",
       "      <td>1.0</td>\n",
       "      <td>3/11/12 00:00</td>\n",
       "      <td>A21773</td>\n",
       "      <td></td>\n",
       "    </tr>\n",
       "    <tr>\n",
       "      <th>1</th>\n",
       "      <td>A29</td>\n",
       "      <td>11-7270-00007-00057</td>\n",
       "      <td>39</td>\n",
       "      <td>1500.0</td>\n",
       "      <td>1.0</td>\n",
       "      <td>3/11/12 00:00</td>\n",
       "      <td>A18009</td>\n",
       "      <td></td>\n",
       "    </tr>\n",
       "    <tr>\n",
       "      <th>2</th>\n",
       "      <td>A29</td>\n",
       "      <td>11-7270-00007-00057</td>\n",
       "      <td>40</td>\n",
       "      <td>1500.0</td>\n",
       "      <td>1.0</td>\n",
       "      <td>3/11/12 00:00</td>\n",
       "      <td>A25592</td>\n",
       "      <td></td>\n",
       "    </tr>\n",
       "    <tr>\n",
       "      <th>3</th>\n",
       "      <td>A29</td>\n",
       "      <td>11-7270-00007-00057</td>\n",
       "      <td>41</td>\n",
       "      <td>1600.0</td>\n",
       "      <td>1.0</td>\n",
       "      <td>3/11/12 00:00</td>\n",
       "      <td>A1449</td>\n",
       "      <td></td>\n",
       "    </tr>\n",
       "    <tr>\n",
       "      <th>4</th>\n",
       "      <td>A29</td>\n",
       "      <td>11-7270-00007-00057</td>\n",
       "      <td>42</td>\n",
       "      <td>1600.0</td>\n",
       "      <td>1.0</td>\n",
       "      <td>3/11/12 00:00</td>\n",
       "      <td>A1449</td>\n",
       "      <td></td>\n",
       "    </tr>\n",
       "  </tbody>\n",
       "</table>\n",
       "</div>"
      ],
      "text/plain": [
       "  StoreID        TransactionID  Line   Sales  Count           Date     SKU  \\\n",
       "0     A29  11-7270-00007-00057    36   850.0    1.0  3/11/12 00:00  A21773   \n",
       "1     A29  11-7270-00007-00057    39  1500.0    1.0  3/11/12 00:00  A18009   \n",
       "2     A29  11-7270-00007-00057    40  1500.0    1.0  3/11/12 00:00  A25592   \n",
       "3     A29  11-7270-00007-00057    41  1600.0    1.0  3/11/12 00:00   A1449   \n",
       "4     A29  11-7270-00007-00057    42  1600.0    1.0  3/11/12 00:00   A1449   \n",
       "\n",
       "  Type  \n",
       "0       \n",
       "1       \n",
       "2       \n",
       "3       \n",
       "4       "
      ]
     },
     "execution_count": 4,
     "metadata": {},
     "output_type": "execute_result"
    }
   ],
   "source": [
    "data_type.head()"
   ]
  },
  {
   "cell_type": "code",
   "execution_count": 6,
   "metadata": {
    "collapsed": false
   },
   "outputs": [
    {
     "name": "stdout",
     "output_type": "stream",
     "text": [
      "(1041577, 8)\n",
      "73\n",
      "192963\n",
      "599\n",
      "2\n",
      "15179\n"
     ]
    }
   ],
   "source": [
    "print data_type.shape\n",
    "print len(data_type.StoreID.unique())\n",
    "print len(data_type.TransactionID.unique())\n",
    "print len(data_type.Line.unique())\n",
    "print len(data_type.Date.unique())\n",
    "print len(data_type.SKU.unique())"
   ]
  },
  {
   "cell_type": "code",
   "execution_count": 8,
   "metadata": {
    "collapsed": false
   },
   "outputs": [
    {
     "data": {
      "text/html": [
       "<div>\n",
       "<style>\n",
       "    .dataframe thead tr:only-child th {\n",
       "        text-align: right;\n",
       "    }\n",
       "\n",
       "    .dataframe thead th {\n",
       "        text-align: left;\n",
       "    }\n",
       "\n",
       "    .dataframe tbody tr th {\n",
       "        vertical-align: top;\n",
       "    }\n",
       "</style>\n",
       "<table border=\"1\" class=\"dataframe\">\n",
       "  <thead>\n",
       "    <tr style=\"text-align: right;\">\n",
       "      <th></th>\n",
       "      <th>Line</th>\n",
       "      <th>Sales</th>\n",
       "      <th>Count</th>\n",
       "    </tr>\n",
       "  </thead>\n",
       "  <tbody>\n",
       "    <tr>\n",
       "      <th>count</th>\n",
       "      <td>1041577.000</td>\n",
       "      <td>1041577.000</td>\n",
       "      <td>1041577.000</td>\n",
       "    </tr>\n",
       "    <tr>\n",
       "      <th>mean</th>\n",
       "      <td>10.779</td>\n",
       "      <td>1762.579</td>\n",
       "      <td>0.906</td>\n",
       "    </tr>\n",
       "    <tr>\n",
       "      <th>std</th>\n",
       "      <td>15.514</td>\n",
       "      <td>3548.541</td>\n",
       "      <td>1.116</td>\n",
       "    </tr>\n",
       "    <tr>\n",
       "      <th>min</th>\n",
       "      <td>1.000</td>\n",
       "      <td>-99995.000</td>\n",
       "      <td>-120.000</td>\n",
       "    </tr>\n",
       "    <tr>\n",
       "      <th>25%</th>\n",
       "      <td>3.000</td>\n",
       "      <td>450.000</td>\n",
       "      <td>1.000</td>\n",
       "    </tr>\n",
       "    <tr>\n",
       "      <th>50%</th>\n",
       "      <td>7.000</td>\n",
       "      <td>1300.000</td>\n",
       "      <td>1.000</td>\n",
       "    </tr>\n",
       "    <tr>\n",
       "      <th>75%</th>\n",
       "      <td>14.000</td>\n",
       "      <td>2195.000</td>\n",
       "      <td>1.000</td>\n",
       "    </tr>\n",
       "    <tr>\n",
       "      <th>max</th>\n",
       "      <td>823.000</td>\n",
       "      <td>99995.000</td>\n",
       "      <td>120.000</td>\n",
       "    </tr>\n",
       "  </tbody>\n",
       "</table>\n",
       "</div>"
      ],
      "text/plain": [
       "             Line       Sales       Count\n",
       "count 1041577.000 1041577.000 1041577.000\n",
       "mean       10.779    1762.579       0.906\n",
       "std        15.514    3548.541       1.116\n",
       "min         1.000  -99995.000    -120.000\n",
       "25%         3.000     450.000       1.000\n",
       "50%         7.000    1300.000       1.000\n",
       "75%        14.000    2195.000       1.000\n",
       "max       823.000   99995.000     120.000"
      ]
     },
     "execution_count": 8,
     "metadata": {},
     "output_type": "execute_result"
    }
   ],
   "source": [
    "pd.set_option('display.float_format', lambda x: '%.3f' % x)\n",
    "data_type.describe()"
   ]
  },
  {
   "cell_type": "markdown",
   "metadata": {},
   "source": [
    "#### Total Sales and Total Count on Store Level"
   ]
  },
  {
   "cell_type": "code",
   "execution_count": 47,
   "metadata": {
    "collapsed": false
   },
   "outputs": [],
   "source": [
    "q = '''\n",
    "    select\n",
    "        StoreID, count(distinct TransactionID) as '# of transactions', count(distinct SKU) as '# of SKUs',\n",
    "        sum(Sales) as 'Total Sales', sum(Count) as 'Total Count', sum(Sales)/count(distinct TransactionID) as 'Average Sales per Basket'\n",
    "    from\n",
    "        data_type\n",
    "    group by\n",
    "        StoreID\n",
    "    '''\n",
    "df1 = pysqldf(q)"
   ]
  },
  {
   "cell_type": "code",
   "execution_count": 48,
   "metadata": {
    "collapsed": false
   },
   "outputs": [
    {
     "data": {
      "text/html": [
       "<div>\n",
       "<style>\n",
       "    .dataframe thead tr:only-child th {\n",
       "        text-align: right;\n",
       "    }\n",
       "\n",
       "    .dataframe thead th {\n",
       "        text-align: left;\n",
       "    }\n",
       "\n",
       "    .dataframe tbody tr th {\n",
       "        vertical-align: top;\n",
       "    }\n",
       "</style>\n",
       "<table border=\"1\" class=\"dataframe\">\n",
       "  <thead>\n",
       "    <tr style=\"text-align: right;\">\n",
       "      <th></th>\n",
       "      <th>StoreID</th>\n",
       "      <th># of transactions</th>\n",
       "      <th># of SKUs</th>\n",
       "      <th>Total Sales</th>\n",
       "      <th>Total Count</th>\n",
       "      <th>Average Sales per Basket</th>\n",
       "    </tr>\n",
       "  </thead>\n",
       "  <tbody>\n",
       "    <tr>\n",
       "      <th>0</th>\n",
       "      <td>A01</td>\n",
       "      <td>3442</td>\n",
       "      <td>2538</td>\n",
       "      <td>24011087.000</td>\n",
       "      <td>14478.000</td>\n",
       "      <td>6975.911</td>\n",
       "    </tr>\n",
       "    <tr>\n",
       "      <th>1</th>\n",
       "      <td>A02</td>\n",
       "      <td>1727</td>\n",
       "      <td>2402</td>\n",
       "      <td>19792050.998</td>\n",
       "      <td>8605.000</td>\n",
       "      <td>11460.365</td>\n",
       "    </tr>\n",
       "    <tr>\n",
       "      <th>2</th>\n",
       "      <td>A03</td>\n",
       "      <td>1759</td>\n",
       "      <td>2301</td>\n",
       "      <td>18776726.599</td>\n",
       "      <td>8993.000</td>\n",
       "      <td>10674.660</td>\n",
       "    </tr>\n",
       "    <tr>\n",
       "      <th>3</th>\n",
       "      <td>A05</td>\n",
       "      <td>2497</td>\n",
       "      <td>3018</td>\n",
       "      <td>24202604.295</td>\n",
       "      <td>12257.000</td>\n",
       "      <td>9692.673</td>\n",
       "    </tr>\n",
       "    <tr>\n",
       "      <th>4</th>\n",
       "      <td>A06</td>\n",
       "      <td>3513</td>\n",
       "      <td>2968</td>\n",
       "      <td>24450642.000</td>\n",
       "      <td>13024.000</td>\n",
       "      <td>6960.046</td>\n",
       "    </tr>\n",
       "  </tbody>\n",
       "</table>\n",
       "</div>"
      ],
      "text/plain": [
       "  StoreID  # of transactions  # of SKUs  Total Sales  Total Count  \\\n",
       "0     A01               3442       2538 24011087.000    14478.000   \n",
       "1     A02               1727       2402 19792050.998     8605.000   \n",
       "2     A03               1759       2301 18776726.599     8993.000   \n",
       "3     A05               2497       3018 24202604.295    12257.000   \n",
       "4     A06               3513       2968 24450642.000    13024.000   \n",
       "\n",
       "   Average Sales per Basket  \n",
       "0                  6975.911  \n",
       "1                 11460.365  \n",
       "2                 10674.660  \n",
       "3                  9692.673  \n",
       "4                  6960.046  "
      ]
     },
     "execution_count": 48,
     "metadata": {},
     "output_type": "execute_result"
    }
   ],
   "source": [
    "df1.head()"
   ]
  },
  {
   "cell_type": "code",
   "execution_count": 49,
   "metadata": {
    "collapsed": false
   },
   "outputs": [
    {
     "data": {
      "text/html": [
       "<div>\n",
       "<style>\n",
       "    .dataframe thead tr:only-child th {\n",
       "        text-align: right;\n",
       "    }\n",
       "\n",
       "    .dataframe thead th {\n",
       "        text-align: left;\n",
       "    }\n",
       "\n",
       "    .dataframe tbody tr th {\n",
       "        vertical-align: top;\n",
       "    }\n",
       "</style>\n",
       "<table border=\"1\" class=\"dataframe\">\n",
       "  <thead>\n",
       "    <tr style=\"text-align: right;\">\n",
       "      <th></th>\n",
       "      <th># of transactions</th>\n",
       "      <th># of SKUs</th>\n",
       "      <th>Total Sales</th>\n",
       "      <th>Total Count</th>\n",
       "      <th>Average Sales per Basket</th>\n",
       "    </tr>\n",
       "  </thead>\n",
       "  <tbody>\n",
       "    <tr>\n",
       "      <th>count</th>\n",
       "      <td>73.000</td>\n",
       "      <td>73.000</td>\n",
       "      <td>73.000</td>\n",
       "      <td>73.000</td>\n",
       "      <td>73.000</td>\n",
       "    </tr>\n",
       "    <tr>\n",
       "      <th>mean</th>\n",
       "      <td>2643.329</td>\n",
       "      <td>2706.740</td>\n",
       "      <td>25148793.416</td>\n",
       "      <td>12931.205</td>\n",
       "      <td>9483.860</td>\n",
       "    </tr>\n",
       "    <tr>\n",
       "      <th>std</th>\n",
       "      <td>1156.019</td>\n",
       "      <td>806.736</td>\n",
       "      <td>11481754.438</td>\n",
       "      <td>6018.502</td>\n",
       "      <td>1856.601</td>\n",
       "    </tr>\n",
       "    <tr>\n",
       "      <th>min</th>\n",
       "      <td>84.000</td>\n",
       "      <td>22.000</td>\n",
       "      <td>354744.000</td>\n",
       "      <td>851.000</td>\n",
       "      <td>4223.143</td>\n",
       "    </tr>\n",
       "    <tr>\n",
       "      <th>25%</th>\n",
       "      <td>1759.000</td>\n",
       "      <td>2333.000</td>\n",
       "      <td>18491938.995</td>\n",
       "      <td>8993.000</td>\n",
       "      <td>8189.349</td>\n",
       "    </tr>\n",
       "    <tr>\n",
       "      <th>50%</th>\n",
       "      <td>2582.000</td>\n",
       "      <td>2754.000</td>\n",
       "      <td>24011087.000</td>\n",
       "      <td>12257.000</td>\n",
       "      <td>9692.673</td>\n",
       "    </tr>\n",
       "    <tr>\n",
       "      <th>75%</th>\n",
       "      <td>3440.000</td>\n",
       "      <td>3152.000</td>\n",
       "      <td>30474926.542</td>\n",
       "      <td>15617.000</td>\n",
       "      <td>10992.304</td>\n",
       "    </tr>\n",
       "    <tr>\n",
       "      <th>max</th>\n",
       "      <td>5978.000</td>\n",
       "      <td>4794.000</td>\n",
       "      <td>65150873.594</td>\n",
       "      <td>35107.000</td>\n",
       "      <td>13251.089</td>\n",
       "    </tr>\n",
       "  </tbody>\n",
       "</table>\n",
       "</div>"
      ],
      "text/plain": [
       "       # of transactions  # of SKUs  Total Sales  Total Count  \\\n",
       "count             73.000     73.000       73.000       73.000   \n",
       "mean            2643.329   2706.740 25148793.416    12931.205   \n",
       "std             1156.019    806.736 11481754.438     6018.502   \n",
       "min               84.000     22.000   354744.000      851.000   \n",
       "25%             1759.000   2333.000 18491938.995     8993.000   \n",
       "50%             2582.000   2754.000 24011087.000    12257.000   \n",
       "75%             3440.000   3152.000 30474926.542    15617.000   \n",
       "max             5978.000   4794.000 65150873.594    35107.000   \n",
       "\n",
       "       Average Sales per Basket  \n",
       "count                    73.000  \n",
       "mean                   9483.860  \n",
       "std                    1856.601  \n",
       "min                    4223.143  \n",
       "25%                    8189.349  \n",
       "50%                    9692.673  \n",
       "75%                   10992.304  \n",
       "max                   13251.089  "
      ]
     },
     "execution_count": 49,
     "metadata": {},
     "output_type": "execute_result"
    }
   ],
   "source": [
    "df1.describe()"
   ]
  },
  {
   "cell_type": "markdown",
   "metadata": {},
   "source": [
    "For each store, on average, it will have 2600 transactions and 2700 unique SKUs will be sold. The average sales per basket is 9500$."
   ]
  },
  {
   "cell_type": "code",
   "execution_count": 40,
   "metadata": {
    "collapsed": false
   },
   "outputs": [
    {
     "data": {
      "image/png": "[encoded data removed]",
      "text/plain": [
       "<matplotlib.figure.Figure at 0x11d066e10>"
      ]
     },
     "metadata": {},
     "output_type": "display_data"
    }
   ],
   "source": [
    "import seaborn as sns\n",
    "import matplotlib.pyplot as plt\n",
    "%matplotlib inline\n",
    "\n",
    "plt.figure(figsize=(10,6))\n",
    "ax = sns.barplot(x='StoreID',y='# of SKUs',data=df1)\n",
    "plt.ylabel('# of SKUs')\n",
    "plt.ylim(0,5000)\n",
    "plt.title('Distribution of SKUs across different stores')\n",
    "plt.tick_params(axis='x',bottom='off',labelbottom='off')\n"
   ]
  },
  {
   "cell_type": "code",
   "execution_count": 51,
   "metadata": {
    "collapsed": false
   },
   "outputs": [
    {
     "data": {
      "image/png": "[encoded data removed]",
      "text/plain": [
       "<matplotlib.figure.Figure at 0x10eeade50>"
      ]
     },
     "metadata": {},
     "output_type": "display_data"
    }
   ],
   "source": [
    "plt.figure(figsize=(12,6))\n",
    "ax = sns.barplot(x='StoreID',y='Average Sales per Basket',data=df1)\n",
    "plt.ylabel('Average Sales per Basket')\n",
    "plt.ylim(0,15000)\n",
    "plt.title('Average Sales per Basket on Store Level')\n",
    "plt.tick_params(axis='x',bottom='off',labelbottom='off')"
   ]
  },
  {
   "cell_type": "code",
   "execution_count": 52,
   "metadata": {
    "collapsed": false,
    "scrolled": true
   },
   "outputs": [
    {
     "data": {
      "text/html": [
       "<div>\n",
       "<style>\n",
       "    .dataframe thead tr:only-child th {\n",
       "        text-align: right;\n",
       "    }\n",
       "\n",
       "    .dataframe thead th {\n",
       "        text-align: left;\n",
       "    }\n",
       "\n",
       "    .dataframe tbody tr th {\n",
       "        vertical-align: top;\n",
       "    }\n",
       "</style>\n",
       "<table border=\"1\" class=\"dataframe\">\n",
       "  <thead>\n",
       "    <tr style=\"text-align: right;\">\n",
       "      <th></th>\n",
       "      <th>StoreID</th>\n",
       "      <th># of transactions</th>\n",
       "      <th># of SKUs</th>\n",
       "      <th>Total Sales</th>\n",
       "      <th>Total Count</th>\n",
       "      <th>Average Sales per Basket</th>\n",
       "    </tr>\n",
       "  </thead>\n",
       "  <tbody>\n",
       "    <tr>\n",
       "      <th>70</th>\n",
       "      <td>A85</td>\n",
       "      <td>182</td>\n",
       "      <td>38</td>\n",
       "      <td>824505.000</td>\n",
       "      <td>1687.000</td>\n",
       "      <td>4530.247</td>\n",
       "    </tr>\n",
       "    <tr>\n",
       "      <th>71</th>\n",
       "      <td>A97</td>\n",
       "      <td>84</td>\n",
       "      <td>22</td>\n",
       "      <td>354744.000</td>\n",
       "      <td>851.000</td>\n",
       "      <td>4223.143</td>\n",
       "    </tr>\n",
       "  </tbody>\n",
       "</table>\n",
       "</div>"
      ],
      "text/plain": [
       "   StoreID  # of transactions  # of SKUs  Total Sales  Total Count  \\\n",
       "70     A85                182         38   824505.000     1687.000   \n",
       "71     A97                 84         22   354744.000      851.000   \n",
       "\n",
       "    Average Sales per Basket  \n",
       "70                  4530.247  \n",
       "71                  4223.143  "
      ]
     },
     "execution_count": 52,
     "metadata": {},
     "output_type": "execute_result"
    }
   ],
   "source": [
    "df1[df1['# of SKUs']<200]"
   ]
  },
  {
   "cell_type": "markdown",
   "metadata": {},
   "source": [
    " Normally, in each store, it will sell 2500 unique SKUs on average and average sales per basket should around 10000\\$. But for store A85 and A97, it only sold 38 and 22 unique SKUs, and average sales per basket is around 4500\\$, which is abnoraml. We need investigaete these two stores and find out what happened."
   ]
  },
  {
   "cell_type": "code",
   "execution_count": null,
   "metadata": {
    "collapsed": true
   },
   "outputs": [],
   "source": []
  },
  {
   "cell_type": "markdown",
   "metadata": {},
   "source": [
    "<br><br>"
   ]
  },
  {
   "cell_type": "markdown",
   "metadata": {},
   "source": [
    "#### Total Sales and Total Count on SKU Level"
   ]
  },
  {
   "cell_type": "code",
   "execution_count": 93,
   "metadata": {
    "collapsed": true
   },
   "outputs": [],
   "source": [
    "q = '''\n",
    "    select\n",
    "        SKU, count(distinct StoreID) as '# of Stores', count(distinct TransactionID) as '# of transactions',\n",
    "        sum(Sales) as 'Total Sales', sum(Count) as 'Total Count', sum(Sales)/sum(Count) as 'Unit Price',\n",
    "        sum(Sales)/count(distinct TransactionID) as 'Average Sales per Basket For Specific SKU'\n",
    "    from\n",
    "        data_type\n",
    "    group by\n",
    "        SKU\n",
    "    '''\n",
    "df2 = pysqldf(q)"
   ]
  },
  {
   "cell_type": "code",
   "execution_count": 94,
   "metadata": {
    "collapsed": false
   },
   "outputs": [
    {
     "data": {
      "text/html": [
       "<div>\n",
       "<style>\n",
       "    .dataframe thead tr:only-child th {\n",
       "        text-align: right;\n",
       "    }\n",
       "\n",
       "    .dataframe thead th {\n",
       "        text-align: left;\n",
       "    }\n",
       "\n",
       "    .dataframe tbody tr th {\n",
       "        vertical-align: top;\n",
       "    }\n",
       "</style>\n",
       "<table border=\"1\" class=\"dataframe\">\n",
       "  <thead>\n",
       "    <tr style=\"text-align: right;\">\n",
       "      <th></th>\n",
       "      <th>SKU</th>\n",
       "      <th># of Stores</th>\n",
       "      <th># of transactions</th>\n",
       "      <th>Total Sales</th>\n",
       "      <th>Total Count</th>\n",
       "      <th>Unit Price</th>\n",
       "      <th>Average Sales per Basket For Specific SKU</th>\n",
       "    </tr>\n",
       "  </thead>\n",
       "  <tbody>\n",
       "    <tr>\n",
       "      <th>0</th>\n",
       "      <td>A1</td>\n",
       "      <td>26</td>\n",
       "      <td>68</td>\n",
       "      <td>94682.000</td>\n",
       "      <td>78.000</td>\n",
       "      <td>1213.872</td>\n",
       "      <td>1392.382</td>\n",
       "    </tr>\n",
       "    <tr>\n",
       "      <th>1</th>\n",
       "      <td>A10000</td>\n",
       "      <td>1</td>\n",
       "      <td>1</td>\n",
       "      <td>1995.000</td>\n",
       "      <td>1.000</td>\n",
       "      <td>1995.000</td>\n",
       "      <td>1995.000</td>\n",
       "    </tr>\n",
       "    <tr>\n",
       "      <th>2</th>\n",
       "      <td>A10001</td>\n",
       "      <td>1</td>\n",
       "      <td>3</td>\n",
       "      <td>5085.000</td>\n",
       "      <td>3.000</td>\n",
       "      <td>1695.000</td>\n",
       "      <td>1695.000</td>\n",
       "    </tr>\n",
       "    <tr>\n",
       "      <th>3</th>\n",
       "      <td>A10002</td>\n",
       "      <td>1</td>\n",
       "      <td>1</td>\n",
       "      <td>5000.000</td>\n",
       "      <td>1.000</td>\n",
       "      <td>5000.000</td>\n",
       "      <td>5000.000</td>\n",
       "    </tr>\n",
       "    <tr>\n",
       "      <th>4</th>\n",
       "      <td>A10003</td>\n",
       "      <td>11</td>\n",
       "      <td>21</td>\n",
       "      <td>57925.000</td>\n",
       "      <td>22.000</td>\n",
       "      <td>2632.955</td>\n",
       "      <td>2758.333</td>\n",
       "    </tr>\n",
       "  </tbody>\n",
       "</table>\n",
       "</div>"
      ],
      "text/plain": [
       "      SKU  # of Stores  # of transactions  Total Sales  Total Count  \\\n",
       "0      A1           26                 68    94682.000       78.000   \n",
       "1  A10000            1                  1     1995.000        1.000   \n",
       "2  A10001            1                  3     5085.000        3.000   \n",
       "3  A10002            1                  1     5000.000        1.000   \n",
       "4  A10003           11                 21    57925.000       22.000   \n",
       "\n",
       "   Unit Price  Average Sales per Basket For Specific SKU  \n",
       "0    1213.872                                   1392.382  \n",
       "1    1995.000                                   1995.000  \n",
       "2    1695.000                                   1695.000  \n",
       "3    5000.000                                   5000.000  \n",
       "4    2632.955                                   2758.333  "
      ]
     },
     "execution_count": 94,
     "metadata": {},
     "output_type": "execute_result"
    }
   ],
   "source": [
    "df2.head()"
   ]
  },
  {
   "cell_type": "code",
   "execution_count": 95,
   "metadata": {
    "collapsed": false
   },
   "outputs": [
    {
     "data": {
      "text/html": [
       "<div>\n",
       "<style>\n",
       "    .dataframe thead tr:only-child th {\n",
       "        text-align: right;\n",
       "    }\n",
       "\n",
       "    .dataframe thead th {\n",
       "        text-align: left;\n",
       "    }\n",
       "\n",
       "    .dataframe tbody tr th {\n",
       "        vertical-align: top;\n",
       "    }\n",
       "</style>\n",
       "<table border=\"1\" class=\"dataframe\">\n",
       "  <thead>\n",
       "    <tr style=\"text-align: right;\">\n",
       "      <th></th>\n",
       "      <th># of Stores</th>\n",
       "      <th># of transactions</th>\n",
       "      <th>Total Sales</th>\n",
       "      <th>Total Count</th>\n",
       "      <th>Unit Price</th>\n",
       "      <th>Average Sales per Basket For Specific SKU</th>\n",
       "    </tr>\n",
       "  </thead>\n",
       "  <tbody>\n",
       "    <tr>\n",
       "      <th>count</th>\n",
       "      <td>15179.000</td>\n",
       "      <td>15179.000</td>\n",
       "      <td>15179.000</td>\n",
       "      <td>15179.000</td>\n",
       "      <td>15094.000</td>\n",
       "      <td>15179.000</td>\n",
       "    </tr>\n",
       "    <tr>\n",
       "      <th>mean</th>\n",
       "      <td>13.017</td>\n",
       "      <td>45.379</td>\n",
       "      <td>120947.488</td>\n",
       "      <td>62.190</td>\n",
       "      <td>5651.830</td>\n",
       "      <td>6248.630</td>\n",
       "    </tr>\n",
       "    <tr>\n",
       "      <th>std</th>\n",
       "      <td>17.173</td>\n",
       "      <td>326.368</td>\n",
       "      <td>454463.802</td>\n",
       "      <td>524.992</td>\n",
       "      <td>7720.110</td>\n",
       "      <td>8047.038</td>\n",
       "    </tr>\n",
       "    <tr>\n",
       "      <th>min</th>\n",
       "      <td>1.000</td>\n",
       "      <td>1.000</td>\n",
       "      <td>0.000</td>\n",
       "      <td>0.000</td>\n",
       "      <td>0.015</td>\n",
       "      <td>0.000</td>\n",
       "    </tr>\n",
       "    <tr>\n",
       "      <th>25%</th>\n",
       "      <td>2.000</td>\n",
       "      <td>2.000</td>\n",
       "      <td>9995.000</td>\n",
       "      <td>2.000</td>\n",
       "      <td>1696.462</td>\n",
       "      <td>2000.000</td>\n",
       "    </tr>\n",
       "    <tr>\n",
       "      <th>50%</th>\n",
       "      <td>5.000</td>\n",
       "      <td>6.000</td>\n",
       "      <td>30990.000</td>\n",
       "      <td>7.000</td>\n",
       "      <td>3000.000</td>\n",
       "      <td>3500.000</td>\n",
       "    </tr>\n",
       "    <tr>\n",
       "      <th>75%</th>\n",
       "      <td>18.000</td>\n",
       "      <td>26.000</td>\n",
       "      <td>92972.500</td>\n",
       "      <td>32.000</td>\n",
       "      <td>6795.000</td>\n",
       "      <td>7500.000</td>\n",
       "    </tr>\n",
       "    <tr>\n",
       "      <th>max</th>\n",
       "      <td>73.000</td>\n",
       "      <td>26190.000</td>\n",
       "      <td>19049707.400</td>\n",
       "      <td>35579.000</td>\n",
       "      <td>99900.000</td>\n",
       "      <td>103344.828</td>\n",
       "    </tr>\n",
       "  </tbody>\n",
       "</table>\n",
       "</div>"
      ],
      "text/plain": [
       "       # of Stores  # of transactions  Total Sales  Total Count  Unit Price  \\\n",
       "count    15179.000          15179.000    15179.000    15179.000   15094.000   \n",
       "mean        13.017             45.379   120947.488       62.190    5651.830   \n",
       "std         17.173            326.368   454463.802      524.992    7720.110   \n",
       "min          1.000              1.000        0.000        0.000       0.015   \n",
       "25%          2.000              2.000     9995.000        2.000    1696.462   \n",
       "50%          5.000              6.000    30990.000        7.000    3000.000   \n",
       "75%         18.000             26.000    92972.500       32.000    6795.000   \n",
       "max         73.000          26190.000 19049707.400    35579.000   99900.000   \n",
       "\n",
       "       Average Sales per Basket For Specific SKU  \n",
       "count                                  15179.000  \n",
       "mean                                    6248.630  \n",
       "std                                     8047.038  \n",
       "min                                        0.000  \n",
       "25%                                     2000.000  \n",
       "50%                                     3500.000  \n",
       "75%                                     7500.000  \n",
       "max                                   103344.828  "
      ]
     },
     "execution_count": 95,
     "metadata": {},
     "output_type": "execute_result"
    }
   ],
   "source": [
    "df2.describe()"
   ]
  },
  {
   "cell_type": "markdown",
   "metadata": {},
   "source": [
    "For specific SKU, on average ,it wil be sold across 13 stores and 45 transactions. The average unit price for each SKU is 5600$/item."
   ]
  },
  {
   "cell_type": "code",
   "execution_count": 64,
   "metadata": {
    "collapsed": false
   },
   "outputs": [
    {
     "data": {
      "text/html": [
       "<div>\n",
       "<style>\n",
       "    .dataframe thead tr:only-child th {\n",
       "        text-align: right;\n",
       "    }\n",
       "\n",
       "    .dataframe thead th {\n",
       "        text-align: left;\n",
       "    }\n",
       "\n",
       "    .dataframe tbody tr th {\n",
       "        vertical-align: top;\n",
       "    }\n",
       "</style>\n",
       "<table border=\"1\" class=\"dataframe\">\n",
       "  <thead>\n",
       "    <tr style=\"text-align: right;\">\n",
       "      <th></th>\n",
       "      <th>SKU</th>\n",
       "      <th># of Stores</th>\n",
       "      <th># of transactions</th>\n",
       "      <th>Total Sales</th>\n",
       "      <th>Total Count</th>\n",
       "      <th>Unit Price</th>\n",
       "      <th>Average Sales per Basket</th>\n",
       "    </tr>\n",
       "  </thead>\n",
       "  <tbody>\n",
       "    <tr>\n",
       "      <th>67</th>\n",
       "      <td>A10108</td>\n",
       "      <td>1</td>\n",
       "      <td>1</td>\n",
       "      <td>0.000</td>\n",
       "      <td>0.000</td>\n",
       "      <td>nan</td>\n",
       "      <td>0.000</td>\n",
       "    </tr>\n",
       "    <tr>\n",
       "      <th>247</th>\n",
       "      <td>A10390</td>\n",
       "      <td>1</td>\n",
       "      <td>1</td>\n",
       "      <td>0.000</td>\n",
       "      <td>0.000</td>\n",
       "      <td>nan</td>\n",
       "      <td>0.000</td>\n",
       "    </tr>\n",
       "    <tr>\n",
       "      <th>374</th>\n",
       "      <td>A10576</td>\n",
       "      <td>1</td>\n",
       "      <td>1</td>\n",
       "      <td>0.000</td>\n",
       "      <td>0.000</td>\n",
       "      <td>nan</td>\n",
       "      <td>0.000</td>\n",
       "    </tr>\n",
       "    <tr>\n",
       "      <th>396</th>\n",
       "      <td>A1061</td>\n",
       "      <td>1</td>\n",
       "      <td>1</td>\n",
       "      <td>0.000</td>\n",
       "      <td>0.000</td>\n",
       "      <td>nan</td>\n",
       "      <td>0.000</td>\n",
       "    </tr>\n",
       "    <tr>\n",
       "      <th>766</th>\n",
       "      <td>A11189</td>\n",
       "      <td>1</td>\n",
       "      <td>1</td>\n",
       "      <td>0.000</td>\n",
       "      <td>0.000</td>\n",
       "      <td>nan</td>\n",
       "      <td>0.000</td>\n",
       "    </tr>\n",
       "  </tbody>\n",
       "</table>\n",
       "</div>"
      ],
      "text/plain": [
       "        SKU  # of Stores  # of transactions  Total Sales  Total Count  \\\n",
       "67   A10108            1                  1        0.000        0.000   \n",
       "247  A10390            1                  1        0.000        0.000   \n",
       "374  A10576            1                  1        0.000        0.000   \n",
       "396   A1061            1                  1        0.000        0.000   \n",
       "766  A11189            1                  1        0.000        0.000   \n",
       "\n",
       "     Unit Price  Average Sales per Basket  \n",
       "67          nan                     0.000  \n",
       "247         nan                     0.000  \n",
       "374         nan                     0.000  \n",
       "396         nan                     0.000  \n",
       "766         nan                     0.000  "
      ]
     },
     "execution_count": 64,
     "metadata": {},
     "output_type": "execute_result"
    }
   ],
   "source": [
    "df2[df2['Total Count']==0].head()"
   ]
  },
  {
   "cell_type": "markdown",
   "metadata": {},
   "source": [
    "There are 85 SKUs where Total Sales=0 and Total Count=0, meaning that the items were all returned after purchases."
   ]
  },
  {
   "cell_type": "code",
   "execution_count": 67,
   "metadata": {
    "collapsed": false,
    "scrolled": true
   },
   "outputs": [
    {
     "data": {
      "text/html": [
       "<div>\n",
       "<style>\n",
       "    .dataframe thead tr:only-child th {\n",
       "        text-align: right;\n",
       "    }\n",
       "\n",
       "    .dataframe thead th {\n",
       "        text-align: left;\n",
       "    }\n",
       "\n",
       "    .dataframe tbody tr th {\n",
       "        vertical-align: top;\n",
       "    }\n",
       "</style>\n",
       "<table border=\"1\" class=\"dataframe\">\n",
       "  <thead>\n",
       "    <tr style=\"text-align: right;\">\n",
       "      <th></th>\n",
       "      <th>SKU</th>\n",
       "      <th># of Stores</th>\n",
       "      <th># of transactions</th>\n",
       "      <th>Total Sales</th>\n",
       "      <th>Total Count</th>\n",
       "      <th>Unit Price</th>\n",
       "      <th>Average Sales per Basket</th>\n",
       "    </tr>\n",
       "  </thead>\n",
       "  <tbody>\n",
       "    <tr>\n",
       "      <th>7016</th>\n",
       "      <td>A20874</td>\n",
       "      <td>71</td>\n",
       "      <td>5528</td>\n",
       "      <td>4639635.000</td>\n",
       "      <td>9373.000</td>\n",
       "      <td>495.000</td>\n",
       "      <td>839.297</td>\n",
       "    </tr>\n",
       "    <tr>\n",
       "      <th>7604</th>\n",
       "      <td>A21771</td>\n",
       "      <td>64</td>\n",
       "      <td>18411</td>\n",
       "      <td>6748400.000</td>\n",
       "      <td>23434.000</td>\n",
       "      <td>287.975</td>\n",
       "      <td>366.542</td>\n",
       "    </tr>\n",
       "    <tr>\n",
       "      <th>9873</th>\n",
       "      <td>A25312</td>\n",
       "      <td>71</td>\n",
       "      <td>8516</td>\n",
       "      <td>8657850.000</td>\n",
       "      <td>13014.000</td>\n",
       "      <td>665.272</td>\n",
       "      <td>1016.657</td>\n",
       "    </tr>\n",
       "    <tr>\n",
       "      <th>10608</th>\n",
       "      <td>A2854</td>\n",
       "      <td>71</td>\n",
       "      <td>8413</td>\n",
       "      <td>7008300.000</td>\n",
       "      <td>15574.000</td>\n",
       "      <td>450.000</td>\n",
       "      <td>833.032</td>\n",
       "    </tr>\n",
       "    <tr>\n",
       "      <th>11106</th>\n",
       "      <td>A3664</td>\n",
       "      <td>62</td>\n",
       "      <td>26190</td>\n",
       "      <td>7753600.000</td>\n",
       "      <td>30904.000</td>\n",
       "      <td>250.893</td>\n",
       "      <td>296.052</td>\n",
       "    </tr>\n",
       "    <tr>\n",
       "      <th>12491</th>\n",
       "      <td>A5821</td>\n",
       "      <td>73</td>\n",
       "      <td>8187</td>\n",
       "      <td>1883550.000</td>\n",
       "      <td>12557.000</td>\n",
       "      <td>150.000</td>\n",
       "      <td>230.066</td>\n",
       "    </tr>\n",
       "  </tbody>\n",
       "</table>\n",
       "</div>"
      ],
      "text/plain": [
       "          SKU  # of Stores  # of transactions  Total Sales  Total Count  \\\n",
       "7016   A20874           71               5528  4639635.000     9373.000   \n",
       "7604   A21771           64              18411  6748400.000    23434.000   \n",
       "9873   A25312           71               8516  8657850.000    13014.000   \n",
       "10608   A2854           71               8413  7008300.000    15574.000   \n",
       "11106   A3664           62              26190  7753600.000    30904.000   \n",
       "12491   A5821           73               8187  1883550.000    12557.000   \n",
       "\n",
       "       Unit Price  Average Sales per Basket  \n",
       "7016      495.000                   839.297  \n",
       "7604      287.975                   366.542  \n",
       "9873      665.272                  1016.657  \n",
       "10608     450.000                   833.032  \n",
       "11106     250.893                   296.052  \n",
       "12491     150.000                   230.066  "
      ]
     },
     "execution_count": 67,
     "metadata": {},
     "output_type": "execute_result"
    }
   ],
   "source": [
    "df2[df2['# of transactions']>5000]"
   ]
  },
  {
   "cell_type": "markdown",
   "metadata": {},
   "source": [
    "The specific product will be sold in 45 transactions across 13 stores on average. But some SKUs are pretty popular, they are sold in over 5000 transactions across over 60 stores. Their total sales are high and their unit price are low, meaning that they are some low-price but popular products."
   ]
  },
  {
   "cell_type": "markdown",
   "metadata": {},
   "source": [
    "<br><br>"
   ]
  },
  {
   "cell_type": "markdown",
   "metadata": {},
   "source": [
    "#### Total Sales and Total Count on Transaction Level"
   ]
  },
  {
   "cell_type": "code",
   "execution_count": 80,
   "metadata": {
    "collapsed": true
   },
   "outputs": [],
   "source": [
    "q = '''\n",
    "    select\n",
    "        TransactionID, count(distinct SKU) as Number_of_SKUs,\n",
    "        sum(Sales) as 'Total Sales', sum(Count) as 'Total Count'\n",
    "    from\n",
    "        data_type\n",
    "    group by\n",
    "        TransactionID\n",
    "    '''\n",
    "df3 = pysqldf(q)"
   ]
  },
  {
   "cell_type": "code",
   "execution_count": 81,
   "metadata": {
    "collapsed": false
   },
   "outputs": [
    {
     "data": {
      "text/html": [
       "<div>\n",
       "<style>\n",
       "    .dataframe thead tr:only-child th {\n",
       "        text-align: right;\n",
       "    }\n",
       "\n",
       "    .dataframe thead th {\n",
       "        text-align: left;\n",
       "    }\n",
       "\n",
       "    .dataframe tbody tr th {\n",
       "        vertical-align: top;\n",
       "    }\n",
       "</style>\n",
       "<table border=\"1\" class=\"dataframe\">\n",
       "  <thead>\n",
       "    <tr style=\"text-align: right;\">\n",
       "      <th></th>\n",
       "      <th>TransactionID</th>\n",
       "      <th>Number_of_SKUs</th>\n",
       "      <th>Total Sales</th>\n",
       "      <th>Total Count</th>\n",
       "    </tr>\n",
       "  </thead>\n",
       "  <tbody>\n",
       "    <tr>\n",
       "      <th>0</th>\n",
       "      <td>11-0160-00019-00003</td>\n",
       "      <td>1</td>\n",
       "      <td>3500.000</td>\n",
       "      <td>10.000</td>\n",
       "    </tr>\n",
       "    <tr>\n",
       "      <th>1</th>\n",
       "      <td>11-0160-00019-00007</td>\n",
       "      <td>2</td>\n",
       "      <td>5000.000</td>\n",
       "      <td>15.000</td>\n",
       "    </tr>\n",
       "    <tr>\n",
       "      <th>2</th>\n",
       "      <td>11-0160-00019-00008</td>\n",
       "      <td>2</td>\n",
       "      <td>5000.000</td>\n",
       "      <td>15.000</td>\n",
       "    </tr>\n",
       "    <tr>\n",
       "      <th>3</th>\n",
       "      <td>11-0160-00019-00010</td>\n",
       "      <td>2</td>\n",
       "      <td>5000.000</td>\n",
       "      <td>11.000</td>\n",
       "    </tr>\n",
       "    <tr>\n",
       "      <th>4</th>\n",
       "      <td>11-0160-00019-00011</td>\n",
       "      <td>3</td>\n",
       "      <td>7195.000</td>\n",
       "      <td>16.000</td>\n",
       "    </tr>\n",
       "  </tbody>\n",
       "</table>\n",
       "</div>"
      ],
      "text/plain": [
       "         TransactionID  Number_of_SKUs  Total Sales  Total Count\n",
       "0  11-0160-00019-00003               1     3500.000       10.000\n",
       "1  11-0160-00019-00007               2     5000.000       15.000\n",
       "2  11-0160-00019-00008               2     5000.000       15.000\n",
       "3  11-0160-00019-00010               2     5000.000       11.000\n",
       "4  11-0160-00019-00011               3     7195.000       16.000"
      ]
     },
     "execution_count": 81,
     "metadata": {},
     "output_type": "execute_result"
    }
   ],
   "source": [
    "df3.head()"
   ]
  },
  {
   "cell_type": "code",
   "execution_count": 82,
   "metadata": {
    "collapsed": false
   },
   "outputs": [
    {
     "data": {
      "text/html": [
       "<div>\n",
       "<style>\n",
       "    .dataframe thead tr:only-child th {\n",
       "        text-align: right;\n",
       "    }\n",
       "\n",
       "    .dataframe thead th {\n",
       "        text-align: left;\n",
       "    }\n",
       "\n",
       "    .dataframe tbody tr th {\n",
       "        vertical-align: top;\n",
       "    }\n",
       "</style>\n",
       "<table border=\"1\" class=\"dataframe\">\n",
       "  <thead>\n",
       "    <tr style=\"text-align: right;\">\n",
       "      <th></th>\n",
       "      <th>Number_of_SKUs</th>\n",
       "      <th>Total Sales</th>\n",
       "      <th>Total Count</th>\n",
       "    </tr>\n",
       "  </thead>\n",
       "  <tbody>\n",
       "    <tr>\n",
       "      <th>count</th>\n",
       "      <td>192963.000</td>\n",
       "      <td>192963.000</td>\n",
       "      <td>192963.000</td>\n",
       "    </tr>\n",
       "    <tr>\n",
       "      <th>mean</th>\n",
       "      <td>3.570</td>\n",
       "      <td>9514.062</td>\n",
       "      <td>4.892</td>\n",
       "    </tr>\n",
       "    <tr>\n",
       "      <th>std</th>\n",
       "      <td>3.567</td>\n",
       "      <td>11964.859</td>\n",
       "      <td>5.667</td>\n",
       "    </tr>\n",
       "    <tr>\n",
       "      <th>min</th>\n",
       "      <td>1.000</td>\n",
       "      <td>0.000</td>\n",
       "      <td>0.000</td>\n",
       "    </tr>\n",
       "    <tr>\n",
       "      <th>25%</th>\n",
       "      <td>1.000</td>\n",
       "      <td>2500.000</td>\n",
       "      <td>1.000</td>\n",
       "    </tr>\n",
       "    <tr>\n",
       "      <th>50%</th>\n",
       "      <td>2.000</td>\n",
       "      <td>5595.000</td>\n",
       "      <td>3.000</td>\n",
       "    </tr>\n",
       "    <tr>\n",
       "      <th>75%</th>\n",
       "      <td>5.000</td>\n",
       "      <td>12120.000</td>\n",
       "      <td>6.000</td>\n",
       "    </tr>\n",
       "    <tr>\n",
       "      <th>max</th>\n",
       "      <td>251.000</td>\n",
       "      <td>1011399.000</td>\n",
       "      <td>600.000</td>\n",
       "    </tr>\n",
       "  </tbody>\n",
       "</table>\n",
       "</div>"
      ],
      "text/plain": [
       "       Number_of_SKUs  Total Sales  Total Count\n",
       "count      192963.000   192963.000   192963.000\n",
       "mean            3.570     9514.062        4.892\n",
       "std             3.567    11964.859        5.667\n",
       "min             1.000        0.000        0.000\n",
       "25%             1.000     2500.000        1.000\n",
       "50%             2.000     5595.000        3.000\n",
       "75%             5.000    12120.000        6.000\n",
       "max           251.000  1011399.000      600.000"
      ]
     },
     "execution_count": 82,
     "metadata": {},
     "output_type": "execute_result"
    }
   ],
   "source": [
    "df3.describe()"
   ]
  },
  {
   "cell_type": "markdown",
   "metadata": {},
   "source": [
    "Avearge number of unique SKUs in each transaction is 4, average total sales in each transaction 9500, and average number of items bought in each transaction is 5."
   ]
  },
  {
   "cell_type": "code",
   "execution_count": 29,
   "metadata": {
    "collapsed": false,
    "scrolled": true
   },
   "outputs": [
    {
     "data": {
      "text/html": [
       "<div>\n",
       "<style>\n",
       "    .dataframe thead tr:only-child th {\n",
       "        text-align: right;\n",
       "    }\n",
       "\n",
       "    .dataframe thead th {\n",
       "        text-align: left;\n",
       "    }\n",
       "\n",
       "    .dataframe tbody tr th {\n",
       "        vertical-align: top;\n",
       "    }\n",
       "</style>\n",
       "<table border=\"1\" class=\"dataframe\">\n",
       "  <thead>\n",
       "    <tr style=\"text-align: right;\">\n",
       "      <th></th>\n",
       "      <th>TransactionID</th>\n",
       "      <th># of SKUs</th>\n",
       "      <th>Total Sales</th>\n",
       "      <th>Total Count</th>\n",
       "    </tr>\n",
       "  </thead>\n",
       "  <tbody>\n",
       "    <tr>\n",
       "      <th>188984</th>\n",
       "      <td>12-7681-00002-00002</td>\n",
       "      <td>132</td>\n",
       "      <td>1011399.000</td>\n",
       "      <td>150.000</td>\n",
       "    </tr>\n",
       "  </tbody>\n",
       "</table>\n",
       "</div>"
      ],
      "text/plain": [
       "              TransactionID  # of SKUs  Total Sales  Total Count\n",
       "188984  12-7681-00002-00002        132  1011399.000      150.000"
      ]
     },
     "execution_count": 29,
     "metadata": {},
     "output_type": "execute_result"
    }
   ],
   "source": [
    "df3[df3['Total Sales']==1011399]"
   ]
  },
  {
   "cell_type": "code",
   "execution_count": 30,
   "metadata": {
    "collapsed": false
   },
   "outputs": [
    {
     "data": {
      "text/html": [
       "<div>\n",
       "<style>\n",
       "    .dataframe thead tr:only-child th {\n",
       "        text-align: right;\n",
       "    }\n",
       "\n",
       "    .dataframe thead th {\n",
       "        text-align: left;\n",
       "    }\n",
       "\n",
       "    .dataframe tbody tr th {\n",
       "        vertical-align: top;\n",
       "    }\n",
       "</style>\n",
       "<table border=\"1\" class=\"dataframe\">\n",
       "  <thead>\n",
       "    <tr style=\"text-align: right;\">\n",
       "      <th></th>\n",
       "      <th>TransactionID</th>\n",
       "      <th># of SKUs</th>\n",
       "      <th>Total Sales</th>\n",
       "      <th>Total Count</th>\n",
       "    </tr>\n",
       "  </thead>\n",
       "  <tbody>\n",
       "    <tr>\n",
       "      <th>185051</th>\n",
       "      <td>12-7465-00017-00101</td>\n",
       "      <td>1</td>\n",
       "      <td>36000.000</td>\n",
       "      <td>600.000</td>\n",
       "    </tr>\n",
       "  </tbody>\n",
       "</table>\n",
       "</div>"
      ],
      "text/plain": [
       "              TransactionID  # of SKUs  Total Sales  Total Count\n",
       "185051  12-7465-00017-00101          1    36000.000      600.000"
      ]
     },
     "execution_count": 30,
     "metadata": {},
     "output_type": "execute_result"
    }
   ],
   "source": [
    "df3[df3['Total Count']==600]"
   ]
  },
  {
   "cell_type": "markdown",
   "metadata": {},
   "source": [
    "##### Distribution of Transactions Acorss Number of SKUs in Each Transaction"
   ]
  },
  {
   "cell_type": "code",
   "execution_count": 85,
   "metadata": {
    "collapsed": false
   },
   "outputs": [],
   "source": [
    "q = '''\n",
    "    select\n",
    "        Number_of_SKUs, count(distinct TransactionID) as Number_of_Transactions\n",
    "    from\n",
    "        df3\n",
    "    group by\n",
    "        Number_of_SKUs\n",
    "    '''\n",
    "df3_1 = pysqldf(q)"
   ]
  },
  {
   "cell_type": "code",
   "execution_count": 86,
   "metadata": {
    "collapsed": false
   },
   "outputs": [
    {
     "data": {
      "text/html": [
       "<div>\n",
       "<style>\n",
       "    .dataframe thead tr:only-child th {\n",
       "        text-align: right;\n",
       "    }\n",
       "\n",
       "    .dataframe thead th {\n",
       "        text-align: left;\n",
       "    }\n",
       "\n",
       "    .dataframe tbody tr th {\n",
       "        vertical-align: top;\n",
       "    }\n",
       "</style>\n",
       "<table border=\"1\" class=\"dataframe\">\n",
       "  <thead>\n",
       "    <tr style=\"text-align: right;\">\n",
       "      <th></th>\n",
       "      <th>Number_of_SKUs</th>\n",
       "      <th>Number_of_Transactions</th>\n",
       "    </tr>\n",
       "  </thead>\n",
       "  <tbody>\n",
       "    <tr>\n",
       "      <th>0</th>\n",
       "      <td>1</td>\n",
       "      <td>69795</td>\n",
       "    </tr>\n",
       "    <tr>\n",
       "      <th>1</th>\n",
       "      <td>2</td>\n",
       "      <td>32736</td>\n",
       "    </tr>\n",
       "    <tr>\n",
       "      <th>2</th>\n",
       "      <td>3</td>\n",
       "      <td>21875</td>\n",
       "    </tr>\n",
       "    <tr>\n",
       "      <th>3</th>\n",
       "      <td>4</td>\n",
       "      <td>16501</td>\n",
       "    </tr>\n",
       "    <tr>\n",
       "      <th>4</th>\n",
       "      <td>5</td>\n",
       "      <td>12963</td>\n",
       "    </tr>\n",
       "  </tbody>\n",
       "</table>\n",
       "</div>"
      ],
      "text/plain": [
       "   Number_of_SKUs  Number_of_Transactions\n",
       "0               1                   69795\n",
       "1               2                   32736\n",
       "2               3                   21875\n",
       "3               4                   16501\n",
       "4               5                   12963"
      ]
     },
     "execution_count": 86,
     "metadata": {},
     "output_type": "execute_result"
    }
   ],
   "source": [
    "df3_1.head()"
   ]
  },
  {
   "cell_type": "code",
   "execution_count": 87,
   "metadata": {
    "collapsed": false
   },
   "outputs": [
    {
     "data": {
      "text/plain": [
       "(53, 2)"
      ]
     },
     "execution_count": 87,
     "metadata": {},
     "output_type": "execute_result"
    }
   ],
   "source": [
    "df3_1.shape"
   ]
  },
  {
   "cell_type": "code",
   "execution_count": 92,
   "metadata": {
    "collapsed": false
   },
   "outputs": [
    {
     "data": {
      "text/plain": [
       "<matplotlib.text.Text at 0x11cf92b90>"
      ]
     },
     "execution_count": 92,
     "metadata": {},
     "output_type": "execute_result"
    },
    {
     "data": {
      "image/png": "[encoded data removed]",
      "text/plain": [
       "<matplotlib.figure.Figure at 0x158c59310>"
      ]
     },
     "metadata": {},
     "output_type": "display_data"
    }
   ],
   "source": [
    "plt.figure(figsize=(12,6))\n",
    "ax = sns.barplot(x='Number_of_SKUs',y='Number_of_Transactions',data=df3_1)\n",
    "plt.ylabel('Number of Transactions')\n",
    "#plt.ylim(0,15000)\n",
    "plt.title('Distribution of Transactions Acorss Number of SKUs in Each Transaction')\n",
    "#plt.tick_params(axis='x',bottom='off',labelbottom='off')"
   ]
  },
  {
   "cell_type": "markdown",
   "metadata": {},
   "source": [
    "Avearge number of unique SKUs in each transaction is 3.6. We can see from the plot, most of transactions concentrate on number of SKUs range from 1-10."
   ]
  },
  {
   "cell_type": "code",
   "execution_count": null,
   "metadata": {
    "collapsed": true
   },
   "outputs": [],
   "source": []
  },
  {
   "cell_type": "code",
   "execution_count": null,
   "metadata": {
    "collapsed": true
   },
   "outputs": [],
   "source": []
  },
  {
   "cell_type": "code",
   "execution_count": null,
   "metadata": {
    "collapsed": true
   },
   "outputs": [],
   "source": []
  }
 ],
 "metadata": {
  "anaconda-cloud": {},
  "kernelspec": {
   "display_name": "Python [conda root]",
   "language": "python",
   "name": "conda-root-py"
  },
  "language_info": {
   "codemirror_mode": {
    "name": "ipython",
    "version": 2
   },
   "file_extension": ".py",
   "mimetype": "text/x-python",
   "name": "python",
   "nbconvert_exporter": "python",
   "pygments_lexer": "ipython2",
   "version": "2.7.13"
  }
 },
 "nbformat": 4,
 "nbformat_minor": 1
}
