{
 "cells": [
  {
   "cell_type": "code",
   "execution_count": 1,
   "metadata": {
    "collapsed": true
   },
   "outputs": [],
   "source": [
    "import pandas as pd\n",
    "data_type = pd.read_csv('data_type.csv')"
   ]
  },
  {
   "cell_type": "code",
   "execution_count": 2,
   "metadata": {
    "collapsed": true
   },
   "outputs": [],
   "source": [
    "data_type.fillna('',inplace=True)"
   ]
  },
  {
   "cell_type": "markdown",
   "metadata": {},
   "source": [
    "<br>"
   ]
  },
  {
   "cell_type": "markdown",
   "metadata": {},
   "source": [
    "### Filter Out the Regular Returns and Regular Returns' Credit Back\n",
    "I think it makes more sense to filter out the regular returns, as it will deem the analysis inaccurate, e.g. when you look at the increased sale of a discounted item, but that item is returned within the same transaction. It will look like the discount did not drive any sales, as the ultimate sale will be 0, unless you are looking only at the purchase entry for the discounted item while filtering out the return entry for this item.\n"
   ]
  },
  {
   "cell_type": "code",
   "execution_count": 103,
   "metadata": {
    "collapsed": false
   },
   "outputs": [],
   "source": [
    "data_type = data_type[(data_type.Type!='Regular_Return')&(data_type.Type!='CreditBack_RegularReturn')]"
   ]
  },
  {
   "cell_type": "markdown",
   "metadata": {},
   "source": [
    "<br>"
   ]
  },
  {
   "cell_type": "markdown",
   "metadata": {},
   "source": [
    "### Explore Each Feature Separetely"
   ]
  },
  {
   "cell_type": "code",
   "execution_count": 104,
   "metadata": {
    "collapsed": false
   },
   "outputs": [
    {
     "data": {
      "text/html": [
       "<div>\n",
       "<style>\n",
       "    .dataframe thead tr:only-child th {\n",
       "        text-align: right;\n",
       "    }\n",
       "\n",
       "    .dataframe thead th {\n",
       "        text-align: left;\n",
       "    }\n",
       "\n",
       "    .dataframe tbody tr th {\n",
       "        vertical-align: top;\n",
       "    }\n",
       "</style>\n",
       "<table border=\"1\" class=\"dataframe\">\n",
       "  <thead>\n",
       "    <tr style=\"text-align: right;\">\n",
       "      <th></th>\n",
       "      <th>StoreID</th>\n",
       "      <th>TransactionID</th>\n",
       "      <th>Line</th>\n",
       "      <th>Sales</th>\n",
       "      <th>Count</th>\n",
       "      <th>Date</th>\n",
       "      <th>SKU</th>\n",
       "      <th>Type</th>\n",
       "    </tr>\n",
       "  </thead>\n",
       "  <tbody>\n",
       "    <tr>\n",
       "      <th>0</th>\n",
       "      <td>A29</td>\n",
       "      <td>11-7270-00007-00057</td>\n",
       "      <td>36</td>\n",
       "      <td>850.000</td>\n",
       "      <td>1.000</td>\n",
       "      <td>3/11/12 00:00</td>\n",
       "      <td>A21773</td>\n",
       "      <td></td>\n",
       "    </tr>\n",
       "    <tr>\n",
       "      <th>1</th>\n",
       "      <td>A29</td>\n",
       "      <td>11-7270-00007-00057</td>\n",
       "      <td>39</td>\n",
       "      <td>1500.000</td>\n",
       "      <td>1.000</td>\n",
       "      <td>3/11/12 00:00</td>\n",
       "      <td>A18009</td>\n",
       "      <td></td>\n",
       "    </tr>\n",
       "    <tr>\n",
       "      <th>2</th>\n",
       "      <td>A29</td>\n",
       "      <td>11-7270-00007-00057</td>\n",
       "      <td>40</td>\n",
       "      <td>1500.000</td>\n",
       "      <td>1.000</td>\n",
       "      <td>3/11/12 00:00</td>\n",
       "      <td>A25592</td>\n",
       "      <td></td>\n",
       "    </tr>\n",
       "    <tr>\n",
       "      <th>3</th>\n",
       "      <td>A29</td>\n",
       "      <td>11-7270-00007-00057</td>\n",
       "      <td>41</td>\n",
       "      <td>1600.000</td>\n",
       "      <td>1.000</td>\n",
       "      <td>3/11/12 00:00</td>\n",
       "      <td>A1449</td>\n",
       "      <td></td>\n",
       "    </tr>\n",
       "    <tr>\n",
       "      <th>4</th>\n",
       "      <td>A29</td>\n",
       "      <td>11-7270-00007-00057</td>\n",
       "      <td>42</td>\n",
       "      <td>1600.000</td>\n",
       "      <td>1.000</td>\n",
       "      <td>3/11/12 00:00</td>\n",
       "      <td>A1449</td>\n",
       "      <td></td>\n",
       "    </tr>\n",
       "  </tbody>\n",
       "</table>\n",
       "</div>"
      ],
      "text/plain": [
       "  StoreID        TransactionID  Line    Sales  Count           Date     SKU  \\\n",
       "0     A29  11-7270-00007-00057    36  850.000  1.000  3/11/12 00:00  A21773   \n",
       "1     A29  11-7270-00007-00057    39 1500.000  1.000  3/11/12 00:00  A18009   \n",
       "2     A29  11-7270-00007-00057    40 1500.000  1.000  3/11/12 00:00  A25592   \n",
       "3     A29  11-7270-00007-00057    41 1600.000  1.000  3/11/12 00:00   A1449   \n",
       "4     A29  11-7270-00007-00057    42 1600.000  1.000  3/11/12 00:00   A1449   \n",
       "\n",
       "  Type  \n",
       "0       \n",
       "1       \n",
       "2       \n",
       "3       \n",
       "4       "
      ]
     },
     "execution_count": 104,
     "metadata": {},
     "output_type": "execute_result"
    }
   ],
   "source": [
    "data_type.head()"
   ]
  },
  {
   "cell_type": "code",
   "execution_count": 209,
   "metadata": {
    "collapsed": false
   },
   "outputs": [
    {
     "name": "stdout",
     "output_type": "stream",
     "text": [
      "Shape of dataset: (1035563, 8)\n",
      "Number of unique stores: 73\n",
      "Number of unique transactions: 192963\n",
      "Number of unique dates: 2\n",
      "Number of unique SKUs: 15179\n"
     ]
    }
   ],
   "source": [
    "print 'Shape of dataset: {0}'.format(data_type.shape)\n",
    "print 'Number of unique stores: {0}'.format(len(data_type.StoreID.unique()))\n",
    "print 'Number of unique transactions: {0}'.format(len(data_type.TransactionID.unique()))\n",
    "print 'Number of unique dates: {0}'.format(len(data_type.Date.unique()))\n",
    "print 'Number of unique SKUs: {0}'.format(len(data_type.SKU.unique()))"
   ]
  },
  {
   "cell_type": "code",
   "execution_count": 106,
   "metadata": {
    "collapsed": false
   },
   "outputs": [
    {
     "data": {
      "text/html": [
       "<div>\n",
       "<style>\n",
       "    .dataframe thead tr:only-child th {\n",
       "        text-align: right;\n",
       "    }\n",
       "\n",
       "    .dataframe thead th {\n",
       "        text-align: left;\n",
       "    }\n",
       "\n",
       "    .dataframe tbody tr th {\n",
       "        vertical-align: top;\n",
       "    }\n",
       "</style>\n",
       "<table border=\"1\" class=\"dataframe\">\n",
       "  <thead>\n",
       "    <tr style=\"text-align: right;\">\n",
       "      <th></th>\n",
       "      <th>Line</th>\n",
       "      <th>Sales</th>\n",
       "      <th>Count</th>\n",
       "    </tr>\n",
       "  </thead>\n",
       "  <tbody>\n",
       "    <tr>\n",
       "      <th>count</th>\n",
       "      <td>1035563.000</td>\n",
       "      <td>1035563.000</td>\n",
       "      <td>1035563.000</td>\n",
       "    </tr>\n",
       "    <tr>\n",
       "      <th>mean</th>\n",
       "      <td>10.774</td>\n",
       "      <td>1796.663</td>\n",
       "      <td>0.919</td>\n",
       "    </tr>\n",
       "    <tr>\n",
       "      <th>std</th>\n",
       "      <td>15.532</td>\n",
       "      <td>3470.922</td>\n",
       "      <td>1.086</td>\n",
       "    </tr>\n",
       "    <tr>\n",
       "      <th>min</th>\n",
       "      <td>1.000</td>\n",
       "      <td>-72233.000</td>\n",
       "      <td>0.000</td>\n",
       "    </tr>\n",
       "    <tr>\n",
       "      <th>25%</th>\n",
       "      <td>3.000</td>\n",
       "      <td>450.000</td>\n",
       "      <td>1.000</td>\n",
       "    </tr>\n",
       "    <tr>\n",
       "      <th>50%</th>\n",
       "      <td>7.000</td>\n",
       "      <td>1300.000</td>\n",
       "      <td>1.000</td>\n",
       "    </tr>\n",
       "    <tr>\n",
       "      <th>75%</th>\n",
       "      <td>14.000</td>\n",
       "      <td>2195.000</td>\n",
       "      <td>1.000</td>\n",
       "    </tr>\n",
       "    <tr>\n",
       "      <th>max</th>\n",
       "      <td>823.000</td>\n",
       "      <td>99995.000</td>\n",
       "      <td>120.000</td>\n",
       "    </tr>\n",
       "  </tbody>\n",
       "</table>\n",
       "</div>"
      ],
      "text/plain": [
       "             Line       Sales       Count\n",
       "count 1035563.000 1035563.000 1035563.000\n",
       "mean       10.774    1796.663       0.919\n",
       "std        15.532    3470.922       1.086\n",
       "min         1.000  -72233.000       0.000\n",
       "25%         3.000     450.000       1.000\n",
       "50%         7.000    1300.000       1.000\n",
       "75%        14.000    2195.000       1.000\n",
       "max       823.000   99995.000     120.000"
      ]
     },
     "execution_count": 106,
     "metadata": {},
     "output_type": "execute_result"
    }
   ],
   "source": [
    "pd.set_option('display.float_format', lambda x: '%.3f' % x)\n",
    "data_type.describe()"
   ]
  },
  {
   "cell_type": "markdown",
   "metadata": {},
   "source": [
    "- The records are organized on a SKU level by each transaction within each store, for each day.\n",
    "- In each row, on average, the count will be 1 and sales will be $1800"
   ]
  },
  {
   "cell_type": "markdown",
   "metadata": {},
   "source": [
    "<br>"
   ]
  },
  {
   "cell_type": "markdown",
   "metadata": {},
   "source": [
    "### Total Sales and Total Count on Store Level"
   ]
  },
  {
   "cell_type": "code",
   "execution_count": 107,
   "metadata": {
    "collapsed": true
   },
   "outputs": [],
   "source": [
    "from pandasql import sqldf\n",
    "pysqldf = lambda q: sqldf(q, globals())"
   ]
  },
  {
   "cell_type": "code",
   "execution_count": 108,
   "metadata": {
    "collapsed": false
   },
   "outputs": [],
   "source": [
    "q = '''\n",
    "    select\n",
    "        StoreID, count(distinct TransactionID) as '# of transactions', count(distinct SKU) as '# of SKUs',\n",
    "        sum(Sales) as 'Total Sales', sum(Count) as 'Total Count', sum(Sales)/count(distinct TransactionID) as 'Average Sales per Basket'\n",
    "    from\n",
    "        data_type\n",
    "    group by\n",
    "        StoreID\n",
    "    '''\n",
    "df1 = pysqldf(q)"
   ]
  },
  {
   "cell_type": "code",
   "execution_count": 109,
   "metadata": {
    "collapsed": false
   },
   "outputs": [
    {
     "data": {
      "text/html": [
       "<div>\n",
       "<style>\n",
       "    .dataframe thead tr:only-child th {\n",
       "        text-align: right;\n",
       "    }\n",
       "\n",
       "    .dataframe thead th {\n",
       "        text-align: left;\n",
       "    }\n",
       "\n",
       "    .dataframe tbody tr th {\n",
       "        vertical-align: top;\n",
       "    }\n",
       "</style>\n",
       "<table border=\"1\" class=\"dataframe\">\n",
       "  <thead>\n",
       "    <tr style=\"text-align: right;\">\n",
       "      <th></th>\n",
       "      <th>StoreID</th>\n",
       "      <th># of transactions</th>\n",
       "      <th># of SKUs</th>\n",
       "      <th>Total Sales</th>\n",
       "      <th>Total Count</th>\n",
       "      <th>Average Sales per Basket</th>\n",
       "    </tr>\n",
       "  </thead>\n",
       "  <tbody>\n",
       "    <tr>\n",
       "      <th>0</th>\n",
       "      <td>A01</td>\n",
       "      <td>3442</td>\n",
       "      <td>2538</td>\n",
       "      <td>24136923.000</td>\n",
       "      <td>14537.000</td>\n",
       "      <td>7012.470</td>\n",
       "    </tr>\n",
       "    <tr>\n",
       "      <th>1</th>\n",
       "      <td>A02</td>\n",
       "      <td>1727</td>\n",
       "      <td>2402</td>\n",
       "      <td>20069356.998</td>\n",
       "      <td>8670.000</td>\n",
       "      <td>11620.936</td>\n",
       "    </tr>\n",
       "    <tr>\n",
       "      <th>2</th>\n",
       "      <td>A03</td>\n",
       "      <td>1759</td>\n",
       "      <td>2301</td>\n",
       "      <td>19175184.347</td>\n",
       "      <td>9067.000</td>\n",
       "      <td>10901.185</td>\n",
       "    </tr>\n",
       "    <tr>\n",
       "      <th>3</th>\n",
       "      <td>A05</td>\n",
       "      <td>2497</td>\n",
       "      <td>3018</td>\n",
       "      <td>24465311.295</td>\n",
       "      <td>12349.000</td>\n",
       "      <td>9797.882</td>\n",
       "    </tr>\n",
       "    <tr>\n",
       "      <th>4</th>\n",
       "      <td>A06</td>\n",
       "      <td>3513</td>\n",
       "      <td>2968</td>\n",
       "      <td>24951906.000</td>\n",
       "      <td>13152.000</td>\n",
       "      <td>7102.734</td>\n",
       "    </tr>\n",
       "  </tbody>\n",
       "</table>\n",
       "</div>"
      ],
      "text/plain": [
       "  StoreID  # of transactions  # of SKUs  Total Sales  Total Count  \\\n",
       "0     A01               3442       2538 24136923.000    14537.000   \n",
       "1     A02               1727       2402 20069356.998     8670.000   \n",
       "2     A03               1759       2301 19175184.347     9067.000   \n",
       "3     A05               2497       3018 24465311.295    12349.000   \n",
       "4     A06               3513       2968 24951906.000    13152.000   \n",
       "\n",
       "   Average Sales per Basket  \n",
       "0                  7012.470  \n",
       "1                 11620.936  \n",
       "2                 10901.185  \n",
       "3                  9797.882  \n",
       "4                  7102.734  "
      ]
     },
     "execution_count": 109,
     "metadata": {},
     "output_type": "execute_result"
    }
   ],
   "source": [
    "df1.head()"
   ]
  },
  {
   "cell_type": "markdown",
   "metadata": {},
   "source": [
    "#### Description"
   ]
  },
  {
   "cell_type": "code",
   "execution_count": 110,
   "metadata": {
    "collapsed": false
   },
   "outputs": [
    {
     "data": {
      "text/html": [
       "<div>\n",
       "<style>\n",
       "    .dataframe thead tr:only-child th {\n",
       "        text-align: right;\n",
       "    }\n",
       "\n",
       "    .dataframe thead th {\n",
       "        text-align: left;\n",
       "    }\n",
       "\n",
       "    .dataframe tbody tr th {\n",
       "        vertical-align: top;\n",
       "    }\n",
       "</style>\n",
       "<table border=\"1\" class=\"dataframe\">\n",
       "  <thead>\n",
       "    <tr style=\"text-align: right;\">\n",
       "      <th></th>\n",
       "      <th># of transactions</th>\n",
       "      <th># of SKUs</th>\n",
       "      <th>Total Sales</th>\n",
       "      <th>Total Count</th>\n",
       "      <th>Average Sales per Basket</th>\n",
       "    </tr>\n",
       "  </thead>\n",
       "  <tbody>\n",
       "    <tr>\n",
       "      <th>count</th>\n",
       "      <td>73.000</td>\n",
       "      <td>73.000</td>\n",
       "      <td>73.000</td>\n",
       "      <td>73.000</td>\n",
       "      <td>73.000</td>\n",
       "    </tr>\n",
       "    <tr>\n",
       "      <th>mean</th>\n",
       "      <td>2643.329</td>\n",
       "      <td>2706.740</td>\n",
       "      <td>25487098.144</td>\n",
       "      <td>13035.397</td>\n",
       "      <td>9611.200</td>\n",
       "    </tr>\n",
       "    <tr>\n",
       "      <th>std</th>\n",
       "      <td>1156.019</td>\n",
       "      <td>806.736</td>\n",
       "      <td>11648972.356</td>\n",
       "      <td>6067.218</td>\n",
       "      <td>1891.669</td>\n",
       "    </tr>\n",
       "    <tr>\n",
       "      <th>min</th>\n",
       "      <td>84.000</td>\n",
       "      <td>22.000</td>\n",
       "      <td>355744.000</td>\n",
       "      <td>852.000</td>\n",
       "      <td>4235.048</td>\n",
       "    </tr>\n",
       "    <tr>\n",
       "      <th>25%</th>\n",
       "      <td>1759.000</td>\n",
       "      <td>2333.000</td>\n",
       "      <td>18743020.494</td>\n",
       "      <td>9067.000</td>\n",
       "      <td>8305.528</td>\n",
       "    </tr>\n",
       "    <tr>\n",
       "      <th>50%</th>\n",
       "      <td>2582.000</td>\n",
       "      <td>2754.000</td>\n",
       "      <td>24136923.000</td>\n",
       "      <td>12349.000</td>\n",
       "      <td>9797.882</td>\n",
       "    </tr>\n",
       "    <tr>\n",
       "      <th>75%</th>\n",
       "      <td>3440.000</td>\n",
       "      <td>3152.000</td>\n",
       "      <td>30911769.542</td>\n",
       "      <td>15718.000</td>\n",
       "      <td>11134.852</td>\n",
       "    </tr>\n",
       "    <tr>\n",
       "      <th>max</th>\n",
       "      <td>5978.000</td>\n",
       "      <td>4794.000</td>\n",
       "      <td>66352915.892</td>\n",
       "      <td>35470.000</td>\n",
       "      <td>13402.327</td>\n",
       "    </tr>\n",
       "  </tbody>\n",
       "</table>\n",
       "</div>"
      ],
      "text/plain": [
       "       # of transactions  # of SKUs  Total Sales  Total Count  \\\n",
       "count             73.000     73.000       73.000       73.000   \n",
       "mean            2643.329   2706.740 25487098.144    13035.397   \n",
       "std             1156.019    806.736 11648972.356     6067.218   \n",
       "min               84.000     22.000   355744.000      852.000   \n",
       "25%             1759.000   2333.000 18743020.494     9067.000   \n",
       "50%             2582.000   2754.000 24136923.000    12349.000   \n",
       "75%             3440.000   3152.000 30911769.542    15718.000   \n",
       "max             5978.000   4794.000 66352915.892    35470.000   \n",
       "\n",
       "       Average Sales per Basket  \n",
       "count                    73.000  \n",
       "mean                   9611.200  \n",
       "std                    1891.669  \n",
       "min                    4235.048  \n",
       "25%                    8305.528  \n",
       "50%                    9797.882  \n",
       "75%                   11134.852  \n",
       "max                   13402.327  "
      ]
     },
     "execution_count": 110,
     "metadata": {},
     "output_type": "execute_result"
    }
   ],
   "source": [
    "df1.describe()"
   ]
  },
  {
   "cell_type": "markdown",
   "metadata": {},
   "source": [
    "For each store, on average, there are 2600 transactions and 2700 unique SKUs will be sold. The average sales per basket is $9600."
   ]
  },
  {
   "cell_type": "markdown",
   "metadata": {},
   "source": [
    "#### Distribution of SKUs across different stores"
   ]
  },
  {
   "cell_type": "code",
   "execution_count": 40,
   "metadata": {
    "collapsed": false
   },
   "outputs": [
    {
     "data": {
      "image/png": "[encoded data removed]",
      "text/plain": [
       "<matplotlib.figure.Figure at 0x11d066e10>"
      ]
     },
     "metadata": {},
     "output_type": "display_data"
    }
   ],
   "source": [
    "import seaborn as sns\n",
    "import matplotlib.pyplot as plt\n",
    "%matplotlib inline\n",
    "\n",
    "plt.figure(figsize=(10,6))\n",
    "ax = sns.barplot(x='StoreID',y='# of SKUs',data=df1)\n",
    "plt.ylabel('# of SKUs')\n",
    "plt.ylim(0,5000)\n",
    "plt.title('Distribution of SKUs across different stores')\n",
    "plt.tick_params(axis='x',bottom='off',labelbottom='off')\n"
   ]
  },
  {
   "cell_type": "markdown",
   "metadata": {},
   "source": [
    "#### Average Sales per Basket on Store Level"
   ]
  },
  {
   "cell_type": "code",
   "execution_count": 51,
   "metadata": {
    "collapsed": false
   },
   "outputs": [
    {
     "data": {
      "image/png": "[encoded data removed]",
      "text/plain": [
       "<matplotlib.figure.Figure at 0x10eeade50>"
      ]
     },
     "metadata": {},
     "output_type": "display_data"
    }
   ],
   "source": [
    "plt.figure(figsize=(12,6))\n",
    "ax = sns.barplot(x='StoreID',y='Average Sales per Basket',data=df1)\n",
    "plt.ylabel('Average Sales per Basket')\n",
    "plt.ylim(0,15000)\n",
    "plt.title('Average Sales per Basket on Store Level')\n",
    "plt.tick_params(axis='x',bottom='off',labelbottom='off')"
   ]
  },
  {
   "cell_type": "markdown",
   "metadata": {},
   "source": [
    "#### Explore Stores where a small number of unique SKUs are sold"
   ]
  },
  {
   "cell_type": "code",
   "execution_count": 112,
   "metadata": {
    "collapsed": false,
    "scrolled": true
   },
   "outputs": [
    {
     "data": {
      "text/html": [
       "<div>\n",
       "<style>\n",
       "    .dataframe thead tr:only-child th {\n",
       "        text-align: right;\n",
       "    }\n",
       "\n",
       "    .dataframe thead th {\n",
       "        text-align: left;\n",
       "    }\n",
       "\n",
       "    .dataframe tbody tr th {\n",
       "        vertical-align: top;\n",
       "    }\n",
       "</style>\n",
       "<table border=\"1\" class=\"dataframe\">\n",
       "  <thead>\n",
       "    <tr style=\"text-align: right;\">\n",
       "      <th></th>\n",
       "      <th>StoreID</th>\n",
       "      <th># of transactions</th>\n",
       "      <th># of SKUs</th>\n",
       "      <th>Total Sales</th>\n",
       "      <th>Total Count</th>\n",
       "      <th>Average Sales per Basket</th>\n",
       "    </tr>\n",
       "  </thead>\n",
       "  <tbody>\n",
       "    <tr>\n",
       "      <th>70</th>\n",
       "      <td>A85</td>\n",
       "      <td>182</td>\n",
       "      <td>38</td>\n",
       "      <td>828255.000</td>\n",
       "      <td>1695.000</td>\n",
       "      <td>4550.852</td>\n",
       "    </tr>\n",
       "    <tr>\n",
       "      <th>71</th>\n",
       "      <td>A97</td>\n",
       "      <td>84</td>\n",
       "      <td>22</td>\n",
       "      <td>355744.000</td>\n",
       "      <td>852.000</td>\n",
       "      <td>4235.048</td>\n",
       "    </tr>\n",
       "  </tbody>\n",
       "</table>\n",
       "</div>"
      ],
      "text/plain": [
       "   StoreID  # of transactions  # of SKUs  Total Sales  Total Count  \\\n",
       "70     A85                182         38   828255.000     1695.000   \n",
       "71     A97                 84         22   355744.000      852.000   \n",
       "\n",
       "    Average Sales per Basket  \n",
       "70                  4550.852  \n",
       "71                  4235.048  "
      ]
     },
     "execution_count": 112,
     "metadata": {},
     "output_type": "execute_result"
    }
   ],
   "source": [
    "df1[df1['# of SKUs']<1000]"
   ]
  },
  {
   "cell_type": "markdown",
   "metadata": {},
   "source": [
    " Normally, in each store, it will sell 2500 unique SKUs on average and average sales per basket should around \\$10000. But for store A85 and A97, it only sold 38 and 22 unique SKUs, and average sales per basket is around \\$4500. We need investigaete these two stores and find out what happened."
   ]
  },
  {
   "cell_type": "code",
   "execution_count": 175,
   "metadata": {
    "collapsed": false
   },
   "outputs": [],
   "source": [
    "q='''\n",
    "  select\n",
    "      SKU, sum(Sales) as Total_Sales, sum(Count) as Total_Count, count(distinct TransactionID) as Number_of_Transactions\n",
    "  from\n",
    "      data_type\n",
    "  where\n",
    "      StoreID='A85'\n",
    "  group by\n",
    "      SKU\n",
    "'''\n",
    "df1_1=pysqldf(q)"
   ]
  },
  {
   "cell_type": "code",
   "execution_count": 176,
   "metadata": {
    "collapsed": false
   },
   "outputs": [
    {
     "data": {
      "text/html": [
       "<div>\n",
       "<style>\n",
       "    .dataframe thead tr:only-child th {\n",
       "        text-align: right;\n",
       "    }\n",
       "\n",
       "    .dataframe thead th {\n",
       "        text-align: left;\n",
       "    }\n",
       "\n",
       "    .dataframe tbody tr th {\n",
       "        vertical-align: top;\n",
       "    }\n",
       "</style>\n",
       "<table border=\"1\" class=\"dataframe\">\n",
       "  <thead>\n",
       "    <tr style=\"text-align: right;\">\n",
       "      <th></th>\n",
       "      <th>SKU</th>\n",
       "      <th>Total_Sales</th>\n",
       "      <th>Total_Count</th>\n",
       "      <th>Number_of_Transactions</th>\n",
       "    </tr>\n",
       "  </thead>\n",
       "  <tbody>\n",
       "    <tr>\n",
       "      <th>0</th>\n",
       "      <td>A10644</td>\n",
       "      <td>115500.000</td>\n",
       "      <td>77.000</td>\n",
       "      <td>66</td>\n",
       "    </tr>\n",
       "    <tr>\n",
       "      <th>1</th>\n",
       "      <td>A10809</td>\n",
       "      <td>509100.000</td>\n",
       "      <td>1449.000</td>\n",
       "      <td>129</td>\n",
       "    </tr>\n",
       "    <tr>\n",
       "      <th>2</th>\n",
       "      <td>A1092</td>\n",
       "      <td>4911.000</td>\n",
       "      <td>4.000</td>\n",
       "      <td>3</td>\n",
       "    </tr>\n",
       "    <tr>\n",
       "      <th>3</th>\n",
       "      <td>A11172</td>\n",
       "      <td>3900.000</td>\n",
       "      <td>2.000</td>\n",
       "      <td>2</td>\n",
       "    </tr>\n",
       "    <tr>\n",
       "      <th>4</th>\n",
       "      <td>A11431</td>\n",
       "      <td>2628.000</td>\n",
       "      <td>2.000</td>\n",
       "      <td>2</td>\n",
       "    </tr>\n",
       "  </tbody>\n",
       "</table>\n",
       "</div>"
      ],
      "text/plain": [
       "      SKU  Total_Sales  Total_Count  Number_of_Transactions\n",
       "0  A10644   115500.000       77.000                      66\n",
       "1  A10809   509100.000     1449.000                     129\n",
       "2   A1092     4911.000        4.000                       3\n",
       "3  A11172     3900.000        2.000                       2\n",
       "4  A11431     2628.000        2.000                       2"
      ]
     },
     "execution_count": 176,
     "metadata": {},
     "output_type": "execute_result"
    }
   ],
   "source": [
    "df1_1.head()"
   ]
  },
  {
   "cell_type": "markdown",
   "metadata": {},
   "source": [
    "For store A85, most of sales come from SKU A10644 and SKU A10809."
   ]
  },
  {
   "cell_type": "code",
   "execution_count": 179,
   "metadata": {
    "collapsed": false
   },
   "outputs": [
    {
     "data": {
      "text/html": [
       "<div>\n",
       "<style>\n",
       "    .dataframe thead tr:only-child th {\n",
       "        text-align: right;\n",
       "    }\n",
       "\n",
       "    .dataframe thead th {\n",
       "        text-align: left;\n",
       "    }\n",
       "\n",
       "    .dataframe tbody tr th {\n",
       "        vertical-align: top;\n",
       "    }\n",
       "</style>\n",
       "<table border=\"1\" class=\"dataframe\">\n",
       "  <thead>\n",
       "    <tr style=\"text-align: right;\">\n",
       "      <th></th>\n",
       "      <th>SKU</th>\n",
       "      <th>Number_of_Stores</th>\n",
       "      <th># of transactions</th>\n",
       "      <th>Total Sales</th>\n",
       "      <th>Total Count</th>\n",
       "      <th>Unit Price</th>\n",
       "      <th>Average Sales per Basket For Specific SKU</th>\n",
       "    </tr>\n",
       "  </thead>\n",
       "  <tbody>\n",
       "    <tr>\n",
       "      <th>409</th>\n",
       "      <td>A10644</td>\n",
       "      <td>55</td>\n",
       "      <td>574</td>\n",
       "      <td>1159500.000</td>\n",
       "      <td>773.000</td>\n",
       "      <td>1500.000</td>\n",
       "      <td>2020.035</td>\n",
       "    </tr>\n",
       "    <tr>\n",
       "      <th>515</th>\n",
       "      <td>A10809</td>\n",
       "      <td>66</td>\n",
       "      <td>2905</td>\n",
       "      <td>12688050.000</td>\n",
       "      <td>35904.000</td>\n",
       "      <td>353.388</td>\n",
       "      <td>4367.659</td>\n",
       "    </tr>\n",
       "  </tbody>\n",
       "</table>\n",
       "</div>"
      ],
      "text/plain": [
       "        SKU  Number_of_Stores  # of transactions  Total Sales  Total Count  \\\n",
       "409  A10644                55                574  1159500.000      773.000   \n",
       "515  A10809                66               2905 12688050.000    35904.000   \n",
       "\n",
       "     Unit Price  Average Sales per Basket For Specific SKU  \n",
       "409    1500.000                                   2020.035  \n",
       "515     353.388                                   4367.659  "
      ]
     },
     "execution_count": 179,
     "metadata": {},
     "output_type": "execute_result"
    }
   ],
   "source": [
    "df2[(df2.SKU=='A10809')|(df2.SKU=='A10644')]"
   ]
  },
  {
   "cell_type": "markdown",
   "metadata": {},
   "source": [
    "A10644 are sold across 55 stores and A10809 are sold across 66 stores, meaning that they are pretty popular among people."
   ]
  },
  {
   "cell_type": "markdown",
   "metadata": {},
   "source": [
    "<br><br>"
   ]
  },
  {
   "cell_type": "markdown",
   "metadata": {},
   "source": [
    "### Total Sales and Total Count on SKU Level"
   ]
  },
  {
   "cell_type": "code",
   "execution_count": 188,
   "metadata": {
    "collapsed": true
   },
   "outputs": [],
   "source": [
    "q = '''\n",
    "    select\n",
    "        SKU, count(distinct StoreID) as 'Number_of_Stores', count(distinct TransactionID) as '# of transactions',\n",
    "        sum(Sales) as 'Total Sales', sum(Count) as 'Total Count', sum(Sales)/sum(Count) as 'Average Price per Unit',\n",
    "        sum(Sales)/count(distinct TransactionID) as 'Average Sales per Basket For Specific SKU'\n",
    "    from\n",
    "        data_type\n",
    "    group by\n",
    "        SKU\n",
    "    '''\n",
    "df2 = pysqldf(q)"
   ]
  },
  {
   "cell_type": "code",
   "execution_count": 189,
   "metadata": {
    "collapsed": false
   },
   "outputs": [
    {
     "data": {
      "text/html": [
       "<div>\n",
       "<style>\n",
       "    .dataframe thead tr:only-child th {\n",
       "        text-align: right;\n",
       "    }\n",
       "\n",
       "    .dataframe thead th {\n",
       "        text-align: left;\n",
       "    }\n",
       "\n",
       "    .dataframe tbody tr th {\n",
       "        vertical-align: top;\n",
       "    }\n",
       "</style>\n",
       "<table border=\"1\" class=\"dataframe\">\n",
       "  <thead>\n",
       "    <tr style=\"text-align: right;\">\n",
       "      <th></th>\n",
       "      <th>SKU</th>\n",
       "      <th>Number_of_Stores</th>\n",
       "      <th># of transactions</th>\n",
       "      <th>Total Sales</th>\n",
       "      <th>Total Count</th>\n",
       "      <th>Average Price per Unit</th>\n",
       "      <th>Average Sales per Basket For Specific SKU</th>\n",
       "    </tr>\n",
       "  </thead>\n",
       "  <tbody>\n",
       "    <tr>\n",
       "      <th>0</th>\n",
       "      <td>A1</td>\n",
       "      <td>26</td>\n",
       "      <td>68</td>\n",
       "      <td>94682.000</td>\n",
       "      <td>78.000</td>\n",
       "      <td>1213.872</td>\n",
       "      <td>1392.382</td>\n",
       "    </tr>\n",
       "    <tr>\n",
       "      <th>1</th>\n",
       "      <td>A10000</td>\n",
       "      <td>1</td>\n",
       "      <td>1</td>\n",
       "      <td>1995.000</td>\n",
       "      <td>1.000</td>\n",
       "      <td>1995.000</td>\n",
       "      <td>1995.000</td>\n",
       "    </tr>\n",
       "    <tr>\n",
       "      <th>2</th>\n",
       "      <td>A10001</td>\n",
       "      <td>1</td>\n",
       "      <td>3</td>\n",
       "      <td>5085.000</td>\n",
       "      <td>3.000</td>\n",
       "      <td>1695.000</td>\n",
       "      <td>1695.000</td>\n",
       "    </tr>\n",
       "    <tr>\n",
       "      <th>3</th>\n",
       "      <td>A10002</td>\n",
       "      <td>1</td>\n",
       "      <td>1</td>\n",
       "      <td>5000.000</td>\n",
       "      <td>1.000</td>\n",
       "      <td>5000.000</td>\n",
       "      <td>5000.000</td>\n",
       "    </tr>\n",
       "    <tr>\n",
       "      <th>4</th>\n",
       "      <td>A10003</td>\n",
       "      <td>11</td>\n",
       "      <td>21</td>\n",
       "      <td>57925.000</td>\n",
       "      <td>22.000</td>\n",
       "      <td>2632.955</td>\n",
       "      <td>2758.333</td>\n",
       "    </tr>\n",
       "  </tbody>\n",
       "</table>\n",
       "</div>"
      ],
      "text/plain": [
       "      SKU  Number_of_Stores  # of transactions  Total Sales  Total Count  \\\n",
       "0      A1                26                 68    94682.000       78.000   \n",
       "1  A10000                 1                  1     1995.000        1.000   \n",
       "2  A10001                 1                  3     5085.000        3.000   \n",
       "3  A10002                 1                  1     5000.000        1.000   \n",
       "4  A10003                11                 21    57925.000       22.000   \n",
       "\n",
       "   Average Price per Unit  Average Sales per Basket For Specific SKU  \n",
       "0                1213.872                                   1392.382  \n",
       "1                1995.000                                   1995.000  \n",
       "2                1695.000                                   1695.000  \n",
       "3                5000.000                                   5000.000  \n",
       "4                2632.955                                   2758.333  "
      ]
     },
     "execution_count": 189,
     "metadata": {},
     "output_type": "execute_result"
    }
   ],
   "source": [
    "df2.head()"
   ]
  },
  {
   "cell_type": "markdown",
   "metadata": {},
   "source": [
    "#### Description"
   ]
  },
  {
   "cell_type": "code",
   "execution_count": 190,
   "metadata": {
    "collapsed": false,
    "scrolled": false
   },
   "outputs": [
    {
     "data": {
      "text/html": [
       "<div>\n",
       "<style>\n",
       "    .dataframe thead tr:only-child th {\n",
       "        text-align: right;\n",
       "    }\n",
       "\n",
       "    .dataframe thead th {\n",
       "        text-align: left;\n",
       "    }\n",
       "\n",
       "    .dataframe tbody tr th {\n",
       "        vertical-align: top;\n",
       "    }\n",
       "</style>\n",
       "<table border=\"1\" class=\"dataframe\">\n",
       "  <thead>\n",
       "    <tr style=\"text-align: right;\">\n",
       "      <th></th>\n",
       "      <th>Number_of_Stores</th>\n",
       "      <th># of transactions</th>\n",
       "      <th>Total Sales</th>\n",
       "      <th>Total Count</th>\n",
       "      <th>Average Price per Unit</th>\n",
       "      <th>Average Sales per Basket For Specific SKU</th>\n",
       "    </tr>\n",
       "  </thead>\n",
       "  <tbody>\n",
       "    <tr>\n",
       "      <th>count</th>\n",
       "      <td>15179.000</td>\n",
       "      <td>15179.000</td>\n",
       "      <td>15179.000</td>\n",
       "      <td>15179.000</td>\n",
       "      <td>15179.000</td>\n",
       "      <td>15179.000</td>\n",
       "    </tr>\n",
       "    <tr>\n",
       "      <th>mean</th>\n",
       "      <td>13.017</td>\n",
       "      <td>45.379</td>\n",
       "      <td>122574.489</td>\n",
       "      <td>62.691</td>\n",
       "      <td>5700.351</td>\n",
       "      <td>6526.140</td>\n",
       "    </tr>\n",
       "    <tr>\n",
       "      <th>std</th>\n",
       "      <td>17.173</td>\n",
       "      <td>326.368</td>\n",
       "      <td>458896.215</td>\n",
       "      <td>529.021</td>\n",
       "      <td>7878.133</td>\n",
       "      <td>8786.995</td>\n",
       "    </tr>\n",
       "    <tr>\n",
       "      <th>min</th>\n",
       "      <td>1.000</td>\n",
       "      <td>1.000</td>\n",
       "      <td>1.000</td>\n",
       "      <td>1.000</td>\n",
       "      <td>1.000</td>\n",
       "      <td>1.000</td>\n",
       "    </tr>\n",
       "    <tr>\n",
       "      <th>25%</th>\n",
       "      <td>2.000</td>\n",
       "      <td>2.000</td>\n",
       "      <td>9995.000</td>\n",
       "      <td>2.000</td>\n",
       "      <td>1700.000</td>\n",
       "      <td>2060.475</td>\n",
       "    </tr>\n",
       "    <tr>\n",
       "      <th>50%</th>\n",
       "      <td>5.000</td>\n",
       "      <td>6.000</td>\n",
       "      <td>32000.000</td>\n",
       "      <td>7.000</td>\n",
       "      <td>3000.000</td>\n",
       "      <td>3645.354</td>\n",
       "    </tr>\n",
       "    <tr>\n",
       "      <th>75%</th>\n",
       "      <td>18.000</td>\n",
       "      <td>26.000</td>\n",
       "      <td>94731.000</td>\n",
       "      <td>32.500</td>\n",
       "      <td>6895.000</td>\n",
       "      <td>7880.355</td>\n",
       "    </tr>\n",
       "    <tr>\n",
       "      <th>max</th>\n",
       "      <td>73.000</td>\n",
       "      <td>26190.000</td>\n",
       "      <td>19169707.400</td>\n",
       "      <td>35904.000</td>\n",
       "      <td>99995.000</td>\n",
       "      <td>169895.000</td>\n",
       "    </tr>\n",
       "  </tbody>\n",
       "</table>\n",
       "</div>"
      ],
      "text/plain": [
       "       Number_of_Stores  # of transactions  Total Sales  Total Count  \\\n",
       "count         15179.000          15179.000    15179.000    15179.000   \n",
       "mean             13.017             45.379   122574.489       62.691   \n",
       "std              17.173            326.368   458896.215      529.021   \n",
       "min               1.000              1.000        1.000        1.000   \n",
       "25%               2.000              2.000     9995.000        2.000   \n",
       "50%               5.000              6.000    32000.000        7.000   \n",
       "75%              18.000             26.000    94731.000       32.500   \n",
       "max              73.000          26190.000 19169707.400    35904.000   \n",
       "\n",
       "       Average Price per Unit  Average Sales per Basket For Specific SKU  \n",
       "count               15179.000                                  15179.000  \n",
       "mean                 5700.351                                   6526.140  \n",
       "std                  7878.133                                   8786.995  \n",
       "min                     1.000                                      1.000  \n",
       "25%                  1700.000                                   2060.475  \n",
       "50%                  3000.000                                   3645.354  \n",
       "75%                  6895.000                                   7880.355  \n",
       "max                 99995.000                                 169895.000  "
      ]
     },
     "execution_count": 190,
     "metadata": {},
     "output_type": "execute_result"
    }
   ],
   "source": [
    "df2.describe()"
   ]
  },
  {
   "cell_type": "markdown",
   "metadata": {},
   "source": [
    "For specific SKU, on average, it wil be sold across 13 stores and 45 transactions. The average unit price for each SKU is $6500/item."
   ]
  },
  {
   "cell_type": "markdown",
   "metadata": {},
   "source": [
    "#### Some Low-Price But Daily-Use Products"
   ]
  },
  {
   "cell_type": "code",
   "execution_count": 191,
   "metadata": {
    "collapsed": false,
    "scrolled": true
   },
   "outputs": [
    {
     "data": {
      "text/html": [
       "<div>\n",
       "<style>\n",
       "    .dataframe thead tr:only-child th {\n",
       "        text-align: right;\n",
       "    }\n",
       "\n",
       "    .dataframe thead th {\n",
       "        text-align: left;\n",
       "    }\n",
       "\n",
       "    .dataframe tbody tr th {\n",
       "        vertical-align: top;\n",
       "    }\n",
       "</style>\n",
       "<table border=\"1\" class=\"dataframe\">\n",
       "  <thead>\n",
       "    <tr style=\"text-align: right;\">\n",
       "      <th></th>\n",
       "      <th>SKU</th>\n",
       "      <th>Number_of_Stores</th>\n",
       "      <th># of transactions</th>\n",
       "      <th>Total Sales</th>\n",
       "      <th>Total Count</th>\n",
       "      <th>Average Price per Unit</th>\n",
       "      <th>Average Sales per Basket For Specific SKU</th>\n",
       "    </tr>\n",
       "  </thead>\n",
       "  <tbody>\n",
       "    <tr>\n",
       "      <th>7016</th>\n",
       "      <td>A20874</td>\n",
       "      <td>71</td>\n",
       "      <td>5528</td>\n",
       "      <td>4650030.000</td>\n",
       "      <td>9394.000</td>\n",
       "      <td>495.000</td>\n",
       "      <td>841.178</td>\n",
       "    </tr>\n",
       "    <tr>\n",
       "      <th>7604</th>\n",
       "      <td>A21771</td>\n",
       "      <td>64</td>\n",
       "      <td>18411</td>\n",
       "      <td>6812850.000</td>\n",
       "      <td>23658.000</td>\n",
       "      <td>287.972</td>\n",
       "      <td>370.042</td>\n",
       "    </tr>\n",
       "    <tr>\n",
       "      <th>9873</th>\n",
       "      <td>A25312</td>\n",
       "      <td>71</td>\n",
       "      <td>8516</td>\n",
       "      <td>8687450.000</td>\n",
       "      <td>13058.000</td>\n",
       "      <td>665.297</td>\n",
       "      <td>1020.133</td>\n",
       "    </tr>\n",
       "    <tr>\n",
       "      <th>10608</th>\n",
       "      <td>A2854</td>\n",
       "      <td>71</td>\n",
       "      <td>8413</td>\n",
       "      <td>7021800.000</td>\n",
       "      <td>15604.000</td>\n",
       "      <td>450.000</td>\n",
       "      <td>834.637</td>\n",
       "    </tr>\n",
       "    <tr>\n",
       "      <th>11106</th>\n",
       "      <td>A3664</td>\n",
       "      <td>62</td>\n",
       "      <td>26190</td>\n",
       "      <td>7820650.000</td>\n",
       "      <td>31171.000</td>\n",
       "      <td>250.895</td>\n",
       "      <td>298.612</td>\n",
       "    </tr>\n",
       "    <tr>\n",
       "      <th>12491</th>\n",
       "      <td>A5821</td>\n",
       "      <td>73</td>\n",
       "      <td>8187</td>\n",
       "      <td>1897500.000</td>\n",
       "      <td>12650.000</td>\n",
       "      <td>150.000</td>\n",
       "      <td>231.770</td>\n",
       "    </tr>\n",
       "  </tbody>\n",
       "</table>\n",
       "</div>"
      ],
      "text/plain": [
       "          SKU  Number_of_Stores  # of transactions  Total Sales  Total Count  \\\n",
       "7016   A20874                71               5528  4650030.000     9394.000   \n",
       "7604   A21771                64              18411  6812850.000    23658.000   \n",
       "9873   A25312                71               8516  8687450.000    13058.000   \n",
       "10608   A2854                71               8413  7021800.000    15604.000   \n",
       "11106   A3664                62              26190  7820650.000    31171.000   \n",
       "12491   A5821                73               8187  1897500.000    12650.000   \n",
       "\n",
       "       Average Price per Unit  Average Sales per Basket For Specific SKU  \n",
       "7016                  495.000                                    841.178  \n",
       "7604                  287.972                                    370.042  \n",
       "9873                  665.297                                   1020.133  \n",
       "10608                 450.000                                    834.637  \n",
       "11106                 250.895                                    298.612  \n",
       "12491                 150.000                                    231.770  "
      ]
     },
     "execution_count": 191,
     "metadata": {},
     "output_type": "execute_result"
    }
   ],
   "source": [
    "df2[df2['# of transactions']>5000]"
   ]
  },
  {
   "cell_type": "markdown",
   "metadata": {},
   "source": [
    "The specific product will be sold in 45 transactions across 13 stores on average. But some SKUs are pretty popular, they are sold in over 5000 transactions across over 60 stores. Their total sales are high and their average price per unit are low (median of average price per unit is $3000), meaning that they are some **low-price but daily-use products**."
   ]
  },
  {
   "cell_type": "markdown",
   "metadata": {},
   "source": [
    "#### How many SKUs are sold by certian number of stores?"
   ]
  },
  {
   "cell_type": "code",
   "execution_count": 192,
   "metadata": {
    "collapsed": false
   },
   "outputs": [],
   "source": [
    "q = '''\n",
    "    select\n",
    "        Number_of_Stores, count(distinct SKU) as Number_of_SKUs\n",
    "    from\n",
    "        df2\n",
    "    group by\n",
    "        Number_of_Stores\n",
    "    '''\n",
    "df2_1 = pysqldf(q)"
   ]
  },
  {
   "cell_type": "code",
   "execution_count": 193,
   "metadata": {
    "collapsed": false
   },
   "outputs": [
    {
     "data": {
      "text/html": [
       "<div>\n",
       "<style>\n",
       "    .dataframe thead tr:only-child th {\n",
       "        text-align: right;\n",
       "    }\n",
       "\n",
       "    .dataframe thead th {\n",
       "        text-align: left;\n",
       "    }\n",
       "\n",
       "    .dataframe tbody tr th {\n",
       "        vertical-align: top;\n",
       "    }\n",
       "</style>\n",
       "<table border=\"1\" class=\"dataframe\">\n",
       "  <thead>\n",
       "    <tr style=\"text-align: right;\">\n",
       "      <th></th>\n",
       "      <th>Number_of_Stores</th>\n",
       "      <th>Number_of_SKUs</th>\n",
       "    </tr>\n",
       "  </thead>\n",
       "  <tbody>\n",
       "    <tr>\n",
       "      <th>0</th>\n",
       "      <td>1</td>\n",
       "      <td>3702</td>\n",
       "    </tr>\n",
       "    <tr>\n",
       "      <th>1</th>\n",
       "      <td>2</td>\n",
       "      <td>1804</td>\n",
       "    </tr>\n",
       "    <tr>\n",
       "      <th>2</th>\n",
       "      <td>3</td>\n",
       "      <td>1171</td>\n",
       "    </tr>\n",
       "    <tr>\n",
       "      <th>3</th>\n",
       "      <td>4</td>\n",
       "      <td>841</td>\n",
       "    </tr>\n",
       "    <tr>\n",
       "      <th>4</th>\n",
       "      <td>5</td>\n",
       "      <td>617</td>\n",
       "    </tr>\n",
       "  </tbody>\n",
       "</table>\n",
       "</div>"
      ],
      "text/plain": [
       "   Number_of_Stores  Number_of_SKUs\n",
       "0                 1            3702\n",
       "1                 2            1804\n",
       "2                 3            1171\n",
       "3                 4             841\n",
       "4                 5             617"
      ]
     },
     "execution_count": 193,
     "metadata": {},
     "output_type": "execute_result"
    }
   ],
   "source": [
    "df2_1.head()"
   ]
  },
  {
   "cell_type": "code",
   "execution_count": 158,
   "metadata": {
    "collapsed": false
   },
   "outputs": [
    {
     "data": {
      "text/plain": [
       "(73, 2)"
      ]
     },
     "execution_count": 158,
     "metadata": {},
     "output_type": "execute_result"
    }
   ],
   "source": [
    "df2_1.shape"
   ]
  },
  {
   "cell_type": "code",
   "execution_count": 161,
   "metadata": {
    "collapsed": false
   },
   "outputs": [
    {
     "data": {
      "text/plain": [
       "<matplotlib.text.Text at 0x11f6fca90>"
      ]
     },
     "execution_count": 161,
     "metadata": {},
     "output_type": "execute_result"
    },
    {
     "data": {
      "image/png": "[encoded data removed]",
      "text/plain": [
       "<matplotlib.figure.Figure at 0x11f65f510>"
      ]
     },
     "metadata": {},
     "output_type": "display_data"
    }
   ],
   "source": [
    "plt.figure(figsize=(12,6))\n",
    "ax = sns.barplot(x='Number_of_Stores',y='Number_of_SKUs',data=df2_1[:15])\n",
    "plt.ylabel('Number of SKUs')\n",
    "#plt.ylim(0,15000)\n",
    "plt.title('How many SKUs are sold by certian number of stores?')\n",
    "#plt.tick_params(axis='x',bottom='off',labelbottom='off')"
   ]
  },
  {
   "cell_type": "markdown",
   "metadata": {},
   "source": [
    "#### On SKU level: Number of Stores With Discounted Items VS Number of Stores Without Discounted Items"
   ]
  },
  {
   "cell_type": "code",
   "execution_count": 194,
   "metadata": {
    "collapsed": true
   },
   "outputs": [],
   "source": [
    "q='''\n",
    "   select\n",
    "       SKU, count(distinct StoreID) as Number_of_Stores\n",
    "   from\n",
    "       data_type\n",
    "   group by \n",
    "       SKU\n",
    "'''\n",
    "df2_2=pysqldf(q)"
   ]
  },
  {
   "cell_type": "code",
   "execution_count": 195,
   "metadata": {
    "collapsed": true
   },
   "outputs": [],
   "source": [
    "q='''\n",
    "   select\n",
    "       SKU, count(distinct StoreID) as Number_of_Stores_With_Discounted_Items\n",
    "   from\n",
    "       data_type\n",
    "   where \n",
    "       Count=0\n",
    "   group by \n",
    "       SKU\n",
    "'''\n",
    "df2_3=pysqldf(q)"
   ]
  },
  {
   "cell_type": "code",
   "execution_count": 196,
   "metadata": {
    "collapsed": true
   },
   "outputs": [],
   "source": [
    "q='''\n",
    "   select\n",
    "       a.SKU, b.Number_of_Stores_With_Discounted_Items, a.Number_of_Stores-b.Number_of_Stores_With_Discounted_Items as Number_of_Stores_Without_Discounted_Items \n",
    "   from\n",
    "       df2_2 a\n",
    "   join \n",
    "       df2_3 b\n",
    "   on \n",
    "       a.SKU=b.SKU\n",
    "'''\n",
    "df2_3=pysqldf(q)"
   ]
  },
  {
   "cell_type": "code",
   "execution_count": 197,
   "metadata": {
    "collapsed": false
   },
   "outputs": [
    {
     "data": {
      "text/html": [
       "<div>\n",
       "<style>\n",
       "    .dataframe thead tr:only-child th {\n",
       "        text-align: right;\n",
       "    }\n",
       "\n",
       "    .dataframe thead th {\n",
       "        text-align: left;\n",
       "    }\n",
       "\n",
       "    .dataframe tbody tr th {\n",
       "        vertical-align: top;\n",
       "    }\n",
       "</style>\n",
       "<table border=\"1\" class=\"dataframe\">\n",
       "  <thead>\n",
       "    <tr style=\"text-align: right;\">\n",
       "      <th></th>\n",
       "      <th>SKU</th>\n",
       "      <th>Number_of_Stores_With_Discounted_Items</th>\n",
       "      <th>Number_of_Stores_Without_Discounted_Items</th>\n",
       "    </tr>\n",
       "  </thead>\n",
       "  <tbody>\n",
       "    <tr>\n",
       "      <th>0</th>\n",
       "      <td>A1</td>\n",
       "      <td>8</td>\n",
       "      <td>18</td>\n",
       "    </tr>\n",
       "    <tr>\n",
       "      <th>1</th>\n",
       "      <td>A10004</td>\n",
       "      <td>1</td>\n",
       "      <td>45</td>\n",
       "    </tr>\n",
       "    <tr>\n",
       "      <th>2</th>\n",
       "      <td>A10022</td>\n",
       "      <td>3</td>\n",
       "      <td>2</td>\n",
       "    </tr>\n",
       "    <tr>\n",
       "      <th>3</th>\n",
       "      <td>A10045</td>\n",
       "      <td>12</td>\n",
       "      <td>13</td>\n",
       "    </tr>\n",
       "    <tr>\n",
       "      <th>4</th>\n",
       "      <td>A10048</td>\n",
       "      <td>4</td>\n",
       "      <td>58</td>\n",
       "    </tr>\n",
       "  </tbody>\n",
       "</table>\n",
       "</div>"
      ],
      "text/plain": [
       "      SKU  Number_of_Stores_With_Discounted_Items  \\\n",
       "0      A1                                       8   \n",
       "1  A10004                                       1   \n",
       "2  A10022                                       3   \n",
       "3  A10045                                      12   \n",
       "4  A10048                                       4   \n",
       "\n",
       "   Number_of_Stores_Without_Discounted_Items  \n",
       "0                                         18  \n",
       "1                                         45  \n",
       "2                                          2  \n",
       "3                                         13  \n",
       "4                                         58  "
      ]
     },
     "execution_count": 197,
     "metadata": {},
     "output_type": "execute_result"
    }
   ],
   "source": [
    "df2_3.head()"
   ]
  },
  {
   "cell_type": "code",
   "execution_count": 198,
   "metadata": {
    "collapsed": false,
    "scrolled": true
   },
   "outputs": [
    {
     "data": {
      "text/html": [
       "<div>\n",
       "<style>\n",
       "    .dataframe thead tr:only-child th {\n",
       "        text-align: right;\n",
       "    }\n",
       "\n",
       "    .dataframe thead th {\n",
       "        text-align: left;\n",
       "    }\n",
       "\n",
       "    .dataframe tbody tr th {\n",
       "        vertical-align: top;\n",
       "    }\n",
       "</style>\n",
       "<table border=\"1\" class=\"dataframe\">\n",
       "  <thead>\n",
       "    <tr style=\"text-align: right;\">\n",
       "      <th></th>\n",
       "      <th>Number_of_Stores_With_Discounted_Items</th>\n",
       "      <th>Number_of_Stores_Without_Discounted_Items</th>\n",
       "    </tr>\n",
       "  </thead>\n",
       "  <tbody>\n",
       "    <tr>\n",
       "      <th>count</th>\n",
       "      <td>3297.000</td>\n",
       "      <td>3297.000</td>\n",
       "    </tr>\n",
       "    <tr>\n",
       "      <th>mean</th>\n",
       "      <td>11.621</td>\n",
       "      <td>12.000</td>\n",
       "    </tr>\n",
       "    <tr>\n",
       "      <th>std</th>\n",
       "      <td>15.571</td>\n",
       "      <td>15.038</td>\n",
       "    </tr>\n",
       "    <tr>\n",
       "      <th>min</th>\n",
       "      <td>1.000</td>\n",
       "      <td>0.000</td>\n",
       "    </tr>\n",
       "    <tr>\n",
       "      <th>25%</th>\n",
       "      <td>1.000</td>\n",
       "      <td>2.000</td>\n",
       "    </tr>\n",
       "    <tr>\n",
       "      <th>50%</th>\n",
       "      <td>4.000</td>\n",
       "      <td>6.000</td>\n",
       "    </tr>\n",
       "    <tr>\n",
       "      <th>75%</th>\n",
       "      <td>16.000</td>\n",
       "      <td>16.000</td>\n",
       "    </tr>\n",
       "    <tr>\n",
       "      <th>max</th>\n",
       "      <td>71.000</td>\n",
       "      <td>70.000</td>\n",
       "    </tr>\n",
       "  </tbody>\n",
       "</table>\n",
       "</div>"
      ],
      "text/plain": [
       "       Number_of_Stores_With_Discounted_Items  \\\n",
       "count                                3297.000   \n",
       "mean                                   11.621   \n",
       "std                                    15.571   \n",
       "min                                     1.000   \n",
       "25%                                     1.000   \n",
       "50%                                     4.000   \n",
       "75%                                    16.000   \n",
       "max                                    71.000   \n",
       "\n",
       "       Number_of_Stores_Without_Discounted_Items  \n",
       "count                                   3297.000  \n",
       "mean                                      12.000  \n",
       "std                                       15.038  \n",
       "min                                        0.000  \n",
       "25%                                        2.000  \n",
       "50%                                        6.000  \n",
       "75%                                       16.000  \n",
       "max                                       70.000  "
      ]
     },
     "execution_count": 198,
     "metadata": {},
     "output_type": "execute_result"
    }
   ],
   "source": [
    "df2_3.describe()"
   ]
  },
  {
   "cell_type": "markdown",
   "metadata": {},
   "source": [
    "On average, 12 stores will implement promotion strategies for certian SKU."
   ]
  },
  {
   "cell_type": "markdown",
   "metadata": {},
   "source": [
    "#### Should we treat Unit Price with $99900/item as an outlier?"
   ]
  },
  {
   "cell_type": "code",
   "execution_count": 200,
   "metadata": {
    "collapsed": false
   },
   "outputs": [
    {
     "data": {
      "text/html": [
       "<div>\n",
       "<style>\n",
       "    .dataframe thead tr:only-child th {\n",
       "        text-align: right;\n",
       "    }\n",
       "\n",
       "    .dataframe thead th {\n",
       "        text-align: left;\n",
       "    }\n",
       "\n",
       "    .dataframe tbody tr th {\n",
       "        vertical-align: top;\n",
       "    }\n",
       "</style>\n",
       "<table border=\"1\" class=\"dataframe\">\n",
       "  <thead>\n",
       "    <tr style=\"text-align: right;\">\n",
       "      <th></th>\n",
       "      <th>SKU</th>\n",
       "      <th>Number_of_Stores</th>\n",
       "      <th># of transactions</th>\n",
       "      <th>Total Sales</th>\n",
       "      <th>Total Count</th>\n",
       "      <th>Average Price per Unit</th>\n",
       "      <th>Average Sales per Basket For Specific SKU</th>\n",
       "    </tr>\n",
       "  </thead>\n",
       "  <tbody>\n",
       "    <tr>\n",
       "      <th>204</th>\n",
       "      <td>A10327</td>\n",
       "      <td>5</td>\n",
       "      <td>6</td>\n",
       "      <td>949000.000</td>\n",
       "      <td>10.000</td>\n",
       "      <td>94900.000</td>\n",
       "      <td>158166.667</td>\n",
       "    </tr>\n",
       "    <tr>\n",
       "      <th>1385</th>\n",
       "      <td>A12135</td>\n",
       "      <td>1</td>\n",
       "      <td>1</td>\n",
       "      <td>94900.000</td>\n",
       "      <td>1.000</td>\n",
       "      <td>94900.000</td>\n",
       "      <td>94900.000</td>\n",
       "    </tr>\n",
       "    <tr>\n",
       "      <th>5939</th>\n",
       "      <td>A19236</td>\n",
       "      <td>1</td>\n",
       "      <td>1</td>\n",
       "      <td>99900.000</td>\n",
       "      <td>1.000</td>\n",
       "      <td>99900.000</td>\n",
       "      <td>99900.000</td>\n",
       "    </tr>\n",
       "    <tr>\n",
       "      <th>6137</th>\n",
       "      <td>A19551</td>\n",
       "      <td>1</td>\n",
       "      <td>1</td>\n",
       "      <td>99995.000</td>\n",
       "      <td>1.000</td>\n",
       "      <td>99995.000</td>\n",
       "      <td>99995.000</td>\n",
       "    </tr>\n",
       "    <tr>\n",
       "      <th>7261</th>\n",
       "      <td>A21236</td>\n",
       "      <td>1</td>\n",
       "      <td>1</td>\n",
       "      <td>99900.000</td>\n",
       "      <td>1.000</td>\n",
       "      <td>99900.000</td>\n",
       "      <td>99900.000</td>\n",
       "    </tr>\n",
       "    <tr>\n",
       "      <th>7292</th>\n",
       "      <td>A21288</td>\n",
       "      <td>7</td>\n",
       "      <td>8</td>\n",
       "      <td>799200.000</td>\n",
       "      <td>8.000</td>\n",
       "      <td>99900.000</td>\n",
       "      <td>99900.000</td>\n",
       "    </tr>\n",
       "    <tr>\n",
       "      <th>11989</th>\n",
       "      <td>A5067</td>\n",
       "      <td>4</td>\n",
       "      <td>5</td>\n",
       "      <td>499500.000</td>\n",
       "      <td>5.000</td>\n",
       "      <td>99900.000</td>\n",
       "      <td>99900.000</td>\n",
       "    </tr>\n",
       "    <tr>\n",
       "      <th>13519</th>\n",
       "      <td>A7414</td>\n",
       "      <td>27</td>\n",
       "      <td>29</td>\n",
       "      <td>2997000.000</td>\n",
       "      <td>30.000</td>\n",
       "      <td>99900.000</td>\n",
       "      <td>103344.828</td>\n",
       "    </tr>\n",
       "  </tbody>\n",
       "</table>\n",
       "</div>"
      ],
      "text/plain": [
       "          SKU  Number_of_Stores  # of transactions  Total Sales  Total Count  \\\n",
       "204    A10327                 5                  6   949000.000       10.000   \n",
       "1385   A12135                 1                  1    94900.000        1.000   \n",
       "5939   A19236                 1                  1    99900.000        1.000   \n",
       "6137   A19551                 1                  1    99995.000        1.000   \n",
       "7261   A21236                 1                  1    99900.000        1.000   \n",
       "7292   A21288                 7                  8   799200.000        8.000   \n",
       "11989   A5067                 4                  5   499500.000        5.000   \n",
       "13519   A7414                27                 29  2997000.000       30.000   \n",
       "\n",
       "       Average Price per Unit  Average Sales per Basket For Specific SKU  \n",
       "204                 94900.000                                 158166.667  \n",
       "1385                94900.000                                  94900.000  \n",
       "5939                99900.000                                  99900.000  \n",
       "6137                99995.000                                  99995.000  \n",
       "7261                99900.000                                  99900.000  \n",
       "7292                99900.000                                  99900.000  \n",
       "11989               99900.000                                  99900.000  \n",
       "13519               99900.000                                 103344.828  "
      ]
     },
     "execution_count": 200,
     "metadata": {},
     "output_type": "execute_result"
    }
   ],
   "source": [
    "df2[df2['Average Price per Unit']>90000]"
   ]
  },
  {
   "cell_type": "markdown",
   "metadata": {},
   "source": [
    "We can see there are several SKUs whose average price per unit is around $99900/item.\n",
    "\n",
    "The reason of us not treating them as an outlier is because we don't have the information needed to make that decision, and since they are actual sales data, for the purpose of this analysis, we just assume they are valid until there is a reason that tells us they are not."
   ]
  },
  {
   "cell_type": "markdown",
   "metadata": {},
   "source": [
    "<br><br>"
   ]
  },
  {
   "cell_type": "markdown",
   "metadata": {},
   "source": [
    "### Total Sales and Total Count on Transaction Level"
   ]
  },
  {
   "cell_type": "code",
   "execution_count": 201,
   "metadata": {
    "collapsed": true
   },
   "outputs": [],
   "source": [
    "q = '''\n",
    "    select\n",
    "        TransactionID, count(distinct SKU) as Number_of_SKUs,\n",
    "        sum(Sales) as 'Total Sales', sum(Count) as 'Total Count', sum(Sales)/sum(Count) as 'Average Price per Unit'\n",
    "    from\n",
    "        data_type\n",
    "    group by\n",
    "        TransactionID\n",
    "    '''\n",
    "df3 = pysqldf(q)"
   ]
  },
  {
   "cell_type": "code",
   "execution_count": 202,
   "metadata": {
    "collapsed": false
   },
   "outputs": [
    {
     "data": {
      "text/html": [
       "<div>\n",
       "<style>\n",
       "    .dataframe thead tr:only-child th {\n",
       "        text-align: right;\n",
       "    }\n",
       "\n",
       "    .dataframe thead th {\n",
       "        text-align: left;\n",
       "    }\n",
       "\n",
       "    .dataframe tbody tr th {\n",
       "        vertical-align: top;\n",
       "    }\n",
       "</style>\n",
       "<table border=\"1\" class=\"dataframe\">\n",
       "  <thead>\n",
       "    <tr style=\"text-align: right;\">\n",
       "      <th></th>\n",
       "      <th>TransactionID</th>\n",
       "      <th>Number_of_SKUs</th>\n",
       "      <th>Total Sales</th>\n",
       "      <th>Total Count</th>\n",
       "      <th>Average Price per Unit</th>\n",
       "    </tr>\n",
       "  </thead>\n",
       "  <tbody>\n",
       "    <tr>\n",
       "      <th>0</th>\n",
       "      <td>11-0160-00019-00003</td>\n",
       "      <td>1</td>\n",
       "      <td>3500.000</td>\n",
       "      <td>10.000</td>\n",
       "      <td>350.000</td>\n",
       "    </tr>\n",
       "    <tr>\n",
       "      <th>1</th>\n",
       "      <td>11-0160-00019-00007</td>\n",
       "      <td>2</td>\n",
       "      <td>5000.000</td>\n",
       "      <td>15.000</td>\n",
       "      <td>333.333</td>\n",
       "    </tr>\n",
       "    <tr>\n",
       "      <th>2</th>\n",
       "      <td>11-0160-00019-00008</td>\n",
       "      <td>2</td>\n",
       "      <td>5000.000</td>\n",
       "      <td>15.000</td>\n",
       "      <td>333.333</td>\n",
       "    </tr>\n",
       "    <tr>\n",
       "      <th>3</th>\n",
       "      <td>11-0160-00019-00010</td>\n",
       "      <td>2</td>\n",
       "      <td>5000.000</td>\n",
       "      <td>11.000</td>\n",
       "      <td>454.545</td>\n",
       "    </tr>\n",
       "    <tr>\n",
       "      <th>4</th>\n",
       "      <td>11-0160-00019-00011</td>\n",
       "      <td>3</td>\n",
       "      <td>7195.000</td>\n",
       "      <td>16.000</td>\n",
       "      <td>449.688</td>\n",
       "    </tr>\n",
       "  </tbody>\n",
       "</table>\n",
       "</div>"
      ],
      "text/plain": [
       "         TransactionID  Number_of_SKUs  Total Sales  Total Count  \\\n",
       "0  11-0160-00019-00003               1     3500.000       10.000   \n",
       "1  11-0160-00019-00007               2     5000.000       15.000   \n",
       "2  11-0160-00019-00008               2     5000.000       15.000   \n",
       "3  11-0160-00019-00010               2     5000.000       11.000   \n",
       "4  11-0160-00019-00011               3     7195.000       16.000   \n",
       "\n",
       "   Average Price per Unit  \n",
       "0                 350.000  \n",
       "1                 333.333  \n",
       "2                 333.333  \n",
       "3                 454.545  \n",
       "4                 449.688  "
      ]
     },
     "execution_count": 202,
     "metadata": {},
     "output_type": "execute_result"
    }
   ],
   "source": [
    "df3.head()"
   ]
  },
  {
   "cell_type": "markdown",
   "metadata": {},
   "source": [
    "#### Description"
   ]
  },
  {
   "cell_type": "code",
   "execution_count": 203,
   "metadata": {
    "collapsed": false
   },
   "outputs": [
    {
     "data": {
      "text/html": [
       "<div>\n",
       "<style>\n",
       "    .dataframe thead tr:only-child th {\n",
       "        text-align: right;\n",
       "    }\n",
       "\n",
       "    .dataframe thead th {\n",
       "        text-align: left;\n",
       "    }\n",
       "\n",
       "    .dataframe tbody tr th {\n",
       "        vertical-align: top;\n",
       "    }\n",
       "</style>\n",
       "<table border=\"1\" class=\"dataframe\">\n",
       "  <thead>\n",
       "    <tr style=\"text-align: right;\">\n",
       "      <th></th>\n",
       "      <th>Number_of_SKUs</th>\n",
       "      <th>Total Sales</th>\n",
       "      <th>Total Count</th>\n",
       "      <th>Average Price per Unit</th>\n",
       "    </tr>\n",
       "  </thead>\n",
       "  <tbody>\n",
       "    <tr>\n",
       "      <th>count</th>\n",
       "      <td>192963.000</td>\n",
       "      <td>192963.000</td>\n",
       "      <td>192963.000</td>\n",
       "      <td>192963.000</td>\n",
       "    </tr>\n",
       "    <tr>\n",
       "      <th>mean</th>\n",
       "      <td>3.570</td>\n",
       "      <td>9642.046</td>\n",
       "      <td>4.931</td>\n",
       "      <td>2566.671</td>\n",
       "    </tr>\n",
       "    <tr>\n",
       "      <th>std</th>\n",
       "      <td>3.567</td>\n",
       "      <td>12209.137</td>\n",
       "      <td>5.717</td>\n",
       "      <td>4278.149</td>\n",
       "    </tr>\n",
       "    <tr>\n",
       "      <th>min</th>\n",
       "      <td>1.000</td>\n",
       "      <td>0.150</td>\n",
       "      <td>1.000</td>\n",
       "      <td>0.002</td>\n",
       "    </tr>\n",
       "    <tr>\n",
       "      <th>25%</th>\n",
       "      <td>1.000</td>\n",
       "      <td>2500.000</td>\n",
       "      <td>1.000</td>\n",
       "      <td>1032.778</td>\n",
       "    </tr>\n",
       "    <tr>\n",
       "      <th>50%</th>\n",
       "      <td>2.000</td>\n",
       "      <td>5695.000</td>\n",
       "      <td>3.000</td>\n",
       "      <td>1600.000</td>\n",
       "    </tr>\n",
       "    <tr>\n",
       "      <th>75%</th>\n",
       "      <td>5.000</td>\n",
       "      <td>12256.000</td>\n",
       "      <td>6.000</td>\n",
       "      <td>2578.333</td>\n",
       "    </tr>\n",
       "    <tr>\n",
       "      <th>max</th>\n",
       "      <td>251.000</td>\n",
       "      <td>1011399.000</td>\n",
       "      <td>600.000</td>\n",
       "      <td>99900.000</td>\n",
       "    </tr>\n",
       "  </tbody>\n",
       "</table>\n",
       "</div>"
      ],
      "text/plain": [
       "       Number_of_SKUs  Total Sales  Total Count  Average Price per Unit\n",
       "count      192963.000   192963.000   192963.000              192963.000\n",
       "mean            3.570     9642.046        4.931                2566.671\n",
       "std             3.567    12209.137        5.717                4278.149\n",
       "min             1.000        0.150        1.000                   0.002\n",
       "25%             1.000     2500.000        1.000                1032.778\n",
       "50%             2.000     5695.000        3.000                1600.000\n",
       "75%             5.000    12256.000        6.000                2578.333\n",
       "max           251.000  1011399.000      600.000               99900.000"
      ]
     },
     "execution_count": 203,
     "metadata": {},
     "output_type": "execute_result"
    }
   ],
   "source": [
    "df3.describe()"
   ]
  },
  {
   "cell_type": "markdown",
   "metadata": {},
   "source": [
    "Avearge number of unique SKUs in each transaction is 4, average total sales in each transaction is $9600, and average number of items bought in each transaction is 5."
   ]
  },
  {
   "cell_type": "markdown",
   "metadata": {},
   "source": [
    "##### How many transactions have certain number of unqiue SKUs?"
   ]
  },
  {
   "cell_type": "code",
   "execution_count": 205,
   "metadata": {
    "collapsed": false
   },
   "outputs": [],
   "source": [
    "q = '''\n",
    "    select\n",
    "        Number_of_SKUs, count(distinct TransactionID) as Number_of_Transactions\n",
    "    from\n",
    "        df3\n",
    "    group by\n",
    "        Number_of_SKUs\n",
    "    '''\n",
    "df3_1 = pysqldf(q)"
   ]
  },
  {
   "cell_type": "code",
   "execution_count": 206,
   "metadata": {
    "collapsed": false
   },
   "outputs": [
    {
     "data": {
      "text/html": [
       "<div>\n",
       "<style>\n",
       "    .dataframe thead tr:only-child th {\n",
       "        text-align: right;\n",
       "    }\n",
       "\n",
       "    .dataframe thead th {\n",
       "        text-align: left;\n",
       "    }\n",
       "\n",
       "    .dataframe tbody tr th {\n",
       "        vertical-align: top;\n",
       "    }\n",
       "</style>\n",
       "<table border=\"1\" class=\"dataframe\">\n",
       "  <thead>\n",
       "    <tr style=\"text-align: right;\">\n",
       "      <th></th>\n",
       "      <th>Number_of_SKUs</th>\n",
       "      <th>Number_of_Transactions</th>\n",
       "    </tr>\n",
       "  </thead>\n",
       "  <tbody>\n",
       "    <tr>\n",
       "      <th>0</th>\n",
       "      <td>1</td>\n",
       "      <td>69795</td>\n",
       "    </tr>\n",
       "    <tr>\n",
       "      <th>1</th>\n",
       "      <td>2</td>\n",
       "      <td>32736</td>\n",
       "    </tr>\n",
       "    <tr>\n",
       "      <th>2</th>\n",
       "      <td>3</td>\n",
       "      <td>21875</td>\n",
       "    </tr>\n",
       "    <tr>\n",
       "      <th>3</th>\n",
       "      <td>4</td>\n",
       "      <td>16501</td>\n",
       "    </tr>\n",
       "    <tr>\n",
       "      <th>4</th>\n",
       "      <td>5</td>\n",
       "      <td>12963</td>\n",
       "    </tr>\n",
       "  </tbody>\n",
       "</table>\n",
       "</div>"
      ],
      "text/plain": [
       "   Number_of_SKUs  Number_of_Transactions\n",
       "0               1                   69795\n",
       "1               2                   32736\n",
       "2               3                   21875\n",
       "3               4                   16501\n",
       "4               5                   12963"
      ]
     },
     "execution_count": 206,
     "metadata": {},
     "output_type": "execute_result"
    }
   ],
   "source": [
    "df3_1.head()"
   ]
  },
  {
   "cell_type": "code",
   "execution_count": 207,
   "metadata": {
    "collapsed": false
   },
   "outputs": [
    {
     "data": {
      "text/plain": [
       "(53, 2)"
      ]
     },
     "execution_count": 207,
     "metadata": {},
     "output_type": "execute_result"
    }
   ],
   "source": [
    "df3_1.shape"
   ]
  },
  {
   "cell_type": "code",
   "execution_count": 208,
   "metadata": {
    "collapsed": false
   },
   "outputs": [
    {
     "data": {
      "text/plain": [
       "<matplotlib.text.Text at 0x12a522150>"
      ]
     },
     "execution_count": 208,
     "metadata": {},
     "output_type": "execute_result"
    },
    {
     "data": {
      "image/png": "[encoded data removed]",
      "text/plain": [
       "<matplotlib.figure.Figure at 0x11d221c90>"
      ]
     },
     "metadata": {},
     "output_type": "display_data"
    }
   ],
   "source": [
    "plt.figure(figsize=(12,6))\n",
    "ax = sns.barplot(x='Number_of_SKUs',y='Number_of_Transactions',data=df3_1)\n",
    "plt.ylabel('Number of Transactions')\n",
    "#plt.ylim(0,15000)\n",
    "plt.title('How many transactions have certain number of unqiue SKUs?')\n",
    "#plt.tick_params(axis='x',bottom='off',labelbottom='off')"
   ]
  },
  {
   "cell_type": "markdown",
   "metadata": {},
   "source": [
    "Avearge number of unique SKUs in each transaction is 3.6. We can see from the plot, most of transactions concentrate on number of SKUs ranging from 1 to 10."
   ]
  },
  {
   "cell_type": "markdown",
   "metadata": {},
   "source": [
    "#### Transactions With Discounted Items VS Transactions Without Discounted Items"
   ]
  },
  {
   "cell_type": "code",
   "execution_count": 138,
   "metadata": {
    "collapsed": true
   },
   "outputs": [],
   "source": [
    "q='''\n",
    "   select\n",
    "       count(distinct TransactionID) as 'Number of Transactions With Discounted Items'\n",
    "   from\n",
    "       data_type\n",
    "   where \n",
    "       Count=0\n",
    "'''\n",
    "df3_2=pysqldf(q)"
   ]
  },
  {
   "cell_type": "code",
   "execution_count": 141,
   "metadata": {
    "collapsed": false
   },
   "outputs": [
    {
     "data": {
      "text/html": [
       "<div>\n",
       "<style>\n",
       "    .dataframe thead tr:only-child th {\n",
       "        text-align: right;\n",
       "    }\n",
       "\n",
       "    .dataframe thead th {\n",
       "        text-align: left;\n",
       "    }\n",
       "\n",
       "    .dataframe tbody tr th {\n",
       "        vertical-align: top;\n",
       "    }\n",
       "</style>\n",
       "<table border=\"1\" class=\"dataframe\">\n",
       "  <thead>\n",
       "    <tr style=\"text-align: right;\">\n",
       "      <th></th>\n",
       "      <th>Number of Transactions With Discounted Items</th>\n",
       "      <th>Number of Transactions Without Discounted Items</th>\n",
       "    </tr>\n",
       "  </thead>\n",
       "  <tbody>\n",
       "    <tr>\n",
       "      <th>0</th>\n",
       "      <td>61078</td>\n",
       "      <td>131885</td>\n",
       "    </tr>\n",
       "  </tbody>\n",
       "</table>\n",
       "</div>"
      ],
      "text/plain": [
       "   Number of Transactions With Discounted Items  \\\n",
       "0                                         61078   \n",
       "\n",
       "   Number of Transactions Without Discounted Items  \n",
       "0                                           131885  "
      ]
     },
     "execution_count": 141,
     "metadata": {},
     "output_type": "execute_result"
    }
   ],
   "source": [
    "df3_2['Number of Transactions Without Discounted Items'] = len(data_type.TransactionID.unique())- df3_2['Number of Transactions With Discounted Items']\n",
    "\n",
    "df3_2"
   ]
  },
  {
   "cell_type": "code",
   "execution_count": null,
   "metadata": {
    "collapsed": true
   },
   "outputs": [],
   "source": []
  }
 ],
 "metadata": {
  "anaconda-cloud": {},
  "kernelspec": {
   "display_name": "Python [conda root]",
   "language": "python",
   "name": "conda-root-py"
  },
  "language_info": {
   "codemirror_mode": {
    "name": "ipython",
    "version": 2
   },
   "file_extension": ".py",
   "mimetype": "text/x-python",
   "name": "python",
   "nbconvert_exporter": "python",
   "pygments_lexer": "ipython2",
   "version": "2.7.13"
  }
 },
 "nbformat": 4,
 "nbformat_minor": 1
}
